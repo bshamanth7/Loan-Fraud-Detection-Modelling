{
 "cells": [
  {
   "cell_type": "code",
   "execution_count": 1,
   "metadata": {},
   "outputs": [
    {
     "data": {
      "text/html": [
       "<div>\n",
       "<style scoped>\n",
       "    .dataframe tbody tr th:only-of-type {\n",
       "        vertical-align: middle;\n",
       "    }\n",
       "\n",
       "    .dataframe tbody tr th {\n",
       "        vertical-align: top;\n",
       "    }\n",
       "\n",
       "    .dataframe thead th {\n",
       "        text-align: right;\n",
       "    }\n",
       "</style>\n",
       "<table border=\"1\" class=\"dataframe\">\n",
       "  <thead>\n",
       "    <tr style=\"text-align: right;\">\n",
       "      <th></th>\n",
       "      <th>City</th>\n",
       "      <th>State</th>\n",
       "      <th>Zip</th>\n",
       "      <th>Bank</th>\n",
       "      <th>BankState</th>\n",
       "      <th>NAICS</th>\n",
       "      <th>NoEmp</th>\n",
       "      <th>NewExist</th>\n",
       "      <th>CreateJob</th>\n",
       "      <th>RetainedJob</th>\n",
       "      <th>FranchiseCode</th>\n",
       "      <th>UrbanRural</th>\n",
       "      <th>RevLineCr</th>\n",
       "      <th>LowDoc</th>\n",
       "      <th>DisbursementGross</th>\n",
       "      <th>BalanceGross</th>\n",
       "      <th>GrAppv</th>\n",
       "      <th>SBA_Appv</th>\n",
       "      <th>MIS_Status</th>\n",
       "    </tr>\n",
       "  </thead>\n",
       "  <tbody>\n",
       "    <tr>\n",
       "      <th>0</th>\n",
       "      <td>NEW YORK</td>\n",
       "      <td>NY</td>\n",
       "      <td>10003</td>\n",
       "      <td>JPMORGAN CHASE BANK NATL ASSOC</td>\n",
       "      <td>IL</td>\n",
       "      <td>561439</td>\n",
       "      <td>9</td>\n",
       "      <td>1.0</td>\n",
       "      <td>1</td>\n",
       "      <td>9</td>\n",
       "      <td>1</td>\n",
       "      <td>1</td>\n",
       "      <td>0</td>\n",
       "      <td>N</td>\n",
       "      <td>68000.0</td>\n",
       "      <td>0.0</td>\n",
       "      <td>68000.0</td>\n",
       "      <td>34000.0</td>\n",
       "      <td>0</td>\n",
       "    </tr>\n",
       "    <tr>\n",
       "      <th>1</th>\n",
       "      <td>PAWTUCKET</td>\n",
       "      <td>RI</td>\n",
       "      <td>2860</td>\n",
       "      <td>CITIZENS BANK NATL ASSOC</td>\n",
       "      <td>RI</td>\n",
       "      <td>541810</td>\n",
       "      <td>8</td>\n",
       "      <td>1.0</td>\n",
       "      <td>4</td>\n",
       "      <td>12</td>\n",
       "      <td>0</td>\n",
       "      <td>1</td>\n",
       "      <td>N</td>\n",
       "      <td>N</td>\n",
       "      <td>90000.0</td>\n",
       "      <td>0.0</td>\n",
       "      <td>90000.0</td>\n",
       "      <td>45000.0</td>\n",
       "      <td>1</td>\n",
       "    </tr>\n",
       "    <tr>\n",
       "      <th>2</th>\n",
       "      <td>ISSAQUAH</td>\n",
       "      <td>WA</td>\n",
       "      <td>98027</td>\n",
       "      <td>FIRST-CITIZENS BK &amp; TR CO</td>\n",
       "      <td>WA</td>\n",
       "      <td>448210</td>\n",
       "      <td>9</td>\n",
       "      <td>2.0</td>\n",
       "      <td>0</td>\n",
       "      <td>0</td>\n",
       "      <td>1</td>\n",
       "      <td>0</td>\n",
       "      <td>N</td>\n",
       "      <td>N</td>\n",
       "      <td>450000.0</td>\n",
       "      <td>0.0</td>\n",
       "      <td>450000.0</td>\n",
       "      <td>337500.0</td>\n",
       "      <td>0</td>\n",
       "    </tr>\n",
       "    <tr>\n",
       "      <th>3</th>\n",
       "      <td>HURST</td>\n",
       "      <td>TX</td>\n",
       "      <td>76053</td>\n",
       "      <td>WILSHIRE BANK</td>\n",
       "      <td>CA</td>\n",
       "      <td>722213</td>\n",
       "      <td>4</td>\n",
       "      <td>1.0</td>\n",
       "      <td>0</td>\n",
       "      <td>4</td>\n",
       "      <td>1</td>\n",
       "      <td>1</td>\n",
       "      <td>0</td>\n",
       "      <td>N</td>\n",
       "      <td>140000.0</td>\n",
       "      <td>0.0</td>\n",
       "      <td>165000.0</td>\n",
       "      <td>82500.0</td>\n",
       "      <td>0</td>\n",
       "    </tr>\n",
       "    <tr>\n",
       "      <th>4</th>\n",
       "      <td>ALPINE</td>\n",
       "      <td>CA</td>\n",
       "      <td>91901</td>\n",
       "      <td>CALIFORNIA BANK &amp; TRUST</td>\n",
       "      <td>CA</td>\n",
       "      <td>233210</td>\n",
       "      <td>1</td>\n",
       "      <td>1.0</td>\n",
       "      <td>0</td>\n",
       "      <td>1</td>\n",
       "      <td>1</td>\n",
       "      <td>2</td>\n",
       "      <td>Y</td>\n",
       "      <td>N</td>\n",
       "      <td>50000.0</td>\n",
       "      <td>0.0</td>\n",
       "      <td>50000.0</td>\n",
       "      <td>25000.0</td>\n",
       "      <td>0</td>\n",
       "    </tr>\n",
       "  </tbody>\n",
       "</table>\n",
       "</div>"
      ],
      "text/plain": [
       "        City State    Zip                            Bank BankState   NAICS  \\\n",
       "0   NEW YORK    NY  10003  JPMORGAN CHASE BANK NATL ASSOC        IL  561439   \n",
       "1  PAWTUCKET    RI   2860        CITIZENS BANK NATL ASSOC        RI  541810   \n",
       "2   ISSAQUAH    WA  98027       FIRST-CITIZENS BK & TR CO        WA  448210   \n",
       "3      HURST    TX  76053                   WILSHIRE BANK        CA  722213   \n",
       "4     ALPINE    CA  91901         CALIFORNIA BANK & TRUST        CA  233210   \n",
       "\n",
       "   NoEmp  NewExist  CreateJob  RetainedJob  FranchiseCode  UrbanRural  \\\n",
       "0      9       1.0          1            9              1           1   \n",
       "1      8       1.0          4           12              0           1   \n",
       "2      9       2.0          0            0              1           0   \n",
       "3      4       1.0          0            4              1           1   \n",
       "4      1       1.0          0            1              1           2   \n",
       "\n",
       "  RevLineCr LowDoc  DisbursementGross  BalanceGross    GrAppv  SBA_Appv  \\\n",
       "0         0      N            68000.0           0.0   68000.0   34000.0   \n",
       "1         N      N            90000.0           0.0   90000.0   45000.0   \n",
       "2         N      N           450000.0           0.0  450000.0  337500.0   \n",
       "3         0      N           140000.0           0.0  165000.0   82500.0   \n",
       "4         Y      N            50000.0           0.0   50000.0   25000.0   \n",
       "\n",
       "   MIS_Status  \n",
       "0           0  \n",
       "1           1  \n",
       "2           0  \n",
       "3           0  \n",
       "4           0  "
      ]
     },
     "execution_count": 1,
     "metadata": {},
     "output_type": "execute_result"
    }
   ],
   "source": [
    "#imports\n",
    "import pandas as pd\n",
    "data = pd.read_csv('D:/Work/Gre/UTD/Courses/Fall/MIS6341/Softwares/Python/ml-fall-2023/Project2/N/SBA_loans_project_2.csv')\n",
    "data.drop(columns=\"index\",inplace=True)\n",
    "data.head()"
   ]
  },
  {
   "cell_type": "code",
   "execution_count": 2,
   "metadata": {},
   "outputs": [
    {
     "name": "stdout",
     "output_type": "stream",
     "text": [
      "City : ['NEW YORK' 'PAWTUCKET' 'ISSAQUAH' ... 'ST  FRANCIS' 'Stevens point'\n",
      " 'Pylesville']\n",
      "\n",
      "State : ['NY' 'RI' 'WA' 'TX' 'CA' 'NC' 'MN' 'MO' 'FL' 'IA' 'IL' 'DC' 'PA' 'AL'\n",
      " 'MS' 'OH' 'MA' 'NJ' 'ME' 'NV' 'LA' 'MI' 'IN' 'GA' 'UT' 'VA' 'WI' 'TN'\n",
      " 'KS' 'NH' 'CO' 'CT' 'KY' 'AZ' 'ID' 'DE' 'SD' 'AR' 'MD' 'OK' 'SC' 'NM'\n",
      " 'MT' 'NE' 'OR' 'WY' 'AK' 'HI' 'VT' 'ND' 'WV' nan]\n",
      "\n",
      "Zip : [10003  2860 98027 ... 78944 17814 95812]\n",
      "\n",
      "Bank : ['JPMORGAN CHASE BANK NATL ASSOC' 'CITIZENS BANK NATL ASSOC'\n",
      " 'FIRST-CITIZENS BK & TR CO' ... 'TULSA NATIONAL BANCSHARES, INC'\n",
      " 'BEACH PLAZA LLC' 'THE LEADERS BANK']\n",
      "\n",
      "BankState : ['IL' 'RI' 'WA' 'CA' 'NC' 'MN' 'MO' 'OR' 'FL' 'IA' 'SD' 'DC' 'TX' 'PA'\n",
      " 'VA' 'AL' 'OH' 'MS' 'IN' 'MA' 'ME' 'MI' 'DE' 'UT' 'SC' 'NY' 'KS' 'CO'\n",
      " 'LA' 'WI' 'CT' 'AZ' 'AR' 'MD' 'OK' 'NM' 'ID' 'MT' 'NJ' 'KY' 'NE' 'WY'\n",
      " 'GA' 'HI' 'NH' 'VT' 'ND' 'TN' nan 'NV' 'AK' 'WV' 'PR' 'EN' 'GU']\n",
      "\n",
      "NAICS : [561439 541810 448210 ... 922140 221114 333241]\n",
      "\n",
      "NoEmp : [   9    8    4    1    3   25   10    2   12    6   21   15   19    7\n",
      "   70   45   14   57   30   16   13   35    5   17   11   42   33   36\n",
      "    0   65   20   23  175   18   50   34   60   26   80   40   22   24\n",
      "   31  300   55   29   44   76 3030   75   32   28   41  135   52  100\n",
      "   90   51   37  350   46  207   27   64  160   98   92  190   38   47\n",
      "   39   62   85  985  150   48   79   72  387   84   69 9945   49   68\n",
      "  124   43   73  200  140   59  120  174   54   71  101  102   56 5000\n",
      "  142   67  195  185   53  145  435  110  109  115  425  281   58  153\n",
      "   95   63   61  750  133   81   74   83   82  700  111  132  114   93\n",
      "   78  146   89   77  170  250  205  125  130  184   94  105   97   99\n",
      "   86  104  158  220  155  163  247  246  137  106  450  113  151   96\n",
      "  500  116 1000  118  280  141 5149   66  126   88  400  188  108  154\n",
      "  223  325  900  127  189  222  360   91  107  498  131   87  230  421\n",
      "  162  218  515  180  271  138  128  122  386  179  345  129  165  240\n",
      "  117 3400 1644  315  182  134  123  112  275  139  210  232  260  288\n",
      " 6000  245  119  215 1150  600  258  227  261  206  257 1382  270  203\n",
      "  256  499  144  285  161  295 1400  375  608 1010 1500  177 1200  103\n",
      "  173 4000  121 1700  314  340  192  307  147  329  339 1451 8041  226\n",
      " 1003  225  231  254  148  344  191  712  967  149  187  403  152  520\n",
      " 2202  420  299  351 1524  212  136  156  166 7231  323 5921  208  290\n",
      "  202 7538 5812  143  197  213  550  310  305 3900 1112  233  761  241\n",
      "  521  228 3200 2200  317  249 2000  346  243  178  840  167  475  172\n",
      "  248 3000 1515 1800  330  237 1461  214  625  740  186  211 2151  204\n",
      "  255  217 2400 5680  196 1005 7389  306  171 5211  265  168  157  327\n",
      " 1100  427  390 2401  394  236 3100  216  289  458  850  176 1600 8000\n",
      "  169  221  720 2501  760  430  384 1981  253 2725  234  277  510  194\n",
      "  224  263  463  259 9090 3737  268  365  488  283  278  342  332  404\n",
      "  484  423  198 1940  318 3713  530  235  433  273  353 4100  455  304\n",
      "  382  276  267  424  193  640  606  456 3089  164  407  336  362 1706\n",
      "  585  560  252  355  576 4685  308  251  320  396 7212  442  380 3500\n",
      "  385  808 1300  183  376 4005  605  454  312  209  505 9999 1233 1711\n",
      "  181 5947  523  479 7000  279  301  262 3334  358 2300 2100  448  602\n",
      "  713 7941  413  780 4012  635  302 2020  685 2120  575  294  540  238\n",
      "  369  405  313 2510 1900 5555 1020  395 4847  377  525  445 2610  401\n",
      "  354  322 7241 2500 5013  287 3009  242  266  465  688 2700 4658 1073\n",
      " 1340  717  410  229  269 5200  282 9992 1520 1235  274  480  485 1980\n",
      " 1050  296  383  426  408 1920 6501 7216  544  298  368  782  476  324\n",
      " 1629 1550  609  363  680 1542  827 7111  357 1012 2232  800 1101  464\n",
      "  447  735  284 2010  341 5084  828  495  370  538  319 7991 1603 7999\n",
      " 3732 8018 2121  199  535  244 1250 1280 9000  292 1145  293 2520  650\n",
      "  356  159 1030 4800 7007  328 4300 3170  570  660  414  441  429  823\n",
      "  367  348  858]\n",
      "\n",
      "NewExist : [ 1.  2.  0. nan]\n",
      "\n",
      "CreateJob : [   1    4    0   15    3    6    8    9    2   20    7   10   12    5\n",
      "   26   35   30   13   23   11   45   40   65   29   25   16   46   21\n",
      "  458   14   73   70 8800   43  120   38   28   22   49   41   59   33\n",
      "   80   19   17   48   60   50  250   24   18  150   37   57  100   31\n",
      "   44   39   32   79   96   89  118   27   75  451   71  450   85   42\n",
      "   36  456   52  105  135  125  452  200  300   54   63   61   90   34\n",
      "  154   64   47   76   82  171   56  175  256   55  198   58  110  138\n",
      " 3000  264   98  158   69   95  162   68  124   66  119  860   72   92\n",
      "  115   83  168  206   78  116   62  500   53   67   84  255  600   51\n",
      "  400  137  104  130  152  140  454  226   77  453  225   97  270  123\n",
      "  126 3100  240  108  160  102 1530  235   99  189  114   87  106  165\n",
      "  112  179  101   88  141  167  183  131   81  455   94  433  205  136\n",
      " 1618 1100  223  146  457 5199 1000   74 3500  121  409  750  220 1711\n",
      " 5085  148  155  184 1027 2515  186  280 5621 1016  145  310  129  360\n",
      "  386   86  375  169  109  170   93  182  397  195  365  180  128  190\n",
      " 1011  221  103  350  157  174  222  127  149 1150  480  363 2140  214\n",
      "  252  569 2020  320  144  164  153 1118  139  151  163  210]\n",
      "\n",
      "RetainedJob : [   9   12    0    4    1   40   10    2    6    8    5   20   30   13\n",
      "   35   11    3   14   19    7   34   21   23   18   50   22   85   80\n",
      "   60   45   15  330   25   65   33   29   17   16   44   32   31   28\n",
      "   41   27   90   24  207  160   92  190   38   46 8800   26   48   72\n",
      "   84   36   70  200  140  120   54   52   71   53   47  102   55   75\n",
      "  150  142   37   43   64  300  117   42   95   39  281   49   58   96\n",
      "  212  100   63   79   82   57  111   69   62  135  250   61   56  155\n",
      "   78  104  158   67  163  270  350  151  500  116   51  118  275  141\n",
      "  450  126   74   86  223  387   76  498  189   87  130  115   59  145\n",
      "  205  175  125  256  138  105   93  137  164  180  219  139   77  110\n",
      "   68   81  103  210  109  167  230   83   99  162  185  171   91   97\n",
      "  119  304  101   98  107  285  240  257  170   73  165  229  161  149\n",
      "  173  750  113  231  114  168  156  362  967   88  128  122  127   89\n",
      "  220  129  251  404  375   66  203  550  267  177  133  123  263  143\n",
      "   94 3900  182  121 1300  384 2200  254  900  243  112  178  310  226\n",
      "  184  237  515  146  154  192  265  157  327  245  108  400  194  172\n",
      "  169  134  186  153  216  106  152 4441  360  124  259  187  131  202\n",
      "  316  600  472  371  278  342  206  214  484  204  390  318  225 3225\n",
      "  286 1700  428  176  147  497  268  585  312  393  148  280  290  475\n",
      "  235  291  320  369  132 1711  197  523  195  144  448  602  217 3100\n",
      "  302  136  685  540  295  215  366  322  287  315  485  266  610  292\n",
      "  476  208  430  410  247  191 1600  420  325 4000  233  188 5000  355\n",
      "  196  260  274  480  544  298  262  609  363  199  815  277  403  166\n",
      " 7250  720  370  548 3200  911  183  221 1500 1000  675  535  232  236\n",
      "  198  159  255  252  356  394 1111  201 9500  328  297  660  700  317]\n",
      "\n",
      "FranchiseCode : [    1     0 78760 ... 21424 41418 29580]\n",
      "\n",
      "UrbanRural : [1 0 2]\n",
      "\n",
      "RevLineCr : ['0' 'N' 'Y' 'T' nan '1' 'A' '`' '4' 'R' '2' '.' '5' 'C' ',' '-' 'Q' '7'\n",
      " '3']\n",
      "\n",
      "LowDoc : ['N' 'Y' '0' nan 'C' 'A' 'S' 'R' '1']\n",
      "\n",
      "DisbursementGross : [ 68000.  90000. 450000. ... 199123.  67516.  97203.]\n",
      "\n",
      "BalanceGross : [0.00000e+00 4.15090e+04 3.95476e+05 9.11100e+03 8.46170e+04 8.27875e+05\n",
      " 1.27500e+04 9.96262e+05 9.69080e+04 2.50000e+04 1.15820e+05 1.76000e+03\n",
      " 3.71000e+04 6.00000e+02 4.31270e+04]\n",
      "\n",
      "GrAppv : [  68000.   90000.  450000. ... 1853900.   32916.   35224.]\n",
      "\n",
      "SBA_Appv : [  34000.   45000.  337500. ...   26333. 1609000.   17612.]\n",
      "\n",
      "MIS_Status : [0 1]\n",
      "\n"
     ]
    }
   ],
   "source": [
    "#show unique values in each column\n",
    "for col in data.columns:\n",
    "    print(col,\":\",data[col].unique())\n",
    "    print(\"\")"
   ]
  },
  {
   "cell_type": "code",
   "execution_count": 3,
   "metadata": {},
   "outputs": [
    {
     "name": "stdout",
     "output_type": "stream",
     "text": [
      "City : object\n",
      "State : object\n",
      "Zip : int64\n",
      "Bank : object\n",
      "BankState : object\n",
      "NAICS : int64\n",
      "NoEmp : int64\n",
      "NewExist : float64\n",
      "CreateJob : int64\n",
      "RetainedJob : int64\n",
      "FranchiseCode : int64\n",
      "UrbanRural : int64\n",
      "RevLineCr : object\n",
      "LowDoc : object\n",
      "DisbursementGross : float64\n",
      "BalanceGross : float64\n",
      "GrAppv : float64\n",
      "SBA_Appv : float64\n",
      "MIS_Status : int64\n"
     ]
    }
   ],
   "source": [
    "\n",
    "#find datatype of column\n",
    "for col in data.columns:\n",
    "    print(col,\":\",data[col].dtype)\n",
    "    "
   ]
  },
  {
   "cell_type": "code",
   "execution_count": 4,
   "metadata": {},
   "outputs": [
    {
     "name": "stdout",
     "output_type": "stream",
     "text": [
      "RevLineCr ['N' 'Y']\n",
      "LowDoc ['N' 'Y']\n",
      "NewExist [1.0 2.0 None]\n"
     ]
    }
   ],
   "source": [
    "for i in data['RevLineCr']:\n",
    "    if i not in ['Y','N']:\n",
    "        data['RevLineCr'].replace(i,'N',inplace=True)\n",
    "print(\"RevLineCr\",data['RevLineCr'].unique())\n",
    "\n",
    "for i in data['LowDoc']:\n",
    "    if i not in ['Y','N']:\n",
    "        data['LowDoc'].replace(i,'N',inplace=True)\n",
    "print(\"LowDoc\",data['LowDoc'].unique())\n",
    "\n",
    "for i in data['NewExist']:\n",
    "    if i not in [1,2]:\n",
    "        data['NewExist'].replace(i,None,inplace=True)\n",
    "print(\"NewExist\",data['NewExist'].unique())\n"
   ]
  },
  {
   "cell_type": "code",
   "execution_count": 5,
   "metadata": {},
   "outputs": [
    {
     "name": "stdout",
     "output_type": "stream",
     "text": [
      "City           26\n",
      "State          13\n",
      "Bank         1381\n",
      "BankState    1386\n",
      "NewExist     1057\n",
      "dtype: int64\n",
      "---------------------\n",
      "City           26\n",
      "State          13\n",
      "Bank         1381\n",
      "BankState    1386\n",
      "NewExist     1057\n",
      "dtype: int64\n"
     ]
    }
   ],
   "source": [
    "#finding and removing null values\n",
    "missing = data.isnull().sum()\n",
    "na_col = data.isna().sum()\n",
    "print(missing[missing>0])\n",
    "print(\"---------------------\")\n",
    "print(na_col[na_col>0])"
   ]
  },
  {
   "cell_type": "code",
   "execution_count": 6,
   "metadata": {},
   "outputs": [
    {
     "name": "stdout",
     "output_type": "stream",
     "text": [
      "City                 0\n",
      "State                0\n",
      "Zip                  0\n",
      "Bank                 0\n",
      "BankState            0\n",
      "NAICS                0\n",
      "NoEmp                0\n",
      "NewExist             0\n",
      "CreateJob            0\n",
      "RetainedJob          0\n",
      "FranchiseCode        0\n",
      "UrbanRural           0\n",
      "RevLineCr            0\n",
      "LowDoc               0\n",
      "DisbursementGross    0\n",
      "BalanceGross         0\n",
      "GrAppv               0\n",
      "SBA_Appv             0\n",
      "MIS_Status           0\n",
      "dtype: int64\n"
     ]
    }
   ],
   "source": [
    "#replacing misisng values\n",
    "cat_cols=['City', 'State', 'Bank', 'BankState', 'RevLineCr', 'LowDoc','NewExist']\n",
    "\n",
    "for column in cat_cols:\n",
    "    data[column]=data[column].fillna(data[column].mode()[0])\n",
    "\n",
    "print(data.isnull().sum())"
   ]
  },
  {
   "cell_type": "code",
   "execution_count": 7,
   "metadata": {},
   "outputs": [
    {
     "data": {
      "text/plain": [
       "((640204, 19), (160051, 19))"
      ]
     },
     "execution_count": 7,
     "metadata": {},
     "output_type": "execute_result"
    }
   ],
   "source": [
    "from sklearn.model_selection import train_test_split\n",
    "\n",
    "train,test = train_test_split(data,test_size=0.2,random_state=42)\n",
    "train.shape, test.shape"
   ]
  },
  {
   "cell_type": "code",
   "execution_count": 8,
   "metadata": {},
   "outputs": [
    {
     "data": {
      "text/html": [
       "<div>\n",
       "<style scoped>\n",
       "    .dataframe tbody tr th:only-of-type {\n",
       "        vertical-align: middle;\n",
       "    }\n",
       "\n",
       "    .dataframe tbody tr th {\n",
       "        vertical-align: top;\n",
       "    }\n",
       "\n",
       "    .dataframe thead th {\n",
       "        text-align: right;\n",
       "    }\n",
       "</style>\n",
       "<table border=\"1\" class=\"dataframe\">\n",
       "  <thead>\n",
       "    <tr style=\"text-align: right;\">\n",
       "      <th></th>\n",
       "      <th>City_trg</th>\n",
       "      <th>State_trg</th>\n",
       "      <th>Zip_trg</th>\n",
       "      <th>Bank_trg</th>\n",
       "      <th>BankState_trg</th>\n",
       "      <th>NAICS_trg</th>\n",
       "      <th>NoEmp_trg</th>\n",
       "      <th>NewExist_trg</th>\n",
       "      <th>CreateJob_trg</th>\n",
       "      <th>RetainedJob_trg</th>\n",
       "      <th>...</th>\n",
       "      <th>NAICS</th>\n",
       "      <th>NoEmp</th>\n",
       "      <th>CreateJob</th>\n",
       "      <th>RetainedJob</th>\n",
       "      <th>FranchiseCode</th>\n",
       "      <th>DisbursementGross</th>\n",
       "      <th>BalanceGross</th>\n",
       "      <th>GrAppv</th>\n",
       "      <th>SBA_Appv</th>\n",
       "      <th>MIS_Status</th>\n",
       "    </tr>\n",
       "  </thead>\n",
       "  <tbody>\n",
       "    <tr>\n",
       "      <th>473658</th>\n",
       "      <td>0.311896</td>\n",
       "      <td>0.165712</td>\n",
       "      <td>43110</td>\n",
       "      <td>0.276163</td>\n",
       "      <td>0.223360</td>\n",
       "      <td>541921</td>\n",
       "      <td>2</td>\n",
       "      <td>0.170871</td>\n",
       "      <td>0</td>\n",
       "      <td>2</td>\n",
       "      <td>...</td>\n",
       "      <td>541921</td>\n",
       "      <td>2</td>\n",
       "      <td>0</td>\n",
       "      <td>2</td>\n",
       "      <td>0</td>\n",
       "      <td>25400.0</td>\n",
       "      <td>0.0</td>\n",
       "      <td>25400.0</td>\n",
       "      <td>12700.0</td>\n",
       "      <td>0</td>\n",
       "    </tr>\n",
       "    <tr>\n",
       "      <th>778431</th>\n",
       "      <td>0.148794</td>\n",
       "      <td>0.165712</td>\n",
       "      <td>45371</td>\n",
       "      <td>0.175041</td>\n",
       "      <td>0.159471</td>\n",
       "      <td>541320</td>\n",
       "      <td>3</td>\n",
       "      <td>0.170871</td>\n",
       "      <td>0</td>\n",
       "      <td>3</td>\n",
       "      <td>...</td>\n",
       "      <td>541320</td>\n",
       "      <td>3</td>\n",
       "      <td>0</td>\n",
       "      <td>3</td>\n",
       "      <td>0</td>\n",
       "      <td>41882.0</td>\n",
       "      <td>0.0</td>\n",
       "      <td>25000.0</td>\n",
       "      <td>12500.0</td>\n",
       "      <td>0</td>\n",
       "    </tr>\n",
       "    <tr>\n",
       "      <th>509938</th>\n",
       "      <td>0.152428</td>\n",
       "      <td>0.186924</td>\n",
       "      <td>92123</td>\n",
       "      <td>0.084951</td>\n",
       "      <td>0.219710</td>\n",
       "      <td>447110</td>\n",
       "      <td>1</td>\n",
       "      <td>0.170871</td>\n",
       "      <td>4</td>\n",
       "      <td>4</td>\n",
       "      <td>...</td>\n",
       "      <td>447110</td>\n",
       "      <td>1</td>\n",
       "      <td>4</td>\n",
       "      <td>4</td>\n",
       "      <td>85304</td>\n",
       "      <td>602000.0</td>\n",
       "      <td>0.0</td>\n",
       "      <td>602000.0</td>\n",
       "      <td>451500.0</td>\n",
       "      <td>0</td>\n",
       "    </tr>\n",
       "    <tr>\n",
       "      <th>651625</th>\n",
       "      <td>0.144928</td>\n",
       "      <td>0.188710</td>\n",
       "      <td>75081</td>\n",
       "      <td>0.142174</td>\n",
       "      <td>0.179305</td>\n",
       "      <td>0</td>\n",
       "      <td>15</td>\n",
       "      <td>0.186933</td>\n",
       "      <td>0</td>\n",
       "      <td>0</td>\n",
       "      <td>...</td>\n",
       "      <td>0</td>\n",
       "      <td>15</td>\n",
       "      <td>0</td>\n",
       "      <td>0</td>\n",
       "      <td>24957</td>\n",
       "      <td>183500.0</td>\n",
       "      <td>0.0</td>\n",
       "      <td>183500.0</td>\n",
       "      <td>137625.0</td>\n",
       "      <td>0</td>\n",
       "    </tr>\n",
       "    <tr>\n",
       "      <th>526142</th>\n",
       "      <td>0.134538</td>\n",
       "      <td>0.147593</td>\n",
       "      <td>96817</td>\n",
       "      <td>0.549263</td>\n",
       "      <td>0.219710</td>\n",
       "      <td>713940</td>\n",
       "      <td>10</td>\n",
       "      <td>0.170871</td>\n",
       "      <td>1</td>\n",
       "      <td>10</td>\n",
       "      <td>...</td>\n",
       "      <td>713940</td>\n",
       "      <td>10</td>\n",
       "      <td>1</td>\n",
       "      <td>10</td>\n",
       "      <td>1</td>\n",
       "      <td>5000.0</td>\n",
       "      <td>0.0</td>\n",
       "      <td>5000.0</td>\n",
       "      <td>4250.0</td>\n",
       "      <td>1</td>\n",
       "    </tr>\n",
       "  </tbody>\n",
       "</table>\n",
       "<p>5 rows × 29 columns</p>\n",
       "</div>"
      ],
      "text/plain": [
       "        City_trg  State_trg  Zip_trg  Bank_trg  BankState_trg  NAICS_trg  \\\n",
       "473658  0.311896   0.165712    43110  0.276163       0.223360     541921   \n",
       "778431  0.148794   0.165712    45371  0.175041       0.159471     541320   \n",
       "509938  0.152428   0.186924    92123  0.084951       0.219710     447110   \n",
       "651625  0.144928   0.188710    75081  0.142174       0.179305          0   \n",
       "526142  0.134538   0.147593    96817  0.549263       0.219710     713940   \n",
       "\n",
       "        NoEmp_trg  NewExist_trg  CreateJob_trg  RetainedJob_trg  ...   NAICS  \\\n",
       "473658          2      0.170871              0                2  ...  541921   \n",
       "778431          3      0.170871              0                3  ...  541320   \n",
       "509938          1      0.170871              4                4  ...  447110   \n",
       "651625         15      0.186933              0                0  ...       0   \n",
       "526142         10      0.170871              1               10  ...  713940   \n",
       "\n",
       "        NoEmp  CreateJob  RetainedJob  FranchiseCode  DisbursementGross  \\\n",
       "473658      2          0            2              0            25400.0   \n",
       "778431      3          0            3              0            41882.0   \n",
       "509938      1          4            4          85304           602000.0   \n",
       "651625     15          0            0          24957           183500.0   \n",
       "526142     10          1           10              1             5000.0   \n",
       "\n",
       "        BalanceGross    GrAppv  SBA_Appv  MIS_Status  \n",
       "473658           0.0   25400.0   12700.0           0  \n",
       "778431           0.0   25000.0   12500.0           0  \n",
       "509938           0.0  602000.0  451500.0           0  \n",
       "651625           0.0  183500.0  137625.0           0  \n",
       "526142           0.0    5000.0    4250.0           1  \n",
       "\n",
       "[5 rows x 29 columns]"
      ]
     },
     "execution_count": 8,
     "metadata": {},
     "output_type": "execute_result"
    }
   ],
   "source": [
    "#target encoder\n",
    "import category_encoders as ce\n",
    "import warnings\n",
    "warnings.filterwarnings(\"ignore\", category=FutureWarning)\n",
    "categorical_columns = ['City', 'State', 'Bank', 'BankState', 'RevLineCr', 'LowDoc','NewExist', 'UrbanRural']\n",
    "\n",
    "encoder = ce.TargetEncoder(cols=categorical_columns)\n",
    "encoder.fit(train, train['MIS_Status'])\n",
    "\n",
    "train_encoded = encoder.transform(train)\n",
    "\n",
    "# Renaming the columns\n",
    "train_encoded = train_encoded.add_suffix('_trg')\n",
    "train_encoded = pd.concat([train_encoded, train], axis=1)\n",
    "for column in categorical_columns:\n",
    "    train_encoded[column + \"_trg\"].fillna(train_encoded[column + \"_trg\"].mean(), inplace=True)\n",
    "\n",
    "train_encoded.drop(columns=categorical_columns, inplace=True)\n",
    "train_encoded.drop(columns='MIS_Status_trg', inplace=True)\n",
    "train_encoded.head()\n"
   ]
  },
  {
   "cell_type": "code",
   "execution_count": 9,
   "metadata": {},
   "outputs": [
    {
     "data": {
      "text/plain": [
       "Index(['City_trg', 'State_trg', 'Zip_trg', 'Bank_trg', 'BankState_trg',\n",
       "       'NAICS_trg', 'NoEmp_trg', 'NewExist_trg', 'CreateJob_trg',\n",
       "       'RetainedJob_trg', 'FranchiseCode_trg', 'UrbanRural_trg',\n",
       "       'RevLineCr_trg', 'LowDoc_trg', 'DisbursementGross_trg',\n",
       "       'BalanceGross_trg', 'GrAppv_trg', 'SBA_Appv_trg', 'Zip', 'NAICS',\n",
       "       'NoEmp', 'CreateJob', 'RetainedJob', 'FranchiseCode',\n",
       "       'DisbursementGross', 'BalanceGross', 'GrAppv', 'SBA_Appv',\n",
       "       'MIS_Status'],\n",
       "      dtype='object')"
      ]
     },
     "execution_count": 9,
     "metadata": {},
     "output_type": "execute_result"
    }
   ],
   "source": [
    "train_encoded.columns"
   ]
  },
  {
   "cell_type": "code",
   "execution_count": 10,
   "metadata": {},
   "outputs": [
    {
     "data": {
      "text/html": [
       "<div>\n",
       "<style scoped>\n",
       "    .dataframe tbody tr th:only-of-type {\n",
       "        vertical-align: middle;\n",
       "    }\n",
       "\n",
       "    .dataframe tbody tr th {\n",
       "        vertical-align: top;\n",
       "    }\n",
       "\n",
       "    .dataframe thead th {\n",
       "        text-align: right;\n",
       "    }\n",
       "</style>\n",
       "<table border=\"1\" class=\"dataframe\">\n",
       "  <thead>\n",
       "    <tr style=\"text-align: right;\">\n",
       "      <th></th>\n",
       "      <th>City_trg</th>\n",
       "      <th>State_trg</th>\n",
       "      <th>Zip_trg</th>\n",
       "      <th>Bank_trg</th>\n",
       "      <th>BankState_trg</th>\n",
       "      <th>NAICS_trg</th>\n",
       "      <th>NoEmp_trg</th>\n",
       "      <th>NewExist_trg</th>\n",
       "      <th>CreateJob_trg</th>\n",
       "      <th>RetainedJob_trg</th>\n",
       "      <th>...</th>\n",
       "      <th>NAICS</th>\n",
       "      <th>NoEmp</th>\n",
       "      <th>CreateJob</th>\n",
       "      <th>RetainedJob</th>\n",
       "      <th>FranchiseCode</th>\n",
       "      <th>DisbursementGross</th>\n",
       "      <th>BalanceGross</th>\n",
       "      <th>GrAppv</th>\n",
       "      <th>SBA_Appv</th>\n",
       "      <th>MIS_Status</th>\n",
       "    </tr>\n",
       "  </thead>\n",
       "  <tbody>\n",
       "    <tr>\n",
       "      <th>384386</th>\n",
       "      <td>0.140612</td>\n",
       "      <td>0.197919</td>\n",
       "      <td>12953</td>\n",
       "      <td>0.367531</td>\n",
       "      <td>0.168015</td>\n",
       "      <td>0</td>\n",
       "      <td>5</td>\n",
       "      <td>0.170871</td>\n",
       "      <td>0</td>\n",
       "      <td>0</td>\n",
       "      <td>...</td>\n",
       "      <td>0</td>\n",
       "      <td>5</td>\n",
       "      <td>0</td>\n",
       "      <td>0</td>\n",
       "      <td>1</td>\n",
       "      <td>420000.0</td>\n",
       "      <td>0.0</td>\n",
       "      <td>420000.0</td>\n",
       "      <td>315000.0</td>\n",
       "      <td>0</td>\n",
       "    </tr>\n",
       "    <tr>\n",
       "      <th>662652</th>\n",
       "      <td>0.136187</td>\n",
       "      <td>0.197919</td>\n",
       "      <td>14850</td>\n",
       "      <td>0.094340</td>\n",
       "      <td>0.168015</td>\n",
       "      <td>235920</td>\n",
       "      <td>7</td>\n",
       "      <td>0.170871</td>\n",
       "      <td>0</td>\n",
       "      <td>0</td>\n",
       "      <td>...</td>\n",
       "      <td>235920</td>\n",
       "      <td>7</td>\n",
       "      <td>0</td>\n",
       "      <td>0</td>\n",
       "      <td>0</td>\n",
       "      <td>165000.0</td>\n",
       "      <td>0.0</td>\n",
       "      <td>165000.0</td>\n",
       "      <td>140250.0</td>\n",
       "      <td>0</td>\n",
       "    </tr>\n",
       "    <tr>\n",
       "      <th>269020</th>\n",
       "      <td>0.149920</td>\n",
       "      <td>0.138693</td>\n",
       "      <td>98004</td>\n",
       "      <td>0.175041</td>\n",
       "      <td>0.159471</td>\n",
       "      <td>0</td>\n",
       "      <td>17</td>\n",
       "      <td>0.170871</td>\n",
       "      <td>0</td>\n",
       "      <td>0</td>\n",
       "      <td>...</td>\n",
       "      <td>0</td>\n",
       "      <td>17</td>\n",
       "      <td>0</td>\n",
       "      <td>0</td>\n",
       "      <td>1</td>\n",
       "      <td>65000.0</td>\n",
       "      <td>0.0</td>\n",
       "      <td>65000.0</td>\n",
       "      <td>52000.0</td>\n",
       "      <td>0</td>\n",
       "    </tr>\n",
       "    <tr>\n",
       "      <th>752306</th>\n",
       "      <td>0.224138</td>\n",
       "      <td>0.275144</td>\n",
       "      <td>33905</td>\n",
       "      <td>0.112576</td>\n",
       "      <td>0.293824</td>\n",
       "      <td>541940</td>\n",
       "      <td>15</td>\n",
       "      <td>0.186933</td>\n",
       "      <td>15</td>\n",
       "      <td>0</td>\n",
       "      <td>...</td>\n",
       "      <td>541940</td>\n",
       "      <td>15</td>\n",
       "      <td>15</td>\n",
       "      <td>0</td>\n",
       "      <td>1</td>\n",
       "      <td>1125000.0</td>\n",
       "      <td>0.0</td>\n",
       "      <td>1125000.0</td>\n",
       "      <td>843750.0</td>\n",
       "      <td>1</td>\n",
       "    </tr>\n",
       "    <tr>\n",
       "      <th>675193</th>\n",
       "      <td>0.335998</td>\n",
       "      <td>0.275144</td>\n",
       "      <td>33172</td>\n",
       "      <td>0.000000</td>\n",
       "      <td>0.160260</td>\n",
       "      <td>811111</td>\n",
       "      <td>4</td>\n",
       "      <td>0.170871</td>\n",
       "      <td>7</td>\n",
       "      <td>0</td>\n",
       "      <td>...</td>\n",
       "      <td>811111</td>\n",
       "      <td>4</td>\n",
       "      <td>7</td>\n",
       "      <td>0</td>\n",
       "      <td>1</td>\n",
       "      <td>240000.0</td>\n",
       "      <td>0.0</td>\n",
       "      <td>240000.0</td>\n",
       "      <td>240000.0</td>\n",
       "      <td>0</td>\n",
       "    </tr>\n",
       "  </tbody>\n",
       "</table>\n",
       "<p>5 rows × 29 columns</p>\n",
       "</div>"
      ],
      "text/plain": [
       "        City_trg  State_trg  Zip_trg  Bank_trg  BankState_trg  NAICS_trg  \\\n",
       "384386  0.140612   0.197919    12953  0.367531       0.168015          0   \n",
       "662652  0.136187   0.197919    14850  0.094340       0.168015     235920   \n",
       "269020  0.149920   0.138693    98004  0.175041       0.159471          0   \n",
       "752306  0.224138   0.275144    33905  0.112576       0.293824     541940   \n",
       "675193  0.335998   0.275144    33172  0.000000       0.160260     811111   \n",
       "\n",
       "        NoEmp_trg  NewExist_trg  CreateJob_trg  RetainedJob_trg  ...   NAICS  \\\n",
       "384386          5      0.170871              0                0  ...       0   \n",
       "662652          7      0.170871              0                0  ...  235920   \n",
       "269020         17      0.170871              0                0  ...       0   \n",
       "752306         15      0.186933             15                0  ...  541940   \n",
       "675193          4      0.170871              7                0  ...  811111   \n",
       "\n",
       "        NoEmp  CreateJob  RetainedJob  FranchiseCode  DisbursementGross  \\\n",
       "384386      5          0            0              1           420000.0   \n",
       "662652      7          0            0              0           165000.0   \n",
       "269020     17          0            0              1            65000.0   \n",
       "752306     15         15            0              1          1125000.0   \n",
       "675193      4          7            0              1           240000.0   \n",
       "\n",
       "        BalanceGross     GrAppv  SBA_Appv  MIS_Status  \n",
       "384386           0.0   420000.0  315000.0           0  \n",
       "662652           0.0   165000.0  140250.0           0  \n",
       "269020           0.0    65000.0   52000.0           0  \n",
       "752306           0.0  1125000.0  843750.0           1  \n",
       "675193           0.0   240000.0  240000.0           0  \n",
       "\n",
       "[5 rows x 29 columns]"
      ]
     },
     "execution_count": 10,
     "metadata": {},
     "output_type": "execute_result"
    }
   ],
   "source": [
    "\n",
    "test_encoded = encoder.transform(test)\n",
    "test_encoded = test_encoded.add_suffix('_trg')\n",
    "test_encoded = pd.concat([test_encoded, test], axis=1)\n",
    "for column in categorical_columns:\n",
    "    test_encoded[column + \"_trg\"].fillna(test_encoded[column + \"_trg\"].mean(), inplace=True)\n",
    "\n",
    "test_encoded.drop(columns=categorical_columns, inplace=True)\n",
    "test_encoded.drop(columns='MIS_Status_trg', inplace=True)\n",
    "test_encoded.head()"
   ]
  },
  {
   "cell_type": "code",
   "execution_count": 11,
   "metadata": {},
   "outputs": [
    {
     "data": {
      "text/html": [
       "<div>\n",
       "<style scoped>\n",
       "    .dataframe tbody tr th:only-of-type {\n",
       "        vertical-align: middle;\n",
       "    }\n",
       "\n",
       "    .dataframe tbody tr th {\n",
       "        vertical-align: top;\n",
       "    }\n",
       "\n",
       "    .dataframe thead th {\n",
       "        text-align: right;\n",
       "    }\n",
       "</style>\n",
       "<table border=\"1\" class=\"dataframe\">\n",
       "  <thead>\n",
       "    <tr style=\"text-align: right;\">\n",
       "      <th></th>\n",
       "      <th>Log_DisbursementGross</th>\n",
       "      <th>Log_NoEmp</th>\n",
       "      <th>Log_GrAppv</th>\n",
       "      <th>Log_SBA_Appv</th>\n",
       "      <th>Disbursement_Bins</th>\n",
       "      <th>Loan_Efficiency</th>\n",
       "      <th>Guarantee_Ratio</th>\n",
       "      <th>Loan_Guarantee_Interaction</th>\n",
       "      <th>Disbursement_Squared</th>\n",
       "    </tr>\n",
       "  </thead>\n",
       "  <tbody>\n",
       "    <tr>\n",
       "      <th>473658</th>\n",
       "      <td>10.142544</td>\n",
       "      <td>1.098612</td>\n",
       "      <td>10.142544</td>\n",
       "      <td>9.449436</td>\n",
       "      <td>Low</td>\n",
       "      <td>8466.666667</td>\n",
       "      <td>0.50</td>\n",
       "      <td>3.225800e+08</td>\n",
       "      <td>6.451600e+08</td>\n",
       "    </tr>\n",
       "    <tr>\n",
       "      <th>778431</th>\n",
       "      <td>10.642635</td>\n",
       "      <td>1.386294</td>\n",
       "      <td>10.126671</td>\n",
       "      <td>9.433564</td>\n",
       "      <td>Low</td>\n",
       "      <td>10470.500000</td>\n",
       "      <td>0.50</td>\n",
       "      <td>3.125000e+08</td>\n",
       "      <td>1.754102e+09</td>\n",
       "    </tr>\n",
       "    <tr>\n",
       "      <th>509938</th>\n",
       "      <td>13.308014</td>\n",
       "      <td>0.693147</td>\n",
       "      <td>13.308014</td>\n",
       "      <td>13.020333</td>\n",
       "      <td>High</td>\n",
       "      <td>66888.888889</td>\n",
       "      <td>0.75</td>\n",
       "      <td>2.718030e+11</td>\n",
       "      <td>3.624040e+11</td>\n",
       "    </tr>\n",
       "    <tr>\n",
       "      <th>651625</th>\n",
       "      <td>12.119975</td>\n",
       "      <td>2.772589</td>\n",
       "      <td>12.119975</td>\n",
       "      <td>11.832295</td>\n",
       "      <td>High</td>\n",
       "      <td>183500.000000</td>\n",
       "      <td>0.75</td>\n",
       "      <td>2.525419e+10</td>\n",
       "      <td>3.367225e+10</td>\n",
       "    </tr>\n",
       "    <tr>\n",
       "      <th>526142</th>\n",
       "      <td>8.517393</td>\n",
       "      <td>2.397895</td>\n",
       "      <td>8.517393</td>\n",
       "      <td>8.354910</td>\n",
       "      <td>Low</td>\n",
       "      <td>416.666667</td>\n",
       "      <td>0.85</td>\n",
       "      <td>2.125000e+07</td>\n",
       "      <td>2.500000e+07</td>\n",
       "    </tr>\n",
       "  </tbody>\n",
       "</table>\n",
       "</div>"
      ],
      "text/plain": [
       "        Log_DisbursementGross  Log_NoEmp  Log_GrAppv  Log_SBA_Appv  \\\n",
       "473658              10.142544   1.098612   10.142544      9.449436   \n",
       "778431              10.642635   1.386294   10.126671      9.433564   \n",
       "509938              13.308014   0.693147   13.308014     13.020333   \n",
       "651625              12.119975   2.772589   12.119975     11.832295   \n",
       "526142               8.517393   2.397895    8.517393      8.354910   \n",
       "\n",
       "       Disbursement_Bins  Loan_Efficiency  Guarantee_Ratio  \\\n",
       "473658               Low      8466.666667             0.50   \n",
       "778431               Low     10470.500000             0.50   \n",
       "509938              High     66888.888889             0.75   \n",
       "651625              High    183500.000000             0.75   \n",
       "526142               Low       416.666667             0.85   \n",
       "\n",
       "        Loan_Guarantee_Interaction  Disbursement_Squared  \n",
       "473658                3.225800e+08          6.451600e+08  \n",
       "778431                3.125000e+08          1.754102e+09  \n",
       "509938                2.718030e+11          3.624040e+11  \n",
       "651625                2.525419e+10          3.367225e+10  \n",
       "526142                2.125000e+07          2.500000e+07  "
      ]
     },
     "execution_count": 11,
     "metadata": {},
     "output_type": "execute_result"
    }
   ],
   "source": [
    "import numpy as np\n",
    "\n",
    "# Creating log-based features for the training dataset\n",
    "train_encoded['Log_DisbursementGross'] = np.log1p(train_encoded['DisbursementGross'])\n",
    "train_encoded['Log_NoEmp'] = np.log1p(train_encoded['NoEmp'])\n",
    "train_encoded['Log_GrAppv'] = np.log1p(train_encoded['GrAppv'])\n",
    "train_encoded['Log_SBA_Appv'] = np.log1p(train_encoded['SBA_Appv'])\n",
    "train_encoded['Log_BalanceGross'] = np.log1p(train_encoded['BalanceGross'])\n",
    "\n",
    "# Binning \n",
    "train_encoded['Disbursement_Bins'] = pd.cut(train_encoded['DisbursementGross'], \n",
    "                                           bins=[-np.inf, 50000, 150000, np.inf], \n",
    "                                           labels=['Low', 'Medium', 'High'])\n",
    "\n",
    "# Loan Efficiency\n",
    "train_encoded['Loan_Efficiency'] = train_encoded['DisbursementGross'] / (train_encoded['CreateJob'] + train_encoded['RetainedJob'] + 1)  # Adding 1 to avoid division by zero\n",
    "\n",
    "# Guarantee Ratio\n",
    "train_encoded['Guarantee_Ratio'] = train_encoded['SBA_Appv'] / train_encoded['GrAppv']\n",
    "\n",
    "# Loan Guarantee Interaction\n",
    "train_encoded['Loan_Guarantee_Interaction'] = train_encoded['SBA_Appv'] * train_encoded['GrAppv']\n",
    "\n",
    "# Disbursement Squared\n",
    "train_encoded['Disbursement_Squared'] = train_encoded['DisbursementGross'] ** 2\n",
    "\n",
    "# Displaying the newly created features\n",
    "train_encoded[['Log_DisbursementGross', 'Log_NoEmp', 'Log_GrAppv', 'Log_SBA_Appv','Disbursement_Bins', 'Loan_Efficiency', 'Guarantee_Ratio', 'Loan_Guarantee_Interaction', 'Disbursement_Squared']].head()\n"
   ]
  },
  {
   "cell_type": "code",
   "execution_count": 12,
   "metadata": {},
   "outputs": [
    {
     "data": {
      "text/html": [
       "<div>\n",
       "<style scoped>\n",
       "    .dataframe tbody tr th:only-of-type {\n",
       "        vertical-align: middle;\n",
       "    }\n",
       "\n",
       "    .dataframe tbody tr th {\n",
       "        vertical-align: top;\n",
       "    }\n",
       "\n",
       "    .dataframe thead th {\n",
       "        text-align: right;\n",
       "    }\n",
       "</style>\n",
       "<table border=\"1\" class=\"dataframe\">\n",
       "  <thead>\n",
       "    <tr style=\"text-align: right;\">\n",
       "      <th></th>\n",
       "      <th>Log_DisbursementGross</th>\n",
       "      <th>Log_NoEmp</th>\n",
       "      <th>Log_GrAppv</th>\n",
       "      <th>Log_SBA_Appv</th>\n",
       "      <th>Disbursement_Bins</th>\n",
       "      <th>Loan_Efficiency</th>\n",
       "      <th>Guarantee_Ratio</th>\n",
       "      <th>Loan_Guarantee_Interaction</th>\n",
       "      <th>Disbursement_Squared</th>\n",
       "    </tr>\n",
       "  </thead>\n",
       "  <tbody>\n",
       "    <tr>\n",
       "      <th>384386</th>\n",
       "      <td>12.948012</td>\n",
       "      <td>1.791759</td>\n",
       "      <td>12.948012</td>\n",
       "      <td>12.660331</td>\n",
       "      <td>High</td>\n",
       "      <td>420000.0</td>\n",
       "      <td>0.75</td>\n",
       "      <td>1.323000e+11</td>\n",
       "      <td>1.764000e+11</td>\n",
       "    </tr>\n",
       "    <tr>\n",
       "      <th>662652</th>\n",
       "      <td>12.013707</td>\n",
       "      <td>2.079442</td>\n",
       "      <td>12.013707</td>\n",
       "      <td>11.851189</td>\n",
       "      <td>High</td>\n",
       "      <td>165000.0</td>\n",
       "      <td>0.85</td>\n",
       "      <td>2.314125e+10</td>\n",
       "      <td>2.722500e+10</td>\n",
       "    </tr>\n",
       "    <tr>\n",
       "      <th>269020</th>\n",
       "      <td>11.082158</td>\n",
       "      <td>2.890372</td>\n",
       "      <td>11.082158</td>\n",
       "      <td>10.859018</td>\n",
       "      <td>Medium</td>\n",
       "      <td>65000.0</td>\n",
       "      <td>0.80</td>\n",
       "      <td>3.380000e+09</td>\n",
       "      <td>4.225000e+09</td>\n",
       "    </tr>\n",
       "    <tr>\n",
       "      <th>752306</th>\n",
       "      <td>13.933294</td>\n",
       "      <td>2.772589</td>\n",
       "      <td>13.933294</td>\n",
       "      <td>13.645613</td>\n",
       "      <td>High</td>\n",
       "      <td>70312.5</td>\n",
       "      <td>0.75</td>\n",
       "      <td>9.492188e+11</td>\n",
       "      <td>1.265625e+12</td>\n",
       "    </tr>\n",
       "    <tr>\n",
       "      <th>675193</th>\n",
       "      <td>12.388398</td>\n",
       "      <td>1.609438</td>\n",
       "      <td>12.388398</td>\n",
       "      <td>12.388398</td>\n",
       "      <td>High</td>\n",
       "      <td>30000.0</td>\n",
       "      <td>1.00</td>\n",
       "      <td>5.760000e+10</td>\n",
       "      <td>5.760000e+10</td>\n",
       "    </tr>\n",
       "  </tbody>\n",
       "</table>\n",
       "</div>"
      ],
      "text/plain": [
       "        Log_DisbursementGross  Log_NoEmp  Log_GrAppv  Log_SBA_Appv  \\\n",
       "384386              12.948012   1.791759   12.948012     12.660331   \n",
       "662652              12.013707   2.079442   12.013707     11.851189   \n",
       "269020              11.082158   2.890372   11.082158     10.859018   \n",
       "752306              13.933294   2.772589   13.933294     13.645613   \n",
       "675193              12.388398   1.609438   12.388398     12.388398   \n",
       "\n",
       "       Disbursement_Bins  Loan_Efficiency  Guarantee_Ratio  \\\n",
       "384386              High         420000.0             0.75   \n",
       "662652              High         165000.0             0.85   \n",
       "269020            Medium          65000.0             0.80   \n",
       "752306              High          70312.5             0.75   \n",
       "675193              High          30000.0             1.00   \n",
       "\n",
       "        Loan_Guarantee_Interaction  Disbursement_Squared  \n",
       "384386                1.323000e+11          1.764000e+11  \n",
       "662652                2.314125e+10          2.722500e+10  \n",
       "269020                3.380000e+09          4.225000e+09  \n",
       "752306                9.492188e+11          1.265625e+12  \n",
       "675193                5.760000e+10          5.760000e+10  "
      ]
     },
     "execution_count": 12,
     "metadata": {},
     "output_type": "execute_result"
    }
   ],
   "source": [
    "\n",
    "# Creating log-based features for the test dataset\n",
    "test_encoded['Log_DisbursementGross'] = np.log1p(test_encoded['DisbursementGross'])\n",
    "test_encoded['Log_NoEmp'] = np.log1p(test_encoded['NoEmp'])\n",
    "test_encoded['Log_GrAppv'] = np.log1p(test_encoded['GrAppv'])\n",
    "test_encoded['Log_SBA_Appv'] = np.log1p(test_encoded['SBA_Appv'])\n",
    "test_encoded['Log_BalanceGross'] = np.log1p(test_encoded['BalanceGross'])\n",
    "\n",
    "# Binning\n",
    "\n",
    "test_encoded['Disbursement_Bins'] = pd.cut(test_encoded['DisbursementGross'],\n",
    "                                             bins=[-np.inf, 50000, 150000, np.inf],\n",
    "                                             labels=['Low', 'Medium', 'High'])\n",
    "\n",
    "# Loan Efficiency\n",
    "test_encoded['Loan_Efficiency'] = test_encoded['DisbursementGross'] / (test_encoded['CreateJob'] + test_encoded['RetainedJob'] + 1)  # Adding 1 to avoid division by zero\n",
    "\n",
    "# Guarantee Ratio\n",
    "test_encoded['Guarantee_Ratio'] = test_encoded['SBA_Appv'] / test_encoded['GrAppv']\n",
    "\n",
    "# Loan Guarantee Interaction\n",
    "test_encoded['Loan_Guarantee_Interaction'] = test_encoded['SBA_Appv'] * test_encoded['GrAppv']\n",
    "\n",
    "# Disbursement Squared\n",
    "test_encoded['Disbursement_Squared'] = test_encoded['DisbursementGross'] ** 2\n",
    "\n",
    "# Displaying the newly created features\n",
    "test_encoded[['Log_DisbursementGross', 'Log_NoEmp', 'Log_GrAppv', 'Log_SBA_Appv','Disbursement_Bins', 'Loan_Efficiency', 'Guarantee_Ratio', 'Loan_Guarantee_Interaction', 'Disbursement_Squared']].head()"
   ]
  },
  {
   "cell_type": "code",
   "execution_count": 13,
   "metadata": {},
   "outputs": [
    {
     "data": {
      "text/html": [
       "<div>\n",
       "<style scoped>\n",
       "    .dataframe tbody tr th:only-of-type {\n",
       "        vertical-align: middle;\n",
       "    }\n",
       "\n",
       "    .dataframe tbody tr th {\n",
       "        vertical-align: top;\n",
       "    }\n",
       "\n",
       "    .dataframe thead th {\n",
       "        text-align: right;\n",
       "    }\n",
       "</style>\n",
       "<table border=\"1\" class=\"dataframe\">\n",
       "  <thead>\n",
       "    <tr style=\"text-align: right;\">\n",
       "      <th></th>\n",
       "      <th>City_trg</th>\n",
       "      <th>State_trg</th>\n",
       "      <th>Zip_trg</th>\n",
       "      <th>Bank_trg</th>\n",
       "      <th>BankState_trg</th>\n",
       "      <th>NAICS_trg</th>\n",
       "      <th>NoEmp_trg</th>\n",
       "      <th>NewExist_trg</th>\n",
       "      <th>CreateJob_trg</th>\n",
       "      <th>RetainedJob_trg</th>\n",
       "      <th>...</th>\n",
       "      <th>Log_DisbursementGross</th>\n",
       "      <th>Log_NoEmp</th>\n",
       "      <th>Log_GrAppv</th>\n",
       "      <th>Log_SBA_Appv</th>\n",
       "      <th>Log_BalanceGross</th>\n",
       "      <th>Disbursement_Bins</th>\n",
       "      <th>Loan_Efficiency</th>\n",
       "      <th>Guarantee_Ratio</th>\n",
       "      <th>Loan_Guarantee_Interaction</th>\n",
       "      <th>Disbursement_Squared</th>\n",
       "    </tr>\n",
       "  </thead>\n",
       "  <tbody>\n",
       "    <tr>\n",
       "      <th>384386</th>\n",
       "      <td>0.140612</td>\n",
       "      <td>0.197919</td>\n",
       "      <td>12953</td>\n",
       "      <td>0.367531</td>\n",
       "      <td>0.168015</td>\n",
       "      <td>0</td>\n",
       "      <td>5</td>\n",
       "      <td>0.170871</td>\n",
       "      <td>0</td>\n",
       "      <td>0</td>\n",
       "      <td>...</td>\n",
       "      <td>1.157104</td>\n",
       "      <td>-0.048393</td>\n",
       "      <td>1.205831</td>\n",
       "      <td>1.159638</td>\n",
       "      <td>-0.004091</td>\n",
       "      <td>High</td>\n",
       "      <td>1.648470</td>\n",
       "      <td>0.234647</td>\n",
       "      <td>0.106400</td>\n",
       "      <td>0.090669</td>\n",
       "    </tr>\n",
       "    <tr>\n",
       "      <th>662652</th>\n",
       "      <td>0.136187</td>\n",
       "      <td>0.197919</td>\n",
       "      <td>14850</td>\n",
       "      <td>0.094340</td>\n",
       "      <td>0.168015</td>\n",
       "      <td>235920</td>\n",
       "      <td>7</td>\n",
       "      <td>0.170871</td>\n",
       "      <td>0</td>\n",
       "      <td>0</td>\n",
       "      <td>...</td>\n",
       "      <td>0.423160</td>\n",
       "      <td>0.246620</td>\n",
       "      <td>0.488425</td>\n",
       "      <td>0.593798</td>\n",
       "      <td>-0.004091</td>\n",
       "      <td>High</td>\n",
       "      <td>0.324071</td>\n",
       "      <td>0.810093</td>\n",
       "      <td>-0.180743</td>\n",
       "      <td>-0.163246</td>\n",
       "    </tr>\n",
       "    <tr>\n",
       "      <th>269020</th>\n",
       "      <td>0.149920</td>\n",
       "      <td>0.138693</td>\n",
       "      <td>98004</td>\n",
       "      <td>0.175041</td>\n",
       "      <td>0.159471</td>\n",
       "      <td>0</td>\n",
       "      <td>17</td>\n",
       "      <td>0.170871</td>\n",
       "      <td>0</td>\n",
       "      <td>0</td>\n",
       "      <td>...</td>\n",
       "      <td>-0.308620</td>\n",
       "      <td>1.078217</td>\n",
       "      <td>-0.226864</td>\n",
       "      <td>-0.100035</td>\n",
       "      <td>-0.004091</td>\n",
       "      <td>Medium</td>\n",
       "      <td>-0.195301</td>\n",
       "      <td>0.522370</td>\n",
       "      <td>-0.232725</td>\n",
       "      <td>-0.202395</td>\n",
       "    </tr>\n",
       "    <tr>\n",
       "      <th>752306</th>\n",
       "      <td>0.224138</td>\n",
       "      <td>0.275144</td>\n",
       "      <td>33905</td>\n",
       "      <td>0.112576</td>\n",
       "      <td>0.293824</td>\n",
       "      <td>541940</td>\n",
       "      <td>15</td>\n",
       "      <td>0.186933</td>\n",
       "      <td>15</td>\n",
       "      <td>0</td>\n",
       "      <td>...</td>\n",
       "      <td>1.931094</td>\n",
       "      <td>0.957432</td>\n",
       "      <td>1.962379</td>\n",
       "      <td>1.848654</td>\n",
       "      <td>-0.004091</td>\n",
       "      <td>High</td>\n",
       "      <td>-0.167710</td>\n",
       "      <td>0.234647</td>\n",
       "      <td>2.255308</td>\n",
       "      <td>1.944665</td>\n",
       "    </tr>\n",
       "    <tr>\n",
       "      <th>675193</th>\n",
       "      <td>0.335998</td>\n",
       "      <td>0.275144</td>\n",
       "      <td>33172</td>\n",
       "      <td>0.000000</td>\n",
       "      <td>0.160260</td>\n",
       "      <td>811111</td>\n",
       "      <td>4</td>\n",
       "      <td>0.170871</td>\n",
       "      <td>7</td>\n",
       "      <td>0</td>\n",
       "      <td>...</td>\n",
       "      <td>0.717499</td>\n",
       "      <td>-0.235361</td>\n",
       "      <td>0.776132</td>\n",
       "      <td>0.969473</td>\n",
       "      <td>-0.004091</td>\n",
       "      <td>High</td>\n",
       "      <td>-0.377082</td>\n",
       "      <td>1.673261</td>\n",
       "      <td>-0.090099</td>\n",
       "      <td>-0.111544</td>\n",
       "    </tr>\n",
       "  </tbody>\n",
       "</table>\n",
       "<p>5 rows × 39 columns</p>\n",
       "</div>"
      ],
      "text/plain": [
       "        City_trg  State_trg  Zip_trg  Bank_trg  BankState_trg  NAICS_trg  \\\n",
       "384386  0.140612   0.197919    12953  0.367531       0.168015          0   \n",
       "662652  0.136187   0.197919    14850  0.094340       0.168015     235920   \n",
       "269020  0.149920   0.138693    98004  0.175041       0.159471          0   \n",
       "752306  0.224138   0.275144    33905  0.112576       0.293824     541940   \n",
       "675193  0.335998   0.275144    33172  0.000000       0.160260     811111   \n",
       "\n",
       "        NoEmp_trg  NewExist_trg  CreateJob_trg  RetainedJob_trg  ...  \\\n",
       "384386          5      0.170871              0                0  ...   \n",
       "662652          7      0.170871              0                0  ...   \n",
       "269020         17      0.170871              0                0  ...   \n",
       "752306         15      0.186933             15                0  ...   \n",
       "675193          4      0.170871              7                0  ...   \n",
       "\n",
       "        Log_DisbursementGross  Log_NoEmp  Log_GrAppv  Log_SBA_Appv  \\\n",
       "384386               1.157104  -0.048393    1.205831      1.159638   \n",
       "662652               0.423160   0.246620    0.488425      0.593798   \n",
       "269020              -0.308620   1.078217   -0.226864     -0.100035   \n",
       "752306               1.931094   0.957432    1.962379      1.848654   \n",
       "675193               0.717499  -0.235361    0.776132      0.969473   \n",
       "\n",
       "        Log_BalanceGross  Disbursement_Bins  Loan_Efficiency  Guarantee_Ratio  \\\n",
       "384386         -0.004091               High         1.648470         0.234647   \n",
       "662652         -0.004091               High         0.324071         0.810093   \n",
       "269020         -0.004091             Medium        -0.195301         0.522370   \n",
       "752306         -0.004091               High        -0.167710         0.234647   \n",
       "675193         -0.004091               High        -0.377082         1.673261   \n",
       "\n",
       "        Loan_Guarantee_Interaction  Disbursement_Squared  \n",
       "384386                    0.106400              0.090669  \n",
       "662652                   -0.180743             -0.163246  \n",
       "269020                   -0.232725             -0.202395  \n",
       "752306                    2.255308              1.944665  \n",
       "675193                   -0.090099             -0.111544  \n",
       "\n",
       "[5 rows x 39 columns]"
      ]
     },
     "execution_count": 13,
     "metadata": {},
     "output_type": "execute_result"
    }
   ],
   "source": [
    "from sklearn.preprocessing import StandardScaler\n",
    "\n",
    "numerical_columns = [ 'NoEmp', 'CreateJob', 'RetainedJob', 'GrAppv', 'SBA_Appv', 'DisbursementGross', 'BalanceGross', 'Log_DisbursementGross', 'Log_NoEmp', 'Log_GrAppv', 'Log_SBA_Appv', 'Log_BalanceGross', 'Loan_Efficiency', 'Guarantee_Ratio', 'Loan_Guarantee_Interaction', 'Disbursement_Squared']\n",
    "scaler = StandardScaler()\n",
    "train_encoded[numerical_columns] = scaler.fit_transform(train_encoded[numerical_columns])\n",
    "train_encoded.head()\n",
    "\n",
    "test_encoded[numerical_columns] = scaler.transform(test_encoded[numerical_columns])\n",
    "test_encoded.head()\n"
   ]
  },
  {
   "cell_type": "code",
   "execution_count": 14,
   "metadata": {},
   "outputs": [],
   "source": [
    "X_train = train_encoded.copy()\n",
    "X_test = test_encoded.copy()    \n",
    "\n",
    "y_train = X_train['MIS_Status']\n",
    "y_test = X_test['MIS_Status']\n",
    "\n",
    "X_train.drop(columns=['MIS_Status'], inplace=True)\n",
    "X_test.drop(columns=['MIS_Status'], inplace=True)"
   ]
  },
  {
   "cell_type": "code",
   "execution_count": 15,
   "metadata": {},
   "outputs": [
    {
     "name": "stdout",
     "output_type": "stream",
     "text": [
      "AUC score on Test dataset: 0.8225855591034863\n",
      "AUC score on Train dataset: 0.8473599291272692\n"
     ]
    }
   ],
   "source": [
    "import lightgbm as lgb\n",
    "\n",
    "train_data = lgb.Dataset(data=X_train, label=y_train, params={\"verbose\":-1})\n",
    "test_data = lgb.Dataset(data=X_test, label=y_test, params={\"verbose\":-1})\n",
    "lgb_clf = lgb.train(params={\"verbose\":-1},\n",
    "                    train_set=train_data)\n",
    "from sklearn.metrics import roc_auc_score\n",
    "print(\"AUC score on Test dataset:\", roc_auc_score(y_test, lgb_clf.predict(X_test)))\n",
    "print(\"AUC score on Train dataset:\", roc_auc_score(y_train, lgb_clf.predict(X_train)))"
   ]
  },
  {
   "cell_type": "code",
   "execution_count": 29,
   "metadata": {},
   "outputs": [],
   "source": [
    "from optuna.integration import LightGBMPruningCallback\n",
    "import tqdm as notebook_tqdm\n",
    "from sklearn.model_selection import StratifiedKFold\n",
    "from sklearn.metrics import roc_auc_score\n",
    "import optuna\n",
    "import warnings\n",
    "import lightgbm as lgb\n",
    "\n",
    "warnings.filterwarnings(\"ignore\", category=UserWarning)\n",
    "study_model_iteractions = {}\n",
    "\n",
    "def objective(trial, X, y):\n",
    "    param_grid = {\n",
    "        \"num_iterations\": 10000,\n",
    "        \"learning_rate\": trial.suggest_float(\"learning_rate\", 0.01, 0.3, step=0.05),\n",
    "        \"num_leaves\": trial.suggest_int(\"num_leaves\", 50, 150, step=5),\n",
    "        \"max_depth\": trial.suggest_int(\"max_depth\", 5, 20, step=2),\n",
    "        \"min_data_in_leaf\": trial.suggest_int(\"min_data_in_leaf\", 100, 1000, step=100),\n",
    "        'lambda_l1': trial.suggest_float('lambda_l1', 1e-8, 10.0, log=True),\n",
    "        'lambda_l2': trial.suggest_float('lambda_l2', 1e-8, 10.0, log=True),\n",
    "        \"bagging_fraction\": trial.suggest_float(\"bagging_fraction\", 0.8, 1.0, step=0.1),\n",
    "        \"bagging_freq\": trial.suggest_categorical(\"bagging_freq\", [5]),\n",
    "        \"feature_fraction\": trial.suggest_float(\"feature_fraction\", 0.8, 1.0, step=0.1),\n",
    "        \"is_unbalance\": trial.suggest_categorical(\"is_unbalance\", [True, False]),\n",
    "        \"objective\": \"binary\",\n",
    "        \"metric\": \"auc\",\n",
    "        \"verbose\": -1\n",
    "    }\n",
    "\n",
    "    cv = StratifiedKFold(n_splits=5, shuffle=True, random_state=1121218)\n",
    "\n",
    "    cv_scores = np.empty(5)\n",
    "    cv_iteractions = np.empty(5)\n",
    "    for idx, (train_idx, test_idx) in enumerate(cv.split(X, y)):\n",
    "        X_train, X_valid = X.iloc[train_idx], X.iloc[test_idx]\n",
    "        y_train, y_valid = y.iloc[train_idx], y.iloc[test_idx]\n",
    "\n",
    "        train_data = lgb.Dataset(data=X_train, label=y_train, params={\"verbose\":-1})\n",
    "        valid_data = lgb.Dataset(data=X_valid, label=y_valid, params={\"verbose\":-1})\n",
    "        lgb_clf = lgb.train(params=param_grid,\n",
    "                            train_set=train_data,\n",
    "                            valid_sets=[valid_data],\n",
    "                            #categorical_feature=categorical_columns,\n",
    "                            callbacks=[LightGBMPruningCallback(trial, \"auc\"),\n",
    "                                        lgb.early_stopping(stopping_rounds=5)]  \n",
    "                            )\n",
    "        preds = lgb_clf.predict(X_valid)\n",
    "        cv_scores[idx] = roc_auc_score(y_valid, preds)\n",
    "        cv_iteractions[idx] = lgb_clf.best_iteration\n",
    "    \n",
    "    study_model_iteractions[trial.number] = np.mean(cv_iteractions)\n",
    "\n",
    "    return np.mean(cv_scores)"
   ]
  },
  {
   "cell_type": "code",
   "execution_count": 30,
   "metadata": {},
   "outputs": [
    {
     "name": "stderr",
     "output_type": "stream",
     "text": [
      "[I 2023-12-10 16:09:28,916] A new study created in memory with name: LGBM Classifier\n",
      "[W 2023-12-10 16:09:29,227] Trial 0 failed with parameters: {'learning_rate': 0.11, 'num_leaves': 110, 'max_depth': 7, 'min_data_in_leaf': 900, 'lambda_l1': 2.6106713362991297e-06, 'lambda_l2': 1.4266766798007552e-05, 'bagging_fraction': 1.0, 'bagging_freq': 5, 'feature_fraction': 0.8, 'is_unbalance': False} because of the following error: ValueError('pandas dtypes must be int, float or bool.\\nFields with bad pandas dtypes: City: object, State: object, Bank: object, BankState: object, RevLineCr: object, LowDoc: object').\n",
      "Traceback (most recent call last):\n",
      "  File \"d:\\Work\\Gre\\UTD\\Courses\\Fall\\MIS6341\\Softwares\\Python\\ml-fall-2023\\lib\\site-packages\\optuna\\study\\_optimize.py\", line 200, in _run_trial\n",
      "    value_or_values = func(trial)\n",
      "  File \"C:\\Users\\Asus\\AppData\\Local\\Temp\\ipykernel_18248\\2029209496.py\", line 2, in <lambda>\n",
      "    func = lambda trial: objective(trial, X_train, y_train)\n",
      "  File \"C:\\Users\\Asus\\AppData\\Local\\Temp\\ipykernel_18248\\3766671544.py\", line 40, in objective\n",
      "    lgb_clf = lgb.train(params=param_grid,\n",
      "  File \"d:\\Work\\Gre\\UTD\\Courses\\Fall\\MIS6341\\Softwares\\Python\\ml-fall-2023\\lib\\site-packages\\lightgbm\\engine.py\", line 245, in train\n",
      "    booster = Booster(params=params, train_set=train_set)\n",
      "  File \"d:\\Work\\Gre\\UTD\\Courses\\Fall\\MIS6341\\Softwares\\Python\\ml-fall-2023\\lib\\site-packages\\lightgbm\\basic.py\", line 3096, in __init__\n",
      "    train_set.construct()\n",
      "  File \"d:\\Work\\Gre\\UTD\\Courses\\Fall\\MIS6341\\Softwares\\Python\\ml-fall-2023\\lib\\site-packages\\lightgbm\\basic.py\", line 2210, in construct\n",
      "    self._lazy_init(data=self.data, label=self.label, reference=None,\n",
      "  File \"d:\\Work\\Gre\\UTD\\Courses\\Fall\\MIS6341\\Softwares\\Python\\ml-fall-2023\\lib\\site-packages\\lightgbm\\basic.py\", line 1801, in _lazy_init\n",
      "    data, feature_name, categorical_feature, self.pandas_categorical = _data_from_pandas(data=data,\n",
      "  File \"d:\\Work\\Gre\\UTD\\Courses\\Fall\\MIS6341\\Softwares\\Python\\ml-fall-2023\\lib\\site-packages\\lightgbm\\basic.py\", line 698, in _data_from_pandas\n",
      "    _check_for_bad_pandas_dtypes(data.dtypes)\n",
      "  File \"d:\\Work\\Gre\\UTD\\Courses\\Fall\\MIS6341\\Softwares\\Python\\ml-fall-2023\\lib\\site-packages\\lightgbm\\basic.py\", line 661, in _check_for_bad_pandas_dtypes\n",
      "    raise ValueError('pandas dtypes must be int, float or bool.\\n'\n",
      "ValueError: pandas dtypes must be int, float or bool.\n",
      "Fields with bad pandas dtypes: City: object, State: object, Bank: object, BankState: object, RevLineCr: object, LowDoc: object\n",
      "[W 2023-12-10 16:09:29,227] Trial 0 failed with value None.\n"
     ]
    },
    {
     "ename": "ValueError",
     "evalue": "pandas dtypes must be int, float or bool.\nFields with bad pandas dtypes: City: object, State: object, Bank: object, BankState: object, RevLineCr: object, LowDoc: object",
     "output_type": "error",
     "traceback": [
      "\u001b[1;31m---------------------------------------------------------------------------\u001b[0m",
      "\u001b[1;31mValueError\u001b[0m                                Traceback (most recent call last)",
      "Cell \u001b[1;32mIn[30], line 3\u001b[0m\n\u001b[0;32m      1\u001b[0m study \u001b[38;5;241m=\u001b[39m optuna\u001b[38;5;241m.\u001b[39mcreate_study(direction\u001b[38;5;241m=\u001b[39m\u001b[38;5;124m\"\u001b[39m\u001b[38;5;124mmaximize\u001b[39m\u001b[38;5;124m\"\u001b[39m, study_name\u001b[38;5;241m=\u001b[39m\u001b[38;5;124m\"\u001b[39m\u001b[38;5;124mLGBM Classifier\u001b[39m\u001b[38;5;124m\"\u001b[39m)\n\u001b[0;32m      2\u001b[0m func \u001b[38;5;241m=\u001b[39m \u001b[38;5;28;01mlambda\u001b[39;00m trial: objective(trial, X_train, y_train)\n\u001b[1;32m----> 3\u001b[0m \u001b[43mstudy\u001b[49m\u001b[38;5;241;43m.\u001b[39;49m\u001b[43moptimize\u001b[49m\u001b[43m(\u001b[49m\u001b[43mfunc\u001b[49m\u001b[43m,\u001b[49m\u001b[43m \u001b[49m\u001b[43mn_trials\u001b[49m\u001b[38;5;241;43m=\u001b[39;49m\u001b[38;5;241;43m200\u001b[39;49m\u001b[43m)\u001b[49m\n",
      "File \u001b[1;32md:\\Work\\Gre\\UTD\\Courses\\Fall\\MIS6341\\Softwares\\Python\\ml-fall-2023\\lib\\site-packages\\optuna\\study\\study.py:442\u001b[0m, in \u001b[0;36mStudy.optimize\u001b[1;34m(self, func, n_trials, timeout, n_jobs, catch, callbacks, gc_after_trial, show_progress_bar)\u001b[0m\n\u001b[0;32m    339\u001b[0m \u001b[38;5;28;01mdef\u001b[39;00m \u001b[38;5;21moptimize\u001b[39m(\n\u001b[0;32m    340\u001b[0m     \u001b[38;5;28mself\u001b[39m,\n\u001b[0;32m    341\u001b[0m     func: ObjectiveFuncType,\n\u001b[1;32m   (...)\u001b[0m\n\u001b[0;32m    348\u001b[0m     show_progress_bar: \u001b[38;5;28mbool\u001b[39m \u001b[38;5;241m=\u001b[39m \u001b[38;5;28;01mFalse\u001b[39;00m,\n\u001b[0;32m    349\u001b[0m ) \u001b[38;5;241m-\u001b[39m\u001b[38;5;241m>\u001b[39m \u001b[38;5;28;01mNone\u001b[39;00m:\n\u001b[0;32m    350\u001b[0m \u001b[38;5;250m    \u001b[39m\u001b[38;5;124;03m\"\"\"Optimize an objective function.\u001b[39;00m\n\u001b[0;32m    351\u001b[0m \n\u001b[0;32m    352\u001b[0m \u001b[38;5;124;03m    Optimization is done by choosing a suitable set of hyperparameter values from a given\u001b[39;00m\n\u001b[1;32m   (...)\u001b[0m\n\u001b[0;32m    440\u001b[0m \u001b[38;5;124;03m            If nested invocation of this method occurs.\u001b[39;00m\n\u001b[0;32m    441\u001b[0m \u001b[38;5;124;03m    \"\"\"\u001b[39;00m\n\u001b[1;32m--> 442\u001b[0m     \u001b[43m_optimize\u001b[49m\u001b[43m(\u001b[49m\n\u001b[0;32m    443\u001b[0m \u001b[43m        \u001b[49m\u001b[43mstudy\u001b[49m\u001b[38;5;241;43m=\u001b[39;49m\u001b[38;5;28;43mself\u001b[39;49m\u001b[43m,\u001b[49m\n\u001b[0;32m    444\u001b[0m \u001b[43m        \u001b[49m\u001b[43mfunc\u001b[49m\u001b[38;5;241;43m=\u001b[39;49m\u001b[43mfunc\u001b[49m\u001b[43m,\u001b[49m\n\u001b[0;32m    445\u001b[0m \u001b[43m        \u001b[49m\u001b[43mn_trials\u001b[49m\u001b[38;5;241;43m=\u001b[39;49m\u001b[43mn_trials\u001b[49m\u001b[43m,\u001b[49m\n\u001b[0;32m    446\u001b[0m \u001b[43m        \u001b[49m\u001b[43mtimeout\u001b[49m\u001b[38;5;241;43m=\u001b[39;49m\u001b[43mtimeout\u001b[49m\u001b[43m,\u001b[49m\n\u001b[0;32m    447\u001b[0m \u001b[43m        \u001b[49m\u001b[43mn_jobs\u001b[49m\u001b[38;5;241;43m=\u001b[39;49m\u001b[43mn_jobs\u001b[49m\u001b[43m,\u001b[49m\n\u001b[0;32m    448\u001b[0m \u001b[43m        \u001b[49m\u001b[43mcatch\u001b[49m\u001b[38;5;241;43m=\u001b[39;49m\u001b[38;5;28;43mtuple\u001b[39;49m\u001b[43m(\u001b[49m\u001b[43mcatch\u001b[49m\u001b[43m)\u001b[49m\u001b[43m \u001b[49m\u001b[38;5;28;43;01mif\u001b[39;49;00m\u001b[43m \u001b[49m\u001b[38;5;28;43misinstance\u001b[39;49m\u001b[43m(\u001b[49m\u001b[43mcatch\u001b[49m\u001b[43m,\u001b[49m\u001b[43m \u001b[49m\u001b[43mIterable\u001b[49m\u001b[43m)\u001b[49m\u001b[43m \u001b[49m\u001b[38;5;28;43;01melse\u001b[39;49;00m\u001b[43m \u001b[49m\u001b[43m(\u001b[49m\u001b[43mcatch\u001b[49m\u001b[43m,\u001b[49m\u001b[43m)\u001b[49m\u001b[43m,\u001b[49m\n\u001b[0;32m    449\u001b[0m \u001b[43m        \u001b[49m\u001b[43mcallbacks\u001b[49m\u001b[38;5;241;43m=\u001b[39;49m\u001b[43mcallbacks\u001b[49m\u001b[43m,\u001b[49m\n\u001b[0;32m    450\u001b[0m \u001b[43m        \u001b[49m\u001b[43mgc_after_trial\u001b[49m\u001b[38;5;241;43m=\u001b[39;49m\u001b[43mgc_after_trial\u001b[49m\u001b[43m,\u001b[49m\n\u001b[0;32m    451\u001b[0m \u001b[43m        \u001b[49m\u001b[43mshow_progress_bar\u001b[49m\u001b[38;5;241;43m=\u001b[39;49m\u001b[43mshow_progress_bar\u001b[49m\u001b[43m,\u001b[49m\n\u001b[0;32m    452\u001b[0m \u001b[43m    \u001b[49m\u001b[43m)\u001b[49m\n",
      "File \u001b[1;32md:\\Work\\Gre\\UTD\\Courses\\Fall\\MIS6341\\Softwares\\Python\\ml-fall-2023\\lib\\site-packages\\optuna\\study\\_optimize.py:66\u001b[0m, in \u001b[0;36m_optimize\u001b[1;34m(study, func, n_trials, timeout, n_jobs, catch, callbacks, gc_after_trial, show_progress_bar)\u001b[0m\n\u001b[0;32m     64\u001b[0m \u001b[38;5;28;01mtry\u001b[39;00m:\n\u001b[0;32m     65\u001b[0m     \u001b[38;5;28;01mif\u001b[39;00m n_jobs \u001b[38;5;241m==\u001b[39m \u001b[38;5;241m1\u001b[39m:\n\u001b[1;32m---> 66\u001b[0m         \u001b[43m_optimize_sequential\u001b[49m\u001b[43m(\u001b[49m\n\u001b[0;32m     67\u001b[0m \u001b[43m            \u001b[49m\u001b[43mstudy\u001b[49m\u001b[43m,\u001b[49m\n\u001b[0;32m     68\u001b[0m \u001b[43m            \u001b[49m\u001b[43mfunc\u001b[49m\u001b[43m,\u001b[49m\n\u001b[0;32m     69\u001b[0m \u001b[43m            \u001b[49m\u001b[43mn_trials\u001b[49m\u001b[43m,\u001b[49m\n\u001b[0;32m     70\u001b[0m \u001b[43m            \u001b[49m\u001b[43mtimeout\u001b[49m\u001b[43m,\u001b[49m\n\u001b[0;32m     71\u001b[0m \u001b[43m            \u001b[49m\u001b[43mcatch\u001b[49m\u001b[43m,\u001b[49m\n\u001b[0;32m     72\u001b[0m \u001b[43m            \u001b[49m\u001b[43mcallbacks\u001b[49m\u001b[43m,\u001b[49m\n\u001b[0;32m     73\u001b[0m \u001b[43m            \u001b[49m\u001b[43mgc_after_trial\u001b[49m\u001b[43m,\u001b[49m\n\u001b[0;32m     74\u001b[0m \u001b[43m            \u001b[49m\u001b[43mreseed_sampler_rng\u001b[49m\u001b[38;5;241;43m=\u001b[39;49m\u001b[38;5;28;43;01mFalse\u001b[39;49;00m\u001b[43m,\u001b[49m\n\u001b[0;32m     75\u001b[0m \u001b[43m            \u001b[49m\u001b[43mtime_start\u001b[49m\u001b[38;5;241;43m=\u001b[39;49m\u001b[38;5;28;43;01mNone\u001b[39;49;00m\u001b[43m,\u001b[49m\n\u001b[0;32m     76\u001b[0m \u001b[43m            \u001b[49m\u001b[43mprogress_bar\u001b[49m\u001b[38;5;241;43m=\u001b[39;49m\u001b[43mprogress_bar\u001b[49m\u001b[43m,\u001b[49m\n\u001b[0;32m     77\u001b[0m \u001b[43m        \u001b[49m\u001b[43m)\u001b[49m\n\u001b[0;32m     78\u001b[0m     \u001b[38;5;28;01melse\u001b[39;00m:\n\u001b[0;32m     79\u001b[0m         \u001b[38;5;28;01mif\u001b[39;00m n_jobs \u001b[38;5;241m==\u001b[39m \u001b[38;5;241m-\u001b[39m\u001b[38;5;241m1\u001b[39m:\n",
      "File \u001b[1;32md:\\Work\\Gre\\UTD\\Courses\\Fall\\MIS6341\\Softwares\\Python\\ml-fall-2023\\lib\\site-packages\\optuna\\study\\_optimize.py:163\u001b[0m, in \u001b[0;36m_optimize_sequential\u001b[1;34m(study, func, n_trials, timeout, catch, callbacks, gc_after_trial, reseed_sampler_rng, time_start, progress_bar)\u001b[0m\n\u001b[0;32m    160\u001b[0m         \u001b[38;5;28;01mbreak\u001b[39;00m\n\u001b[0;32m    162\u001b[0m \u001b[38;5;28;01mtry\u001b[39;00m:\n\u001b[1;32m--> 163\u001b[0m     frozen_trial \u001b[38;5;241m=\u001b[39m \u001b[43m_run_trial\u001b[49m\u001b[43m(\u001b[49m\u001b[43mstudy\u001b[49m\u001b[43m,\u001b[49m\u001b[43m \u001b[49m\u001b[43mfunc\u001b[49m\u001b[43m,\u001b[49m\u001b[43m \u001b[49m\u001b[43mcatch\u001b[49m\u001b[43m)\u001b[49m\n\u001b[0;32m    164\u001b[0m \u001b[38;5;28;01mfinally\u001b[39;00m:\n\u001b[0;32m    165\u001b[0m     \u001b[38;5;66;03m# The following line mitigates memory problems that can be occurred in some\u001b[39;00m\n\u001b[0;32m    166\u001b[0m     \u001b[38;5;66;03m# environments (e.g., services that use computing containers such as GitHub Actions).\u001b[39;00m\n\u001b[0;32m    167\u001b[0m     \u001b[38;5;66;03m# Please refer to the following PR for further details:\u001b[39;00m\n\u001b[0;32m    168\u001b[0m     \u001b[38;5;66;03m# https://github.com/optuna/optuna/pull/325.\u001b[39;00m\n\u001b[0;32m    169\u001b[0m     \u001b[38;5;28;01mif\u001b[39;00m gc_after_trial:\n",
      "File \u001b[1;32md:\\Work\\Gre\\UTD\\Courses\\Fall\\MIS6341\\Softwares\\Python\\ml-fall-2023\\lib\\site-packages\\optuna\\study\\_optimize.py:251\u001b[0m, in \u001b[0;36m_run_trial\u001b[1;34m(study, func, catch)\u001b[0m\n\u001b[0;32m    244\u001b[0m         \u001b[38;5;28;01massert\u001b[39;00m \u001b[38;5;28;01mFalse\u001b[39;00m, \u001b[38;5;124m\"\u001b[39m\u001b[38;5;124mShould not reach.\u001b[39m\u001b[38;5;124m\"\u001b[39m\n\u001b[0;32m    246\u001b[0m \u001b[38;5;28;01mif\u001b[39;00m (\n\u001b[0;32m    247\u001b[0m     frozen_trial\u001b[38;5;241m.\u001b[39mstate \u001b[38;5;241m==\u001b[39m TrialState\u001b[38;5;241m.\u001b[39mFAIL\n\u001b[0;32m    248\u001b[0m     \u001b[38;5;129;01mand\u001b[39;00m func_err \u001b[38;5;129;01mis\u001b[39;00m \u001b[38;5;129;01mnot\u001b[39;00m \u001b[38;5;28;01mNone\u001b[39;00m\n\u001b[0;32m    249\u001b[0m     \u001b[38;5;129;01mand\u001b[39;00m \u001b[38;5;129;01mnot\u001b[39;00m \u001b[38;5;28misinstance\u001b[39m(func_err, catch)\n\u001b[0;32m    250\u001b[0m ):\n\u001b[1;32m--> 251\u001b[0m     \u001b[38;5;28;01mraise\u001b[39;00m func_err\n\u001b[0;32m    252\u001b[0m \u001b[38;5;28;01mreturn\u001b[39;00m frozen_trial\n",
      "File \u001b[1;32md:\\Work\\Gre\\UTD\\Courses\\Fall\\MIS6341\\Softwares\\Python\\ml-fall-2023\\lib\\site-packages\\optuna\\study\\_optimize.py:200\u001b[0m, in \u001b[0;36m_run_trial\u001b[1;34m(study, func, catch)\u001b[0m\n\u001b[0;32m    198\u001b[0m \u001b[38;5;28;01mwith\u001b[39;00m get_heartbeat_thread(trial\u001b[38;5;241m.\u001b[39m_trial_id, study\u001b[38;5;241m.\u001b[39m_storage):\n\u001b[0;32m    199\u001b[0m     \u001b[38;5;28;01mtry\u001b[39;00m:\n\u001b[1;32m--> 200\u001b[0m         value_or_values \u001b[38;5;241m=\u001b[39m \u001b[43mfunc\u001b[49m\u001b[43m(\u001b[49m\u001b[43mtrial\u001b[49m\u001b[43m)\u001b[49m\n\u001b[0;32m    201\u001b[0m     \u001b[38;5;28;01mexcept\u001b[39;00m exceptions\u001b[38;5;241m.\u001b[39mTrialPruned \u001b[38;5;28;01mas\u001b[39;00m e:\n\u001b[0;32m    202\u001b[0m         \u001b[38;5;66;03m# TODO(mamu): Handle multi-objective cases.\u001b[39;00m\n\u001b[0;32m    203\u001b[0m         state \u001b[38;5;241m=\u001b[39m TrialState\u001b[38;5;241m.\u001b[39mPRUNED\n",
      "Cell \u001b[1;32mIn[30], line 2\u001b[0m, in \u001b[0;36m<lambda>\u001b[1;34m(trial)\u001b[0m\n\u001b[0;32m      1\u001b[0m study \u001b[38;5;241m=\u001b[39m optuna\u001b[38;5;241m.\u001b[39mcreate_study(direction\u001b[38;5;241m=\u001b[39m\u001b[38;5;124m\"\u001b[39m\u001b[38;5;124mmaximize\u001b[39m\u001b[38;5;124m\"\u001b[39m, study_name\u001b[38;5;241m=\u001b[39m\u001b[38;5;124m\"\u001b[39m\u001b[38;5;124mLGBM Classifier\u001b[39m\u001b[38;5;124m\"\u001b[39m)\n\u001b[1;32m----> 2\u001b[0m func \u001b[38;5;241m=\u001b[39m \u001b[38;5;28;01mlambda\u001b[39;00m trial: \u001b[43mobjective\u001b[49m\u001b[43m(\u001b[49m\u001b[43mtrial\u001b[49m\u001b[43m,\u001b[49m\u001b[43m \u001b[49m\u001b[43mX_train\u001b[49m\u001b[43m,\u001b[49m\u001b[43m \u001b[49m\u001b[43my_train\u001b[49m\u001b[43m)\u001b[49m\n\u001b[0;32m      3\u001b[0m study\u001b[38;5;241m.\u001b[39moptimize(func, n_trials\u001b[38;5;241m=\u001b[39m\u001b[38;5;241m200\u001b[39m)\n",
      "Cell \u001b[1;32mIn[29], line 40\u001b[0m, in \u001b[0;36mobjective\u001b[1;34m(trial, X, y)\u001b[0m\n\u001b[0;32m     38\u001b[0m train_data \u001b[38;5;241m=\u001b[39m lgb\u001b[38;5;241m.\u001b[39mDataset(data\u001b[38;5;241m=\u001b[39mX_train, label\u001b[38;5;241m=\u001b[39my_train, params\u001b[38;5;241m=\u001b[39m{\u001b[38;5;124m\"\u001b[39m\u001b[38;5;124mverbose\u001b[39m\u001b[38;5;124m\"\u001b[39m:\u001b[38;5;241m-\u001b[39m\u001b[38;5;241m1\u001b[39m})\n\u001b[0;32m     39\u001b[0m valid_data \u001b[38;5;241m=\u001b[39m lgb\u001b[38;5;241m.\u001b[39mDataset(data\u001b[38;5;241m=\u001b[39mX_valid, label\u001b[38;5;241m=\u001b[39my_valid, params\u001b[38;5;241m=\u001b[39m{\u001b[38;5;124m\"\u001b[39m\u001b[38;5;124mverbose\u001b[39m\u001b[38;5;124m\"\u001b[39m:\u001b[38;5;241m-\u001b[39m\u001b[38;5;241m1\u001b[39m})\n\u001b[1;32m---> 40\u001b[0m lgb_clf \u001b[38;5;241m=\u001b[39m \u001b[43mlgb\u001b[49m\u001b[38;5;241;43m.\u001b[39;49m\u001b[43mtrain\u001b[49m\u001b[43m(\u001b[49m\u001b[43mparams\u001b[49m\u001b[38;5;241;43m=\u001b[39;49m\u001b[43mparam_grid\u001b[49m\u001b[43m,\u001b[49m\n\u001b[0;32m     41\u001b[0m \u001b[43m                    \u001b[49m\u001b[43mtrain_set\u001b[49m\u001b[38;5;241;43m=\u001b[39;49m\u001b[43mtrain_data\u001b[49m\u001b[43m,\u001b[49m\n\u001b[0;32m     42\u001b[0m \u001b[43m                    \u001b[49m\u001b[43mvalid_sets\u001b[49m\u001b[38;5;241;43m=\u001b[39;49m\u001b[43m[\u001b[49m\u001b[43mvalid_data\u001b[49m\u001b[43m]\u001b[49m\u001b[43m,\u001b[49m\n\u001b[0;32m     43\u001b[0m \u001b[43m                    \u001b[49m\u001b[38;5;66;43;03m#categorical_feature=categorical_columns,\u001b[39;49;00m\n\u001b[0;32m     44\u001b[0m \u001b[43m                    \u001b[49m\u001b[43mcallbacks\u001b[49m\u001b[38;5;241;43m=\u001b[39;49m\u001b[43m[\u001b[49m\u001b[43mLightGBMPruningCallback\u001b[49m\u001b[43m(\u001b[49m\u001b[43mtrial\u001b[49m\u001b[43m,\u001b[49m\u001b[43m \u001b[49m\u001b[38;5;124;43m\"\u001b[39;49m\u001b[38;5;124;43mauc\u001b[39;49m\u001b[38;5;124;43m\"\u001b[39;49m\u001b[43m)\u001b[49m\u001b[43m,\u001b[49m\n\u001b[0;32m     45\u001b[0m \u001b[43m                                \u001b[49m\u001b[43mlgb\u001b[49m\u001b[38;5;241;43m.\u001b[39;49m\u001b[43mearly_stopping\u001b[49m\u001b[43m(\u001b[49m\u001b[43mstopping_rounds\u001b[49m\u001b[38;5;241;43m=\u001b[39;49m\u001b[38;5;241;43m5\u001b[39;49m\u001b[43m)\u001b[49m\u001b[43m]\u001b[49m\u001b[43m  \u001b[49m\n\u001b[0;32m     46\u001b[0m \u001b[43m                    \u001b[49m\u001b[43m)\u001b[49m\n\u001b[0;32m     47\u001b[0m preds \u001b[38;5;241m=\u001b[39m lgb_clf\u001b[38;5;241m.\u001b[39mpredict(X_valid)\n\u001b[0;32m     48\u001b[0m cv_scores[idx] \u001b[38;5;241m=\u001b[39m roc_auc_score(y_valid, preds)\n",
      "File \u001b[1;32md:\\Work\\Gre\\UTD\\Courses\\Fall\\MIS6341\\Softwares\\Python\\ml-fall-2023\\lib\\site-packages\\lightgbm\\engine.py:245\u001b[0m, in \u001b[0;36mtrain\u001b[1;34m(params, train_set, num_boost_round, valid_sets, valid_names, feval, init_model, feature_name, categorical_feature, keep_training_booster, callbacks)\u001b[0m\n\u001b[0;32m    243\u001b[0m \u001b[38;5;66;03m# construct booster\u001b[39;00m\n\u001b[0;32m    244\u001b[0m \u001b[38;5;28;01mtry\u001b[39;00m:\n\u001b[1;32m--> 245\u001b[0m     booster \u001b[38;5;241m=\u001b[39m \u001b[43mBooster\u001b[49m\u001b[43m(\u001b[49m\u001b[43mparams\u001b[49m\u001b[38;5;241;43m=\u001b[39;49m\u001b[43mparams\u001b[49m\u001b[43m,\u001b[49m\u001b[43m \u001b[49m\u001b[43mtrain_set\u001b[49m\u001b[38;5;241;43m=\u001b[39;49m\u001b[43mtrain_set\u001b[49m\u001b[43m)\u001b[49m\n\u001b[0;32m    246\u001b[0m     \u001b[38;5;28;01mif\u001b[39;00m is_valid_contain_train:\n\u001b[0;32m    247\u001b[0m         booster\u001b[38;5;241m.\u001b[39mset_train_data_name(train_data_name)\n",
      "File \u001b[1;32md:\\Work\\Gre\\UTD\\Courses\\Fall\\MIS6341\\Softwares\\Python\\ml-fall-2023\\lib\\site-packages\\lightgbm\\basic.py:3096\u001b[0m, in \u001b[0;36mBooster.__init__\u001b[1;34m(self, params, train_set, model_file, model_str)\u001b[0m\n\u001b[0;32m   3089\u001b[0m     \u001b[38;5;28mself\u001b[39m\u001b[38;5;241m.\u001b[39mset_network(\n\u001b[0;32m   3090\u001b[0m         machines\u001b[38;5;241m=\u001b[39mmachines,\n\u001b[0;32m   3091\u001b[0m         local_listen_port\u001b[38;5;241m=\u001b[39mparams[\u001b[38;5;124m\"\u001b[39m\u001b[38;5;124mlocal_listen_port\u001b[39m\u001b[38;5;124m\"\u001b[39m],\n\u001b[0;32m   3092\u001b[0m         listen_time_out\u001b[38;5;241m=\u001b[39mparams\u001b[38;5;241m.\u001b[39mget(\u001b[38;5;124m\"\u001b[39m\u001b[38;5;124mtime_out\u001b[39m\u001b[38;5;124m\"\u001b[39m, \u001b[38;5;241m120\u001b[39m),\n\u001b[0;32m   3093\u001b[0m         num_machines\u001b[38;5;241m=\u001b[39mparams[\u001b[38;5;124m\"\u001b[39m\u001b[38;5;124mnum_machines\u001b[39m\u001b[38;5;124m\"\u001b[39m]\n\u001b[0;32m   3094\u001b[0m     )\n\u001b[0;32m   3095\u001b[0m \u001b[38;5;66;03m# construct booster object\u001b[39;00m\n\u001b[1;32m-> 3096\u001b[0m \u001b[43mtrain_set\u001b[49m\u001b[38;5;241;43m.\u001b[39;49m\u001b[43mconstruct\u001b[49m\u001b[43m(\u001b[49m\u001b[43m)\u001b[49m\n\u001b[0;32m   3097\u001b[0m \u001b[38;5;66;03m# copy the parameters from train_set\u001b[39;00m\n\u001b[0;32m   3098\u001b[0m params\u001b[38;5;241m.\u001b[39mupdate(train_set\u001b[38;5;241m.\u001b[39mget_params())\n",
      "File \u001b[1;32md:\\Work\\Gre\\UTD\\Courses\\Fall\\MIS6341\\Softwares\\Python\\ml-fall-2023\\lib\\site-packages\\lightgbm\\basic.py:2210\u001b[0m, in \u001b[0;36mDataset.construct\u001b[1;34m(self)\u001b[0m\n\u001b[0;32m   2203\u001b[0m             \u001b[38;5;28mself\u001b[39m\u001b[38;5;241m.\u001b[39m_set_init_score_by_predictor(\n\u001b[0;32m   2204\u001b[0m                 predictor\u001b[38;5;241m=\u001b[39m\u001b[38;5;28mself\u001b[39m\u001b[38;5;241m.\u001b[39m_predictor,\n\u001b[0;32m   2205\u001b[0m                 data\u001b[38;5;241m=\u001b[39m\u001b[38;5;28mself\u001b[39m\u001b[38;5;241m.\u001b[39mdata,\n\u001b[0;32m   2206\u001b[0m                 used_indices\u001b[38;5;241m=\u001b[39mused_indices\n\u001b[0;32m   2207\u001b[0m             )\n\u001b[0;32m   2208\u001b[0m \u001b[38;5;28;01melse\u001b[39;00m:\n\u001b[0;32m   2209\u001b[0m     \u001b[38;5;66;03m# create train\u001b[39;00m\n\u001b[1;32m-> 2210\u001b[0m     \u001b[38;5;28;43mself\u001b[39;49m\u001b[38;5;241;43m.\u001b[39;49m\u001b[43m_lazy_init\u001b[49m\u001b[43m(\u001b[49m\u001b[43mdata\u001b[49m\u001b[38;5;241;43m=\u001b[39;49m\u001b[38;5;28;43mself\u001b[39;49m\u001b[38;5;241;43m.\u001b[39;49m\u001b[43mdata\u001b[49m\u001b[43m,\u001b[49m\u001b[43m \u001b[49m\u001b[43mlabel\u001b[49m\u001b[38;5;241;43m=\u001b[39;49m\u001b[38;5;28;43mself\u001b[39;49m\u001b[38;5;241;43m.\u001b[39;49m\u001b[43mlabel\u001b[49m\u001b[43m,\u001b[49m\u001b[43m \u001b[49m\u001b[43mreference\u001b[49m\u001b[38;5;241;43m=\u001b[39;49m\u001b[38;5;28;43;01mNone\u001b[39;49;00m\u001b[43m,\u001b[49m\n\u001b[0;32m   2211\u001b[0m \u001b[43m                    \u001b[49m\u001b[43mweight\u001b[49m\u001b[38;5;241;43m=\u001b[39;49m\u001b[38;5;28;43mself\u001b[39;49m\u001b[38;5;241;43m.\u001b[39;49m\u001b[43mweight\u001b[49m\u001b[43m,\u001b[49m\u001b[43m \u001b[49m\u001b[43mgroup\u001b[49m\u001b[38;5;241;43m=\u001b[39;49m\u001b[38;5;28;43mself\u001b[39;49m\u001b[38;5;241;43m.\u001b[39;49m\u001b[43mgroup\u001b[49m\u001b[43m,\u001b[49m\n\u001b[0;32m   2212\u001b[0m \u001b[43m                    \u001b[49m\u001b[43minit_score\u001b[49m\u001b[38;5;241;43m=\u001b[39;49m\u001b[38;5;28;43mself\u001b[39;49m\u001b[38;5;241;43m.\u001b[39;49m\u001b[43minit_score\u001b[49m\u001b[43m,\u001b[49m\u001b[43m \u001b[49m\u001b[43mpredictor\u001b[49m\u001b[38;5;241;43m=\u001b[39;49m\u001b[38;5;28;43mself\u001b[39;49m\u001b[38;5;241;43m.\u001b[39;49m\u001b[43m_predictor\u001b[49m\u001b[43m,\u001b[49m\n\u001b[0;32m   2213\u001b[0m \u001b[43m                    \u001b[49m\u001b[43mfeature_name\u001b[49m\u001b[38;5;241;43m=\u001b[39;49m\u001b[38;5;28;43mself\u001b[39;49m\u001b[38;5;241;43m.\u001b[39;49m\u001b[43mfeature_name\u001b[49m\u001b[43m,\u001b[49m\u001b[43m \u001b[49m\u001b[43mcategorical_feature\u001b[49m\u001b[38;5;241;43m=\u001b[39;49m\u001b[38;5;28;43mself\u001b[39;49m\u001b[38;5;241;43m.\u001b[39;49m\u001b[43mcategorical_feature\u001b[49m\u001b[43m,\u001b[49m\u001b[43m \u001b[49m\u001b[43mparams\u001b[49m\u001b[38;5;241;43m=\u001b[39;49m\u001b[38;5;28;43mself\u001b[39;49m\u001b[38;5;241;43m.\u001b[39;49m\u001b[43mparams\u001b[49m\u001b[43m)\u001b[49m\n\u001b[0;32m   2214\u001b[0m \u001b[38;5;28;01mif\u001b[39;00m \u001b[38;5;28mself\u001b[39m\u001b[38;5;241m.\u001b[39mfree_raw_data:\n\u001b[0;32m   2215\u001b[0m     \u001b[38;5;28mself\u001b[39m\u001b[38;5;241m.\u001b[39mdata \u001b[38;5;241m=\u001b[39m \u001b[38;5;28;01mNone\u001b[39;00m\n",
      "File \u001b[1;32md:\\Work\\Gre\\UTD\\Courses\\Fall\\MIS6341\\Softwares\\Python\\ml-fall-2023\\lib\\site-packages\\lightgbm\\basic.py:1801\u001b[0m, in \u001b[0;36mDataset._lazy_init\u001b[1;34m(self, data, label, reference, weight, group, init_score, predictor, feature_name, categorical_feature, params)\u001b[0m\n\u001b[0;32m   1799\u001b[0m     \u001b[38;5;28mself\u001b[39m\u001b[38;5;241m.\u001b[39mpandas_categorical \u001b[38;5;241m=\u001b[39m reference\u001b[38;5;241m.\u001b[39mpandas_categorical\n\u001b[0;32m   1800\u001b[0m     categorical_feature \u001b[38;5;241m=\u001b[39m reference\u001b[38;5;241m.\u001b[39mcategorical_feature\n\u001b[1;32m-> 1801\u001b[0m data, feature_name, categorical_feature, \u001b[38;5;28mself\u001b[39m\u001b[38;5;241m.\u001b[39mpandas_categorical \u001b[38;5;241m=\u001b[39m \u001b[43m_data_from_pandas\u001b[49m\u001b[43m(\u001b[49m\u001b[43mdata\u001b[49m\u001b[38;5;241;43m=\u001b[39;49m\u001b[43mdata\u001b[49m\u001b[43m,\u001b[49m\n\u001b[0;32m   1802\u001b[0m \u001b[43m                                                                                     \u001b[49m\u001b[43mfeature_name\u001b[49m\u001b[38;5;241;43m=\u001b[39;49m\u001b[43mfeature_name\u001b[49m\u001b[43m,\u001b[49m\n\u001b[0;32m   1803\u001b[0m \u001b[43m                                                                                     \u001b[49m\u001b[43mcategorical_feature\u001b[49m\u001b[38;5;241;43m=\u001b[39;49m\u001b[43mcategorical_feature\u001b[49m\u001b[43m,\u001b[49m\n\u001b[0;32m   1804\u001b[0m \u001b[43m                                                                                     \u001b[49m\u001b[43mpandas_categorical\u001b[49m\u001b[38;5;241;43m=\u001b[39;49m\u001b[38;5;28;43mself\u001b[39;49m\u001b[38;5;241;43m.\u001b[39;49m\u001b[43mpandas_categorical\u001b[49m\u001b[43m)\u001b[49m\n\u001b[0;32m   1806\u001b[0m \u001b[38;5;66;03m# process for args\u001b[39;00m\n\u001b[0;32m   1807\u001b[0m params \u001b[38;5;241m=\u001b[39m {} \u001b[38;5;28;01mif\u001b[39;00m params \u001b[38;5;129;01mis\u001b[39;00m \u001b[38;5;28;01mNone\u001b[39;00m \u001b[38;5;28;01melse\u001b[39;00m params\n",
      "File \u001b[1;32md:\\Work\\Gre\\UTD\\Courses\\Fall\\MIS6341\\Softwares\\Python\\ml-fall-2023\\lib\\site-packages\\lightgbm\\basic.py:698\u001b[0m, in \u001b[0;36m_data_from_pandas\u001b[1;34m(data, feature_name, categorical_feature, pandas_categorical)\u001b[0m\n\u001b[0;32m    696\u001b[0m \u001b[38;5;28;01mif\u001b[39;00m feature_name \u001b[38;5;241m==\u001b[39m \u001b[38;5;124m'\u001b[39m\u001b[38;5;124mauto\u001b[39m\u001b[38;5;124m'\u001b[39m:\n\u001b[0;32m    697\u001b[0m     feature_name \u001b[38;5;241m=\u001b[39m \u001b[38;5;28mlist\u001b[39m(data\u001b[38;5;241m.\u001b[39mcolumns)\n\u001b[1;32m--> 698\u001b[0m \u001b[43m_check_for_bad_pandas_dtypes\u001b[49m\u001b[43m(\u001b[49m\u001b[43mdata\u001b[49m\u001b[38;5;241;43m.\u001b[39;49m\u001b[43mdtypes\u001b[49m\u001b[43m)\u001b[49m\n\u001b[0;32m    699\u001b[0m df_dtypes \u001b[38;5;241m=\u001b[39m [dtype\u001b[38;5;241m.\u001b[39mtype \u001b[38;5;28;01mfor\u001b[39;00m dtype \u001b[38;5;129;01min\u001b[39;00m data\u001b[38;5;241m.\u001b[39mdtypes]\n\u001b[0;32m    700\u001b[0m df_dtypes\u001b[38;5;241m.\u001b[39mappend(np\u001b[38;5;241m.\u001b[39mfloat32)  \u001b[38;5;66;03m# so that the target dtype considers floats\u001b[39;00m\n",
      "File \u001b[1;32md:\\Work\\Gre\\UTD\\Courses\\Fall\\MIS6341\\Softwares\\Python\\ml-fall-2023\\lib\\site-packages\\lightgbm\\basic.py:661\u001b[0m, in \u001b[0;36m_check_for_bad_pandas_dtypes\u001b[1;34m(pandas_dtypes_series)\u001b[0m\n\u001b[0;32m    655\u001b[0m bad_pandas_dtypes \u001b[38;5;241m=\u001b[39m [\n\u001b[0;32m    656\u001b[0m     \u001b[38;5;124mf\u001b[39m\u001b[38;5;124m'\u001b[39m\u001b[38;5;132;01m{\u001b[39;00mcolumn_name\u001b[38;5;132;01m}\u001b[39;00m\u001b[38;5;124m: \u001b[39m\u001b[38;5;132;01m{\u001b[39;00mpandas_dtype\u001b[38;5;132;01m}\u001b[39;00m\u001b[38;5;124m'\u001b[39m\n\u001b[0;32m    657\u001b[0m     \u001b[38;5;28;01mfor\u001b[39;00m column_name, pandas_dtype \u001b[38;5;129;01min\u001b[39;00m pandas_dtypes_series\u001b[38;5;241m.\u001b[39mitems()\n\u001b[0;32m    658\u001b[0m     \u001b[38;5;28;01mif\u001b[39;00m \u001b[38;5;129;01mnot\u001b[39;00m _is_allowed_numpy_dtype(pandas_dtype\u001b[38;5;241m.\u001b[39mtype)\n\u001b[0;32m    659\u001b[0m ]\n\u001b[0;32m    660\u001b[0m \u001b[38;5;28;01mif\u001b[39;00m bad_pandas_dtypes:\n\u001b[1;32m--> 661\u001b[0m     \u001b[38;5;28;01mraise\u001b[39;00m \u001b[38;5;167;01mValueError\u001b[39;00m(\u001b[38;5;124m'\u001b[39m\u001b[38;5;124mpandas dtypes must be int, float or bool.\u001b[39m\u001b[38;5;130;01m\\n\u001b[39;00m\u001b[38;5;124m'\u001b[39m\n\u001b[0;32m    662\u001b[0m                      \u001b[38;5;124mf\u001b[39m\u001b[38;5;124m'\u001b[39m\u001b[38;5;124mFields with bad pandas dtypes: \u001b[39m\u001b[38;5;132;01m{\u001b[39;00m\u001b[38;5;124m\"\u001b[39m\u001b[38;5;124m, \u001b[39m\u001b[38;5;124m\"\u001b[39m\u001b[38;5;241m.\u001b[39mjoin(bad_pandas_dtypes)\u001b[38;5;132;01m}\u001b[39;00m\u001b[38;5;124m'\u001b[39m)\n",
      "\u001b[1;31mValueError\u001b[0m: pandas dtypes must be int, float or bool.\nFields with bad pandas dtypes: City: object, State: object, Bank: object, BankState: object, RevLineCr: object, LowDoc: object"
     ]
    }
   ],
   "source": [
    "study = optuna.create_study(direction=\"maximize\", study_name=\"LGBM Classifier\")\n",
    "func = lambda trial: objective(trial, X_train, y_train)\n",
    "study.optimize(func, n_trials=200)"
   ]
  },
  {
   "cell_type": "code",
   "execution_count": 18,
   "metadata": {},
   "outputs": [
    {
     "name": "stdout",
     "output_type": "stream",
     "text": [
      "Best Parameters: {'learning_rate': 0.060000000000000005, 'num_leaves': 90, 'max_depth': 19, 'min_data_in_leaf': 400, 'lambda_l1': 0.7896701947673371, 'lambda_l2': 7.527869982161154e-08, 'bagging_fraction': 0.9, 'bagging_freq': 5, 'feature_fraction': 0.9, 'is_unbalance': False}\n"
     ]
    }
   ],
   "source": [
    "# Assuming your study has completed optimization\n",
    "best_params = study.best_params\n",
    "\n",
    "# Print the best parameters\n",
    "print(\"Best Parameters:\", best_params)\n"
   ]
  },
  {
   "cell_type": "code",
   "execution_count": 19,
   "metadata": {},
   "outputs": [],
   "source": [
    "from sklearn.metrics import f1_score\n",
    "def calculate_optimal_threshold(classifier, X, y):\n",
    "    y_prob = classifier.predict_proba(X)[:, 1]\n",
    "    thresholds = np.linspace(0, 1, 100)\n",
    "    f1_scores = []\n",
    "    \n",
    "    for threshold in thresholds:\n",
    "        y_pred = (y_prob > threshold).astype(int)\n",
    "        score = f1_score(y, y_pred, average='macro')\n",
    "        f1_scores.append(score)\n",
    "    \n",
    "    optimal_threshold = thresholds[np.argmax(f1_scores)]\n",
    "    return optimal_threshold"
   ]
  },
  {
   "cell_type": "code",
   "execution_count": 20,
   "metadata": {},
   "outputs": [],
   "source": [
    "import pandas as pd\n",
    "import numpy as np\n",
    "import lightgbm as lgb\n",
    "from sklearn.metrics import roc_auc_score\n",
    "import category_encoders as ce\n",
    "from sklearn.preprocessing import StandardScaler\n",
    "import optuna\n",
    "from sklearn.model_selection import StratifiedKFold\n",
    "from optuna.integration import LightGBMPruningCallback\n",
    "import warnings\n",
    "import pickle\n",
    "warnings.filterwarnings(\"ignore\", category=UserWarning)\n",
    "\n",
    "def train_model(data):\n",
    "\n",
    "    data.drop(columns=\"index\",inplace=True)\n",
    "    for i in data['RevLineCr']:\n",
    "        if i not in ['Y','N']:\n",
    "            data['RevLineCr'].replace(i,'N',inplace=True)\n",
    "    for i in data['LowDoc']:\n",
    "        if i not in ['Y','N']:\n",
    "            data['LowDoc'].replace(i,'N',inplace=True)\n",
    "    for i in data['NewExist']:\n",
    "        if i not in [1,2]:\n",
    "            data['NewExist'].replace(i,None,inplace=True)\n",
    "\n",
    "    cat_cols=['City', 'State', 'Bank', 'BankState', 'RevLineCr', 'LowDoc','NewExist']\n",
    "    for column in cat_cols:\n",
    "        data[column]=data[column].fillna(data[column].mode()[0])\n",
    "\n",
    "    for column in cat_cols:\n",
    "        data[column]=data[column].fillna(data[column].mode()[0])\n",
    "    encoder = ce.TargetEncoder(cols=cat_cols)\n",
    "    encoder.fit(data, data['MIS_Status'])\n",
    "    data_encoded = encoder.transform(data)\n",
    "    data_encoded = data_encoded.add_suffix('_trg')\n",
    "    data_encoded = pd.concat([data_encoded, data], axis=1)\n",
    "    for column in cat_cols:\n",
    "        data_encoded[column + \"_trg\"].fillna(data_encoded[column + \"_trg\"].mean(), inplace=True)\n",
    "    data_encoded.drop(columns=cat_cols, inplace=True)\n",
    "    data_encoded.drop(columns='MIS_Status_trg', inplace=True)\n",
    "\n",
    "\n",
    "    #Feature Engineering\n",
    "    data_encoded['Log_DisbursementGross'] = np.log1p(data_encoded['DisbursementGross'])\n",
    "    data_encoded['Log_NoEmp'] = np.log1p(data_encoded['NoEmp'])\n",
    "    data_encoded['Log_GrAppv'] = np.log1p(data_encoded['GrAppv'])\n",
    "    data_encoded['Log_SBA_Appv'] = np.log1p(data_encoded['SBA_Appv'])\n",
    "    data_encoded['Log_BalanceGross'] = np.log1p(data_encoded['BalanceGross'])\n",
    "\n",
    "    data_encoded['Disbursement_Bins'] = pd.cut(data_encoded['DisbursementGross'],\n",
    "                                                bins=[-np.inf, 50000, 150000, np.inf],\n",
    "                                                labels=['Low', 'Medium', 'High'])\n",
    "    \n",
    "    data_encoded['Loan_Efficiency'] = data_encoded['DisbursementGross'] / (data_encoded['CreateJob'] + data_encoded['RetainedJob'] + 1)  # Adding 1 to avoid division by zero\n",
    "\n",
    "    data_encoded['Guarantee_Ratio'] = data_encoded['SBA_Appv'] / data_encoded['GrAppv']\n",
    "\n",
    "    data_encoded['Loan_Guarantee_Interaction'] = data_encoded['SBA_Appv'] * data_encoded['GrAppv']\n",
    "\n",
    "    data_encoded['Disbursement_Squared'] = data_encoded['DisbursementGross'] ** 2\n",
    "\n",
    "    numerical_columns = [ 'NoEmp', 'CreateJob', 'RetainedJob', 'GrAppv', 'SBA_Appv', 'DisbursementGross', 'BalanceGross', 'Log_DisbursementGross', 'Log_NoEmp', 'Log_GrAppv', 'Log_SBA_Appv', 'Log_BalanceGross', 'Loan_Efficiency', 'Guarantee_Ratio', 'Loan_Guarantee_Interaction', 'Disbursement_Squared']\n",
    "    scaler = StandardScaler()\n",
    "    data_encoded[numerical_columns] = scaler.fit_transform(data_encoded[numerical_columns])\n",
    "    for col in data_encoded.columns:\n",
    "        print(col,\":\",data_encoded[col].dtype)\n",
    "\n",
    "    X_train = data_encoded.copy()\n",
    "    y_train = X_train['MIS_Status']\n",
    "    X_train.drop(columns=['MIS_Status'], inplace=True)    \n",
    "    study_model_iteractions = {}\n",
    "    def objective(trial, X, y):\n",
    "        param_grid = {\n",
    "            \"num_iterations\": 10000,\n",
    "            \"learning_rate\": trial.suggest_float(\"learning_rate\", 0.01, 0.3, step=0.05),\n",
    "            \"num_leaves\": trial.suggest_int(\"num_leaves\", 50, 150, step=5),\n",
    "            \"max_depth\": trial.suggest_int(\"max_depth\", 5, 20, step=2),\n",
    "            \"min_data_in_leaf\": trial.suggest_int(\"min_data_in_leaf\", 100, 1000, step=100),\n",
    "            'lambda_l1': trial.suggest_float('lambda_l1', 1e-8, 10.0, log=True),\n",
    "            'lambda_l2': trial.suggest_float('lambda_l2', 1e-8, 10.0, log=True),\n",
    "            \"bagging_fraction\": trial.suggest_float(\"bagging_fraction\", 0.8, 1.0, step=0.1),\n",
    "            \"bagging_freq\": trial.suggest_categorical(\"bagging_freq\", [5]),\n",
    "            \"feature_fraction\": trial.suggest_float(\"feature_fraction\", 0.8, 1.0, step=0.1),\n",
    "            \"is_unbalance\": trial.suggest_categorical(\"is_unbalance\", [True, False]),\n",
    "            \"objective\": \"binary\",\n",
    "            \"metric\": \"auc\",\n",
    "            \"verbose\": -1\n",
    "        }\n",
    "\n",
    "        cv = StratifiedKFold(n_splits=5, shuffle=True, random_state=1121218)\n",
    "\n",
    "        cv_scores = np.empty(5)\n",
    "        cv_iteractions = np.empty(5)\n",
    "        for idx, (train_idx, test_idx) in enumerate(cv.split(X, y)):\n",
    "            X_train, X_valid = X.iloc[train_idx], X.iloc[test_idx]\n",
    "            y_train, y_valid = y.iloc[train_idx], y.iloc[test_idx]\n",
    "\n",
    "            train_data = lgb.Dataset(data=X_train, label=y_train, params={\"verbose\":-1})\n",
    "            valid_data = lgb.Dataset(data=X_valid, label=y_valid, params={\"verbose\":-1})\n",
    "            lgb_clf = lgb.train(params=param_grid,\n",
    "                                train_set=train_data,\n",
    "                                valid_sets=[valid_data],\n",
    "                                #categorical_feature=categorical_columns,\n",
    "                                callbacks=[LightGBMPruningCallback(trial, \"auc\"),\n",
    "                                            lgb.early_stopping(stopping_rounds=5)]  \n",
    "                                )\n",
    "            preds = lgb_clf.predict(X_valid)\n",
    "            cv_scores[idx] = roc_auc_score(y_valid, preds)\n",
    "            cv_iteractions[idx] = lgb_clf.best_iteration\n",
    "        \n",
    "        study_model_iteractions[trial.number] = np.mean(cv_iteractions)\n",
    "\n",
    "        return np.mean(cv_scores)\n",
    "\n",
    "    study = optuna.create_study(direction=\"maximize\", study_name=\"LGBM Classifier\")\n",
    "    func = lambda trial: objective(trial, X_train, y_train)\n",
    "    study.optimize(func, n_trials=200)\n",
    "    best_params = study.best_params\n",
    "    print(\"Best Parameters:\", best_params)\n",
    "\n",
    "    best_params = study.best_params\n",
    "    print(\"Best Parameters:\", best_params)\n",
    "\n",
    "    # Create and train the classifier with the best parameters\n",
    "    best_classifier = lgb.LGBMClassifier(**best_params)\n",
    "    best_classifier.fit(X_train, y_train)\n",
    "\n",
    "    # Now pass this classifier to your function\n",
    "    optimal_threshold = calculate_optimal_threshold(best_classifier, X_train, y_train)\n",
    "    print(\"Optimal Threshold:\", optimal_threshold)\n",
    "    artifacts_dict ={\n",
    "        \"best_classifier\":best_classifier,\n",
    "        \"encoder\":encoder,\n",
    "        \"scaler\":scaler,\n",
    "        \"optimal_threshold\":optimal_threshold,\n",
    "        \"numerical_columns\":numerical_columns,\n",
    "        \"cat_cols\":cat_cols,\n",
    "        \"columns_to_score\":X_train.columns\n",
    "    }\n",
    "\n",
    "    artifacts_dict_file = open(\"D:/Work/Gre/UTD/Courses/Fall/MIS6341/Softwares/Python/ml-fall-2023/Project2/N/Artifacts/artifacts_dict_file.pkl\", \"wb\")\n",
    "    pickle.dump(artifacts_dict, artifacts_dict_file)\n",
    "    artifacts_dict_file.close()\n",
    "    \n",
    "    return best_classifier"
   ]
  },
  {
   "cell_type": "code",
   "execution_count": 21,
   "metadata": {},
   "outputs": [
    {
     "name": "stderr",
     "output_type": "stream",
     "text": [
      "[I 2023-12-10 13:32:36,772] A new study created in memory with name: LGBM Classifier\n"
     ]
    },
    {
     "name": "stdout",
     "output_type": "stream",
     "text": [
      "City_trg : float64\n",
      "State_trg : float64\n",
      "Zip_trg : int64\n",
      "Bank_trg : float64\n",
      "BankState_trg : float64\n",
      "NAICS_trg : int64\n",
      "NoEmp_trg : int64\n",
      "NewExist_trg : float64\n",
      "CreateJob_trg : int64\n",
      "RetainedJob_trg : int64\n",
      "FranchiseCode_trg : int64\n",
      "UrbanRural_trg : int64\n",
      "RevLineCr_trg : float64\n",
      "LowDoc_trg : float64\n",
      "DisbursementGross_trg : float64\n",
      "BalanceGross_trg : float64\n",
      "GrAppv_trg : float64\n",
      "SBA_Appv_trg : float64\n",
      "Zip : int64\n",
      "NAICS : int64\n",
      "NoEmp : float64\n",
      "CreateJob : float64\n",
      "RetainedJob : float64\n",
      "FranchiseCode : int64\n",
      "UrbanRural : int64\n",
      "DisbursementGross : float64\n",
      "BalanceGross : float64\n",
      "GrAppv : float64\n",
      "SBA_Appv : float64\n",
      "MIS_Status : int64\n",
      "Log_DisbursementGross : float64\n",
      "Log_NoEmp : float64\n",
      "Log_GrAppv : float64\n",
      "Log_SBA_Appv : float64\n",
      "Log_BalanceGross : float64\n",
      "Disbursement_Bins : category\n",
      "Loan_Efficiency : float64\n",
      "Guarantee_Ratio : float64\n",
      "Loan_Guarantee_Interaction : float64\n",
      "Disbursement_Squared : float64\n",
      "Training until validation scores don't improve for 5 rounds\n",
      "Early stopping, best iteration is:\n",
      "[390]\tvalid_0's auc: 0.860175\n",
      "Training until validation scores don't improve for 5 rounds\n",
      "Early stopping, best iteration is:\n",
      "[383]\tvalid_0's auc: 0.861703\n",
      "Training until validation scores don't improve for 5 rounds\n",
      "Early stopping, best iteration is:\n",
      "[265]\tvalid_0's auc: 0.8612\n",
      "Training until validation scores don't improve for 5 rounds\n",
      "Early stopping, best iteration is:\n",
      "[427]\tvalid_0's auc: 0.85947\n",
      "Training until validation scores don't improve for 5 rounds\n",
      "Early stopping, best iteration is:\n",
      "[318]\tvalid_0's auc: 0.859565\n"
     ]
    },
    {
     "name": "stderr",
     "output_type": "stream",
     "text": [
      "[I 2023-12-10 13:33:56,354] Trial 0 finished with value: 0.8604224337245284 and parameters: {'learning_rate': 0.11, 'num_leaves': 60, 'max_depth': 17, 'min_data_in_leaf': 700, 'lambda_l1': 7.101746131438841e-07, 'lambda_l2': 5.751836477446481e-05, 'bagging_fraction': 1.0, 'bagging_freq': 5, 'feature_fraction': 1.0, 'is_unbalance': False}. Best is trial 0 with value: 0.8604224337245284.\n"
     ]
    },
    {
     "name": "stdout",
     "output_type": "stream",
     "text": [
      "Training until validation scores don't improve for 5 rounds\n",
      "Early stopping, best iteration is:\n",
      "[401]\tvalid_0's auc: 0.860218\n",
      "Training until validation scores don't improve for 5 rounds\n",
      "Early stopping, best iteration is:\n",
      "[341]\tvalid_0's auc: 0.86176\n",
      "Training until validation scores don't improve for 5 rounds\n",
      "Early stopping, best iteration is:\n",
      "[374]\tvalid_0's auc: 0.862692\n",
      "Training until validation scores don't improve for 5 rounds\n",
      "Early stopping, best iteration is:\n",
      "[329]\tvalid_0's auc: 0.858581\n",
      "Training until validation scores don't improve for 5 rounds\n",
      "Early stopping, best iteration is:\n",
      "[356]\tvalid_0's auc: 0.859753\n"
     ]
    },
    {
     "name": "stderr",
     "output_type": "stream",
     "text": [
      "[I 2023-12-10 13:34:58,934] Trial 1 finished with value: 0.8606008091228651 and parameters: {'learning_rate': 0.11, 'num_leaves': 90, 'max_depth': 9, 'min_data_in_leaf': 900, 'lambda_l1': 1.3554117594026355e-05, 'lambda_l2': 0.11859365323427153, 'bagging_fraction': 1.0, 'bagging_freq': 5, 'feature_fraction': 0.8, 'is_unbalance': False}. Best is trial 1 with value: 0.8606008091228651.\n"
     ]
    },
    {
     "name": "stdout",
     "output_type": "stream",
     "text": [
      "Training until validation scores don't improve for 5 rounds\n",
      "Early stopping, best iteration is:\n",
      "[25]\tvalid_0's auc: 0.822056\n",
      "Training until validation scores don't improve for 5 rounds\n",
      "Early stopping, best iteration is:\n",
      "[1610]\tvalid_0's auc: 0.858968\n",
      "Training until validation scores don't improve for 5 rounds\n",
      "Early stopping, best iteration is:\n",
      "[24]\tvalid_0's auc: 0.825513\n",
      "Training until validation scores don't improve for 5 rounds\n",
      "Early stopping, best iteration is:\n",
      "[24]\tvalid_0's auc: 0.820783\n",
      "Training until validation scores don't improve for 5 rounds\n"
     ]
    },
    {
     "name": "stderr",
     "output_type": "stream",
     "text": [
      "[I 2023-12-10 13:36:39,288] Trial 2 finished with value: 0.8303255377097664 and parameters: {'learning_rate': 0.01, 'num_leaves': 90, 'max_depth': 11, 'min_data_in_leaf': 1000, 'lambda_l1': 1.1463337645885687, 'lambda_l2': 1.108278334478508e-06, 'bagging_fraction': 0.9, 'bagging_freq': 5, 'feature_fraction': 0.9, 'is_unbalance': True}. Best is trial 1 with value: 0.8606008091228651.\n"
     ]
    },
    {
     "name": "stdout",
     "output_type": "stream",
     "text": [
      "Early stopping, best iteration is:\n",
      "[23]\tvalid_0's auc: 0.824308\n",
      "Training until validation scores don't improve for 5 rounds\n",
      "Early stopping, best iteration is:\n",
      "[265]\tvalid_0's auc: 0.858326\n",
      "Training until validation scores don't improve for 5 rounds\n",
      "Early stopping, best iteration is:\n",
      "[345]\tvalid_0's auc: 0.861004\n",
      "Training until validation scores don't improve for 5 rounds\n",
      "Early stopping, best iteration is:\n",
      "[440]\tvalid_0's auc: 0.863375\n",
      "Training until validation scores don't improve for 5 rounds\n",
      "Early stopping, best iteration is:\n",
      "[435]\tvalid_0's auc: 0.8591\n",
      "Training until validation scores don't improve for 5 rounds\n",
      "Early stopping, best iteration is:\n",
      "[275]\tvalid_0's auc: 0.858686\n"
     ]
    },
    {
     "name": "stderr",
     "output_type": "stream",
     "text": [
      "[I 2023-12-10 13:38:08,773] Trial 3 finished with value: 0.8600980377592904 and parameters: {'learning_rate': 0.060000000000000005, 'num_leaves': 115, 'max_depth': 13, 'min_data_in_leaf': 500, 'lambda_l1': 0.02553144337574703, 'lambda_l2': 9.628010260772922e-05, 'bagging_fraction': 0.9, 'bagging_freq': 5, 'feature_fraction': 1.0, 'is_unbalance': True}. Best is trial 1 with value: 0.8606008091228651.\n"
     ]
    },
    {
     "name": "stdout",
     "output_type": "stream",
     "text": [
      "Training until validation scores don't improve for 5 rounds\n",
      "Early stopping, best iteration is:\n",
      "[197]\tvalid_0's auc: 0.858866\n",
      "Training until validation scores don't improve for 5 rounds\n",
      "Early stopping, best iteration is:\n",
      "[130]\tvalid_0's auc: 0.859083\n",
      "Training until validation scores don't improve for 5 rounds\n",
      "Early stopping, best iteration is:\n",
      "[209]\tvalid_0's auc: 0.861441\n",
      "Training until validation scores don't improve for 5 rounds\n",
      "Early stopping, best iteration is:\n",
      "[229]\tvalid_0's auc: 0.858237\n",
      "Training until validation scores don't improve for 5 rounds\n",
      "Early stopping, best iteration is:\n",
      "[188]\tvalid_0's auc: 0.858969\n"
     ]
    },
    {
     "name": "stderr",
     "output_type": "stream",
     "text": [
      "[I 2023-12-10 13:38:38,173] Trial 4 finished with value: 0.8593191206677167 and parameters: {'learning_rate': 0.21000000000000002, 'num_leaves': 100, 'max_depth': 7, 'min_data_in_leaf': 300, 'lambda_l1': 0.003518072828689066, 'lambda_l2': 0.07357586428410817, 'bagging_fraction': 1.0, 'bagging_freq': 5, 'feature_fraction': 1.0, 'is_unbalance': False}. Best is trial 1 with value: 0.8606008091228651.\n"
     ]
    },
    {
     "name": "stdout",
     "output_type": "stream",
     "text": [
      "Training until validation scores don't improve for 5 rounds\n"
     ]
    },
    {
     "name": "stderr",
     "output_type": "stream",
     "text": [
      "[I 2023-12-10 13:38:39,172] Trial 5 pruned. Trial was pruned at iteration 5.\n"
     ]
    },
    {
     "name": "stdout",
     "output_type": "stream",
     "text": [
      "Training until validation scores don't improve for 5 rounds\n",
      "Early stopping, best iteration is:\n",
      "[214]\tvalid_0's auc: 0.860423\n",
      "Training until validation scores don't improve for 5 rounds\n",
      "Early stopping, best iteration is:\n",
      "[166]\tvalid_0's auc: 0.860974\n",
      "Training until validation scores don't improve for 5 rounds\n",
      "Early stopping, best iteration is:\n",
      "[215]\tvalid_0's auc: 0.862452\n",
      "Training until validation scores don't improve for 5 rounds\n",
      "Early stopping, best iteration is:\n",
      "[213]\tvalid_0's auc: 0.858829\n",
      "Training until validation scores don't improve for 5 rounds\n",
      "Early stopping, best iteration is:\n",
      "[186]\tvalid_0's auc: 0.859824\n"
     ]
    },
    {
     "name": "stderr",
     "output_type": "stream",
     "text": [
      "[I 2023-12-10 13:39:29,697] Trial 6 finished with value: 0.8605003984865107 and parameters: {'learning_rate': 0.11, 'num_leaves': 150, 'max_depth': 15, 'min_data_in_leaf': 600, 'lambda_l1': 0.0005906403755005897, 'lambda_l2': 4.545126603263217e-08, 'bagging_fraction': 1.0, 'bagging_freq': 5, 'feature_fraction': 1.0, 'is_unbalance': False}. Best is trial 1 with value: 0.8606008091228651.\n",
      "[I 2023-12-10 13:39:30,557] Trial 7 pruned. Trial was pruned at iteration 0.\n",
      "[I 2023-12-10 13:39:31,369] Trial 8 pruned. Trial was pruned at iteration 0.\n"
     ]
    },
    {
     "name": "stdout",
     "output_type": "stream",
     "text": [
      "Training until validation scores don't improve for 5 rounds\n",
      "Early stopping, best iteration is:\n",
      "[290]\tvalid_0's auc: 0.85975\n",
      "Training until validation scores don't improve for 5 rounds\n",
      "Early stopping, best iteration is:\n",
      "[211]\tvalid_0's auc: 0.860545\n",
      "Training until validation scores don't improve for 5 rounds\n",
      "Early stopping, best iteration is:\n",
      "[227]\tvalid_0's auc: 0.862278\n",
      "Training until validation scores don't improve for 5 rounds\n",
      "Early stopping, best iteration is:\n",
      "[315]\tvalid_0's auc: 0.859304\n",
      "Training until validation scores don't improve for 5 rounds\n",
      "Early stopping, best iteration is:\n",
      "[254]\tvalid_0's auc: 0.859804\n"
     ]
    },
    {
     "name": "stderr",
     "output_type": "stream",
     "text": [
      "[I 2023-12-10 13:40:18,278] Trial 9 finished with value: 0.8603361509827842 and parameters: {'learning_rate': 0.11, 'num_leaves': 80, 'max_depth': 11, 'min_data_in_leaf': 400, 'lambda_l1': 0.05940979261738805, 'lambda_l2': 1.4153152259635592e-07, 'bagging_fraction': 1.0, 'bagging_freq': 5, 'feature_fraction': 1.0, 'is_unbalance': True}. Best is trial 1 with value: 0.8606008091228651.\n",
      "[I 2023-12-10 13:40:19,070] Trial 10 pruned. Trial was pruned at iteration 0.\n"
     ]
    },
    {
     "name": "stdout",
     "output_type": "stream",
     "text": [
      "Training until validation scores don't improve for 5 rounds\n",
      "Early stopping, best iteration is:\n",
      "[169]\tvalid_0's auc: 0.859731\n",
      "Training until validation scores don't improve for 5 rounds\n",
      "Early stopping, best iteration is:\n",
      "[127]\tvalid_0's auc: 0.860259\n",
      "Training until validation scores don't improve for 5 rounds\n",
      "Early stopping, best iteration is:\n",
      "[156]\tvalid_0's auc: 0.861585\n",
      "Training until validation scores don't improve for 5 rounds\n",
      "Early stopping, best iteration is:\n",
      "[198]\tvalid_0's auc: 0.858737\n",
      "Training until validation scores don't improve for 5 rounds\n",
      "Early stopping, best iteration is:\n",
      "[124]\tvalid_0's auc: 0.859129\n"
     ]
    },
    {
     "name": "stderr",
     "output_type": "stream",
     "text": [
      "[I 2023-12-10 13:40:56,160] Trial 11 finished with value: 0.8598883199172093 and parameters: {'learning_rate': 0.16000000000000003, 'num_leaves': 145, 'max_depth': 13, 'min_data_in_leaf': 800, 'lambda_l1': 5.840876278391901e-05, 'lambda_l2': 1.296063014742541e-08, 'bagging_fraction': 1.0, 'bagging_freq': 5, 'feature_fraction': 0.9, 'is_unbalance': False}. Best is trial 1 with value: 0.8606008091228651.\n",
      "[I 2023-12-10 13:40:56,925] Trial 12 pruned. Trial was pruned at iteration 0.\n"
     ]
    },
    {
     "name": "stdout",
     "output_type": "stream",
     "text": [
      "Training until validation scores don't improve for 5 rounds\n",
      "Early stopping, best iteration is:\n",
      "[207]\tvalid_0's auc: 0.858377\n",
      "Training until validation scores don't improve for 5 rounds\n",
      "Early stopping, best iteration is:\n",
      "[135]\tvalid_0's auc: 0.859462\n",
      "Training until validation scores don't improve for 5 rounds\n",
      "Early stopping, best iteration is:\n",
      "[174]\tvalid_0's auc: 0.860277\n",
      "Training until validation scores don't improve for 5 rounds\n",
      "Early stopping, best iteration is:\n",
      "[192]\tvalid_0's auc: 0.857291\n",
      "Training until validation scores don't improve for 5 rounds\n",
      "Early stopping, best iteration is:\n",
      "[172]\tvalid_0's auc: 0.858464\n"
     ]
    },
    {
     "name": "stderr",
     "output_type": "stream",
     "text": [
      "[I 2023-12-10 13:41:39,135] Trial 13 finished with value: 0.858774259839332 and parameters: {'learning_rate': 0.21000000000000002, 'num_leaves': 130, 'max_depth': 9, 'min_data_in_leaf': 800, 'lambda_l1': 2.2845468049168735e-08, 'lambda_l2': 0.0019467646601377037, 'bagging_fraction': 0.9, 'bagging_freq': 5, 'feature_fraction': 0.9, 'is_unbalance': False}. Best is trial 1 with value: 0.8606008091228651.\n",
      "[I 2023-12-10 13:41:39,952] Trial 14 pruned. Trial was pruned at iteration 1.\n"
     ]
    },
    {
     "name": "stdout",
     "output_type": "stream",
     "text": [
      "Training until validation scores don't improve for 5 rounds\n"
     ]
    },
    {
     "name": "stderr",
     "output_type": "stream",
     "text": [
      "[I 2023-12-10 13:41:40,772] Trial 15 pruned. Trial was pruned at iteration 0.\n",
      "[I 2023-12-10 13:41:41,534] Trial 16 pruned. Trial was pruned at iteration 0.\n",
      "[I 2023-12-10 13:41:42,300] Trial 17 pruned. Trial was pruned at iteration 0.\n",
      "[I 2023-12-10 13:41:43,083] Trial 18 pruned. Trial was pruned at iteration 0.\n",
      "[I 2023-12-10 13:41:43,900] Trial 19 pruned. Trial was pruned at iteration 0.\n",
      "[I 2023-12-10 13:41:44,683] Trial 20 pruned. Trial was pruned at iteration 1.\n"
     ]
    },
    {
     "name": "stdout",
     "output_type": "stream",
     "text": [
      "Training until validation scores don't improve for 5 rounds\n"
     ]
    },
    {
     "name": "stderr",
     "output_type": "stream",
     "text": [
      "[I 2023-12-10 13:41:45,426] Trial 21 pruned. Trial was pruned at iteration 0.\n",
      "[I 2023-12-10 13:41:46,229] Trial 22 pruned. Trial was pruned at iteration 0.\n",
      "[I 2023-12-10 13:41:46,977] Trial 23 pruned. Trial was pruned at iteration 0.\n",
      "[I 2023-12-10 13:41:47,749] Trial 24 pruned. Trial was pruned at iteration 0.\n",
      "[I 2023-12-10 13:41:48,549] Trial 25 pruned. Trial was pruned at iteration 0.\n",
      "[I 2023-12-10 13:41:49,372] Trial 26 pruned. Trial was pruned at iteration 0.\n",
      "[I 2023-12-10 13:41:50,232] Trial 27 pruned. Trial was pruned at iteration 0.\n",
      "[I 2023-12-10 13:41:51,048] Trial 28 pruned. Trial was pruned at iteration 0.\n",
      "[I 2023-12-10 13:41:51,891] Trial 29 pruned. Trial was pruned at iteration 1.\n"
     ]
    },
    {
     "name": "stdout",
     "output_type": "stream",
     "text": [
      "Training until validation scores don't improve for 5 rounds\n"
     ]
    },
    {
     "name": "stderr",
     "output_type": "stream",
     "text": [
      "[I 2023-12-10 13:41:52,652] Trial 30 pruned. Trial was pruned at iteration 0.\n",
      "[I 2023-12-10 13:41:53,532] Trial 31 pruned. Trial was pruned at iteration 0.\n",
      "[I 2023-12-10 13:41:54,282] Trial 32 pruned. Trial was pruned at iteration 0.\n"
     ]
    },
    {
     "name": "stdout",
     "output_type": "stream",
     "text": [
      "Training until validation scores don't improve for 5 rounds\n"
     ]
    },
    {
     "name": "stderr",
     "output_type": "stream",
     "text": [
      "[I 2023-12-10 13:42:00,698] Trial 33 pruned. Trial was pruned at iteration 182.\n",
      "[I 2023-12-10 13:42:01,510] Trial 34 pruned. Trial was pruned at iteration 1.\n"
     ]
    },
    {
     "name": "stdout",
     "output_type": "stream",
     "text": [
      "Training until validation scores don't improve for 5 rounds\n"
     ]
    },
    {
     "name": "stderr",
     "output_type": "stream",
     "text": [
      "[I 2023-12-10 13:42:02,296] Trial 35 pruned. Trial was pruned at iteration 1.\n"
     ]
    },
    {
     "name": "stdout",
     "output_type": "stream",
     "text": [
      "Training until validation scores don't improve for 5 rounds\n"
     ]
    },
    {
     "name": "stderr",
     "output_type": "stream",
     "text": [
      "[I 2023-12-10 13:42:03,115] Trial 36 pruned. Trial was pruned at iteration 0.\n"
     ]
    },
    {
     "name": "stdout",
     "output_type": "stream",
     "text": [
      "Training until validation scores don't improve for 5 rounds\n",
      "Early stopping, best iteration is:\n",
      "[193]\tvalid_0's auc: 0.85997\n",
      "Training until validation scores don't improve for 5 rounds\n",
      "Early stopping, best iteration is:\n",
      "[133]\tvalid_0's auc: 0.860889\n",
      "Training until validation scores don't improve for 5 rounds\n",
      "Early stopping, best iteration is:\n",
      "[136]\tvalid_0's auc: 0.862142\n",
      "Training until validation scores don't improve for 5 rounds\n",
      "Early stopping, best iteration is:\n",
      "[138]\tvalid_0's auc: 0.85815\n",
      "Training until validation scores don't improve for 5 rounds\n",
      "Early stopping, best iteration is:\n",
      "[137]\tvalid_0's auc: 0.859235\n"
     ]
    },
    {
     "name": "stderr",
     "output_type": "stream",
     "text": [
      "[I 2023-12-10 13:42:39,290] Trial 37 finished with value: 0.8600773764066624 and parameters: {'learning_rate': 0.16000000000000003, 'num_leaves': 110, 'max_depth': 17, 'min_data_in_leaf': 400, 'lambda_l1': 0.002401112549051158, 'lambda_l2': 3.031705397234172e-08, 'bagging_fraction': 1.0, 'bagging_freq': 5, 'feature_fraction': 1.0, 'is_unbalance': True}. Best is trial 1 with value: 0.8606008091228651.\n",
      "[I 2023-12-10 13:42:40,256] Trial 38 pruned. Trial was pruned at iteration 1.\n"
     ]
    },
    {
     "name": "stdout",
     "output_type": "stream",
     "text": [
      "Training until validation scores don't improve for 5 rounds\n"
     ]
    },
    {
     "name": "stderr",
     "output_type": "stream",
     "text": [
      "[I 2023-12-10 13:42:41,021] Trial 39 pruned. Trial was pruned at iteration 0.\n"
     ]
    },
    {
     "name": "stdout",
     "output_type": "stream",
     "text": [
      "Training until validation scores don't improve for 5 rounds\n",
      "Early stopping, best iteration is:\n",
      "[150]\tvalid_0's auc: 0.858412\n",
      "Training until validation scores don't improve for 5 rounds\n",
      "Early stopping, best iteration is:\n",
      "[136]\tvalid_0's auc: 0.859765\n",
      "Training until validation scores don't improve for 5 rounds\n",
      "Early stopping, best iteration is:\n",
      "[156]\tvalid_0's auc: 0.861848\n",
      "Training until validation scores don't improve for 5 rounds\n",
      "Early stopping, best iteration is:\n",
      "[156]\tvalid_0's auc: 0.857316\n",
      "Training until validation scores don't improve for 5 rounds\n",
      "Early stopping, best iteration is:\n",
      "[80]\tvalid_0's auc: 0.856745\n"
     ]
    },
    {
     "name": "stderr",
     "output_type": "stream",
     "text": [
      "[I 2023-12-10 13:43:08,272] Trial 40 finished with value: 0.8588168943618599 and parameters: {'learning_rate': 0.21000000000000002, 'num_leaves': 80, 'max_depth': 9, 'min_data_in_leaf': 200, 'lambda_l1': 1.2569322636257845e-05, 'lambda_l2': 1.0948815371226645e-06, 'bagging_fraction': 1.0, 'bagging_freq': 5, 'feature_fraction': 0.9, 'is_unbalance': True}. Best is trial 1 with value: 0.8606008091228651.\n"
     ]
    },
    {
     "name": "stdout",
     "output_type": "stream",
     "text": [
      "Training until validation scores don't improve for 5 rounds\n"
     ]
    },
    {
     "name": "stderr",
     "output_type": "stream",
     "text": [
      "[I 2023-12-10 13:43:09,540] Trial 41 pruned. Trial was pruned at iteration 9.\n"
     ]
    },
    {
     "name": "stdout",
     "output_type": "stream",
     "text": [
      "Training until validation scores don't improve for 5 rounds\n"
     ]
    },
    {
     "name": "stderr",
     "output_type": "stream",
     "text": [
      "[I 2023-12-10 13:43:12,313] Trial 42 pruned. Trial was pruned at iteration 29.\n",
      "[I 2023-12-10 13:43:13,220] Trial 43 pruned. Trial was pruned at iteration 1.\n"
     ]
    },
    {
     "name": "stdout",
     "output_type": "stream",
     "text": [
      "Training until validation scores don't improve for 5 rounds\n",
      "Training until validation scores don't improve for 5 rounds\n",
      "Early stopping, best iteration is:\n",
      "[132]\tvalid_0's auc: 0.85715\n",
      "Training until validation scores don't improve for 5 rounds\n",
      "Early stopping, best iteration is:\n",
      "[117]\tvalid_0's auc: 0.859339\n",
      "Training until validation scores don't improve for 5 rounds\n",
      "Early stopping, best iteration is:\n",
      "[161]\tvalid_0's auc: 0.860986\n",
      "Training until validation scores don't improve for 5 rounds\n",
      "Early stopping, best iteration is:\n",
      "[145]\tvalid_0's auc: 0.85672\n",
      "Training until validation scores don't improve for 5 rounds\n",
      "Early stopping, best iteration is:\n",
      "[132]\tvalid_0's auc: 0.857277\n"
     ]
    },
    {
     "name": "stderr",
     "output_type": "stream",
     "text": [
      "[I 2023-12-10 13:43:54,018] Trial 44 finished with value: 0.8582946619589016 and parameters: {'learning_rate': 0.16000000000000003, 'num_leaves': 145, 'max_depth': 13, 'min_data_in_leaf': 500, 'lambda_l1': 0.024121653514838796, 'lambda_l2': 7.270973169881101e-05, 'bagging_fraction': 0.8, 'bagging_freq': 5, 'feature_fraction': 1.0, 'is_unbalance': True}. Best is trial 1 with value: 0.8606008091228651.\n",
      "[I 2023-12-10 13:43:54,801] Trial 45 pruned. Trial was pruned at iteration 0.\n",
      "[I 2023-12-10 13:43:55,646] Trial 46 pruned. Trial was pruned at iteration 1.\n"
     ]
    },
    {
     "name": "stdout",
     "output_type": "stream",
     "text": [
      "Training until validation scores don't improve for 5 rounds\n"
     ]
    },
    {
     "name": "stderr",
     "output_type": "stream",
     "text": [
      "[I 2023-12-10 13:43:56,456] Trial 47 pruned. Trial was pruned at iteration 0.\n"
     ]
    },
    {
     "name": "stdout",
     "output_type": "stream",
     "text": [
      "Training until validation scores don't improve for 5 rounds\n",
      "Early stopping, best iteration is:\n",
      "[183]\tvalid_0's auc: 0.859534\n",
      "Training until validation scores don't improve for 5 rounds\n",
      "Early stopping, best iteration is:\n",
      "[179]\tvalid_0's auc: 0.861633\n",
      "Training until validation scores don't improve for 5 rounds\n",
      "Early stopping, best iteration is:\n",
      "[143]\tvalid_0's auc: 0.8623\n",
      "Training until validation scores don't improve for 5 rounds\n",
      "Early stopping, best iteration is:\n",
      "[166]\tvalid_0's auc: 0.858758\n",
      "Training until validation scores don't improve for 5 rounds\n",
      "Early stopping, best iteration is:\n",
      "[126]\tvalid_0's auc: 0.859237\n"
     ]
    },
    {
     "name": "stderr",
     "output_type": "stream",
     "text": [
      "[I 2023-12-10 13:44:34,732] Trial 48 finished with value: 0.8602923981920305 and parameters: {'learning_rate': 0.16000000000000003, 'num_leaves': 135, 'max_depth': 17, 'min_data_in_leaf': 800, 'lambda_l1': 6.183574280461453e-06, 'lambda_l2': 0.0005303644568042107, 'bagging_fraction': 1.0, 'bagging_freq': 5, 'feature_fraction': 0.9, 'is_unbalance': True}. Best is trial 1 with value: 0.8606008091228651.\n",
      "[I 2023-12-10 13:44:35,545] Trial 49 pruned. Trial was pruned at iteration 0.\n"
     ]
    },
    {
     "name": "stdout",
     "output_type": "stream",
     "text": [
      "Training until validation scores don't improve for 5 rounds\n",
      "Early stopping, best iteration is:\n",
      "[142]\tvalid_0's auc: 0.859493\n",
      "Training until validation scores don't improve for 5 rounds\n",
      "Early stopping, best iteration is:\n",
      "[150]\tvalid_0's auc: 0.86174\n",
      "Training until validation scores don't improve for 5 rounds\n",
      "Early stopping, best iteration is:\n",
      "[148]\tvalid_0's auc: 0.86188\n",
      "Training until validation scores don't improve for 5 rounds\n",
      "Early stopping, best iteration is:\n",
      "[104]\tvalid_0's auc: 0.857527\n",
      "Training until validation scores don't improve for 5 rounds\n",
      "Early stopping, best iteration is:\n",
      "[124]\tvalid_0's auc: 0.859413\n"
     ]
    },
    {
     "name": "stderr",
     "output_type": "stream",
     "text": [
      "[I 2023-12-10 13:45:08,427] Trial 50 finished with value: 0.8600105292128593 and parameters: {'learning_rate': 0.16000000000000003, 'num_leaves': 145, 'max_depth': 19, 'min_data_in_leaf': 800, 'lambda_l1': 4.922076740528113e-05, 'lambda_l2': 1.282068749434897e-08, 'bagging_fraction': 1.0, 'bagging_freq': 5, 'feature_fraction': 0.9, 'is_unbalance': False}. Best is trial 1 with value: 0.8606008091228651.\n"
     ]
    },
    {
     "name": "stdout",
     "output_type": "stream",
     "text": [
      "Training until validation scores don't improve for 5 rounds\n",
      "Early stopping, best iteration is:\n",
      "[177]\tvalid_0's auc: 0.859158\n",
      "Training until validation scores don't improve for 5 rounds\n",
      "Early stopping, best iteration is:\n",
      "[146]\tvalid_0's auc: 0.861109\n",
      "Training until validation scores don't improve for 5 rounds\n",
      "Early stopping, best iteration is:\n",
      "[154]\tvalid_0's auc: 0.861543\n",
      "Training until validation scores don't improve for 5 rounds\n",
      "Early stopping, best iteration is:\n",
      "[170]\tvalid_0's auc: 0.858281\n",
      "Training until validation scores don't improve for 5 rounds\n",
      "Early stopping, best iteration is:\n",
      "[119]\tvalid_0's auc: 0.85859\n"
     ]
    },
    {
     "name": "stderr",
     "output_type": "stream",
     "text": [
      "[I 2023-12-10 13:45:46,113] Trial 51 finished with value: 0.8597361987065986 and parameters: {'learning_rate': 0.16000000000000003, 'num_leaves': 130, 'max_depth': 17, 'min_data_in_leaf': 900, 'lambda_l1': 3.879354016348104e-06, 'lambda_l2': 0.0008447353114168326, 'bagging_fraction': 1.0, 'bagging_freq': 5, 'feature_fraction': 1.0, 'is_unbalance': True}. Best is trial 1 with value: 0.8606008091228651.\n"
     ]
    },
    {
     "name": "stdout",
     "output_type": "stream",
     "text": [
      "Training until validation scores don't improve for 5 rounds\n"
     ]
    },
    {
     "name": "stderr",
     "output_type": "stream",
     "text": [
      "[I 2023-12-10 13:45:47,630] Trial 52 pruned. Trial was pruned at iteration 10.\n",
      "[I 2023-12-10 13:45:48,568] Trial 53 pruned. Trial was pruned at iteration 0.\n",
      "[I 2023-12-10 13:45:49,524] Trial 54 pruned. Trial was pruned at iteration 0.\n"
     ]
    },
    {
     "name": "stdout",
     "output_type": "stream",
     "text": [
      "Training until validation scores don't improve for 5 rounds\n",
      "Early stopping, best iteration is:\n",
      "[180]\tvalid_0's auc: 0.859704\n",
      "Training until validation scores don't improve for 5 rounds\n",
      "Early stopping, best iteration is:\n",
      "[152]\tvalid_0's auc: 0.861453\n",
      "Training until validation scores don't improve for 5 rounds\n",
      "Early stopping, best iteration is:\n",
      "[193]\tvalid_0's auc: 0.862437\n",
      "Training until validation scores don't improve for 5 rounds\n",
      "Early stopping, best iteration is:\n",
      "[206]\tvalid_0's auc: 0.858568\n",
      "Training until validation scores don't improve for 5 rounds\n",
      "Early stopping, best iteration is:\n",
      "[158]\tvalid_0's auc: 0.860161\n"
     ]
    },
    {
     "name": "stderr",
     "output_type": "stream",
     "text": [
      "[I 2023-12-10 13:46:30,492] Trial 55 finished with value: 0.8604645469046879 and parameters: {'learning_rate': 0.16000000000000003, 'num_leaves': 135, 'max_depth': 15, 'min_data_in_leaf': 700, 'lambda_l1': 9.719816355792649e-06, 'lambda_l2': 0.0026467692059366247, 'bagging_fraction': 1.0, 'bagging_freq': 5, 'feature_fraction': 1.0, 'is_unbalance': True}. Best is trial 1 with value: 0.8606008091228651.\n"
     ]
    },
    {
     "name": "stdout",
     "output_type": "stream",
     "text": [
      "Training until validation scores don't improve for 5 rounds\n",
      "Early stopping, best iteration is:\n",
      "[140]\tvalid_0's auc: 0.859182\n",
      "Training until validation scores don't improve for 5 rounds\n",
      "Early stopping, best iteration is:\n",
      "[158]\tvalid_0's auc: 0.861022\n",
      "Training until validation scores don't improve for 5 rounds\n",
      "Early stopping, best iteration is:\n",
      "[193]\tvalid_0's auc: 0.862437\n",
      "Training until validation scores don't improve for 5 rounds\n",
      "Early stopping, best iteration is:\n",
      "[147]\tvalid_0's auc: 0.857925\n",
      "Training until validation scores don't improve for 5 rounds\n",
      "Early stopping, best iteration is:\n",
      "[124]\tvalid_0's auc: 0.858954\n"
     ]
    },
    {
     "name": "stderr",
     "output_type": "stream",
     "text": [
      "[I 2023-12-10 13:47:08,636] Trial 56 finished with value: 0.8599037134264715 and parameters: {'learning_rate': 0.16000000000000003, 'num_leaves': 135, 'max_depth': 15, 'min_data_in_leaf': 700, 'lambda_l1': 8.625369981576673e-06, 'lambda_l2': 0.0043018465861693455, 'bagging_fraction': 1.0, 'bagging_freq': 5, 'feature_fraction': 1.0, 'is_unbalance': True}. Best is trial 1 with value: 0.8606008091228651.\n",
      "[I 2023-12-10 13:47:09,442] Trial 57 pruned. Trial was pruned at iteration 0.\n",
      "[I 2023-12-10 13:47:10,283] Trial 58 pruned. Trial was pruned at iteration 0.\n",
      "[I 2023-12-10 13:47:11,069] Trial 59 pruned. Trial was pruned at iteration 0.\n",
      "[I 2023-12-10 13:47:11,833] Trial 60 pruned. Trial was pruned at iteration 0.\n"
     ]
    },
    {
     "name": "stdout",
     "output_type": "stream",
     "text": [
      "Training until validation scores don't improve for 5 rounds\n"
     ]
    },
    {
     "name": "stderr",
     "output_type": "stream",
     "text": [
      "[I 2023-12-10 13:47:13,028] Trial 61 pruned. Trial was pruned at iteration 6.\n",
      "[I 2023-12-10 13:47:13,821] Trial 62 pruned. Trial was pruned at iteration 0.\n",
      "[I 2023-12-10 13:47:14,619] Trial 63 pruned. Trial was pruned at iteration 0.\n"
     ]
    },
    {
     "name": "stdout",
     "output_type": "stream",
     "text": [
      "Training until validation scores don't improve for 5 rounds\n",
      "Early stopping, best iteration is:\n",
      "[139]\tvalid_0's auc: 0.859133\n",
      "Training until validation scores don't improve for 5 rounds\n",
      "Early stopping, best iteration is:\n",
      "[186]\tvalid_0's auc: 0.861741\n",
      "Training until validation scores don't improve for 5 rounds\n",
      "Early stopping, best iteration is:\n",
      "[132]\tvalid_0's auc: 0.861508\n",
      "Training until validation scores don't improve for 5 rounds\n",
      "Early stopping, best iteration is:\n",
      "[181]\tvalid_0's auc: 0.858812\n",
      "Training until validation scores don't improve for 5 rounds\n",
      "Early stopping, best iteration is:\n",
      "[97]\tvalid_0's auc: 0.858407\n"
     ]
    },
    {
     "name": "stderr",
     "output_type": "stream",
     "text": [
      "[I 2023-12-10 13:47:49,321] Trial 64 finished with value: 0.859920181278406 and parameters: {'learning_rate': 0.16000000000000003, 'num_leaves': 130, 'max_depth': 15, 'min_data_in_leaf': 600, 'lambda_l1': 5.277921688360931e-06, 'lambda_l2': 0.00012034073870265597, 'bagging_fraction': 1.0, 'bagging_freq': 5, 'feature_fraction': 1.0, 'is_unbalance': True}. Best is trial 1 with value: 0.8606008091228651.\n",
      "[I 2023-12-10 13:47:50,075] Trial 65 pruned. Trial was pruned at iteration 0.\n",
      "[I 2023-12-10 13:47:50,836] Trial 66 pruned. Trial was pruned at iteration 0.\n",
      "[I 2023-12-10 13:47:51,618] Trial 67 pruned. Trial was pruned at iteration 0.\n",
      "[I 2023-12-10 13:47:52,480] Trial 68 pruned. Trial was pruned at iteration 0.\n",
      "[I 2023-12-10 13:47:53,391] Trial 69 pruned. Trial was pruned at iteration 0.\n",
      "[I 2023-12-10 13:47:54,222] Trial 70 pruned. Trial was pruned at iteration 0.\n"
     ]
    },
    {
     "name": "stdout",
     "output_type": "stream",
     "text": [
      "Training until validation scores don't improve for 5 rounds\n"
     ]
    },
    {
     "name": "stderr",
     "output_type": "stream",
     "text": [
      "[I 2023-12-10 13:47:55,744] Trial 71 pruned. Trial was pruned at iteration 15.\n",
      "[I 2023-12-10 13:47:56,717] Trial 72 pruned. Trial was pruned at iteration 0.\n"
     ]
    },
    {
     "name": "stdout",
     "output_type": "stream",
     "text": [
      "Training until validation scores don't improve for 5 rounds\n",
      "Early stopping, best iteration is:\n",
      "[75]\tvalid_0's auc: 0.856831\n",
      "Training until validation scores don't improve for 5 rounds\n",
      "Early stopping, best iteration is:\n",
      "[75]\tvalid_0's auc: 0.859642\n",
      "Training until validation scores don't improve for 5 rounds\n",
      "Early stopping, best iteration is:\n",
      "[121]\tvalid_0's auc: 0.861256\n",
      "Training until validation scores don't improve for 5 rounds\n",
      "Early stopping, best iteration is:\n",
      "[81]\tvalid_0's auc: 0.856874\n",
      "Training until validation scores don't improve for 5 rounds\n",
      "Early stopping, best iteration is:\n",
      "[72]\tvalid_0's auc: 0.858042\n"
     ]
    },
    {
     "name": "stderr",
     "output_type": "stream",
     "text": [
      "[I 2023-12-10 13:48:23,621] Trial 73 finished with value: 0.8585290449136818 and parameters: {'learning_rate': 0.21000000000000002, 'num_leaves': 115, 'max_depth': 17, 'min_data_in_leaf': 300, 'lambda_l1': 0.0007709686171711826, 'lambda_l2': 5.997858741311838e-08, 'bagging_fraction': 1.0, 'bagging_freq': 5, 'feature_fraction': 1.0, 'is_unbalance': True}. Best is trial 1 with value: 0.8606008091228651.\n"
     ]
    },
    {
     "name": "stdout",
     "output_type": "stream",
     "text": [
      "Training until validation scores don't improve for 5 rounds\n"
     ]
    },
    {
     "name": "stderr",
     "output_type": "stream",
     "text": [
      "[I 2023-12-10 13:48:24,824] Trial 74 pruned. Trial was pruned at iteration 9.\n",
      "[I 2023-12-10 13:48:25,767] Trial 75 pruned. Trial was pruned at iteration 0.\n",
      "[I 2023-12-10 13:48:26,641] Trial 76 pruned. Trial was pruned at iteration 0.\n",
      "[I 2023-12-10 13:48:27,520] Trial 77 pruned. Trial was pruned at iteration 0.\n",
      "[I 2023-12-10 13:48:28,352] Trial 78 pruned. Trial was pruned at iteration 0.\n",
      "[I 2023-12-10 13:48:29,163] Trial 79 pruned. Trial was pruned at iteration 0.\n"
     ]
    },
    {
     "name": "stdout",
     "output_type": "stream",
     "text": [
      "Training until validation scores don't improve for 5 rounds\n"
     ]
    },
    {
     "name": "stderr",
     "output_type": "stream",
     "text": [
      "[I 2023-12-10 13:48:30,582] Trial 80 pruned. Trial was pruned at iteration 9.\n",
      "[I 2023-12-10 13:48:31,372] Trial 81 pruned. Trial was pruned at iteration 0.\n",
      "[I 2023-12-10 13:48:32,132] Trial 82 pruned. Trial was pruned at iteration 0.\n",
      "[I 2023-12-10 13:48:33,032] Trial 83 pruned. Trial was pruned at iteration 0.\n",
      "[I 2023-12-10 13:48:33,872] Trial 84 pruned. Trial was pruned at iteration 0.\n",
      "[I 2023-12-10 13:48:34,699] Trial 85 pruned. Trial was pruned at iteration 0.\n",
      "[I 2023-12-10 13:48:35,580] Trial 86 pruned. Trial was pruned at iteration 0.\n",
      "[I 2023-12-10 13:48:36,408] Trial 87 pruned. Trial was pruned at iteration 0.\n"
     ]
    },
    {
     "name": "stdout",
     "output_type": "stream",
     "text": [
      "Training until validation scores don't improve for 5 rounds\n"
     ]
    },
    {
     "name": "stderr",
     "output_type": "stream",
     "text": [
      "[I 2023-12-10 13:48:37,799] Trial 88 pruned. Trial was pruned at iteration 11.\n",
      "[I 2023-12-10 13:48:38,692] Trial 89 pruned. Trial was pruned at iteration 0.\n"
     ]
    },
    {
     "name": "stdout",
     "output_type": "stream",
     "text": [
      "Training until validation scores don't improve for 5 rounds\n"
     ]
    },
    {
     "name": "stderr",
     "output_type": "stream",
     "text": [
      "[I 2023-12-10 13:48:40,057] Trial 90 pruned. Trial was pruned at iteration 10.\n"
     ]
    },
    {
     "name": "stdout",
     "output_type": "stream",
     "text": [
      "Training until validation scores don't improve for 5 rounds\n",
      "Early stopping, best iteration is:\n",
      "[99]\tvalid_0's auc: 0.858308\n",
      "Training until validation scores don't improve for 5 rounds\n",
      "Early stopping, best iteration is:\n",
      "[116]\tvalid_0's auc: 0.860546\n",
      "Training until validation scores don't improve for 5 rounds\n",
      "Early stopping, best iteration is:\n",
      "[173]\tvalid_0's auc: 0.862908\n",
      "Training until validation scores don't improve for 5 rounds\n",
      "Early stopping, best iteration is:\n",
      "[126]\tvalid_0's auc: 0.85814\n",
      "Training until validation scores don't improve for 5 rounds\n",
      "Early stopping, best iteration is:\n",
      "[141]\tvalid_0's auc: 0.85947\n"
     ]
    },
    {
     "name": "stderr",
     "output_type": "stream",
     "text": [
      "[I 2023-12-10 13:49:17,138] Trial 91 finished with value: 0.8598744411345486 and parameters: {'learning_rate': 0.16000000000000003, 'num_leaves': 145, 'max_depth': 15, 'min_data_in_leaf': 600, 'lambda_l1': 4.84165700732271e-06, 'lambda_l2': 0.00014036694452590167, 'bagging_fraction': 1.0, 'bagging_freq': 5, 'feature_fraction': 1.0, 'is_unbalance': True}. Best is trial 1 with value: 0.8606008091228651.\n"
     ]
    },
    {
     "name": "stdout",
     "output_type": "stream",
     "text": [
      "Training until validation scores don't improve for 5 rounds\n",
      "Early stopping, best iteration is:\n",
      "[116]\tvalid_0's auc: 0.858847\n",
      "Training until validation scores don't improve for 5 rounds\n",
      "Early stopping, best iteration is:\n",
      "[125]\tvalid_0's auc: 0.861008\n",
      "Training until validation scores don't improve for 5 rounds\n",
      "Early stopping, best iteration is:\n",
      "[194]\tvalid_0's auc: 0.862243\n",
      "Training until validation scores don't improve for 5 rounds\n",
      "Early stopping, best iteration is:\n",
      "[174]\tvalid_0's auc: 0.858403\n",
      "Training until validation scores don't improve for 5 rounds\n",
      "Early stopping, best iteration is:\n",
      "[91]\tvalid_0's auc: 0.858185\n"
     ]
    },
    {
     "name": "stderr",
     "output_type": "stream",
     "text": [
      "[I 2023-12-10 13:49:54,791] Trial 92 finished with value: 0.8597372394290138 and parameters: {'learning_rate': 0.16000000000000003, 'num_leaves': 135, 'max_depth': 13, 'min_data_in_leaf': 600, 'lambda_l1': 3.848142412716211e-06, 'lambda_l2': 7.611986900206252e-05, 'bagging_fraction': 1.0, 'bagging_freq': 5, 'feature_fraction': 1.0, 'is_unbalance': True}. Best is trial 1 with value: 0.8606008091228651.\n"
     ]
    },
    {
     "name": "stdout",
     "output_type": "stream",
     "text": [
      "Training until validation scores don't improve for 5 rounds\n",
      "Early stopping, best iteration is:\n",
      "[152]\tvalid_0's auc: 0.859763\n",
      "Training until validation scores don't improve for 5 rounds\n",
      "Early stopping, best iteration is:\n",
      "[133]\tvalid_0's auc: 0.860468\n",
      "Training until validation scores don't improve for 5 rounds\n",
      "Early stopping, best iteration is:\n",
      "[153]\tvalid_0's auc: 0.862695\n",
      "Training until validation scores don't improve for 5 rounds\n",
      "Early stopping, best iteration is:\n",
      "[190]\tvalid_0's auc: 0.85888\n",
      "Training until validation scores don't improve for 5 rounds\n",
      "Early stopping, best iteration is:\n",
      "[116]\tvalid_0's auc: 0.859119\n"
     ]
    },
    {
     "name": "stderr",
     "output_type": "stream",
     "text": [
      "[I 2023-12-10 13:50:44,948] Trial 93 finished with value: 0.8601850809741727 and parameters: {'learning_rate': 0.16000000000000003, 'num_leaves': 130, 'max_depth': 15, 'min_data_in_leaf': 500, 'lambda_l1': 6.185020542161454e-06, 'lambda_l2': 1.950315820486972e-05, 'bagging_fraction': 1.0, 'bagging_freq': 5, 'feature_fraction': 1.0, 'is_unbalance': True}. Best is trial 1 with value: 0.8606008091228651.\n"
     ]
    },
    {
     "name": "stdout",
     "output_type": "stream",
     "text": [
      "Training until validation scores don't improve for 5 rounds\n"
     ]
    },
    {
     "name": "stderr",
     "output_type": "stream",
     "text": [
      "[I 2023-12-10 13:50:45,898] Trial 94 pruned. Trial was pruned at iteration 5.\n",
      "[I 2023-12-10 13:50:46,837] Trial 95 pruned. Trial was pruned at iteration 4.\n"
     ]
    },
    {
     "name": "stdout",
     "output_type": "stream",
     "text": [
      "Training until validation scores don't improve for 5 rounds\n",
      "Training until validation scores don't improve for 5 rounds\n",
      "Early stopping, best iteration is:\n",
      "[115]\tvalid_0's auc: 0.858889\n",
      "Training until validation scores don't improve for 5 rounds\n",
      "Early stopping, best iteration is:\n",
      "[153]\tvalid_0's auc: 0.861731\n",
      "Training until validation scores don't improve for 5 rounds\n",
      "Early stopping, best iteration is:\n",
      "[135]\tvalid_0's auc: 0.861604\n",
      "Training until validation scores don't improve for 5 rounds\n",
      "Early stopping, best iteration is:\n",
      "[177]\tvalid_0's auc: 0.858431\n",
      "Training until validation scores don't improve for 5 rounds\n",
      "Early stopping, best iteration is:\n",
      "[120]\tvalid_0's auc: 0.858996\n"
     ]
    },
    {
     "name": "stderr",
     "output_type": "stream",
     "text": [
      "[I 2023-12-10 13:51:18,523] Trial 96 finished with value: 0.8599303943985778 and parameters: {'learning_rate': 0.16000000000000003, 'num_leaves': 130, 'max_depth': 17, 'min_data_in_leaf': 400, 'lambda_l1': 1.0621596113679203e-06, 'lambda_l2': 2.101311116861004e-05, 'bagging_fraction': 1.0, 'bagging_freq': 5, 'feature_fraction': 1.0, 'is_unbalance': True}. Best is trial 1 with value: 0.8606008091228651.\n",
      "[I 2023-12-10 13:51:19,244] Trial 97 pruned. Trial was pruned at iteration 0.\n",
      "[I 2023-12-10 13:51:20,010] Trial 98 pruned. Trial was pruned at iteration 0.\n"
     ]
    },
    {
     "name": "stdout",
     "output_type": "stream",
     "text": [
      "Training until validation scores don't improve for 5 rounds\n"
     ]
    },
    {
     "name": "stderr",
     "output_type": "stream",
     "text": [
      "[I 2023-12-10 13:51:24,293] Trial 99 pruned. Trial was pruned at iteration 109.\n",
      "[I 2023-12-10 13:51:25,075] Trial 100 pruned. Trial was pruned at iteration 0.\n"
     ]
    },
    {
     "name": "stdout",
     "output_type": "stream",
     "text": [
      "Training until validation scores don't improve for 5 rounds\n",
      "Early stopping, best iteration is:\n",
      "[115]\tvalid_0's auc: 0.858889\n",
      "Training until validation scores don't improve for 5 rounds\n",
      "Early stopping, best iteration is:\n",
      "[153]\tvalid_0's auc: 0.861731\n",
      "Training until validation scores don't improve for 5 rounds\n",
      "Early stopping, best iteration is:\n",
      "[135]\tvalid_0's auc: 0.861604\n",
      "Training until validation scores don't improve for 5 rounds\n",
      "Early stopping, best iteration is:\n",
      "[177]\tvalid_0's auc: 0.858431\n",
      "Training until validation scores don't improve for 5 rounds\n",
      "Early stopping, best iteration is:\n",
      "[120]\tvalid_0's auc: 0.858996\n"
     ]
    },
    {
     "name": "stderr",
     "output_type": "stream",
     "text": [
      "[I 2023-12-10 13:51:56,721] Trial 101 finished with value: 0.8599302281550102 and parameters: {'learning_rate': 0.16000000000000003, 'num_leaves': 130, 'max_depth': 17, 'min_data_in_leaf': 400, 'lambda_l1': 1.2548723192503773e-06, 'lambda_l2': 1.846758337535588e-05, 'bagging_fraction': 1.0, 'bagging_freq': 5, 'feature_fraction': 1.0, 'is_unbalance': True}. Best is trial 1 with value: 0.8606008091228651.\n"
     ]
    },
    {
     "name": "stdout",
     "output_type": "stream",
     "text": [
      "Training until validation scores don't improve for 5 rounds\n",
      "Early stopping, best iteration is:\n",
      "[128]\tvalid_0's auc: 0.859811\n",
      "Training until validation scores don't improve for 5 rounds\n",
      "Early stopping, best iteration is:\n",
      "[163]\tvalid_0's auc: 0.861745\n",
      "Training until validation scores don't improve for 5 rounds\n",
      "Early stopping, best iteration is:\n",
      "[123]\tvalid_0's auc: 0.861857\n",
      "Training until validation scores don't improve for 5 rounds\n",
      "Early stopping, best iteration is:\n",
      "[154]\tvalid_0's auc: 0.858966\n",
      "Training until validation scores don't improve for 5 rounds\n",
      "Early stopping, best iteration is:\n",
      "[96]\tvalid_0's auc: 0.858556\n"
     ]
    },
    {
     "name": "stderr",
     "output_type": "stream",
     "text": [
      "[I 2023-12-10 13:52:29,464] Trial 102 finished with value: 0.8601869107995259 and parameters: {'learning_rate': 0.16000000000000003, 'num_leaves': 135, 'max_depth': 17, 'min_data_in_leaf': 400, 'lambda_l1': 7.534411913027713e-07, 'lambda_l2': 5.733448707139894e-05, 'bagging_fraction': 1.0, 'bagging_freq': 5, 'feature_fraction': 1.0, 'is_unbalance': True}. Best is trial 1 with value: 0.8606008091228651.\n",
      "[I 2023-12-10 13:52:30,360] Trial 103 pruned. Trial was pruned at iteration 0.\n"
     ]
    },
    {
     "name": "stdout",
     "output_type": "stream",
     "text": [
      "Training until validation scores don't improve for 5 rounds\n",
      "Early stopping, best iteration is:\n",
      "[144]\tvalid_0's auc: 0.859858\n",
      "Training until validation scores don't improve for 5 rounds\n",
      "Early stopping, best iteration is:\n",
      "[137]\tvalid_0's auc: 0.861389\n",
      "Training until validation scores don't improve for 5 rounds\n",
      "Early stopping, best iteration is:\n",
      "[158]\tvalid_0's auc: 0.86276\n",
      "Training until validation scores don't improve for 5 rounds\n",
      "Early stopping, best iteration is:\n",
      "[102]\tvalid_0's auc: 0.857711\n",
      "Training until validation scores don't improve for 5 rounds\n",
      "Early stopping, best iteration is:\n",
      "[83]\tvalid_0's auc: 0.858574\n"
     ]
    },
    {
     "name": "stderr",
     "output_type": "stream",
     "text": [
      "[I 2023-12-10 13:53:00,697] Trial 104 finished with value: 0.8600583117589966 and parameters: {'learning_rate': 0.16000000000000003, 'num_leaves': 145, 'max_depth': 17, 'min_data_in_leaf': 300, 'lambda_l1': 4.7283885033521874e-07, 'lambda_l2': 5.101668513239601e-05, 'bagging_fraction': 1.0, 'bagging_freq': 5, 'feature_fraction': 1.0, 'is_unbalance': True}. Best is trial 1 with value: 0.8606008091228651.\n",
      "[I 2023-12-10 13:53:01,721] Trial 105 pruned. Trial was pruned at iteration 3.\n"
     ]
    },
    {
     "name": "stdout",
     "output_type": "stream",
     "text": [
      "Training until validation scores don't improve for 5 rounds\n"
     ]
    },
    {
     "name": "stderr",
     "output_type": "stream",
     "text": [
      "[I 2023-12-10 13:53:02,548] Trial 106 pruned. Trial was pruned at iteration 0.\n",
      "[I 2023-12-10 13:53:03,371] Trial 107 pruned. Trial was pruned at iteration 0.\n",
      "[I 2023-12-10 13:53:04,171] Trial 108 pruned. Trial was pruned at iteration 0.\n",
      "[I 2023-12-10 13:53:05,017] Trial 109 pruned. Trial was pruned at iteration 1.\n"
     ]
    },
    {
     "name": "stdout",
     "output_type": "stream",
     "text": [
      "Training until validation scores don't improve for 5 rounds\n"
     ]
    },
    {
     "name": "stderr",
     "output_type": "stream",
     "text": [
      "[I 2023-12-10 13:53:05,776] Trial 110 pruned. Trial was pruned at iteration 0.\n"
     ]
    },
    {
     "name": "stdout",
     "output_type": "stream",
     "text": [
      "Training until validation scores don't improve for 5 rounds\n",
      "Early stopping, best iteration is:\n",
      "[132]\tvalid_0's auc: 0.858919\n",
      "Training until validation scores don't improve for 5 rounds\n",
      "Early stopping, best iteration is:\n",
      "[136]\tvalid_0's auc: 0.861307\n",
      "Training until validation scores don't improve for 5 rounds\n",
      "Early stopping, best iteration is:\n",
      "[131]\tvalid_0's auc: 0.862466\n",
      "Training until validation scores don't improve for 5 rounds\n",
      "Early stopping, best iteration is:\n",
      "[168]\tvalid_0's auc: 0.85886\n",
      "Training until validation scores don't improve for 5 rounds\n",
      "Early stopping, best iteration is:\n",
      "[117]\tvalid_0's auc: 0.859341\n"
     ]
    },
    {
     "name": "stderr",
     "output_type": "stream",
     "text": [
      "[I 2023-12-10 13:53:41,418] Trial 111 finished with value: 0.8601787907537333 and parameters: {'learning_rate': 0.16000000000000003, 'num_leaves': 145, 'max_depth': 19, 'min_data_in_leaf': 500, 'lambda_l1': 3.395638578366427e-06, 'lambda_l2': 0.00014417356390696582, 'bagging_fraction': 1.0, 'bagging_freq': 5, 'feature_fraction': 1.0, 'is_unbalance': True}. Best is trial 1 with value: 0.8606008091228651.\n"
     ]
    },
    {
     "name": "stdout",
     "output_type": "stream",
     "text": [
      "Training until validation scores don't improve for 5 rounds\n",
      "Early stopping, best iteration is:\n",
      "[127]\tvalid_0's auc: 0.859482\n",
      "Training until validation scores don't improve for 5 rounds\n",
      "Early stopping, best iteration is:\n",
      "[121]\tvalid_0's auc: 0.861249\n",
      "Training until validation scores don't improve for 5 rounds\n",
      "Early stopping, best iteration is:\n",
      "[166]\tvalid_0's auc: 0.862484\n",
      "Training until validation scores don't improve for 5 rounds\n",
      "Early stopping, best iteration is:\n",
      "[177]\tvalid_0's auc: 0.858836\n",
      "Training until validation scores don't improve for 5 rounds\n",
      "Early stopping, best iteration is:\n",
      "[98]\tvalid_0's auc: 0.85885\n"
     ]
    },
    {
     "name": "stderr",
     "output_type": "stream",
     "text": [
      "[I 2023-12-10 13:54:12,130] Trial 112 finished with value: 0.8601802798813363 and parameters: {'learning_rate': 0.16000000000000003, 'num_leaves': 150, 'max_depth': 17, 'min_data_in_leaf': 500, 'lambda_l1': 1.6659221899472663e-06, 'lambda_l2': 5.3438194000142494e-05, 'bagging_fraction': 1.0, 'bagging_freq': 5, 'feature_fraction': 1.0, 'is_unbalance': True}. Best is trial 1 with value: 0.8606008091228651.\n"
     ]
    },
    {
     "name": "stdout",
     "output_type": "stream",
     "text": [
      "Training until validation scores don't improve for 5 rounds\n",
      "Early stopping, best iteration is:\n",
      "[80]\tvalid_0's auc: 0.858267\n",
      "Training until validation scores don't improve for 5 rounds\n",
      "Early stopping, best iteration is:\n",
      "[120]\tvalid_0's auc: 0.860475\n",
      "Training until validation scores don't improve for 5 rounds\n",
      "Early stopping, best iteration is:\n",
      "[129]\tvalid_0's auc: 0.861998\n",
      "Training until validation scores don't improve for 5 rounds\n",
      "Early stopping, best iteration is:\n",
      "[127]\tvalid_0's auc: 0.858286\n",
      "Training until validation scores don't improve for 5 rounds\n",
      "Early stopping, best iteration is:\n",
      "[134]\tvalid_0's auc: 0.859526\n"
     ]
    },
    {
     "name": "stderr",
     "output_type": "stream",
     "text": [
      "[I 2023-12-10 13:54:41,762] Trial 113 finished with value: 0.8597105548037934 and parameters: {'learning_rate': 0.16000000000000003, 'num_leaves': 150, 'max_depth': 19, 'min_data_in_leaf': 500, 'lambda_l1': 3.789851748162093e-06, 'lambda_l2': 0.00011722168138547403, 'bagging_fraction': 1.0, 'bagging_freq': 5, 'feature_fraction': 1.0, 'is_unbalance': True}. Best is trial 1 with value: 0.8606008091228651.\n"
     ]
    },
    {
     "name": "stdout",
     "output_type": "stream",
     "text": [
      "Training until validation scores don't improve for 5 rounds\n"
     ]
    },
    {
     "name": "stderr",
     "output_type": "stream",
     "text": [
      "[I 2023-12-10 13:54:43,267] Trial 114 pruned. Trial was pruned at iteration 19.\n"
     ]
    },
    {
     "name": "stdout",
     "output_type": "stream",
     "text": [
      "Training until validation scores don't improve for 5 rounds\n"
     ]
    },
    {
     "name": "stderr",
     "output_type": "stream",
     "text": [
      "[I 2023-12-10 13:54:46,340] Trial 115 pruned. Trial was pruned at iteration 50.\n",
      "[I 2023-12-10 13:54:47,133] Trial 116 pruned. Trial was pruned at iteration 0.\n"
     ]
    },
    {
     "name": "stdout",
     "output_type": "stream",
     "text": [
      "Training until validation scores don't improve for 5 rounds\n"
     ]
    },
    {
     "name": "stderr",
     "output_type": "stream",
     "text": [
      "[I 2023-12-10 13:54:52,215] Trial 117 pruned. Trial was pruned at iteration 104.\n"
     ]
    },
    {
     "name": "stdout",
     "output_type": "stream",
     "text": [
      "Training until validation scores don't improve for 5 rounds\n"
     ]
    },
    {
     "name": "stderr",
     "output_type": "stream",
     "text": [
      "[I 2023-12-10 13:54:55,018] Trial 118 pruned. Trial was pruned at iteration 50.\n",
      "[I 2023-12-10 13:54:55,815] Trial 119 pruned. Trial was pruned at iteration 1.\n"
     ]
    },
    {
     "name": "stdout",
     "output_type": "stream",
     "text": [
      "Training until validation scores don't improve for 5 rounds\n"
     ]
    },
    {
     "name": "stderr",
     "output_type": "stream",
     "text": [
      "[I 2023-12-10 13:54:56,576] Trial 120 pruned. Trial was pruned at iteration 0.\n"
     ]
    },
    {
     "name": "stdout",
     "output_type": "stream",
     "text": [
      "Training until validation scores don't improve for 5 rounds\n",
      "Early stopping, best iteration is:\n",
      "[135]\tvalid_0's auc: 0.85923\n",
      "Training until validation scores don't improve for 5 rounds\n",
      "Early stopping, best iteration is:\n",
      "[111]\tvalid_0's auc: 0.860597\n",
      "Training until validation scores don't improve for 5 rounds\n",
      "Early stopping, best iteration is:\n",
      "[136]\tvalid_0's auc: 0.862439\n",
      "Training until validation scores don't improve for 5 rounds\n",
      "Early stopping, best iteration is:\n",
      "[116]\tvalid_0's auc: 0.858041\n",
      "Training until validation scores don't improve for 5 rounds\n",
      "Early stopping, best iteration is:\n",
      "[98]\tvalid_0's auc: 0.858368\n"
     ]
    },
    {
     "name": "stderr",
     "output_type": "stream",
     "text": [
      "[I 2023-12-10 13:55:23,434] Trial 121 finished with value: 0.8597349257942379 and parameters: {'learning_rate': 0.16000000000000003, 'num_leaves': 145, 'max_depth': 17, 'min_data_in_leaf': 200, 'lambda_l1': 7.123201191097675e-07, 'lambda_l2': 5.494681585765509e-05, 'bagging_fraction': 1.0, 'bagging_freq': 5, 'feature_fraction': 1.0, 'is_unbalance': True}. Best is trial 1 with value: 0.8606008091228651.\n"
     ]
    },
    {
     "name": "stdout",
     "output_type": "stream",
     "text": [
      "Training until validation scores don't improve for 5 rounds\n",
      "Early stopping, best iteration is:\n",
      "[151]\tvalid_0's auc: 0.860057\n",
      "Training until validation scores don't improve for 5 rounds\n",
      "Early stopping, best iteration is:\n",
      "[137]\tvalid_0's auc: 0.861389\n",
      "Training until validation scores don't improve for 5 rounds\n",
      "Early stopping, best iteration is:\n",
      "[158]\tvalid_0's auc: 0.86276\n",
      "Training until validation scores don't improve for 5 rounds\n",
      "Early stopping, best iteration is:\n",
      "[102]\tvalid_0's auc: 0.857711\n",
      "Training until validation scores don't improve for 5 rounds\n",
      "Early stopping, best iteration is:\n",
      "[108]\tvalid_0's auc: 0.859374\n"
     ]
    },
    {
     "name": "stderr",
     "output_type": "stream",
     "text": [
      "[I 2023-12-10 13:55:53,913] Trial 122 finished with value: 0.8602583539294093 and parameters: {'learning_rate': 0.16000000000000003, 'num_leaves': 145, 'max_depth': 17, 'min_data_in_leaf': 300, 'lambda_l1': 2.5614178351164414e-06, 'lambda_l2': 0.00010614510337075105, 'bagging_fraction': 1.0, 'bagging_freq': 5, 'feature_fraction': 1.0, 'is_unbalance': True}. Best is trial 1 with value: 0.8606008091228651.\n"
     ]
    },
    {
     "name": "stdout",
     "output_type": "stream",
     "text": [
      "Training until validation scores don't improve for 5 rounds\n",
      "Early stopping, best iteration is:\n",
      "[139]\tvalid_0's auc: 0.859709\n",
      "Training until validation scores don't improve for 5 rounds\n",
      "Early stopping, best iteration is:\n",
      "[121]\tvalid_0's auc: 0.861249\n",
      "Training until validation scores don't improve for 5 rounds\n",
      "Early stopping, best iteration is:\n",
      "[166]\tvalid_0's auc: 0.862485\n",
      "Training until validation scores don't improve for 5 rounds\n",
      "Early stopping, best iteration is:\n",
      "[132]\tvalid_0's auc: 0.857995\n",
      "Training until validation scores don't improve for 5 rounds\n",
      "Early stopping, best iteration is:\n",
      "[98]\tvalid_0's auc: 0.85885\n"
     ]
    },
    {
     "name": "stderr",
     "output_type": "stream",
     "text": [
      "[I 2023-12-10 13:56:25,187] Trial 123 finished with value: 0.860057467295628 and parameters: {'learning_rate': 0.16000000000000003, 'num_leaves': 150, 'max_depth': 17, 'min_data_in_leaf': 500, 'lambda_l1': 3.0688474647952305e-06, 'lambda_l2': 0.0001135434270027924, 'bagging_fraction': 1.0, 'bagging_freq': 5, 'feature_fraction': 1.0, 'is_unbalance': True}. Best is trial 1 with value: 0.8606008091228651.\n"
     ]
    },
    {
     "name": "stdout",
     "output_type": "stream",
     "text": [
      "Training until validation scores don't improve for 5 rounds\n"
     ]
    },
    {
     "name": "stderr",
     "output_type": "stream",
     "text": [
      "[I 2023-12-10 13:56:27,138] Trial 124 pruned. Trial was pruned at iteration 28.\n",
      "[I 2023-12-10 13:56:27,988] Trial 125 pruned. Trial was pruned at iteration 2.\n"
     ]
    },
    {
     "name": "stdout",
     "output_type": "stream",
     "text": [
      "Training until validation scores don't improve for 5 rounds\n"
     ]
    },
    {
     "name": "stderr",
     "output_type": "stream",
     "text": [
      "[I 2023-12-10 13:56:28,739] Trial 126 pruned. Trial was pruned at iteration 0.\n",
      "[I 2023-12-10 13:56:29,534] Trial 127 pruned. Trial was pruned at iteration 0.\n",
      "[I 2023-12-10 13:56:30,304] Trial 128 pruned. Trial was pruned at iteration 0.\n"
     ]
    },
    {
     "name": "stdout",
     "output_type": "stream",
     "text": [
      "Training until validation scores don't improve for 5 rounds\n"
     ]
    },
    {
     "name": "stderr",
     "output_type": "stream",
     "text": [
      "[I 2023-12-10 13:56:31,873] Trial 129 pruned. Trial was pruned at iteration 13.\n",
      "[I 2023-12-10 13:56:32,736] Trial 130 pruned. Trial was pruned at iteration 0.\n"
     ]
    },
    {
     "name": "stdout",
     "output_type": "stream",
     "text": [
      "Training until validation scores don't improve for 5 rounds\n",
      "Early stopping, best iteration is:\n",
      "[144]\tvalid_0's auc: 0.859858\n",
      "Training until validation scores don't improve for 5 rounds\n",
      "Early stopping, best iteration is:\n",
      "[137]\tvalid_0's auc: 0.861389\n",
      "Training until validation scores don't improve for 5 rounds\n",
      "Early stopping, best iteration is:\n",
      "[158]\tvalid_0's auc: 0.86276\n",
      "Training until validation scores don't improve for 5 rounds\n",
      "Early stopping, best iteration is:\n",
      "[102]\tvalid_0's auc: 0.857711\n",
      "Training until validation scores don't improve for 5 rounds\n",
      "Early stopping, best iteration is:\n",
      "[83]\tvalid_0's auc: 0.858573\n"
     ]
    },
    {
     "name": "stderr",
     "output_type": "stream",
     "text": [
      "[I 2023-12-10 13:57:00,802] Trial 131 finished with value: 0.8600583568832946 and parameters: {'learning_rate': 0.16000000000000003, 'num_leaves': 145, 'max_depth': 17, 'min_data_in_leaf': 300, 'lambda_l1': 1.3657607939422173e-06, 'lambda_l2': 4.7158032613637585e-05, 'bagging_fraction': 1.0, 'bagging_freq': 5, 'feature_fraction': 1.0, 'is_unbalance': True}. Best is trial 1 with value: 0.8606008091228651.\n"
     ]
    },
    {
     "name": "stdout",
     "output_type": "stream",
     "text": [
      "Training until validation scores don't improve for 5 rounds\n",
      "Early stopping, best iteration is:\n",
      "[144]\tvalid_0's auc: 0.859858\n",
      "Training until validation scores don't improve for 5 rounds\n",
      "Early stopping, best iteration is:\n",
      "[137]\tvalid_0's auc: 0.861389\n",
      "Training until validation scores don't improve for 5 rounds\n",
      "Early stopping, best iteration is:\n",
      "[176]\tvalid_0's auc: 0.862859\n",
      "Training until validation scores don't improve for 5 rounds\n",
      "Early stopping, best iteration is:\n",
      "[102]\tvalid_0's auc: 0.857711\n",
      "Training until validation scores don't improve for 5 rounds\n",
      "Early stopping, best iteration is:\n",
      "[83]\tvalid_0's auc: 0.858574\n"
     ]
    },
    {
     "name": "stderr",
     "output_type": "stream",
     "text": [
      "[I 2023-12-10 13:57:30,316] Trial 132 finished with value: 0.8600781632844043 and parameters: {'learning_rate': 0.16000000000000003, 'num_leaves': 145, 'max_depth': 17, 'min_data_in_leaf': 300, 'lambda_l1': 1.721286323328057e-06, 'lambda_l2': 6.680550430674583e-05, 'bagging_fraction': 1.0, 'bagging_freq': 5, 'feature_fraction': 1.0, 'is_unbalance': True}. Best is trial 1 with value: 0.8606008091228651.\n"
     ]
    },
    {
     "name": "stdout",
     "output_type": "stream",
     "text": [
      "Training until validation scores don't improve for 5 rounds\n"
     ]
    },
    {
     "name": "stderr",
     "output_type": "stream",
     "text": [
      "[I 2023-12-10 13:57:36,672] Trial 133 pruned. Trial was pruned at iteration 156.\n",
      "[I 2023-12-10 13:57:37,458] Trial 134 pruned. Trial was pruned at iteration 0.\n"
     ]
    },
    {
     "name": "stdout",
     "output_type": "stream",
     "text": [
      "Training until validation scores don't improve for 5 rounds\n",
      "Early stopping, best iteration is:\n",
      "[131]\tvalid_0's auc: 0.859767\n",
      "Training until validation scores don't improve for 5 rounds\n",
      "Early stopping, best iteration is:\n",
      "[89]\tvalid_0's auc: 0.859886\n",
      "Training until validation scores don't improve for 5 rounds\n",
      "Early stopping, best iteration is:\n",
      "[123]\tvalid_0's auc: 0.862154\n",
      "Training until validation scores don't improve for 5 rounds\n"
     ]
    },
    {
     "name": "stderr",
     "output_type": "stream",
     "text": [
      "[I 2023-12-10 13:57:59,516] Trial 135 pruned. Trial was pruned at iteration 155.\n",
      "[I 2023-12-10 13:58:00,293] Trial 136 pruned. Trial was pruned at iteration 0.\n",
      "[I 2023-12-10 13:58:01,043] Trial 137 pruned. Trial was pruned at iteration 0.\n"
     ]
    },
    {
     "name": "stdout",
     "output_type": "stream",
     "text": [
      "Training until validation scores don't improve for 5 rounds\n",
      "Early stopping, best iteration is:\n",
      "[123]\tvalid_0's auc: 0.858942\n",
      "Training until validation scores don't improve for 5 rounds\n",
      "Early stopping, best iteration is:\n",
      "[114]\tvalid_0's auc: 0.860664\n",
      "Training until validation scores don't improve for 5 rounds\n",
      "Early stopping, best iteration is:\n",
      "[168]\tvalid_0's auc: 0.862918\n",
      "Training until validation scores don't improve for 5 rounds\n",
      "Early stopping, best iteration is:\n",
      "[83]\tvalid_0's auc: 0.856595\n",
      "Training until validation scores don't improve for 5 rounds\n",
      "Early stopping, best iteration is:\n",
      "[92]\tvalid_0's auc: 0.858392\n"
     ]
    },
    {
     "name": "stderr",
     "output_type": "stream",
     "text": [
      "[I 2023-12-10 13:58:25,418] Trial 138 finished with value: 0.8595023181271806 and parameters: {'learning_rate': 0.16000000000000003, 'num_leaves': 135, 'max_depth': 15, 'min_data_in_leaf': 200, 'lambda_l1': 0.0010400999851881579, 'lambda_l2': 0.0008584056143022608, 'bagging_fraction': 1.0, 'bagging_freq': 5, 'feature_fraction': 1.0, 'is_unbalance': True}. Best is trial 1 with value: 0.8606008091228651.\n",
      "[I 2023-12-10 13:58:26,139] Trial 139 pruned. Trial was pruned at iteration 0.\n"
     ]
    },
    {
     "name": "stdout",
     "output_type": "stream",
     "text": [
      "Training until validation scores don't improve for 5 rounds\n"
     ]
    },
    {
     "name": "stderr",
     "output_type": "stream",
     "text": [
      "[I 2023-12-10 13:58:27,678] Trial 140 pruned. Trial was pruned at iteration 17.\n"
     ]
    },
    {
     "name": "stdout",
     "output_type": "stream",
     "text": [
      "Training until validation scores don't improve for 5 rounds\n",
      "Early stopping, best iteration is:\n",
      "[144]\tvalid_0's auc: 0.859858\n",
      "Training until validation scores don't improve for 5 rounds\n",
      "Early stopping, best iteration is:\n",
      "[137]\tvalid_0's auc: 0.861389\n",
      "Training until validation scores don't improve for 5 rounds\n",
      "Early stopping, best iteration is:\n",
      "[176]\tvalid_0's auc: 0.862859\n",
      "Training until validation scores don't improve for 5 rounds\n",
      "Early stopping, best iteration is:\n",
      "[102]\tvalid_0's auc: 0.857711\n",
      "Training until validation scores don't improve for 5 rounds\n",
      "Early stopping, best iteration is:\n",
      "[83]\tvalid_0's auc: 0.858573\n"
     ]
    },
    {
     "name": "stderr",
     "output_type": "stream",
     "text": [
      "[I 2023-12-10 13:58:57,070] Trial 141 finished with value: 0.860078146414881 and parameters: {'learning_rate': 0.16000000000000003, 'num_leaves': 145, 'max_depth': 17, 'min_data_in_leaf': 300, 'lambda_l1': 1.2269566901242952e-06, 'lambda_l2': 6.509456532067311e-05, 'bagging_fraction': 1.0, 'bagging_freq': 5, 'feature_fraction': 1.0, 'is_unbalance': True}. Best is trial 1 with value: 0.8606008091228651.\n"
     ]
    },
    {
     "name": "stdout",
     "output_type": "stream",
     "text": [
      "Training until validation scores don't improve for 5 rounds\n",
      "Early stopping, best iteration is:\n",
      "[113]\tvalid_0's auc: 0.859384\n",
      "Training until validation scores don't improve for 5 rounds\n",
      "Early stopping, best iteration is:\n",
      "[137]\tvalid_0's auc: 0.861305\n",
      "Training until validation scores don't improve for 5 rounds\n",
      "Early stopping, best iteration is:\n",
      "[133]\tvalid_0's auc: 0.861926\n",
      "Training until validation scores don't improve for 5 rounds\n",
      "Early stopping, best iteration is:\n",
      "[148]\tvalid_0's auc: 0.858846\n",
      "Training until validation scores don't improve for 5 rounds\n",
      "Early stopping, best iteration is:\n",
      "[111]\tvalid_0's auc: 0.859119\n"
     ]
    },
    {
     "name": "stderr",
     "output_type": "stream",
     "text": [
      "[I 2023-12-10 13:59:26,582] Trial 142 finished with value: 0.8601159612860885 and parameters: {'learning_rate': 0.16000000000000003, 'num_leaves': 150, 'max_depth': 17, 'min_data_in_leaf': 300, 'lambda_l1': 8.837922002158726e-07, 'lambda_l2': 3.977669045944387e-05, 'bagging_fraction': 1.0, 'bagging_freq': 5, 'feature_fraction': 1.0, 'is_unbalance': True}. Best is trial 1 with value: 0.8606008091228651.\n"
     ]
    },
    {
     "name": "stdout",
     "output_type": "stream",
     "text": [
      "Training until validation scores don't improve for 5 rounds\n",
      "Early stopping, best iteration is:\n",
      "[113]\tvalid_0's auc: 0.859384\n",
      "Training until validation scores don't improve for 5 rounds\n",
      "Early stopping, best iteration is:\n",
      "[137]\tvalid_0's auc: 0.861305\n",
      "Training until validation scores don't improve for 5 rounds\n",
      "Early stopping, best iteration is:\n",
      "[133]\tvalid_0's auc: 0.861926\n",
      "Training until validation scores don't improve for 5 rounds\n",
      "Early stopping, best iteration is:\n",
      "[148]\tvalid_0's auc: 0.858846\n",
      "Training until validation scores don't improve for 5 rounds\n",
      "Early stopping, best iteration is:\n",
      "[117]\tvalid_0's auc: 0.859344\n"
     ]
    },
    {
     "name": "stderr",
     "output_type": "stream",
     "text": [
      "[I 2023-12-10 13:59:57,511] Trial 143 finished with value: 0.8601610571356009 and parameters: {'learning_rate': 0.16000000000000003, 'num_leaves': 150, 'max_depth': 17, 'min_data_in_leaf': 300, 'lambda_l1': 4.96358639689424e-07, 'lambda_l2': 6.144823679227279e-05, 'bagging_fraction': 1.0, 'bagging_freq': 5, 'feature_fraction': 1.0, 'is_unbalance': True}. Best is trial 1 with value: 0.8606008091228651.\n"
     ]
    },
    {
     "name": "stdout",
     "output_type": "stream",
     "text": [
      "Training until validation scores don't improve for 5 rounds\n",
      "Early stopping, best iteration is:\n",
      "[104]\tvalid_0's auc: 0.859059\n",
      "Training until validation scores don't improve for 5 rounds\n",
      "Early stopping, best iteration is:\n",
      "[137]\tvalid_0's auc: 0.861131\n",
      "Training until validation scores don't improve for 5 rounds\n",
      "Early stopping, best iteration is:\n",
      "[113]\tvalid_0's auc: 0.861946\n",
      "Training until validation scores don't improve for 5 rounds\n",
      "Early stopping, best iteration is:\n",
      "[128]\tvalid_0's auc: 0.858265\n",
      "Training until validation scores don't improve for 5 rounds\n",
      "Early stopping, best iteration is:\n",
      "[127]\tvalid_0's auc: 0.858596\n"
     ]
    },
    {
     "name": "stderr",
     "output_type": "stream",
     "text": [
      "[I 2023-12-10 14:00:24,641] Trial 144 finished with value: 0.8597992274098791 and parameters: {'learning_rate': 0.16000000000000003, 'num_leaves': 150, 'max_depth': 17, 'min_data_in_leaf': 200, 'lambda_l1': 4.644643802881219e-07, 'lambda_l2': 2.7395485519510353e-05, 'bagging_fraction': 1.0, 'bagging_freq': 5, 'feature_fraction': 1.0, 'is_unbalance': True}. Best is trial 1 with value: 0.8606008091228651.\n",
      "[I 2023-12-10 14:00:25,355] Trial 145 pruned. Trial was pruned at iteration 0.\n"
     ]
    },
    {
     "name": "stdout",
     "output_type": "stream",
     "text": [
      "Training until validation scores don't improve for 5 rounds\n",
      "Early stopping, best iteration is:\n",
      "[113]\tvalid_0's auc: 0.859384\n",
      "Training until validation scores don't improve for 5 rounds\n",
      "Early stopping, best iteration is:\n",
      "[137]\tvalid_0's auc: 0.861305\n",
      "Training until validation scores don't improve for 5 rounds\n",
      "Early stopping, best iteration is:\n",
      "[121]\tvalid_0's auc: 0.861952\n",
      "Training until validation scores don't improve for 5 rounds\n",
      "Early stopping, best iteration is:\n",
      "[102]\tvalid_0's auc: 0.857635\n",
      "Training until validation scores don't improve for 5 rounds\n",
      "Early stopping, best iteration is:\n",
      "[124]\tvalid_0's auc: 0.85935\n"
     ]
    },
    {
     "name": "stderr",
     "output_type": "stream",
     "text": [
      "[I 2023-12-10 14:00:53,134] Trial 146 finished with value: 0.8599251859549385 and parameters: {'learning_rate': 0.16000000000000003, 'num_leaves': 150, 'max_depth': 17, 'min_data_in_leaf': 300, 'lambda_l1': 4.1032034181993215e-06, 'lambda_l2': 0.00015282923257239523, 'bagging_fraction': 1.0, 'bagging_freq': 5, 'feature_fraction': 1.0, 'is_unbalance': True}. Best is trial 1 with value: 0.8606008091228651.\n",
      "[I 2023-12-10 14:00:53,868] Trial 147 pruned. Trial was pruned at iteration 0.\n",
      "[I 2023-12-10 14:00:54,654] Trial 148 pruned. Trial was pruned at iteration 0.\n",
      "[I 2023-12-10 14:00:55,437] Trial 149 pruned. Trial was pruned at iteration 0.\n"
     ]
    },
    {
     "name": "stdout",
     "output_type": "stream",
     "text": [
      "Training until validation scores don't improve for 5 rounds\n"
     ]
    },
    {
     "name": "stderr",
     "output_type": "stream",
     "text": [
      "[I 2023-12-10 14:01:01,033] Trial 150 pruned. Trial was pruned at iteration 121.\n"
     ]
    },
    {
     "name": "stdout",
     "output_type": "stream",
     "text": [
      "Training until validation scores don't improve for 5 rounds\n",
      "Early stopping, best iteration is:\n",
      "[144]\tvalid_0's auc: 0.859858\n",
      "Training until validation scores don't improve for 5 rounds\n",
      "Early stopping, best iteration is:\n",
      "[137]\tvalid_0's auc: 0.861389\n",
      "Training until validation scores don't improve for 5 rounds\n",
      "Early stopping, best iteration is:\n",
      "[158]\tvalid_0's auc: 0.86276\n",
      "Training until validation scores don't improve for 5 rounds\n",
      "Early stopping, best iteration is:\n",
      "[102]\tvalid_0's auc: 0.857711\n",
      "Training until validation scores don't improve for 5 rounds\n",
      "Early stopping, best iteration is:\n",
      "[83]\tvalid_0's auc: 0.858573\n"
     ]
    },
    {
     "name": "stderr",
     "output_type": "stream",
     "text": [
      "[I 2023-12-10 14:01:30,999] Trial 151 finished with value: 0.8600583404364516 and parameters: {'learning_rate': 0.16000000000000003, 'num_leaves': 145, 'max_depth': 17, 'min_data_in_leaf': 300, 'lambda_l1': 1.1597070290792375e-06, 'lambda_l2': 5.4970388778885506e-05, 'bagging_fraction': 1.0, 'bagging_freq': 5, 'feature_fraction': 1.0, 'is_unbalance': True}. Best is trial 1 with value: 0.8606008091228651.\n",
      "[I 2023-12-10 14:01:31,799] Trial 152 pruned. Trial was pruned at iteration 0.\n"
     ]
    },
    {
     "name": "stdout",
     "output_type": "stream",
     "text": [
      "Training until validation scores don't improve for 5 rounds\n",
      "Early stopping, best iteration is:\n",
      "[113]\tvalid_0's auc: 0.859384\n",
      "Training until validation scores don't improve for 5 rounds\n",
      "Early stopping, best iteration is:\n",
      "[137]\tvalid_0's auc: 0.861305\n",
      "Training until validation scores don't improve for 5 rounds\n",
      "Early stopping, best iteration is:\n",
      "[133]\tvalid_0's auc: 0.861926\n",
      "Training until validation scores don't improve for 5 rounds\n",
      "Early stopping, best iteration is:\n",
      "[148]\tvalid_0's auc: 0.858846\n",
      "Training until validation scores don't improve for 5 rounds\n",
      "Early stopping, best iteration is:\n",
      "[117]\tvalid_0's auc: 0.859345\n"
     ]
    },
    {
     "name": "stderr",
     "output_type": "stream",
     "text": [
      "[I 2023-12-10 14:02:01,317] Trial 153 finished with value: 0.8601610640527074 and parameters: {'learning_rate': 0.16000000000000003, 'num_leaves': 150, 'max_depth': 17, 'min_data_in_leaf': 300, 'lambda_l1': 1.022523882323372e-06, 'lambda_l2': 6.611253946078185e-05, 'bagging_fraction': 1.0, 'bagging_freq': 5, 'feature_fraction': 1.0, 'is_unbalance': True}. Best is trial 1 with value: 0.8606008091228651.\n"
     ]
    },
    {
     "name": "stdout",
     "output_type": "stream",
     "text": [
      "Training until validation scores don't improve for 5 rounds\n"
     ]
    },
    {
     "name": "stderr",
     "output_type": "stream",
     "text": [
      "[I 2023-12-10 14:02:06,612] Trial 154 pruned. Trial was pruned at iteration 121.\n"
     ]
    },
    {
     "name": "stdout",
     "output_type": "stream",
     "text": [
      "Training until validation scores don't improve for 5 rounds\n",
      "Early stopping, best iteration is:\n",
      "[142]\tvalid_0's auc: 0.859952\n",
      "Training until validation scores don't improve for 5 rounds\n",
      "Early stopping, best iteration is:\n",
      "[94]\tvalid_0's auc: 0.860423\n",
      "Training until validation scores don't improve for 5 rounds\n",
      "Early stopping, best iteration is:\n",
      "[121]\tvalid_0's auc: 0.861944\n",
      "Training until validation scores don't improve for 5 rounds\n",
      "Early stopping, best iteration is:\n",
      "[134]\tvalid_0's auc: 0.85843\n",
      "Training until validation scores don't improve for 5 rounds\n",
      "Early stopping, best iteration is:\n",
      "[126]\tvalid_0's auc: 0.859111\n"
     ]
    },
    {
     "name": "stderr",
     "output_type": "stream",
     "text": [
      "[I 2023-12-10 14:02:34,403] Trial 155 finished with value: 0.8599716704372892 and parameters: {'learning_rate': 0.16000000000000003, 'num_leaves': 150, 'max_depth': 15, 'min_data_in_leaf': 300, 'lambda_l1': 4.227616437159043e-06, 'lambda_l2': 0.00013129211031083415, 'bagging_fraction': 1.0, 'bagging_freq': 5, 'feature_fraction': 1.0, 'is_unbalance': True}. Best is trial 1 with value: 0.8606008091228651.\n"
     ]
    },
    {
     "name": "stdout",
     "output_type": "stream",
     "text": [
      "Training until validation scores don't improve for 5 rounds\n"
     ]
    },
    {
     "name": "stderr",
     "output_type": "stream",
     "text": [
      "[I 2023-12-10 14:02:36,826] Trial 156 pruned. Trial was pruned at iteration 35.\n",
      "[I 2023-12-10 14:02:37,656] Trial 157 pruned. Trial was pruned at iteration 0.\n"
     ]
    },
    {
     "name": "stdout",
     "output_type": "stream",
     "text": [
      "Training until validation scores don't improve for 5 rounds\n"
     ]
    },
    {
     "name": "stderr",
     "output_type": "stream",
     "text": [
      "[I 2023-12-10 14:02:39,449] Trial 158 pruned. Trial was pruned at iteration 17.\n",
      "[I 2023-12-10 14:02:40,257] Trial 159 pruned. Trial was pruned at iteration 0.\n",
      "[I 2023-12-10 14:02:41,076] Trial 160 pruned. Trial was pruned at iteration 0.\n"
     ]
    },
    {
     "name": "stdout",
     "output_type": "stream",
     "text": [
      "Training until validation scores don't improve for 5 rounds\n",
      "Early stopping, best iteration is:\n",
      "[113]\tvalid_0's auc: 0.859384\n",
      "Training until validation scores don't improve for 5 rounds\n",
      "Early stopping, best iteration is:\n",
      "[137]\tvalid_0's auc: 0.861305\n",
      "Training until validation scores don't improve for 5 rounds\n",
      "Early stopping, best iteration is:\n",
      "[133]\tvalid_0's auc: 0.861926\n",
      "Training until validation scores don't improve for 5 rounds\n",
      "Early stopping, best iteration is:\n",
      "[148]\tvalid_0's auc: 0.858846\n",
      "Training until validation scores don't improve for 5 rounds\n",
      "Early stopping, best iteration is:\n",
      "[117]\tvalid_0's auc: 0.859344\n"
     ]
    },
    {
     "name": "stderr",
     "output_type": "stream",
     "text": [
      "[I 2023-12-10 14:03:11,153] Trial 161 finished with value: 0.8601610833674863 and parameters: {'learning_rate': 0.16000000000000003, 'num_leaves': 150, 'max_depth': 17, 'min_data_in_leaf': 300, 'lambda_l1': 1.0071274908796999e-06, 'lambda_l2': 6.959383999923081e-05, 'bagging_fraction': 1.0, 'bagging_freq': 5, 'feature_fraction': 1.0, 'is_unbalance': True}. Best is trial 1 with value: 0.8606008091228651.\n"
     ]
    },
    {
     "name": "stdout",
     "output_type": "stream",
     "text": [
      "Training until validation scores don't improve for 5 rounds\n",
      "Early stopping, best iteration is:\n",
      "[113]\tvalid_0's auc: 0.859384\n",
      "Training until validation scores don't improve for 5 rounds\n",
      "Early stopping, best iteration is:\n",
      "[137]\tvalid_0's auc: 0.861305\n",
      "Training until validation scores don't improve for 5 rounds\n",
      "Early stopping, best iteration is:\n",
      "[133]\tvalid_0's auc: 0.861926\n",
      "Training until validation scores don't improve for 5 rounds\n",
      "Early stopping, best iteration is:\n",
      "[148]\tvalid_0's auc: 0.858846\n",
      "Training until validation scores don't improve for 5 rounds\n",
      "Early stopping, best iteration is:\n",
      "[111]\tvalid_0's auc: 0.859119\n"
     ]
    },
    {
     "name": "stderr",
     "output_type": "stream",
     "text": [
      "[I 2023-12-10 14:03:47,450] Trial 162 finished with value: 0.8601159501525766 and parameters: {'learning_rate': 0.16000000000000003, 'num_leaves': 150, 'max_depth': 17, 'min_data_in_leaf': 300, 'lambda_l1': 8.82087370680552e-07, 'lambda_l2': 2.1358292816199044e-05, 'bagging_fraction': 1.0, 'bagging_freq': 5, 'feature_fraction': 1.0, 'is_unbalance': True}. Best is trial 1 with value: 0.8606008091228651.\n"
     ]
    },
    {
     "name": "stdout",
     "output_type": "stream",
     "text": [
      "Training until validation scores don't improve for 5 rounds\n",
      "Early stopping, best iteration is:\n",
      "[113]\tvalid_0's auc: 0.859384\n",
      "Training until validation scores don't improve for 5 rounds\n",
      "Early stopping, best iteration is:\n",
      "[137]\tvalid_0's auc: 0.861305\n",
      "Training until validation scores don't improve for 5 rounds\n",
      "Early stopping, best iteration is:\n",
      "[133]\tvalid_0's auc: 0.861926\n",
      "Training until validation scores don't improve for 5 rounds\n",
      "Early stopping, best iteration is:\n",
      "[148]\tvalid_0's auc: 0.858846\n",
      "Training until validation scores don't improve for 5 rounds\n",
      "Early stopping, best iteration is:\n",
      "[111]\tvalid_0's auc: 0.859119\n"
     ]
    },
    {
     "name": "stderr",
     "output_type": "stream",
     "text": [
      "[I 2023-12-10 14:04:22,415] Trial 163 finished with value: 0.8601159256917326 and parameters: {'learning_rate': 0.16000000000000003, 'num_leaves': 150, 'max_depth': 17, 'min_data_in_leaf': 300, 'lambda_l1': 7.630609764166135e-07, 'lambda_l2': 1.4178285690737638e-05, 'bagging_fraction': 1.0, 'bagging_freq': 5, 'feature_fraction': 1.0, 'is_unbalance': True}. Best is trial 1 with value: 0.8606008091228651.\n"
     ]
    },
    {
     "name": "stdout",
     "output_type": "stream",
     "text": [
      "Training until validation scores don't improve for 5 rounds\n",
      "Early stopping, best iteration is:\n",
      "[113]\tvalid_0's auc: 0.859384\n",
      "Training until validation scores don't improve for 5 rounds\n",
      "Early stopping, best iteration is:\n",
      "[137]\tvalid_0's auc: 0.861305\n",
      "Training until validation scores don't improve for 5 rounds\n",
      "Early stopping, best iteration is:\n",
      "[133]\tvalid_0's auc: 0.861926\n",
      "Training until validation scores don't improve for 5 rounds\n",
      "Early stopping, best iteration is:\n",
      "[131]\tvalid_0's auc: 0.857862\n",
      "Training until validation scores don't improve for 5 rounds\n",
      "Early stopping, best iteration is:\n",
      "[111]\tvalid_0's auc: 0.859119\n"
     ]
    },
    {
     "name": "stderr",
     "output_type": "stream",
     "text": [
      "[I 2023-12-10 14:04:51,211] Trial 164 finished with value: 0.8599191008017018 and parameters: {'learning_rate': 0.16000000000000003, 'num_leaves': 150, 'max_depth': 17, 'min_data_in_leaf': 300, 'lambda_l1': 2.783681586037575e-07, 'lambda_l2': 1.530698818109472e-05, 'bagging_fraction': 1.0, 'bagging_freq': 5, 'feature_fraction': 1.0, 'is_unbalance': True}. Best is trial 1 with value: 0.8606008091228651.\n"
     ]
    },
    {
     "name": "stdout",
     "output_type": "stream",
     "text": [
      "Training until validation scores don't improve for 5 rounds\n",
      "Early stopping, best iteration is:\n",
      "[113]\tvalid_0's auc: 0.859384\n",
      "Training until validation scores don't improve for 5 rounds\n",
      "Early stopping, best iteration is:\n",
      "[137]\tvalid_0's auc: 0.861305\n",
      "Training until validation scores don't improve for 5 rounds\n",
      "Early stopping, best iteration is:\n",
      "[133]\tvalid_0's auc: 0.861926\n",
      "Training until validation scores don't improve for 5 rounds\n",
      "Early stopping, best iteration is:\n",
      "[148]\tvalid_0's auc: 0.858846\n",
      "Training until validation scores don't improve for 5 rounds\n",
      "Early stopping, best iteration is:\n",
      "[111]\tvalid_0's auc: 0.859119\n"
     ]
    },
    {
     "name": "stderr",
     "output_type": "stream",
     "text": [
      "[I 2023-12-10 14:05:20,886] Trial 165 finished with value: 0.860115895411681 and parameters: {'learning_rate': 0.16000000000000003, 'num_leaves': 150, 'max_depth': 17, 'min_data_in_leaf': 300, 'lambda_l1': 6.890794227499028e-07, 'lambda_l2': 2.089220683229049e-05, 'bagging_fraction': 1.0, 'bagging_freq': 5, 'feature_fraction': 1.0, 'is_unbalance': True}. Best is trial 1 with value: 0.8606008091228651.\n"
     ]
    },
    {
     "name": "stdout",
     "output_type": "stream",
     "text": [
      "Training until validation scores don't improve for 5 rounds\n",
      "Early stopping, best iteration is:\n",
      "[113]\tvalid_0's auc: 0.859384\n",
      "Training until validation scores don't improve for 5 rounds\n",
      "Early stopping, best iteration is:\n",
      "[144]\tvalid_0's auc: 0.861359\n",
      "Training until validation scores don't improve for 5 rounds\n",
      "Early stopping, best iteration is:\n",
      "[133]\tvalid_0's auc: 0.861926\n",
      "Training until validation scores don't improve for 5 rounds\n",
      "Early stopping, best iteration is:\n",
      "[131]\tvalid_0's auc: 0.857862\n",
      "Training until validation scores don't improve for 5 rounds\n",
      "Early stopping, best iteration is:\n",
      "[111]\tvalid_0's auc: 0.859119\n"
     ]
    },
    {
     "name": "stderr",
     "output_type": "stream",
     "text": [
      "[I 2023-12-10 14:05:50,433] Trial 166 finished with value: 0.859929922150879 and parameters: {'learning_rate': 0.16000000000000003, 'num_leaves': 150, 'max_depth': 17, 'min_data_in_leaf': 300, 'lambda_l1': 9.85849806182212e-07, 'lambda_l2': 7.040730438975329e-06, 'bagging_fraction': 1.0, 'bagging_freq': 5, 'feature_fraction': 1.0, 'is_unbalance': True}. Best is trial 1 with value: 0.8606008091228651.\n",
      "[I 2023-12-10 14:05:51,213] Trial 167 pruned. Trial was pruned at iteration 1.\n"
     ]
    },
    {
     "name": "stdout",
     "output_type": "stream",
     "text": [
      "Training until validation scores don't improve for 5 rounds\n"
     ]
    },
    {
     "name": "stderr",
     "output_type": "stream",
     "text": [
      "[I 2023-12-10 14:05:52,016] Trial 168 pruned. Trial was pruned at iteration 0.\n"
     ]
    },
    {
     "name": "stdout",
     "output_type": "stream",
     "text": [
      "Training until validation scores don't improve for 5 rounds\n"
     ]
    },
    {
     "name": "stderr",
     "output_type": "stream",
     "text": [
      "[I 2023-12-10 14:05:57,382] Trial 169 pruned. Trial was pruned at iteration 139.\n",
      "[I 2023-12-10 14:05:58,432] Trial 170 pruned. Trial was pruned at iteration 4.\n"
     ]
    },
    {
     "name": "stdout",
     "output_type": "stream",
     "text": [
      "Training until validation scores don't improve for 5 rounds\n",
      "Training until validation scores don't improve for 5 rounds\n",
      "Early stopping, best iteration is:\n",
      "[113]\tvalid_0's auc: 0.859384\n",
      "Training until validation scores don't improve for 5 rounds\n",
      "Early stopping, best iteration is:\n",
      "[137]\tvalid_0's auc: 0.861305\n",
      "Training until validation scores don't improve for 5 rounds\n",
      "Early stopping, best iteration is:\n",
      "[133]\tvalid_0's auc: 0.861926\n",
      "Training until validation scores don't improve for 5 rounds\n",
      "Early stopping, best iteration is:\n",
      "[148]\tvalid_0's auc: 0.858846\n",
      "Training until validation scores don't improve for 5 rounds\n",
      "Early stopping, best iteration is:\n",
      "[111]\tvalid_0's auc: 0.859119\n"
     ]
    },
    {
     "name": "stderr",
     "output_type": "stream",
     "text": [
      "[I 2023-12-10 14:06:26,862] Trial 171 finished with value: 0.8601159598522192 and parameters: {'learning_rate': 0.16000000000000003, 'num_leaves': 150, 'max_depth': 17, 'min_data_in_leaf': 300, 'lambda_l1': 7.02510724247472e-07, 'lambda_l2': 2.1483488762056653e-05, 'bagging_fraction': 1.0, 'bagging_freq': 5, 'feature_fraction': 1.0, 'is_unbalance': True}. Best is trial 1 with value: 0.8606008091228651.\n"
     ]
    },
    {
     "name": "stdout",
     "output_type": "stream",
     "text": [
      "Training until validation scores don't improve for 5 rounds\n",
      "Early stopping, best iteration is:\n",
      "[113]\tvalid_0's auc: 0.859384\n",
      "Training until validation scores don't improve for 5 rounds\n",
      "Early stopping, best iteration is:\n",
      "[137]\tvalid_0's auc: 0.861305\n",
      "Training until validation scores don't improve for 5 rounds\n",
      "Early stopping, best iteration is:\n",
      "[133]\tvalid_0's auc: 0.861926\n",
      "Training until validation scores don't improve for 5 rounds\n",
      "Early stopping, best iteration is:\n",
      "[148]\tvalid_0's auc: 0.858846\n",
      "Training until validation scores don't improve for 5 rounds\n",
      "Early stopping, best iteration is:\n",
      "[111]\tvalid_0's auc: 0.859119\n"
     ]
    },
    {
     "name": "stderr",
     "output_type": "stream",
     "text": [
      "[I 2023-12-10 14:06:56,742] Trial 172 finished with value: 0.860115930161055 and parameters: {'learning_rate': 0.16000000000000003, 'num_leaves': 150, 'max_depth': 17, 'min_data_in_leaf': 300, 'lambda_l1': 8.929560896876314e-07, 'lambda_l2': 2.3476637091299187e-05, 'bagging_fraction': 1.0, 'bagging_freq': 5, 'feature_fraction': 1.0, 'is_unbalance': True}. Best is trial 1 with value: 0.8606008091228651.\n"
     ]
    },
    {
     "name": "stdout",
     "output_type": "stream",
     "text": [
      "Training until validation scores don't improve for 5 rounds\n",
      "Early stopping, best iteration is:\n",
      "[113]\tvalid_0's auc: 0.859384\n",
      "Training until validation scores don't improve for 5 rounds\n",
      "Early stopping, best iteration is:\n",
      "[137]\tvalid_0's auc: 0.861305\n",
      "Training until validation scores don't improve for 5 rounds\n",
      "Early stopping, best iteration is:\n",
      "[133]\tvalid_0's auc: 0.861926\n",
      "Training until validation scores don't improve for 5 rounds\n",
      "Early stopping, best iteration is:\n",
      "[148]\tvalid_0's auc: 0.858846\n",
      "Training until validation scores don't improve for 5 rounds\n",
      "Early stopping, best iteration is:\n",
      "[111]\tvalid_0's auc: 0.859119\n"
     ]
    },
    {
     "name": "stderr",
     "output_type": "stream",
     "text": [
      "[I 2023-12-10 14:07:26,162] Trial 173 finished with value: 0.8601159311740817 and parameters: {'learning_rate': 0.16000000000000003, 'num_leaves': 150, 'max_depth': 17, 'min_data_in_leaf': 300, 'lambda_l1': 1.3593386603757395e-06, 'lambda_l2': 2.740396959241797e-05, 'bagging_fraction': 1.0, 'bagging_freq': 5, 'feature_fraction': 1.0, 'is_unbalance': True}. Best is trial 1 with value: 0.8606008091228651.\n"
     ]
    },
    {
     "name": "stdout",
     "output_type": "stream",
     "text": [
      "Training until validation scores don't improve for 5 rounds\n"
     ]
    },
    {
     "name": "stderr",
     "output_type": "stream",
     "text": [
      "[I 2023-12-10 14:07:32,220] Trial 174 pruned. Trial was pruned at iteration 139.\n"
     ]
    },
    {
     "name": "stdout",
     "output_type": "stream",
     "text": [
      "Training until validation scores don't improve for 5 rounds\n"
     ]
    },
    {
     "name": "stderr",
     "output_type": "stream",
     "text": [
      "[I 2023-12-10 14:07:34,276] Trial 175 pruned. Trial was pruned at iteration 18.\n"
     ]
    },
    {
     "name": "stdout",
     "output_type": "stream",
     "text": [
      "Training until validation scores don't improve for 5 rounds\n"
     ]
    },
    {
     "name": "stderr",
     "output_type": "stream",
     "text": [
      "[I 2023-12-10 14:07:36,286] Trial 176 pruned. Trial was pruned at iteration 17.\n",
      "[I 2023-12-10 14:07:37,192] Trial 177 pruned. Trial was pruned at iteration 0.\n"
     ]
    },
    {
     "name": "stdout",
     "output_type": "stream",
     "text": [
      "Training until validation scores don't improve for 5 rounds\n",
      "Early stopping, best iteration is:\n",
      "[104]\tvalid_0's auc: 0.859059\n",
      "Training until validation scores don't improve for 5 rounds\n"
     ]
    },
    {
     "name": "stderr",
     "output_type": "stream",
     "text": [
      "[I 2023-12-10 14:07:52,535] Trial 178 pruned. Trial was pruned at iteration 157.\n",
      "[I 2023-12-10 14:07:53,733] Trial 179 pruned. Trial was pruned at iteration 0.\n",
      "[I 2023-12-10 14:07:54,945] Trial 180 pruned. Trial was pruned at iteration 0.\n"
     ]
    },
    {
     "name": "stdout",
     "output_type": "stream",
     "text": [
      "Training until validation scores don't improve for 5 rounds\n",
      "Early stopping, best iteration is:\n",
      "[113]\tvalid_0's auc: 0.859384\n",
      "Training until validation scores don't improve for 5 rounds\n",
      "Early stopping, best iteration is:\n",
      "[137]\tvalid_0's auc: 0.861305\n",
      "Training until validation scores don't improve for 5 rounds\n",
      "Early stopping, best iteration is:\n",
      "[133]\tvalid_0's auc: 0.861926\n",
      "Training until validation scores don't improve for 5 rounds\n",
      "Early stopping, best iteration is:\n",
      "[148]\tvalid_0's auc: 0.858846\n",
      "Training until validation scores don't improve for 5 rounds\n",
      "Early stopping, best iteration is:\n",
      "[111]\tvalid_0's auc: 0.859119\n"
     ]
    },
    {
     "name": "stderr",
     "output_type": "stream",
     "text": [
      "[I 2023-12-10 14:08:41,444] Trial 181 finished with value: 0.8601159271256116 and parameters: {'learning_rate': 0.16000000000000003, 'num_leaves': 150, 'max_depth': 17, 'min_data_in_leaf': 300, 'lambda_l1': 8.76623482720199e-07, 'lambda_l2': 2.6099376553751507e-05, 'bagging_fraction': 1.0, 'bagging_freq': 5, 'feature_fraction': 1.0, 'is_unbalance': True}. Best is trial 1 with value: 0.8606008091228651.\n"
     ]
    },
    {
     "name": "stdout",
     "output_type": "stream",
     "text": [
      "Training until validation scores don't improve for 5 rounds\n",
      "Early stopping, best iteration is:\n",
      "[113]\tvalid_0's auc: 0.859384\n",
      "Training until validation scores don't improve for 5 rounds\n",
      "Early stopping, best iteration is:\n",
      "[137]\tvalid_0's auc: 0.861305\n",
      "Training until validation scores don't improve for 5 rounds\n",
      "Early stopping, best iteration is:\n",
      "[133]\tvalid_0's auc: 0.861926\n",
      "Training until validation scores don't improve for 5 rounds\n",
      "Early stopping, best iteration is:\n",
      "[148]\tvalid_0's auc: 0.858846\n",
      "Training until validation scores don't improve for 5 rounds\n",
      "Early stopping, best iteration is:\n",
      "[111]\tvalid_0's auc: 0.859119\n"
     ]
    },
    {
     "name": "stderr",
     "output_type": "stream",
     "text": [
      "[I 2023-12-10 14:09:16,096] Trial 182 finished with value: 0.8601159272942986 and parameters: {'learning_rate': 0.16000000000000003, 'num_leaves': 150, 'max_depth': 17, 'min_data_in_leaf': 300, 'lambda_l1': 2.5931503631464055e-06, 'lambda_l2': 2.3769915974969365e-05, 'bagging_fraction': 1.0, 'bagging_freq': 5, 'feature_fraction': 1.0, 'is_unbalance': True}. Best is trial 1 with value: 0.8606008091228651.\n"
     ]
    },
    {
     "name": "stdout",
     "output_type": "stream",
     "text": [
      "Training until validation scores don't improve for 5 rounds\n",
      "Early stopping, best iteration is:\n",
      "[113]\tvalid_0's auc: 0.859384\n",
      "Training until validation scores don't improve for 5 rounds\n",
      "Early stopping, best iteration is:\n",
      "[137]\tvalid_0's auc: 0.861305\n",
      "Training until validation scores don't improve for 5 rounds\n",
      "Early stopping, best iteration is:\n",
      "[133]\tvalid_0's auc: 0.861926\n",
      "Training until validation scores don't improve for 5 rounds\n",
      "Early stopping, best iteration is:\n",
      "[148]\tvalid_0's auc: 0.858846\n",
      "Training until validation scores don't improve for 5 rounds\n",
      "Early stopping, best iteration is:\n",
      "[111]\tvalid_0's auc: 0.859119\n"
     ]
    },
    {
     "name": "stderr",
     "output_type": "stream",
     "text": [
      "[I 2023-12-10 14:09:44,841] Trial 183 finished with value: 0.8601159297401862 and parameters: {'learning_rate': 0.16000000000000003, 'num_leaves': 150, 'max_depth': 17, 'min_data_in_leaf': 300, 'lambda_l1': 5.370257826873031e-07, 'lambda_l2': 4.745740768966738e-05, 'bagging_fraction': 1.0, 'bagging_freq': 5, 'feature_fraction': 1.0, 'is_unbalance': True}. Best is trial 1 with value: 0.8606008091228651.\n",
      "[I 2023-12-10 14:09:45,609] Trial 184 pruned. Trial was pruned at iteration 0.\n"
     ]
    },
    {
     "name": "stdout",
     "output_type": "stream",
     "text": [
      "Training until validation scores don't improve for 5 rounds\n"
     ]
    },
    {
     "name": "stderr",
     "output_type": "stream",
     "text": [
      "[I 2023-12-10 14:09:47,206] Trial 185 pruned. Trial was pruned at iteration 14.\n",
      "[I 2023-12-10 14:09:47,975] Trial 186 pruned. Trial was pruned at iteration 0.\n",
      "[I 2023-12-10 14:09:48,790] Trial 187 pruned. Trial was pruned at iteration 0.\n",
      "[I 2023-12-10 14:09:49,595] Trial 188 pruned. Trial was pruned at iteration 0.\n",
      "[I 2023-12-10 14:09:50,417] Trial 189 pruned. Trial was pruned at iteration 0.\n",
      "[I 2023-12-10 14:09:51,213] Trial 190 pruned. Trial was pruned at iteration 0.\n"
     ]
    },
    {
     "name": "stdout",
     "output_type": "stream",
     "text": [
      "Training until validation scores don't improve for 5 rounds\n",
      "Early stopping, best iteration is:\n",
      "[113]\tvalid_0's auc: 0.859384\n",
      "Training until validation scores don't improve for 5 rounds\n",
      "Early stopping, best iteration is:\n",
      "[137]\tvalid_0's auc: 0.861305\n",
      "Training until validation scores don't improve for 5 rounds\n",
      "Early stopping, best iteration is:\n",
      "[133]\tvalid_0's auc: 0.861926\n",
      "Training until validation scores don't improve for 5 rounds\n",
      "Early stopping, best iteration is:\n",
      "[148]\tvalid_0's auc: 0.858846\n",
      "Training until validation scores don't improve for 5 rounds\n",
      "Early stopping, best iteration is:\n",
      "[111]\tvalid_0's auc: 0.859119\n"
     ]
    },
    {
     "name": "stderr",
     "output_type": "stream",
     "text": [
      "[I 2023-12-10 14:10:20,995] Trial 191 finished with value: 0.860115961454774 and parameters: {'learning_rate': 0.16000000000000003, 'num_leaves': 150, 'max_depth': 17, 'min_data_in_leaf': 300, 'lambda_l1': 7.367876492660317e-07, 'lambda_l2': 4.4732906564898385e-05, 'bagging_fraction': 1.0, 'bagging_freq': 5, 'feature_fraction': 1.0, 'is_unbalance': True}. Best is trial 1 with value: 0.8606008091228651.\n",
      "[I 2023-12-10 14:10:21,729] Trial 192 pruned. Trial was pruned at iteration 0.\n",
      "[I 2023-12-10 14:10:22,654] Trial 193 pruned. Trial was pruned at iteration 2.\n"
     ]
    },
    {
     "name": "stdout",
     "output_type": "stream",
     "text": [
      "Training until validation scores don't improve for 5 rounds\n"
     ]
    },
    {
     "name": "stderr",
     "output_type": "stream",
     "text": [
      "[I 2023-12-10 14:10:23,586] Trial 194 pruned. Trial was pruned at iteration 1.\n"
     ]
    },
    {
     "name": "stdout",
     "output_type": "stream",
     "text": [
      "Training until validation scores don't improve for 5 rounds\n",
      "Training until validation scores don't improve for 5 rounds\n"
     ]
    },
    {
     "name": "stderr",
     "output_type": "stream",
     "text": [
      "[I 2023-12-10 14:10:29,449] Trial 195 pruned. Trial was pruned at iteration 120.\n",
      "[I 2023-12-10 14:10:30,305] Trial 196 pruned. Trial was pruned at iteration 0.\n",
      "[I 2023-12-10 14:10:31,216] Trial 197 pruned. Trial was pruned at iteration 0.\n",
      "[I 2023-12-10 14:10:32,186] Trial 198 pruned. Trial was pruned at iteration 0.\n",
      "[I 2023-12-10 14:10:32,999] Trial 199 pruned. Trial was pruned at iteration 0.\n"
     ]
    },
    {
     "name": "stdout",
     "output_type": "stream",
     "text": [
      "Best Parameters: {'learning_rate': 0.11, 'num_leaves': 90, 'max_depth': 9, 'min_data_in_leaf': 900, 'lambda_l1': 1.3554117594026355e-05, 'lambda_l2': 0.11859365323427153, 'bagging_fraction': 1.0, 'bagging_freq': 5, 'feature_fraction': 0.8, 'is_unbalance': False}\n",
      "Best Parameters: {'learning_rate': 0.11, 'num_leaves': 90, 'max_depth': 9, 'min_data_in_leaf': 900, 'lambda_l1': 1.3554117594026355e-05, 'lambda_l2': 0.11859365323427153, 'bagging_fraction': 1.0, 'bagging_freq': 5, 'feature_fraction': 0.8, 'is_unbalance': False}\n",
      "[LightGBM] [Warning] min_data_in_leaf is set=900, min_child_samples=20 will be ignored. Current value: min_data_in_leaf=900\n",
      "[LightGBM] [Warning] feature_fraction is set=0.8, colsample_bytree=1.0 will be ignored. Current value: feature_fraction=0.8\n",
      "[LightGBM] [Warning] lambda_l1 is set=1.3554117594026355e-05, reg_alpha=0.0 will be ignored. Current value: lambda_l1=1.3554117594026355e-05\n",
      "[LightGBM] [Warning] lambda_l2 is set=0.11859365323427153, reg_lambda=0.0 will be ignored. Current value: lambda_l2=0.11859365323427153\n",
      "[LightGBM] [Warning] bagging_fraction is set=1.0, subsample=1.0 will be ignored. Current value: bagging_fraction=1.0\n",
      "[LightGBM] [Warning] bagging_freq is set=5, subsample_freq=0 will be ignored. Current value: bagging_freq=5\n",
      "[LightGBM] [Warning] min_data_in_leaf is set=900, min_child_samples=20 will be ignored. Current value: min_data_in_leaf=900\n",
      "[LightGBM] [Warning] feature_fraction is set=0.8, colsample_bytree=1.0 will be ignored. Current value: feature_fraction=0.8\n",
      "[LightGBM] [Warning] lambda_l1 is set=1.3554117594026355e-05, reg_alpha=0.0 will be ignored. Current value: lambda_l1=1.3554117594026355e-05\n",
      "[LightGBM] [Warning] lambda_l2 is set=0.11859365323427153, reg_lambda=0.0 will be ignored. Current value: lambda_l2=0.11859365323427153\n",
      "[LightGBM] [Warning] bagging_fraction is set=1.0, subsample=1.0 will be ignored. Current value: bagging_fraction=1.0\n",
      "[LightGBM] [Warning] bagging_freq is set=5, subsample_freq=0 will be ignored. Current value: bagging_freq=5\n",
      "[LightGBM] [Info] Number of positive: 112291, number of negative: 527913\n",
      "[LightGBM] [Warning] Auto-choosing col-wise multi-threading, the overhead of testing was 0.036982 seconds.\n",
      "You can set `force_col_wise=true` to remove the overhead.\n",
      "[LightGBM] [Info] Total Bins 6795\n",
      "[LightGBM] [Info] Number of data points in the train set: 640204, number of used features: 36\n",
      "[LightGBM] [Info] [binary:BoostFromScore]: pavg=0.175399 -> initscore=-1.547838\n",
      "[LightGBM] [Info] Start training from score -1.547838\n",
      "[LightGBM] [Warning] No further splits with positive gain, best gain: -inf\n",
      "[LightGBM] [Warning] No further splits with positive gain, best gain: -inf\n",
      "[LightGBM] [Warning] No further splits with positive gain, best gain: -inf\n",
      "[LightGBM] [Warning] No further splits with positive gain, best gain: -inf\n",
      "[LightGBM] [Warning] No further splits with positive gain, best gain: -inf\n",
      "[LightGBM] [Warning] No further splits with positive gain, best gain: -inf\n",
      "[LightGBM] [Warning] No further splits with positive gain, best gain: -inf\n",
      "[LightGBM] [Warning] No further splits with positive gain, best gain: -inf\n",
      "[LightGBM] [Warning] No further splits with positive gain, best gain: -inf\n",
      "[LightGBM] [Warning] No further splits with positive gain, best gain: -inf\n",
      "[LightGBM] [Warning] No further splits with positive gain, best gain: -inf\n",
      "[LightGBM] [Warning] No further splits with positive gain, best gain: -inf\n",
      "[LightGBM] [Warning] No further splits with positive gain, best gain: -inf\n",
      "[LightGBM] [Warning] No further splits with positive gain, best gain: -inf\n",
      "[LightGBM] [Warning] No further splits with positive gain, best gain: -inf\n",
      "[LightGBM] [Warning] No further splits with positive gain, best gain: -inf\n",
      "[LightGBM] [Warning] No further splits with positive gain, best gain: -inf\n",
      "[LightGBM] [Warning] No further splits with positive gain, best gain: -inf\n",
      "[LightGBM] [Warning] No further splits with positive gain, best gain: -inf\n",
      "[LightGBM] [Warning] No further splits with positive gain, best gain: -inf\n",
      "[LightGBM] [Warning] No further splits with positive gain, best gain: -inf\n",
      "[LightGBM] [Warning] No further splits with positive gain, best gain: -inf\n",
      "[LightGBM] [Warning] No further splits with positive gain, best gain: -inf\n",
      "[LightGBM] [Warning] No further splits with positive gain, best gain: -inf\n",
      "[LightGBM] [Warning] No further splits with positive gain, best gain: -inf\n",
      "[LightGBM] [Warning] No further splits with positive gain, best gain: -inf\n",
      "[LightGBM] [Warning] No further splits with positive gain, best gain: -inf\n",
      "[LightGBM] [Warning] No further splits with positive gain, best gain: -inf\n",
      "[LightGBM] [Warning] No further splits with positive gain, best gain: -inf\n",
      "[LightGBM] [Warning] No further splits with positive gain, best gain: -inf\n",
      "[LightGBM] [Warning] No further splits with positive gain, best gain: -inf\n",
      "[LightGBM] [Warning] No further splits with positive gain, best gain: -inf\n",
      "[LightGBM] [Warning] No further splits with positive gain, best gain: -inf\n",
      "[LightGBM] [Warning] No further splits with positive gain, best gain: -inf\n",
      "[LightGBM] [Warning] No further splits with positive gain, best gain: -inf\n",
      "[LightGBM] [Warning] No further splits with positive gain, best gain: -inf\n",
      "[LightGBM] [Warning] No further splits with positive gain, best gain: -inf\n",
      "[LightGBM] [Warning] No further splits with positive gain, best gain: -inf\n",
      "[LightGBM] [Warning] No further splits with positive gain, best gain: -inf\n",
      "[LightGBM] [Warning] No further splits with positive gain, best gain: -inf\n",
      "[LightGBM] [Warning] No further splits with positive gain, best gain: -inf\n",
      "[LightGBM] [Warning] No further splits with positive gain, best gain: -inf\n",
      "[LightGBM] [Warning] min_data_in_leaf is set=900, min_child_samples=20 will be ignored. Current value: min_data_in_leaf=900\n",
      "[LightGBM] [Warning] feature_fraction is set=0.8, colsample_bytree=1.0 will be ignored. Current value: feature_fraction=0.8\n",
      "[LightGBM] [Warning] lambda_l1 is set=1.3554117594026355e-05, reg_alpha=0.0 will be ignored. Current value: lambda_l1=1.3554117594026355e-05\n",
      "[LightGBM] [Warning] lambda_l2 is set=0.11859365323427153, reg_lambda=0.0 will be ignored. Current value: lambda_l2=0.11859365323427153\n",
      "[LightGBM] [Warning] bagging_fraction is set=1.0, subsample=1.0 will be ignored. Current value: bagging_fraction=1.0\n",
      "[LightGBM] [Warning] bagging_freq is set=5, subsample_freq=0 will be ignored. Current value: bagging_freq=5\n",
      "Optimal Threshold: 0.31313131313131315\n"
     ]
    },
    {
     "data": {
      "text/html": [
       "<style>#sk-container-id-1 {color: black;}#sk-container-id-1 pre{padding: 0;}#sk-container-id-1 div.sk-toggleable {background-color: white;}#sk-container-id-1 label.sk-toggleable__label {cursor: pointer;display: block;width: 100%;margin-bottom: 0;padding: 0.3em;box-sizing: border-box;text-align: center;}#sk-container-id-1 label.sk-toggleable__label-arrow:before {content: \"▸\";float: left;margin-right: 0.25em;color: #696969;}#sk-container-id-1 label.sk-toggleable__label-arrow:hover:before {color: black;}#sk-container-id-1 div.sk-estimator:hover label.sk-toggleable__label-arrow:before {color: black;}#sk-container-id-1 div.sk-toggleable__content {max-height: 0;max-width: 0;overflow: hidden;text-align: left;background-color: #f0f8ff;}#sk-container-id-1 div.sk-toggleable__content pre {margin: 0.2em;color: black;border-radius: 0.25em;background-color: #f0f8ff;}#sk-container-id-1 input.sk-toggleable__control:checked~div.sk-toggleable__content {max-height: 200px;max-width: 100%;overflow: auto;}#sk-container-id-1 input.sk-toggleable__control:checked~label.sk-toggleable__label-arrow:before {content: \"▾\";}#sk-container-id-1 div.sk-estimator input.sk-toggleable__control:checked~label.sk-toggleable__label {background-color: #d4ebff;}#sk-container-id-1 div.sk-label input.sk-toggleable__control:checked~label.sk-toggleable__label {background-color: #d4ebff;}#sk-container-id-1 input.sk-hidden--visually {border: 0;clip: rect(1px 1px 1px 1px);clip: rect(1px, 1px, 1px, 1px);height: 1px;margin: -1px;overflow: hidden;padding: 0;position: absolute;width: 1px;}#sk-container-id-1 div.sk-estimator {font-family: monospace;background-color: #f0f8ff;border: 1px dotted black;border-radius: 0.25em;box-sizing: border-box;margin-bottom: 0.5em;}#sk-container-id-1 div.sk-estimator:hover {background-color: #d4ebff;}#sk-container-id-1 div.sk-parallel-item::after {content: \"\";width: 100%;border-bottom: 1px solid gray;flex-grow: 1;}#sk-container-id-1 div.sk-label:hover label.sk-toggleable__label {background-color: #d4ebff;}#sk-container-id-1 div.sk-serial::before {content: \"\";position: absolute;border-left: 1px solid gray;box-sizing: border-box;top: 0;bottom: 0;left: 50%;z-index: 0;}#sk-container-id-1 div.sk-serial {display: flex;flex-direction: column;align-items: center;background-color: white;padding-right: 0.2em;padding-left: 0.2em;position: relative;}#sk-container-id-1 div.sk-item {position: relative;z-index: 1;}#sk-container-id-1 div.sk-parallel {display: flex;align-items: stretch;justify-content: center;background-color: white;position: relative;}#sk-container-id-1 div.sk-item::before, #sk-container-id-1 div.sk-parallel-item::before {content: \"\";position: absolute;border-left: 1px solid gray;box-sizing: border-box;top: 0;bottom: 0;left: 50%;z-index: -1;}#sk-container-id-1 div.sk-parallel-item {display: flex;flex-direction: column;z-index: 1;position: relative;background-color: white;}#sk-container-id-1 div.sk-parallel-item:first-child::after {align-self: flex-end;width: 50%;}#sk-container-id-1 div.sk-parallel-item:last-child::after {align-self: flex-start;width: 50%;}#sk-container-id-1 div.sk-parallel-item:only-child::after {width: 0;}#sk-container-id-1 div.sk-dashed-wrapped {border: 1px dashed gray;margin: 0 0.4em 0.5em 0.4em;box-sizing: border-box;padding-bottom: 0.4em;background-color: white;}#sk-container-id-1 div.sk-label label {font-family: monospace;font-weight: bold;display: inline-block;line-height: 1.2em;}#sk-container-id-1 div.sk-label-container {text-align: center;}#sk-container-id-1 div.sk-container {/* jupyter's `normalize.less` sets `[hidden] { display: none; }` but bootstrap.min.css set `[hidden] { display: none !important; }` so we also need the `!important` here to be able to override the default hidden behavior on the sphinx rendered scikit-learn.org. See: https://github.com/scikit-learn/scikit-learn/issues/21755 */display: inline-block !important;position: relative;}#sk-container-id-1 div.sk-text-repr-fallback {display: none;}</style><div id=\"sk-container-id-1\" class=\"sk-top-container\"><div class=\"sk-text-repr-fallback\"><pre>LGBMClassifier(bagging_fraction=1.0, bagging_freq=5, feature_fraction=0.8,\n",
       "               is_unbalance=False, lambda_l1=1.3554117594026355e-05,\n",
       "               lambda_l2=0.11859365323427153, learning_rate=0.11, max_depth=9,\n",
       "               min_data_in_leaf=900, num_leaves=90)</pre><b>In a Jupyter environment, please rerun this cell to show the HTML representation or trust the notebook. <br />On GitHub, the HTML representation is unable to render, please try loading this page with nbviewer.org.</b></div><div class=\"sk-container\" hidden><div class=\"sk-item\"><div class=\"sk-estimator sk-toggleable\"><input class=\"sk-toggleable__control sk-hidden--visually\" id=\"sk-estimator-id-1\" type=\"checkbox\" checked><label for=\"sk-estimator-id-1\" class=\"sk-toggleable__label sk-toggleable__label-arrow\">LGBMClassifier</label><div class=\"sk-toggleable__content\"><pre>LGBMClassifier(bagging_fraction=1.0, bagging_freq=5, feature_fraction=0.8,\n",
       "               is_unbalance=False, lambda_l1=1.3554117594026355e-05,\n",
       "               lambda_l2=0.11859365323427153, learning_rate=0.11, max_depth=9,\n",
       "               min_data_in_leaf=900, num_leaves=90)</pre></div></div></div></div></div>"
      ],
      "text/plain": [
       "LGBMClassifier(bagging_fraction=1.0, bagging_freq=5, feature_fraction=0.8,\n",
       "               is_unbalance=False, lambda_l1=1.3554117594026355e-05,\n",
       "               lambda_l2=0.11859365323427153, learning_rate=0.11, max_depth=9,\n",
       "               min_data_in_leaf=900, num_leaves=90)"
      ]
     },
     "execution_count": 21,
     "metadata": {},
     "output_type": "execute_result"
    }
   ],
   "source": [
    "from sklearn.model_selection import train_test_split\n",
    "\n",
    "df = pd.read_csv('D:/Work/Gre/UTD/Courses/Fall/MIS6341/Softwares/Python/ml-fall-2023/Project2/N/SBA_loans_project_2.csv')\n",
    "\n",
    "X_train, X_test = train_test_split(df, test_size=0.2, random_state=42)\n",
    "train_model(X_train)"
   ]
  },
  {
   "cell_type": "code",
   "execution_count": null,
   "metadata": {},
   "outputs": [],
   "source": []
  },
  {
   "cell_type": "code",
   "execution_count": 22,
   "metadata": {},
   "outputs": [],
   "source": [
    "import shap\n",
    "import matplotlib\n",
    "matplotlib.use('TkAgg')\n",
    "import matplotlib.pyplot as plt\n",
    "%matplotlib inline\n",
    "def examine_indiv_reason_codes(df_vals_and_cotribs,\n",
    "                               rec_num, \n",
    "                               include_columns, \n",
    "                               contrib_columns,\n",
    "                               use_matplotlib=False):\n",
    "    \n",
    "    shap_columns = contrib_columns.copy()\n",
    "    shap_columns.remove(\"BiasTerm\")\n",
    "    ftr_columns = include_columns.copy()\n",
    "    bias = df_vals_and_cotribs['BiasTerm'].iloc[rec_num]\n",
    "    shap_contribs = df_vals_and_cotribs[shap_columns].iloc[rec_num,:].values\n",
    "    ftr_values =    df_vals_and_cotribs[ftr_columns].iloc[rec_num,:].values\n",
    "    \n",
    "    shap_plot= shap.force_plot(bias, \n",
    "                           shap_contribs, \n",
    "                           ftr_values, \n",
    "                           shap_columns,\n",
    "                           link=\"identity\",\n",
    "                           matplotlib=use_matplotlib)\n",
    "    plt.show()\n",
    "\n",
    "    # return shap.force_plot(bias, \n",
    "    #                     shap_contribs, \n",
    "    #                     ftr_values, \n",
    "    #                     shap_columns,\n",
    "    #                     link=\"logit\",\n",
    "    #                     matplotlib=use_matplotlib)"
   ]
  },
  {
   "cell_type": "code",
   "execution_count": 23,
   "metadata": {},
   "outputs": [],
   "source": [
    "from matplotlib import pyplot as plt\n",
    "import shap\n",
    "from sklearn.inspection import permutation_importance\n",
    "from sklearn.metrics import confusion_matrix\n",
    "from sklearn.metrics import roc_auc_score\n",
    "import lightgbm as lgb\n",
    "import warnings\n",
    "warnings.filterwarnings(\"ignore\", category=Warning)\n",
    "\n",
    "def scoring(data):\n",
    "    \"\"\"\n",
    "    Function to score input dataset.\n",
    "    \n",
    "    Input: dataset in Pandas DataFrame format\n",
    "    Output: Python list of labels in the same order as input records\n",
    "    \n",
    "    Flow:\n",
    "        - Load artifacts\n",
    "        - Transform dataset\n",
    "        - Score dataset\n",
    "        - Return labels\n",
    "    \n",
    "    \"\"\"\n",
    "    artifacts_dict_file = open(\"D:/Work/Gre/UTD/Courses/Fall/MIS6341/Softwares/Python/ml-fall-2023/Project2/N/Artifacts/artifacts_dict_file.pkl\", \"rb\")\n",
    "    artifacts_dict = pickle.load(file=artifacts_dict_file)\n",
    "    artifacts_dict_file.close()\n",
    "    best_classifier = artifacts_dict[\"best_classifier\"]\n",
    "    encoder = artifacts_dict[\"encoder\"]\n",
    "    scaler = artifacts_dict[\"scaler\"]\n",
    "    threshold = artifacts_dict[\"optimal_threshold\"]\n",
    "    numerical_columns = artifacts_dict[\"numerical_columns\"]\n",
    "    cat_cols = artifacts_dict[\"cat_cols\"]\n",
    "    columns_to_score = artifacts_dict[\"columns_to_score\"]\n",
    "\n",
    "    for i in data['RevLineCr']:\n",
    "        if i not in ['Y','N']:\n",
    "            data['RevLineCr'].replace(i,'N',inplace=True)\n",
    "    for i in data['LowDoc']:\n",
    "        if i not in ['Y','N']:\n",
    "            data['LowDoc'].replace(i,'N',inplace=True)\n",
    "    for i in data['NewExist']:\n",
    "        if i not in [1,2]:\n",
    "            data['NewExist'].replace(i,None,inplace=True)\n",
    "    \n",
    "    for column in cat_cols:\n",
    "        data[column]=data[column].fillna(data[column].mode()[0])\n",
    "    \n",
    "    data_encoded = encoder.transform(data.drop(columns=['MIS_Status']))\n",
    "    data_encoded = data_encoded.add_suffix('_trg')\n",
    "    data_encoded = pd.concat([data_encoded, data], axis=1)\n",
    "    for column in cat_cols:\n",
    "        data_encoded[column + \"_trg\"].fillna(data_encoded[column + \"_trg\"].mean(), inplace=True)\n",
    "    data_encoded.drop(columns=cat_cols, inplace=True)\n",
    "\n",
    "    data_encoded['Log_DisbursementGross'] = np.log1p(data_encoded['DisbursementGross'])\n",
    "    data_encoded['Log_NoEmp'] = np.log1p(data_encoded['NoEmp'])\n",
    "    data_encoded['Log_GrAppv'] = np.log1p(data_encoded['GrAppv'])\n",
    "    data_encoded['Log_SBA_Appv'] = np.log1p(data_encoded['SBA_Appv'])\n",
    "    data_encoded['Log_BalanceGross'] = np.log1p(data_encoded['BalanceGross'])\n",
    "\n",
    "    data_encoded['Disbursement_Bins'] = pd.cut(data_encoded['DisbursementGross'],\n",
    "                                                bins=[-np.inf, 50000, 150000, np.inf],\n",
    "                                                labels=['Low', 'Medium', 'High'])\n",
    "    \n",
    "    data_encoded['Loan_Efficiency'] = data_encoded['DisbursementGross'] / (data_encoded['CreateJob'] + data_encoded['RetainedJob'] + 1)  # Adding 1 to avoid division by zero\n",
    "\n",
    "    data_encoded['Guarantee_Ratio'] = data_encoded['SBA_Appv'] / data_encoded['GrAppv']\n",
    "\n",
    "    data_encoded['Loan_Guarantee_Interaction'] = data_encoded['SBA_Appv'] * data_encoded['GrAppv']\n",
    "\n",
    "    data_encoded['Disbursement_Squared'] = data_encoded['DisbursementGross'] ** 2\n",
    "\n",
    "    data_encoded[numerical_columns] = scaler.transform(data_encoded[numerical_columns])\n",
    "\n",
    "    y_prob = best_classifier.predict_proba(data_encoded[columns_to_score])\n",
    "    y_pred = (y_prob[:,0] < threshold).astype(int)\n",
    "    d = {\n",
    "        \"index\" : data_encoded.index,\n",
    "        \"label\" : y_pred,\n",
    "        \"probability_0\": y_prob[:,0],\n",
    "        \"probability_1\": y_prob[:,1]\n",
    "    }\n",
    "    #metric to report and optimize for AUC\n",
    "    print(\"\\n\\nAUC score on Test dataset:\", roc_auc_score(data['MIS_Status'], y_prob[:,1]))\n",
    "    print(\"\\nConfusion Matrix:\\n\", confusion_matrix(data['MIS_Status'], y_pred))\n",
    "\n",
    "    # #plotting global feature importance\n",
    "    # fig, ax = plt.subplots(figsize=(10, 10))\n",
    "    # lgb.plot_importance(best_classifier, ax=ax, max_num_features=30)\n",
    "    # plt.show()\n",
    "    \n",
    "\n",
    "    # #shap plots\n",
    "    # explainer = shap.TreeExplainer(best_classifier)\n",
    "    # shap_values = explainer.shap_values(data_encoded[columns_to_score])\n",
    "    # shap.summary_plot(shap_values, data_encoded[columns_to_score])\n",
    "    # plt.show()\n",
    "\n",
    "    # #plotting permutation feature importance\n",
    "    # result = permutation_importance(best_classifier, data_encoded[columns_to_score], data['MIS_Status'], n_repeats=10, random_state=42, n_jobs=2)\n",
    "    # sorted_idx = result.importances_mean.argsort()\n",
    "    # fig, ax = plt.subplots()\n",
    "    # ax.boxplot(result.importances[sorted_idx].T, vert=False, labels=data_encoded[columns_to_score].columns[sorted_idx])\n",
    "    # ax.set_title(\"Permutation Importances (test set)\")\n",
    "    # fig.tight_layout()\n",
    "    # plt.show()\n",
    "    \n",
    "\n",
    "    #add columns to data_encoded\n",
    "    data_encoded['label'] = y_pred\n",
    "    data_encoded['probability_0'] = y_prob[:,0]\n",
    "    data_encoded['probability_1'] = y_prob[:,1]\n",
    "    \n",
    "    #residual analysis\n",
    "    data_encoded['residual'] = data_encoded['label'] - data['MIS_Status']\n",
    "    misclassified = data_encoded[data_encoded['residual'] != 0]\n",
    "    \n",
    "\n",
    "    #get 2 records where\n",
    "    #Label `0` is correctly identified significantly high probability\n",
    "    correctly_identified_0 = data_encoded[(data_encoded['residual'] == 0) & (data_encoded['label'] == 0)].sort_values(by='probability_0', ascending=False).head(2)\n",
    "    #Label `1` is correctly identified significantly high probability\n",
    "    correctly_identified_1 = data_encoded[(data_encoded['residual'] == 0) & (data_encoded['label'] == 1)].sort_values(by='probability_1', ascending=False).head(2)\n",
    "    #Label `0` is incorrectly identified significantly high probability\n",
    "    incorrectly_identified_0 = data_encoded[(data_encoded['residual'] != 0) & (data_encoded['label'] == 0)].sort_values(by='probability_0', ascending=False).head(2)\n",
    "    #Label `1` is incorrectly identified significantly high probability\n",
    "    incorrectly_identified_1 = data_encoded[(data_encoded['residual'] != 0) & (data_encoded['label'] == 1)].sort_values(by='probability_1', ascending=False).head(2)\n",
    "\n",
    "    \n",
    "    \n",
    "    pred_contributions_orig_table = best_classifier.predict(data_encoded[columns_to_score], pred_contrib=True)\n",
    "    pred_contributions_orig_table = pd.DataFrame(pred_contributions_orig_table)\n",
    "    \n",
    "    contrib_columns =[]\n",
    "    for col in columns_to_score:\n",
    "        contrib_columns.append(\"contrib_\"+col)\n",
    "    \n",
    "    contrib_columns.append(\"BiasTerm\")\n",
    "    pred_contributions_orig_table.columns = contrib_columns\n",
    "    print(pred_contributions_orig_table.shape)\n",
    "    print(data_encoded.shape)\n",
    "    include_cols = columns_to_score\n",
    "    pred_contributions_orig_table.index = data_encoded.index\n",
    "\n",
    "    #concatenate data_encoded and pred_contributions_orig_table\n",
    "    test_yhat = pd.concat([data_encoded, pred_contributions_orig_table],axis=1)\n",
    "    print(test_yhat)\n",
    "\n",
    "    correctly_identified_0 = test_yhat[(test_yhat['residual'] == 0) & (test_yhat['label'] == 0)].sort_values(by='probability_0', ascending=False).head(2)\n",
    "    correctly_identified_1 = test_yhat[(test_yhat['residual'] == 0) & (test_yhat['label'] == 1)].sort_values(by='probability_1', ascending=False).head(2)\n",
    "    incorrectly_identified_0 = test_yhat[(test_yhat['residual'] != 0) & (test_yhat['label'] == 0)].sort_values(by='probability_0', ascending=False).head(2)\n",
    "    incorrectly_identified_1 = test_yhat[(test_yhat['residual'] != 0) & (test_yhat['label'] == 1)].sort_values(by='probability_1', ascending=False).head(2)\n",
    "    print(correctly_identified_0)\n",
    "    examine_indiv_reason_codes(correctly_identified_0, 0, include_cols, contrib_columns, use_matplotlib=True)\n",
    "    examine_indiv_reason_codes(correctly_identified_0, 1, include_cols, contrib_columns, use_matplotlib=True)\n",
    "    examine_indiv_reason_codes(correctly_identified_1, 0, include_cols, contrib_columns, use_matplotlib=True)\n",
    "    examine_indiv_reason_codes(correctly_identified_1, 1, include_cols, contrib_columns, use_matplotlib=True)\n",
    "    examine_indiv_reason_codes(incorrectly_identified_0, 0, include_cols, contrib_columns, use_matplotlib=True)\n",
    "    examine_indiv_reason_codes(incorrectly_identified_0, 1, include_cols, contrib_columns, use_matplotlib=True)\n",
    "    examine_indiv_reason_codes(incorrectly_identified_1, 0, include_cols, contrib_columns, use_matplotlib=True)\n",
    "    examine_indiv_reason_codes(incorrectly_identified_1, 1, include_cols, contrib_columns, use_matplotlib=True)\n",
    "\n",
    "    \n",
    "    \n",
    "\n",
    "    return pd.DataFrame(d)\n",
    "   \n",
    "\n"
   ]
  },
  {
   "cell_type": "code",
   "execution_count": 24,
   "metadata": {},
   "outputs": [
    {
     "name": "stdout",
     "output_type": "stream",
     "text": [
      "[LightGBM] [Warning] min_data_in_leaf is set=900, min_child_samples=20 will be ignored. Current value: min_data_in_leaf=900\n",
      "[LightGBM] [Warning] feature_fraction is set=0.8, colsample_bytree=1.0 will be ignored. Current value: feature_fraction=0.8\n",
      "[LightGBM] [Warning] lambda_l1 is set=1.3554117594026355e-05, reg_alpha=0.0 will be ignored. Current value: lambda_l1=1.3554117594026355e-05\n",
      "[LightGBM] [Warning] lambda_l2 is set=0.11859365323427153, reg_lambda=0.0 will be ignored. Current value: lambda_l2=0.11859365323427153\n",
      "[LightGBM] [Warning] bagging_fraction is set=1.0, subsample=1.0 will be ignored. Current value: bagging_fraction=1.0\n",
      "[LightGBM] [Warning] bagging_freq is set=5, subsample_freq=0 will be ignored. Current value: bagging_freq=5\n",
      "\n",
      "\n",
      "AUC score on Test dataset: 0.8280113233641049\n",
      "\n",
      "Confusion Matrix:\n",
      " [[131086   1116]\n",
      " [ 23835   4014]]\n",
      "[LightGBM] [Warning] min_data_in_leaf is set=900, min_child_samples=20 will be ignored. Current value: min_data_in_leaf=900\n",
      "[LightGBM] [Warning] feature_fraction is set=0.8, colsample_bytree=1.0 will be ignored. Current value: feature_fraction=0.8\n",
      "[LightGBM] [Warning] lambda_l1 is set=1.3554117594026355e-05, reg_alpha=0.0 will be ignored. Current value: lambda_l1=1.3554117594026355e-05\n",
      "[LightGBM] [Warning] lambda_l2 is set=0.11859365323427153, reg_lambda=0.0 will be ignored. Current value: lambda_l2=0.11859365323427153\n",
      "[LightGBM] [Warning] bagging_fraction is set=1.0, subsample=1.0 will be ignored. Current value: bagging_fraction=1.0\n",
      "[LightGBM] [Warning] bagging_freq is set=5, subsample_freq=0 will be ignored. Current value: bagging_freq=5\n",
      "(160051, 40)\n",
      "(160051, 46)\n",
      "        index_trg  City_trg  State_trg  Zip_trg  Bank_trg  BankState_trg  \\\n",
      "384386     384386  0.140612   0.197919    12953  0.367531       0.168015   \n",
      "662652     662652  0.136187   0.197919    14850  0.094340       0.168015   \n",
      "269020     269020  0.149920   0.138693    98004  0.175041       0.159471   \n",
      "752306     752306  0.224138   0.275144    33905  0.112576       0.293824   \n",
      "675193     675193  0.335998   0.275144    33172  0.000000       0.160260   \n",
      "...           ...       ...        ...      ...       ...            ...   \n",
      "82879       82879  0.103234   0.177082    84741  0.271345       0.219710   \n",
      "649244     649244  0.184514   0.197919    11704  0.271345       0.198438   \n",
      "454383     454383  0.135417   0.138693    98502  0.000000       0.074400   \n",
      "679182     679182  0.195900   0.225274    61920  0.146400       0.223360   \n",
      "355393     355393  0.247039   0.187682    41046  0.175041       0.159471   \n",
      "\n",
      "        NAICS_trg  NoEmp_trg  NewExist_trg  CreateJob_trg  ...  \\\n",
      "384386          0          5      0.170871              0  ...   \n",
      "662652     235920          7      0.170871              0  ...   \n",
      "269020          0         17      0.170871              0  ...   \n",
      "752306     541940         15      0.186933             15  ...   \n",
      "675193     811111          4      0.170871              7  ...   \n",
      "...           ...        ...           ...            ...  ...   \n",
      "82879           0          1      0.186933              0  ...   \n",
      "649244     441110          1      0.170871              0  ...   \n",
      "454383     451110          3      0.170871             16  ...   \n",
      "679182          0          4      0.170871              0  ...   \n",
      "355393     238990          1      0.170871              0  ...   \n",
      "\n",
      "        contrib_Log_NoEmp  contrib_Log_GrAppv  contrib_Log_SBA_Appv  \\\n",
      "384386           0.000511           -0.011015             -0.034094   \n",
      "662652           0.001215           -0.009056             -0.017790   \n",
      "269020           0.001198           -0.008152             -0.009361   \n",
      "752306          -0.000314           -0.010410             -0.027696   \n",
      "675193          -0.003799           -0.009228             -0.021253   \n",
      "...                   ...                 ...                   ...   \n",
      "82879            0.003476           -0.027116             -0.025390   \n",
      "649244           0.001635            0.010418              0.007628   \n",
      "454383          -0.001173           -0.009018             -0.019770   \n",
      "679182           0.001174           -0.023105             -0.000315   \n",
      "355393           0.001955            0.018088             -0.034440   \n",
      "\n",
      "        contrib_Log_BalanceGross  contrib_Disbursement_Bins  \\\n",
      "384386                       0.0                        0.0   \n",
      "662652                       0.0                        0.0   \n",
      "269020                       0.0                        0.0   \n",
      "752306                       0.0                        0.0   \n",
      "675193                       0.0                        0.0   \n",
      "...                          ...                        ...   \n",
      "82879                        0.0                        0.0   \n",
      "649244                       0.0                        0.0   \n",
      "454383                       0.0                        0.0   \n",
      "679182                       0.0                        0.0   \n",
      "355393                       0.0                        0.0   \n",
      "\n",
      "        contrib_Loan_Efficiency  contrib_Guarantee_Ratio  \\\n",
      "384386                 0.005013                 0.215918   \n",
      "662652                 0.022578                 0.041917   \n",
      "269020                 0.006663                 0.217849   \n",
      "752306                -0.017498                 0.261698   \n",
      "675193                -0.028763                -1.743778   \n",
      "...                         ...                      ...   \n",
      "82879                  0.041191                 0.177710   \n",
      "649244                 0.019957                 0.064717   \n",
      "454383                 0.005170                -1.579324   \n",
      "679182                 0.007794                 0.263646   \n",
      "355393                 0.008631                 0.001327   \n",
      "\n",
      "        contrib_Loan_Guarantee_Interaction  contrib_Disbursement_Squared  \\\n",
      "384386                           -0.026896                     -0.000061   \n",
      "662652                           -0.015332                      0.005048   \n",
      "269020                           -0.011791                      0.000827   \n",
      "752306                           -0.040662                     -0.003709   \n",
      "675193                           -0.021699                      0.003077   \n",
      "...                                    ...                           ...   \n",
      "82879                            -0.017314                      0.002727   \n",
      "649244                            0.012927                      0.014037   \n",
      "454383                           -0.027312                     -0.015235   \n",
      "679182                            0.002473                      0.015770   \n",
      "355393                            0.039682                     -0.071236   \n",
      "\n",
      "        BiasTerm  \n",
      "384386 -2.418327  \n",
      "662652 -2.418327  \n",
      "269020 -2.418327  \n",
      "752306 -2.418327  \n",
      "675193 -2.418327  \n",
      "...          ...  \n",
      "82879  -2.418327  \n",
      "649244 -2.418327  \n",
      "454383 -2.418327  \n",
      "679182 -2.418327  \n",
      "355393 -2.418327  \n",
      "\n",
      "[160051 rows x 86 columns]\n",
      "        index_trg  City_trg  State_trg  Zip_trg      Bank_trg  BankState_trg  \\\n",
      "435451     435451  0.152578   0.121603    53149  0.000000e+00       0.116967   \n",
      "221978     221978  0.145935   0.180078    80920  1.209635e-12       0.063634   \n",
      "\n",
      "        NAICS_trg  NoEmp_trg  NewExist_trg  CreateJob_trg  ...  \\\n",
      "435451          0         17      0.170871             14  ...   \n",
      "221978     721110          5      0.186933              4  ...   \n",
      "\n",
      "        contrib_Log_NoEmp  contrib_Log_GrAppv  contrib_Log_SBA_Appv  \\\n",
      "435451          -0.001187           -0.009653             -0.012765   \n",
      "221978          -0.000482           -0.032557             -0.022868   \n",
      "\n",
      "        contrib_Log_BalanceGross  contrib_Disbursement_Bins  \\\n",
      "435451                       0.0                        0.0   \n",
      "221978                       0.0                        0.0   \n",
      "\n",
      "        contrib_Loan_Efficiency  contrib_Guarantee_Ratio  \\\n",
      "435451                -0.035306                -1.816347   \n",
      "221978                -0.039709                -1.712409   \n",
      "\n",
      "        contrib_Loan_Guarantee_Interaction  contrib_Disbursement_Squared  \\\n",
      "435451                           -0.019967                     -0.001267   \n",
      "221978                           -0.022208                     -0.021563   \n",
      "\n",
      "        BiasTerm  \n",
      "435451 -2.418327  \n",
      "221978 -2.418327  \n",
      "\n",
      "[2 rows x 86 columns]\n"
     ]
    },
    {
     "data": {
      "image/png": "[encoded data removed]",
      "text/plain": [
       "<Figure size 2000x300 with 1 Axes>"
      ]
     },
     "metadata": {},
     "output_type": "display_data"
    },
    {
     "data": {
      "image/png": "[encoded data removed]",
      "text/plain": [
       "<Figure size 2000x300 with 1 Axes>"
      ]
     },
     "metadata": {},
     "output_type": "display_data"
    },
    {
     "data": {
      "image/png": "[encoded data removed]",
      "text/plain": [
       "<Figure size 2000x300 with 1 Axes>"
      ]
     },
     "metadata": {},
     "output_type": "display_data"
    },
    {
     "data": {
      "image/png": "[encoded data removed]",
      "text/plain": [
       "<Figure size 2000x300 with 1 Axes>"
      ]
     },
     "metadata": {},
     "output_type": "display_data"
    },
    {
     "data": {
      "image/png": "[encoded data removed]",
      "text/plain": [
       "<Figure size 2000x300 with 1 Axes>"
      ]
     },
     "metadata": {},
     "output_type": "display_data"
    },
    {
     "data": {
      "image/png": "[encoded data removed]",
      "text/plain": [
       "<Figure size 2000x300 with 1 Axes>"
      ]
     },
     "metadata": {},
     "output_type": "display_data"
    },
    {
     "data": {
      "image/png": "[encoded data removed]",
      "text/plain": [
       "<Figure size 2000x300 with 1 Axes>"
      ]
     },
     "metadata": {},
     "output_type": "display_data"
    },
    {
     "data": {
      "image/png": "[encoded data removed]",
      "text/plain": [
       "<Figure size 2000x300 with 1 Axes>"
      ]
     },
     "metadata": {},
     "output_type": "display_data"
    },
    {
     "name": "stdout",
     "output_type": "stream",
     "text": [
      "         index  label  probability_0  probability_1\n",
      "0       384386      0       0.959563       0.040437\n",
      "1       662652      0       0.876863       0.123137\n",
      "2       269020      0       0.969019       0.030981\n",
      "3       752306      0       0.917887       0.082113\n",
      "4       675193      0       0.999764       0.000236\n",
      "...        ...    ...            ...            ...\n",
      "160046   82879      0       0.961051       0.038949\n",
      "160047  649244      0       0.849320       0.150680\n",
      "160048  454383      0       0.999608       0.000392\n",
      "160049  679182      0       0.920222       0.079778\n",
      "160050  355393      0       0.761576       0.238424\n",
      "\n",
      "[160051 rows x 4 columns]\n"
     ]
    }
   ],
   "source": [
    "\n",
    "print(scoring(X_test))\n",
    "\n"
   ]
  },
  {
   "cell_type": "markdown",
   "metadata": {},
   "source": []
  },
  {
   "cell_type": "markdown",
   "metadata": {},
   "source": [
    "- Bank_trg has the highest mean absolute SHAP value, indicating it has the largest impact on model predictions, either towards class 0 or class 1.\n",
    "\n",
    "- Guarantee_Ratio is the next most impactful feature, with significant contributions to both classes.\n",
    "\n",
    "- City_trg, UrbanRural_trg, and FranchiseCode_trg also have considerable influence on the predictions, with City_trg and UrbanRural_trg having a more balanced impact on both classes.\n",
    "\n",
    "- Features like DisbursementGross and CreateJob_trg at the bottom of the plot have the smallest impact on the model's output."
   ]
  }
 ],
 "metadata": {
  "kernelspec": {
   "display_name": "aml",
   "language": "python",
   "name": "python3"
  },
  "language_info": {
   "codemirror_mode": {
    "name": "ipython",
    "version": 3
   },
   "file_extension": ".py",
   "mimetype": "text/x-python",
   "name": "python",
   "nbconvert_exporter": "python",
   "pygments_lexer": "ipython3",
   "version": "3.10.11"
  }
 },
 "nbformat": 4,
 "nbformat_minor": 2
}
