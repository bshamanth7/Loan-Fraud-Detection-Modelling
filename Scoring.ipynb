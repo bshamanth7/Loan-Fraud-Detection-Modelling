{
 "cells": [
  {
   "cell_type": "code",
   "execution_count": 3,
   "metadata": {},
   "outputs": [
    {
     "name": "stdout",
     "output_type": "stream",
     "text": [
      "Target encoder mapping:\n",
      "['City', 'State', 'Bank', 'BankState', 'RevLineCr', 'LowDoc', 'NewExist']\n",
      "Columns to train:\n",
      "['City_trg', 'State_trg', 'Zip_trg', 'Bank_trg', 'BankState_trg', 'NAICS_trg', 'NoEmp_trg', 'NewExist_trg', 'CreateJob_trg', 'RetainedJob_trg', 'FranchiseCode_trg', 'UrbanRural_trg', 'RevLineCr_trg', 'LowDoc_trg', 'DisbursementGross_trg', 'BalanceGross_trg', 'GrAppv_trg', 'SBA_Appv_trg', 'Zip', 'NAICS', 'NoEmp', 'CreateJob', 'RetainedJob', 'FranchiseCode', 'UrbanRural', 'DisbursementGross', 'BalanceGross', 'GrAppv', 'SBA_Appv', 'Log_DisbursementGross', 'Log_NoEmp', 'Log_GrAppv', 'Log_SBA_Appv', 'Log_BalanceGross', 'Disbursement_Bins', 'Loan_Efficiency', 'Guarantee_Ratio', 'Loan_Guarantee_Interaction', 'Disbursement_Squared']\n"
     ]
    }
   ],
   "source": [
    "import pickle\n",
    "\n",
    "def load_and_print_artifacts_dict(path):\n",
    "    artifacts_dict = pickle.load(open(path, \"rb\"))\n",
    "\n",
    "    print(\"Target encoder mapping:\")\n",
    "    print([ac for ac in artifacts_dict[\"encoder\"].mapping])\n",
    "\n",
    "    print(\"Columns to train:\")\n",
    "    print([ac for ac in artifacts_dict[\"columns_to_score\"]])\n",
    "\n",
    "if __name__ == \"__main__\":\n",
    "    load_and_print_artifacts_dict(\"./Artifacts/artifacts_dict_file.pkl\")"
   ]
  },
  {
   "cell_type": "code",
   "execution_count": 11,
   "metadata": {},
   "outputs": [],
   "source": [
    "from matplotlib import pyplot as plt\n",
    "import shap\n",
    "from sklearn.inspection import permutation_importance\n",
    "from sklearn.metrics import confusion_matrix\n",
    "from sklearn.metrics import roc_auc_score\n",
    "import lightgbm as lgb\n",
    "import warnings\n",
    "import numpy as np\n",
    "import pandas as pd\n",
    "warnings.filterwarnings(\"ignore\", category=Warning)\n",
    "\n",
    "def scoring_hold(data):\n",
    "    \"\"\"\n",
    "    Function to score input dataset.\n",
    "    \n",
    "    Input: dataset in Pandas DataFrame format\n",
    "    Output: Python list of labels in the same order as input records\n",
    "    \n",
    "    Flow:\n",
    "        - Load artifacts\n",
    "        - Transform dataset\n",
    "        - Score dataset\n",
    "        - Return labels\n",
    "    \n",
    "    \"\"\"\n",
    "    artifacts_dict_file =  open(\"D:/Work/Gre/UTD/Courses/Fall/MIS6341/Softwares/Python/ml-fall-2023/Project2/artifacts/artifacts_dict_file.pkl\", \"rb\")\n",
    "    artifacts_dict = pickle.load(file=artifacts_dict_file)\n",
    "    artifacts_dict_file.close()\n",
    "    best_classifier = artifacts_dict[\"best_classifier\"]\n",
    "    encoder = artifacts_dict[\"encoder\"]\n",
    "    scaler = artifacts_dict[\"scaler\"]\n",
    "    threshold = artifacts_dict[\"optimal_threshold\"]\n",
    "    numerical_columns = artifacts_dict[\"numerical_columns\"]\n",
    "    cat_cols = artifacts_dict[\"cat_cols\"]\n",
    "    columns_to_score = artifacts_dict[\"columns_to_score\"]\n",
    "\n",
    "    for i in data['RevLineCr']:\n",
    "        if i not in ['Y','N']:\n",
    "            data['RevLineCr'].replace(i,'N',inplace=True)\n",
    "    for i in data['LowDoc']:\n",
    "        if i not in ['Y','N']:\n",
    "            data['LowDoc'].replace(i,'N',inplace=True)\n",
    "    for i in data['NewExist']:\n",
    "        if i not in [1,2]:\n",
    "            data['NewExist'].replace(i,None,inplace=True)\n",
    "    \n",
    "    for column in cat_cols:\n",
    "        data[column]=data[column].fillna(data[column].mode()[0])\n",
    "    \n",
    "    data_encoded = encoder.transform(data)\n",
    "    data_encoded = data_encoded.add_suffix('_trg')\n",
    "    data_encoded = pd.concat([data_encoded, data], axis=1)\n",
    "    for column in cat_cols:\n",
    "        data_encoded[column + \"_trg\"].fillna(data_encoded[column + \"_trg\"].mean(), inplace=True)\n",
    "    data_encoded.drop(columns=cat_cols, inplace=True)\n",
    "\n",
    "    data_encoded['Log_DisbursementGross'] = np.log1p(data_encoded['DisbursementGross'])\n",
    "    data_encoded['Log_NoEmp'] = np.log1p(data_encoded['NoEmp'])\n",
    "    data_encoded['Log_GrAppv'] = np.log1p(data_encoded['GrAppv'])\n",
    "    data_encoded['Log_SBA_Appv'] = np.log1p(data_encoded['SBA_Appv'])\n",
    "    data_encoded['Log_BalanceGross'] = np.log1p(data_encoded['BalanceGross'])\n",
    "\n",
    "    data_encoded['Disbursement_Bins'] = pd.cut(data_encoded['DisbursementGross'],\n",
    "                                                bins=[-np.inf, 50000, 150000, np.inf],\n",
    "                                                labels=['Low', 'Medium', 'High'])\n",
    "    \n",
    "    data_encoded['Loan_Efficiency'] = data_encoded['DisbursementGross'] / (data_encoded['CreateJob'] + data_encoded['RetainedJob'] + 1)  # Adding 1 to avoid division by zero\n",
    "\n",
    "    data_encoded['Guarantee_Ratio'] = data_encoded['SBA_Appv'] / data_encoded['GrAppv']\n",
    "\n",
    "    data_encoded['Loan_Guarantee_Interaction'] = data_encoded['SBA_Appv'] * data_encoded['GrAppv']\n",
    "\n",
    "    data_encoded['Disbursement_Squared'] = data_encoded['DisbursementGross'] ** 2\n",
    "\n",
    "    data_encoded[numerical_columns] = scaler.transform(data_encoded[numerical_columns])\n",
    "\n",
    "    y_prob = best_classifier.predict_proba(data_encoded[columns_to_score])\n",
    "    y_pred = (y_prob[:,0] < threshold).astype(int)\n",
    "    d = {\n",
    "        \"index\" : data_encoded.index,\n",
    "        \"label\" : y_pred,\n",
    "        \"probability_0\": y_prob[:,0],\n",
    "        \"probability_1\": y_prob[:,1]\n",
    "    } \n",
    "    \n",
    "    \n",
    "\n",
    "    return pd.DataFrame(d)"
   ]
  },
  {
   "cell_type": "code",
   "execution_count": 12,
   "metadata": {},
   "outputs": [],
   "source": [
    "import pandas as pd\n",
    "df2 = pd.read_csv(\"D:/Work/Gre/UTD/Courses/Fall/MIS6341/Softwares/Python/ml-fall-2023/Project2/SBA_loans_project_2_holdout_students_valid.csv\")"
   ]
  },
  {
   "cell_type": "code",
   "execution_count": 13,
   "metadata": {},
   "outputs": [
    {
     "name": "stdout",
     "output_type": "stream",
     "text": [
      "[LightGBM] [Warning] min_data_in_leaf is set=300, min_child_samples=20 will be ignored. Current value: min_data_in_leaf=300\n",
      "[LightGBM] [Warning] feature_fraction is set=0.9, colsample_bytree=1.0 will be ignored. Current value: feature_fraction=0.9\n",
      "[LightGBM] [Warning] lambda_l1 is set=9.408025110972025, reg_alpha=0.0 will be ignored. Current value: lambda_l1=9.408025110972025\n",
      "[LightGBM] [Warning] lambda_l2 is set=3.9690665922792114e-08, reg_lambda=0.0 will be ignored. Current value: lambda_l2=3.9690665922792114e-08\n",
      "[LightGBM] [Warning] bagging_fraction is set=1.0, subsample=1.0 will be ignored. Current value: bagging_fraction=1.0\n",
      "[LightGBM] [Warning] bagging_freq is set=5, subsample_freq=0 will be ignored. Current value: bagging_freq=5\n",
      "       index  label  probability_0  probability_1\n",
      "0          0      0       0.849864       0.150136\n",
      "1          1      1       0.410310       0.589690\n",
      "2          2      0       0.999752       0.000248\n",
      "3          3      0       0.694401       0.305599\n",
      "4          4      0       0.689322       0.310678\n",
      "...      ...    ...            ...            ...\n",
      "98904  98904      0       0.697117       0.302883\n",
      "98905  98905      1       0.178386       0.821614\n",
      "98906  98906      0       0.868871       0.131129\n",
      "98907  98907      0       0.751461       0.248539\n",
      "98908  98908      1       0.597262       0.402738\n",
      "\n",
      "[98909 rows x 4 columns]\n"
     ]
    }
   ],
   "source": [
    "print(scoring_hold(df2))"
   ]
  }
 ],
 "metadata": {
  "kernelspec": {
   "display_name": "ml-fall-2023",
   "language": "python",
   "name": "python3"
  },
  "language_info": {
   "codemirror_mode": {
    "name": "ipython",
    "version": 3
   },
   "file_extension": ".py",
   "mimetype": "text/x-python",
   "name": "python",
   "nbconvert_exporter": "python",
   "pygments_lexer": "ipython3",
   "version": "3.10.11"
  }
 },
 "nbformat": 4,
 "nbformat_minor": 2
}
