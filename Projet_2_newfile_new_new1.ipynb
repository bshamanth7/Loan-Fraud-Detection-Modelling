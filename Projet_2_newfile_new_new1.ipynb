{
 "cells": [
  {
   "cell_type": "code",
   "execution_count": 92,
   "metadata": {},
   "outputs": [
    {
     "data": {
      "text/html": [
       "<style>.container { width:90% !important; }</style>"
      ],
      "text/plain": [
       "<IPython.core.display.HTML object>"
      ]
     },
     "metadata": {},
     "output_type": "display_data"
    }
   ],
   "source": [
    "import pandas as pd\n",
    "pd.set_option('display.max_columns', 3000)\n",
    "pd.set_option('display.max_rows', 5000)\n",
    "\n",
    "import warnings\n",
    "warnings.filterwarnings('ignore')\n",
    "\n",
    "#Extend cell width\n",
    "from IPython.core.display import display, HTML\n",
    "display(HTML(\"<style>.container { width:90% !important; }</style>\"))"
   ]
  },
  {
   "cell_type": "code",
   "execution_count": 93,
   "metadata": {},
   "outputs": [],
   "source": [
    "df = pd.read_csv(\"D:/Work/Gre/UTD/Courses/Fall/MIS6341/Softwares/Python/ml-fall-2023/Project2/SBA_loans_project_2.csv\")\n",
    "df.drop(columns=\"index\",inplace=True)"
   ]
  },
  {
   "cell_type": "code",
   "execution_count": 94,
   "metadata": {},
   "outputs": [
    {
     "data": {
      "text/html": [
       "<div>\n",
       "<style scoped>\n",
       "    .dataframe tbody tr th:only-of-type {\n",
       "        vertical-align: middle;\n",
       "    }\n",
       "\n",
       "    .dataframe tbody tr th {\n",
       "        vertical-align: top;\n",
       "    }\n",
       "\n",
       "    .dataframe thead th {\n",
       "        text-align: right;\n",
       "    }\n",
       "</style>\n",
       "<table border=\"1\" class=\"dataframe\">\n",
       "  <thead>\n",
       "    <tr style=\"text-align: right;\">\n",
       "      <th></th>\n",
       "      <th>City</th>\n",
       "      <th>State</th>\n",
       "      <th>Zip</th>\n",
       "      <th>Bank</th>\n",
       "      <th>BankState</th>\n",
       "      <th>NAICS</th>\n",
       "      <th>NoEmp</th>\n",
       "      <th>NewExist</th>\n",
       "      <th>CreateJob</th>\n",
       "      <th>RetainedJob</th>\n",
       "      <th>FranchiseCode</th>\n",
       "      <th>UrbanRural</th>\n",
       "      <th>RevLineCr</th>\n",
       "      <th>LowDoc</th>\n",
       "      <th>DisbursementGross</th>\n",
       "      <th>BalanceGross</th>\n",
       "      <th>GrAppv</th>\n",
       "      <th>SBA_Appv</th>\n",
       "      <th>MIS_Status</th>\n",
       "    </tr>\n",
       "  </thead>\n",
       "  <tbody>\n",
       "    <tr>\n",
       "      <th>0</th>\n",
       "      <td>NEW YORK</td>\n",
       "      <td>NY</td>\n",
       "      <td>10003</td>\n",
       "      <td>JPMORGAN CHASE BANK NATL ASSOC</td>\n",
       "      <td>IL</td>\n",
       "      <td>561439</td>\n",
       "      <td>9</td>\n",
       "      <td>1.0</td>\n",
       "      <td>1</td>\n",
       "      <td>9</td>\n",
       "      <td>1</td>\n",
       "      <td>1</td>\n",
       "      <td>0</td>\n",
       "      <td>N</td>\n",
       "      <td>68000.0</td>\n",
       "      <td>0.0</td>\n",
       "      <td>68000.0</td>\n",
       "      <td>34000.0</td>\n",
       "      <td>0</td>\n",
       "    </tr>\n",
       "    <tr>\n",
       "      <th>1</th>\n",
       "      <td>PAWTUCKET</td>\n",
       "      <td>RI</td>\n",
       "      <td>2860</td>\n",
       "      <td>CITIZENS BANK NATL ASSOC</td>\n",
       "      <td>RI</td>\n",
       "      <td>541810</td>\n",
       "      <td>8</td>\n",
       "      <td>1.0</td>\n",
       "      <td>4</td>\n",
       "      <td>12</td>\n",
       "      <td>0</td>\n",
       "      <td>1</td>\n",
       "      <td>N</td>\n",
       "      <td>N</td>\n",
       "      <td>90000.0</td>\n",
       "      <td>0.0</td>\n",
       "      <td>90000.0</td>\n",
       "      <td>45000.0</td>\n",
       "      <td>1</td>\n",
       "    </tr>\n",
       "    <tr>\n",
       "      <th>2</th>\n",
       "      <td>ISSAQUAH</td>\n",
       "      <td>WA</td>\n",
       "      <td>98027</td>\n",
       "      <td>FIRST-CITIZENS BK &amp; TR CO</td>\n",
       "      <td>WA</td>\n",
       "      <td>448210</td>\n",
       "      <td>9</td>\n",
       "      <td>2.0</td>\n",
       "      <td>0</td>\n",
       "      <td>0</td>\n",
       "      <td>1</td>\n",
       "      <td>0</td>\n",
       "      <td>N</td>\n",
       "      <td>N</td>\n",
       "      <td>450000.0</td>\n",
       "      <td>0.0</td>\n",
       "      <td>450000.0</td>\n",
       "      <td>337500.0</td>\n",
       "      <td>0</td>\n",
       "    </tr>\n",
       "    <tr>\n",
       "      <th>3</th>\n",
       "      <td>HURST</td>\n",
       "      <td>TX</td>\n",
       "      <td>76053</td>\n",
       "      <td>WILSHIRE BANK</td>\n",
       "      <td>CA</td>\n",
       "      <td>722213</td>\n",
       "      <td>4</td>\n",
       "      <td>1.0</td>\n",
       "      <td>0</td>\n",
       "      <td>4</td>\n",
       "      <td>1</td>\n",
       "      <td>1</td>\n",
       "      <td>0</td>\n",
       "      <td>N</td>\n",
       "      <td>140000.0</td>\n",
       "      <td>0.0</td>\n",
       "      <td>165000.0</td>\n",
       "      <td>82500.0</td>\n",
       "      <td>0</td>\n",
       "    </tr>\n",
       "    <tr>\n",
       "      <th>4</th>\n",
       "      <td>ALPINE</td>\n",
       "      <td>CA</td>\n",
       "      <td>91901</td>\n",
       "      <td>CALIFORNIA BANK &amp; TRUST</td>\n",
       "      <td>CA</td>\n",
       "      <td>233210</td>\n",
       "      <td>1</td>\n",
       "      <td>1.0</td>\n",
       "      <td>0</td>\n",
       "      <td>1</td>\n",
       "      <td>1</td>\n",
       "      <td>2</td>\n",
       "      <td>Y</td>\n",
       "      <td>N</td>\n",
       "      <td>50000.0</td>\n",
       "      <td>0.0</td>\n",
       "      <td>50000.0</td>\n",
       "      <td>25000.0</td>\n",
       "      <td>0</td>\n",
       "    </tr>\n",
       "    <tr>\n",
       "      <th>...</th>\n",
       "      <td>...</td>\n",
       "      <td>...</td>\n",
       "      <td>...</td>\n",
       "      <td>...</td>\n",
       "      <td>...</td>\n",
       "      <td>...</td>\n",
       "      <td>...</td>\n",
       "      <td>...</td>\n",
       "      <td>...</td>\n",
       "      <td>...</td>\n",
       "      <td>...</td>\n",
       "      <td>...</td>\n",
       "      <td>...</td>\n",
       "      <td>...</td>\n",
       "      <td>...</td>\n",
       "      <td>...</td>\n",
       "      <td>...</td>\n",
       "      <td>...</td>\n",
       "      <td>...</td>\n",
       "    </tr>\n",
       "    <tr>\n",
       "      <th>800250</th>\n",
       "      <td>Kenmore</td>\n",
       "      <td>NY</td>\n",
       "      <td>14217</td>\n",
       "      <td>KEYBANK NATIONAL ASSOCIATION</td>\n",
       "      <td>OH</td>\n",
       "      <td>561720</td>\n",
       "      <td>112</td>\n",
       "      <td>1.0</td>\n",
       "      <td>0</td>\n",
       "      <td>0</td>\n",
       "      <td>1</td>\n",
       "      <td>1</td>\n",
       "      <td>N</td>\n",
       "      <td>N</td>\n",
       "      <td>45500.0</td>\n",
       "      <td>0.0</td>\n",
       "      <td>45500.0</td>\n",
       "      <td>22750.0</td>\n",
       "      <td>0</td>\n",
       "    </tr>\n",
       "    <tr>\n",
       "      <th>800251</th>\n",
       "      <td>MENOMONEE FALLS</td>\n",
       "      <td>WI</td>\n",
       "      <td>53051</td>\n",
       "      <td>WAUKESHA STATE BANK</td>\n",
       "      <td>WI</td>\n",
       "      <td>337110</td>\n",
       "      <td>75</td>\n",
       "      <td>1.0</td>\n",
       "      <td>0</td>\n",
       "      <td>75</td>\n",
       "      <td>1</td>\n",
       "      <td>1</td>\n",
       "      <td>0</td>\n",
       "      <td>N</td>\n",
       "      <td>550000.0</td>\n",
       "      <td>0.0</td>\n",
       "      <td>550000.0</td>\n",
       "      <td>412500.0</td>\n",
       "      <td>0</td>\n",
       "    </tr>\n",
       "    <tr>\n",
       "      <th>800252</th>\n",
       "      <td>LONGVIEW</td>\n",
       "      <td>TX</td>\n",
       "      <td>75604</td>\n",
       "      <td>CAPITAL ONE NATL ASSOC</td>\n",
       "      <td>VA</td>\n",
       "      <td>517310</td>\n",
       "      <td>2</td>\n",
       "      <td>1.0</td>\n",
       "      <td>0</td>\n",
       "      <td>0</td>\n",
       "      <td>1</td>\n",
       "      <td>1</td>\n",
       "      <td>0</td>\n",
       "      <td>Y</td>\n",
       "      <td>128800.0</td>\n",
       "      <td>0.0</td>\n",
       "      <td>135000.0</td>\n",
       "      <td>114750.0</td>\n",
       "      <td>0</td>\n",
       "    </tr>\n",
       "    <tr>\n",
       "      <th>800253</th>\n",
       "      <td>CAMDEN</td>\n",
       "      <td>NJ</td>\n",
       "      <td>8105</td>\n",
       "      <td>BANK OF AMERICA NATL ASSOC</td>\n",
       "      <td>RI</td>\n",
       "      <td>447110</td>\n",
       "      <td>4</td>\n",
       "      <td>2.0</td>\n",
       "      <td>0</td>\n",
       "      <td>0</td>\n",
       "      <td>1</td>\n",
       "      <td>1</td>\n",
       "      <td>Y</td>\n",
       "      <td>N</td>\n",
       "      <td>100000.0</td>\n",
       "      <td>0.0</td>\n",
       "      <td>100000.0</td>\n",
       "      <td>50000.0</td>\n",
       "      <td>0</td>\n",
       "    </tr>\n",
       "    <tr>\n",
       "      <th>800254</th>\n",
       "      <td>COVENTRY</td>\n",
       "      <td>RI</td>\n",
       "      <td>2816</td>\n",
       "      <td>CITIZENS BANK NATL ASSOC</td>\n",
       "      <td>RI</td>\n",
       "      <td>541511</td>\n",
       "      <td>1</td>\n",
       "      <td>1.0</td>\n",
       "      <td>0</td>\n",
       "      <td>1</td>\n",
       "      <td>0</td>\n",
       "      <td>1</td>\n",
       "      <td>N</td>\n",
       "      <td>N</td>\n",
       "      <td>10000.0</td>\n",
       "      <td>0.0</td>\n",
       "      <td>10000.0</td>\n",
       "      <td>5000.0</td>\n",
       "      <td>0</td>\n",
       "    </tr>\n",
       "  </tbody>\n",
       "</table>\n",
       "<p>800255 rows × 19 columns</p>\n",
       "</div>"
      ],
      "text/plain": [
       "                   City State    Zip                            Bank  \\\n",
       "0              NEW YORK    NY  10003  JPMORGAN CHASE BANK NATL ASSOC   \n",
       "1             PAWTUCKET    RI   2860        CITIZENS BANK NATL ASSOC   \n",
       "2              ISSAQUAH    WA  98027       FIRST-CITIZENS BK & TR CO   \n",
       "3                 HURST    TX  76053                   WILSHIRE BANK   \n",
       "4                ALPINE    CA  91901         CALIFORNIA BANK & TRUST   \n",
       "...                 ...   ...    ...                             ...   \n",
       "800250          Kenmore    NY  14217    KEYBANK NATIONAL ASSOCIATION   \n",
       "800251  MENOMONEE FALLS    WI  53051             WAUKESHA STATE BANK   \n",
       "800252         LONGVIEW    TX  75604          CAPITAL ONE NATL ASSOC   \n",
       "800253           CAMDEN    NJ   8105      BANK OF AMERICA NATL ASSOC   \n",
       "800254         COVENTRY    RI   2816        CITIZENS BANK NATL ASSOC   \n",
       "\n",
       "       BankState   NAICS  NoEmp  NewExist  CreateJob  RetainedJob  \\\n",
       "0             IL  561439      9       1.0          1            9   \n",
       "1             RI  541810      8       1.0          4           12   \n",
       "2             WA  448210      9       2.0          0            0   \n",
       "3             CA  722213      4       1.0          0            4   \n",
       "4             CA  233210      1       1.0          0            1   \n",
       "...          ...     ...    ...       ...        ...          ...   \n",
       "800250        OH  561720    112       1.0          0            0   \n",
       "800251        WI  337110     75       1.0          0           75   \n",
       "800252        VA  517310      2       1.0          0            0   \n",
       "800253        RI  447110      4       2.0          0            0   \n",
       "800254        RI  541511      1       1.0          0            1   \n",
       "\n",
       "        FranchiseCode  UrbanRural RevLineCr LowDoc  DisbursementGross  \\\n",
       "0                   1           1         0      N            68000.0   \n",
       "1                   0           1         N      N            90000.0   \n",
       "2                   1           0         N      N           450000.0   \n",
       "3                   1           1         0      N           140000.0   \n",
       "4                   1           2         Y      N            50000.0   \n",
       "...               ...         ...       ...    ...                ...   \n",
       "800250              1           1         N      N            45500.0   \n",
       "800251              1           1         0      N           550000.0   \n",
       "800252              1           1         0      Y           128800.0   \n",
       "800253              1           1         Y      N           100000.0   \n",
       "800254              0           1         N      N            10000.0   \n",
       "\n",
       "        BalanceGross    GrAppv  SBA_Appv  MIS_Status  \n",
       "0                0.0   68000.0   34000.0           0  \n",
       "1                0.0   90000.0   45000.0           1  \n",
       "2                0.0  450000.0  337500.0           0  \n",
       "3                0.0  165000.0   82500.0           0  \n",
       "4                0.0   50000.0   25000.0           0  \n",
       "...              ...       ...       ...         ...  \n",
       "800250           0.0   45500.0   22750.0           0  \n",
       "800251           0.0  550000.0  412500.0           0  \n",
       "800252           0.0  135000.0  114750.0           0  \n",
       "800253           0.0  100000.0   50000.0           0  \n",
       "800254           0.0   10000.0    5000.0           0  \n",
       "\n",
       "[800255 rows x 19 columns]"
      ]
     },
     "execution_count": 94,
     "metadata": {},
     "output_type": "execute_result"
    }
   ],
   "source": [
    "df"
   ]
  },
  {
   "cell_type": "code",
   "execution_count": 95,
   "metadata": {},
   "outputs": [
    {
     "data": {
      "text/plain": [
       "City                   26\n",
       "State                  13\n",
       "Zip                     0\n",
       "Bank                 1381\n",
       "BankState            1386\n",
       "NAICS                   0\n",
       "NoEmp                   0\n",
       "NewExist              127\n",
       "CreateJob               0\n",
       "RetainedJob             0\n",
       "FranchiseCode           0\n",
       "UrbanRural              0\n",
       "RevLineCr            4016\n",
       "LowDoc               2316\n",
       "DisbursementGross       0\n",
       "BalanceGross            0\n",
       "GrAppv                  0\n",
       "SBA_Appv                0\n",
       "MIS_Status              0\n",
       "dtype: int64"
      ]
     },
     "execution_count": 95,
     "metadata": {},
     "output_type": "execute_result"
    }
   ],
   "source": [
    "df.isnull().sum()"
   ]
  },
  {
   "cell_type": "code",
   "execution_count": 96,
   "metadata": {},
   "outputs": [
    {
     "name": "stdout",
     "output_type": "stream",
     "text": [
      "City unique values are ['NEW YORK' 'PAWTUCKET' 'ISSAQUAH' ... 'ST  FRANCIS' 'Stevens point'\n",
      " 'Pylesville']\n",
      "\n",
      "\n",
      "City data type is object\n",
      "State unique values are ['NY' 'RI' 'WA' 'TX' 'CA' 'NC' 'MN' 'MO' 'FL' 'IA' 'IL' 'DC' 'PA' 'AL'\n",
      " 'MS' 'OH' 'MA' 'NJ' 'ME' 'NV' 'LA' 'MI' 'IN' 'GA' 'UT' 'VA' 'WI' 'TN'\n",
      " 'KS' 'NH' 'CO' 'CT' 'KY' 'AZ' 'ID' 'DE' 'SD' 'AR' 'MD' 'OK' 'SC' 'NM'\n",
      " 'MT' 'NE' 'OR' 'WY' 'AK' 'HI' 'VT' 'ND' 'WV' nan]\n",
      "\n",
      "\n",
      "State data type is object\n",
      "Zip unique values are [10003  2860 98027 ... 78944 17814 95812]\n",
      "\n",
      "\n",
      "Zip data type is int64\n",
      "Bank unique values are ['JPMORGAN CHASE BANK NATL ASSOC' 'CITIZENS BANK NATL ASSOC'\n",
      " 'FIRST-CITIZENS BK & TR CO' ... 'TULSA NATIONAL BANCSHARES, INC'\n",
      " 'BEACH PLAZA LLC' 'THE LEADERS BANK']\n",
      "\n",
      "\n",
      "Bank data type is object\n",
      "BankState unique values are ['IL' 'RI' 'WA' 'CA' 'NC' 'MN' 'MO' 'OR' 'FL' 'IA' 'SD' 'DC' 'TX' 'PA'\n",
      " 'VA' 'AL' 'OH' 'MS' 'IN' 'MA' 'ME' 'MI' 'DE' 'UT' 'SC' 'NY' 'KS' 'CO'\n",
      " 'LA' 'WI' 'CT' 'AZ' 'AR' 'MD' 'OK' 'NM' 'ID' 'MT' 'NJ' 'KY' 'NE' 'WY'\n",
      " 'GA' 'HI' 'NH' 'VT' 'ND' 'TN' nan 'NV' 'AK' 'WV' 'PR' 'EN' 'GU']\n",
      "\n",
      "\n",
      "BankState data type is object\n",
      "NAICS unique values are [561439 541810 448210 ... 922140 221114 333241]\n",
      "\n",
      "\n",
      "NAICS data type is int64\n",
      "NoEmp unique values are [   9    8    4    1    3   25   10    2   12    6   21   15   19    7\n",
      "   70   45   14   57   30   16   13   35    5   17   11   42   33   36\n",
      "    0   65   20   23  175   18   50   34   60   26   80   40   22   24\n",
      "   31  300   55   29   44   76 3030   75   32   28   41  135   52  100\n",
      "   90   51   37  350   46  207   27   64  160   98   92  190   38   47\n",
      "   39   62   85  985  150   48   79   72  387   84   69 9945   49   68\n",
      "  124   43   73  200  140   59  120  174   54   71  101  102   56 5000\n",
      "  142   67  195  185   53  145  435  110  109  115  425  281   58  153\n",
      "   95   63   61  750  133   81   74   83   82  700  111  132  114   93\n",
      "   78  146   89   77  170  250  205  125  130  184   94  105   97   99\n",
      "   86  104  158  220  155  163  247  246  137  106  450  113  151   96\n",
      "  500  116 1000  118  280  141 5149   66  126   88  400  188  108  154\n",
      "  223  325  900  127  189  222  360   91  107  498  131   87  230  421\n",
      "  162  218  515  180  271  138  128  122  386  179  345  129  165  240\n",
      "  117 3400 1644  315  182  134  123  112  275  139  210  232  260  288\n",
      " 6000  245  119  215 1150  600  258  227  261  206  257 1382  270  203\n",
      "  256  499  144  285  161  295 1400  375  608 1010 1500  177 1200  103\n",
      "  173 4000  121 1700  314  340  192  307  147  329  339 1451 8041  226\n",
      " 1003  225  231  254  148  344  191  712  967  149  187  403  152  520\n",
      " 2202  420  299  351 1524  212  136  156  166 7231  323 5921  208  290\n",
      "  202 7538 5812  143  197  213  550  310  305 3900 1112  233  761  241\n",
      "  521  228 3200 2200  317  249 2000  346  243  178  840  167  475  172\n",
      "  248 3000 1515 1800  330  237 1461  214  625  740  186  211 2151  204\n",
      "  255  217 2400 5680  196 1005 7389  306  171 5211  265  168  157  327\n",
      " 1100  427  390 2401  394  236 3100  216  289  458  850  176 1600 8000\n",
      "  169  221  720 2501  760  430  384 1981  253 2725  234  277  510  194\n",
      "  224  263  463  259 9090 3737  268  365  488  283  278  342  332  404\n",
      "  484  423  198 1940  318 3713  530  235  433  273  353 4100  455  304\n",
      "  382  276  267  424  193  640  606  456 3089  164  407  336  362 1706\n",
      "  585  560  252  355  576 4685  308  251  320  396 7212  442  380 3500\n",
      "  385  808 1300  183  376 4005  605  454  312  209  505 9999 1233 1711\n",
      "  181 5947  523  479 7000  279  301  262 3334  358 2300 2100  448  602\n",
      "  713 7941  413  780 4012  635  302 2020  685 2120  575  294  540  238\n",
      "  369  405  313 2510 1900 5555 1020  395 4847  377  525  445 2610  401\n",
      "  354  322 7241 2500 5013  287 3009  242  266  465  688 2700 4658 1073\n",
      " 1340  717  410  229  269 5200  282 9992 1520 1235  274  480  485 1980\n",
      " 1050  296  383  426  408 1920 6501 7216  544  298  368  782  476  324\n",
      " 1629 1550  609  363  680 1542  827 7111  357 1012 2232  800 1101  464\n",
      "  447  735  284 2010  341 5084  828  495  370  538  319 7991 1603 7999\n",
      " 3732 8018 2121  199  535  244 1250 1280 9000  292 1145  293 2520  650\n",
      "  356  159 1030 4800 7007  328 4300 3170  570  660  414  441  429  823\n",
      "  367  348  858]\n",
      "\n",
      "\n",
      "NoEmp data type is int64\n",
      "NewExist unique values are [ 1.  2.  0. nan]\n",
      "\n",
      "\n",
      "NewExist data type is float64\n",
      "CreateJob unique values are [   1    4    0   15    3    6    8    9    2   20    7   10   12    5\n",
      "   26   35   30   13   23   11   45   40   65   29   25   16   46   21\n",
      "  458   14   73   70 8800   43  120   38   28   22   49   41   59   33\n",
      "   80   19   17   48   60   50  250   24   18  150   37   57  100   31\n",
      "   44   39   32   79   96   89  118   27   75  451   71  450   85   42\n",
      "   36  456   52  105  135  125  452  200  300   54   63   61   90   34\n",
      "  154   64   47   76   82  171   56  175  256   55  198   58  110  138\n",
      " 3000  264   98  158   69   95  162   68  124   66  119  860   72   92\n",
      "  115   83  168  206   78  116   62  500   53   67   84  255  600   51\n",
      "  400  137  104  130  152  140  454  226   77  453  225   97  270  123\n",
      "  126 3100  240  108  160  102 1530  235   99  189  114   87  106  165\n",
      "  112  179  101   88  141  167  183  131   81  455   94  433  205  136\n",
      " 1618 1100  223  146  457 5199 1000   74 3500  121  409  750  220 1711\n",
      " 5085  148  155  184 1027 2515  186  280 5621 1016  145  310  129  360\n",
      "  386   86  375  169  109  170   93  182  397  195  365  180  128  190\n",
      " 1011  221  103  350  157  174  222  127  149 1150  480  363 2140  214\n",
      "  252  569 2020  320  144  164  153 1118  139  151  163  210]\n",
      "\n",
      "\n",
      "CreateJob data type is int64\n",
      "RetainedJob unique values are [   9   12    0    4    1   40   10    2    6    8    5   20   30   13\n",
      "   35   11    3   14   19    7   34   21   23   18   50   22   85   80\n",
      "   60   45   15  330   25   65   33   29   17   16   44   32   31   28\n",
      "   41   27   90   24  207  160   92  190   38   46 8800   26   48   72\n",
      "   84   36   70  200  140  120   54   52   71   53   47  102   55   75\n",
      "  150  142   37   43   64  300  117   42   95   39  281   49   58   96\n",
      "  212  100   63   79   82   57  111   69   62  135  250   61   56  155\n",
      "   78  104  158   67  163  270  350  151  500  116   51  118  275  141\n",
      "  450  126   74   86  223  387   76  498  189   87  130  115   59  145\n",
      "  205  175  125  256  138  105   93  137  164  180  219  139   77  110\n",
      "   68   81  103  210  109  167  230   83   99  162  185  171   91   97\n",
      "  119  304  101   98  107  285  240  257  170   73  165  229  161  149\n",
      "  173  750  113  231  114  168  156  362  967   88  128  122  127   89\n",
      "  220  129  251  404  375   66  203  550  267  177  133  123  263  143\n",
      "   94 3900  182  121 1300  384 2200  254  900  243  112  178  310  226\n",
      "  184  237  515  146  154  192  265  157  327  245  108  400  194  172\n",
      "  169  134  186  153  216  106  152 4441  360  124  259  187  131  202\n",
      "  316  600  472  371  278  342  206  214  484  204  390  318  225 3225\n",
      "  286 1700  428  176  147  497  268  585  312  393  148  280  290  475\n",
      "  235  291  320  369  132 1711  197  523  195  144  448  602  217 3100\n",
      "  302  136  685  540  295  215  366  322  287  315  485  266  610  292\n",
      "  476  208  430  410  247  191 1600  420  325 4000  233  188 5000  355\n",
      "  196  260  274  480  544  298  262  609  363  199  815  277  403  166\n",
      " 7250  720  370  548 3200  911  183  221 1500 1000  675  535  232  236\n",
      "  198  159  255  252  356  394 1111  201 9500  328  297  660  700  317]\n",
      "\n",
      "\n",
      "RetainedJob data type is int64\n",
      "FranchiseCode unique values are [    1     0 78760 ... 21424 41418 29580]\n",
      "\n",
      "\n",
      "FranchiseCode data type is int64\n",
      "UrbanRural unique values are [1 0 2]\n",
      "\n",
      "\n",
      "UrbanRural data type is int64\n",
      "RevLineCr unique values are ['0' 'N' 'Y' 'T' nan '1' 'A' '`' '4' 'R' '2' '.' '5' 'C' ',' '-' 'Q' '7'\n",
      " '3']\n",
      "\n",
      "\n",
      "RevLineCr data type is object\n",
      "LowDoc unique values are ['N' 'Y' '0' nan 'C' 'A' 'S' 'R' '1']\n",
      "\n",
      "\n",
      "LowDoc data type is object\n",
      "DisbursementGross unique values are [ 68000.  90000. 450000. ... 199123.  67516.  97203.]\n",
      "\n",
      "\n",
      "DisbursementGross data type is float64\n",
      "BalanceGross unique values are [0.00000e+00 4.15090e+04 3.95476e+05 9.11100e+03 8.46170e+04 8.27875e+05\n",
      " 1.27500e+04 9.96262e+05 9.69080e+04 2.50000e+04 1.15820e+05 1.76000e+03\n",
      " 3.71000e+04 6.00000e+02 4.31270e+04]\n",
      "\n",
      "\n",
      "BalanceGross data type is float64\n",
      "GrAppv unique values are [  68000.   90000.  450000. ... 1853900.   32916.   35224.]\n",
      "\n",
      "\n",
      "GrAppv data type is float64\n",
      "SBA_Appv unique values are [  34000.   45000.  337500. ...   26333. 1609000.   17612.]\n",
      "\n",
      "\n",
      "SBA_Appv data type is float64\n",
      "MIS_Status unique values are [0 1]\n",
      "\n",
      "\n",
      "MIS_Status data type is int64\n"
     ]
    }
   ],
   "source": [
    "#show unique values in each column and its data type\n",
    "for col in df.columns:\n",
    "    print(f'{col} unique values are {df[col].unique()}')\n",
    "    print(\"\\n\")\n",
    "    print(f'{col} data type is {df[col].dtype}')"
   ]
  },
  {
   "cell_type": "code",
   "execution_count": 97,
   "metadata": {},
   "outputs": [
    {
     "data": {
      "text/html": [
       "<div>\n",
       "<style scoped>\n",
       "    .dataframe tbody tr th:only-of-type {\n",
       "        vertical-align: middle;\n",
       "    }\n",
       "\n",
       "    .dataframe tbody tr th {\n",
       "        vertical-align: top;\n",
       "    }\n",
       "\n",
       "    .dataframe thead th {\n",
       "        text-align: right;\n",
       "    }\n",
       "</style>\n",
       "<table border=\"1\" class=\"dataframe\">\n",
       "  <thead>\n",
       "    <tr style=\"text-align: right;\">\n",
       "      <th></th>\n",
       "      <th>City</th>\n",
       "      <th>State</th>\n",
       "      <th>Zip</th>\n",
       "      <th>Bank</th>\n",
       "      <th>BankState</th>\n",
       "      <th>NAICS</th>\n",
       "      <th>NoEmp</th>\n",
       "      <th>NewExist</th>\n",
       "      <th>CreateJob</th>\n",
       "      <th>RetainedJob</th>\n",
       "      <th>FranchiseCode</th>\n",
       "      <th>UrbanRural</th>\n",
       "      <th>RevLineCr</th>\n",
       "      <th>LowDoc</th>\n",
       "      <th>DisbursementGross</th>\n",
       "      <th>BalanceGross</th>\n",
       "      <th>GrAppv</th>\n",
       "      <th>SBA_Appv</th>\n",
       "      <th>MIS_Status</th>\n",
       "    </tr>\n",
       "  </thead>\n",
       "  <tbody>\n",
       "    <tr>\n",
       "      <th>0</th>\n",
       "      <td>NEW YORK</td>\n",
       "      <td>NY</td>\n",
       "      <td>10003</td>\n",
       "      <td>JPMORGAN CHASE BANK NATL ASSOC</td>\n",
       "      <td>IL</td>\n",
       "      <td>561439</td>\n",
       "      <td>9</td>\n",
       "      <td>1.0</td>\n",
       "      <td>1</td>\n",
       "      <td>9</td>\n",
       "      <td>1</td>\n",
       "      <td>1</td>\n",
       "      <td>0</td>\n",
       "      <td>N</td>\n",
       "      <td>68000.0</td>\n",
       "      <td>0.0</td>\n",
       "      <td>68000.0</td>\n",
       "      <td>34000.0</td>\n",
       "      <td>0</td>\n",
       "    </tr>\n",
       "    <tr>\n",
       "      <th>1</th>\n",
       "      <td>PAWTUCKET</td>\n",
       "      <td>RI</td>\n",
       "      <td>2860</td>\n",
       "      <td>CITIZENS BANK NATL ASSOC</td>\n",
       "      <td>RI</td>\n",
       "      <td>541810</td>\n",
       "      <td>8</td>\n",
       "      <td>1.0</td>\n",
       "      <td>4</td>\n",
       "      <td>12</td>\n",
       "      <td>0</td>\n",
       "      <td>1</td>\n",
       "      <td>N</td>\n",
       "      <td>N</td>\n",
       "      <td>90000.0</td>\n",
       "      <td>0.0</td>\n",
       "      <td>90000.0</td>\n",
       "      <td>45000.0</td>\n",
       "      <td>1</td>\n",
       "    </tr>\n",
       "    <tr>\n",
       "      <th>2</th>\n",
       "      <td>ISSAQUAH</td>\n",
       "      <td>WA</td>\n",
       "      <td>98027</td>\n",
       "      <td>FIRST-CITIZENS BK &amp; TR CO</td>\n",
       "      <td>WA</td>\n",
       "      <td>448210</td>\n",
       "      <td>9</td>\n",
       "      <td>2.0</td>\n",
       "      <td>0</td>\n",
       "      <td>0</td>\n",
       "      <td>1</td>\n",
       "      <td>0</td>\n",
       "      <td>N</td>\n",
       "      <td>N</td>\n",
       "      <td>450000.0</td>\n",
       "      <td>0.0</td>\n",
       "      <td>450000.0</td>\n",
       "      <td>337500.0</td>\n",
       "      <td>0</td>\n",
       "    </tr>\n",
       "    <tr>\n",
       "      <th>3</th>\n",
       "      <td>HURST</td>\n",
       "      <td>TX</td>\n",
       "      <td>76053</td>\n",
       "      <td>WILSHIRE BANK</td>\n",
       "      <td>CA</td>\n",
       "      <td>722213</td>\n",
       "      <td>4</td>\n",
       "      <td>1.0</td>\n",
       "      <td>0</td>\n",
       "      <td>4</td>\n",
       "      <td>1</td>\n",
       "      <td>1</td>\n",
       "      <td>0</td>\n",
       "      <td>N</td>\n",
       "      <td>140000.0</td>\n",
       "      <td>0.0</td>\n",
       "      <td>165000.0</td>\n",
       "      <td>82500.0</td>\n",
       "      <td>0</td>\n",
       "    </tr>\n",
       "    <tr>\n",
       "      <th>4</th>\n",
       "      <td>ALPINE</td>\n",
       "      <td>CA</td>\n",
       "      <td>91901</td>\n",
       "      <td>CALIFORNIA BANK &amp; TRUST</td>\n",
       "      <td>CA</td>\n",
       "      <td>233210</td>\n",
       "      <td>1</td>\n",
       "      <td>1.0</td>\n",
       "      <td>0</td>\n",
       "      <td>1</td>\n",
       "      <td>1</td>\n",
       "      <td>2</td>\n",
       "      <td>Y</td>\n",
       "      <td>N</td>\n",
       "      <td>50000.0</td>\n",
       "      <td>0.0</td>\n",
       "      <td>50000.0</td>\n",
       "      <td>25000.0</td>\n",
       "      <td>0</td>\n",
       "    </tr>\n",
       "    <tr>\n",
       "      <th>...</th>\n",
       "      <td>...</td>\n",
       "      <td>...</td>\n",
       "      <td>...</td>\n",
       "      <td>...</td>\n",
       "      <td>...</td>\n",
       "      <td>...</td>\n",
       "      <td>...</td>\n",
       "      <td>...</td>\n",
       "      <td>...</td>\n",
       "      <td>...</td>\n",
       "      <td>...</td>\n",
       "      <td>...</td>\n",
       "      <td>...</td>\n",
       "      <td>...</td>\n",
       "      <td>...</td>\n",
       "      <td>...</td>\n",
       "      <td>...</td>\n",
       "      <td>...</td>\n",
       "      <td>...</td>\n",
       "    </tr>\n",
       "    <tr>\n",
       "      <th>800250</th>\n",
       "      <td>Kenmore</td>\n",
       "      <td>NY</td>\n",
       "      <td>14217</td>\n",
       "      <td>KEYBANK NATIONAL ASSOCIATION</td>\n",
       "      <td>OH</td>\n",
       "      <td>561720</td>\n",
       "      <td>112</td>\n",
       "      <td>1.0</td>\n",
       "      <td>0</td>\n",
       "      <td>0</td>\n",
       "      <td>1</td>\n",
       "      <td>1</td>\n",
       "      <td>N</td>\n",
       "      <td>N</td>\n",
       "      <td>45500.0</td>\n",
       "      <td>0.0</td>\n",
       "      <td>45500.0</td>\n",
       "      <td>22750.0</td>\n",
       "      <td>0</td>\n",
       "    </tr>\n",
       "    <tr>\n",
       "      <th>800251</th>\n",
       "      <td>MENOMONEE FALLS</td>\n",
       "      <td>WI</td>\n",
       "      <td>53051</td>\n",
       "      <td>WAUKESHA STATE BANK</td>\n",
       "      <td>WI</td>\n",
       "      <td>337110</td>\n",
       "      <td>75</td>\n",
       "      <td>1.0</td>\n",
       "      <td>0</td>\n",
       "      <td>75</td>\n",
       "      <td>1</td>\n",
       "      <td>1</td>\n",
       "      <td>0</td>\n",
       "      <td>N</td>\n",
       "      <td>550000.0</td>\n",
       "      <td>0.0</td>\n",
       "      <td>550000.0</td>\n",
       "      <td>412500.0</td>\n",
       "      <td>0</td>\n",
       "    </tr>\n",
       "    <tr>\n",
       "      <th>800252</th>\n",
       "      <td>LONGVIEW</td>\n",
       "      <td>TX</td>\n",
       "      <td>75604</td>\n",
       "      <td>CAPITAL ONE NATL ASSOC</td>\n",
       "      <td>VA</td>\n",
       "      <td>517310</td>\n",
       "      <td>2</td>\n",
       "      <td>1.0</td>\n",
       "      <td>0</td>\n",
       "      <td>0</td>\n",
       "      <td>1</td>\n",
       "      <td>1</td>\n",
       "      <td>0</td>\n",
       "      <td>Y</td>\n",
       "      <td>128800.0</td>\n",
       "      <td>0.0</td>\n",
       "      <td>135000.0</td>\n",
       "      <td>114750.0</td>\n",
       "      <td>0</td>\n",
       "    </tr>\n",
       "    <tr>\n",
       "      <th>800253</th>\n",
       "      <td>CAMDEN</td>\n",
       "      <td>NJ</td>\n",
       "      <td>8105</td>\n",
       "      <td>BANK OF AMERICA NATL ASSOC</td>\n",
       "      <td>RI</td>\n",
       "      <td>447110</td>\n",
       "      <td>4</td>\n",
       "      <td>2.0</td>\n",
       "      <td>0</td>\n",
       "      <td>0</td>\n",
       "      <td>1</td>\n",
       "      <td>1</td>\n",
       "      <td>Y</td>\n",
       "      <td>N</td>\n",
       "      <td>100000.0</td>\n",
       "      <td>0.0</td>\n",
       "      <td>100000.0</td>\n",
       "      <td>50000.0</td>\n",
       "      <td>0</td>\n",
       "    </tr>\n",
       "    <tr>\n",
       "      <th>800254</th>\n",
       "      <td>COVENTRY</td>\n",
       "      <td>RI</td>\n",
       "      <td>2816</td>\n",
       "      <td>CITIZENS BANK NATL ASSOC</td>\n",
       "      <td>RI</td>\n",
       "      <td>541511</td>\n",
       "      <td>1</td>\n",
       "      <td>1.0</td>\n",
       "      <td>0</td>\n",
       "      <td>1</td>\n",
       "      <td>0</td>\n",
       "      <td>1</td>\n",
       "      <td>N</td>\n",
       "      <td>N</td>\n",
       "      <td>10000.0</td>\n",
       "      <td>0.0</td>\n",
       "      <td>10000.0</td>\n",
       "      <td>5000.0</td>\n",
       "      <td>0</td>\n",
       "    </tr>\n",
       "  </tbody>\n",
       "</table>\n",
       "<p>800255 rows × 19 columns</p>\n",
       "</div>"
      ],
      "text/plain": [
       "                   City State    Zip                            Bank  \\\n",
       "0              NEW YORK    NY  10003  JPMORGAN CHASE BANK NATL ASSOC   \n",
       "1             PAWTUCKET    RI   2860        CITIZENS BANK NATL ASSOC   \n",
       "2              ISSAQUAH    WA  98027       FIRST-CITIZENS BK & TR CO   \n",
       "3                 HURST    TX  76053                   WILSHIRE BANK   \n",
       "4                ALPINE    CA  91901         CALIFORNIA BANK & TRUST   \n",
       "...                 ...   ...    ...                             ...   \n",
       "800250          Kenmore    NY  14217    KEYBANK NATIONAL ASSOCIATION   \n",
       "800251  MENOMONEE FALLS    WI  53051             WAUKESHA STATE BANK   \n",
       "800252         LONGVIEW    TX  75604          CAPITAL ONE NATL ASSOC   \n",
       "800253           CAMDEN    NJ   8105      BANK OF AMERICA NATL ASSOC   \n",
       "800254         COVENTRY    RI   2816        CITIZENS BANK NATL ASSOC   \n",
       "\n",
       "       BankState   NAICS  NoEmp  NewExist  CreateJob  RetainedJob  \\\n",
       "0             IL  561439      9       1.0          1            9   \n",
       "1             RI  541810      8       1.0          4           12   \n",
       "2             WA  448210      9       2.0          0            0   \n",
       "3             CA  722213      4       1.0          0            4   \n",
       "4             CA  233210      1       1.0          0            1   \n",
       "...          ...     ...    ...       ...        ...          ...   \n",
       "800250        OH  561720    112       1.0          0            0   \n",
       "800251        WI  337110     75       1.0          0           75   \n",
       "800252        VA  517310      2       1.0          0            0   \n",
       "800253        RI  447110      4       2.0          0            0   \n",
       "800254        RI  541511      1       1.0          0            1   \n",
       "\n",
       "        FranchiseCode  UrbanRural RevLineCr LowDoc  DisbursementGross  \\\n",
       "0                   1           1         0      N            68000.0   \n",
       "1                   0           1         N      N            90000.0   \n",
       "2                   1           0         N      N           450000.0   \n",
       "3                   1           1         0      N           140000.0   \n",
       "4                   1           2         Y      N            50000.0   \n",
       "...               ...         ...       ...    ...                ...   \n",
       "800250              1           1         N      N            45500.0   \n",
       "800251              1           1         0      N           550000.0   \n",
       "800252              1           1         0      Y           128800.0   \n",
       "800253              1           1         Y      N           100000.0   \n",
       "800254              0           1         N      N            10000.0   \n",
       "\n",
       "        BalanceGross    GrAppv  SBA_Appv  MIS_Status  \n",
       "0                0.0   68000.0   34000.0           0  \n",
       "1                0.0   90000.0   45000.0           1  \n",
       "2                0.0  450000.0  337500.0           0  \n",
       "3                0.0  165000.0   82500.0           0  \n",
       "4                0.0   50000.0   25000.0           0  \n",
       "...              ...       ...       ...         ...  \n",
       "800250           0.0   45500.0   22750.0           0  \n",
       "800251           0.0  550000.0  412500.0           0  \n",
       "800252           0.0  135000.0  114750.0           0  \n",
       "800253           0.0  100000.0   50000.0           0  \n",
       "800254           0.0   10000.0    5000.0           0  \n",
       "\n",
       "[800255 rows x 19 columns]"
      ]
     },
     "execution_count": 97,
     "metadata": {},
     "output_type": "execute_result"
    }
   ],
   "source": [
    "df"
   ]
  },
  {
   "cell_type": "code",
   "execution_count": 98,
   "metadata": {},
   "outputs": [
    {
     "name": "stdout",
     "output_type": "stream",
     "text": [
      "RevLineCr ['N' 'Y']\n",
      "LowDoc ['N' 'Y']\n",
      "NewExist [1.0 2.0 None]\n"
     ]
    }
   ],
   "source": [
    "for i in df['RevLineCr']:\n",
    "    if i not in ['Y','N']:\n",
    "        df['RevLineCr'].replace(i,'N',inplace=True)\n",
    "print(\"RevLineCr\",df['RevLineCr'].unique())\n",
    "\n",
    "for i in df['LowDoc']:\n",
    "    if i not in ['Y','N']:\n",
    "        df['LowDoc'].replace(i,'N',inplace=True)\n",
    "print(\"LowDoc\",df['LowDoc'].unique())\n",
    "\n",
    "for i in df['NewExist']:\n",
    "    if i not in [1,2]:\n",
    "        df['NewExist'].replace(i,None,inplace=True)\n",
    "print(\"NewExist\",df['NewExist'].unique())"
   ]
  },
  {
   "cell_type": "code",
   "execution_count": 99,
   "metadata": {},
   "outputs": [
    {
     "data": {
      "text/plain": [
       "City                   26\n",
       "State                  13\n",
       "Zip                     0\n",
       "Bank                 1381\n",
       "BankState            1386\n",
       "NAICS                   0\n",
       "NoEmp                   0\n",
       "NewExist             1057\n",
       "CreateJob               0\n",
       "RetainedJob             0\n",
       "FranchiseCode           0\n",
       "UrbanRural              0\n",
       "RevLineCr               0\n",
       "LowDoc                  0\n",
       "DisbursementGross       0\n",
       "BalanceGross            0\n",
       "GrAppv                  0\n",
       "SBA_Appv                0\n",
       "MIS_Status              0\n",
       "dtype: int64"
      ]
     },
     "execution_count": 99,
     "metadata": {},
     "output_type": "execute_result"
    }
   ],
   "source": [
    "df.isnull().sum()"
   ]
  },
  {
   "cell_type": "code",
   "execution_count": 100,
   "metadata": {},
   "outputs": [],
   "source": [
    "category_cols=['City', 'State', 'Bank', 'BankState', 'RevLineCr', 'LowDoc','NewExist']\n",
    "for column in category_cols:\n",
    "  df[column]=df[column].fillna(df[column].mode()[0])"
   ]
  },
  {
   "cell_type": "code",
   "execution_count": 101,
   "metadata": {},
   "outputs": [
    {
     "data": {
      "text/plain": [
       "City                 0\n",
       "State                0\n",
       "Zip                  0\n",
       "Bank                 0\n",
       "BankState            0\n",
       "NAICS                0\n",
       "NoEmp                0\n",
       "NewExist             0\n",
       "CreateJob            0\n",
       "RetainedJob          0\n",
       "FranchiseCode        0\n",
       "UrbanRural           0\n",
       "RevLineCr            0\n",
       "LowDoc               0\n",
       "DisbursementGross    0\n",
       "BalanceGross         0\n",
       "GrAppv               0\n",
       "SBA_Appv             0\n",
       "MIS_Status           0\n",
       "dtype: int64"
      ]
     },
     "execution_count": 101,
     "metadata": {},
     "output_type": "execute_result"
    }
   ],
   "source": [
    "df.isnull().sum()"
   ]
  },
  {
   "cell_type": "code",
   "execution_count": 102,
   "metadata": {},
   "outputs": [
    {
     "data": {
      "text/plain": [
       "((560178, 19), (240077, 19))"
      ]
     },
     "execution_count": 102,
     "metadata": {},
     "output_type": "execute_result"
    }
   ],
   "source": [
    "from sklearn.model_selection import train_test_split\n",
    "\n",
    "X_train,X_test = train_test_split(df,test_size=0.3,random_state=123)\n",
    "X_train.shape, X_test.shape"
   ]
  },
  {
   "cell_type": "markdown",
   "metadata": {},
   "source": [
    "``` Training set has 560178 rows and testing set has 240077 samples\n",
    "\n",
    "Target encoding is a data preprocessing technique used to convert categorical variables into numerical values that can be used by machine learning algorithms. It works by replacing each category with the average value of the target variable for that category. This can be helpful for algorithms that cannot handle categorical variables directly.\n",
    "\n",
    "In this case the target variable is \"MIS_Status\"```"
   ]
  },
  {
   "cell_type": "code",
   "execution_count": 103,
   "metadata": {},
   "outputs": [
    {
     "data": {
      "text/html": [
       "<div>\n",
       "<style scoped>\n",
       "    .dataframe tbody tr th:only-of-type {\n",
       "        vertical-align: middle;\n",
       "    }\n",
       "\n",
       "    .dataframe tbody tr th {\n",
       "        vertical-align: top;\n",
       "    }\n",
       "\n",
       "    .dataframe thead th {\n",
       "        text-align: right;\n",
       "    }\n",
       "</style>\n",
       "<table border=\"1\" class=\"dataframe\">\n",
       "  <thead>\n",
       "    <tr style=\"text-align: right;\">\n",
       "      <th></th>\n",
       "      <th>City</th>\n",
       "      <th>State</th>\n",
       "      <th>Zip</th>\n",
       "      <th>Bank</th>\n",
       "      <th>BankState</th>\n",
       "      <th>NAICS</th>\n",
       "      <th>NoEmp</th>\n",
       "      <th>NewExist</th>\n",
       "      <th>CreateJob</th>\n",
       "      <th>RetainedJob</th>\n",
       "      <th>FranchiseCode</th>\n",
       "      <th>UrbanRural</th>\n",
       "      <th>RevLineCr</th>\n",
       "      <th>LowDoc</th>\n",
       "      <th>DisbursementGross</th>\n",
       "      <th>BalanceGross</th>\n",
       "      <th>GrAppv</th>\n",
       "      <th>SBA_Appv</th>\n",
       "      <th>MIS_Status</th>\n",
       "    </tr>\n",
       "  </thead>\n",
       "  <tbody>\n",
       "    <tr>\n",
       "      <th>148172</th>\n",
       "      <td>0.215946</td>\n",
       "      <td>0.165802</td>\n",
       "      <td>45648</td>\n",
       "      <td>0.740692</td>\n",
       "      <td>0.217642</td>\n",
       "      <td>452990</td>\n",
       "      <td>2</td>\n",
       "      <td>0.17067</td>\n",
       "      <td>2</td>\n",
       "      <td>2</td>\n",
       "      <td>0</td>\n",
       "      <td>0.186517</td>\n",
       "      <td>0.152625</td>\n",
       "      <td>0.186815</td>\n",
       "      <td>12500.0</td>\n",
       "      <td>0.0</td>\n",
       "      <td>12500.0</td>\n",
       "      <td>10625.0</td>\n",
       "      <td>1</td>\n",
       "    </tr>\n",
       "    <tr>\n",
       "      <th>744579</th>\n",
       "      <td>0.226933</td>\n",
       "      <td>0.165802</td>\n",
       "      <td>43240</td>\n",
       "      <td>0.133135</td>\n",
       "      <td>0.158188</td>\n",
       "      <td>445310</td>\n",
       "      <td>7</td>\n",
       "      <td>0.17067</td>\n",
       "      <td>0</td>\n",
       "      <td>0</td>\n",
       "      <td>0</td>\n",
       "      <td>0.243731</td>\n",
       "      <td>0.152625</td>\n",
       "      <td>0.186815</td>\n",
       "      <td>20000.0</td>\n",
       "      <td>0.0</td>\n",
       "      <td>20000.0</td>\n",
       "      <td>10000.0</td>\n",
       "      <td>0</td>\n",
       "    </tr>\n",
       "    <tr>\n",
       "      <th>321200</th>\n",
       "      <td>0.252778</td>\n",
       "      <td>0.196143</td>\n",
       "      <td>21037</td>\n",
       "      <td>0.194430</td>\n",
       "      <td>0.076619</td>\n",
       "      <td>0</td>\n",
       "      <td>3</td>\n",
       "      <td>0.17067</td>\n",
       "      <td>0</td>\n",
       "      <td>0</td>\n",
       "      <td>1</td>\n",
       "      <td>0.070886</td>\n",
       "      <td>0.152625</td>\n",
       "      <td>0.089154</td>\n",
       "      <td>25000.0</td>\n",
       "      <td>0.0</td>\n",
       "      <td>25000.0</td>\n",
       "      <td>20000.0</td>\n",
       "      <td>0</td>\n",
       "    </tr>\n",
       "    <tr>\n",
       "      <th>74901</th>\n",
       "      <td>0.275938</td>\n",
       "      <td>0.184227</td>\n",
       "      <td>90071</td>\n",
       "      <td>0.141177</td>\n",
       "      <td>0.178801</td>\n",
       "      <td>541310</td>\n",
       "      <td>12</td>\n",
       "      <td>0.17067</td>\n",
       "      <td>12</td>\n",
       "      <td>12</td>\n",
       "      <td>1</td>\n",
       "      <td>0.243731</td>\n",
       "      <td>0.251879</td>\n",
       "      <td>0.186815</td>\n",
       "      <td>985500.0</td>\n",
       "      <td>0.0</td>\n",
       "      <td>350000.0</td>\n",
       "      <td>175000.0</td>\n",
       "      <td>1</td>\n",
       "    </tr>\n",
       "    <tr>\n",
       "      <th>426895</th>\n",
       "      <td>0.057056</td>\n",
       "      <td>0.184227</td>\n",
       "      <td>95037</td>\n",
       "      <td>0.412096</td>\n",
       "      <td>0.380604</td>\n",
       "      <td>561720</td>\n",
       "      <td>1</td>\n",
       "      <td>0.17067</td>\n",
       "      <td>0</td>\n",
       "      <td>1</td>\n",
       "      <td>0</td>\n",
       "      <td>0.243731</td>\n",
       "      <td>0.152625</td>\n",
       "      <td>0.186815</td>\n",
       "      <td>50000.0</td>\n",
       "      <td>0.0</td>\n",
       "      <td>50000.0</td>\n",
       "      <td>25000.0</td>\n",
       "      <td>0</td>\n",
       "    </tr>\n",
       "  </tbody>\n",
       "</table>\n",
       "</div>"
      ],
      "text/plain": [
       "            City     State    Zip      Bank  BankState   NAICS  NoEmp  \\\n",
       "148172  0.215946  0.165802  45648  0.740692   0.217642  452990      2   \n",
       "744579  0.226933  0.165802  43240  0.133135   0.158188  445310      7   \n",
       "321200  0.252778  0.196143  21037  0.194430   0.076619       0      3   \n",
       "74901   0.275938  0.184227  90071  0.141177   0.178801  541310     12   \n",
       "426895  0.057056  0.184227  95037  0.412096   0.380604  561720      1   \n",
       "\n",
       "        NewExist  CreateJob  RetainedJob  FranchiseCode  UrbanRural  \\\n",
       "148172   0.17067          2            2              0    0.186517   \n",
       "744579   0.17067          0            0              0    0.243731   \n",
       "321200   0.17067          0            0              1    0.070886   \n",
       "74901    0.17067         12           12              1    0.243731   \n",
       "426895   0.17067          0            1              0    0.243731   \n",
       "\n",
       "        RevLineCr    LowDoc  DisbursementGross  BalanceGross    GrAppv  \\\n",
       "148172   0.152625  0.186815            12500.0           0.0   12500.0   \n",
       "744579   0.152625  0.186815            20000.0           0.0   20000.0   \n",
       "321200   0.152625  0.089154            25000.0           0.0   25000.0   \n",
       "74901    0.251879  0.186815           985500.0           0.0  350000.0   \n",
       "426895   0.152625  0.186815            50000.0           0.0   50000.0   \n",
       "\n",
       "        SBA_Appv  MIS_Status  \n",
       "148172   10625.0           1  \n",
       "744579   10000.0           0  \n",
       "321200   20000.0           0  \n",
       "74901   175000.0           1  \n",
       "426895   25000.0           0  "
      ]
     },
     "execution_count": 103,
     "metadata": {},
     "output_type": "execute_result"
    }
   ],
   "source": [
    "# Target encoder\n",
    "import category_encoders as ce\n",
    "categorical_columns = ['City', 'State', 'Bank', 'BankState', 'RevLineCr', 'LowDoc','NewExist', 'UrbanRural']\n",
    "\n",
    "encoder = ce.TargetEncoder(cols=categorical_columns)\n",
    "encoder.fit(X_train, X_train['MIS_Status'])\n",
    "\n",
    "train_encoded = encoder.transform(X_train)\n",
    "test_encoded = encoder.transform(X_test)\n",
    "\n",
    "# Renaming the columns\n",
    "train_encoded.rename(columns={col: col + \"_trg\" if col in categorical_columns else col for col in train_encoded.columns}, inplace=False)\n",
    "test_encoded.rename(columns={col: col + \"_trg\" if col in categorical_columns else col for col in test_encoded.columns}, inplace=False)\n",
    "\n",
    "train_encoded.head()"
   ]
  },
  {
   "cell_type": "markdown",
   "metadata": {},
   "source": [
    "StandardScaler in scikit-learn is a preprocessing technique that centers and scales numerical features such that they have a mean of zero and a standard deviation of one.\n",
    "\n",
    "We will make use of the StandardScaler, which is used to transform both the training and test data in the same way, ensuring that the features have the same mean and standard deviation in both datasets.\n",
    "\n",
    "Here we will scale it on the training set and transform on both training and testing"
   ]
  },
  {
   "cell_type": "code",
   "execution_count": 104,
   "metadata": {},
   "outputs": [
    {
     "data": {
      "text/html": [
       "<div>\n",
       "<style scoped>\n",
       "    .dataframe tbody tr th:only-of-type {\n",
       "        vertical-align: middle;\n",
       "    }\n",
       "\n",
       "    .dataframe tbody tr th {\n",
       "        vertical-align: top;\n",
       "    }\n",
       "\n",
       "    .dataframe thead th {\n",
       "        text-align: right;\n",
       "    }\n",
       "</style>\n",
       "<table border=\"1\" class=\"dataframe\">\n",
       "  <thead>\n",
       "    <tr style=\"text-align: right;\">\n",
       "      <th></th>\n",
       "      <th>City</th>\n",
       "      <th>State</th>\n",
       "      <th>Zip</th>\n",
       "      <th>Bank</th>\n",
       "      <th>BankState</th>\n",
       "      <th>NAICS</th>\n",
       "      <th>NoEmp</th>\n",
       "      <th>NewExist</th>\n",
       "      <th>CreateJob</th>\n",
       "      <th>RetainedJob</th>\n",
       "      <th>FranchiseCode</th>\n",
       "      <th>UrbanRural</th>\n",
       "      <th>RevLineCr</th>\n",
       "      <th>LowDoc</th>\n",
       "      <th>DisbursementGross</th>\n",
       "      <th>BalanceGross</th>\n",
       "      <th>GrAppv</th>\n",
       "      <th>SBA_Appv</th>\n",
       "      <th>MIS_Status</th>\n",
       "    </tr>\n",
       "  </thead>\n",
       "  <tbody>\n",
       "    <tr>\n",
       "      <th>148172</th>\n",
       "      <td>0.215946</td>\n",
       "      <td>0.165802</td>\n",
       "      <td>45648</td>\n",
       "      <td>0.740692</td>\n",
       "      <td>0.217642</td>\n",
       "      <td>452990</td>\n",
       "      <td>-0.123748</td>\n",
       "      <td>0.17067</td>\n",
       "      <td>-0.026808</td>\n",
       "      <td>-0.036871</td>\n",
       "      <td>0</td>\n",
       "      <td>0.186517</td>\n",
       "      <td>0.152625</td>\n",
       "      <td>0.186815</td>\n",
       "      <td>-0.654946</td>\n",
       "      <td>-0.002095</td>\n",
       "      <td>-0.635102</td>\n",
       "      <td>-0.606817</td>\n",
       "      <td>1</td>\n",
       "    </tr>\n",
       "    <tr>\n",
       "      <th>744579</th>\n",
       "      <td>0.226933</td>\n",
       "      <td>0.165802</td>\n",
       "      <td>43240</td>\n",
       "      <td>0.133135</td>\n",
       "      <td>0.158188</td>\n",
       "      <td>445310</td>\n",
       "      <td>-0.058247</td>\n",
       "      <td>0.17067</td>\n",
       "      <td>-0.035352</td>\n",
       "      <td>-0.045405</td>\n",
       "      <td>0</td>\n",
       "      <td>0.243731</td>\n",
       "      <td>0.152625</td>\n",
       "      <td>0.186815</td>\n",
       "      <td>-0.628851</td>\n",
       "      <td>-0.002095</td>\n",
       "      <td>-0.608622</td>\n",
       "      <td>-0.609553</td>\n",
       "      <td>0</td>\n",
       "    </tr>\n",
       "    <tr>\n",
       "      <th>321200</th>\n",
       "      <td>0.252778</td>\n",
       "      <td>0.196143</td>\n",
       "      <td>21037</td>\n",
       "      <td>0.194430</td>\n",
       "      <td>0.076619</td>\n",
       "      <td>0</td>\n",
       "      <td>-0.110648</td>\n",
       "      <td>0.17067</td>\n",
       "      <td>-0.035352</td>\n",
       "      <td>-0.045405</td>\n",
       "      <td>1</td>\n",
       "      <td>0.070886</td>\n",
       "      <td>0.152625</td>\n",
       "      <td>0.089154</td>\n",
       "      <td>-0.611454</td>\n",
       "      <td>-0.002095</td>\n",
       "      <td>-0.590969</td>\n",
       "      <td>-0.565780</td>\n",
       "      <td>0</td>\n",
       "    </tr>\n",
       "    <tr>\n",
       "      <th>74901</th>\n",
       "      <td>0.275938</td>\n",
       "      <td>0.184227</td>\n",
       "      <td>90071</td>\n",
       "      <td>0.141177</td>\n",
       "      <td>0.178801</td>\n",
       "      <td>541310</td>\n",
       "      <td>0.007255</td>\n",
       "      <td>0.17067</td>\n",
       "      <td>0.015917</td>\n",
       "      <td>0.005801</td>\n",
       "      <td>1</td>\n",
       "      <td>0.243731</td>\n",
       "      <td>0.251879</td>\n",
       "      <td>0.186815</td>\n",
       "      <td>2.730474</td>\n",
       "      <td>-0.002095</td>\n",
       "      <td>0.556485</td>\n",
       "      <td>0.112702</td>\n",
       "      <td>1</td>\n",
       "    </tr>\n",
       "    <tr>\n",
       "      <th>426895</th>\n",
       "      <td>0.057056</td>\n",
       "      <td>0.184227</td>\n",
       "      <td>95037</td>\n",
       "      <td>0.412096</td>\n",
       "      <td>0.380604</td>\n",
       "      <td>561720</td>\n",
       "      <td>-0.136849</td>\n",
       "      <td>0.17067</td>\n",
       "      <td>-0.035352</td>\n",
       "      <td>-0.041138</td>\n",
       "      <td>0</td>\n",
       "      <td>0.243731</td>\n",
       "      <td>0.152625</td>\n",
       "      <td>0.186815</td>\n",
       "      <td>-0.524470</td>\n",
       "      <td>-0.002095</td>\n",
       "      <td>-0.502703</td>\n",
       "      <td>-0.543894</td>\n",
       "      <td>0</td>\n",
       "    </tr>\n",
       "  </tbody>\n",
       "</table>\n",
       "</div>"
      ],
      "text/plain": [
       "            City     State    Zip      Bank  BankState   NAICS     NoEmp  \\\n",
       "148172  0.215946  0.165802  45648  0.740692   0.217642  452990 -0.123748   \n",
       "744579  0.226933  0.165802  43240  0.133135   0.158188  445310 -0.058247   \n",
       "321200  0.252778  0.196143  21037  0.194430   0.076619       0 -0.110648   \n",
       "74901   0.275938  0.184227  90071  0.141177   0.178801  541310  0.007255   \n",
       "426895  0.057056  0.184227  95037  0.412096   0.380604  561720 -0.136849   \n",
       "\n",
       "        NewExist  CreateJob  RetainedJob  FranchiseCode  UrbanRural  \\\n",
       "148172   0.17067  -0.026808    -0.036871              0    0.186517   \n",
       "744579   0.17067  -0.035352    -0.045405              0    0.243731   \n",
       "321200   0.17067  -0.035352    -0.045405              1    0.070886   \n",
       "74901    0.17067   0.015917     0.005801              1    0.243731   \n",
       "426895   0.17067  -0.035352    -0.041138              0    0.243731   \n",
       "\n",
       "        RevLineCr    LowDoc  DisbursementGross  BalanceGross    GrAppv  \\\n",
       "148172   0.152625  0.186815          -0.654946     -0.002095 -0.635102   \n",
       "744579   0.152625  0.186815          -0.628851     -0.002095 -0.608622   \n",
       "321200   0.152625  0.089154          -0.611454     -0.002095 -0.590969   \n",
       "74901    0.251879  0.186815           2.730474     -0.002095  0.556485   \n",
       "426895   0.152625  0.186815          -0.524470     -0.002095 -0.502703   \n",
       "\n",
       "        SBA_Appv  MIS_Status  \n",
       "148172 -0.606817           1  \n",
       "744579 -0.609553           0  \n",
       "321200 -0.565780           0  \n",
       "74901   0.112702           1  \n",
       "426895 -0.543894           0  "
      ]
     },
     "execution_count": 104,
     "metadata": {},
     "output_type": "execute_result"
    }
   ],
   "source": [
    "from sklearn.preprocessing import StandardScaler\n",
    "from copy import deepcopy\n",
    "\n",
    "numerical_columns = [ 'NoEmp', 'CreateJob', 'RetainedJob', 'GrAppv', 'SBA_Appv', 'DisbursementGross', 'BalanceGross']\n",
    "scaler = StandardScaler()\n",
    "train_encoded[numerical_columns] = scaler.fit_transform(train_encoded[numerical_columns])\n",
    "test_encoded[numerical_columns] = scaler.transform(test_encoded[numerical_columns])\n",
    "\n",
    "train_encoded.head()\n"
   ]
  },
  {
   "cell_type": "markdown",
   "metadata": {},
   "source": [
    "We have created Feature extraction by making use of old variables in the following way\n",
    "\n",
    "\n",
    "(1) Log_Disbursement which gives the natural logarithmic form of DisbursementGross variable\n",
    "\n",
    "(2) Log_GrAppv the logarithmic version of the approved loan amount by the bank\n",
    "\n",
    "(3) Log_SBA_Appv, the logarithmic amount of the approved loan that will be assisted by SBA \n",
    "\n",
    "(4) Log_BalanceGross, is the logarithmic amount of total amount in an account or the total value of a financial asset or liability before any deductions or adjustments are made.\n",
    "\n",
    "(5) TotalJobs variable which is an addition of Createjobs(New people recruited) and RetainedJob (workers working before)\n",
    "\n",
    "(6) IncomeToLoan its values are calculated by dividing the 'DisbursementGross' column by the 'SBA_Appv' column for each corresponding row. This ratio can help you analyze the relationship between the amount disbursed and the approved SBA loan amount in terms of income.\n",
    "\n",
    "(7)  EmployeesToLoanRatio, its values are calculated by dividing the 'NoEmp' column (number of employees) by the 'SBA_Appv' column (approved SBA loan amount) for each corresponding row. This ratio can help you analyze the relationship between the number of employees and the size of the SBA loan approved for each entry in the dataset.\n",
    "\n",
    "(8) JobPerLoan, its values are calculated by dividing the 'TotalJobs' column (representing the total number of jobs) by the 'SBA_Appv' column (approved SBA loan amount) for each corresponding row. This ratio can help you analyze the impact of the SBA loan on job creation or support, expressed as the number of jobs per unit of loan amount approved.\n",
    "\n",
    "(9) Gauren_SBA_Appv, Its values are calculated by dividing the 'GrAppv' column (gross amount approved by the lender) by the 'SBA_Appv' column (the approved SBA loan amount) for each corresponding row. This ratio helps you analyze the extent to which the SBA is guaranteeing the loan relative to the total loan amount approved by the lender.\n",
    "\n",
    "(10) DefaultRate, Finally, we create a new feature 'DefaultRate' in the 'train_encoded' DataFrame and set its value to the calculated default rate for the particular group of loans based on the \"MIS_Status\" variable. This feature will represent the percentage of loans in the group that are classified as defaults."
   ]
  },
  {
   "cell_type": "code",
   "execution_count": 105,
   "metadata": {},
   "outputs": [],
   "source": [
    "# Adding Features\n",
    "import numpy as np\n",
    "# Apply the log transformation to the specific feature in your training data\n",
    "#small_constant = 1e-10  # You can adjust this constant as needed\n",
    "# df['LogColumn'] = np.log(df['OriginalColumn'] + small_constant)\n",
    "train_encoded['Log_DisbursementGross'] = np.log1p(train_encoded['DisbursementGross'])\n",
    "train_encoded['Log_GrAppv'] = np.log1p(train_encoded['GrAppv'])\n",
    "train_encoded['Log_SBA_Appv'] = np.log1p(train_encoded['SBA_Appv'])\n",
    "train_encoded['Log_BalanceGross'] = np.log1p(train_encoded['BalanceGross'])\n",
    "train_encoded['TotalJobs'] = train_encoded['CreateJob'] + train_encoded['RetainedJob']\n",
    "#train_encoded['Loan_Efficiency'] = train_encoded['DisbursementGross'] / (train_encoded['CreateJob'] + train_encoded['RetainedJob'] + 1)\n",
    "# Calculate 'LoanToIncomeRatio' as a ratio of 'SBA_Appv' to 'DisbursementGross'\n",
    "train_encoded['IncomeToLoanRatio'] = train_encoded['DisbursementGross'] / train_encoded['SBA_Appv']\n",
    "# Calculate 'LoanToEmployeesRatio' as a ratio of 'SBA_Appv' to 'NoEmp'\n",
    "train_encoded['EmployeesToLoanRatio'] = train_encoded['NoEmp'] / train_encoded['SBA_Appv']\n",
    "# Create a binary feature to indicate loans with a balance ('BalanceGross' > 0)\n",
    "#train_encoded['HasBalance'] = (train_encoded['BalanceGross'] > 0).astype(int)\n",
    "# Calculate 'LoanPerJob' as a ratio of 'SBA_Appv' to 'TotalJobs'\n",
    "train_encoded['JobPerLoan'] = train_encoded['TotalJobs'] / train_encoded['SBA_Appv'] \n",
    "# Calculate SBA's Gaurenteed Portion of Approved Loan\n",
    "train_encoded['Gauren_SBA_Appv'] = train_encoded['GrAppv'] / train_encoded['SBA_Appv']\n",
    "# Filter the DataFrame to include only the relevant rows\n",
    "default_group = train_encoded[train_encoded['MIS_Status'].isin([0, 1])]\n",
    "# Calculate the total number of loans in the filtered group\n",
    "total_loans = len(default_group)\n",
    "# Calculate the number of defaults (CHGOFF) in the filtered group\n",
    "default_loans = len(default_group[default_group['MIS_Status'] == 1])\n",
    "# Calculate the default rate as a percentage\n",
    "default_rate = (default_loans / total_loans) * 100\n",
    "# Create a new feature 'DefaultRate' with the calculated default rate\n",
    "train_encoded['DefaultRate'] = default_rate"
   ]
  },
  {
   "cell_type": "code",
   "execution_count": 106,
   "metadata": {},
   "outputs": [],
   "source": [
    "# Adding Features\n",
    "import numpy as np\n",
    "# Apply the log transformation to the specific feature in your training data\n",
    "#small_constant = 1e-10  # You can adjust this constant as needed\n",
    "# df['LogColumn'] = np.log(df['OriginalColumn'] + small_constant)\n",
    "test_encoded['Log_DisbursementGross'] = np.log1p(test_encoded['DisbursementGross'])\n",
    "test_encoded['Log_GrAppv'] = np.log1p(test_encoded['GrAppv'])\n",
    "test_encoded['Log_SBA_Appv'] = np.log1p(test_encoded['SBA_Appv'])\n",
    "test_encoded['Log_BalanceGross'] = np.log1p(test_encoded['BalanceGross'])\n",
    "test_encoded['TotalJobs'] = test_encoded['CreateJob'] + test_encoded['RetainedJob']\n",
    "#train_encoded['Loan_Efficiency'] = train_encoded['DisbursementGross'] / (train_encoded['CreateJob'] + train_encoded['RetainedJob'] + 1)\n",
    "# Calculate 'LoanToIncomeRatio' as a ratio of 'SBA_Appv' to 'DisbursementGross'\n",
    "test_encoded['IncomeToLoanRatio'] = test_encoded['DisbursementGross'] / test_encoded['SBA_Appv']\n",
    "# Calculate 'LoanToEmployeesRatio' as a ratio of 'SBA_Appv' to 'NoEmp'\n",
    "test_encoded['EmployeesToLoanRatio'] = test_encoded['NoEmp'] / test_encoded['SBA_Appv']\n",
    "# Create a binary feature to indicate loans with a balance ('BalanceGross' > 0)\n",
    "#train_encoded['HasBalance'] = (train_encoded['BalanceGross'] > 0).astype(int)\n",
    "# Calculate 'LoanPerJob' as a ratio of 'SBA_Appv' to 'TotalJobs'\n",
    "test_encoded['JobPerLoan'] = test_encoded['TotalJobs'] / test_encoded['SBA_Appv'] \n",
    "# Calculate SBA's Gaurenteed Portion of Approved Loan\n",
    "test_encoded['Gauren_SBA_Appv'] = test_encoded['GrAppv'] / test_encoded['SBA_Appv']\n",
    "# Filter the DataFrame to include only the relevant rows\n",
    "default_group = test_encoded[test_encoded['MIS_Status'].isin([0, 1])]\n",
    "# Calculate the total number of loans in the filtered group\n",
    "total_loans = len(default_group)\n",
    "# Calculate the number of defaults (CHGOFF) in the filtered group\n",
    "default_loans = len(default_group[default_group['MIS_Status'] == 1])\n",
    "# Calculate the default rate as a percentage\n",
    "default_rate = (default_loans / total_loans) * 100\n",
    "# Create a new feature 'DefaultRate' with the calculated default rate\n",
    "test_encoded['DefaultRate'] = default_rate"
   ]
  },
  {
   "cell_type": "code",
   "execution_count": 107,
   "metadata": {},
   "outputs": [
    {
     "data": {
      "text/plain": [
       "Index(['City', 'State', 'Zip', 'Bank', 'BankState', 'NAICS', 'NoEmp',\n",
       "       'NewExist', 'CreateJob', 'RetainedJob', 'FranchiseCode', 'UrbanRural',\n",
       "       'RevLineCr', 'LowDoc', 'DisbursementGross', 'BalanceGross', 'GrAppv',\n",
       "       'SBA_Appv', 'MIS_Status', 'Log_DisbursementGross', 'Log_GrAppv',\n",
       "       'Log_SBA_Appv', 'Log_BalanceGross', 'TotalJobs', 'IncomeToLoanRatio',\n",
       "       'EmployeesToLoanRatio', 'JobPerLoan', 'Gauren_SBA_Appv', 'DefaultRate'],\n",
       "      dtype='object')"
      ]
     },
     "execution_count": 107,
     "metadata": {},
     "output_type": "execute_result"
    }
   ],
   "source": [
    "train_encoded.columns"
   ]
  },
  {
   "cell_type": "code",
   "execution_count": 108,
   "metadata": {},
   "outputs": [],
   "source": [
    "X_train = train_encoded.copy()\n",
    "X_test = test_encoded.copy()"
   ]
  },
  {
   "cell_type": "code",
   "execution_count": 109,
   "metadata": {},
   "outputs": [],
   "source": [
    "y_train = X_train['MIS_Status']\n",
    "X_train.drop(columns='MIS_Status', axis=1, inplace=True)\n",
    "y_test = X_test['MIS_Status']\n",
    "X_test.drop(columns='MIS_Status', axis=1, inplace=True)\n"
   ]
  },
  {
   "cell_type": "code",
   "execution_count": 110,
   "metadata": {},
   "outputs": [],
   "source": [
    "import lightgbm as lgb\n",
    "from sklearn.metrics import roc_auc_score\n",
    "\n",
    "train_data = lgb.Dataset(data=X_train, label=y_train, params={\"verbose\":-1})\n",
    "test_data = lgb.Dataset(data=X_test, label=y_test, params={\"verbose\":-1})\n",
    "lgb_clf = lgb.train(params={\"verbose\":-1},\n",
    "                    train_set=train_data)"
   ]
  },
  {
   "cell_type": "code",
   "execution_count": 111,
   "metadata": {},
   "outputs": [
    {
     "name": "stdout",
     "output_type": "stream",
     "text": [
      "AUC score on Test dataset: 0.8205511277259651\n",
      "AUC score on Train dataset: 0.8468756526040521\n"
     ]
    }
   ],
   "source": [
    "from sklearn.metrics import roc_auc_score\n",
    "print(\"AUC score on Test dataset:\", roc_auc_score(y_test, lgb_clf.predict(X_test)))\n",
    "print(\"AUC score on Train dataset:\", roc_auc_score(y_train, lgb_clf.predict(X_train)))"
   ]
  },
  {
   "cell_type": "code",
   "execution_count": 112,
   "metadata": {},
   "outputs": [],
   "source": [
    "from optuna.integration import LightGBMPruningCallback\n",
    "import tqdm as notebook_tqdm\n",
    "from sklearn.model_selection import StratifiedKFold\n",
    "import lightgbm as lgb\n",
    "from sklearn.metrics import roc_auc_score\n",
    "import matplotlib.pyplot as plt\n",
    "import optuna\n",
    "import warnings\n",
    "\n",
    "warnings.filterwarnings(\"ignore\", category=UserWarning)\n",
    "study_model_iteractions = {}\n",
    "\n",
    "def objective(trial, X, y):\n",
    "    param_grid = {\n",
    "        # Refer to the Official guide : https://lightgbm.readthedocs.io/en/latest/Parameters-Tuning.html\n",
    "        \"num_iterations\": 10000,\n",
    "        \"num_threads\": 16,\n",
    "        \"learning_rate\": trial.suggest_float(\"learning_rate\", 1e-1, 0.8, log=True),\n",
    "        #\"num_leaves\": trial.suggest_int(\"num_leaves\", 50, 150, step=5),\n",
    "        \"num_leaves\": trial.suggest_int(\"num_leaves\", 20, 700, step=10),\n",
    "        #\"num_leaves\": trial.suggest_int(\"num_leaves\", 2, 2**8, step=2),\n",
    "        \"max_depth\": trial.suggest_int(\"max_depth\", 10, 17, step=2),\n",
    "        #\"max_depth\": trial.suggest_int(\"max_depth\", 3, 12),\n",
    "        \"min_data_in_leaf\": trial.suggest_int(\"min_data_in_leaf\", 100, 1000, step=100),\n",
    "        ##############################\n",
    "        'lambda_l1': trial.suggest_float('lambda_l1', 1e-1, 10.0, log=True),\n",
    "        'lambda_l2': trial.suggest_float('lambda_l2', 1e-1, 10.0, log=True),\n",
    "        #\"lambda_l1\": trial.suggest_int(\"lambda_l1\", 0, 100, step=5),\n",
    "        #\"lambda_l2\": trial.suggest_int(\"lambda_l2\", 0, 100, step=5),\n",
    "        #\"lambda_l1\": trial.suggest_float(\"lambda_l1\", 0.01, 0.1, step=0.01),\n",
    "        #\"lambda_l2\": trial.suggest_float(\"lambda_l2\", 0.01, 0.1, step=0.01),\n",
    "        ########################\n",
    "        \"bagging_fraction\": trial.suggest_float(\"bagging_fraction\", 0.8, 1.0, step=0.1),\n",
    "        \"bagging_freq\": trial.suggest_categorical(\"bagging_freq\", [5]),\n",
    "        #\"bagging_freq\": 1,\n",
    "        \"feature_fraction\": trial.suggest_float(\"feature_fraction\", 0.8, 1.0, step=0.1),\n",
    "        #######################\n",
    "        \"is_unbalance\": trial.suggest_categorical(\"is_unbalance\",[True, False]),\n",
    "        ########################\n",
    "        \"verbose\": -1,\n",
    "        \"objective\":\"binary\",\n",
    "        \"metric\":\"auc\",\n",
    "        \"num_threads\": 16\n",
    "    }\n",
    "\n",
    "    cv = StratifiedKFold(n_splits=5, shuffle=True, random_state=1121218)\n",
    "\n",
    "    cv_scores = np.empty(5)\n",
    "    cv_iteractions = np.empty(5)\n",
    "    for idx, (train_idx, test_idx) in enumerate(cv.split(X, y)):\n",
    "        X_train, X_test = X.iloc[train_idx], X.iloc[test_idx]\n",
    "        y_train, y_test = y.iloc[train_idx], y.iloc[test_idx]\n",
    "\n",
    "        train_data = lgb.Dataset(data=X_train, label=y_train, params={\"verbose\":-1}, categorical_feature=categorical_columns)\n",
    "        valid_data = lgb.Dataset(data=X_test, label=y_test, params={\"verbose\":-1}, categorical_feature=categorical_columns)\n",
    "        lgb_clf = lgb.train(params=param_grid,\n",
    "                            train_set=train_data,\n",
    "                            valid_sets=[valid_data],\n",
    "                            categorical_feature=categorical_columns,\n",
    "                            callbacks=[LightGBMPruningCallback(trial, \"auc\"),\n",
    "                                        lgb.early_stopping(stopping_rounds=5)]  \n",
    "                            )\n",
    "        preds = lgb_clf.predict(X_test)\n",
    "        cv_scores[idx] = roc_auc_score(y_test, preds)\n",
    "        cv_iteractions[idx] = lgb_clf.best_iteration\n",
    "    \n",
    "    study_model_iteractions[trial.number] = np.mean(cv_iteractions)\n",
    "\n",
    "    return np.mean(cv_scores)"
   ]
  },
  {
   "cell_type": "code",
   "execution_count": 113,
   "metadata": {},
   "outputs": [
    {
     "name": "stderr",
     "output_type": "stream",
     "text": [
      "[I 2023-12-09 17:44:10,878] A new study created in memory with name: LGBM Classifier\n",
      "[I 2023-12-09 17:44:10,967] Trial 0 finished with value: 0.5 and parameters: {'learning_rate': 0.4159422321720808, 'num_leaves': 140, 'max_depth': 16, 'min_data_in_leaf': 500, 'lambda_l1': 8.337253901605823, 'lambda_l2': 0.11599914132358986, 'bagging_fraction': 0.9, 'bagging_freq': 5, 'feature_fraction': 0.8, 'is_unbalance': True}. Best is trial 0 with value: 0.5.\n"
     ]
    },
    {
     "name": "stdout",
     "output_type": "stream",
     "text": [
      "Training until validation scores don't improve for 5 rounds\n",
      "Early stopping, best iteration is:\n",
      "[1]\tvalid_0's auc: 0.5\n",
      "Training until validation scores don't improve for 5 rounds\n",
      "Early stopping, best iteration is:\n",
      "[1]\tvalid_0's auc: 0.5\n",
      "Training until validation scores don't improve for 5 rounds\n",
      "Early stopping, best iteration is:\n",
      "[1]\tvalid_0's auc: 0.5\n",
      "Training until validation scores don't improve for 5 rounds\n",
      "Early stopping, best iteration is:\n",
      "[1]\tvalid_0's auc: 0.5\n",
      "Training until validation scores don't improve for 5 rounds\n",
      "Early stopping, best iteration is:\n",
      "[1]\tvalid_0's auc: 0.5\n",
      "Training until validation scores don't improve for 5 rounds\n",
      "Early stopping, best iteration is:\n",
      "[1]\tvalid_0's auc: 0.5\n",
      "Training until validation scores don't improve for 5 rounds\n",
      "Early stopping, best iteration is:\n",
      "[1]\tvalid_0's auc: 0.5\n",
      "Training until validation scores don't improve for 5 rounds\n",
      "Early stopping, best iteration is:\n",
      "[1]\tvalid_0's auc: 0.5\n",
      "Training until validation scores don't improve for 5 rounds\n",
      "Early stopping, best iteration is:\n",
      "[1]\tvalid_0's auc: 0.5\n",
      "Training until validation scores don't improve for 5 rounds\n",
      "Early stopping, best iteration is:\n",
      "[1]\tvalid_0's auc: 0.5\n"
     ]
    },
    {
     "name": "stderr",
     "output_type": "stream",
     "text": [
      "[I 2023-12-09 17:44:11,036] Trial 1 finished with value: 0.5 and parameters: {'learning_rate': 0.21311239488793698, 'num_leaves': 540, 'max_depth': 12, 'min_data_in_leaf': 900, 'lambda_l1': 6.715254808892487, 'lambda_l2': 4.3261788952465645, 'bagging_fraction': 0.8, 'bagging_freq': 5, 'feature_fraction': 0.8, 'is_unbalance': True}. Best is trial 0 with value: 0.5.\n"
     ]
    },
    {
     "name": "stdout",
     "output_type": "stream",
     "text": [
      "Training until validation scores don't improve for 5 rounds\n",
      "Early stopping, best iteration is:\n",
      "[1]\tvalid_0's auc: 0.5\n",
      "Training until validation scores don't improve for 5 rounds\n",
      "Early stopping, best iteration is:\n",
      "[1]\tvalid_0's auc: 0.5\n",
      "Training until validation scores don't improve for 5 rounds\n",
      "Early stopping, best iteration is:\n",
      "[1]\tvalid_0's auc: 0.5\n"
     ]
    },
    {
     "name": "stderr",
     "output_type": "stream",
     "text": [
      "[I 2023-12-09 17:44:11,108] Trial 2 finished with value: 0.5 and parameters: {'learning_rate': 0.15212876102917414, 'num_leaves': 560, 'max_depth': 14, 'min_data_in_leaf': 400, 'lambda_l1': 0.2253434068384779, 'lambda_l2': 0.3159551322281933, 'bagging_fraction': 0.9, 'bagging_freq': 5, 'feature_fraction': 0.9, 'is_unbalance': False}. Best is trial 0 with value: 0.5.\n",
      "[I 2023-12-09 17:44:11,192] Trial 3 finished with value: 0.6814861753119272 and parameters: {'learning_rate': 0.31683371060241317, 'num_leaves': 480, 'max_depth': 14, 'min_data_in_leaf': 300, 'lambda_l1': 0.1302124779062171, 'lambda_l2': 0.8594025464635453, 'bagging_fraction': 0.8, 'bagging_freq': 5, 'feature_fraction': 0.9, 'is_unbalance': True}. Best is trial 3 with value: 0.6814861753119272.\n"
     ]
    },
    {
     "name": "stdout",
     "output_type": "stream",
     "text": [
      "Training until validation scores don't improve for 5 rounds\n",
      "Early stopping, best iteration is:\n",
      "[1]\tvalid_0's auc: 0.5\n",
      "Training until validation scores don't improve for 5 rounds\n",
      "Early stopping, best iteration is:\n",
      "[1]\tvalid_0's auc: 0.5\n",
      "Training until validation scores don't improve for 5 rounds\n",
      "Early stopping, best iteration is:\n",
      "[9]\tvalid_0's auc: 0.70975\n",
      "Training until validation scores don't improve for 5 rounds\n",
      "Early stopping, best iteration is:\n",
      "[10]\tvalid_0's auc: 0.680235\n",
      "Training until validation scores don't improve for 5 rounds\n",
      "Early stopping, best iteration is:\n",
      "[1]\tvalid_0's auc: 0.66294\n",
      "Training until validation scores don't improve for 5 rounds\n",
      "Early stopping, best iteration is:\n",
      "[11]\tvalid_0's auc: 0.647188\n",
      "Training until validation scores don't improve for 5 rounds\n",
      "Early stopping, best iteration is:\n",
      "[16]\tvalid_0's auc: 0.707317\n",
      "Training until validation scores don't improve for 5 rounds\n",
      "Early stopping, best iteration is:\n",
      "[15]\tvalid_0's auc: 0.736196\n",
      "Training until validation scores don't improve for 5 rounds\n",
      "Early stopping, best iteration is:\n",
      "[7]\tvalid_0's auc: 0.680982\n",
      "Training until validation scores don't improve for 5 rounds\n",
      "Early stopping, best iteration is:\n",
      "[1]\tvalid_0's auc: 0.66294\n"
     ]
    },
    {
     "name": "stderr",
     "output_type": "stream",
     "text": [
      "[I 2023-12-09 17:44:11,277] Trial 4 finished with value: 0.6869924933911916 and parameters: {'learning_rate': 0.7002222139366404, 'num_leaves': 340, 'max_depth': 12, 'min_data_in_leaf': 300, 'lambda_l1': 2.480652597861626, 'lambda_l2': 2.589354731237948, 'bagging_fraction': 0.8, 'bagging_freq': 5, 'feature_fraction': 1.0, 'is_unbalance': True}. Best is trial 4 with value: 0.6869924933911916.\n"
     ]
    },
    {
     "name": "stdout",
     "output_type": "stream",
     "text": [
      "Training until validation scores don't improve for 5 rounds\n",
      "Early stopping, best iteration is:\n",
      "[4]\tvalid_0's auc: 0.646341\n",
      "Training until validation scores don't improve for 5 rounds\n",
      "Early stopping, best iteration is:\n",
      "[10]\tvalid_0's auc: 0.708503\n"
     ]
    },
    {
     "name": "stderr",
     "output_type": "stream",
     "text": [
      "[I 2023-12-09 17:44:11,346] Trial 5 finished with value: 0.5 and parameters: {'learning_rate': 0.2226509475139304, 'num_leaves': 520, 'max_depth': 14, 'min_data_in_leaf': 800, 'lambda_l1': 0.3489778131969122, 'lambda_l2': 2.9552732328923996, 'bagging_fraction': 1.0, 'bagging_freq': 5, 'feature_fraction': 0.8, 'is_unbalance': True}. Best is trial 4 with value: 0.6869924933911916.\n",
      "[I 2023-12-09 17:44:11,365] Trial 6 pruned. Trial was pruned at iteration 6.\n",
      "[I 2023-12-09 17:44:11,429] Trial 7 finished with value: 0.5 and parameters: {'learning_rate': 0.4062435059436535, 'num_leaves': 270, 'max_depth': 10, 'min_data_in_leaf': 400, 'lambda_l1': 2.1074126232149566, 'lambda_l2': 1.4487771320414347, 'bagging_fraction': 0.9, 'bagging_freq': 5, 'feature_fraction': 0.9, 'is_unbalance': False}. Best is trial 4 with value: 0.6869924933911916.\n"
     ]
    },
    {
     "name": "stdout",
     "output_type": "stream",
     "text": [
      "Training until validation scores don't improve for 5 rounds\n",
      "Early stopping, best iteration is:\n",
      "[1]\tvalid_0's auc: 0.5\n",
      "Training until validation scores don't improve for 5 rounds\n",
      "Early stopping, best iteration is:\n",
      "[1]\tvalid_0's auc: 0.5\n",
      "Training until validation scores don't improve for 5 rounds\n",
      "Early stopping, best iteration is:\n",
      "[1]\tvalid_0's auc: 0.5\n",
      "Training until validation scores don't improve for 5 rounds\n",
      "Early stopping, best iteration is:\n",
      "[1]\tvalid_0's auc: 0.5\n",
      "Training until validation scores don't improve for 5 rounds\n",
      "Early stopping, best iteration is:\n",
      "[1]\tvalid_0's auc: 0.5\n",
      "Training until validation scores don't improve for 5 rounds\n",
      "Training until validation scores don't improve for 5 rounds\n",
      "Early stopping, best iteration is:\n",
      "[1]\tvalid_0's auc: 0.5\n",
      "Training until validation scores don't improve for 5 rounds\n",
      "Early stopping, best iteration is:\n",
      "[1]\tvalid_0's auc: 0.5\n",
      "Training until validation scores don't improve for 5 rounds\n",
      "Early stopping, best iteration is:\n",
      "[1]\tvalid_0's auc: 0.5\n",
      "Training until validation scores don't improve for 5 rounds\n",
      "Early stopping, best iteration is:\n",
      "[1]\tvalid_0's auc: 0.5\n",
      "Training until validation scores don't improve for 5 rounds\n",
      "Early stopping, best iteration is:\n",
      "[1]\tvalid_0's auc: 0.5\n"
     ]
    },
    {
     "name": "stderr",
     "output_type": "stream",
     "text": [
      "[I 2023-12-09 17:44:11,490] Trial 8 finished with value: 0.5 and parameters: {'learning_rate': 0.46853605032991813, 'num_leaves': 430, 'max_depth': 16, 'min_data_in_leaf': 900, 'lambda_l1': 0.14343424133543964, 'lambda_l2': 3.291771859953908, 'bagging_fraction': 0.8, 'bagging_freq': 5, 'feature_fraction': 0.9, 'is_unbalance': True}. Best is trial 4 with value: 0.6869924933911916.\n"
     ]
    },
    {
     "name": "stdout",
     "output_type": "stream",
     "text": [
      "Training until validation scores don't improve for 5 rounds\n",
      "Early stopping, best iteration is:\n",
      "[1]\tvalid_0's auc: 0.5\n",
      "Training until validation scores don't improve for 5 rounds\n",
      "Early stopping, best iteration is:\n",
      "[1]\tvalid_0's auc: 0.5\n",
      "Training until validation scores don't improve for 5 rounds\n",
      "Early stopping, best iteration is:\n",
      "[1]\tvalid_0's auc: 0.5\n",
      "Training until validation scores don't improve for 5 rounds\n",
      "Early stopping, best iteration is:\n",
      "[1]\tvalid_0's auc: 0.5\n",
      "Training until validation scores don't improve for 5 rounds\n",
      "Early stopping, best iteration is:\n",
      "[1]\tvalid_0's auc: 0.5\n"
     ]
    },
    {
     "name": "stderr",
     "output_type": "stream",
     "text": [
      "[I 2023-12-09 17:44:11,548] Trial 9 finished with value: 0.5 and parameters: {'learning_rate': 0.414679055664754, 'num_leaves': 360, 'max_depth': 10, 'min_data_in_leaf': 900, 'lambda_l1': 0.3663047833680882, 'lambda_l2': 0.18686682118333403, 'bagging_fraction': 0.9, 'bagging_freq': 5, 'feature_fraction': 0.8, 'is_unbalance': True}. Best is trial 4 with value: 0.6869924933911916.\n"
     ]
    },
    {
     "name": "stdout",
     "output_type": "stream",
     "text": [
      "Training until validation scores don't improve for 5 rounds\n",
      "Early stopping, best iteration is:\n",
      "[1]\tvalid_0's auc: 0.5\n",
      "Training until validation scores don't improve for 5 rounds\n",
      "Early stopping, best iteration is:\n",
      "[1]\tvalid_0's auc: 0.5\n",
      "Training until validation scores don't improve for 5 rounds\n",
      "Early stopping, best iteration is:\n",
      "[1]\tvalid_0's auc: 0.5\n",
      "Training until validation scores don't improve for 5 rounds\n",
      "Early stopping, best iteration is:\n",
      "[1]\tvalid_0's auc: 0.5\n",
      "Training until validation scores don't improve for 5 rounds\n",
      "Early stopping, best iteration is:\n",
      "[1]\tvalid_0's auc: 0.5\n",
      "Training until validation scores don't improve for 5 rounds\n",
      "Early stopping, best iteration is:\n",
      "[3]\tvalid_0's auc: 0.752197\n",
      "Training until validation scores don't improve for 5 rounds\n"
     ]
    },
    {
     "name": "stderr",
     "output_type": "stream",
     "text": [
      "[I 2023-12-09 17:44:11,689] Trial 10 finished with value: 0.7355537772547349 and parameters: {'learning_rate': 0.7719794647824458, 'num_leaves': 80, 'max_depth': 12, 'min_data_in_leaf': 100, 'lambda_l1': 1.0036952390587046, 'lambda_l2': 9.563907496314261, 'bagging_fraction': 1.0, 'bagging_freq': 5, 'feature_fraction': 1.0, 'is_unbalance': False}. Best is trial 10 with value: 0.7355537772547349.\n"
     ]
    },
    {
     "name": "stdout",
     "output_type": "stream",
     "text": [
      "Early stopping, best iteration is:\n",
      "[24]\tvalid_0's auc: 0.743492\n",
      "Training until validation scores don't improve for 5 rounds\n",
      "Early stopping, best iteration is:\n",
      "[1]\tvalid_0's auc: 0.666328\n",
      "Training until validation scores don't improve for 5 rounds\n",
      "Early stopping, best iteration is:\n",
      "[3]\tvalid_0's auc: 0.740854\n",
      "Training until validation scores don't improve for 5 rounds\n",
      "Early stopping, best iteration is:\n",
      "[5]\tvalid_0's auc: 0.774898\n"
     ]
    },
    {
     "name": "stderr",
     "output_type": "stream",
     "text": [
      "[I 2023-12-09 17:44:11,819] Trial 11 finished with value: 0.7259360428436816 and parameters: {'learning_rate': 0.7887072149009938, 'num_leaves': 20, 'max_depth': 12, 'min_data_in_leaf': 100, 'lambda_l1': 1.1045047293076822, 'lambda_l2': 9.235773337267966, 'bagging_fraction': 1.0, 'bagging_freq': 5, 'feature_fraction': 1.0, 'is_unbalance': False}. Best is trial 10 with value: 0.7355537772547349.\n"
     ]
    },
    {
     "name": "stdout",
     "output_type": "stream",
     "text": [
      "Training until validation scores don't improve for 5 rounds\n",
      "Early stopping, best iteration is:\n",
      "[3]\tvalid_0's auc: 0.752197\n",
      "Training until validation scores don't improve for 5 rounds\n",
      "Early stopping, best iteration is:\n",
      "[15]\tvalid_0's auc: 0.734953\n",
      "Training until validation scores don't improve for 5 rounds\n",
      "Early stopping, best iteration is:\n",
      "[1]\tvalid_0's auc: 0.666328\n",
      "Training until validation scores don't improve for 5 rounds\n",
      "Early stopping, best iteration is:\n",
      "[3]\tvalid_0's auc: 0.741362\n",
      "Training until validation scores don't improve for 5 rounds\n",
      "Early stopping, best iteration is:\n",
      "[5]\tvalid_0's auc: 0.734841\n"
     ]
    },
    {
     "name": "stderr",
     "output_type": "stream",
     "text": [
      "[I 2023-12-09 17:44:11,946] Trial 12 finished with value: 0.7312341491948331 and parameters: {'learning_rate': 0.7663192939088661, 'num_leaves': 20, 'max_depth': 12, 'min_data_in_leaf': 100, 'lambda_l1': 0.8141251377776658, 'lambda_l2': 9.620654070198952, 'bagging_fraction': 1.0, 'bagging_freq': 5, 'feature_fraction': 1.0, 'is_unbalance': False}. Best is trial 10 with value: 0.7355537772547349.\n"
     ]
    },
    {
     "name": "stdout",
     "output_type": "stream",
     "text": [
      "Training until validation scores don't improve for 5 rounds\n",
      "Early stopping, best iteration is:\n",
      "[3]\tvalid_0's auc: 0.752529\n",
      "Training until validation scores don't improve for 5 rounds\n",
      "Early stopping, best iteration is:\n",
      "[14]\tvalid_0's auc: 0.731471\n",
      "Training until validation scores don't improve for 5 rounds\n",
      "Early stopping, best iteration is:\n",
      "[1]\tvalid_0's auc: 0.666328\n",
      "Training until validation scores don't improve for 5 rounds\n",
      "Early stopping, best iteration is:\n",
      "[3]\tvalid_0's auc: 0.740346\n",
      "Training until validation scores don't improve for 5 rounds\n",
      "Early stopping, best iteration is:\n",
      "[6]\tvalid_0's auc: 0.765498\n",
      "Training until validation scores don't improve for 5 rounds\n",
      "Early stopping, best iteration is:\n",
      "[7]\tvalid_0's auc: 0.76911\n",
      "Training until validation scores don't improve for 5 rounds\n",
      "Early stopping, best iteration is:\n",
      "[14]\tvalid_0's auc: 0.736528\n",
      "Training until validation scores don't improve for 5 rounds\n",
      "Early stopping, best iteration is:\n",
      "[3]\tvalid_0's auc: 0.677761\n",
      "Training until validation scores don't improve for 5 rounds\n",
      "Early stopping, best iteration is:\n",
      "[5]\tvalid_0's auc: 0.739668\n",
      "Training until validation scores don't improve for 5 rounds\n",
      "Early stopping, best iteration is:\n",
      "[5]\tvalid_0's auc: 0.745173\n"
     ]
    },
    {
     "name": "stderr",
     "output_type": "stream",
     "text": [
      "[I 2023-12-09 17:44:12,078] Trial 13 finished with value: 0.7336478330792262 and parameters: {'learning_rate': 0.6210464552321859, 'num_leaves': 20, 'max_depth': 12, 'min_data_in_leaf': 100, 'lambda_l1': 0.906367796170941, 'lambda_l2': 9.817644191246373, 'bagging_fraction': 1.0, 'bagging_freq': 5, 'feature_fraction': 1.0, 'is_unbalance': False}. Best is trial 10 with value: 0.7355537772547349.\n",
      "[I 2023-12-09 17:44:12,192] Trial 14 finished with value: 0.5 and parameters: {'learning_rate': 0.5704822253118632, 'num_leaves': 170, 'max_depth': 12, 'min_data_in_leaf': 700, 'lambda_l1': 0.7708020367235887, 'lambda_l2': 6.799491450053521, 'bagging_fraction': 1.0, 'bagging_freq': 5, 'feature_fraction': 1.0, 'is_unbalance': False}. Best is trial 10 with value: 0.7355537772547349.\n"
     ]
    },
    {
     "name": "stdout",
     "output_type": "stream",
     "text": [
      "Training until validation scores don't improve for 5 rounds\n",
      "Early stopping, best iteration is:\n",
      "[1]\tvalid_0's auc: 0.5\n",
      "Training until validation scores don't improve for 5 rounds\n",
      "Early stopping, best iteration is:\n",
      "[1]\tvalid_0's auc: 0.5\n",
      "Training until validation scores don't improve for 5 rounds\n",
      "Early stopping, best iteration is:\n",
      "[1]\tvalid_0's auc: 0.5\n",
      "Training until validation scores don't improve for 5 rounds\n",
      "Early stopping, best iteration is:\n",
      "[1]\tvalid_0's auc: 0.5\n",
      "Training until validation scores don't improve for 5 rounds\n",
      "Early stopping, best iteration is:\n",
      "[1]\tvalid_0's auc: 0.5\n"
     ]
    },
    {
     "name": "stderr",
     "output_type": "stream",
     "text": [
      "[I 2023-12-09 17:44:12,317] Trial 15 finished with value: 0.5 and parameters: {'learning_rate': 0.569886513680436, 'num_leaves': 120, 'max_depth': 14, 'min_data_in_leaf': 600, 'lambda_l1': 1.2789460162063218, 'lambda_l2': 5.6426073551464855, 'bagging_fraction': 1.0, 'bagging_freq': 5, 'feature_fraction': 1.0, 'is_unbalance': False}. Best is trial 10 with value: 0.7355537772547349.\n"
     ]
    },
    {
     "name": "stdout",
     "output_type": "stream",
     "text": [
      "Training until validation scores don't improve for 5 rounds\n",
      "Early stopping, best iteration is:\n",
      "[1]\tvalid_0's auc: 0.5\n",
      "Training until validation scores don't improve for 5 rounds\n",
      "Early stopping, best iteration is:\n",
      "[1]\tvalid_0's auc: 0.5\n",
      "Training until validation scores don't improve for 5 rounds\n",
      "Early stopping, best iteration is:\n",
      "[1]\tvalid_0's auc: 0.5\n",
      "Training until validation scores don't improve for 5 rounds\n",
      "Early stopping, best iteration is:\n",
      "[1]\tvalid_0's auc: 0.5\n",
      "Training until validation scores don't improve for 5 rounds\n",
      "Early stopping, best iteration is:\n",
      "[1]\tvalid_0's auc: 0.5\n",
      "Training until validation scores don't improve for 5 rounds\n",
      "Early stopping, best iteration is:\n",
      "[19]\tvalid_0's auc: 0.781462\n",
      "Training until validation scores don't improve for 5 rounds\n",
      "Early stopping, best iteration is:\n",
      "[5]\tvalid_0's auc: 0.71945\n",
      "Training until validation scores don't improve for 5 rounds\n",
      "Early stopping, best iteration is:\n",
      "[1]\tvalid_0's auc: 0.666328\n",
      "Training until validation scores don't improve for 5 rounds\n",
      "Early stopping, best iteration is:\n",
      "[4]\tvalid_0's auc: 0.748391\n"
     ]
    },
    {
     "name": "stderr",
     "output_type": "stream",
     "text": [
      "[I 2023-12-09 17:44:12,470] Trial 16 finished with value: 0.739901225668284 and parameters: {'learning_rate': 0.5819005053029925, 'num_leaves': 240, 'max_depth': 10, 'min_data_in_leaf': 100, 'lambda_l1': 0.547264854880957, 'lambda_l2': 5.190049843701457, 'bagging_fraction': 1.0, 'bagging_freq': 5, 'feature_fraction': 1.0, 'is_unbalance': False}. Best is trial 16 with value: 0.739901225668284.\n",
      "[I 2023-12-09 17:44:12,536] Trial 17 pruned. Trial was pruned at iteration 6.\n"
     ]
    },
    {
     "name": "stdout",
     "output_type": "stream",
     "text": [
      "Training until validation scores don't improve for 5 rounds\n",
      "Early stopping, best iteration is:\n",
      "[5]\tvalid_0's auc: 0.783875\n",
      "Training until validation scores don't improve for 5 rounds\n",
      "Training until validation scores don't improve for 5 rounds\n"
     ]
    },
    {
     "name": "stderr",
     "output_type": "stream",
     "text": [
      "[I 2023-12-09 17:44:12,602] Trial 18 pruned. Trial was pruned at iteration 6.\n",
      "[I 2023-12-09 17:44:12,670] Trial 19 pruned. Trial was pruned at iteration 6.\n",
      "[I 2023-12-09 17:44:12,781] Trial 20 finished with value: 0.5 and parameters: {'learning_rate': 0.5009264641864816, 'num_leaves': 250, 'max_depth': 10, 'min_data_in_leaf': 500, 'lambda_l1': 0.23889688824179592, 'lambda_l2': 6.959208083277091, 'bagging_fraction': 0.9, 'bagging_freq': 5, 'feature_fraction': 1.0, 'is_unbalance': False}. Best is trial 16 with value: 0.739901225668284.\n"
     ]
    },
    {
     "name": "stdout",
     "output_type": "stream",
     "text": [
      "Training until validation scores don't improve for 5 rounds\n",
      "Training until validation scores don't improve for 5 rounds\n",
      "Early stopping, best iteration is:\n",
      "[1]\tvalid_0's auc: 0.5\n",
      "Training until validation scores don't improve for 5 rounds\n",
      "Early stopping, best iteration is:\n",
      "[1]\tvalid_0's auc: 0.5\n",
      "Training until validation scores don't improve for 5 rounds\n",
      "Early stopping, best iteration is:\n",
      "[1]\tvalid_0's auc: 0.5\n",
      "Training until validation scores don't improve for 5 rounds\n",
      "Early stopping, best iteration is:\n",
      "[1]\tvalid_0's auc: 0.5\n",
      "Training until validation scores don't improve for 5 rounds\n",
      "Early stopping, best iteration is:\n",
      "[1]\tvalid_0's auc: 0.5\n",
      "Training until validation scores don't improve for 5 rounds\n",
      "Early stopping, best iteration is:\n",
      "[14]\tvalid_0's auc: 0.774581\n",
      "Training until validation scores don't improve for 5 rounds\n"
     ]
    },
    {
     "name": "stderr",
     "output_type": "stream",
     "text": [
      "[I 2023-12-09 17:44:12,926] Trial 21 finished with value: 0.7333231639914641 and parameters: {'learning_rate': 0.6475121255800639, 'num_leaves': 70, 'max_depth': 12, 'min_data_in_leaf': 100, 'lambda_l1': 0.7488018382660132, 'lambda_l2': 9.65455085824745, 'bagging_fraction': 1.0, 'bagging_freq': 5, 'feature_fraction': 1.0, 'is_unbalance': False}. Best is trial 16 with value: 0.739901225668284.\n"
     ]
    },
    {
     "name": "stdout",
     "output_type": "stream",
     "text": [
      "Early stopping, best iteration is:\n",
      "[7]\tvalid_0's auc: 0.731719\n",
      "Training until validation scores don't improve for 5 rounds\n",
      "Early stopping, best iteration is:\n",
      "[3]\tvalid_0's auc: 0.674373\n",
      "Training until validation scores don't improve for 5 rounds\n",
      "Early stopping, best iteration is:\n",
      "[4]\tvalid_0's auc: 0.739499\n",
      "Training until validation scores don't improve for 5 rounds\n",
      "Early stopping, best iteration is:\n",
      "[2]\tvalid_0's auc: 0.746443\n",
      "Training until validation scores don't improve for 5 rounds\n",
      "Early stopping, best iteration is:\n",
      "[8]\tvalid_0's auc: 0.763223\n",
      "Training until validation scores don't improve for 5 rounds\n",
      "Early stopping, best iteration is:\n",
      "[13]\tvalid_0's auc: 0.735782\n",
      "Training until validation scores don't improve for 5 rounds\n",
      "Early stopping, best iteration is:\n",
      "[2]\tvalid_0's auc: 0.667514\n",
      "Training until validation scores don't improve for 5 rounds\n",
      "Early stopping, best iteration is:\n",
      "[3]\tvalid_0's auc: 0.765075\n"
     ]
    },
    {
     "name": "stderr",
     "output_type": "stream",
     "text": [
      "[I 2023-12-09 17:44:13,084] Trial 22 finished with value: 0.7364541445530521 and parameters: {'learning_rate': 0.6501922737665328, 'num_leaves': 190, 'max_depth': 12, 'min_data_in_leaf': 100, 'lambda_l1': 1.4250327557052107, 'lambda_l2': 6.541220174308849, 'bagging_fraction': 1.0, 'bagging_freq': 5, 'feature_fraction': 1.0, 'is_unbalance': False}. Best is trial 16 with value: 0.739901225668284.\n",
      "[I 2023-12-09 17:44:13,158] Trial 23 pruned. Trial was pruned at iteration 6.\n"
     ]
    },
    {
     "name": "stdout",
     "output_type": "stream",
     "text": [
      "Training until validation scores don't improve for 5 rounds\n",
      "Early stopping, best iteration is:\n",
      "[3]\tvalid_0's auc: 0.750678\n",
      "Training until validation scores don't improve for 5 rounds\n",
      "Training until validation scores don't improve for 5 rounds\n",
      "Early stopping, best iteration is:\n",
      "[6]\tvalid_0's auc: 0.767617\n",
      "Training until validation scores don't improve for 5 rounds\n",
      "Early stopping, best iteration is:\n",
      "[12]\tvalid_0's auc: 0.733378\n",
      "Training until validation scores don't improve for 5 rounds\n",
      "Early stopping, best iteration is:\n",
      "[3]\tvalid_0's auc: 0.677761\n",
      "Training until validation scores don't improve for 5 rounds\n",
      "Early stopping, best iteration is:\n",
      "[5]\tvalid_0's auc: 0.730098\n"
     ]
    },
    {
     "name": "stderr",
     "output_type": "stream",
     "text": [
      "[I 2023-12-09 17:44:13,309] Trial 24 finished with value: 0.7366318988073814 and parameters: {'learning_rate': 0.5052768929420225, 'num_leaves': 320, 'max_depth': 14, 'min_data_in_leaf': 100, 'lambda_l1': 1.6285256050574428, 'lambda_l2': 3.787959348602084, 'bagging_fraction': 1.0, 'bagging_freq': 5, 'feature_fraction': 1.0, 'is_unbalance': False}. Best is trial 16 with value: 0.739901225668284.\n",
      "[I 2023-12-09 17:44:13,376] Trial 25 pruned. Trial was pruned at iteration 0.\n",
      "[I 2023-12-09 17:44:13,446] Trial 26 pruned. Trial was pruned at iteration 6.\n"
     ]
    },
    {
     "name": "stdout",
     "output_type": "stream",
     "text": [
      "Training until validation scores don't improve for 5 rounds\n",
      "Early stopping, best iteration is:\n",
      "[11]\tvalid_0's auc: 0.774306\n",
      "Training until validation scores don't improve for 5 rounds\n"
     ]
    },
    {
     "name": "stderr",
     "output_type": "stream",
     "text": [
      "[I 2023-12-09 17:44:13,517] Trial 27 pruned. Trial was pruned at iteration 6.\n",
      "[I 2023-12-09 17:44:13,584] Trial 28 pruned. Trial was pruned at iteration 0.\n",
      "[I 2023-12-09 17:44:13,648] Trial 29 pruned. Trial was pruned at iteration 0.\n"
     ]
    },
    {
     "name": "stdout",
     "output_type": "stream",
     "text": [
      "Training until validation scores don't improve for 5 rounds\n"
     ]
    },
    {
     "name": "stderr",
     "output_type": "stream",
     "text": [
      "[I 2023-12-09 17:44:13,806] Trial 30 finished with value: 0.7334126716122078 and parameters: {'learning_rate': 0.4861131368384128, 'num_leaves': 410, 'max_depth': 16, 'min_data_in_leaf': 100, 'lambda_l1': 0.6245474370417692, 'lambda_l2': 4.674559857777926, 'bagging_fraction': 0.9, 'bagging_freq': 5, 'feature_fraction': 1.0, 'is_unbalance': False}. Best is trial 16 with value: 0.739901225668284.\n"
     ]
    },
    {
     "name": "stdout",
     "output_type": "stream",
     "text": [
      "Training until validation scores don't improve for 5 rounds\n",
      "Early stopping, best iteration is:\n",
      "[6]\tvalid_0's auc: 0.762726\n",
      "Training until validation scores don't improve for 5 rounds\n",
      "Early stopping, best iteration is:\n",
      "[12]\tvalid_0's auc: 0.738518\n",
      "Training until validation scores don't improve for 5 rounds\n",
      "Early stopping, best iteration is:\n",
      "[1]\tvalid_0's auc: 0.666328\n",
      "Training until validation scores don't improve for 5 rounds\n",
      "Early stopping, best iteration is:\n",
      "[5]\tvalid_0's auc: 0.749492\n",
      "Training until validation scores don't improve for 5 rounds\n",
      "Early stopping, best iteration is:\n",
      "[6]\tvalid_0's auc: 0.75\n",
      "Training until validation scores don't improve for 5 rounds\n",
      "Early stopping, best iteration is:\n",
      "[11]\tvalid_0's auc: 0.761151\n",
      "Training until validation scores don't improve for 5 rounds\n",
      "Early stopping, best iteration is:\n",
      "[12]\tvalid_0's auc: 0.738352\n",
      "Training until validation scores don't improve for 5 rounds\n",
      "Early stopping, best iteration is:\n",
      "[1]\tvalid_0's auc: 0.666328\n"
     ]
    },
    {
     "name": "stderr",
     "output_type": "stream",
     "text": [
      "[I 2023-12-09 17:44:13,961] Trial 31 finished with value: 0.7299140641464449 and parameters: {'learning_rate': 0.6858810628364994, 'num_leaves': 210, 'max_depth': 12, 'min_data_in_leaf': 100, 'lambda_l1': 1.047751210612493, 'lambda_l2': 7.128180373189481, 'bagging_fraction': 1.0, 'bagging_freq': 5, 'feature_fraction': 1.0, 'is_unbalance': False}. Best is trial 16 with value: 0.739901225668284.\n",
      "[I 2023-12-09 17:44:14,030] Trial 32 pruned. Trial was pruned at iteration 1.\n"
     ]
    },
    {
     "name": "stdout",
     "output_type": "stream",
     "text": [
      "Training until validation scores don't improve for 5 rounds\n",
      "Early stopping, best iteration is:\n",
      "[3]\tvalid_0's auc: 0.739837\n",
      "Training until validation scores don't improve for 5 rounds\n",
      "Early stopping, best iteration is:\n",
      "[9]\tvalid_0's auc: 0.743902\n",
      "Training until validation scores don't improve for 5 rounds\n",
      "Training until validation scores don't improve for 5 rounds\n",
      "Early stopping, best iteration is:\n",
      "[11]\tvalid_0's auc: 0.773338\n",
      "Training until validation scores don't improve for 5 rounds\n",
      "Early stopping, best iteration is:\n",
      "[6]\tvalid_0's auc: 0.729481\n",
      "Training until validation scores don't improve for 5 rounds\n",
      "Early stopping, best iteration is:\n",
      "[1]\tvalid_0's auc: 0.666328\n",
      "Training until validation scores don't improve for 5 rounds\n"
     ]
    },
    {
     "name": "stderr",
     "output_type": "stream",
     "text": [
      "[I 2023-12-09 17:44:14,172] Trial 33 finished with value: 0.7386904477049248 and parameters: {'learning_rate': 0.7163072041419677, 'num_leaves': 130, 'max_depth': 14, 'min_data_in_leaf': 100, 'lambda_l1': 1.7581941949899205, 'lambda_l2': 5.218596024020236, 'bagging_fraction': 1.0, 'bagging_freq': 5, 'feature_fraction': 1.0, 'is_unbalance': False}. Best is trial 16 with value: 0.739901225668284.\n",
      "[I 2023-12-09 17:44:14,242] Trial 34 pruned. Trial was pruned at iteration 0.\n",
      "[I 2023-12-09 17:44:14,312] Trial 35 pruned. Trial was pruned at iteration 1.\n"
     ]
    },
    {
     "name": "stdout",
     "output_type": "stream",
     "text": [
      "Early stopping, best iteration is:\n",
      "[3]\tvalid_0's auc: 0.740176\n",
      "Training until validation scores don't improve for 5 rounds\n",
      "Early stopping, best iteration is:\n",
      "[5]\tvalid_0's auc: 0.784129\n",
      "Training until validation scores don't improve for 5 rounds\n"
     ]
    },
    {
     "name": "stderr",
     "output_type": "stream",
     "text": [
      "[I 2023-12-09 17:44:14,459] Trial 36 finished with value: 0.7376465665875362 and parameters: {'learning_rate': 0.37075100875069733, 'num_leaves': 170, 'max_depth': 14, 'min_data_in_leaf': 100, 'lambda_l1': 2.1832392719318756, 'lambda_l2': 5.139253881387242, 'bagging_fraction': 1.0, 'bagging_freq': 5, 'feature_fraction': 0.9, 'is_unbalance': True}. Best is trial 16 with value: 0.739901225668284.\n",
      "[I 2023-12-09 17:44:14,530] Trial 37 pruned. Trial was pruned at iteration 0.\n"
     ]
    },
    {
     "name": "stdout",
     "output_type": "stream",
     "text": [
      "Training until validation scores don't improve for 5 rounds\n",
      "Early stopping, best iteration is:\n",
      "[7]\tvalid_0's auc: 0.764218\n",
      "Training until validation scores don't improve for 5 rounds\n",
      "Early stopping, best iteration is:\n",
      "[4]\tvalid_0's auc: 0.725336\n",
      "Training until validation scores don't improve for 5 rounds\n",
      "Early stopping, best iteration is:\n",
      "[3]\tvalid_0's auc: 0.697663\n",
      "Training until validation scores don't improve for 5 rounds\n",
      "Early stopping, best iteration is:\n",
      "[6]\tvalid_0's auc: 0.740261\n",
      "Training until validation scores don't improve for 5 rounds\n",
      "Early stopping, best iteration is:\n",
      "[4]\tvalid_0's auc: 0.760755\n"
     ]
    },
    {
     "name": "stderr",
     "output_type": "stream",
     "text": [
      "[I 2023-12-09 17:44:14,601] Trial 38 pruned. Trial was pruned at iteration 0.\n",
      "[I 2023-12-09 17:44:14,677] Trial 39 pruned. Trial was pruned at iteration 0.\n",
      "[I 2023-12-09 17:44:14,746] Trial 40 pruned. Trial was pruned at iteration 0.\n",
      "[I 2023-12-09 17:44:14,898] Trial 41 finished with value: 0.7398238448683608 and parameters: {'learning_rate': 0.4451849234235784, 'num_leaves': 190, 'max_depth': 14, 'min_data_in_leaf': 100, 'lambda_l1': 1.5043041932809351, 'lambda_l2': 5.1114482555385345, 'bagging_fraction': 1.0, 'bagging_freq': 5, 'feature_fraction': 0.8, 'is_unbalance': True}. Best is trial 16 with value: 0.739901225668284.\n"
     ]
    },
    {
     "name": "stdout",
     "output_type": "stream",
     "text": [
      "Training until validation scores don't improve for 5 rounds\n",
      "Early stopping, best iteration is:\n",
      "[6]\tvalid_0's auc: 0.767452\n",
      "Training until validation scores don't improve for 5 rounds\n",
      "Early stopping, best iteration is:\n",
      "[2]\tvalid_0's auc: 0.735699\n",
      "Training until validation scores don't improve for 5 rounds\n",
      "Early stopping, best iteration is:\n",
      "[2]\tvalid_0's auc: 0.713923\n",
      "Training until validation scores don't improve for 5 rounds\n",
      "Early stopping, best iteration is:\n",
      "[11]\tvalid_0's auc: 0.740176\n",
      "Training until validation scores don't improve for 5 rounds\n",
      "Early stopping, best iteration is:\n",
      "[10]\tvalid_0's auc: 0.74187\n",
      "Training until validation scores don't improve for 5 rounds\n",
      "Early stopping, best iteration is:\n",
      "[26]\tvalid_0's auc: 0.787929\n",
      "Training until validation scores don't improve for 5 rounds\n",
      "Early stopping, best iteration is:\n",
      "[2]\tvalid_0's auc: 0.735699\n",
      "Training until validation scores don't improve for 5 rounds\n",
      "Early stopping, best iteration is:\n",
      "[2]\tvalid_0's auc: 0.692497\n"
     ]
    },
    {
     "name": "stderr",
     "output_type": "stream",
     "text": [
      "[I 2023-12-09 17:44:15,052] Trial 42 finished with value: 0.7477133893582345 and parameters: {'learning_rate': 0.4425093600694926, 'num_leaves': 130, 'max_depth': 14, 'min_data_in_leaf': 100, 'lambda_l1': 2.513172318325588, 'lambda_l2': 5.008801583469864, 'bagging_fraction': 1.0, 'bagging_freq': 5, 'feature_fraction': 0.8, 'is_unbalance': True}. Best is trial 42 with value: 0.7477133893582345.\n",
      "[I 2023-12-09 17:44:15,126] Trial 43 pruned. Trial was pruned at iteration 0.\n"
     ]
    },
    {
     "name": "stdout",
     "output_type": "stream",
     "text": [
      "Training until validation scores don't improve for 5 rounds\n",
      "Early stopping, best iteration is:\n",
      "[7]\tvalid_0's auc: 0.739499\n",
      "Training until validation scores don't improve for 5 rounds\n",
      "Early stopping, best iteration is:\n",
      "[14]\tvalid_0's auc: 0.782944\n",
      "Training until validation scores don't improve for 5 rounds\n",
      "Early stopping, best iteration is:\n",
      "[6]\tvalid_0's auc: 0.758995\n",
      "Training until validation scores don't improve for 5 rounds\n"
     ]
    },
    {
     "name": "stderr",
     "output_type": "stream",
     "text": [
      "[I 2023-12-09 17:44:15,286] Trial 44 pruned. Trial was pruned at iteration 21.\n",
      "[I 2023-12-09 17:44:15,360] Trial 45 pruned. Trial was pruned at iteration 0.\n"
     ]
    },
    {
     "name": "stdout",
     "output_type": "stream",
     "text": [
      "Early stopping, best iteration is:\n",
      "[13]\tvalid_0's auc: 0.734372\n",
      "Training until validation scores don't improve for 5 rounds\n",
      "Early stopping, best iteration is:\n",
      "[8]\tvalid_0's auc: 0.693682\n",
      "Training until validation scores don't improve for 5 rounds\n",
      "Training until validation scores don't improve for 5 rounds\n",
      "Early stopping, best iteration is:\n",
      "[6]\tvalid_0's auc: 0.765462\n"
     ]
    },
    {
     "name": "stderr",
     "output_type": "stream",
     "text": [
      "[I 2023-12-09 17:44:15,505] Trial 46 finished with value: 0.7379968991511336 and parameters: {'learning_rate': 0.40921651662206593, 'num_leaves': 60, 'max_depth': 14, 'min_data_in_leaf': 100, 'lambda_l1': 2.056834759554089, 'lambda_l2': 7.733840877742786, 'bagging_fraction': 1.0, 'bagging_freq': 5, 'feature_fraction': 0.8, 'is_unbalance': True}. Best is trial 42 with value: 0.7477133893582345.\n",
      "[I 2023-12-09 17:44:15,579] Trial 47 pruned. Trial was pruned at iteration 0.\n",
      "[I 2023-12-09 17:44:15,651] Trial 48 pruned. Trial was pruned at iteration 2.\n"
     ]
    },
    {
     "name": "stdout",
     "output_type": "stream",
     "text": [
      "Training until validation scores don't improve for 5 rounds\n",
      "Early stopping, best iteration is:\n",
      "[2]\tvalid_0's auc: 0.733212\n",
      "Training until validation scores don't improve for 5 rounds\n",
      "Early stopping, best iteration is:\n",
      "[1]\tvalid_0's auc: 0.689024\n",
      "Training until validation scores don't improve for 5 rounds\n",
      "Early stopping, best iteration is:\n",
      "[1]\tvalid_0's auc: 0.740515\n",
      "Training until validation scores don't improve for 5 rounds\n",
      "Early stopping, best iteration is:\n",
      "[7]\tvalid_0's auc: 0.761772\n",
      "Training until validation scores don't improve for 5 rounds\n"
     ]
    },
    {
     "name": "stderr",
     "output_type": "stream",
     "text": [
      "[I 2023-12-09 17:44:15,800] Trial 49 finished with value: 0.7466946493478366 and parameters: {'learning_rate': 0.5445848740540677, 'num_leaves': 50, 'max_depth': 14, 'min_data_in_leaf': 100, 'lambda_l1': 1.148682702448289, 'lambda_l2': 6.069790851636736, 'bagging_fraction': 0.9, 'bagging_freq': 5, 'feature_fraction': 0.8, 'is_unbalance': True}. Best is trial 42 with value: 0.7477133893582345.\n",
      "[I 2023-12-09 17:44:15,873] Trial 50 pruned. Trial was pruned at iteration 0.\n"
     ]
    },
    {
     "name": "stdout",
     "output_type": "stream",
     "text": [
      "Training until validation scores don't improve for 5 rounds\n",
      "Early stopping, best iteration is:\n",
      "[8]\tvalid_0's auc: 0.764301\n",
      "Training until validation scores don't improve for 5 rounds\n",
      "Early stopping, best iteration is:\n",
      "[3]\tvalid_0's auc: 0.744155\n",
      "Training until validation scores don't improve for 5 rounds\n",
      "Early stopping, best iteration is:\n",
      "[3]\tvalid_0's auc: 0.706301\n",
      "Training until validation scores don't improve for 5 rounds\n",
      "Early stopping, best iteration is:\n",
      "[2]\tvalid_0's auc: 0.73501\n",
      "Training until validation scores don't improve for 5 rounds\n",
      "Early stopping, best iteration is:\n",
      "[11]\tvalid_0's auc: 0.783706\n",
      "Training until validation scores don't improve for 5 rounds\n"
     ]
    },
    {
     "name": "stderr",
     "output_type": "stream",
     "text": [
      "[I 2023-12-09 17:44:16,026] Trial 51 finished with value: 0.7482355953140034 and parameters: {'learning_rate': 0.5843524193491376, 'num_leaves': 40, 'max_depth': 14, 'min_data_in_leaf': 100, 'lambda_l1': 1.8351723186376971, 'lambda_l2': 8.250802832048926, 'bagging_fraction': 0.9, 'bagging_freq': 5, 'feature_fraction': 0.8, 'is_unbalance': True}. Best is trial 51 with value: 0.7482355953140034.\n"
     ]
    },
    {
     "name": "stdout",
     "output_type": "stream",
     "text": [
      "Early stopping, best iteration is:\n",
      "[10]\tvalid_0's auc: 0.772592\n",
      "Training until validation scores don't improve for 5 rounds\n",
      "Early stopping, best iteration is:\n",
      "[4]\tvalid_0's auc: 0.759576\n",
      "Training until validation scores don't improve for 5 rounds\n",
      "Early stopping, best iteration is:\n",
      "[3]\tvalid_0's auc: 0.704946\n",
      "Training until validation scores don't improve for 5 rounds\n",
      "Early stopping, best iteration is:\n",
      "[2]\tvalid_0's auc: 0.73501\n",
      "Training until validation scores don't improve for 5 rounds\n",
      "Early stopping, best iteration is:\n",
      "[11]\tvalid_0's auc: 0.769055\n",
      "Training until validation scores don't improve for 5 rounds\n",
      "Early stopping, best iteration is:\n",
      "[9]\tvalid_0's auc: 0.783618\n",
      "Training until validation scores don't improve for 5 rounds\n",
      "Early stopping, best iteration is:\n",
      "[4]\tvalid_0's auc: 0.759327\n",
      "Training until validation scores don't improve for 5 rounds\n",
      "Early stopping, best iteration is:\n",
      "[3]\tvalid_0's auc: 0.701643\n",
      "Training until validation scores don't improve for 5 rounds\n"
     ]
    },
    {
     "name": "stderr",
     "output_type": "stream",
     "text": [
      "[I 2023-12-09 17:44:16,176] Trial 52 finished with value: 0.7504927510931552 and parameters: {'learning_rate': 0.6066867993218098, 'num_leaves': 50, 'max_depth': 14, 'min_data_in_leaf': 100, 'lambda_l1': 1.7813651180884682, 'lambda_l2': 5.85802527481579, 'bagging_fraction': 0.9, 'bagging_freq': 5, 'feature_fraction': 0.8, 'is_unbalance': True}. Best is trial 52 with value: 0.7504927510931552.\n",
      "[I 2023-12-09 17:44:16,252] Trial 53 pruned. Trial was pruned at iteration 0.\n"
     ]
    },
    {
     "name": "stdout",
     "output_type": "stream",
     "text": [
      "Early stopping, best iteration is:\n",
      "[2]\tvalid_0's auc: 0.739075\n",
      "Training until validation scores don't improve for 5 rounds\n",
      "Early stopping, best iteration is:\n",
      "[9]\tvalid_0's auc: 0.768801\n",
      "Training until validation scores don't improve for 5 rounds\n",
      "Early stopping, best iteration is:\n",
      "[6]\tvalid_0's auc: 0.767866\n",
      "Training until validation scores don't improve for 5 rounds\n",
      "Early stopping, best iteration is:\n",
      "[3]\tvalid_0's auc: 0.741917\n",
      "Training until validation scores don't improve for 5 rounds\n",
      "Early stopping, best iteration is:\n",
      "[3]\tvalid_0's auc: 0.706301\n"
     ]
    },
    {
     "name": "stderr",
     "output_type": "stream",
     "text": [
      "[I 2023-12-09 17:44:16,400] Trial 54 finished with value: 0.7456049317685185 and parameters: {'learning_rate': 0.5267357378588182, 'num_leaves': 90, 'max_depth': 14, 'min_data_in_leaf': 100, 'lambda_l1': 0.8837273936689778, 'lambda_l2': 6.055498723438691, 'bagging_fraction': 0.9, 'bagging_freq': 5, 'feature_fraction': 0.8, 'is_unbalance': True}. Best is trial 52 with value: 0.7504927510931552.\n",
      "[I 2023-12-09 17:44:16,544] Trial 55 finished with value: 0.7465209925996623 and parameters: {'learning_rate': 0.5258650476189397, 'num_leaves': 30, 'max_depth': 14, 'min_data_in_leaf': 100, 'lambda_l1': 0.8232959951445572, 'lambda_l2': 6.303123051697338, 'bagging_fraction': 0.9, 'bagging_freq': 5, 'feature_fraction': 0.8, 'is_unbalance': True}. Best is trial 52 with value: 0.7504927510931552.\n"
     ]
    },
    {
     "name": "stdout",
     "output_type": "stream",
     "text": [
      "Training until validation scores don't improve for 5 rounds\n",
      "Early stopping, best iteration is:\n",
      "[1]\tvalid_0's auc: 0.742039\n",
      "Training until validation scores don't improve for 5 rounds\n",
      "Early stopping, best iteration is:\n",
      "[10]\tvalid_0's auc: 0.769902\n",
      "Training until validation scores don't improve for 5 rounds\n",
      "Early stopping, best iteration is:\n",
      "[6]\tvalid_0's auc: 0.767534\n",
      "Training until validation scores don't improve for 5 rounds\n",
      "Early stopping, best iteration is:\n",
      "[3]\tvalid_0's auc: 0.741917\n",
      "Training until validation scores don't improve for 5 rounds\n",
      "Early stopping, best iteration is:\n",
      "[3]\tvalid_0's auc: 0.706301\n",
      "Training until validation scores don't improve for 5 rounds\n",
      "Early stopping, best iteration is:\n",
      "[2]\tvalid_0's auc: 0.73501\n",
      "Training until validation scores don't improve for 5 rounds\n",
      "Early stopping, best iteration is:\n",
      "[11]\tvalid_0's auc: 0.781843\n"
     ]
    },
    {
     "name": "stderr",
     "output_type": "stream",
     "text": [
      "[I 2023-12-09 17:44:16,707] Trial 56 finished with value: 0.7433620259867828 and parameters: {'learning_rate': 0.5080309719998684, 'num_leaves': 20, 'max_depth': 14, 'min_data_in_leaf': 100, 'lambda_l1': 0.8972526241692219, 'lambda_l2': 5.924233955063523, 'bagging_fraction': 0.9, 'bagging_freq': 5, 'feature_fraction': 0.8, 'is_unbalance': True}. Best is trial 52 with value: 0.7504927510931552.\n",
      "[I 2023-12-09 17:44:16,782] Trial 57 pruned. Trial was pruned at iteration 0.\n"
     ]
    },
    {
     "name": "stdout",
     "output_type": "stream",
     "text": [
      "Training until validation scores don't improve for 5 rounds\n",
      "Early stopping, best iteration is:\n",
      "[16]\tvalid_0's auc: 0.770187\n",
      "Training until validation scores don't improve for 5 rounds\n",
      "Early stopping, best iteration is:\n",
      "[3]\tvalid_0's auc: 0.741254\n",
      "Training until validation scores don't improve for 5 rounds\n",
      "Early stopping, best iteration is:\n",
      "[4]\tvalid_0's auc: 0.692327\n",
      "Training until validation scores don't improve for 5 rounds\n",
      "Early stopping, best iteration is:\n",
      "[1]\tvalid_0's auc: 0.742039\n",
      "Training until validation scores don't improve for 5 rounds\n",
      "Early stopping, best iteration is:\n",
      "[11]\tvalid_0's auc: 0.771003\n"
     ]
    },
    {
     "name": "stderr",
     "output_type": "stream",
     "text": [
      "[I 2023-12-09 17:44:16,859] Trial 58 pruned. Trial was pruned at iteration 0.\n",
      "[I 2023-12-09 17:44:16,947] Trial 59 pruned. Trial was pruned at iteration 0.\n",
      "[I 2023-12-09 17:44:17,023] Trial 60 pruned. Trial was pruned at iteration 0.\n",
      "[I 2023-12-09 17:44:17,097] Trial 61 pruned. Trial was pruned at iteration 6.\n",
      "[I 2023-12-09 17:44:17,248] Trial 62 finished with value: 0.7463466056584791 and parameters: {'learning_rate': 0.4762242465887192, 'num_leaves': 20, 'max_depth': 14, 'min_data_in_leaf': 100, 'lambda_l1': 1.109924145727587, 'lambda_l2': 6.439566155772161, 'bagging_fraction': 0.9, 'bagging_freq': 5, 'feature_fraction': 0.8, 'is_unbalance': True}. Best is trial 52 with value: 0.7504927510931552.\n"
     ]
    },
    {
     "name": "stdout",
     "output_type": "stream",
     "text": [
      "Training until validation scores don't improve for 5 rounds\n",
      "Training until validation scores don't improve for 5 rounds\n",
      "Early stopping, best iteration is:\n",
      "[9]\tvalid_0's auc: 0.784447\n",
      "Training until validation scores don't improve for 5 rounds\n",
      "Early stopping, best iteration is:\n",
      "[4]\tvalid_0's auc: 0.741917\n",
      "Training until validation scores don't improve for 5 rounds\n",
      "Early stopping, best iteration is:\n",
      "[3]\tvalid_0's auc: 0.714939\n",
      "Training until validation scores don't improve for 5 rounds\n",
      "Early stopping, best iteration is:\n",
      "[2]\tvalid_0's auc: 0.738906\n",
      "Training until validation scores don't improve for 5 rounds\n",
      "Early stopping, best iteration is:\n",
      "[13]\tvalid_0's auc: 0.751524\n"
     ]
    },
    {
     "name": "stderr",
     "output_type": "stream",
     "text": [
      "[I 2023-12-09 17:44:17,401] Trial 63 finished with value: 0.7533067183598382 and parameters: {'learning_rate': 0.5819149392221915, 'num_leaves': 60, 'max_depth': 14, 'min_data_in_leaf': 100, 'lambda_l1': 1.3532122787141645, 'lambda_l2': 8.61838167721639, 'bagging_fraction': 0.9, 'bagging_freq': 5, 'feature_fraction': 0.8, 'is_unbalance': True}. Best is trial 63 with value: 0.7533067183598382.\n",
      "[I 2023-12-09 17:44:17,479] Trial 64 pruned. Trial was pruned at iteration 6.\n"
     ]
    },
    {
     "name": "stdout",
     "output_type": "stream",
     "text": [
      "Training until validation scores don't improve for 5 rounds\n",
      "Early stopping, best iteration is:\n",
      "[16]\tvalid_0's auc: 0.785774\n",
      "Training until validation scores don't improve for 5 rounds\n",
      "Early stopping, best iteration is:\n",
      "[4]\tvalid_0's auc: 0.76057\n",
      "Training until validation scores don't improve for 5 rounds\n",
      "Early stopping, best iteration is:\n",
      "[3]\tvalid_0's auc: 0.705115\n",
      "Training until validation scores don't improve for 5 rounds\n",
      "Early stopping, best iteration is:\n",
      "[4]\tvalid_0's auc: 0.736873\n",
      "Training until validation scores don't improve for 5 rounds\n",
      "Early stopping, best iteration is:\n",
      "[10]\tvalid_0's auc: 0.778201\n",
      "Training until validation scores don't improve for 5 rounds\n"
     ]
    },
    {
     "name": "stderr",
     "output_type": "stream",
     "text": [
      "[I 2023-12-09 17:44:17,557] Trial 65 pruned. Trial was pruned at iteration 0.\n",
      "[I 2023-12-09 17:44:17,632] Trial 66 pruned. Trial was pruned at iteration 0.\n",
      "[I 2023-12-09 17:44:17,705] Trial 67 pruned. Trial was pruned at iteration 0.\n",
      "[I 2023-12-09 17:44:17,782] Trial 68 pruned. Trial was pruned at iteration 6.\n",
      "[I 2023-12-09 17:44:17,933] Trial 69 finished with value: 0.7473682243143938 and parameters: {'learning_rate': 0.6702029229466332, 'num_leaves': 150, 'max_depth': 14, 'min_data_in_leaf': 100, 'lambda_l1': 1.9101185258674005, 'lambda_l2': 3.738641176926782, 'bagging_fraction': 0.8, 'bagging_freq': 5, 'feature_fraction': 0.8, 'is_unbalance': True}. Best is trial 63 with value: 0.7533067183598382.\n"
     ]
    },
    {
     "name": "stdout",
     "output_type": "stream",
     "text": [
      "Training until validation scores don't improve for 5 rounds\n",
      "Training until validation scores don't improve for 5 rounds\n",
      "Early stopping, best iteration is:\n",
      "[7]\tvalid_0's auc: 0.776737\n",
      "Training until validation scores don't improve for 5 rounds\n",
      "Early stopping, best iteration is:\n",
      "[2]\tvalid_0's auc: 0.740507\n",
      "Training until validation scores don't improve for 5 rounds\n",
      "Early stopping, best iteration is:\n",
      "[2]\tvalid_0's auc: 0.706386\n",
      "Training until validation scores don't improve for 5 rounds\n",
      "Early stopping, best iteration is:\n",
      "[1]\tvalid_0's auc: 0.72815\n",
      "Training until validation scores don't improve for 5 rounds\n",
      "Early stopping, best iteration is:\n",
      "[14]\tvalid_0's auc: 0.785061\n"
     ]
    },
    {
     "name": "stderr",
     "output_type": "stream",
     "text": [
      "[I 2023-12-09 17:44:18,010] Trial 70 pruned. Trial was pruned at iteration 0.\n",
      "[I 2023-12-09 17:44:18,101] Trial 71 pruned. Trial was pruned at iteration 6.\n",
      "[I 2023-12-09 17:44:18,247] Trial 72 finished with value: 0.7375517088987836 and parameters: {'learning_rate': 0.5773844980051951, 'num_leaves': 80, 'max_depth': 14, 'min_data_in_leaf': 100, 'lambda_l1': 1.2642800507118703, 'lambda_l2': 6.8470435164127545, 'bagging_fraction': 0.8, 'bagging_freq': 5, 'feature_fraction': 0.8, 'is_unbalance': True}. Best is trial 63 with value: 0.7533067183598382.\n"
     ]
    },
    {
     "name": "stdout",
     "output_type": "stream",
     "text": [
      "Training until validation scores don't improve for 5 rounds\n",
      "Training until validation scores don't improve for 5 rounds\n",
      "Early stopping, best iteration is:\n",
      "[5]\tvalid_0's auc: 0.765296\n",
      "Training until validation scores don't improve for 5 rounds\n",
      "Early stopping, best iteration is:\n",
      "[4]\tvalid_0's auc: 0.730559\n",
      "Training until validation scores don't improve for 5 rounds\n",
      "Early stopping, best iteration is:\n",
      "[3]\tvalid_0's auc: 0.710451\n",
      "Training until validation scores don't improve for 5 rounds\n",
      "Early stopping, best iteration is:\n",
      "[2]\tvalid_0's auc: 0.723154\n",
      "Training until validation scores don't improve for 5 rounds\n",
      "Early stopping, best iteration is:\n",
      "[7]\tvalid_0's auc: 0.758299\n"
     ]
    },
    {
     "name": "stderr",
     "output_type": "stream",
     "text": [
      "[I 2023-12-09 17:44:18,405] Trial 73 finished with value: 0.737342385030549 and parameters: {'learning_rate': 0.796870871817195, 'num_leaves': 30, 'max_depth': 14, 'min_data_in_leaf': 100, 'lambda_l1': 2.470329102751093, 'lambda_l2': 4.622538226603242, 'bagging_fraction': 0.9, 'bagging_freq': 5, 'feature_fraction': 0.8, 'is_unbalance': True}. Best is trial 63 with value: 0.7533067183598382.\n"
     ]
    },
    {
     "name": "stdout",
     "output_type": "stream",
     "text": [
      "Training until validation scores don't improve for 5 rounds\n",
      "Early stopping, best iteration is:\n",
      "[12]\tvalid_0's auc: 0.776322\n",
      "Training until validation scores don't improve for 5 rounds\n",
      "Early stopping, best iteration is:\n",
      "[5]\tvalid_0's auc: 0.728818\n",
      "Training until validation scores don't improve for 5 rounds\n",
      "Early stopping, best iteration is:\n",
      "[2]\tvalid_0's auc: 0.698509\n",
      "Training until validation scores don't improve for 5 rounds\n",
      "Early stopping, best iteration is:\n",
      "[1]\tvalid_0's auc: 0.7323\n",
      "Training until validation scores don't improve for 5 rounds\n",
      "Early stopping, best iteration is:\n",
      "[8]\tvalid_0's auc: 0.750762\n",
      "Training until validation scores don't improve for 5 rounds\n",
      "Early stopping, best iteration is:\n",
      "[5]\tvalid_0's auc: 0.77541\n",
      "Training until validation scores don't improve for 5 rounds\n",
      "Early stopping, best iteration is:\n",
      "[5]\tvalid_0's auc: 0.7677\n",
      "Training until validation scores don't improve for 5 rounds\n",
      "Early stopping, best iteration is:\n",
      "[3]\tvalid_0's auc: 0.701812\n"
     ]
    },
    {
     "name": "stderr",
     "output_type": "stream",
     "text": [
      "[I 2023-12-09 17:44:18,556] Trial 74 finished with value: 0.7528463737941143 and parameters: {'learning_rate': 0.6207050925527615, 'num_leaves': 60, 'max_depth': 14, 'min_data_in_leaf': 100, 'lambda_l1': 1.9155210112563754, 'lambda_l2': 7.857366090598537, 'bagging_fraction': 0.9, 'bagging_freq': 5, 'feature_fraction': 0.8, 'is_unbalance': True}. Best is trial 63 with value: 0.7533067183598382.\n",
      "[I 2023-12-09 17:44:18,642] Trial 75 pruned. Trial was pruned at iteration 0.\n"
     ]
    },
    {
     "name": "stdout",
     "output_type": "stream",
     "text": [
      "Training until validation scores don't improve for 5 rounds\n",
      "Early stopping, best iteration is:\n",
      "[2]\tvalid_0's auc: 0.738144\n",
      "Training until validation scores don't improve for 5 rounds\n",
      "Early stopping, best iteration is:\n",
      "[9]\tvalid_0's auc: 0.781165\n",
      "Training until validation scores don't improve for 5 rounds\n",
      "Early stopping, best iteration is:\n",
      "[12]\tvalid_0's auc: 0.772094\n",
      "Training until validation scores don't improve for 5 rounds\n",
      "Early stopping, best iteration is:\n",
      "[2]\tvalid_0's auc: 0.736279\n"
     ]
    },
    {
     "name": "stderr",
     "output_type": "stream",
     "text": [
      "[I 2023-12-09 17:44:18,798] Trial 76 finished with value: 0.7464748163171402 and parameters: {'learning_rate': 0.7043607780895386, 'num_leaves': 140, 'max_depth': 14, 'min_data_in_leaf': 100, 'lambda_l1': 1.8240918992724366, 'lambda_l2': 5.6169276709847695, 'bagging_fraction': 0.9, 'bagging_freq': 5, 'feature_fraction': 0.8, 'is_unbalance': True}. Best is trial 63 with value: 0.7533067183598382.\n"
     ]
    },
    {
     "name": "stdout",
     "output_type": "stream",
     "text": [
      "Training until validation scores don't improve for 5 rounds\n",
      "Early stopping, best iteration is:\n",
      "[2]\tvalid_0's auc: 0.705115\n",
      "Training until validation scores don't improve for 5 rounds\n",
      "Early stopping, best iteration is:\n",
      "[6]\tvalid_0's auc: 0.745681\n",
      "Training until validation scores don't improve for 5 rounds\n",
      "Early stopping, best iteration is:\n",
      "[10]\tvalid_0's auc: 0.773205\n",
      "Training until validation scores don't improve for 5 rounds\n",
      "Early stopping, best iteration is:\n",
      "[6]\tvalid_0's auc: 0.772675\n",
      "Training until validation scores don't improve for 5 rounds\n",
      "Early stopping, best iteration is:\n",
      "[5]\tvalid_0's auc: 0.768695\n",
      "Training until validation scores don't improve for 5 rounds\n",
      "Early stopping, best iteration is:\n",
      "[2]\tvalid_0's auc: 0.71748\n",
      "Training until validation scores don't improve for 5 rounds\n",
      "Early stopping, best iteration is:\n",
      "[2]\tvalid_0's auc: 0.739075\n",
      "Training until validation scores don't improve for 5 rounds\n",
      "Early stopping, best iteration is:\n",
      "[10]\tvalid_0's auc: 0.77727\n"
     ]
    },
    {
     "name": "stderr",
     "output_type": "stream",
     "text": [
      "[I 2023-12-09 17:44:18,948] Trial 77 finished with value: 0.7550388232389206 and parameters: {'learning_rate': 0.6452533030596334, 'num_leaves': 60, 'max_depth': 12, 'min_data_in_leaf': 100, 'lambda_l1': 1.6508851901599346, 'lambda_l2': 7.329335914723155, 'bagging_fraction': 0.9, 'bagging_freq': 5, 'feature_fraction': 0.8, 'is_unbalance': True}. Best is trial 77 with value: 0.7550388232389206.\n",
      "[I 2023-12-09 17:44:19,028] Trial 78 pruned. Trial was pruned at iteration 0.\n",
      "[I 2023-12-09 17:44:19,103] Trial 79 pruned. Trial was pruned at iteration 0.\n",
      "[I 2023-12-09 17:44:19,256] Trial 80 finished with value: 0.7529654766992041 and parameters: {'learning_rate': 0.6553569222790862, 'num_leaves': 60, 'max_depth': 12, 'min_data_in_leaf': 100, 'lambda_l1': 1.3730669805851676, 'lambda_l2': 4.815835091402333, 'bagging_fraction': 0.9, 'bagging_freq': 5, 'feature_fraction': 0.8, 'is_unbalance': True}. Best is trial 77 with value: 0.7550388232389206.\n"
     ]
    },
    {
     "name": "stdout",
     "output_type": "stream",
     "text": [
      "Training until validation scores don't improve for 5 rounds\n",
      "Early stopping, best iteration is:\n",
      "[6]\tvalid_0's auc: 0.794727\n",
      "Training until validation scores don't improve for 5 rounds\n",
      "Early stopping, best iteration is:\n",
      "[6]\tvalid_0's auc: 0.744321\n",
      "Training until validation scores don't improve for 5 rounds\n",
      "Early stopping, best iteration is:\n",
      "[2]\tvalid_0's auc: 0.696477\n",
      "Training until validation scores don't improve for 5 rounds\n",
      "Early stopping, best iteration is:\n",
      "[7]\tvalid_0's auc: 0.758469\n",
      "Training until validation scores don't improve for 5 rounds\n",
      "Early stopping, best iteration is:\n",
      "[6]\tvalid_0's auc: 0.770833\n",
      "Training until validation scores don't improve for 5 rounds\n",
      "Early stopping, best iteration is:\n",
      "[21]\tvalid_0's auc: 0.784944\n",
      "Training until validation scores don't improve for 5 rounds\n",
      "Early stopping, best iteration is:\n",
      "[3]\tvalid_0's auc: 0.771928\n",
      "Training until validation scores don't improve for 5 rounds\n",
      "Early stopping, best iteration is:\n",
      "[3]\tvalid_0's auc: 0.697324\n",
      "Training until validation scores don't improve for 5 rounds\n"
     ]
    },
    {
     "name": "stderr",
     "output_type": "stream",
     "text": [
      "[I 2023-12-09 17:44:19,412] Trial 81 finished with value: 0.7525331013341636 and parameters: {'learning_rate': 0.6346311458074102, 'num_leaves': 60, 'max_depth': 12, 'min_data_in_leaf': 100, 'lambda_l1': 1.4080893335941893, 'lambda_l2': 4.877995081795321, 'bagging_fraction': 0.9, 'bagging_freq': 5, 'feature_fraction': 0.8, 'is_unbalance': True}. Best is trial 77 with value: 0.7550388232389206.\n",
      "[I 2023-12-09 17:44:19,563] Trial 82 finished with value: 0.7477278219039031 and parameters: {'learning_rate': 0.6330314981154535, 'num_leaves': 60, 'max_depth': 12, 'min_data_in_leaf': 100, 'lambda_l1': 1.4395255145937906, 'lambda_l2': 3.5696438606000993, 'bagging_fraction': 0.9, 'bagging_freq': 5, 'feature_fraction': 0.8, 'is_unbalance': True}. Best is trial 77 with value: 0.7550388232389206.\n"
     ]
    },
    {
     "name": "stdout",
     "output_type": "stream",
     "text": [
      "Early stopping, best iteration is:\n",
      "[1]\tvalid_0's auc: 0.741192\n",
      "Training until validation scores don't improve for 5 rounds\n",
      "Early stopping, best iteration is:\n",
      "[6]\tvalid_0's auc: 0.767276\n",
      "Training until validation scores don't improve for 5 rounds\n",
      "Early stopping, best iteration is:\n",
      "[4]\tvalid_0's auc: 0.794064\n",
      "Training until validation scores don't improve for 5 rounds\n",
      "Early stopping, best iteration is:\n",
      "[2]\tvalid_0's auc: 0.73802\n",
      "Training until validation scores don't improve for 5 rounds\n",
      "Early stopping, best iteration is:\n",
      "[5]\tvalid_0's auc: 0.690295\n",
      "Training until validation scores don't improve for 5 rounds\n",
      "Early stopping, best iteration is:\n",
      "[7]\tvalid_0's auc: 0.745935\n",
      "Training until validation scores don't improve for 5 rounds\n",
      "Early stopping, best iteration is:\n",
      "[6]\tvalid_0's auc: 0.770325\n"
     ]
    },
    {
     "name": "stderr",
     "output_type": "stream",
     "text": [
      "[I 2023-12-09 17:44:19,722] Trial 83 finished with value: 0.7513776074068981 and parameters: {'learning_rate': 0.6352916285571887, 'num_leaves': 60, 'max_depth': 12, 'min_data_in_leaf': 100, 'lambda_l1': 1.4646003287495166, 'lambda_l2': 5.119911658830538, 'bagging_fraction': 0.9, 'bagging_freq': 5, 'feature_fraction': 0.8, 'is_unbalance': True}. Best is trial 77 with value: 0.7550388232389206.\n"
     ]
    },
    {
     "name": "stdout",
     "output_type": "stream",
     "text": [
      "Training until validation scores don't improve for 5 rounds\n",
      "Early stopping, best iteration is:\n",
      "[16]\tvalid_0's auc: 0.779473\n",
      "Training until validation scores don't improve for 5 rounds\n",
      "Early stopping, best iteration is:\n",
      "[5]\tvalid_0's auc: 0.766457\n",
      "Training until validation scores don't improve for 5 rounds\n",
      "Early stopping, best iteration is:\n",
      "[3]\tvalid_0's auc: 0.695969\n",
      "Training until validation scores don't improve for 5 rounds\n",
      "Early stopping, best iteration is:\n",
      "[7]\tvalid_0's auc: 0.747205\n",
      "Training until validation scores don't improve for 5 rounds\n",
      "Early stopping, best iteration is:\n",
      "[6]\tvalid_0's auc: 0.767785\n",
      "Training until validation scores don't improve for 5 rounds\n",
      "Early stopping, best iteration is:\n",
      "[21]\tvalid_0's auc: 0.785276\n",
      "Training until validation scores don't improve for 5 rounds\n",
      "Early stopping, best iteration is:\n",
      "[3]\tvalid_0's auc: 0.771928\n"
     ]
    },
    {
     "name": "stderr",
     "output_type": "stream",
     "text": [
      "[I 2023-12-09 17:44:19,892] Trial 84 finished with value: 0.7525994253268681 and parameters: {'learning_rate': 0.6321111072611474, 'num_leaves': 60, 'max_depth': 12, 'min_data_in_leaf': 100, 'lambda_l1': 1.3840113922276214, 'lambda_l2': 4.768373494147815, 'bagging_fraction': 0.9, 'bagging_freq': 5, 'feature_fraction': 0.8, 'is_unbalance': True}. Best is trial 77 with value: 0.7550388232389206.\n",
      "[I 2023-12-09 17:44:19,979] Trial 85 pruned. Trial was pruned at iteration 0.\n"
     ]
    },
    {
     "name": "stdout",
     "output_type": "stream",
     "text": [
      "Training until validation scores don't improve for 5 rounds\n",
      "Early stopping, best iteration is:\n",
      "[3]\tvalid_0's auc: 0.697493\n",
      "Training until validation scores don't improve for 5 rounds\n",
      "Early stopping, best iteration is:\n",
      "[1]\tvalid_0's auc: 0.741192\n",
      "Training until validation scores don't improve for 5 rounds\n",
      "Early stopping, best iteration is:\n",
      "[6]\tvalid_0's auc: 0.767107\n"
     ]
    },
    {
     "name": "stderr",
     "output_type": "stream",
     "text": [
      "[I 2023-12-09 17:44:20,070] Trial 86 pruned. Trial was pruned at iteration 6.\n"
     ]
    },
    {
     "name": "stdout",
     "output_type": "stream",
     "text": [
      "Training until validation scores don't improve for 5 rounds\n",
      "Training until validation scores don't improve for 5 rounds\n",
      "Early stopping, best iteration is:\n",
      "[13]\tvalid_0's auc: 0.770768\n",
      "Training until validation scores don't improve for 5 rounds\n",
      "Early stopping, best iteration is:\n",
      "[5]\tvalid_0's auc: 0.767866\n",
      "Training until validation scores don't improve for 5 rounds\n",
      "Early stopping, best iteration is:\n",
      "[3]\tvalid_0's auc: 0.701812\n",
      "Training until validation scores don't improve for 5 rounds\n",
      "Early stopping, best iteration is:\n",
      "[2]\tvalid_0's auc: 0.738144\n",
      "Training until validation scores don't improve for 5 rounds\n",
      "Early stopping, best iteration is:\n",
      "[9]\tvalid_0's auc: 0.767615\n"
     ]
    },
    {
     "name": "stderr",
     "output_type": "stream",
     "text": [
      "[I 2023-12-09 17:44:20,244] Trial 87 finished with value: 0.7492409727923345 and parameters: {'learning_rate': 0.6347163652471051, 'num_leaves': 70, 'max_depth': 12, 'min_data_in_leaf': 100, 'lambda_l1': 1.026734108247553, 'lambda_l2': 8.982071203010829, 'bagging_fraction': 0.9, 'bagging_freq': 5, 'feature_fraction': 0.8, 'is_unbalance': True}. Best is trial 77 with value: 0.7550388232389206.\n",
      "[I 2023-12-09 17:44:20,332] Trial 88 pruned. Trial was pruned at iteration 0.\n",
      "[I 2023-12-09 17:44:20,415] Trial 89 pruned. Trial was pruned at iteration 0.\n",
      "[I 2023-12-09 17:44:20,509] Trial 90 pruned. Trial was pruned at iteration 5.\n",
      "[I 2023-12-09 17:44:20,676] Trial 91 finished with value: 0.748878861653813 and parameters: {'learning_rate': 0.6102945887761044, 'num_leaves': 40, 'max_depth': 12, 'min_data_in_leaf': 100, 'lambda_l1': 1.7256805689332106, 'lambda_l2': 8.76953629475326, 'bagging_fraction': 0.9, 'bagging_freq': 5, 'feature_fraction': 0.8, 'is_unbalance': True}. Best is trial 77 with value: 0.7550388232389206.\n"
     ]
    },
    {
     "name": "stdout",
     "output_type": "stream",
     "text": [
      "Training until validation scores don't improve for 5 rounds\n",
      "Training until validation scores don't improve for 5 rounds\n",
      "Early stopping, best iteration is:\n",
      "[12]\tvalid_0's auc: 0.781628\n",
      "Training until validation scores don't improve for 5 rounds\n",
      "Early stopping, best iteration is:\n",
      "[4]\tvalid_0's auc: 0.758498\n",
      "Training until validation scores don't improve for 5 rounds\n",
      "Early stopping, best iteration is:\n",
      "[3]\tvalid_0's auc: 0.698509\n",
      "Training until validation scores don't improve for 5 rounds\n",
      "Early stopping, best iteration is:\n",
      "[2]\tvalid_0's auc: 0.734163\n",
      "Training until validation scores don't improve for 5 rounds\n",
      "Early stopping, best iteration is:\n",
      "[10]\tvalid_0's auc: 0.771596\n"
     ]
    },
    {
     "name": "stderr",
     "output_type": "stream",
     "text": [
      "[I 2023-12-09 17:44:20,847] Trial 92 finished with value: 0.7493589972585184 and parameters: {'learning_rate': 0.6270618421295916, 'num_leaves': 60, 'max_depth': 12, 'min_data_in_leaf': 100, 'lambda_l1': 1.5919703356141173, 'lambda_l2': 8.892081723490424, 'bagging_fraction': 0.9, 'bagging_freq': 5, 'feature_fraction': 0.8, 'is_unbalance': True}. Best is trial 77 with value: 0.7550388232389206.\n",
      "[I 2023-12-09 17:44:20,937] Trial 93 pruned. Trial was pruned at iteration 0.\n"
     ]
    },
    {
     "name": "stdout",
     "output_type": "stream",
     "text": [
      "Training until validation scores don't improve for 5 rounds\n",
      "Early stopping, best iteration is:\n",
      "[7]\tvalid_0's auc: 0.775825\n",
      "Training until validation scores don't improve for 5 rounds\n",
      "Early stopping, best iteration is:\n",
      "[5]\tvalid_0's auc: 0.766871\n",
      "Training until validation scores don't improve for 5 rounds\n",
      "Early stopping, best iteration is:\n",
      "[3]\tvalid_0's auc: 0.701812\n",
      "Training until validation scores don't improve for 5 rounds\n",
      "Early stopping, best iteration is:\n",
      "[2]\tvalid_0's auc: 0.734163\n",
      "Training until validation scores don't improve for 5 rounds\n",
      "Early stopping, best iteration is:\n",
      "[9]\tvalid_0's auc: 0.768123\n"
     ]
    },
    {
     "name": "stderr",
     "output_type": "stream",
     "text": [
      "[I 2023-12-09 17:44:21,108] Trial 94 finished with value: 0.7523956593508068 and parameters: {'learning_rate': 0.6363767692128106, 'num_leaves': 60, 'max_depth': 12, 'min_data_in_leaf': 100, 'lambda_l1': 1.375015779069736, 'lambda_l2': 7.6932458473621335, 'bagging_fraction': 0.9, 'bagging_freq': 5, 'feature_fraction': 0.8, 'is_unbalance': True}. Best is trial 77 with value: 0.7550388232389206.\n"
     ]
    },
    {
     "name": "stdout",
     "output_type": "stream",
     "text": [
      "Training until validation scores don't improve for 5 rounds\n",
      "Early stopping, best iteration is:\n",
      "[9]\tvalid_0's auc: 0.769275\n",
      "Training until validation scores don't improve for 5 rounds\n",
      "Early stopping, best iteration is:\n",
      "[5]\tvalid_0's auc: 0.768363\n",
      "Training until validation scores don't improve for 5 rounds\n",
      "Early stopping, best iteration is:\n",
      "[2]\tvalid_0's auc: 0.71748\n",
      "Training until validation scores don't improve for 5 rounds\n",
      "Early stopping, best iteration is:\n",
      "[2]\tvalid_0's auc: 0.739075\n",
      "Training until validation scores don't improve for 5 rounds\n",
      "Early stopping, best iteration is:\n",
      "[9]\tvalid_0's auc: 0.767785\n",
      "Training until validation scores don't improve for 5 rounds\n",
      "Early stopping, best iteration is:\n",
      "[11]\tvalid_0's auc: 0.797049\n",
      "Training until validation scores don't improve for 5 rounds\n",
      "Early stopping, best iteration is:\n",
      "[2]\tvalid_0's auc: 0.736279\n",
      "Training until validation scores don't improve for 5 rounds\n",
      "Early stopping, best iteration is:\n",
      "[3]\tvalid_0's auc: 0.707486\n"
     ]
    },
    {
     "name": "stderr",
     "output_type": "stream",
     "text": [
      "[I 2023-12-09 17:44:21,287] Trial 95 finished with value: 0.7542942875540511 and parameters: {'learning_rate': 0.6855915947312575, 'num_leaves': 100, 'max_depth': 12, 'min_data_in_leaf': 100, 'lambda_l1': 1.3996265021490077, 'lambda_l2': 7.652903866391132, 'bagging_fraction': 0.9, 'bagging_freq': 5, 'feature_fraction': 0.8, 'is_unbalance': True}. Best is trial 77 with value: 0.7550388232389206.\n",
      "[I 2023-12-09 17:44:21,373] Trial 96 pruned. Trial was pruned at iteration 0.\n"
     ]
    },
    {
     "name": "stdout",
     "output_type": "stream",
     "text": [
      "Training until validation scores don't improve for 5 rounds\n",
      "Early stopping, best iteration is:\n",
      "[2]\tvalid_0's auc: 0.753896\n",
      "Training until validation scores don't improve for 5 rounds\n",
      "Early stopping, best iteration is:\n",
      "[18]\tvalid_0's auc: 0.776762\n",
      "Training until validation scores don't improve for 5 rounds\n"
     ]
    },
    {
     "name": "stderr",
     "output_type": "stream",
     "text": [
      "[I 2023-12-09 17:44:21,549] Trial 97 finished with value: 0.7574494964813685 and parameters: {'learning_rate': 0.6726653665151793, 'num_leaves': 100, 'max_depth': 12, 'min_data_in_leaf': 100, 'lambda_l1': 1.2370669791258075, 'lambda_l2': 7.6858777928943045, 'bagging_fraction': 0.9, 'bagging_freq': 5, 'feature_fraction': 0.8, 'is_unbalance': True}. Best is trial 97 with value: 0.7574494964813685.\n"
     ]
    },
    {
     "name": "stdout",
     "output_type": "stream",
     "text": [
      "Early stopping, best iteration is:\n",
      "[7]\tvalid_0's auc: 0.766125\n",
      "Training until validation scores don't improve for 5 rounds\n",
      "Early stopping, best iteration is:\n",
      "[13]\tvalid_0's auc: 0.777898\n",
      "Training until validation scores don't improve for 5 rounds\n",
      "Early stopping, best iteration is:\n",
      "[3]\tvalid_0's auc: 0.707486\n",
      "Training until validation scores don't improve for 5 rounds\n",
      "Early stopping, best iteration is:\n",
      "[2]\tvalid_0's auc: 0.754065\n",
      "Training until validation scores don't improve for 5 rounds\n",
      "Early stopping, best iteration is:\n",
      "[9]\tvalid_0's auc: 0.781673\n",
      "Training until validation scores don't improve for 5 rounds\n",
      "Early stopping, best iteration is:\n",
      "[5]\tvalid_0's auc: 0.78196\n",
      "Training until validation scores don't improve for 5 rounds\n",
      "Early stopping, best iteration is:\n",
      "[2]\tvalid_0's auc: 0.73802\n"
     ]
    },
    {
     "name": "stderr",
     "output_type": "stream",
     "text": [
      "[I 2023-12-09 17:44:21,715] Trial 98 finished with value: 0.745730437904611 and parameters: {'learning_rate': 0.6682658974835363, 'num_leaves': 100, 'max_depth': 12, 'min_data_in_leaf': 100, 'lambda_l1': 1.2252202660218052, 'lambda_l2': 4.1884499591137345, 'bagging_fraction': 0.9, 'bagging_freq': 5, 'feature_fraction': 0.8, 'is_unbalance': True}. Best is trial 97 with value: 0.7574494964813685.\n",
      "[I 2023-12-09 17:44:21,804] Trial 99 pruned. Trial was pruned at iteration 5.\n"
     ]
    },
    {
     "name": "stdout",
     "output_type": "stream",
     "text": [
      "Training until validation scores don't improve for 5 rounds\n",
      "Early stopping, best iteration is:\n",
      "[2]\tvalid_0's auc: 0.696477\n",
      "Training until validation scores don't improve for 5 rounds\n",
      "Early stopping, best iteration is:\n",
      "[1]\tvalid_0's auc: 0.741192\n",
      "Training until validation scores don't improve for 5 rounds\n",
      "Early stopping, best iteration is:\n",
      "[6]\tvalid_0's auc: 0.771003\n",
      "Training until validation scores don't improve for 5 rounds\n"
     ]
    },
    {
     "name": "stderr",
     "output_type": "stream",
     "text": [
      "[I 2023-12-09 17:44:21,891] Trial 100 pruned. Trial was pruned at iteration 0.\n",
      "[I 2023-12-09 17:44:21,983] Trial 101 pruned. Trial was pruned at iteration 1.\n",
      "[I 2023-12-09 17:44:22,147] Trial 102 finished with value: 0.7506774730738519 and parameters: {'learning_rate': 0.685022722903083, 'num_leaves': 90, 'max_depth': 12, 'min_data_in_leaf': 100, 'lambda_l1': 1.204581514088233, 'lambda_l2': 6.428872927949762, 'bagging_fraction': 0.9, 'bagging_freq': 5, 'feature_fraction': 0.8, 'is_unbalance': True}. Best is trial 97 with value: 0.7574494964813685.\n"
     ]
    },
    {
     "name": "stdout",
     "output_type": "stream",
     "text": [
      "Training until validation scores don't improve for 5 rounds\n",
      "Training until validation scores don't improve for 5 rounds\n",
      "Early stopping, best iteration is:\n",
      "[6]\tvalid_0's auc: 0.795225\n",
      "Training until validation scores don't improve for 5 rounds\n",
      "Early stopping, best iteration is:\n",
      "[2]\tvalid_0's auc: 0.736279\n",
      "Training until validation scores don't improve for 5 rounds\n",
      "Early stopping, best iteration is:\n",
      "[2]\tvalid_0's auc: 0.705115\n",
      "Training until validation scores don't improve for 5 rounds\n",
      "Early stopping, best iteration is:\n",
      "[2]\tvalid_0's auc: 0.753896\n",
      "Training until validation scores don't improve for 5 rounds\n",
      "Early stopping, best iteration is:\n",
      "[9]\tvalid_0's auc: 0.762873\n"
     ]
    },
    {
     "name": "stderr",
     "output_type": "stream",
     "text": [
      "[I 2023-12-09 17:44:22,317] Trial 103 finished with value: 0.7501178166420198 and parameters: {'learning_rate': 0.6899815922542084, 'num_leaves': 80, 'max_depth': 12, 'min_data_in_leaf': 100, 'lambda_l1': 1.1776021064667461, 'lambda_l2': 5.505394631879412, 'bagging_fraction': 0.9, 'bagging_freq': 5, 'feature_fraction': 0.8, 'is_unbalance': True}. Best is trial 97 with value: 0.7574494964813685.\n",
      "[I 2023-12-09 17:44:22,408] Trial 104 pruned. Trial was pruned at iteration 6.\n"
     ]
    },
    {
     "name": "stdout",
     "output_type": "stream",
     "text": [
      "Training until validation scores don't improve for 5 rounds\n",
      "Early stopping, best iteration is:\n",
      "[8]\tvalid_0's auc: 0.795888\n",
      "Training until validation scores don't improve for 5 rounds\n",
      "Early stopping, best iteration is:\n",
      "[2]\tvalid_0's auc: 0.735782\n",
      "Training until validation scores don't improve for 5 rounds\n",
      "Early stopping, best iteration is:\n",
      "[2]\tvalid_0's auc: 0.698509\n",
      "Training until validation scores don't improve for 5 rounds\n",
      "Early stopping, best iteration is:\n",
      "[3]\tvalid_0's auc: 0.756267\n",
      "Training until validation scores don't improve for 5 rounds\n",
      "Early stopping, best iteration is:\n",
      "[11]\tvalid_0's auc: 0.764143\n",
      "Training until validation scores don't improve for 5 rounds\n"
     ]
    },
    {
     "name": "stderr",
     "output_type": "stream",
     "text": [
      "[I 2023-12-09 17:44:22,498] Trial 105 pruned. Trial was pruned at iteration 2.\n",
      "[I 2023-12-09 17:44:22,591] Trial 106 pruned. Trial was pruned at iteration 0.\n"
     ]
    },
    {
     "name": "stdout",
     "output_type": "stream",
     "text": [
      "Training until validation scores don't improve for 5 rounds\n",
      "Training until validation scores don't improve for 5 rounds\n"
     ]
    },
    {
     "name": "stderr",
     "output_type": "stream",
     "text": [
      "[I 2023-12-09 17:44:22,679] Trial 107 pruned. Trial was pruned at iteration 5.\n",
      "[I 2023-12-09 17:44:22,770] Trial 108 pruned. Trial was pruned at iteration 0.\n",
      "[I 2023-12-09 17:44:22,946] Trial 109 finished with value: 0.7552124715617907 and parameters: {'learning_rate': 0.6494370667264782, 'num_leaves': 140, 'max_depth': 12, 'min_data_in_leaf': 100, 'lambda_l1': 1.1391721733077156, 'lambda_l2': 5.1235895080736205, 'bagging_fraction': 0.9, 'bagging_freq': 5, 'feature_fraction': 0.8, 'is_unbalance': True}. Best is trial 97 with value: 0.7574494964813685.\n"
     ]
    },
    {
     "name": "stdout",
     "output_type": "stream",
     "text": [
      "Training until validation scores don't improve for 5 rounds\n",
      "Early stopping, best iteration is:\n",
      "[11]\tvalid_0's auc: 0.775162\n",
      "Training until validation scores don't improve for 5 rounds\n",
      "Early stopping, best iteration is:\n",
      "[3]\tvalid_0's auc: 0.773089\n",
      "Training until validation scores don't improve for 5 rounds\n",
      "Early stopping, best iteration is:\n",
      "[2]\tvalid_0's auc: 0.696477\n",
      "Training until validation scores don't improve for 5 rounds\n",
      "Early stopping, best iteration is:\n",
      "[7]\tvalid_0's auc: 0.759654\n",
      "Training until validation scores don't improve for 5 rounds\n",
      "Early stopping, best iteration is:\n",
      "[6]\tvalid_0's auc: 0.77168\n",
      "Training until validation scores don't improve for 5 rounds\n",
      "Early stopping, best iteration is:\n",
      "[8]\tvalid_0's auc: 0.774581\n",
      "Training until validation scores don't improve for 5 rounds\n",
      "Early stopping, best iteration is:\n",
      "[3]\tvalid_0's auc: 0.773255\n"
     ]
    },
    {
     "name": "stderr",
     "output_type": "stream",
     "text": [
      "[I 2023-12-09 17:44:23,118] Trial 110 finished with value: 0.7527582928581732 and parameters: {'learning_rate': 0.6417118367225437, 'num_leaves': 120, 'max_depth': 12, 'min_data_in_leaf': 100, 'lambda_l1': 0.9553321037243703, 'lambda_l2': 4.968512166603751, 'bagging_fraction': 0.9, 'bagging_freq': 5, 'feature_fraction': 0.8, 'is_unbalance': True}. Best is trial 97 with value: 0.7574494964813685.\n"
     ]
    },
    {
     "name": "stdout",
     "output_type": "stream",
     "text": [
      "Training until validation scores don't improve for 5 rounds\n",
      "Early stopping, best iteration is:\n",
      "[2]\tvalid_0's auc: 0.696477\n",
      "Training until validation scores don't improve for 5 rounds\n",
      "Early stopping, best iteration is:\n",
      "[7]\tvalid_0's auc: 0.747798\n",
      "Training until validation scores don't improve for 5 rounds\n",
      "Early stopping, best iteration is:\n",
      "[6]\tvalid_0's auc: 0.77168\n",
      "Training until validation scores don't improve for 5 rounds\n",
      "Early stopping, best iteration is:\n",
      "[8]\tvalid_0's auc: 0.790333\n",
      "Training until validation scores don't improve for 5 rounds\n",
      "Early stopping, best iteration is:\n",
      "[2]\tvalid_0's auc: 0.73802\n",
      "Training until validation scores don't improve for 5 rounds\n",
      "Early stopping, best iteration is:\n",
      "[8]\tvalid_0's auc: 0.697832\n",
      "Training until validation scores don't improve for 5 rounds\n",
      "Early stopping, best iteration is:\n",
      "[1]\tvalid_0's auc: 0.741192\n"
     ]
    },
    {
     "name": "stderr",
     "output_type": "stream",
     "text": [
      "[I 2023-12-09 17:44:23,286] Trial 111 finished with value: 0.7447967176363853 and parameters: {'learning_rate': 0.6390130009671461, 'num_leaves': 120, 'max_depth': 12, 'min_data_in_leaf': 100, 'lambda_l1': 0.9627097953852637, 'lambda_l2': 4.0215655619281, 'bagging_fraction': 0.9, 'bagging_freq': 5, 'feature_fraction': 0.8, 'is_unbalance': True}. Best is trial 97 with value: 0.7574494964813685.\n",
      "[I 2023-12-09 17:44:23,380] Trial 112 pruned. Trial was pruned at iteration 1.\n"
     ]
    },
    {
     "name": "stdout",
     "output_type": "stream",
     "text": [
      "Training until validation scores don't improve for 5 rounds\n",
      "Early stopping, best iteration is:\n",
      "[3]\tvalid_0's auc: 0.756606\n",
      "Training until validation scores don't improve for 5 rounds\n",
      "Training until validation scores don't improve for 5 rounds\n"
     ]
    },
    {
     "name": "stderr",
     "output_type": "stream",
     "text": [
      "[I 2023-12-09 17:44:23,468] Trial 113 pruned. Trial was pruned at iteration 1.\n",
      "[I 2023-12-09 17:44:23,630] Trial 114 finished with value: 0.7482500362849758 and parameters: {'learning_rate': 0.656105696065893, 'num_leaves': 40, 'max_depth': 12, 'min_data_in_leaf': 100, 'lambda_l1': 1.3779638176232278, 'lambda_l2': 4.5747984800132455, 'bagging_fraction': 0.9, 'bagging_freq': 5, 'feature_fraction': 0.8, 'is_unbalance': True}. Best is trial 97 with value: 0.7574494964813685.\n"
     ]
    },
    {
     "name": "stdout",
     "output_type": "stream",
     "text": [
      "Training until validation scores don't improve for 5 rounds\n",
      "Early stopping, best iteration is:\n",
      "[6]\tvalid_0's auc: 0.794727\n",
      "Training until validation scores don't improve for 5 rounds\n",
      "Early stopping, best iteration is:\n",
      "[2]\tvalid_0's auc: 0.73802\n",
      "Training until validation scores don't improve for 5 rounds\n",
      "Early stopping, best iteration is:\n",
      "[2]\tvalid_0's auc: 0.696477\n",
      "Training until validation scores don't improve for 5 rounds\n",
      "Early stopping, best iteration is:\n",
      "[1]\tvalid_0's auc: 0.741192\n",
      "Training until validation scores don't improve for 5 rounds\n",
      "Early stopping, best iteration is:\n",
      "[6]\tvalid_0's auc: 0.770833\n",
      "Training until validation scores don't improve for 5 rounds\n",
      "Early stopping, best iteration is:\n",
      "[6]\tvalid_0's auc: 0.77284\n",
      "Training until validation scores don't improve for 5 rounds\n",
      "Early stopping, best iteration is:\n",
      "[2]\tvalid_0's auc: 0.739347\n",
      "Training until validation scores don't improve for 5 rounds\n",
      "Early stopping, best iteration is:\n",
      "[2]\tvalid_0's auc: 0.702236\n"
     ]
    },
    {
     "name": "stderr",
     "output_type": "stream",
     "text": [
      "[I 2023-12-09 17:44:23,800] Trial 115 finished with value: 0.7426304961627795 and parameters: {'learning_rate': 0.7191705825708362, 'num_leaves': 60, 'max_depth': 12, 'min_data_in_leaf': 100, 'lambda_l1': 1.6868510340299778, 'lambda_l2': 3.2909992778398474, 'bagging_fraction': 0.9, 'bagging_freq': 5, 'feature_fraction': 0.8, 'is_unbalance': True}. Best is trial 97 with value: 0.7574494964813685.\n",
      "[I 2023-12-09 17:44:23,890] Trial 116 pruned. Trial was pruned at iteration 2.\n"
     ]
    },
    {
     "name": "stdout",
     "output_type": "stream",
     "text": [
      "Training until validation scores don't improve for 5 rounds\n",
      "Early stopping, best iteration is:\n",
      "[1]\tvalid_0's auc: 0.741192\n",
      "Training until validation scores don't improve for 5 rounds\n",
      "Early stopping, best iteration is:\n",
      "[10]\tvalid_0's auc: 0.757537\n",
      "Training until validation scores don't improve for 5 rounds\n"
     ]
    },
    {
     "name": "stderr",
     "output_type": "stream",
     "text": [
      "[I 2023-12-09 17:44:24,070] Trial 117 finished with value: 0.7489362857171102 and parameters: {'learning_rate': 0.6208721546564435, 'num_leaves': 30, 'max_depth': 12, 'min_data_in_leaf': 100, 'lambda_l1': 1.0865958764253945, 'lambda_l2': 4.865690868344665, 'bagging_fraction': 0.9, 'bagging_freq': 5, 'feature_fraction': 0.8, 'is_unbalance': True}. Best is trial 97 with value: 0.7574494964813685.\n",
      "[I 2023-12-09 17:44:24,159] Trial 118 pruned. Trial was pruned at iteration 0.\n"
     ]
    },
    {
     "name": "stdout",
     "output_type": "stream",
     "text": [
      "Training until validation scores don't improve for 5 rounds\n",
      "Early stopping, best iteration is:\n",
      "[28]\tvalid_0's auc: 0.792738\n",
      "Training until validation scores don't improve for 5 rounds\n",
      "Early stopping, best iteration is:\n",
      "[5]\tvalid_0's auc: 0.734041\n",
      "Training until validation scores don't improve for 5 rounds\n",
      "Early stopping, best iteration is:\n",
      "[1]\tvalid_0's auc: 0.689617\n",
      "Training until validation scores don't improve for 5 rounds\n",
      "Early stopping, best iteration is:\n",
      "[6]\tvalid_0's auc: 0.756606\n",
      "Training until validation scores don't improve for 5 rounds\n",
      "Early stopping, best iteration is:\n",
      "[6]\tvalid_0's auc: 0.77168\n"
     ]
    },
    {
     "name": "stderr",
     "output_type": "stream",
     "text": [
      "[I 2023-12-09 17:44:24,253] Trial 119 pruned. Trial was pruned at iteration 0.\n",
      "[I 2023-12-09 17:44:24,345] Trial 120 pruned. Trial was pruned at iteration 0.\n",
      "[I 2023-12-09 17:44:24,509] Trial 121 finished with value: 0.7533409672204001 and parameters: {'learning_rate': 0.6879195178682997, 'num_leaves': 100, 'max_depth': 12, 'min_data_in_leaf': 100, 'lambda_l1': 1.2033852641051506, 'lambda_l2': 7.115660009885722, 'bagging_fraction': 0.9, 'bagging_freq': 5, 'feature_fraction': 0.8, 'is_unbalance': True}. Best is trial 97 with value: 0.7574494964813685.\n",
      "[I 2023-12-09 17:44:24,602] Trial 122 pruned. Trial was pruned at iteration 1.\n"
     ]
    },
    {
     "name": "stdout",
     "output_type": "stream",
     "text": [
      "Training until validation scores don't improve for 5 rounds\n",
      "Early stopping, best iteration is:\n",
      "[6]\tvalid_0's auc: 0.79423\n",
      "Training until validation scores don't improve for 5 rounds\n",
      "Early stopping, best iteration is:\n",
      "[2]\tvalid_0's auc: 0.736279\n",
      "Training until validation scores don't improve for 5 rounds\n",
      "Early stopping, best iteration is:\n",
      "[2]\tvalid_0's auc: 0.705115\n",
      "Training until validation scores don't improve for 5 rounds\n",
      "Early stopping, best iteration is:\n",
      "[2]\tvalid_0's auc: 0.753896\n",
      "Training until validation scores don't improve for 5 rounds\n",
      "Early stopping, best iteration is:\n",
      "[6]\tvalid_0's auc: 0.777185\n",
      "Training until validation scores don't improve for 5 rounds\n"
     ]
    },
    {
     "name": "stderr",
     "output_type": "stream",
     "text": [
      "[I 2023-12-09 17:44:24,782] Trial 123 finished with value: 0.754030235719784 and parameters: {'learning_rate': 0.704412957691476, 'num_leaves': 70, 'max_depth': 12, 'min_data_in_leaf': 100, 'lambda_l1': 0.9945881206581367, 'lambda_l2': 8.207193567419601, 'bagging_fraction': 0.9, 'bagging_freq': 5, 'feature_fraction': 0.8, 'is_unbalance': True}. Best is trial 97 with value: 0.7574494964813685.\n"
     ]
    },
    {
     "name": "stdout",
     "output_type": "stream",
     "text": [
      "Training until validation scores don't improve for 5 rounds\n",
      "Early stopping, best iteration is:\n",
      "[12]\tvalid_0's auc: 0.79937\n",
      "Training until validation scores don't improve for 5 rounds\n",
      "Early stopping, best iteration is:\n",
      "[2]\tvalid_0's auc: 0.736279\n",
      "Training until validation scores don't improve for 5 rounds\n",
      "Early stopping, best iteration is:\n",
      "[2]\tvalid_0's auc: 0.705115\n",
      "Training until validation scores don't improve for 5 rounds\n",
      "Early stopping, best iteration is:\n",
      "[2]\tvalid_0's auc: 0.753896\n",
      "Training until validation scores don't improve for 5 rounds\n",
      "Early stopping, best iteration is:\n",
      "[6]\tvalid_0's auc: 0.775491\n",
      "Training until validation scores don't improve for 5 rounds\n",
      "Early stopping, best iteration is:\n",
      "[12]\tvalid_0's auc: 0.799204\n",
      "Training until validation scores don't improve for 5 rounds\n"
     ]
    },
    {
     "name": "stderr",
     "output_type": "stream",
     "text": [
      "[I 2023-12-09 17:44:24,958] Trial 124 finished with value: 0.7538954477071715 and parameters: {'learning_rate': 0.7055996135695779, 'num_leaves': 80, 'max_depth': 12, 'min_data_in_leaf': 100, 'lambda_l1': 0.9946819163096604, 'lambda_l2': 8.55952934360285, 'bagging_fraction': 0.9, 'bagging_freq': 5, 'feature_fraction': 0.8, 'is_unbalance': True}. Best is trial 97 with value: 0.7574494964813685.\n",
      "[I 2023-12-09 17:44:25,046] Trial 125 pruned. Trial was pruned at iteration 0.\n"
     ]
    },
    {
     "name": "stdout",
     "output_type": "stream",
     "text": [
      "Early stopping, best iteration is:\n",
      "[2]\tvalid_0's auc: 0.736279\n",
      "Training until validation scores don't improve for 5 rounds\n",
      "Early stopping, best iteration is:\n",
      "[2]\tvalid_0's auc: 0.705115\n",
      "Training until validation scores don't improve for 5 rounds\n",
      "Early stopping, best iteration is:\n",
      "[2]\tvalid_0's auc: 0.753896\n",
      "Training until validation scores don't improve for 5 rounds\n",
      "Early stopping, best iteration is:\n",
      "[6]\tvalid_0's auc: 0.774983\n"
     ]
    },
    {
     "name": "stderr",
     "output_type": "stream",
     "text": [
      "[I 2023-12-09 17:44:25,218] Trial 126 finished with value: 0.7522517635846231 and parameters: {'learning_rate': 0.6966633143086528, 'num_leaves': 130, 'max_depth': 12, 'min_data_in_leaf': 100, 'lambda_l1': 0.9836208470206523, 'lambda_l2': 9.721982863192075, 'bagging_fraction': 0.9, 'bagging_freq': 5, 'feature_fraction': 0.8, 'is_unbalance': True}. Best is trial 97 with value: 0.7574494964813685.\n"
     ]
    },
    {
     "name": "stdout",
     "output_type": "stream",
     "text": [
      "Training until validation scores don't improve for 5 rounds\n",
      "Early stopping, best iteration is:\n",
      "[8]\tvalid_0's auc: 0.794893\n",
      "Training until validation scores don't improve for 5 rounds\n",
      "Early stopping, best iteration is:\n",
      "[7]\tvalid_0's auc: 0.756508\n",
      "Training until validation scores don't improve for 5 rounds\n",
      "Early stopping, best iteration is:\n",
      "[3]\tvalid_0's auc: 0.707486\n",
      "Training until validation scores don't improve for 5 rounds\n",
      "Early stopping, best iteration is:\n",
      "[2]\tvalid_0's auc: 0.754065\n",
      "Training until validation scores don't improve for 5 rounds\n",
      "Early stopping, best iteration is:\n",
      "[3]\tvalid_0's auc: 0.748306\n",
      "Training until validation scores don't improve for 5 rounds\n",
      "Early stopping, best iteration is:\n",
      "[6]\tvalid_0's auc: 0.779639\n",
      "Training until validation scores don't improve for 5 rounds\n",
      "Early stopping, best iteration is:\n",
      "[2]\tvalid_0's auc: 0.736279\n",
      "Training until validation scores don't improve for 5 rounds\n"
     ]
    },
    {
     "name": "stderr",
     "output_type": "stream",
     "text": [
      "[I 2023-12-09 17:44:25,397] Trial 127 finished with value: 0.7443590259045518 and parameters: {'learning_rate': 0.7803149896131388, 'num_leaves': 100, 'max_depth': 12, 'min_data_in_leaf': 100, 'lambda_l1': 0.7776783389637476, 'lambda_l2': 8.447701786408308, 'bagging_fraction': 0.9, 'bagging_freq': 5, 'feature_fraction': 0.8, 'is_unbalance': True}. Best is trial 97 with value: 0.7574494964813685.\n",
      "[I 2023-12-09 17:44:25,490] Trial 128 pruned. Trial was pruned at iteration 4.\n"
     ]
    },
    {
     "name": "stdout",
     "output_type": "stream",
     "text": [
      "Early stopping, best iteration is:\n",
      "[3]\tvalid_0's auc: 0.70647\n",
      "Training until validation scores don't improve for 5 rounds\n",
      "Early stopping, best iteration is:\n",
      "[6]\tvalid_0's auc: 0.732978\n",
      "Training until validation scores don't improve for 5 rounds\n",
      "Early stopping, best iteration is:\n",
      "[10]\tvalid_0's auc: 0.76643\n",
      "Training until validation scores don't improve for 5 rounds\n"
     ]
    },
    {
     "name": "stderr",
     "output_type": "stream",
     "text": [
      "[I 2023-12-09 17:44:25,584] Trial 129 pruned. Trial was pruned at iteration 0.\n",
      "[I 2023-12-09 17:44:25,680] Trial 130 pruned. Trial was pruned at iteration 0.\n",
      "[I 2023-12-09 17:44:25,773] Trial 131 pruned. Trial was pruned at iteration 1.\n"
     ]
    },
    {
     "name": "stdout",
     "output_type": "stream",
     "text": [
      "Training until validation scores don't improve for 5 rounds\n",
      "Training until validation scores don't improve for 5 rounds\n",
      "Early stopping, best iteration is:\n",
      "[11]\tvalid_0's auc: 0.771928\n",
      "Training until validation scores don't improve for 5 rounds\n",
      "Early stopping, best iteration is:\n",
      "[5]\tvalid_0's auc: 0.767866\n",
      "Training until validation scores don't improve for 5 rounds\n",
      "Early stopping, best iteration is:\n",
      "[2]\tvalid_0's auc: 0.698425\n",
      "Training until validation scores don't improve for 5 rounds\n",
      "Early stopping, best iteration is:\n",
      "[2]\tvalid_0's auc: 0.738144\n",
      "Training until validation scores don't improve for 5 rounds\n",
      "Early stopping, best iteration is:\n",
      "[9]\tvalid_0's auc: 0.767785\n"
     ]
    },
    {
     "name": "stderr",
     "output_type": "stream",
     "text": [
      "[I 2023-12-09 17:44:25,949] Trial 132 finished with value: 0.7488294753304855 and parameters: {'learning_rate': 0.6483622064388362, 'num_leaves': 50, 'max_depth': 12, 'min_data_in_leaf': 100, 'lambda_l1': 0.9486287809710292, 'lambda_l2': 9.999013704213295, 'bagging_fraction': 0.9, 'bagging_freq': 5, 'feature_fraction': 0.8, 'is_unbalance': True}. Best is trial 97 with value: 0.7574494964813685.\n",
      "[I 2023-12-09 17:44:26,052] Trial 133 pruned. Trial was pruned at iteration 6.\n",
      "[I 2023-12-09 17:44:26,145] Trial 134 pruned. Trial was pruned at iteration 1.\n"
     ]
    },
    {
     "name": "stdout",
     "output_type": "stream",
     "text": [
      "Training until validation scores don't improve for 5 rounds\n",
      "Training until validation scores don't improve for 5 rounds\n",
      "Training until validation scores don't improve for 5 rounds\n"
     ]
    },
    {
     "name": "stderr",
     "output_type": "stream",
     "text": [
      "[I 2023-12-09 17:44:26,237] Trial 135 pruned. Trial was pruned at iteration 1.\n",
      "[I 2023-12-09 17:44:26,332] Trial 136 pruned. Trial was pruned at iteration 2.\n",
      "[I 2023-12-09 17:44:26,425] Trial 137 pruned. Trial was pruned at iteration 4.\n"
     ]
    },
    {
     "name": "stdout",
     "output_type": "stream",
     "text": [
      "Training until validation scores don't improve for 5 rounds\n",
      "Training until validation scores don't improve for 5 rounds\n",
      "Training until validation scores don't improve for 5 rounds\n",
      "Early stopping, best iteration is:\n",
      "[9]\tvalid_0's auc: 0.769607\n",
      "Training until validation scores don't improve for 5 rounds\n"
     ]
    },
    {
     "name": "stderr",
     "output_type": "stream",
     "text": [
      "[I 2023-12-09 17:44:26,620] Trial 138 finished with value: 0.7484329580590615 and parameters: {'learning_rate': 0.6432215947965978, 'num_leaves': 110, 'max_depth': 12, 'min_data_in_leaf': 100, 'lambda_l1': 1.1585762130071209, 'lambda_l2': 8.789352889831214, 'bagging_fraction': 0.9, 'bagging_freq': 5, 'feature_fraction': 0.8, 'is_unbalance': True}. Best is trial 97 with value: 0.7574494964813685.\n"
     ]
    },
    {
     "name": "stdout",
     "output_type": "stream",
     "text": [
      "Early stopping, best iteration is:\n",
      "[5]\tvalid_0's auc: 0.767866\n",
      "Training until validation scores don't improve for 5 rounds\n",
      "Early stopping, best iteration is:\n",
      "[2]\tvalid_0's auc: 0.698425\n",
      "Training until validation scores don't improve for 5 rounds\n",
      "Early stopping, best iteration is:\n",
      "[2]\tvalid_0's auc: 0.738144\n",
      "Training until validation scores don't improve for 5 rounds\n",
      "Early stopping, best iteration is:\n",
      "[9]\tvalid_0's auc: 0.768123\n",
      "Training until validation scores don't improve for 5 rounds\n",
      "Early stopping, best iteration is:\n",
      "[11]\tvalid_0's auc: 0.797049\n",
      "Training until validation scores don't improve for 5 rounds\n",
      "Early stopping, best iteration is:\n",
      "[2]\tvalid_0's auc: 0.736279\n",
      "Training until validation scores don't improve for 5 rounds\n",
      "Early stopping, best iteration is:\n",
      "[3]\tvalid_0's auc: 0.707486\n"
     ]
    },
    {
     "name": "stderr",
     "output_type": "stream",
     "text": [
      "[I 2023-12-09 17:44:26,799] Trial 139 finished with value: 0.7543789759009346 and parameters: {'learning_rate': 0.6827053124980115, 'num_leaves': 90, 'max_depth': 12, 'min_data_in_leaf': 100, 'lambda_l1': 1.3807065904513933, 'lambda_l2': 7.331637901661152, 'bagging_fraction': 0.9, 'bagging_freq': 5, 'feature_fraction': 0.8, 'is_unbalance': True}. Best is trial 97 with value: 0.7574494964813685.\n",
      "[I 2023-12-09 17:44:26,893] Trial 140 pruned. Trial was pruned at iteration 0.\n"
     ]
    },
    {
     "name": "stdout",
     "output_type": "stream",
     "text": [
      "Training until validation scores don't improve for 5 rounds\n",
      "Early stopping, best iteration is:\n",
      "[2]\tvalid_0's auc: 0.753896\n",
      "Training until validation scores don't improve for 5 rounds\n",
      "Early stopping, best iteration is:\n",
      "[6]\tvalid_0's auc: 0.777185\n"
     ]
    },
    {
     "name": "stderr",
     "output_type": "stream",
     "text": [
      "[I 2023-12-09 17:44:27,065] Trial 141 finished with value: 0.7534318931006423 and parameters: {'learning_rate': 0.6936540186584523, 'num_leaves': 50, 'max_depth': 12, 'min_data_in_leaf': 100, 'lambda_l1': 1.339213390925428, 'lambda_l2': 7.236897694203274, 'bagging_fraction': 0.9, 'bagging_freq': 5, 'feature_fraction': 0.8, 'is_unbalance': True}. Best is trial 97 with value: 0.7574494964813685.\n"
     ]
    },
    {
     "name": "stdout",
     "output_type": "stream",
     "text": [
      "Training until validation scores don't improve for 5 rounds\n",
      "Early stopping, best iteration is:\n",
      "[8]\tvalid_0's auc: 0.796717\n",
      "Training until validation scores don't improve for 5 rounds\n",
      "Early stopping, best iteration is:\n",
      "[2]\tvalid_0's auc: 0.736279\n",
      "Training until validation scores don't improve for 5 rounds\n",
      "Early stopping, best iteration is:\n",
      "[2]\tvalid_0's auc: 0.705115\n",
      "Training until validation scores don't improve for 5 rounds\n",
      "Early stopping, best iteration is:\n",
      "[2]\tvalid_0's auc: 0.753896\n",
      "Training until validation scores don't improve for 5 rounds\n",
      "Early stopping, best iteration is:\n",
      "[6]\tvalid_0's auc: 0.775152\n",
      "Training until validation scores don't improve for 5 rounds\n",
      "Early stopping, best iteration is:\n",
      "[18]\tvalid_0's auc: 0.818189\n",
      "Training until validation scores don't improve for 5 rounds\n"
     ]
    },
    {
     "name": "stderr",
     "output_type": "stream",
     "text": [
      "[I 2023-12-09 17:44:27,244] Trial 142 finished with value: 0.7541186480510138 and parameters: {'learning_rate': 0.6983898605917787, 'num_leaves': 40, 'max_depth': 12, 'min_data_in_leaf': 100, 'lambda_l1': 1.5525205226961205, 'lambda_l2': 6.960040613205266, 'bagging_fraction': 0.9, 'bagging_freq': 5, 'feature_fraction': 0.8, 'is_unbalance': True}. Best is trial 97 with value: 0.7574494964813685.\n"
     ]
    },
    {
     "name": "stdout",
     "output_type": "stream",
     "text": [
      "Early stopping, best iteration is:\n",
      "[2]\tvalid_0's auc: 0.736279\n",
      "Training until validation scores don't improve for 5 rounds\n",
      "Early stopping, best iteration is:\n",
      "[2]\tvalid_0's auc: 0.705115\n",
      "Training until validation scores don't improve for 5 rounds\n",
      "Early stopping, best iteration is:\n",
      "[2]\tvalid_0's auc: 0.753896\n",
      "Training until validation scores don't improve for 5 rounds\n",
      "Early stopping, best iteration is:\n",
      "[6]\tvalid_0's auc: 0.757114\n",
      "Training until validation scores don't improve for 5 rounds\n",
      "Early stopping, best iteration is:\n",
      "[7]\tvalid_0's auc: 0.794644\n",
      "Training until validation scores don't improve for 5 rounds\n",
      "Early stopping, best iteration is:\n",
      "[2]\tvalid_0's auc: 0.736279\n",
      "Training until validation scores don't improve for 5 rounds\n",
      "Early stopping, best iteration is:\n",
      "[2]\tvalid_0's auc: 0.705115\n",
      "Training until validation scores don't improve for 5 rounds\n"
     ]
    },
    {
     "name": "stderr",
     "output_type": "stream",
     "text": [
      "[I 2023-12-09 17:44:27,412] Trial 143 finished with value: 0.745056663539194 and parameters: {'learning_rate': 0.699836561821178, 'num_leaves': 20, 'max_depth': 12, 'min_data_in_leaf': 100, 'lambda_l1': 1.8693486993851356, 'lambda_l2': 7.083877692185891, 'bagging_fraction': 0.9, 'bagging_freq': 5, 'feature_fraction': 0.8, 'is_unbalance': True}. Best is trial 97 with value: 0.7574494964813685.\n",
      "[I 2023-12-09 17:44:27,509] Trial 144 pruned. Trial was pruned at iteration 5.\n"
     ]
    },
    {
     "name": "stdout",
     "output_type": "stream",
     "text": [
      "Early stopping, best iteration is:\n",
      "[2]\tvalid_0's auc: 0.753896\n",
      "Training until validation scores don't improve for 5 rounds\n",
      "Early stopping, best iteration is:\n",
      "[2]\tvalid_0's auc: 0.735349\n",
      "Training until validation scores don't improve for 5 rounds\n"
     ]
    },
    {
     "name": "stderr",
     "output_type": "stream",
     "text": [
      "[I 2023-12-09 17:44:27,606] Trial 145 pruned. Trial was pruned at iteration 4.\n",
      "[I 2023-12-09 17:44:27,702] Trial 146 pruned. Trial was pruned at iteration 6.\n"
     ]
    },
    {
     "name": "stdout",
     "output_type": "stream",
     "text": [
      "Training until validation scores don't improve for 5 rounds\n",
      "Training until validation scores don't improve for 5 rounds\n",
      "Training until validation scores don't improve for 5 rounds\n"
     ]
    },
    {
     "name": "stderr",
     "output_type": "stream",
     "text": [
      "[I 2023-12-09 17:44:27,801] Trial 147 pruned. Trial was pruned at iteration 4.\n",
      "[I 2023-12-09 17:44:27,895] Trial 148 pruned. Trial was pruned at iteration 0.\n",
      "[I 2023-12-09 17:44:27,990] Trial 149 pruned. Trial was pruned at iteration 1.\n",
      "[I 2023-12-09 17:44:28,085] Trial 150 pruned. Trial was pruned at iteration 3.\n"
     ]
    },
    {
     "name": "stdout",
     "output_type": "stream",
     "text": [
      "Training until validation scores don't improve for 5 rounds\n",
      "Training until validation scores don't improve for 5 rounds\n"
     ]
    },
    {
     "name": "stderr",
     "output_type": "stream",
     "text": [
      "[I 2023-12-09 17:44:28,268] Trial 151 finished with value: 0.7492548998197659 and parameters: {'learning_rate': 0.6476614693723989, 'num_leaves': 70, 'max_depth': 12, 'min_data_in_leaf': 100, 'lambda_l1': 1.30964387996642, 'lambda_l2': 4.772577913302284, 'bagging_fraction': 0.9, 'bagging_freq': 5, 'feature_fraction': 0.8, 'is_unbalance': True}. Best is trial 97 with value: 0.7574494964813685.\n"
     ]
    },
    {
     "name": "stdout",
     "output_type": "stream",
     "text": [
      "Training until validation scores don't improve for 5 rounds\n",
      "Early stopping, best iteration is:\n",
      "[11]\tvalid_0's auc: 0.77483\n",
      "Training until validation scores don't improve for 5 rounds\n",
      "Early stopping, best iteration is:\n",
      "[6]\tvalid_0's auc: 0.744818\n",
      "Training until validation scores don't improve for 5 rounds\n",
      "Early stopping, best iteration is:\n",
      "[2]\tvalid_0's auc: 0.696477\n",
      "Training until validation scores don't improve for 5 rounds\n",
      "Early stopping, best iteration is:\n",
      "[7]\tvalid_0's auc: 0.759316\n",
      "Training until validation scores don't improve for 5 rounds\n",
      "Early stopping, best iteration is:\n",
      "[6]\tvalid_0's auc: 0.770833\n",
      "Training until validation scores don't improve for 5 rounds\n",
      "Early stopping, best iteration is:\n",
      "[5]\tvalid_0's auc: 0.781131\n",
      "Training until validation scores don't improve for 5 rounds\n",
      "Early stopping, best iteration is:\n",
      "[2]\tvalid_0's auc: 0.736279\n"
     ]
    },
    {
     "name": "stderr",
     "output_type": "stream",
     "text": [
      "[I 2023-12-09 17:44:28,447] Trial 152 finished with value: 0.7457414947118299 and parameters: {'learning_rate': 0.6830182450339838, 'num_leaves': 60, 'max_depth': 12, 'min_data_in_leaf': 100, 'lambda_l1': 1.5224792438098744, 'lambda_l2': 5.4286859909179475, 'bagging_fraction': 0.9, 'bagging_freq': 5, 'feature_fraction': 0.8, 'is_unbalance': True}. Best is trial 97 with value: 0.7574494964813685.\n",
      "[I 2023-12-09 17:44:28,548] Trial 153 pruned. Trial was pruned at iteration 5.\n"
     ]
    },
    {
     "name": "stdout",
     "output_type": "stream",
     "text": [
      "Training until validation scores don't improve for 5 rounds\n",
      "Early stopping, best iteration is:\n",
      "[2]\tvalid_0's auc: 0.698509\n",
      "Training until validation scores don't improve for 5 rounds\n",
      "Early stopping, best iteration is:\n",
      "[4]\tvalid_0's auc: 0.756013\n",
      "Training until validation scores don't improve for 5 rounds\n",
      "Early stopping, best iteration is:\n",
      "[6]\tvalid_0's auc: 0.756775\n",
      "Training until validation scores don't improve for 5 rounds\n"
     ]
    },
    {
     "name": "stderr",
     "output_type": "stream",
     "text": [
      "[I 2023-12-09 17:44:28,646] Trial 154 pruned. Trial was pruned at iteration 1.\n"
     ]
    },
    {
     "name": "stdout",
     "output_type": "stream",
     "text": [
      "Training until validation scores don't improve for 5 rounds\n",
      "Training until validation scores don't improve for 5 rounds\n",
      "Early stopping, best iteration is:\n",
      "[8]\tvalid_0's auc: 0.796468\n",
      "Training until validation scores don't improve for 5 rounds\n",
      "Early stopping, best iteration is:\n",
      "[2]\tvalid_0's auc: 0.736279\n",
      "Training until validation scores don't improve for 5 rounds\n",
      "Early stopping, best iteration is:\n",
      "[2]\tvalid_0's auc: 0.705115\n",
      "Training until validation scores don't improve for 5 rounds\n",
      "Early stopping, best iteration is:\n",
      "[2]\tvalid_0's auc: 0.753896\n",
      "Training until validation scores don't improve for 5 rounds\n",
      "Early stopping, best iteration is:\n",
      "[9]\tvalid_0's auc: 0.763465\n"
     ]
    },
    {
     "name": "stderr",
     "output_type": "stream",
     "text": [
      "[I 2023-12-09 17:44:28,827] Trial 155 finished with value: 0.7510447517321304 and parameters: {'learning_rate': 0.7100097261635779, 'num_leaves': 120, 'max_depth': 12, 'min_data_in_leaf': 100, 'lambda_l1': 1.227488623778217, 'lambda_l2': 9.00311725862886, 'bagging_fraction': 0.9, 'bagging_freq': 5, 'feature_fraction': 0.8, 'is_unbalance': True}. Best is trial 97 with value: 0.7574494964813685.\n",
      "[I 2023-12-09 17:44:28,925] Trial 156 pruned. Trial was pruned at iteration 1.\n",
      "[I 2023-12-09 17:44:29,020] Trial 157 pruned. Trial was pruned at iteration 0.\n"
     ]
    },
    {
     "name": "stdout",
     "output_type": "stream",
     "text": [
      "Training until validation scores don't improve for 5 rounds\n",
      "Training until validation scores don't improve for 5 rounds\n",
      "Early stopping, best iteration is:\n",
      "[8]\tvalid_0's auc: 0.799038\n"
     ]
    },
    {
     "name": "stderr",
     "output_type": "stream",
     "text": [
      "[I 2023-12-09 17:44:29,197] Trial 158 finished with value: 0.754897946539986 and parameters: {'learning_rate': 0.6598265655968288, 'num_leaves': 30, 'max_depth': 12, 'min_data_in_leaf': 100, 'lambda_l1': 2.2229173178708073, 'lambda_l2': 5.155714676023544, 'bagging_fraction': 0.9, 'bagging_freq': 5, 'feature_fraction': 0.8, 'is_unbalance': True}. Best is trial 97 with value: 0.7574494964813685.\n"
     ]
    },
    {
     "name": "stdout",
     "output_type": "stream",
     "text": [
      "Training until validation scores don't improve for 5 rounds\n",
      "Early stopping, best iteration is:\n",
      "[5]\tvalid_0's auc: 0.767203\n",
      "Training until validation scores don't improve for 5 rounds\n",
      "Early stopping, best iteration is:\n",
      "[2]\tvalid_0's auc: 0.699187\n",
      "Training until validation scores don't improve for 5 rounds\n",
      "Early stopping, best iteration is:\n",
      "[2]\tvalid_0's auc: 0.753218\n",
      "Training until validation scores don't improve for 5 rounds\n",
      "Early stopping, best iteration is:\n",
      "[5]\tvalid_0's auc: 0.755843\n",
      "Training until validation scores don't improve for 5 rounds\n",
      "Early stopping, best iteration is:\n",
      "[11]\tvalid_0's auc: 0.77798\n",
      "Training until validation scores don't improve for 5 rounds\n",
      "Early stopping, best iteration is:\n",
      "[5]\tvalid_0's auc: 0.768198\n",
      "Training until validation scores don't improve for 5 rounds\n",
      "Early stopping, best iteration is:\n",
      "[2]\tvalid_0's auc: 0.698425\n",
      "Training until validation scores don't improve for 5 rounds\n",
      "Early stopping, best iteration is:\n",
      "[2]\tvalid_0's auc: 0.737297\n"
     ]
    },
    {
     "name": "stderr",
     "output_type": "stream",
     "text": [
      "[I 2023-12-09 17:44:29,374] Trial 159 finished with value: 0.7512071606995294 and parameters: {'learning_rate': 0.666456475957864, 'num_leaves': 40, 'max_depth': 12, 'min_data_in_leaf': 100, 'lambda_l1': 2.071526727674852, 'lambda_l2': 9.982881733196077, 'bagging_fraction': 0.9, 'bagging_freq': 5, 'feature_fraction': 0.8, 'is_unbalance': True}. Best is trial 97 with value: 0.7574494964813685.\n",
      "[I 2023-12-09 17:44:29,546] Trial 160 finished with value: 0.7535392258561122 and parameters: {'learning_rate': 0.6855251937410777, 'num_leaves': 20, 'max_depth': 12, 'min_data_in_leaf': 100, 'lambda_l1': 1.5950262256734469, 'lambda_l2': 6.832397195146264, 'bagging_fraction': 0.9, 'bagging_freq': 5, 'feature_fraction': 0.8, 'is_unbalance': True}. Best is trial 97 with value: 0.7574494964813685.\n"
     ]
    },
    {
     "name": "stdout",
     "output_type": "stream",
     "text": [
      "Training until validation scores don't improve for 5 rounds\n",
      "Early stopping, best iteration is:\n",
      "[7]\tvalid_0's auc: 0.774136\n",
      "Training until validation scores don't improve for 5 rounds\n",
      "Early stopping, best iteration is:\n",
      "[8]\tvalid_0's auc: 0.79539\n",
      "Training until validation scores don't improve for 5 rounds\n",
      "Early stopping, best iteration is:\n",
      "[2]\tvalid_0's auc: 0.736279\n",
      "Training until validation scores don't improve for 5 rounds\n",
      "Early stopping, best iteration is:\n",
      "[2]\tvalid_0's auc: 0.705115\n",
      "Training until validation scores don't improve for 5 rounds\n",
      "Early stopping, best iteration is:\n",
      "[2]\tvalid_0's auc: 0.753896\n",
      "Training until validation scores don't improve for 5 rounds\n",
      "Early stopping, best iteration is:\n",
      "[6]\tvalid_0's auc: 0.777016\n"
     ]
    },
    {
     "name": "stderr",
     "output_type": "stream",
     "text": [
      "[I 2023-12-09 17:44:29,735] Trial 161 finished with value: 0.7483926710640014 and parameters: {'learning_rate': 0.6995713937520259, 'num_leaves': 20, 'max_depth': 12, 'min_data_in_leaf': 100, 'lambda_l1': 2.2905506452820434, 'lambda_l2': 6.814808289631292, 'bagging_fraction': 0.9, 'bagging_freq': 5, 'feature_fraction': 0.8, 'is_unbalance': True}. Best is trial 97 with value: 0.7574494964813685.\n",
      "[I 2023-12-09 17:44:29,835] Trial 162 pruned. Trial was pruned at iteration 5.\n"
     ]
    },
    {
     "name": "stdout",
     "output_type": "stream",
     "text": [
      "Training until validation scores don't improve for 5 rounds\n",
      "Early stopping, best iteration is:\n",
      "[8]\tvalid_0's auc: 0.79481\n",
      "Training until validation scores don't improve for 5 rounds\n",
      "Early stopping, best iteration is:\n",
      "[2]\tvalid_0's auc: 0.736279\n",
      "Training until validation scores don't improve for 5 rounds\n",
      "Early stopping, best iteration is:\n",
      "[3]\tvalid_0's auc: 0.704607\n",
      "Training until validation scores don't improve for 5 rounds\n",
      "Early stopping, best iteration is:\n",
      "[2]\tvalid_0's auc: 0.753896\n",
      "Training until validation scores don't improve for 5 rounds\n",
      "Early stopping, best iteration is:\n",
      "[13]\tvalid_0's auc: 0.752371\n",
      "Training until validation scores don't improve for 5 rounds\n"
     ]
    },
    {
     "name": "stderr",
     "output_type": "stream",
     "text": [
      "[I 2023-12-09 17:44:29,936] Trial 163 pruned. Trial was pruned at iteration 1.\n",
      "[I 2023-12-09 17:44:30,032] Trial 164 pruned. Trial was pruned at iteration 0.\n"
     ]
    },
    {
     "name": "stdout",
     "output_type": "stream",
     "text": [
      "Training until validation scores don't improve for 5 rounds\n",
      "Training until validation scores don't improve for 5 rounds\n",
      "Early stopping, best iteration is:\n",
      "[16]\tvalid_0's auc: 0.794064\n",
      "Training until validation scores don't improve for 5 rounds\n"
     ]
    },
    {
     "name": "stderr",
     "output_type": "stream",
     "text": [
      "[I 2023-12-09 17:44:30,232] Trial 165 finished with value: 0.7455540934844767 and parameters: {'learning_rate': 0.7206715780007797, 'num_leaves': 70, 'max_depth': 12, 'min_data_in_leaf': 100, 'lambda_l1': 1.4710397379363767, 'lambda_l2': 3.7201056573444014, 'bagging_fraction': 0.9, 'bagging_freq': 5, 'feature_fraction': 0.8, 'is_unbalance': True}. Best is trial 97 with value: 0.7574494964813685.\n"
     ]
    },
    {
     "name": "stdout",
     "output_type": "stream",
     "text": [
      "Early stopping, best iteration is:\n",
      "[2]\tvalid_0's auc: 0.739347\n",
      "Training until validation scores don't improve for 5 rounds\n",
      "Early stopping, best iteration is:\n",
      "[2]\tvalid_0's auc: 0.702236\n",
      "Training until validation scores don't improve for 5 rounds\n",
      "Early stopping, best iteration is:\n",
      "[1]\tvalid_0's auc: 0.741192\n",
      "Training until validation scores don't improve for 5 rounds\n",
      "Early stopping, best iteration is:\n",
      "[8]\tvalid_0's auc: 0.750932\n",
      "Training until validation scores don't improve for 5 rounds\n",
      "Early stopping, best iteration is:\n",
      "[6]\tvalid_0's auc: 0.794893\n",
      "Training until validation scores don't improve for 5 rounds\n",
      "Early stopping, best iteration is:\n",
      "[2]\tvalid_0's auc: 0.736279\n",
      "Training until validation scores don't improve for 5 rounds\n"
     ]
    },
    {
     "name": "stderr",
     "output_type": "stream",
     "text": [
      "[I 2023-12-09 17:44:30,418] Trial 166 finished with value: 0.7530332358020149 and parameters: {'learning_rate': 0.6869062333156384, 'num_leaves': 30, 'max_depth': 12, 'min_data_in_leaf': 100, 'lambda_l1': 1.249174920620753, 'lambda_l2': 6.690092071946625, 'bagging_fraction': 0.9, 'bagging_freq': 5, 'feature_fraction': 0.8, 'is_unbalance': True}. Best is trial 97 with value: 0.7574494964813685.\n"
     ]
    },
    {
     "name": "stdout",
     "output_type": "stream",
     "text": [
      "Early stopping, best iteration is:\n",
      "[2]\tvalid_0's auc: 0.705115\n",
      "Training until validation scores don't improve for 5 rounds\n",
      "Early stopping, best iteration is:\n",
      "[2]\tvalid_0's auc: 0.753896\n",
      "Training until validation scores don't improve for 5 rounds\n",
      "Early stopping, best iteration is:\n",
      "[6]\tvalid_0's auc: 0.774983\n",
      "Training until validation scores don't improve for 5 rounds\n",
      "Early stopping, best iteration is:\n",
      "[6]\tvalid_0's auc: 0.794727\n",
      "Training until validation scores don't improve for 5 rounds\n",
      "Early stopping, best iteration is:\n",
      "[2]\tvalid_0's auc: 0.735782\n",
      "Training until validation scores don't improve for 5 rounds\n",
      "Early stopping, best iteration is:\n",
      "[2]\tvalid_0's auc: 0.705115\n"
     ]
    },
    {
     "name": "stderr",
     "output_type": "stream",
     "text": [
      "[I 2023-12-09 17:44:30,609] Trial 167 finished with value: 0.7528667124778528 and parameters: {'learning_rate': 0.6839208900174776, 'num_leaves': 40, 'max_depth': 12, 'min_data_in_leaf': 100, 'lambda_l1': 1.1319101086457681, 'lambda_l2': 6.793028894997586, 'bagging_fraction': 0.9, 'bagging_freq': 5, 'feature_fraction': 0.8, 'is_unbalance': True}. Best is trial 97 with value: 0.7574494964813685.\n",
      "[I 2023-12-09 17:44:30,720] Trial 168 pruned. Trial was pruned at iteration 6.\n"
     ]
    },
    {
     "name": "stdout",
     "output_type": "stream",
     "text": [
      "Training until validation scores don't improve for 5 rounds\n",
      "Early stopping, best iteration is:\n",
      "[2]\tvalid_0's auc: 0.753896\n",
      "Training until validation scores don't improve for 5 rounds\n",
      "Early stopping, best iteration is:\n",
      "[6]\tvalid_0's auc: 0.774814\n",
      "Training until validation scores don't improve for 5 rounds\n"
     ]
    },
    {
     "name": "stderr",
     "output_type": "stream",
     "text": [
      "[I 2023-12-09 17:44:30,935] Trial 169 finished with value: 0.7533409672204001 and parameters: {'learning_rate': 0.691276290468977, 'num_leaves': 40, 'max_depth': 12, 'min_data_in_leaf': 100, 'lambda_l1': 1.2534329107377271, 'lambda_l2': 7.792255882807116, 'bagging_fraction': 0.9, 'bagging_freq': 5, 'feature_fraction': 0.8, 'is_unbalance': True}. Best is trial 97 with value: 0.7574494964813685.\n"
     ]
    },
    {
     "name": "stdout",
     "output_type": "stream",
     "text": [
      "Training until validation scores don't improve for 5 rounds\n",
      "Early stopping, best iteration is:\n",
      "[6]\tvalid_0's auc: 0.79423\n",
      "Training until validation scores don't improve for 5 rounds\n",
      "Early stopping, best iteration is:\n",
      "[2]\tvalid_0's auc: 0.736279\n",
      "Training until validation scores don't improve for 5 rounds\n",
      "Early stopping, best iteration is:\n",
      "[2]\tvalid_0's auc: 0.705115\n",
      "Training until validation scores don't improve for 5 rounds\n",
      "Early stopping, best iteration is:\n",
      "[2]\tvalid_0's auc: 0.753896\n",
      "Training until validation scores don't improve for 5 rounds\n",
      "Early stopping, best iteration is:\n",
      "[6]\tvalid_0's auc: 0.777185\n"
     ]
    },
    {
     "name": "stderr",
     "output_type": "stream",
     "text": [
      "[I 2023-12-09 17:44:31,129] Trial 170 finished with value: 0.7490760587012272 and parameters: {'learning_rate': 0.6949906435574447, 'num_leaves': 20, 'max_depth': 12, 'min_data_in_leaf': 100, 'lambda_l1': 1.2416062257470046, 'lambda_l2': 8.347634851721972, 'bagging_fraction': 0.9, 'bagging_freq': 5, 'feature_fraction': 0.8, 'is_unbalance': True}. Best is trial 97 with value: 0.7574494964813685.\n"
     ]
    },
    {
     "name": "stdout",
     "output_type": "stream",
     "text": [
      "Training until validation scores don't improve for 5 rounds\n",
      "Early stopping, best iteration is:\n",
      "[11]\tvalid_0's auc: 0.79738\n",
      "Training until validation scores don't improve for 5 rounds\n",
      "Early stopping, best iteration is:\n",
      "[2]\tvalid_0's auc: 0.736279\n",
      "Training until validation scores don't improve for 5 rounds\n",
      "Early stopping, best iteration is:\n",
      "[3]\tvalid_0's auc: 0.705454\n",
      "Training until validation scores don't improve for 5 rounds\n",
      "Early stopping, best iteration is:\n",
      "[2]\tvalid_0's auc: 0.753896\n",
      "Training until validation scores don't improve for 5 rounds\n",
      "Early stopping, best iteration is:\n",
      "[3]\tvalid_0's auc: 0.752371\n",
      "Training until validation scores don't improve for 5 rounds\n",
      "Early stopping, best iteration is:\n",
      "[8]\tvalid_0's auc: 0.794561\n",
      "Training until validation scores don't improve for 5 rounds\n"
     ]
    },
    {
     "name": "stderr",
     "output_type": "stream",
     "text": [
      "[I 2023-12-09 17:44:31,314] Trial 171 finished with value: 0.753748184627842 and parameters: {'learning_rate': 0.676484479420394, 'num_leaves': 40, 'max_depth': 12, 'min_data_in_leaf': 100, 'lambda_l1': 1.055381127059626, 'lambda_l2': 7.544983007071164, 'bagging_fraction': 0.9, 'bagging_freq': 5, 'feature_fraction': 0.8, 'is_unbalance': True}. Best is trial 97 with value: 0.7574494964813685.\n"
     ]
    },
    {
     "name": "stdout",
     "output_type": "stream",
     "text": [
      "Early stopping, best iteration is:\n",
      "[2]\tvalid_0's auc: 0.735782\n",
      "Training until validation scores don't improve for 5 rounds\n",
      "Early stopping, best iteration is:\n",
      "[3]\tvalid_0's auc: 0.707486\n",
      "Training until validation scores don't improve for 5 rounds\n",
      "Early stopping, best iteration is:\n",
      "[2]\tvalid_0's auc: 0.754065\n",
      "Training until validation scores don't improve for 5 rounds\n",
      "Early stopping, best iteration is:\n",
      "[6]\tvalid_0's auc: 0.776846\n",
      "Training until validation scores don't improve for 5 rounds\n",
      "Early stopping, best iteration is:\n",
      "[6]\tvalid_0's auc: 0.794561\n",
      "Training until validation scores don't improve for 5 rounds\n",
      "Early stopping, best iteration is:\n",
      "[2]\tvalid_0's auc: 0.735782\n"
     ]
    },
    {
     "name": "stderr",
     "output_type": "stream",
     "text": [
      "[I 2023-12-09 17:44:31,509] Trial 172 finished with value: 0.7531723038690343 and parameters: {'learning_rate': 0.6760271439814851, 'num_leaves': 40, 'max_depth': 12, 'min_data_in_leaf': 100, 'lambda_l1': 1.0226735391746686, 'lambda_l2': 7.224147607515346, 'bagging_fraction': 0.9, 'bagging_freq': 5, 'feature_fraction': 0.8, 'is_unbalance': True}. Best is trial 97 with value: 0.7574494964813685.\n",
      "[I 2023-12-09 17:44:31,615] Trial 173 pruned. Trial was pruned at iteration 2.\n"
     ]
    },
    {
     "name": "stdout",
     "output_type": "stream",
     "text": [
      "Training until validation scores don't improve for 5 rounds\n",
      "Early stopping, best iteration is:\n",
      "[3]\tvalid_0's auc: 0.705454\n",
      "Training until validation scores don't improve for 5 rounds\n",
      "Early stopping, best iteration is:\n",
      "[2]\tvalid_0's auc: 0.753218\n",
      "Training until validation scores don't improve for 5 rounds\n",
      "Early stopping, best iteration is:\n",
      "[6]\tvalid_0's auc: 0.776846\n",
      "Training until validation scores don't improve for 5 rounds\n"
     ]
    },
    {
     "name": "stderr",
     "output_type": "stream",
     "text": [
      "[I 2023-12-09 17:44:31,734] Trial 174 pruned. Trial was pruned at iteration 2.\n",
      "[I 2023-12-09 17:44:31,849] Trial 175 pruned. Trial was pruned at iteration 5.\n"
     ]
    },
    {
     "name": "stdout",
     "output_type": "stream",
     "text": [
      "Training until validation scores don't improve for 5 rounds\n",
      "Training until validation scores don't improve for 5 rounds\n"
     ]
    },
    {
     "name": "stderr",
     "output_type": "stream",
     "text": [
      "[I 2023-12-09 17:44:31,954] Trial 176 pruned. Trial was pruned at iteration 2.\n",
      "[I 2023-12-09 17:44:32,053] Trial 177 pruned. Trial was pruned at iteration 0.\n"
     ]
    },
    {
     "name": "stdout",
     "output_type": "stream",
     "text": [
      "Training until validation scores don't improve for 5 rounds\n",
      "Training until validation scores don't improve for 5 rounds\n"
     ]
    },
    {
     "name": "stderr",
     "output_type": "stream",
     "text": [
      "[I 2023-12-09 17:44:32,160] Trial 178 pruned. Trial was pruned at iteration 6.\n",
      "[I 2023-12-09 17:44:32,259] Trial 179 pruned. Trial was pruned at iteration 0.\n",
      "[I 2023-12-09 17:44:32,359] Trial 180 pruned. Trial was pruned at iteration 2.\n",
      "[I 2023-12-09 17:44:32,533] Trial 181 finished with value: 0.753173730553837 and parameters: {'learning_rate': 0.6802088017315554, 'num_leaves': 40, 'max_depth': 12, 'min_data_in_leaf': 100, 'lambda_l1': 1.1003833929161355, 'lambda_l2': 6.904354120276676, 'bagging_fraction': 0.9, 'bagging_freq': 5, 'feature_fraction': 0.8, 'is_unbalance': True}. Best is trial 97 with value: 0.7574494964813685.\n"
     ]
    },
    {
     "name": "stdout",
     "output_type": "stream",
     "text": [
      "Training until validation scores don't improve for 5 rounds\n",
      "Training until validation scores don't improve for 5 rounds\n",
      "Early stopping, best iteration is:\n",
      "[6]\tvalid_0's auc: 0.79423\n",
      "Training until validation scores don't improve for 5 rounds\n",
      "Early stopping, best iteration is:\n",
      "[2]\tvalid_0's auc: 0.735782\n",
      "Training until validation scores don't improve for 5 rounds\n",
      "Early stopping, best iteration is:\n",
      "[2]\tvalid_0's auc: 0.705115\n",
      "Training until validation scores don't improve for 5 rounds\n",
      "Early stopping, best iteration is:\n",
      "[2]\tvalid_0's auc: 0.753896\n",
      "Training until validation scores don't improve for 5 rounds\n",
      "Early stopping, best iteration is:\n",
      "[6]\tvalid_0's auc: 0.776846\n"
     ]
    },
    {
     "name": "stderr",
     "output_type": "stream",
     "text": [
      "[I 2023-12-09 17:44:32,640] Trial 182 pruned. Trial was pruned at iteration 2.\n",
      "[I 2023-12-09 17:44:32,747] Trial 183 pruned. Trial was pruned at iteration 5.\n"
     ]
    },
    {
     "name": "stdout",
     "output_type": "stream",
     "text": [
      "Training until validation scores don't improve for 5 rounds\n",
      "Training until validation scores don't improve for 5 rounds\n"
     ]
    },
    {
     "name": "stderr",
     "output_type": "stream",
     "text": [
      "[I 2023-12-09 17:44:32,855] Trial 184 pruned. Trial was pruned at iteration 2.\n",
      "[I 2023-12-09 17:44:33,035] Trial 185 finished with value: 0.7534080045555057 and parameters: {'learning_rate': 0.6806874347884476, 'num_leaves': 30, 'max_depth': 12, 'min_data_in_leaf': 100, 'lambda_l1': 1.2071954889340555, 'lambda_l2': 7.107875400850363, 'bagging_fraction': 0.9, 'bagging_freq': 5, 'feature_fraction': 0.8, 'is_unbalance': True}. Best is trial 97 with value: 0.7574494964813685.\n"
     ]
    },
    {
     "name": "stdout",
     "output_type": "stream",
     "text": [
      "Training until validation scores don't improve for 5 rounds\n",
      "Training until validation scores don't improve for 5 rounds\n",
      "Early stopping, best iteration is:\n",
      "[6]\tvalid_0's auc: 0.794396\n",
      "Training until validation scores don't improve for 5 rounds\n",
      "Early stopping, best iteration is:\n",
      "[2]\tvalid_0's auc: 0.736279\n",
      "Training until validation scores don't improve for 5 rounds\n",
      "Early stopping, best iteration is:\n",
      "[2]\tvalid_0's auc: 0.705115\n",
      "Training until validation scores don't improve for 5 rounds\n",
      "Early stopping, best iteration is:\n",
      "[2]\tvalid_0's auc: 0.753896\n",
      "Training until validation scores don't improve for 5 rounds\n",
      "Early stopping, best iteration is:\n",
      "[6]\tvalid_0's auc: 0.777354\n"
     ]
    },
    {
     "name": "stderr",
     "output_type": "stream",
     "text": [
      "[I 2023-12-09 17:44:33,142] Trial 186 pruned. Trial was pruned at iteration 1.\n",
      "[I 2023-12-09 17:44:33,251] Trial 187 pruned. Trial was pruned at iteration 5.\n"
     ]
    },
    {
     "name": "stdout",
     "output_type": "stream",
     "text": [
      "Training until validation scores don't improve for 5 rounds\n",
      "Training until validation scores don't improve for 5 rounds\n"
     ]
    },
    {
     "name": "stderr",
     "output_type": "stream",
     "text": [
      "[I 2023-12-09 17:44:33,360] Trial 188 pruned. Trial was pruned at iteration 2.\n",
      "[I 2023-12-09 17:44:33,467] Trial 189 pruned. Trial was pruned at iteration 1.\n"
     ]
    },
    {
     "name": "stdout",
     "output_type": "stream",
     "text": [
      "Training until validation scores don't improve for 5 rounds\n",
      "Training until validation scores don't improve for 5 rounds\n",
      "Training until validation scores don't improve for 5 rounds\n"
     ]
    },
    {
     "name": "stderr",
     "output_type": "stream",
     "text": [
      "[I 2023-12-09 17:44:33,567] Trial 190 pruned. Trial was pruned at iteration 2.\n",
      "[I 2023-12-09 17:44:33,685] Trial 191 pruned. Trial was pruned at iteration 5.\n",
      "[I 2023-12-09 17:44:33,865] Trial 192 finished with value: 0.7499174179791044 and parameters: {'learning_rate': 0.675382048947181, 'num_leaves': 60, 'max_depth': 12, 'min_data_in_leaf': 100, 'lambda_l1': 1.296025036742225, 'lambda_l2': 5.631421236993999, 'bagging_fraction': 0.9, 'bagging_freq': 5, 'feature_fraction': 0.8, 'is_unbalance': True}. Best is trial 97 with value: 0.7574494964813685.\n"
     ]
    },
    {
     "name": "stdout",
     "output_type": "stream",
     "text": [
      "Training until validation scores don't improve for 5 rounds\n",
      "Training until validation scores don't improve for 5 rounds\n",
      "Early stopping, best iteration is:\n",
      "[6]\tvalid_0's auc: 0.795225\n",
      "Training until validation scores don't improve for 5 rounds\n",
      "Early stopping, best iteration is:\n",
      "[2]\tvalid_0's auc: 0.735782\n",
      "Training until validation scores don't improve for 5 rounds\n",
      "Early stopping, best iteration is:\n",
      "[2]\tvalid_0's auc: 0.698509\n",
      "Training until validation scores don't improve for 5 rounds\n",
      "Early stopping, best iteration is:\n",
      "[3]\tvalid_0's auc: 0.757029\n",
      "Training until validation scores don't improve for 5 rounds\n",
      "Early stopping, best iteration is:\n",
      "[9]\tvalid_0's auc: 0.763042\n"
     ]
    },
    {
     "name": "stderr",
     "output_type": "stream",
     "text": [
      "[I 2023-12-09 17:44:33,971] Trial 193 pruned. Trial was pruned at iteration 5.\n",
      "[I 2023-12-09 17:44:34,077] Trial 194 pruned. Trial was pruned at iteration 1.\n"
     ]
    },
    {
     "name": "stdout",
     "output_type": "stream",
     "text": [
      "Training until validation scores don't improve for 5 rounds\n",
      "Training until validation scores don't improve for 5 rounds\n",
      "Training until validation scores don't improve for 5 rounds\n"
     ]
    },
    {
     "name": "stderr",
     "output_type": "stream",
     "text": [
      "[I 2023-12-09 17:44:34,186] Trial 195 pruned. Trial was pruned at iteration 5.\n",
      "[I 2023-12-09 17:44:34,293] Trial 196 pruned. Trial was pruned at iteration 1.\n",
      "[I 2023-12-09 17:44:34,398] Trial 197 pruned. Trial was pruned at iteration 0.\n"
     ]
    },
    {
     "name": "stdout",
     "output_type": "stream",
     "text": [
      "Training until validation scores don't improve for 5 rounds\n"
     ]
    },
    {
     "name": "stderr",
     "output_type": "stream",
     "text": [
      "[I 2023-12-09 17:44:34,513] Trial 198 pruned. Trial was pruned at iteration 2.\n",
      "[I 2023-12-09 17:44:34,619] Trial 199 pruned. Trial was pruned at iteration 1.\n"
     ]
    },
    {
     "name": "stdout",
     "output_type": "stream",
     "text": [
      "Training until validation scores don't improve for 5 rounds\n",
      "Training until validation scores don't improve for 5 rounds\n",
      "Best hyperparameters: {'learning_rate': 0.6726653665151793, 'num_leaves': 100, 'max_depth': 12, 'min_data_in_leaf': 100, 'lambda_l1': 1.2370669791258075, 'lambda_l2': 7.6858777928943045, 'bagging_fraction': 0.9, 'bagging_freq': 5, 'feature_fraction': 0.8, 'is_unbalance': True}\n",
      "Best AUCPR: 0.7574494964813685\n"
     ]
    },
    {
     "data": {
      "text/plain": [
       "<Figure size 1200x600 with 0 Axes>"
      ]
     },
     "metadata": {},
     "output_type": "display_data"
    },
    {
     "data": {
      "image/png": "[encoded data removed]",
      "text/plain": [
       "<Figure size 640x480 with 1 Axes>"
      ]
     },
     "metadata": {},
     "output_type": "display_data"
    }
   ],
   "source": [
    "study = optuna.create_study(direction=\"maximize\", study_name=\"LGBM Classifier\")\n",
    "func = lambda trial: objective(trial, X_train[:1000], y_train[:1000])\n",
    "study.optimize(func, n_trials=200)\n",
    "\n",
    "print('Best hyperparameters:', study.best_params)\n",
    "print('Best AUCPR:', study.best_value)\n",
    "plt.figure(figsize=(12,6))\n",
    "lgb.plot_importance(lgb_clf, max_num_features=30)\n",
    "plt.title(\"Feature importances\")\n",
    "plt.show()\n"
   ]
  },
  {
   "cell_type": "code",
   "execution_count": 114,
   "metadata": {},
   "outputs": [
    {
     "data": {
      "application/vnd.plotly.v1+json": {
       "config": {
        "plotlyServerURL": "https://plot.ly"
       },
       "data": [
        {
         "mode": "markers",
         "name": "Objective Value",
         "type": "scatter",
         "x": [
          0,
          1,
          2,
          3,
          4,
          5,
          7,
          8,
          9,
          10,
          11,
          12,
          13,
          14,
          15,
          16,
          20,
          21,
          22,
          24,
          30,
          31,
          33,
          36,
          41,
          42,
          46,
          49,
          51,
          52,
          54,
          55,
          56,
          62,
          63,
          69,
          72,
          73,
          74,
          76,
          77,
          80,
          81,
          82,
          83,
          84,
          87,
          91,
          92,
          94,
          95,
          97,
          98,
          102,
          103,
          109,
          110,
          111,
          114,
          115,
          117,
          121,
          123,
          124,
          126,
          127,
          132,
          138,
          139,
          141,
          142,
          143,
          151,
          152,
          155,
          158,
          159,
          160,
          161,
          165,
          166,
          167,
          169,
          170,
          171,
          172,
          181,
          185,
          192
         ],
         "y": [
          0.5,
          0.5,
          0.5,
          0.6814861753119272,
          0.6869924933911916,
          0.5,
          0.5,
          0.5,
          0.5,
          0.7355537772547349,
          0.7259360428436816,
          0.7312341491948331,
          0.7336478330792262,
          0.5,
          0.5,
          0.739901225668284,
          0.5,
          0.7333231639914641,
          0.7364541445530521,
          0.7366318988073814,
          0.7334126716122078,
          0.7299140641464449,
          0.7386904477049248,
          0.7376465665875362,
          0.7398238448683608,
          0.7477133893582345,
          0.7379968991511336,
          0.7466946493478366,
          0.7482355953140034,
          0.7504927510931552,
          0.7456049317685185,
          0.7465209925996623,
          0.7433620259867828,
          0.7463466056584791,
          0.7533067183598382,
          0.7473682243143938,
          0.7375517088987836,
          0.737342385030549,
          0.7528463737941143,
          0.7464748163171402,
          0.7550388232389206,
          0.7529654766992041,
          0.7525331013341636,
          0.7477278219039031,
          0.7513776074068981,
          0.7525994253268681,
          0.7492409727923345,
          0.748878861653813,
          0.7493589972585184,
          0.7523956593508068,
          0.7542942875540511,
          0.7574494964813685,
          0.745730437904611,
          0.7506774730738519,
          0.7501178166420198,
          0.7552124715617907,
          0.7527582928581732,
          0.7447967176363853,
          0.7482500362849758,
          0.7426304961627795,
          0.7489362857171102,
          0.7533409672204001,
          0.754030235719784,
          0.7538954477071715,
          0.7522517635846231,
          0.7443590259045518,
          0.7488294753304855,
          0.7484329580590615,
          0.7543789759009346,
          0.7534318931006423,
          0.7541186480510138,
          0.745056663539194,
          0.7492548998197659,
          0.7457414947118299,
          0.7510447517321304,
          0.754897946539986,
          0.7512071606995294,
          0.7535392258561122,
          0.7483926710640014,
          0.7455540934844767,
          0.7530332358020149,
          0.7528667124778528,
          0.7533409672204001,
          0.7490760587012272,
          0.753748184627842,
          0.7531723038690343,
          0.753173730553837,
          0.7534080045555057,
          0.7499174179791044
         ]
        },
        {
         "mode": "lines",
         "name": "Best Value",
         "type": "scatter",
         "x": [
          0,
          1,
          2,
          3,
          4,
          5,
          6,
          7,
          8,
          9,
          10,
          11,
          12,
          13,
          14,
          15,
          16,
          17,
          18,
          19,
          20,
          21,
          22,
          23,
          24,
          25,
          26,
          27,
          28,
          29,
          30,
          31,
          32,
          33,
          34,
          35,
          36,
          37,
          38,
          39,
          40,
          41,
          42,
          43,
          44,
          45,
          46,
          47,
          48,
          49,
          50,
          51,
          52,
          53,
          54,
          55,
          56,
          57,
          58,
          59,
          60,
          61,
          62,
          63,
          64,
          65,
          66,
          67,
          68,
          69,
          70,
          71,
          72,
          73,
          74,
          75,
          76,
          77,
          78,
          79,
          80,
          81,
          82,
          83,
          84,
          85,
          86,
          87,
          88,
          89,
          90,
          91,
          92,
          93,
          94,
          95,
          96,
          97,
          98,
          99,
          100,
          101,
          102,
          103,
          104,
          105,
          106,
          107,
          108,
          109,
          110,
          111,
          112,
          113,
          114,
          115,
          116,
          117,
          118,
          119,
          120,
          121,
          122,
          123,
          124,
          125,
          126,
          127,
          128,
          129,
          130,
          131,
          132,
          133,
          134,
          135,
          136,
          137,
          138,
          139,
          140,
          141,
          142,
          143,
          144,
          145,
          146,
          147,
          148,
          149,
          150,
          151,
          152,
          153,
          154,
          155,
          156,
          157,
          158,
          159,
          160,
          161,
          162,
          163,
          164,
          165,
          166,
          167,
          168,
          169,
          170,
          171,
          172,
          173,
          174,
          175,
          176,
          177,
          178,
          179,
          180,
          181,
          182,
          183,
          184,
          185,
          186,
          187,
          188,
          189,
          190,
          191,
          192,
          193,
          194,
          195,
          196,
          197,
          198,
          199
         ],
         "y": [
          0.5,
          0.5,
          0.5,
          0.6814861753119272,
          0.6869924933911916,
          0.6869924933911916,
          0.6869924933911916,
          0.6869924933911916,
          0.6869924933911916,
          0.6869924933911916,
          0.7355537772547349,
          0.7355537772547349,
          0.7355537772547349,
          0.7355537772547349,
          0.7355537772547349,
          0.7355537772547349,
          0.739901225668284,
          0.739901225668284,
          0.739901225668284,
          0.739901225668284,
          0.739901225668284,
          0.739901225668284,
          0.739901225668284,
          0.739901225668284,
          0.739901225668284,
          0.739901225668284,
          0.739901225668284,
          0.739901225668284,
          0.739901225668284,
          0.739901225668284,
          0.739901225668284,
          0.739901225668284,
          0.739901225668284,
          0.739901225668284,
          0.739901225668284,
          0.739901225668284,
          0.739901225668284,
          0.739901225668284,
          0.739901225668284,
          0.739901225668284,
          0.739901225668284,
          0.739901225668284,
          0.7477133893582345,
          0.7477133893582345,
          0.7477133893582345,
          0.7477133893582345,
          0.7477133893582345,
          0.7477133893582345,
          0.7477133893582345,
          0.7477133893582345,
          0.7477133893582345,
          0.7482355953140034,
          0.7504927510931552,
          0.7504927510931552,
          0.7504927510931552,
          0.7504927510931552,
          0.7504927510931552,
          0.7504927510931552,
          0.7504927510931552,
          0.7504927510931552,
          0.7504927510931552,
          0.7504927510931552,
          0.7504927510931552,
          0.7533067183598382,
          0.7533067183598382,
          0.7533067183598382,
          0.7533067183598382,
          0.7533067183598382,
          0.7533067183598382,
          0.7533067183598382,
          0.7533067183598382,
          0.7533067183598382,
          0.7533067183598382,
          0.7533067183598382,
          0.7533067183598382,
          0.7533067183598382,
          0.7533067183598382,
          0.7550388232389206,
          0.7550388232389206,
          0.7550388232389206,
          0.7550388232389206,
          0.7550388232389206,
          0.7550388232389206,
          0.7550388232389206,
          0.7550388232389206,
          0.7550388232389206,
          0.7550388232389206,
          0.7550388232389206,
          0.7550388232389206,
          0.7550388232389206,
          0.7550388232389206,
          0.7550388232389206,
          0.7550388232389206,
          0.7550388232389206,
          0.7550388232389206,
          0.7550388232389206,
          0.7550388232389206,
          0.7574494964813685,
          0.7574494964813685,
          0.7574494964813685,
          0.7574494964813685,
          0.7574494964813685,
          0.7574494964813685,
          0.7574494964813685,
          0.7574494964813685,
          0.7574494964813685,
          0.7574494964813685,
          0.7574494964813685,
          0.7574494964813685,
          0.7574494964813685,
          0.7574494964813685,
          0.7574494964813685,
          0.7574494964813685,
          0.7574494964813685,
          0.7574494964813685,
          0.7574494964813685,
          0.7574494964813685,
          0.7574494964813685,
          0.7574494964813685,
          0.7574494964813685,
          0.7574494964813685,
          0.7574494964813685,
          0.7574494964813685,
          0.7574494964813685,
          0.7574494964813685,
          0.7574494964813685,
          0.7574494964813685,
          0.7574494964813685,
          0.7574494964813685,
          0.7574494964813685,
          0.7574494964813685,
          0.7574494964813685,
          0.7574494964813685,
          0.7574494964813685,
          0.7574494964813685,
          0.7574494964813685,
          0.7574494964813685,
          0.7574494964813685,
          0.7574494964813685,
          0.7574494964813685,
          0.7574494964813685,
          0.7574494964813685,
          0.7574494964813685,
          0.7574494964813685,
          0.7574494964813685,
          0.7574494964813685,
          0.7574494964813685,
          0.7574494964813685,
          0.7574494964813685,
          0.7574494964813685,
          0.7574494964813685,
          0.7574494964813685,
          0.7574494964813685,
          0.7574494964813685,
          0.7574494964813685,
          0.7574494964813685,
          0.7574494964813685,
          0.7574494964813685,
          0.7574494964813685,
          0.7574494964813685,
          0.7574494964813685,
          0.7574494964813685,
          0.7574494964813685,
          0.7574494964813685,
          0.7574494964813685,
          0.7574494964813685,
          0.7574494964813685,
          0.7574494964813685,
          0.7574494964813685,
          0.7574494964813685,
          0.7574494964813685,
          0.7574494964813685,
          0.7574494964813685,
          0.7574494964813685,
          0.7574494964813685,
          0.7574494964813685,
          0.7574494964813685,
          0.7574494964813685,
          0.7574494964813685,
          0.7574494964813685,
          0.7574494964813685,
          0.7574494964813685,
          0.7574494964813685,
          0.7574494964813685,
          0.7574494964813685,
          0.7574494964813685,
          0.7574494964813685,
          0.7574494964813685,
          0.7574494964813685,
          0.7574494964813685,
          0.7574494964813685,
          0.7574494964813685,
          0.7574494964813685,
          0.7574494964813685,
          0.7574494964813685,
          0.7574494964813685,
          0.7574494964813685,
          0.7574494964813685,
          0.7574494964813685,
          0.7574494964813685
         ]
        },
        {
         "marker": {
          "color": "#cccccc"
         },
         "mode": "markers",
         "name": "Infeasible Trial",
         "showlegend": false,
         "type": "scatter",
         "x": [],
         "y": []
        }
       ],
       "layout": {
        "template": {
         "data": {
          "bar": [
           {
            "error_x": {
             "color": "#2a3f5f"
            },
            "error_y": {
             "color": "#2a3f5f"
            },
            "marker": {
             "line": {
              "color": "#E5ECF6",
              "width": 0.5
             },
             "pattern": {
              "fillmode": "overlay",
              "size": 10,
              "solidity": 0.2
             }
            },
            "type": "bar"
           }
          ],
          "barpolar": [
           {
            "marker": {
             "line": {
              "color": "#E5ECF6",
              "width": 0.5
             },
             "pattern": {
              "fillmode": "overlay",
              "size": 10,
              "solidity": 0.2
             }
            },
            "type": "barpolar"
           }
          ],
          "carpet": [
           {
            "aaxis": {
             "endlinecolor": "#2a3f5f",
             "gridcolor": "white",
             "linecolor": "white",
             "minorgridcolor": "white",
             "startlinecolor": "#2a3f5f"
            },
            "baxis": {
             "endlinecolor": "#2a3f5f",
             "gridcolor": "white",
             "linecolor": "white",
             "minorgridcolor": "white",
             "startlinecolor": "#2a3f5f"
            },
            "type": "carpet"
           }
          ],
          "choropleth": [
           {
            "colorbar": {
             "outlinewidth": 0,
             "ticks": ""
            },
            "type": "choropleth"
           }
          ],
          "contour": [
           {
            "colorbar": {
             "outlinewidth": 0,
             "ticks": ""
            },
            "colorscale": [
             [
              0,
              "#0d0887"
             ],
             [
              0.1111111111111111,
              "#46039f"
             ],
             [
              0.2222222222222222,
              "#7201a8"
             ],
             [
              0.3333333333333333,
              "#9c179e"
             ],
             [
              0.4444444444444444,
              "#bd3786"
             ],
             [
              0.5555555555555556,
              "#d8576b"
             ],
             [
              0.6666666666666666,
              "#ed7953"
             ],
             [
              0.7777777777777778,
              "#fb9f3a"
             ],
             [
              0.8888888888888888,
              "#fdca26"
             ],
             [
              1,
              "#f0f921"
             ]
            ],
            "type": "contour"
           }
          ],
          "contourcarpet": [
           {
            "colorbar": {
             "outlinewidth": 0,
             "ticks": ""
            },
            "type": "contourcarpet"
           }
          ],
          "heatmap": [
           {
            "colorbar": {
             "outlinewidth": 0,
             "ticks": ""
            },
            "colorscale": [
             [
              0,
              "#0d0887"
             ],
             [
              0.1111111111111111,
              "#46039f"
             ],
             [
              0.2222222222222222,
              "#7201a8"
             ],
             [
              0.3333333333333333,
              "#9c179e"
             ],
             [
              0.4444444444444444,
              "#bd3786"
             ],
             [
              0.5555555555555556,
              "#d8576b"
             ],
             [
              0.6666666666666666,
              "#ed7953"
             ],
             [
              0.7777777777777778,
              "#fb9f3a"
             ],
             [
              0.8888888888888888,
              "#fdca26"
             ],
             [
              1,
              "#f0f921"
             ]
            ],
            "type": "heatmap"
           }
          ],
          "heatmapgl": [
           {
            "colorbar": {
             "outlinewidth": 0,
             "ticks": ""
            },
            "colorscale": [
             [
              0,
              "#0d0887"
             ],
             [
              0.1111111111111111,
              "#46039f"
             ],
             [
              0.2222222222222222,
              "#7201a8"
             ],
             [
              0.3333333333333333,
              "#9c179e"
             ],
             [
              0.4444444444444444,
              "#bd3786"
             ],
             [
              0.5555555555555556,
              "#d8576b"
             ],
             [
              0.6666666666666666,
              "#ed7953"
             ],
             [
              0.7777777777777778,
              "#fb9f3a"
             ],
             [
              0.8888888888888888,
              "#fdca26"
             ],
             [
              1,
              "#f0f921"
             ]
            ],
            "type": "heatmapgl"
           }
          ],
          "histogram": [
           {
            "marker": {
             "pattern": {
              "fillmode": "overlay",
              "size": 10,
              "solidity": 0.2
             }
            },
            "type": "histogram"
           }
          ],
          "histogram2d": [
           {
            "colorbar": {
             "outlinewidth": 0,
             "ticks": ""
            },
            "colorscale": [
             [
              0,
              "#0d0887"
             ],
             [
              0.1111111111111111,
              "#46039f"
             ],
             [
              0.2222222222222222,
              "#7201a8"
             ],
             [
              0.3333333333333333,
              "#9c179e"
             ],
             [
              0.4444444444444444,
              "#bd3786"
             ],
             [
              0.5555555555555556,
              "#d8576b"
             ],
             [
              0.6666666666666666,
              "#ed7953"
             ],
             [
              0.7777777777777778,
              "#fb9f3a"
             ],
             [
              0.8888888888888888,
              "#fdca26"
             ],
             [
              1,
              "#f0f921"
             ]
            ],
            "type": "histogram2d"
           }
          ],
          "histogram2dcontour": [
           {
            "colorbar": {
             "outlinewidth": 0,
             "ticks": ""
            },
            "colorscale": [
             [
              0,
              "#0d0887"
             ],
             [
              0.1111111111111111,
              "#46039f"
             ],
             [
              0.2222222222222222,
              "#7201a8"
             ],
             [
              0.3333333333333333,
              "#9c179e"
             ],
             [
              0.4444444444444444,
              "#bd3786"
             ],
             [
              0.5555555555555556,
              "#d8576b"
             ],
             [
              0.6666666666666666,
              "#ed7953"
             ],
             [
              0.7777777777777778,
              "#fb9f3a"
             ],
             [
              0.8888888888888888,
              "#fdca26"
             ],
             [
              1,
              "#f0f921"
             ]
            ],
            "type": "histogram2dcontour"
           }
          ],
          "mesh3d": [
           {
            "colorbar": {
             "outlinewidth": 0,
             "ticks": ""
            },
            "type": "mesh3d"
           }
          ],
          "parcoords": [
           {
            "line": {
             "colorbar": {
              "outlinewidth": 0,
              "ticks": ""
             }
            },
            "type": "parcoords"
           }
          ],
          "pie": [
           {
            "automargin": true,
            "type": "pie"
           }
          ],
          "scatter": [
           {
            "fillpattern": {
             "fillmode": "overlay",
             "size": 10,
             "solidity": 0.2
            },
            "type": "scatter"
           }
          ],
          "scatter3d": [
           {
            "line": {
             "colorbar": {
              "outlinewidth": 0,
              "ticks": ""
             }
            },
            "marker": {
             "colorbar": {
              "outlinewidth": 0,
              "ticks": ""
             }
            },
            "type": "scatter3d"
           }
          ],
          "scattercarpet": [
           {
            "marker": {
             "colorbar": {
              "outlinewidth": 0,
              "ticks": ""
             }
            },
            "type": "scattercarpet"
           }
          ],
          "scattergeo": [
           {
            "marker": {
             "colorbar": {
              "outlinewidth": 0,
              "ticks": ""
             }
            },
            "type": "scattergeo"
           }
          ],
          "scattergl": [
           {
            "marker": {
             "colorbar": {
              "outlinewidth": 0,
              "ticks": ""
             }
            },
            "type": "scattergl"
           }
          ],
          "scattermapbox": [
           {
            "marker": {
             "colorbar": {
              "outlinewidth": 0,
              "ticks": ""
             }
            },
            "type": "scattermapbox"
           }
          ],
          "scatterpolar": [
           {
            "marker": {
             "colorbar": {
              "outlinewidth": 0,
              "ticks": ""
             }
            },
            "type": "scatterpolar"
           }
          ],
          "scatterpolargl": [
           {
            "marker": {
             "colorbar": {
              "outlinewidth": 0,
              "ticks": ""
             }
            },
            "type": "scatterpolargl"
           }
          ],
          "scatterternary": [
           {
            "marker": {
             "colorbar": {
              "outlinewidth": 0,
              "ticks": ""
             }
            },
            "type": "scatterternary"
           }
          ],
          "surface": [
           {
            "colorbar": {
             "outlinewidth": 0,
             "ticks": ""
            },
            "colorscale": [
             [
              0,
              "#0d0887"
             ],
             [
              0.1111111111111111,
              "#46039f"
             ],
             [
              0.2222222222222222,
              "#7201a8"
             ],
             [
              0.3333333333333333,
              "#9c179e"
             ],
             [
              0.4444444444444444,
              "#bd3786"
             ],
             [
              0.5555555555555556,
              "#d8576b"
             ],
             [
              0.6666666666666666,
              "#ed7953"
             ],
             [
              0.7777777777777778,
              "#fb9f3a"
             ],
             [
              0.8888888888888888,
              "#fdca26"
             ],
             [
              1,
              "#f0f921"
             ]
            ],
            "type": "surface"
           }
          ],
          "table": [
           {
            "cells": {
             "fill": {
              "color": "#EBF0F8"
             },
             "line": {
              "color": "white"
             }
            },
            "header": {
             "fill": {
              "color": "#C8D4E3"
             },
             "line": {
              "color": "white"
             }
            },
            "type": "table"
           }
          ]
         },
         "layout": {
          "annotationdefaults": {
           "arrowcolor": "#2a3f5f",
           "arrowhead": 0,
           "arrowwidth": 1
          },
          "autotypenumbers": "strict",
          "coloraxis": {
           "colorbar": {
            "outlinewidth": 0,
            "ticks": ""
           }
          },
          "colorscale": {
           "diverging": [
            [
             0,
             "#8e0152"
            ],
            [
             0.1,
             "#c51b7d"
            ],
            [
             0.2,
             "#de77ae"
            ],
            [
             0.3,
             "#f1b6da"
            ],
            [
             0.4,
             "#fde0ef"
            ],
            [
             0.5,
             "#f7f7f7"
            ],
            [
             0.6,
             "#e6f5d0"
            ],
            [
             0.7,
             "#b8e186"
            ],
            [
             0.8,
             "#7fbc41"
            ],
            [
             0.9,
             "#4d9221"
            ],
            [
             1,
             "#276419"
            ]
           ],
           "sequential": [
            [
             0,
             "#0d0887"
            ],
            [
             0.1111111111111111,
             "#46039f"
            ],
            [
             0.2222222222222222,
             "#7201a8"
            ],
            [
             0.3333333333333333,
             "#9c179e"
            ],
            [
             0.4444444444444444,
             "#bd3786"
            ],
            [
             0.5555555555555556,
             "#d8576b"
            ],
            [
             0.6666666666666666,
             "#ed7953"
            ],
            [
             0.7777777777777778,
             "#fb9f3a"
            ],
            [
             0.8888888888888888,
             "#fdca26"
            ],
            [
             1,
             "#f0f921"
            ]
           ],
           "sequentialminus": [
            [
             0,
             "#0d0887"
            ],
            [
             0.1111111111111111,
             "#46039f"
            ],
            [
             0.2222222222222222,
             "#7201a8"
            ],
            [
             0.3333333333333333,
             "#9c179e"
            ],
            [
             0.4444444444444444,
             "#bd3786"
            ],
            [
             0.5555555555555556,
             "#d8576b"
            ],
            [
             0.6666666666666666,
             "#ed7953"
            ],
            [
             0.7777777777777778,
             "#fb9f3a"
            ],
            [
             0.8888888888888888,
             "#fdca26"
            ],
            [
             1,
             "#f0f921"
            ]
           ]
          },
          "colorway": [
           "#636efa",
           "#EF553B",
           "#00cc96",
           "#ab63fa",
           "#FFA15A",
           "#19d3f3",
           "#FF6692",
           "#B6E880",
           "#FF97FF",
           "#FECB52"
          ],
          "font": {
           "color": "#2a3f5f"
          },
          "geo": {
           "bgcolor": "white",
           "lakecolor": "white",
           "landcolor": "#E5ECF6",
           "showlakes": true,
           "showland": true,
           "subunitcolor": "white"
          },
          "hoverlabel": {
           "align": "left"
          },
          "hovermode": "closest",
          "mapbox": {
           "style": "light"
          },
          "paper_bgcolor": "white",
          "plot_bgcolor": "#E5ECF6",
          "polar": {
           "angularaxis": {
            "gridcolor": "white",
            "linecolor": "white",
            "ticks": ""
           },
           "bgcolor": "#E5ECF6",
           "radialaxis": {
            "gridcolor": "white",
            "linecolor": "white",
            "ticks": ""
           }
          },
          "scene": {
           "xaxis": {
            "backgroundcolor": "#E5ECF6",
            "gridcolor": "white",
            "gridwidth": 2,
            "linecolor": "white",
            "showbackground": true,
            "ticks": "",
            "zerolinecolor": "white"
           },
           "yaxis": {
            "backgroundcolor": "#E5ECF6",
            "gridcolor": "white",
            "gridwidth": 2,
            "linecolor": "white",
            "showbackground": true,
            "ticks": "",
            "zerolinecolor": "white"
           },
           "zaxis": {
            "backgroundcolor": "#E5ECF6",
            "gridcolor": "white",
            "gridwidth": 2,
            "linecolor": "white",
            "showbackground": true,
            "ticks": "",
            "zerolinecolor": "white"
           }
          },
          "shapedefaults": {
           "line": {
            "color": "#2a3f5f"
           }
          },
          "ternary": {
           "aaxis": {
            "gridcolor": "white",
            "linecolor": "white",
            "ticks": ""
           },
           "baxis": {
            "gridcolor": "white",
            "linecolor": "white",
            "ticks": ""
           },
           "bgcolor": "#E5ECF6",
           "caxis": {
            "gridcolor": "white",
            "linecolor": "white",
            "ticks": ""
           }
          },
          "title": {
           "x": 0.05
          },
          "xaxis": {
           "automargin": true,
           "gridcolor": "white",
           "linecolor": "white",
           "ticks": "",
           "title": {
            "standoff": 15
           },
           "zerolinecolor": "white",
           "zerolinewidth": 2
          },
          "yaxis": {
           "automargin": true,
           "gridcolor": "white",
           "linecolor": "white",
           "ticks": "",
           "title": {
            "standoff": 15
           },
           "zerolinecolor": "white",
           "zerolinewidth": 2
          }
         }
        },
        "title": {
         "text": "Optimization History Plot"
        },
        "xaxis": {
         "title": {
          "text": "Trial"
         }
        },
        "yaxis": {
         "title": {
          "text": "Objective Value"
         }
        }
       }
      }
     },
     "metadata": {},
     "output_type": "display_data"
    }
   ],
   "source": [
    "optuna.visualization.plot_optimization_history(study)"
   ]
  },
  {
   "cell_type": "code",
   "execution_count": 115,
   "metadata": {},
   "outputs": [
    {
     "data": {
      "application/vnd.plotly.v1+json": {
       "config": {
        "plotlyServerURL": "https://plot.ly"
       },
       "data": [
        {
         "marker": {
          "color": [
           0,
           1,
           2,
           3,
           4,
           5,
           7,
           8,
           9,
           10,
           11,
           12,
           13,
           14,
           15,
           16,
           20,
           21,
           22,
           24,
           30,
           31,
           33,
           36,
           41,
           42,
           46,
           49,
           51,
           52,
           54,
           55,
           56,
           62,
           63,
           69,
           72,
           73,
           74,
           76,
           77,
           80,
           81,
           82,
           83,
           84,
           87,
           91,
           92,
           94,
           95,
           97,
           98,
           102,
           103,
           109,
           110,
           111,
           114,
           115,
           117,
           121,
           123,
           124,
           126,
           127,
           132,
           138,
           139,
           141,
           142,
           143,
           151,
           152,
           155,
           158,
           159,
           160,
           161,
           165,
           166,
           167,
           169,
           170,
           171,
           172,
           181,
           185,
           192
          ],
          "colorbar": {
           "title": {
            "text": "Trial"
           },
           "x": 1,
           "xpad": 40
          },
          "colorscale": [
           [
            0,
            "rgb(247,251,255)"
           ],
           [
            0.125,
            "rgb(222,235,247)"
           ],
           [
            0.25,
            "rgb(198,219,239)"
           ],
           [
            0.375,
            "rgb(158,202,225)"
           ],
           [
            0.5,
            "rgb(107,174,214)"
           ],
           [
            0.625,
            "rgb(66,146,198)"
           ],
           [
            0.75,
            "rgb(33,113,181)"
           ],
           [
            0.875,
            "rgb(8,81,156)"
           ],
           [
            1,
            "rgb(8,48,107)"
           ]
          ],
          "line": {
           "color": "Grey",
           "width": 0.5
          },
          "showscale": true
         },
         "mode": "markers",
         "showlegend": false,
         "type": "scatter",
         "x": [
          0.9,
          0.8,
          0.9,
          0.8,
          0.8,
          1,
          0.9,
          0.8,
          0.9,
          1,
          1,
          1,
          1,
          1,
          1,
          1,
          0.9,
          1,
          1,
          1,
          0.9,
          1,
          1,
          1,
          1,
          1,
          1,
          0.9,
          0.9,
          0.9,
          0.9,
          0.9,
          0.9,
          0.9,
          0.9,
          0.8,
          0.8,
          0.9,
          0.9,
          0.9,
          0.9,
          0.9,
          0.9,
          0.9,
          0.9,
          0.9,
          0.9,
          0.9,
          0.9,
          0.9,
          0.9,
          0.9,
          0.9,
          0.9,
          0.9,
          0.9,
          0.9,
          0.9,
          0.9,
          0.9,
          0.9,
          0.9,
          0.9,
          0.9,
          0.9,
          0.9,
          0.9,
          0.9,
          0.9,
          0.9,
          0.9,
          0.9,
          0.9,
          0.9,
          0.9,
          0.9,
          0.9,
          0.9,
          0.9,
          0.9,
          0.9,
          0.9,
          0.9,
          0.9,
          0.9,
          0.9,
          0.9,
          0.9,
          0.9
         ],
         "xaxis": "x",
         "y": [
          0.5,
          0.5,
          0.5,
          0.6814861753119272,
          0.6869924933911916,
          0.5,
          0.5,
          0.5,
          0.5,
          0.7355537772547349,
          0.7259360428436816,
          0.7312341491948331,
          0.7336478330792262,
          0.5,
          0.5,
          0.739901225668284,
          0.5,
          0.7333231639914641,
          0.7364541445530521,
          0.7366318988073814,
          0.7334126716122078,
          0.7299140641464449,
          0.7386904477049248,
          0.7376465665875362,
          0.7398238448683608,
          0.7477133893582345,
          0.7379968991511336,
          0.7466946493478366,
          0.7482355953140034,
          0.7504927510931552,
          0.7456049317685185,
          0.7465209925996623,
          0.7433620259867828,
          0.7463466056584791,
          0.7533067183598382,
          0.7473682243143938,
          0.7375517088987836,
          0.737342385030549,
          0.7528463737941143,
          0.7464748163171402,
          0.7550388232389206,
          0.7529654766992041,
          0.7525331013341636,
          0.7477278219039031,
          0.7513776074068981,
          0.7525994253268681,
          0.7492409727923345,
          0.748878861653813,
          0.7493589972585184,
          0.7523956593508068,
          0.7542942875540511,
          0.7574494964813685,
          0.745730437904611,
          0.7506774730738519,
          0.7501178166420198,
          0.7552124715617907,
          0.7527582928581732,
          0.7447967176363853,
          0.7482500362849758,
          0.7426304961627795,
          0.7489362857171102,
          0.7533409672204001,
          0.754030235719784,
          0.7538954477071715,
          0.7522517635846231,
          0.7443590259045518,
          0.7488294753304855,
          0.7484329580590615,
          0.7543789759009346,
          0.7534318931006423,
          0.7541186480510138,
          0.745056663539194,
          0.7492548998197659,
          0.7457414947118299,
          0.7510447517321304,
          0.754897946539986,
          0.7512071606995294,
          0.7535392258561122,
          0.7483926710640014,
          0.7455540934844767,
          0.7530332358020149,
          0.7528667124778528,
          0.7533409672204001,
          0.7490760587012272,
          0.753748184627842,
          0.7531723038690343,
          0.753173730553837,
          0.7534080045555057,
          0.7499174179791044
         ],
         "yaxis": "y"
        },
        {
         "marker": {
          "color": [
           0,
           1,
           2,
           3,
           4,
           5,
           7,
           8,
           9,
           10,
           11,
           12,
           13,
           14,
           15,
           16,
           20,
           21,
           22,
           24,
           30,
           31,
           33,
           36,
           41,
           42,
           46,
           49,
           51,
           52,
           54,
           55,
           56,
           62,
           63,
           69,
           72,
           73,
           74,
           76,
           77,
           80,
           81,
           82,
           83,
           84,
           87,
           91,
           92,
           94,
           95,
           97,
           98,
           102,
           103,
           109,
           110,
           111,
           114,
           115,
           117,
           121,
           123,
           124,
           126,
           127,
           132,
           138,
           139,
           141,
           142,
           143,
           151,
           152,
           155,
           158,
           159,
           160,
           161,
           165,
           166,
           167,
           169,
           170,
           171,
           172,
           181,
           185,
           192
          ],
          "colorbar": {
           "title": {
            "text": "Trial"
           },
           "x": 1,
           "xpad": 40
          },
          "colorscale": [
           [
            0,
            "rgb(247,251,255)"
           ],
           [
            0.125,
            "rgb(222,235,247)"
           ],
           [
            0.25,
            "rgb(198,219,239)"
           ],
           [
            0.375,
            "rgb(158,202,225)"
           ],
           [
            0.5,
            "rgb(107,174,214)"
           ],
           [
            0.625,
            "rgb(66,146,198)"
           ],
           [
            0.75,
            "rgb(33,113,181)"
           ],
           [
            0.875,
            "rgb(8,81,156)"
           ],
           [
            1,
            "rgb(8,48,107)"
           ]
          ],
          "line": {
           "color": "Grey",
           "width": 0.5
          },
          "showscale": false
         },
         "mode": "markers",
         "showlegend": false,
         "type": "scatter",
         "x": [
          5,
          5,
          5,
          5,
          5,
          5,
          5,
          5,
          5,
          5,
          5,
          5,
          5,
          5,
          5,
          5,
          5,
          5,
          5,
          5,
          5,
          5,
          5,
          5,
          5,
          5,
          5,
          5,
          5,
          5,
          5,
          5,
          5,
          5,
          5,
          5,
          5,
          5,
          5,
          5,
          5,
          5,
          5,
          5,
          5,
          5,
          5,
          5,
          5,
          5,
          5,
          5,
          5,
          5,
          5,
          5,
          5,
          5,
          5,
          5,
          5,
          5,
          5,
          5,
          5,
          5,
          5,
          5,
          5,
          5,
          5,
          5,
          5,
          5,
          5,
          5,
          5,
          5,
          5,
          5,
          5,
          5,
          5,
          5,
          5,
          5,
          5,
          5,
          5
         ],
         "xaxis": "x2",
         "y": [
          0.5,
          0.5,
          0.5,
          0.6814861753119272,
          0.6869924933911916,
          0.5,
          0.5,
          0.5,
          0.5,
          0.7355537772547349,
          0.7259360428436816,
          0.7312341491948331,
          0.7336478330792262,
          0.5,
          0.5,
          0.739901225668284,
          0.5,
          0.7333231639914641,
          0.7364541445530521,
          0.7366318988073814,
          0.7334126716122078,
          0.7299140641464449,
          0.7386904477049248,
          0.7376465665875362,
          0.7398238448683608,
          0.7477133893582345,
          0.7379968991511336,
          0.7466946493478366,
          0.7482355953140034,
          0.7504927510931552,
          0.7456049317685185,
          0.7465209925996623,
          0.7433620259867828,
          0.7463466056584791,
          0.7533067183598382,
          0.7473682243143938,
          0.7375517088987836,
          0.737342385030549,
          0.7528463737941143,
          0.7464748163171402,
          0.7550388232389206,
          0.7529654766992041,
          0.7525331013341636,
          0.7477278219039031,
          0.7513776074068981,
          0.7525994253268681,
          0.7492409727923345,
          0.748878861653813,
          0.7493589972585184,
          0.7523956593508068,
          0.7542942875540511,
          0.7574494964813685,
          0.745730437904611,
          0.7506774730738519,
          0.7501178166420198,
          0.7552124715617907,
          0.7527582928581732,
          0.7447967176363853,
          0.7482500362849758,
          0.7426304961627795,
          0.7489362857171102,
          0.7533409672204001,
          0.754030235719784,
          0.7538954477071715,
          0.7522517635846231,
          0.7443590259045518,
          0.7488294753304855,
          0.7484329580590615,
          0.7543789759009346,
          0.7534318931006423,
          0.7541186480510138,
          0.745056663539194,
          0.7492548998197659,
          0.7457414947118299,
          0.7510447517321304,
          0.754897946539986,
          0.7512071606995294,
          0.7535392258561122,
          0.7483926710640014,
          0.7455540934844767,
          0.7530332358020149,
          0.7528667124778528,
          0.7533409672204001,
          0.7490760587012272,
          0.753748184627842,
          0.7531723038690343,
          0.753173730553837,
          0.7534080045555057,
          0.7499174179791044
         ],
         "yaxis": "y2"
        },
        {
         "marker": {
          "color": [
           0,
           1,
           2,
           3,
           4,
           5,
           7,
           8,
           9,
           10,
           11,
           12,
           13,
           14,
           15,
           16,
           20,
           21,
           22,
           24,
           30,
           31,
           33,
           36,
           41,
           42,
           46,
           49,
           51,
           52,
           54,
           55,
           56,
           62,
           63,
           69,
           72,
           73,
           74,
           76,
           77,
           80,
           81,
           82,
           83,
           84,
           87,
           91,
           92,
           94,
           95,
           97,
           98,
           102,
           103,
           109,
           110,
           111,
           114,
           115,
           117,
           121,
           123,
           124,
           126,
           127,
           132,
           138,
           139,
           141,
           142,
           143,
           151,
           152,
           155,
           158,
           159,
           160,
           161,
           165,
           166,
           167,
           169,
           170,
           171,
           172,
           181,
           185,
           192
          ],
          "colorbar": {
           "title": {
            "text": "Trial"
           },
           "x": 1,
           "xpad": 40
          },
          "colorscale": [
           [
            0,
            "rgb(247,251,255)"
           ],
           [
            0.125,
            "rgb(222,235,247)"
           ],
           [
            0.25,
            "rgb(198,219,239)"
           ],
           [
            0.375,
            "rgb(158,202,225)"
           ],
           [
            0.5,
            "rgb(107,174,214)"
           ],
           [
            0.625,
            "rgb(66,146,198)"
           ],
           [
            0.75,
            "rgb(33,113,181)"
           ],
           [
            0.875,
            "rgb(8,81,156)"
           ],
           [
            1,
            "rgb(8,48,107)"
           ]
          ],
          "line": {
           "color": "Grey",
           "width": 0.5
          },
          "showscale": false
         },
         "mode": "markers",
         "showlegend": false,
         "type": "scatter",
         "x": [
          0.8,
          0.8,
          0.9,
          0.9,
          1,
          0.8,
          0.9,
          0.9,
          0.8,
          1,
          1,
          1,
          1,
          1,
          1,
          1,
          1,
          1,
          1,
          1,
          1,
          1,
          1,
          0.9,
          0.8,
          0.8,
          0.8,
          0.8,
          0.8,
          0.8,
          0.8,
          0.8,
          0.8,
          0.8,
          0.8,
          0.8,
          0.8,
          0.8,
          0.8,
          0.8,
          0.8,
          0.8,
          0.8,
          0.8,
          0.8,
          0.8,
          0.8,
          0.8,
          0.8,
          0.8,
          0.8,
          0.8,
          0.8,
          0.8,
          0.8,
          0.8,
          0.8,
          0.8,
          0.8,
          0.8,
          0.8,
          0.8,
          0.8,
          0.8,
          0.8,
          0.8,
          0.8,
          0.8,
          0.8,
          0.8,
          0.8,
          0.8,
          0.8,
          0.8,
          0.8,
          0.8,
          0.8,
          0.8,
          0.8,
          0.8,
          0.8,
          0.8,
          0.8,
          0.8,
          0.8,
          0.8,
          0.8,
          0.8,
          0.8
         ],
         "xaxis": "x3",
         "y": [
          0.5,
          0.5,
          0.5,
          0.6814861753119272,
          0.6869924933911916,
          0.5,
          0.5,
          0.5,
          0.5,
          0.7355537772547349,
          0.7259360428436816,
          0.7312341491948331,
          0.7336478330792262,
          0.5,
          0.5,
          0.739901225668284,
          0.5,
          0.7333231639914641,
          0.7364541445530521,
          0.7366318988073814,
          0.7334126716122078,
          0.7299140641464449,
          0.7386904477049248,
          0.7376465665875362,
          0.7398238448683608,
          0.7477133893582345,
          0.7379968991511336,
          0.7466946493478366,
          0.7482355953140034,
          0.7504927510931552,
          0.7456049317685185,
          0.7465209925996623,
          0.7433620259867828,
          0.7463466056584791,
          0.7533067183598382,
          0.7473682243143938,
          0.7375517088987836,
          0.737342385030549,
          0.7528463737941143,
          0.7464748163171402,
          0.7550388232389206,
          0.7529654766992041,
          0.7525331013341636,
          0.7477278219039031,
          0.7513776074068981,
          0.7525994253268681,
          0.7492409727923345,
          0.748878861653813,
          0.7493589972585184,
          0.7523956593508068,
          0.7542942875540511,
          0.7574494964813685,
          0.745730437904611,
          0.7506774730738519,
          0.7501178166420198,
          0.7552124715617907,
          0.7527582928581732,
          0.7447967176363853,
          0.7482500362849758,
          0.7426304961627795,
          0.7489362857171102,
          0.7533409672204001,
          0.754030235719784,
          0.7538954477071715,
          0.7522517635846231,
          0.7443590259045518,
          0.7488294753304855,
          0.7484329580590615,
          0.7543789759009346,
          0.7534318931006423,
          0.7541186480510138,
          0.745056663539194,
          0.7492548998197659,
          0.7457414947118299,
          0.7510447517321304,
          0.754897946539986,
          0.7512071606995294,
          0.7535392258561122,
          0.7483926710640014,
          0.7455540934844767,
          0.7530332358020149,
          0.7528667124778528,
          0.7533409672204001,
          0.7490760587012272,
          0.753748184627842,
          0.7531723038690343,
          0.753173730553837,
          0.7534080045555057,
          0.7499174179791044
         ],
         "yaxis": "y3"
        },
        {
         "marker": {
          "color": [
           0,
           1,
           2,
           3,
           4,
           5,
           7,
           8,
           9,
           10,
           11,
           12,
           13,
           14,
           15,
           16,
           20,
           21,
           22,
           24,
           30,
           31,
           33,
           36,
           41,
           42,
           46,
           49,
           51,
           52,
           54,
           55,
           56,
           62,
           63,
           69,
           72,
           73,
           74,
           76,
           77,
           80,
           81,
           82,
           83,
           84,
           87,
           91,
           92,
           94,
           95,
           97,
           98,
           102,
           103,
           109,
           110,
           111,
           114,
           115,
           117,
           121,
           123,
           124,
           126,
           127,
           132,
           138,
           139,
           141,
           142,
           143,
           151,
           152,
           155,
           158,
           159,
           160,
           161,
           165,
           166,
           167,
           169,
           170,
           171,
           172,
           181,
           185,
           192
          ],
          "colorbar": {
           "title": {
            "text": "Trial"
           },
           "x": 1,
           "xpad": 40
          },
          "colorscale": [
           [
            0,
            "rgb(247,251,255)"
           ],
           [
            0.125,
            "rgb(222,235,247)"
           ],
           [
            0.25,
            "rgb(198,219,239)"
           ],
           [
            0.375,
            "rgb(158,202,225)"
           ],
           [
            0.5,
            "rgb(107,174,214)"
           ],
           [
            0.625,
            "rgb(66,146,198)"
           ],
           [
            0.75,
            "rgb(33,113,181)"
           ],
           [
            0.875,
            "rgb(8,81,156)"
           ],
           [
            1,
            "rgb(8,48,107)"
           ]
          ],
          "line": {
           "color": "Grey",
           "width": 0.5
          },
          "showscale": false
         },
         "mode": "markers",
         "showlegend": false,
         "type": "scatter",
         "x": [
          true,
          true,
          false,
          true,
          true,
          true,
          false,
          true,
          true,
          false,
          false,
          false,
          false,
          false,
          false,
          false,
          false,
          false,
          false,
          false,
          false,
          false,
          false,
          true,
          true,
          true,
          true,
          true,
          true,
          true,
          true,
          true,
          true,
          true,
          true,
          true,
          true,
          true,
          true,
          true,
          true,
          true,
          true,
          true,
          true,
          true,
          true,
          true,
          true,
          true,
          true,
          true,
          true,
          true,
          true,
          true,
          true,
          true,
          true,
          true,
          true,
          true,
          true,
          true,
          true,
          true,
          true,
          true,
          true,
          true,
          true,
          true,
          true,
          true,
          true,
          true,
          true,
          true,
          true,
          true,
          true,
          true,
          true,
          true,
          true,
          true,
          true,
          true,
          true
         ],
         "xaxis": "x4",
         "y": [
          0.5,
          0.5,
          0.5,
          0.6814861753119272,
          0.6869924933911916,
          0.5,
          0.5,
          0.5,
          0.5,
          0.7355537772547349,
          0.7259360428436816,
          0.7312341491948331,
          0.7336478330792262,
          0.5,
          0.5,
          0.739901225668284,
          0.5,
          0.7333231639914641,
          0.7364541445530521,
          0.7366318988073814,
          0.7334126716122078,
          0.7299140641464449,
          0.7386904477049248,
          0.7376465665875362,
          0.7398238448683608,
          0.7477133893582345,
          0.7379968991511336,
          0.7466946493478366,
          0.7482355953140034,
          0.7504927510931552,
          0.7456049317685185,
          0.7465209925996623,
          0.7433620259867828,
          0.7463466056584791,
          0.7533067183598382,
          0.7473682243143938,
          0.7375517088987836,
          0.737342385030549,
          0.7528463737941143,
          0.7464748163171402,
          0.7550388232389206,
          0.7529654766992041,
          0.7525331013341636,
          0.7477278219039031,
          0.7513776074068981,
          0.7525994253268681,
          0.7492409727923345,
          0.748878861653813,
          0.7493589972585184,
          0.7523956593508068,
          0.7542942875540511,
          0.7574494964813685,
          0.745730437904611,
          0.7506774730738519,
          0.7501178166420198,
          0.7552124715617907,
          0.7527582928581732,
          0.7447967176363853,
          0.7482500362849758,
          0.7426304961627795,
          0.7489362857171102,
          0.7533409672204001,
          0.754030235719784,
          0.7538954477071715,
          0.7522517635846231,
          0.7443590259045518,
          0.7488294753304855,
          0.7484329580590615,
          0.7543789759009346,
          0.7534318931006423,
          0.7541186480510138,
          0.745056663539194,
          0.7492548998197659,
          0.7457414947118299,
          0.7510447517321304,
          0.754897946539986,
          0.7512071606995294,
          0.7535392258561122,
          0.7483926710640014,
          0.7455540934844767,
          0.7530332358020149,
          0.7528667124778528,
          0.7533409672204001,
          0.7490760587012272,
          0.753748184627842,
          0.7531723038690343,
          0.753173730553837,
          0.7534080045555057,
          0.7499174179791044
         ],
         "yaxis": "y4"
        },
        {
         "marker": {
          "color": [
           0,
           1,
           2,
           3,
           4,
           5,
           7,
           8,
           9,
           10,
           11,
           12,
           13,
           14,
           15,
           16,
           20,
           21,
           22,
           24,
           30,
           31,
           33,
           36,
           41,
           42,
           46,
           49,
           51,
           52,
           54,
           55,
           56,
           62,
           63,
           69,
           72,
           73,
           74,
           76,
           77,
           80,
           81,
           82,
           83,
           84,
           87,
           91,
           92,
           94,
           95,
           97,
           98,
           102,
           103,
           109,
           110,
           111,
           114,
           115,
           117,
           121,
           123,
           124,
           126,
           127,
           132,
           138,
           139,
           141,
           142,
           143,
           151,
           152,
           155,
           158,
           159,
           160,
           161,
           165,
           166,
           167,
           169,
           170,
           171,
           172,
           181,
           185,
           192
          ],
          "colorbar": {
           "title": {
            "text": "Trial"
           },
           "x": 1,
           "xpad": 40
          },
          "colorscale": [
           [
            0,
            "rgb(247,251,255)"
           ],
           [
            0.125,
            "rgb(222,235,247)"
           ],
           [
            0.25,
            "rgb(198,219,239)"
           ],
           [
            0.375,
            "rgb(158,202,225)"
           ],
           [
            0.5,
            "rgb(107,174,214)"
           ],
           [
            0.625,
            "rgb(66,146,198)"
           ],
           [
            0.75,
            "rgb(33,113,181)"
           ],
           [
            0.875,
            "rgb(8,81,156)"
           ],
           [
            1,
            "rgb(8,48,107)"
           ]
          ],
          "line": {
           "color": "Grey",
           "width": 0.5
          },
          "showscale": false
         },
         "mode": "markers",
         "showlegend": false,
         "type": "scatter",
         "x": [
          8.337253901605823,
          6.715254808892487,
          0.2253434068384779,
          0.1302124779062171,
          2.480652597861626,
          0.3489778131969122,
          2.1074126232149566,
          0.14343424133543964,
          0.3663047833680882,
          1.0036952390587046,
          1.1045047293076822,
          0.8141251377776658,
          0.906367796170941,
          0.7708020367235887,
          1.2789460162063218,
          0.547264854880957,
          0.23889688824179592,
          0.7488018382660132,
          1.4250327557052107,
          1.6285256050574428,
          0.6245474370417692,
          1.047751210612493,
          1.7581941949899205,
          2.1832392719318756,
          1.5043041932809351,
          2.513172318325588,
          2.056834759554089,
          1.148682702448289,
          1.8351723186376971,
          1.7813651180884682,
          0.8837273936689778,
          0.8232959951445572,
          0.8972526241692219,
          1.109924145727587,
          1.3532122787141645,
          1.9101185258674005,
          1.2642800507118703,
          2.470329102751093,
          1.9155210112563754,
          1.8240918992724366,
          1.6508851901599346,
          1.3730669805851676,
          1.4080893335941893,
          1.4395255145937906,
          1.4646003287495166,
          1.3840113922276214,
          1.026734108247553,
          1.7256805689332106,
          1.5919703356141173,
          1.375015779069736,
          1.3996265021490077,
          1.2370669791258075,
          1.2252202660218052,
          1.204581514088233,
          1.1776021064667461,
          1.1391721733077156,
          0.9553321037243703,
          0.9627097953852637,
          1.3779638176232278,
          1.6868510340299778,
          1.0865958764253945,
          1.2033852641051506,
          0.9945881206581367,
          0.9946819163096604,
          0.9836208470206523,
          0.7776783389637476,
          0.9486287809710292,
          1.1585762130071209,
          1.3807065904513933,
          1.339213390925428,
          1.5525205226961205,
          1.8693486993851356,
          1.30964387996642,
          1.5224792438098744,
          1.227488623778217,
          2.2229173178708073,
          2.071526727674852,
          1.5950262256734469,
          2.2905506452820434,
          1.4710397379363767,
          1.249174920620753,
          1.1319101086457681,
          1.2534329107377271,
          1.2416062257470046,
          1.055381127059626,
          1.0226735391746686,
          1.1003833929161355,
          1.2071954889340555,
          1.296025036742225
         ],
         "xaxis": "x5",
         "y": [
          0.5,
          0.5,
          0.5,
          0.6814861753119272,
          0.6869924933911916,
          0.5,
          0.5,
          0.5,
          0.5,
          0.7355537772547349,
          0.7259360428436816,
          0.7312341491948331,
          0.7336478330792262,
          0.5,
          0.5,
          0.739901225668284,
          0.5,
          0.7333231639914641,
          0.7364541445530521,
          0.7366318988073814,
          0.7334126716122078,
          0.7299140641464449,
          0.7386904477049248,
          0.7376465665875362,
          0.7398238448683608,
          0.7477133893582345,
          0.7379968991511336,
          0.7466946493478366,
          0.7482355953140034,
          0.7504927510931552,
          0.7456049317685185,
          0.7465209925996623,
          0.7433620259867828,
          0.7463466056584791,
          0.7533067183598382,
          0.7473682243143938,
          0.7375517088987836,
          0.737342385030549,
          0.7528463737941143,
          0.7464748163171402,
          0.7550388232389206,
          0.7529654766992041,
          0.7525331013341636,
          0.7477278219039031,
          0.7513776074068981,
          0.7525994253268681,
          0.7492409727923345,
          0.748878861653813,
          0.7493589972585184,
          0.7523956593508068,
          0.7542942875540511,
          0.7574494964813685,
          0.745730437904611,
          0.7506774730738519,
          0.7501178166420198,
          0.7552124715617907,
          0.7527582928581732,
          0.7447967176363853,
          0.7482500362849758,
          0.7426304961627795,
          0.7489362857171102,
          0.7533409672204001,
          0.754030235719784,
          0.7538954477071715,
          0.7522517635846231,
          0.7443590259045518,
          0.7488294753304855,
          0.7484329580590615,
          0.7543789759009346,
          0.7534318931006423,
          0.7541186480510138,
          0.745056663539194,
          0.7492548998197659,
          0.7457414947118299,
          0.7510447517321304,
          0.754897946539986,
          0.7512071606995294,
          0.7535392258561122,
          0.7483926710640014,
          0.7455540934844767,
          0.7530332358020149,
          0.7528667124778528,
          0.7533409672204001,
          0.7490760587012272,
          0.753748184627842,
          0.7531723038690343,
          0.753173730553837,
          0.7534080045555057,
          0.7499174179791044
         ],
         "yaxis": "y5"
        },
        {
         "marker": {
          "color": [
           0,
           1,
           2,
           3,
           4,
           5,
           7,
           8,
           9,
           10,
           11,
           12,
           13,
           14,
           15,
           16,
           20,
           21,
           22,
           24,
           30,
           31,
           33,
           36,
           41,
           42,
           46,
           49,
           51,
           52,
           54,
           55,
           56,
           62,
           63,
           69,
           72,
           73,
           74,
           76,
           77,
           80,
           81,
           82,
           83,
           84,
           87,
           91,
           92,
           94,
           95,
           97,
           98,
           102,
           103,
           109,
           110,
           111,
           114,
           115,
           117,
           121,
           123,
           124,
           126,
           127,
           132,
           138,
           139,
           141,
           142,
           143,
           151,
           152,
           155,
           158,
           159,
           160,
           161,
           165,
           166,
           167,
           169,
           170,
           171,
           172,
           181,
           185,
           192
          ],
          "colorbar": {
           "title": {
            "text": "Trial"
           },
           "x": 1,
           "xpad": 40
          },
          "colorscale": [
           [
            0,
            "rgb(247,251,255)"
           ],
           [
            0.125,
            "rgb(222,235,247)"
           ],
           [
            0.25,
            "rgb(198,219,239)"
           ],
           [
            0.375,
            "rgb(158,202,225)"
           ],
           [
            0.5,
            "rgb(107,174,214)"
           ],
           [
            0.625,
            "rgb(66,146,198)"
           ],
           [
            0.75,
            "rgb(33,113,181)"
           ],
           [
            0.875,
            "rgb(8,81,156)"
           ],
           [
            1,
            "rgb(8,48,107)"
           ]
          ],
          "line": {
           "color": "Grey",
           "width": 0.5
          },
          "showscale": false
         },
         "mode": "markers",
         "showlegend": false,
         "type": "scatter",
         "x": [
          0.11599914132358986,
          4.3261788952465645,
          0.3159551322281933,
          0.8594025464635453,
          2.589354731237948,
          2.9552732328923996,
          1.4487771320414347,
          3.291771859953908,
          0.18686682118333403,
          9.563907496314261,
          9.235773337267966,
          9.620654070198952,
          9.817644191246373,
          6.799491450053521,
          5.6426073551464855,
          5.190049843701457,
          6.959208083277091,
          9.65455085824745,
          6.541220174308849,
          3.787959348602084,
          4.674559857777926,
          7.128180373189481,
          5.218596024020236,
          5.139253881387242,
          5.1114482555385345,
          5.008801583469864,
          7.733840877742786,
          6.069790851636736,
          8.250802832048926,
          5.85802527481579,
          6.055498723438691,
          6.303123051697338,
          5.924233955063523,
          6.439566155772161,
          8.61838167721639,
          3.738641176926782,
          6.8470435164127545,
          4.622538226603242,
          7.857366090598537,
          5.6169276709847695,
          7.329335914723155,
          4.815835091402333,
          4.877995081795321,
          3.5696438606000993,
          5.119911658830538,
          4.768373494147815,
          8.982071203010829,
          8.76953629475326,
          8.892081723490424,
          7.6932458473621335,
          7.652903866391132,
          7.6858777928943045,
          4.1884499591137345,
          6.428872927949762,
          5.505394631879412,
          5.1235895080736205,
          4.968512166603751,
          4.0215655619281,
          4.5747984800132455,
          3.2909992778398474,
          4.865690868344665,
          7.115660009885722,
          8.207193567419601,
          8.55952934360285,
          9.721982863192075,
          8.447701786408308,
          9.999013704213295,
          8.789352889831214,
          7.331637901661152,
          7.236897694203274,
          6.960040613205266,
          7.083877692185891,
          4.772577913302284,
          5.4286859909179475,
          9.00311725862886,
          5.155714676023544,
          9.982881733196077,
          6.832397195146264,
          6.814808289631292,
          3.7201056573444014,
          6.690092071946625,
          6.793028894997586,
          7.792255882807116,
          8.347634851721972,
          7.544983007071164,
          7.224147607515346,
          6.904354120276676,
          7.107875400850363,
          5.631421236993999
         ],
         "xaxis": "x6",
         "y": [
          0.5,
          0.5,
          0.5,
          0.6814861753119272,
          0.6869924933911916,
          0.5,
          0.5,
          0.5,
          0.5,
          0.7355537772547349,
          0.7259360428436816,
          0.7312341491948331,
          0.7336478330792262,
          0.5,
          0.5,
          0.739901225668284,
          0.5,
          0.7333231639914641,
          0.7364541445530521,
          0.7366318988073814,
          0.7334126716122078,
          0.7299140641464449,
          0.7386904477049248,
          0.7376465665875362,
          0.7398238448683608,
          0.7477133893582345,
          0.7379968991511336,
          0.7466946493478366,
          0.7482355953140034,
          0.7504927510931552,
          0.7456049317685185,
          0.7465209925996623,
          0.7433620259867828,
          0.7463466056584791,
          0.7533067183598382,
          0.7473682243143938,
          0.7375517088987836,
          0.737342385030549,
          0.7528463737941143,
          0.7464748163171402,
          0.7550388232389206,
          0.7529654766992041,
          0.7525331013341636,
          0.7477278219039031,
          0.7513776074068981,
          0.7525994253268681,
          0.7492409727923345,
          0.748878861653813,
          0.7493589972585184,
          0.7523956593508068,
          0.7542942875540511,
          0.7574494964813685,
          0.745730437904611,
          0.7506774730738519,
          0.7501178166420198,
          0.7552124715617907,
          0.7527582928581732,
          0.7447967176363853,
          0.7482500362849758,
          0.7426304961627795,
          0.7489362857171102,
          0.7533409672204001,
          0.754030235719784,
          0.7538954477071715,
          0.7522517635846231,
          0.7443590259045518,
          0.7488294753304855,
          0.7484329580590615,
          0.7543789759009346,
          0.7534318931006423,
          0.7541186480510138,
          0.745056663539194,
          0.7492548998197659,
          0.7457414947118299,
          0.7510447517321304,
          0.754897946539986,
          0.7512071606995294,
          0.7535392258561122,
          0.7483926710640014,
          0.7455540934844767,
          0.7530332358020149,
          0.7528667124778528,
          0.7533409672204001,
          0.7490760587012272,
          0.753748184627842,
          0.7531723038690343,
          0.753173730553837,
          0.7534080045555057,
          0.7499174179791044
         ],
         "yaxis": "y6"
        },
        {
         "marker": {
          "color": [
           0,
           1,
           2,
           3,
           4,
           5,
           7,
           8,
           9,
           10,
           11,
           12,
           13,
           14,
           15,
           16,
           20,
           21,
           22,
           24,
           30,
           31,
           33,
           36,
           41,
           42,
           46,
           49,
           51,
           52,
           54,
           55,
           56,
           62,
           63,
           69,
           72,
           73,
           74,
           76,
           77,
           80,
           81,
           82,
           83,
           84,
           87,
           91,
           92,
           94,
           95,
           97,
           98,
           102,
           103,
           109,
           110,
           111,
           114,
           115,
           117,
           121,
           123,
           124,
           126,
           127,
           132,
           138,
           139,
           141,
           142,
           143,
           151,
           152,
           155,
           158,
           159,
           160,
           161,
           165,
           166,
           167,
           169,
           170,
           171,
           172,
           181,
           185,
           192
          ],
          "colorbar": {
           "title": {
            "text": "Trial"
           },
           "x": 1,
           "xpad": 40
          },
          "colorscale": [
           [
            0,
            "rgb(247,251,255)"
           ],
           [
            0.125,
            "rgb(222,235,247)"
           ],
           [
            0.25,
            "rgb(198,219,239)"
           ],
           [
            0.375,
            "rgb(158,202,225)"
           ],
           [
            0.5,
            "rgb(107,174,214)"
           ],
           [
            0.625,
            "rgb(66,146,198)"
           ],
           [
            0.75,
            "rgb(33,113,181)"
           ],
           [
            0.875,
            "rgb(8,81,156)"
           ],
           [
            1,
            "rgb(8,48,107)"
           ]
          ],
          "line": {
           "color": "Grey",
           "width": 0.5
          },
          "showscale": false
         },
         "mode": "markers",
         "showlegend": false,
         "type": "scatter",
         "x": [
          0.4159422321720808,
          0.21311239488793698,
          0.15212876102917414,
          0.31683371060241317,
          0.7002222139366404,
          0.2226509475139304,
          0.4062435059436535,
          0.46853605032991813,
          0.414679055664754,
          0.7719794647824458,
          0.7887072149009938,
          0.7663192939088661,
          0.6210464552321859,
          0.5704822253118632,
          0.569886513680436,
          0.5819005053029925,
          0.5009264641864816,
          0.6475121255800639,
          0.6501922737665328,
          0.5052768929420225,
          0.4861131368384128,
          0.6858810628364994,
          0.7163072041419677,
          0.37075100875069733,
          0.4451849234235784,
          0.4425093600694926,
          0.40921651662206593,
          0.5445848740540677,
          0.5843524193491376,
          0.6066867993218098,
          0.5267357378588182,
          0.5258650476189397,
          0.5080309719998684,
          0.4762242465887192,
          0.5819149392221915,
          0.6702029229466332,
          0.5773844980051951,
          0.796870871817195,
          0.6207050925527615,
          0.7043607780895386,
          0.6452533030596334,
          0.6553569222790862,
          0.6346311458074102,
          0.6330314981154535,
          0.6352916285571887,
          0.6321111072611474,
          0.6347163652471051,
          0.6102945887761044,
          0.6270618421295916,
          0.6363767692128106,
          0.6855915947312575,
          0.6726653665151793,
          0.6682658974835363,
          0.685022722903083,
          0.6899815922542084,
          0.6494370667264782,
          0.6417118367225437,
          0.6390130009671461,
          0.656105696065893,
          0.7191705825708362,
          0.6208721546564435,
          0.6879195178682997,
          0.704412957691476,
          0.7055996135695779,
          0.6966633143086528,
          0.7803149896131388,
          0.6483622064388362,
          0.6432215947965978,
          0.6827053124980115,
          0.6936540186584523,
          0.6983898605917787,
          0.699836561821178,
          0.6476614693723989,
          0.6830182450339838,
          0.7100097261635779,
          0.6598265655968288,
          0.666456475957864,
          0.6855251937410777,
          0.6995713937520259,
          0.7206715780007797,
          0.6869062333156384,
          0.6839208900174776,
          0.691276290468977,
          0.6949906435574447,
          0.676484479420394,
          0.6760271439814851,
          0.6802088017315554,
          0.6806874347884476,
          0.675382048947181
         ],
         "xaxis": "x7",
         "y": [
          0.5,
          0.5,
          0.5,
          0.6814861753119272,
          0.6869924933911916,
          0.5,
          0.5,
          0.5,
          0.5,
          0.7355537772547349,
          0.7259360428436816,
          0.7312341491948331,
          0.7336478330792262,
          0.5,
          0.5,
          0.739901225668284,
          0.5,
          0.7333231639914641,
          0.7364541445530521,
          0.7366318988073814,
          0.7334126716122078,
          0.7299140641464449,
          0.7386904477049248,
          0.7376465665875362,
          0.7398238448683608,
          0.7477133893582345,
          0.7379968991511336,
          0.7466946493478366,
          0.7482355953140034,
          0.7504927510931552,
          0.7456049317685185,
          0.7465209925996623,
          0.7433620259867828,
          0.7463466056584791,
          0.7533067183598382,
          0.7473682243143938,
          0.7375517088987836,
          0.737342385030549,
          0.7528463737941143,
          0.7464748163171402,
          0.7550388232389206,
          0.7529654766992041,
          0.7525331013341636,
          0.7477278219039031,
          0.7513776074068981,
          0.7525994253268681,
          0.7492409727923345,
          0.748878861653813,
          0.7493589972585184,
          0.7523956593508068,
          0.7542942875540511,
          0.7574494964813685,
          0.745730437904611,
          0.7506774730738519,
          0.7501178166420198,
          0.7552124715617907,
          0.7527582928581732,
          0.7447967176363853,
          0.7482500362849758,
          0.7426304961627795,
          0.7489362857171102,
          0.7533409672204001,
          0.754030235719784,
          0.7538954477071715,
          0.7522517635846231,
          0.7443590259045518,
          0.7488294753304855,
          0.7484329580590615,
          0.7543789759009346,
          0.7534318931006423,
          0.7541186480510138,
          0.745056663539194,
          0.7492548998197659,
          0.7457414947118299,
          0.7510447517321304,
          0.754897946539986,
          0.7512071606995294,
          0.7535392258561122,
          0.7483926710640014,
          0.7455540934844767,
          0.7530332358020149,
          0.7528667124778528,
          0.7533409672204001,
          0.7490760587012272,
          0.753748184627842,
          0.7531723038690343,
          0.753173730553837,
          0.7534080045555057,
          0.7499174179791044
         ],
         "yaxis": "y7"
        },
        {
         "marker": {
          "color": [
           0,
           1,
           2,
           3,
           4,
           5,
           7,
           8,
           9,
           10,
           11,
           12,
           13,
           14,
           15,
           16,
           20,
           21,
           22,
           24,
           30,
           31,
           33,
           36,
           41,
           42,
           46,
           49,
           51,
           52,
           54,
           55,
           56,
           62,
           63,
           69,
           72,
           73,
           74,
           76,
           77,
           80,
           81,
           82,
           83,
           84,
           87,
           91,
           92,
           94,
           95,
           97,
           98,
           102,
           103,
           109,
           110,
           111,
           114,
           115,
           117,
           121,
           123,
           124,
           126,
           127,
           132,
           138,
           139,
           141,
           142,
           143,
           151,
           152,
           155,
           158,
           159,
           160,
           161,
           165,
           166,
           167,
           169,
           170,
           171,
           172,
           181,
           185,
           192
          ],
          "colorbar": {
           "title": {
            "text": "Trial"
           },
           "x": 1,
           "xpad": 40
          },
          "colorscale": [
           [
            0,
            "rgb(247,251,255)"
           ],
           [
            0.125,
            "rgb(222,235,247)"
           ],
           [
            0.25,
            "rgb(198,219,239)"
           ],
           [
            0.375,
            "rgb(158,202,225)"
           ],
           [
            0.5,
            "rgb(107,174,214)"
           ],
           [
            0.625,
            "rgb(66,146,198)"
           ],
           [
            0.75,
            "rgb(33,113,181)"
           ],
           [
            0.875,
            "rgb(8,81,156)"
           ],
           [
            1,
            "rgb(8,48,107)"
           ]
          ],
          "line": {
           "color": "Grey",
           "width": 0.5
          },
          "showscale": false
         },
         "mode": "markers",
         "showlegend": false,
         "type": "scatter",
         "x": [
          16,
          12,
          14,
          14,
          12,
          14,
          10,
          16,
          10,
          12,
          12,
          12,
          12,
          12,
          14,
          10,
          10,
          12,
          12,
          14,
          16,
          12,
          14,
          14,
          14,
          14,
          14,
          14,
          14,
          14,
          14,
          14,
          14,
          14,
          14,
          14,
          14,
          14,
          14,
          14,
          12,
          12,
          12,
          12,
          12,
          12,
          12,
          12,
          12,
          12,
          12,
          12,
          12,
          12,
          12,
          12,
          12,
          12,
          12,
          12,
          12,
          12,
          12,
          12,
          12,
          12,
          12,
          12,
          12,
          12,
          12,
          12,
          12,
          12,
          12,
          12,
          12,
          12,
          12,
          12,
          12,
          12,
          12,
          12,
          12,
          12,
          12,
          12,
          12
         ],
         "xaxis": "x8",
         "y": [
          0.5,
          0.5,
          0.5,
          0.6814861753119272,
          0.6869924933911916,
          0.5,
          0.5,
          0.5,
          0.5,
          0.7355537772547349,
          0.7259360428436816,
          0.7312341491948331,
          0.7336478330792262,
          0.5,
          0.5,
          0.739901225668284,
          0.5,
          0.7333231639914641,
          0.7364541445530521,
          0.7366318988073814,
          0.7334126716122078,
          0.7299140641464449,
          0.7386904477049248,
          0.7376465665875362,
          0.7398238448683608,
          0.7477133893582345,
          0.7379968991511336,
          0.7466946493478366,
          0.7482355953140034,
          0.7504927510931552,
          0.7456049317685185,
          0.7465209925996623,
          0.7433620259867828,
          0.7463466056584791,
          0.7533067183598382,
          0.7473682243143938,
          0.7375517088987836,
          0.737342385030549,
          0.7528463737941143,
          0.7464748163171402,
          0.7550388232389206,
          0.7529654766992041,
          0.7525331013341636,
          0.7477278219039031,
          0.7513776074068981,
          0.7525994253268681,
          0.7492409727923345,
          0.748878861653813,
          0.7493589972585184,
          0.7523956593508068,
          0.7542942875540511,
          0.7574494964813685,
          0.745730437904611,
          0.7506774730738519,
          0.7501178166420198,
          0.7552124715617907,
          0.7527582928581732,
          0.7447967176363853,
          0.7482500362849758,
          0.7426304961627795,
          0.7489362857171102,
          0.7533409672204001,
          0.754030235719784,
          0.7538954477071715,
          0.7522517635846231,
          0.7443590259045518,
          0.7488294753304855,
          0.7484329580590615,
          0.7543789759009346,
          0.7534318931006423,
          0.7541186480510138,
          0.745056663539194,
          0.7492548998197659,
          0.7457414947118299,
          0.7510447517321304,
          0.754897946539986,
          0.7512071606995294,
          0.7535392258561122,
          0.7483926710640014,
          0.7455540934844767,
          0.7530332358020149,
          0.7528667124778528,
          0.7533409672204001,
          0.7490760587012272,
          0.753748184627842,
          0.7531723038690343,
          0.753173730553837,
          0.7534080045555057,
          0.7499174179791044
         ],
         "yaxis": "y8"
        },
        {
         "marker": {
          "color": [
           0,
           1,
           2,
           3,
           4,
           5,
           7,
           8,
           9,
           10,
           11,
           12,
           13,
           14,
           15,
           16,
           20,
           21,
           22,
           24,
           30,
           31,
           33,
           36,
           41,
           42,
           46,
           49,
           51,
           52,
           54,
           55,
           56,
           62,
           63,
           69,
           72,
           73,
           74,
           76,
           77,
           80,
           81,
           82,
           83,
           84,
           87,
           91,
           92,
           94,
           95,
           97,
           98,
           102,
           103,
           109,
           110,
           111,
           114,
           115,
           117,
           121,
           123,
           124,
           126,
           127,
           132,
           138,
           139,
           141,
           142,
           143,
           151,
           152,
           155,
           158,
           159,
           160,
           161,
           165,
           166,
           167,
           169,
           170,
           171,
           172,
           181,
           185,
           192
          ],
          "colorbar": {
           "title": {
            "text": "Trial"
           },
           "x": 1,
           "xpad": 40
          },
          "colorscale": [
           [
            0,
            "rgb(247,251,255)"
           ],
           [
            0.125,
            "rgb(222,235,247)"
           ],
           [
            0.25,
            "rgb(198,219,239)"
           ],
           [
            0.375,
            "rgb(158,202,225)"
           ],
           [
            0.5,
            "rgb(107,174,214)"
           ],
           [
            0.625,
            "rgb(66,146,198)"
           ],
           [
            0.75,
            "rgb(33,113,181)"
           ],
           [
            0.875,
            "rgb(8,81,156)"
           ],
           [
            1,
            "rgb(8,48,107)"
           ]
          ],
          "line": {
           "color": "Grey",
           "width": 0.5
          },
          "showscale": false
         },
         "mode": "markers",
         "showlegend": false,
         "type": "scatter",
         "x": [
          500,
          900,
          400,
          300,
          300,
          800,
          400,
          900,
          900,
          100,
          100,
          100,
          100,
          700,
          600,
          100,
          500,
          100,
          100,
          100,
          100,
          100,
          100,
          100,
          100,
          100,
          100,
          100,
          100,
          100,
          100,
          100,
          100,
          100,
          100,
          100,
          100,
          100,
          100,
          100,
          100,
          100,
          100,
          100,
          100,
          100,
          100,
          100,
          100,
          100,
          100,
          100,
          100,
          100,
          100,
          100,
          100,
          100,
          100,
          100,
          100,
          100,
          100,
          100,
          100,
          100,
          100,
          100,
          100,
          100,
          100,
          100,
          100,
          100,
          100,
          100,
          100,
          100,
          100,
          100,
          100,
          100,
          100,
          100,
          100,
          100,
          100,
          100,
          100
         ],
         "xaxis": "x9",
         "y": [
          0.5,
          0.5,
          0.5,
          0.6814861753119272,
          0.6869924933911916,
          0.5,
          0.5,
          0.5,
          0.5,
          0.7355537772547349,
          0.7259360428436816,
          0.7312341491948331,
          0.7336478330792262,
          0.5,
          0.5,
          0.739901225668284,
          0.5,
          0.7333231639914641,
          0.7364541445530521,
          0.7366318988073814,
          0.7334126716122078,
          0.7299140641464449,
          0.7386904477049248,
          0.7376465665875362,
          0.7398238448683608,
          0.7477133893582345,
          0.7379968991511336,
          0.7466946493478366,
          0.7482355953140034,
          0.7504927510931552,
          0.7456049317685185,
          0.7465209925996623,
          0.7433620259867828,
          0.7463466056584791,
          0.7533067183598382,
          0.7473682243143938,
          0.7375517088987836,
          0.737342385030549,
          0.7528463737941143,
          0.7464748163171402,
          0.7550388232389206,
          0.7529654766992041,
          0.7525331013341636,
          0.7477278219039031,
          0.7513776074068981,
          0.7525994253268681,
          0.7492409727923345,
          0.748878861653813,
          0.7493589972585184,
          0.7523956593508068,
          0.7542942875540511,
          0.7574494964813685,
          0.745730437904611,
          0.7506774730738519,
          0.7501178166420198,
          0.7552124715617907,
          0.7527582928581732,
          0.7447967176363853,
          0.7482500362849758,
          0.7426304961627795,
          0.7489362857171102,
          0.7533409672204001,
          0.754030235719784,
          0.7538954477071715,
          0.7522517635846231,
          0.7443590259045518,
          0.7488294753304855,
          0.7484329580590615,
          0.7543789759009346,
          0.7534318931006423,
          0.7541186480510138,
          0.745056663539194,
          0.7492548998197659,
          0.7457414947118299,
          0.7510447517321304,
          0.754897946539986,
          0.7512071606995294,
          0.7535392258561122,
          0.7483926710640014,
          0.7455540934844767,
          0.7530332358020149,
          0.7528667124778528,
          0.7533409672204001,
          0.7490760587012272,
          0.753748184627842,
          0.7531723038690343,
          0.753173730553837,
          0.7534080045555057,
          0.7499174179791044
         ],
         "yaxis": "y9"
        },
        {
         "marker": {
          "color": [
           0,
           1,
           2,
           3,
           4,
           5,
           7,
           8,
           9,
           10,
           11,
           12,
           13,
           14,
           15,
           16,
           20,
           21,
           22,
           24,
           30,
           31,
           33,
           36,
           41,
           42,
           46,
           49,
           51,
           52,
           54,
           55,
           56,
           62,
           63,
           69,
           72,
           73,
           74,
           76,
           77,
           80,
           81,
           82,
           83,
           84,
           87,
           91,
           92,
           94,
           95,
           97,
           98,
           102,
           103,
           109,
           110,
           111,
           114,
           115,
           117,
           121,
           123,
           124,
           126,
           127,
           132,
           138,
           139,
           141,
           142,
           143,
           151,
           152,
           155,
           158,
           159,
           160,
           161,
           165,
           166,
           167,
           169,
           170,
           171,
           172,
           181,
           185,
           192
          ],
          "colorbar": {
           "title": {
            "text": "Trial"
           },
           "x": 1,
           "xpad": 40
          },
          "colorscale": [
           [
            0,
            "rgb(247,251,255)"
           ],
           [
            0.125,
            "rgb(222,235,247)"
           ],
           [
            0.25,
            "rgb(198,219,239)"
           ],
           [
            0.375,
            "rgb(158,202,225)"
           ],
           [
            0.5,
            "rgb(107,174,214)"
           ],
           [
            0.625,
            "rgb(66,146,198)"
           ],
           [
            0.75,
            "rgb(33,113,181)"
           ],
           [
            0.875,
            "rgb(8,81,156)"
           ],
           [
            1,
            "rgb(8,48,107)"
           ]
          ],
          "line": {
           "color": "Grey",
           "width": 0.5
          },
          "showscale": false
         },
         "mode": "markers",
         "showlegend": false,
         "type": "scatter",
         "x": [
          140,
          540,
          560,
          480,
          340,
          520,
          270,
          430,
          360,
          80,
          20,
          20,
          20,
          170,
          120,
          240,
          250,
          70,
          190,
          320,
          410,
          210,
          130,
          170,
          190,
          130,
          60,
          50,
          40,
          50,
          90,
          30,
          20,
          20,
          60,
          150,
          80,
          30,
          60,
          140,
          60,
          60,
          60,
          60,
          60,
          60,
          70,
          40,
          60,
          60,
          100,
          100,
          100,
          90,
          80,
          140,
          120,
          120,
          40,
          60,
          30,
          100,
          70,
          80,
          130,
          100,
          50,
          110,
          90,
          50,
          40,
          20,
          70,
          60,
          120,
          30,
          40,
          20,
          20,
          70,
          30,
          40,
          40,
          20,
          40,
          40,
          40,
          30,
          60
         ],
         "xaxis": "x10",
         "y": [
          0.5,
          0.5,
          0.5,
          0.6814861753119272,
          0.6869924933911916,
          0.5,
          0.5,
          0.5,
          0.5,
          0.7355537772547349,
          0.7259360428436816,
          0.7312341491948331,
          0.7336478330792262,
          0.5,
          0.5,
          0.739901225668284,
          0.5,
          0.7333231639914641,
          0.7364541445530521,
          0.7366318988073814,
          0.7334126716122078,
          0.7299140641464449,
          0.7386904477049248,
          0.7376465665875362,
          0.7398238448683608,
          0.7477133893582345,
          0.7379968991511336,
          0.7466946493478366,
          0.7482355953140034,
          0.7504927510931552,
          0.7456049317685185,
          0.7465209925996623,
          0.7433620259867828,
          0.7463466056584791,
          0.7533067183598382,
          0.7473682243143938,
          0.7375517088987836,
          0.737342385030549,
          0.7528463737941143,
          0.7464748163171402,
          0.7550388232389206,
          0.7529654766992041,
          0.7525331013341636,
          0.7477278219039031,
          0.7513776074068981,
          0.7525994253268681,
          0.7492409727923345,
          0.748878861653813,
          0.7493589972585184,
          0.7523956593508068,
          0.7542942875540511,
          0.7574494964813685,
          0.745730437904611,
          0.7506774730738519,
          0.7501178166420198,
          0.7552124715617907,
          0.7527582928581732,
          0.7447967176363853,
          0.7482500362849758,
          0.7426304961627795,
          0.7489362857171102,
          0.7533409672204001,
          0.754030235719784,
          0.7538954477071715,
          0.7522517635846231,
          0.7443590259045518,
          0.7488294753304855,
          0.7484329580590615,
          0.7543789759009346,
          0.7534318931006423,
          0.7541186480510138,
          0.745056663539194,
          0.7492548998197659,
          0.7457414947118299,
          0.7510447517321304,
          0.754897946539986,
          0.7512071606995294,
          0.7535392258561122,
          0.7483926710640014,
          0.7455540934844767,
          0.7530332358020149,
          0.7528667124778528,
          0.7533409672204001,
          0.7490760587012272,
          0.753748184627842,
          0.7531723038690343,
          0.753173730553837,
          0.7534080045555057,
          0.7499174179791044
         ],
         "yaxis": "y10"
        }
       ],
       "layout": {
        "template": {
         "data": {
          "bar": [
           {
            "error_x": {
             "color": "#2a3f5f"
            },
            "error_y": {
             "color": "#2a3f5f"
            },
            "marker": {
             "line": {
              "color": "#E5ECF6",
              "width": 0.5
             },
             "pattern": {
              "fillmode": "overlay",
              "size": 10,
              "solidity": 0.2
             }
            },
            "type": "bar"
           }
          ],
          "barpolar": [
           {
            "marker": {
             "line": {
              "color": "#E5ECF6",
              "width": 0.5
             },
             "pattern": {
              "fillmode": "overlay",
              "size": 10,
              "solidity": 0.2
             }
            },
            "type": "barpolar"
           }
          ],
          "carpet": [
           {
            "aaxis": {
             "endlinecolor": "#2a3f5f",
             "gridcolor": "white",
             "linecolor": "white",
             "minorgridcolor": "white",
             "startlinecolor": "#2a3f5f"
            },
            "baxis": {
             "endlinecolor": "#2a3f5f",
             "gridcolor": "white",
             "linecolor": "white",
             "minorgridcolor": "white",
             "startlinecolor": "#2a3f5f"
            },
            "type": "carpet"
           }
          ],
          "choropleth": [
           {
            "colorbar": {
             "outlinewidth": 0,
             "ticks": ""
            },
            "type": "choropleth"
           }
          ],
          "contour": [
           {
            "colorbar": {
             "outlinewidth": 0,
             "ticks": ""
            },
            "colorscale": [
             [
              0,
              "#0d0887"
             ],
             [
              0.1111111111111111,
              "#46039f"
             ],
             [
              0.2222222222222222,
              "#7201a8"
             ],
             [
              0.3333333333333333,
              "#9c179e"
             ],
             [
              0.4444444444444444,
              "#bd3786"
             ],
             [
              0.5555555555555556,
              "#d8576b"
             ],
             [
              0.6666666666666666,
              "#ed7953"
             ],
             [
              0.7777777777777778,
              "#fb9f3a"
             ],
             [
              0.8888888888888888,
              "#fdca26"
             ],
             [
              1,
              "#f0f921"
             ]
            ],
            "type": "contour"
           }
          ],
          "contourcarpet": [
           {
            "colorbar": {
             "outlinewidth": 0,
             "ticks": ""
            },
            "type": "contourcarpet"
           }
          ],
          "heatmap": [
           {
            "colorbar": {
             "outlinewidth": 0,
             "ticks": ""
            },
            "colorscale": [
             [
              0,
              "#0d0887"
             ],
             [
              0.1111111111111111,
              "#46039f"
             ],
             [
              0.2222222222222222,
              "#7201a8"
             ],
             [
              0.3333333333333333,
              "#9c179e"
             ],
             [
              0.4444444444444444,
              "#bd3786"
             ],
             [
              0.5555555555555556,
              "#d8576b"
             ],
             [
              0.6666666666666666,
              "#ed7953"
             ],
             [
              0.7777777777777778,
              "#fb9f3a"
             ],
             [
              0.8888888888888888,
              "#fdca26"
             ],
             [
              1,
              "#f0f921"
             ]
            ],
            "type": "heatmap"
           }
          ],
          "heatmapgl": [
           {
            "colorbar": {
             "outlinewidth": 0,
             "ticks": ""
            },
            "colorscale": [
             [
              0,
              "#0d0887"
             ],
             [
              0.1111111111111111,
              "#46039f"
             ],
             [
              0.2222222222222222,
              "#7201a8"
             ],
             [
              0.3333333333333333,
              "#9c179e"
             ],
             [
              0.4444444444444444,
              "#bd3786"
             ],
             [
              0.5555555555555556,
              "#d8576b"
             ],
             [
              0.6666666666666666,
              "#ed7953"
             ],
             [
              0.7777777777777778,
              "#fb9f3a"
             ],
             [
              0.8888888888888888,
              "#fdca26"
             ],
             [
              1,
              "#f0f921"
             ]
            ],
            "type": "heatmapgl"
           }
          ],
          "histogram": [
           {
            "marker": {
             "pattern": {
              "fillmode": "overlay",
              "size": 10,
              "solidity": 0.2
             }
            },
            "type": "histogram"
           }
          ],
          "histogram2d": [
           {
            "colorbar": {
             "outlinewidth": 0,
             "ticks": ""
            },
            "colorscale": [
             [
              0,
              "#0d0887"
             ],
             [
              0.1111111111111111,
              "#46039f"
             ],
             [
              0.2222222222222222,
              "#7201a8"
             ],
             [
              0.3333333333333333,
              "#9c179e"
             ],
             [
              0.4444444444444444,
              "#bd3786"
             ],
             [
              0.5555555555555556,
              "#d8576b"
             ],
             [
              0.6666666666666666,
              "#ed7953"
             ],
             [
              0.7777777777777778,
              "#fb9f3a"
             ],
             [
              0.8888888888888888,
              "#fdca26"
             ],
             [
              1,
              "#f0f921"
             ]
            ],
            "type": "histogram2d"
           }
          ],
          "histogram2dcontour": [
           {
            "colorbar": {
             "outlinewidth": 0,
             "ticks": ""
            },
            "colorscale": [
             [
              0,
              "#0d0887"
             ],
             [
              0.1111111111111111,
              "#46039f"
             ],
             [
              0.2222222222222222,
              "#7201a8"
             ],
             [
              0.3333333333333333,
              "#9c179e"
             ],
             [
              0.4444444444444444,
              "#bd3786"
             ],
             [
              0.5555555555555556,
              "#d8576b"
             ],
             [
              0.6666666666666666,
              "#ed7953"
             ],
             [
              0.7777777777777778,
              "#fb9f3a"
             ],
             [
              0.8888888888888888,
              "#fdca26"
             ],
             [
              1,
              "#f0f921"
             ]
            ],
            "type": "histogram2dcontour"
           }
          ],
          "mesh3d": [
           {
            "colorbar": {
             "outlinewidth": 0,
             "ticks": ""
            },
            "type": "mesh3d"
           }
          ],
          "parcoords": [
           {
            "line": {
             "colorbar": {
              "outlinewidth": 0,
              "ticks": ""
             }
            },
            "type": "parcoords"
           }
          ],
          "pie": [
           {
            "automargin": true,
            "type": "pie"
           }
          ],
          "scatter": [
           {
            "fillpattern": {
             "fillmode": "overlay",
             "size": 10,
             "solidity": 0.2
            },
            "type": "scatter"
           }
          ],
          "scatter3d": [
           {
            "line": {
             "colorbar": {
              "outlinewidth": 0,
              "ticks": ""
             }
            },
            "marker": {
             "colorbar": {
              "outlinewidth": 0,
              "ticks": ""
             }
            },
            "type": "scatter3d"
           }
          ],
          "scattercarpet": [
           {
            "marker": {
             "colorbar": {
              "outlinewidth": 0,
              "ticks": ""
             }
            },
            "type": "scattercarpet"
           }
          ],
          "scattergeo": [
           {
            "marker": {
             "colorbar": {
              "outlinewidth": 0,
              "ticks": ""
             }
            },
            "type": "scattergeo"
           }
          ],
          "scattergl": [
           {
            "marker": {
             "colorbar": {
              "outlinewidth": 0,
              "ticks": ""
             }
            },
            "type": "scattergl"
           }
          ],
          "scattermapbox": [
           {
            "marker": {
             "colorbar": {
              "outlinewidth": 0,
              "ticks": ""
             }
            },
            "type": "scattermapbox"
           }
          ],
          "scatterpolar": [
           {
            "marker": {
             "colorbar": {
              "outlinewidth": 0,
              "ticks": ""
             }
            },
            "type": "scatterpolar"
           }
          ],
          "scatterpolargl": [
           {
            "marker": {
             "colorbar": {
              "outlinewidth": 0,
              "ticks": ""
             }
            },
            "type": "scatterpolargl"
           }
          ],
          "scatterternary": [
           {
            "marker": {
             "colorbar": {
              "outlinewidth": 0,
              "ticks": ""
             }
            },
            "type": "scatterternary"
           }
          ],
          "surface": [
           {
            "colorbar": {
             "outlinewidth": 0,
             "ticks": ""
            },
            "colorscale": [
             [
              0,
              "#0d0887"
             ],
             [
              0.1111111111111111,
              "#46039f"
             ],
             [
              0.2222222222222222,
              "#7201a8"
             ],
             [
              0.3333333333333333,
              "#9c179e"
             ],
             [
              0.4444444444444444,
              "#bd3786"
             ],
             [
              0.5555555555555556,
              "#d8576b"
             ],
             [
              0.6666666666666666,
              "#ed7953"
             ],
             [
              0.7777777777777778,
              "#fb9f3a"
             ],
             [
              0.8888888888888888,
              "#fdca26"
             ],
             [
              1,
              "#f0f921"
             ]
            ],
            "type": "surface"
           }
          ],
          "table": [
           {
            "cells": {
             "fill": {
              "color": "#EBF0F8"
             },
             "line": {
              "color": "white"
             }
            },
            "header": {
             "fill": {
              "color": "#C8D4E3"
             },
             "line": {
              "color": "white"
             }
            },
            "type": "table"
           }
          ]
         },
         "layout": {
          "annotationdefaults": {
           "arrowcolor": "#2a3f5f",
           "arrowhead": 0,
           "arrowwidth": 1
          },
          "autotypenumbers": "strict",
          "coloraxis": {
           "colorbar": {
            "outlinewidth": 0,
            "ticks": ""
           }
          },
          "colorscale": {
           "diverging": [
            [
             0,
             "#8e0152"
            ],
            [
             0.1,
             "#c51b7d"
            ],
            [
             0.2,
             "#de77ae"
            ],
            [
             0.3,
             "#f1b6da"
            ],
            [
             0.4,
             "#fde0ef"
            ],
            [
             0.5,
             "#f7f7f7"
            ],
            [
             0.6,
             "#e6f5d0"
            ],
            [
             0.7,
             "#b8e186"
            ],
            [
             0.8,
             "#7fbc41"
            ],
            [
             0.9,
             "#4d9221"
            ],
            [
             1,
             "#276419"
            ]
           ],
           "sequential": [
            [
             0,
             "#0d0887"
            ],
            [
             0.1111111111111111,
             "#46039f"
            ],
            [
             0.2222222222222222,
             "#7201a8"
            ],
            [
             0.3333333333333333,
             "#9c179e"
            ],
            [
             0.4444444444444444,
             "#bd3786"
            ],
            [
             0.5555555555555556,
             "#d8576b"
            ],
            [
             0.6666666666666666,
             "#ed7953"
            ],
            [
             0.7777777777777778,
             "#fb9f3a"
            ],
            [
             0.8888888888888888,
             "#fdca26"
            ],
            [
             1,
             "#f0f921"
            ]
           ],
           "sequentialminus": [
            [
             0,
             "#0d0887"
            ],
            [
             0.1111111111111111,
             "#46039f"
            ],
            [
             0.2222222222222222,
             "#7201a8"
            ],
            [
             0.3333333333333333,
             "#9c179e"
            ],
            [
             0.4444444444444444,
             "#bd3786"
            ],
            [
             0.5555555555555556,
             "#d8576b"
            ],
            [
             0.6666666666666666,
             "#ed7953"
            ],
            [
             0.7777777777777778,
             "#fb9f3a"
            ],
            [
             0.8888888888888888,
             "#fdca26"
            ],
            [
             1,
             "#f0f921"
            ]
           ]
          },
          "colorway": [
           "#636efa",
           "#EF553B",
           "#00cc96",
           "#ab63fa",
           "#FFA15A",
           "#19d3f3",
           "#FF6692",
           "#B6E880",
           "#FF97FF",
           "#FECB52"
          ],
          "font": {
           "color": "#2a3f5f"
          },
          "geo": {
           "bgcolor": "white",
           "lakecolor": "white",
           "landcolor": "#E5ECF6",
           "showlakes": true,
           "showland": true,
           "subunitcolor": "white"
          },
          "hoverlabel": {
           "align": "left"
          },
          "hovermode": "closest",
          "mapbox": {
           "style": "light"
          },
          "paper_bgcolor": "white",
          "plot_bgcolor": "#E5ECF6",
          "polar": {
           "angularaxis": {
            "gridcolor": "white",
            "linecolor": "white",
            "ticks": ""
           },
           "bgcolor": "#E5ECF6",
           "radialaxis": {
            "gridcolor": "white",
            "linecolor": "white",
            "ticks": ""
           }
          },
          "scene": {
           "xaxis": {
            "backgroundcolor": "#E5ECF6",
            "gridcolor": "white",
            "gridwidth": 2,
            "linecolor": "white",
            "showbackground": true,
            "ticks": "",
            "zerolinecolor": "white"
           },
           "yaxis": {
            "backgroundcolor": "#E5ECF6",
            "gridcolor": "white",
            "gridwidth": 2,
            "linecolor": "white",
            "showbackground": true,
            "ticks": "",
            "zerolinecolor": "white"
           },
           "zaxis": {
            "backgroundcolor": "#E5ECF6",
            "gridcolor": "white",
            "gridwidth": 2,
            "linecolor": "white",
            "showbackground": true,
            "ticks": "",
            "zerolinecolor": "white"
           }
          },
          "shapedefaults": {
           "line": {
            "color": "#2a3f5f"
           }
          },
          "ternary": {
           "aaxis": {
            "gridcolor": "white",
            "linecolor": "white",
            "ticks": ""
           },
           "baxis": {
            "gridcolor": "white",
            "linecolor": "white",
            "ticks": ""
           },
           "bgcolor": "#E5ECF6",
           "caxis": {
            "gridcolor": "white",
            "linecolor": "white",
            "ticks": ""
           }
          },
          "title": {
           "x": 0.05
          },
          "xaxis": {
           "automargin": true,
           "gridcolor": "white",
           "linecolor": "white",
           "ticks": "",
           "title": {
            "standoff": 15
           },
           "zerolinecolor": "white",
           "zerolinewidth": 2
          },
          "yaxis": {
           "automargin": true,
           "gridcolor": "white",
           "linecolor": "white",
           "ticks": "",
           "title": {
            "standoff": 15
           },
           "zerolinecolor": "white",
           "zerolinewidth": 2
          }
         }
        },
        "title": {
         "text": "Slice Plot"
        },
        "width": 3000,
        "xaxis": {
         "anchor": "y",
         "domain": [
          0,
          0.082
         ],
         "title": {
          "text": "bagging_fraction"
         }
        },
        "xaxis10": {
         "anchor": "y10",
         "domain": [
          0.9179999999999999,
          0.9999999999999999
         ],
         "title": {
          "text": "num_leaves"
         }
        },
        "xaxis2": {
         "anchor": "y2",
         "categoryarray": [
          5
         ],
         "categoryorder": "array",
         "domain": [
          0.10200000000000001,
          0.184
         ],
         "title": {
          "text": "bagging_freq"
         },
         "type": "category"
        },
        "xaxis3": {
         "anchor": "y3",
         "domain": [
          0.20400000000000001,
          0.28600000000000003
         ],
         "title": {
          "text": "feature_fraction"
         }
        },
        "xaxis4": {
         "anchor": "y4",
         "categoryarray": [
          true,
          false
         ],
         "categoryorder": "array",
         "domain": [
          0.306,
          0.388
         ],
         "title": {
          "text": "is_unbalance"
         },
         "type": "category"
        },
        "xaxis5": {
         "anchor": "y5",
         "domain": [
          0.40800000000000003,
          0.49000000000000005
         ],
         "title": {
          "text": "lambda_l1"
         },
         "type": "log"
        },
        "xaxis6": {
         "anchor": "y6",
         "domain": [
          0.51,
          0.592
         ],
         "title": {
          "text": "lambda_l2"
         },
         "type": "log"
        },
        "xaxis7": {
         "anchor": "y7",
         "domain": [
          0.6120000000000001,
          0.6940000000000001
         ],
         "title": {
          "text": "learning_rate"
         },
         "type": "log"
        },
        "xaxis8": {
         "anchor": "y8",
         "domain": [
          0.7140000000000001,
          0.796
         ],
         "title": {
          "text": "max_depth"
         }
        },
        "xaxis9": {
         "anchor": "y9",
         "domain": [
          0.8160000000000001,
          0.898
         ],
         "title": {
          "text": "min_data_in_leaf"
         }
        },
        "yaxis": {
         "anchor": "x",
         "domain": [
          0,
          1
         ],
         "title": {
          "text": "Objective Value"
         }
        },
        "yaxis10": {
         "anchor": "x10",
         "domain": [
          0,
          1
         ],
         "matches": "y",
         "showticklabels": false
        },
        "yaxis2": {
         "anchor": "x2",
         "domain": [
          0,
          1
         ],
         "matches": "y",
         "showticklabels": false
        },
        "yaxis3": {
         "anchor": "x3",
         "domain": [
          0,
          1
         ],
         "matches": "y",
         "showticklabels": false
        },
        "yaxis4": {
         "anchor": "x4",
         "domain": [
          0,
          1
         ],
         "matches": "y",
         "showticklabels": false
        },
        "yaxis5": {
         "anchor": "x5",
         "domain": [
          0,
          1
         ],
         "matches": "y",
         "showticklabels": false
        },
        "yaxis6": {
         "anchor": "x6",
         "domain": [
          0,
          1
         ],
         "matches": "y",
         "showticklabels": false
        },
        "yaxis7": {
         "anchor": "x7",
         "domain": [
          0,
          1
         ],
         "matches": "y",
         "showticklabels": false
        },
        "yaxis8": {
         "anchor": "x8",
         "domain": [
          0,
          1
         ],
         "matches": "y",
         "showticklabels": false
        },
        "yaxis9": {
         "anchor": "x9",
         "domain": [
          0,
          1
         ],
         "matches": "y",
         "showticklabels": false
        }
       }
      }
     },
     "metadata": {},
     "output_type": "display_data"
    }
   ],
   "source": [
    "optuna.visualization.plot_slice(study)"
   ]
  },
  {
   "cell_type": "code",
   "execution_count": 116,
   "metadata": {},
   "outputs": [
    {
     "data": {
      "application/vnd.plotly.v1+json": {
       "config": {
        "plotlyServerURL": "https://plot.ly"
       },
       "data": [
        {
         "cliponaxis": false,
         "hovertemplate": [
          "bagging_freq (CategoricalDistribution): 0.0<extra></extra>",
          "max_depth (IntDistribution): 7.369087999570677e-06<extra></extra>",
          "is_unbalance (CategoricalDistribution): 5.729375918796702e-05<extra></extra>",
          "learning_rate (FloatDistribution): 9.668376166887055e-05<extra></extra>",
          "bagging_fraction (FloatDistribution): 0.0001247375021290925<extra></extra>",
          "lambda_l1 (FloatDistribution): 0.00023587236319998087<extra></extra>",
          "feature_fraction (FloatDistribution): 0.000369391988804589<extra></extra>",
          "num_leaves (IntDistribution): 0.0010172024780279532<extra></extra>",
          "lambda_l2 (FloatDistribution): 0.0012689491317507704<extra></extra>",
          "min_data_in_leaf (IntDistribution): 0.9968224999272314<extra></extra>"
         ],
         "marker": {
          "color": "rgb(66,146,198)"
         },
         "orientation": "h",
         "text": [
          "<0.01",
          "<0.01",
          "<0.01",
          "<0.01",
          "<0.01",
          "<0.01",
          "<0.01",
          "<0.01",
          "<0.01",
          "1.00"
         ],
         "textposition": "outside",
         "type": "bar",
         "x": [
          0,
          0.000007369087999570677,
          0.00005729375918796702,
          0.00009668376166887055,
          0.0001247375021290925,
          0.00023587236319998087,
          0.000369391988804589,
          0.0010172024780279532,
          0.0012689491317507704,
          0.9968224999272314
         ],
         "y": [
          "bagging_freq",
          "max_depth",
          "is_unbalance",
          "learning_rate",
          "bagging_fraction",
          "lambda_l1",
          "feature_fraction",
          "num_leaves",
          "lambda_l2",
          "min_data_in_leaf"
         ]
        }
       ],
       "layout": {
        "showlegend": false,
        "template": {
         "data": {
          "bar": [
           {
            "error_x": {
             "color": "#2a3f5f"
            },
            "error_y": {
             "color": "#2a3f5f"
            },
            "marker": {
             "line": {
              "color": "#E5ECF6",
              "width": 0.5
             },
             "pattern": {
              "fillmode": "overlay",
              "size": 10,
              "solidity": 0.2
             }
            },
            "type": "bar"
           }
          ],
          "barpolar": [
           {
            "marker": {
             "line": {
              "color": "#E5ECF6",
              "width": 0.5
             },
             "pattern": {
              "fillmode": "overlay",
              "size": 10,
              "solidity": 0.2
             }
            },
            "type": "barpolar"
           }
          ],
          "carpet": [
           {
            "aaxis": {
             "endlinecolor": "#2a3f5f",
             "gridcolor": "white",
             "linecolor": "white",
             "minorgridcolor": "white",
             "startlinecolor": "#2a3f5f"
            },
            "baxis": {
             "endlinecolor": "#2a3f5f",
             "gridcolor": "white",
             "linecolor": "white",
             "minorgridcolor": "white",
             "startlinecolor": "#2a3f5f"
            },
            "type": "carpet"
           }
          ],
          "choropleth": [
           {
            "colorbar": {
             "outlinewidth": 0,
             "ticks": ""
            },
            "type": "choropleth"
           }
          ],
          "contour": [
           {
            "colorbar": {
             "outlinewidth": 0,
             "ticks": ""
            },
            "colorscale": [
             [
              0,
              "#0d0887"
             ],
             [
              0.1111111111111111,
              "#46039f"
             ],
             [
              0.2222222222222222,
              "#7201a8"
             ],
             [
              0.3333333333333333,
              "#9c179e"
             ],
             [
              0.4444444444444444,
              "#bd3786"
             ],
             [
              0.5555555555555556,
              "#d8576b"
             ],
             [
              0.6666666666666666,
              "#ed7953"
             ],
             [
              0.7777777777777778,
              "#fb9f3a"
             ],
             [
              0.8888888888888888,
              "#fdca26"
             ],
             [
              1,
              "#f0f921"
             ]
            ],
            "type": "contour"
           }
          ],
          "contourcarpet": [
           {
            "colorbar": {
             "outlinewidth": 0,
             "ticks": ""
            },
            "type": "contourcarpet"
           }
          ],
          "heatmap": [
           {
            "colorbar": {
             "outlinewidth": 0,
             "ticks": ""
            },
            "colorscale": [
             [
              0,
              "#0d0887"
             ],
             [
              0.1111111111111111,
              "#46039f"
             ],
             [
              0.2222222222222222,
              "#7201a8"
             ],
             [
              0.3333333333333333,
              "#9c179e"
             ],
             [
              0.4444444444444444,
              "#bd3786"
             ],
             [
              0.5555555555555556,
              "#d8576b"
             ],
             [
              0.6666666666666666,
              "#ed7953"
             ],
             [
              0.7777777777777778,
              "#fb9f3a"
             ],
             [
              0.8888888888888888,
              "#fdca26"
             ],
             [
              1,
              "#f0f921"
             ]
            ],
            "type": "heatmap"
           }
          ],
          "heatmapgl": [
           {
            "colorbar": {
             "outlinewidth": 0,
             "ticks": ""
            },
            "colorscale": [
             [
              0,
              "#0d0887"
             ],
             [
              0.1111111111111111,
              "#46039f"
             ],
             [
              0.2222222222222222,
              "#7201a8"
             ],
             [
              0.3333333333333333,
              "#9c179e"
             ],
             [
              0.4444444444444444,
              "#bd3786"
             ],
             [
              0.5555555555555556,
              "#d8576b"
             ],
             [
              0.6666666666666666,
              "#ed7953"
             ],
             [
              0.7777777777777778,
              "#fb9f3a"
             ],
             [
              0.8888888888888888,
              "#fdca26"
             ],
             [
              1,
              "#f0f921"
             ]
            ],
            "type": "heatmapgl"
           }
          ],
          "histogram": [
           {
            "marker": {
             "pattern": {
              "fillmode": "overlay",
              "size": 10,
              "solidity": 0.2
             }
            },
            "type": "histogram"
           }
          ],
          "histogram2d": [
           {
            "colorbar": {
             "outlinewidth": 0,
             "ticks": ""
            },
            "colorscale": [
             [
              0,
              "#0d0887"
             ],
             [
              0.1111111111111111,
              "#46039f"
             ],
             [
              0.2222222222222222,
              "#7201a8"
             ],
             [
              0.3333333333333333,
              "#9c179e"
             ],
             [
              0.4444444444444444,
              "#bd3786"
             ],
             [
              0.5555555555555556,
              "#d8576b"
             ],
             [
              0.6666666666666666,
              "#ed7953"
             ],
             [
              0.7777777777777778,
              "#fb9f3a"
             ],
             [
              0.8888888888888888,
              "#fdca26"
             ],
             [
              1,
              "#f0f921"
             ]
            ],
            "type": "histogram2d"
           }
          ],
          "histogram2dcontour": [
           {
            "colorbar": {
             "outlinewidth": 0,
             "ticks": ""
            },
            "colorscale": [
             [
              0,
              "#0d0887"
             ],
             [
              0.1111111111111111,
              "#46039f"
             ],
             [
              0.2222222222222222,
              "#7201a8"
             ],
             [
              0.3333333333333333,
              "#9c179e"
             ],
             [
              0.4444444444444444,
              "#bd3786"
             ],
             [
              0.5555555555555556,
              "#d8576b"
             ],
             [
              0.6666666666666666,
              "#ed7953"
             ],
             [
              0.7777777777777778,
              "#fb9f3a"
             ],
             [
              0.8888888888888888,
              "#fdca26"
             ],
             [
              1,
              "#f0f921"
             ]
            ],
            "type": "histogram2dcontour"
           }
          ],
          "mesh3d": [
           {
            "colorbar": {
             "outlinewidth": 0,
             "ticks": ""
            },
            "type": "mesh3d"
           }
          ],
          "parcoords": [
           {
            "line": {
             "colorbar": {
              "outlinewidth": 0,
              "ticks": ""
             }
            },
            "type": "parcoords"
           }
          ],
          "pie": [
           {
            "automargin": true,
            "type": "pie"
           }
          ],
          "scatter": [
           {
            "fillpattern": {
             "fillmode": "overlay",
             "size": 10,
             "solidity": 0.2
            },
            "type": "scatter"
           }
          ],
          "scatter3d": [
           {
            "line": {
             "colorbar": {
              "outlinewidth": 0,
              "ticks": ""
             }
            },
            "marker": {
             "colorbar": {
              "outlinewidth": 0,
              "ticks": ""
             }
            },
            "type": "scatter3d"
           }
          ],
          "scattercarpet": [
           {
            "marker": {
             "colorbar": {
              "outlinewidth": 0,
              "ticks": ""
             }
            },
            "type": "scattercarpet"
           }
          ],
          "scattergeo": [
           {
            "marker": {
             "colorbar": {
              "outlinewidth": 0,
              "ticks": ""
             }
            },
            "type": "scattergeo"
           }
          ],
          "scattergl": [
           {
            "marker": {
             "colorbar": {
              "outlinewidth": 0,
              "ticks": ""
             }
            },
            "type": "scattergl"
           }
          ],
          "scattermapbox": [
           {
            "marker": {
             "colorbar": {
              "outlinewidth": 0,
              "ticks": ""
             }
            },
            "type": "scattermapbox"
           }
          ],
          "scatterpolar": [
           {
            "marker": {
             "colorbar": {
              "outlinewidth": 0,
              "ticks": ""
             }
            },
            "type": "scatterpolar"
           }
          ],
          "scatterpolargl": [
           {
            "marker": {
             "colorbar": {
              "outlinewidth": 0,
              "ticks": ""
             }
            },
            "type": "scatterpolargl"
           }
          ],
          "scatterternary": [
           {
            "marker": {
             "colorbar": {
              "outlinewidth": 0,
              "ticks": ""
             }
            },
            "type": "scatterternary"
           }
          ],
          "surface": [
           {
            "colorbar": {
             "outlinewidth": 0,
             "ticks": ""
            },
            "colorscale": [
             [
              0,
              "#0d0887"
             ],
             [
              0.1111111111111111,
              "#46039f"
             ],
             [
              0.2222222222222222,
              "#7201a8"
             ],
             [
              0.3333333333333333,
              "#9c179e"
             ],
             [
              0.4444444444444444,
              "#bd3786"
             ],
             [
              0.5555555555555556,
              "#d8576b"
             ],
             [
              0.6666666666666666,
              "#ed7953"
             ],
             [
              0.7777777777777778,
              "#fb9f3a"
             ],
             [
              0.8888888888888888,
              "#fdca26"
             ],
             [
              1,
              "#f0f921"
             ]
            ],
            "type": "surface"
           }
          ],
          "table": [
           {
            "cells": {
             "fill": {
              "color": "#EBF0F8"
             },
             "line": {
              "color": "white"
             }
            },
            "header": {
             "fill": {
              "color": "#C8D4E3"
             },
             "line": {
              "color": "white"
             }
            },
            "type": "table"
           }
          ]
         },
         "layout": {
          "annotationdefaults": {
           "arrowcolor": "#2a3f5f",
           "arrowhead": 0,
           "arrowwidth": 1
          },
          "autotypenumbers": "strict",
          "coloraxis": {
           "colorbar": {
            "outlinewidth": 0,
            "ticks": ""
           }
          },
          "colorscale": {
           "diverging": [
            [
             0,
             "#8e0152"
            ],
            [
             0.1,
             "#c51b7d"
            ],
            [
             0.2,
             "#de77ae"
            ],
            [
             0.3,
             "#f1b6da"
            ],
            [
             0.4,
             "#fde0ef"
            ],
            [
             0.5,
             "#f7f7f7"
            ],
            [
             0.6,
             "#e6f5d0"
            ],
            [
             0.7,
             "#b8e186"
            ],
            [
             0.8,
             "#7fbc41"
            ],
            [
             0.9,
             "#4d9221"
            ],
            [
             1,
             "#276419"
            ]
           ],
           "sequential": [
            [
             0,
             "#0d0887"
            ],
            [
             0.1111111111111111,
             "#46039f"
            ],
            [
             0.2222222222222222,
             "#7201a8"
            ],
            [
             0.3333333333333333,
             "#9c179e"
            ],
            [
             0.4444444444444444,
             "#bd3786"
            ],
            [
             0.5555555555555556,
             "#d8576b"
            ],
            [
             0.6666666666666666,
             "#ed7953"
            ],
            [
             0.7777777777777778,
             "#fb9f3a"
            ],
            [
             0.8888888888888888,
             "#fdca26"
            ],
            [
             1,
             "#f0f921"
            ]
           ],
           "sequentialminus": [
            [
             0,
             "#0d0887"
            ],
            [
             0.1111111111111111,
             "#46039f"
            ],
            [
             0.2222222222222222,
             "#7201a8"
            ],
            [
             0.3333333333333333,
             "#9c179e"
            ],
            [
             0.4444444444444444,
             "#bd3786"
            ],
            [
             0.5555555555555556,
             "#d8576b"
            ],
            [
             0.6666666666666666,
             "#ed7953"
            ],
            [
             0.7777777777777778,
             "#fb9f3a"
            ],
            [
             0.8888888888888888,
             "#fdca26"
            ],
            [
             1,
             "#f0f921"
            ]
           ]
          },
          "colorway": [
           "#636efa",
           "#EF553B",
           "#00cc96",
           "#ab63fa",
           "#FFA15A",
           "#19d3f3",
           "#FF6692",
           "#B6E880",
           "#FF97FF",
           "#FECB52"
          ],
          "font": {
           "color": "#2a3f5f"
          },
          "geo": {
           "bgcolor": "white",
           "lakecolor": "white",
           "landcolor": "#E5ECF6",
           "showlakes": true,
           "showland": true,
           "subunitcolor": "white"
          },
          "hoverlabel": {
           "align": "left"
          },
          "hovermode": "closest",
          "mapbox": {
           "style": "light"
          },
          "paper_bgcolor": "white",
          "plot_bgcolor": "#E5ECF6",
          "polar": {
           "angularaxis": {
            "gridcolor": "white",
            "linecolor": "white",
            "ticks": ""
           },
           "bgcolor": "#E5ECF6",
           "radialaxis": {
            "gridcolor": "white",
            "linecolor": "white",
            "ticks": ""
           }
          },
          "scene": {
           "xaxis": {
            "backgroundcolor": "#E5ECF6",
            "gridcolor": "white",
            "gridwidth": 2,
            "linecolor": "white",
            "showbackground": true,
            "ticks": "",
            "zerolinecolor": "white"
           },
           "yaxis": {
            "backgroundcolor": "#E5ECF6",
            "gridcolor": "white",
            "gridwidth": 2,
            "linecolor": "white",
            "showbackground": true,
            "ticks": "",
            "zerolinecolor": "white"
           },
           "zaxis": {
            "backgroundcolor": "#E5ECF6",
            "gridcolor": "white",
            "gridwidth": 2,
            "linecolor": "white",
            "showbackground": true,
            "ticks": "",
            "zerolinecolor": "white"
           }
          },
          "shapedefaults": {
           "line": {
            "color": "#2a3f5f"
           }
          },
          "ternary": {
           "aaxis": {
            "gridcolor": "white",
            "linecolor": "white",
            "ticks": ""
           },
           "baxis": {
            "gridcolor": "white",
            "linecolor": "white",
            "ticks": ""
           },
           "bgcolor": "#E5ECF6",
           "caxis": {
            "gridcolor": "white",
            "linecolor": "white",
            "ticks": ""
           }
          },
          "title": {
           "x": 0.05
          },
          "xaxis": {
           "automargin": true,
           "gridcolor": "white",
           "linecolor": "white",
           "ticks": "",
           "title": {
            "standoff": 15
           },
           "zerolinecolor": "white",
           "zerolinewidth": 2
          },
          "yaxis": {
           "automargin": true,
           "gridcolor": "white",
           "linecolor": "white",
           "ticks": "",
           "title": {
            "standoff": 15
           },
           "zerolinecolor": "white",
           "zerolinewidth": 2
          }
         }
        },
        "title": {
         "text": "Hyperparameter Importances"
        },
        "xaxis": {
         "title": {
          "text": "Importance for Objective Value"
         }
        },
        "yaxis": {
         "title": {
          "text": "Hyperparameter"
         }
        }
       }
      }
     },
     "metadata": {},
     "output_type": "display_data"
    }
   ],
   "source": [
    "optuna.visualization.plot_param_importances(study)"
   ]
  },
  {
   "cell_type": "code",
   "execution_count": 117,
   "metadata": {},
   "outputs": [
    {
     "data": {
      "image/png": "[encoded data removed]",
      "text/plain": [
       "<Figure size 800x950 with 2 Axes>"
      ]
     },
     "metadata": {},
     "output_type": "display_data"
    }
   ],
   "source": [
    "import shap\n",
    "explainer = shap.TreeExplainer(lgb_clf)\n",
    "shap_values = explainer.shap_values(X_test)\n",
    "\n",
    "# Plot SHAP summary plot (for all features)\n",
    "shap.summary_plot(shap_values, X_test) \n",
    "plt.show()"
   ]
  },
  {
   "cell_type": "code",
   "execution_count": 118,
   "metadata": {},
   "outputs": [],
   "source": [
    "import pickle\n",
    "\n",
    "# Assuming you have a variable named 'best_params' containing the best hyperparameters\n",
    "best_params = study.best_params\n",
    "\n",
    "with open('best_params.pkl', 'wb') as f:\n",
    "    pickle.dump(best_params, f)"
   ]
  },
  {
   "cell_type": "code",
   "execution_count": 119,
   "metadata": {},
   "outputs": [
    {
     "data": {
      "text/plain": [
       "{'learning_rate': 0.6726653665151793,\n",
       " 'num_leaves': 100,\n",
       " 'max_depth': 12,\n",
       " 'min_data_in_leaf': 100,\n",
       " 'lambda_l1': 1.2370669791258075,\n",
       " 'lambda_l2': 7.6858777928943045,\n",
       " 'bagging_fraction': 0.9,\n",
       " 'bagging_freq': 5,\n",
       " 'feature_fraction': 0.8,\n",
       " 'is_unbalance': True}"
      ]
     },
     "execution_count": 119,
     "metadata": {},
     "output_type": "execute_result"
    }
   ],
   "source": [
    "best_params\n"
   ]
  },
  {
   "cell_type": "code",
   "execution_count": 120,
   "metadata": {},
   "outputs": [
    {
     "name": "stdout",
     "output_type": "stream",
     "text": [
      "\tBest value (AUC): 0.75745\n",
      "\tBest params:\n",
      "\t\tlearning_rate: 0.6726653665151793\n",
      "\t\tnum_leaves: 100\n",
      "\t\tmax_depth: 12\n",
      "\t\tmin_data_in_leaf: 100\n",
      "\t\tlambda_l1: 1.2370669791258075\n",
      "\t\tlambda_l2: 7.6858777928943045\n",
      "\t\tbagging_fraction: 0.9\n",
      "\t\tbagging_freq: 5\n",
      "\t\tfeature_fraction: 0.8\n",
      "\t\tis_unbalance: True\n",
      "Best model best_iteration: 6.8\n"
     ]
    }
   ],
   "source": [
    "print(f\"\\tBest value (AUC): {study.best_value:.5f}\")\n",
    "print(f\"\\tBest params:\")\n",
    "\n",
    "for key, value in study.best_params.items():\n",
    "    print(f\"\\t\\t{key}: {value}\")\n",
    "\n",
    "print(\"Best model best_iteration:\", study_model_iteractions[study.best_trial.number])"
   ]
  },
  {
   "cell_type": "code",
   "execution_count": 121,
   "metadata": {},
   "outputs": [
    {
     "name": "stdout",
     "output_type": "stream",
     "text": [
      "{'verbose': -1, 'objective': 'binary', 'metric': 'auc', 'learning_rate': 0.6726653665151793, 'num_leaves': 100, 'max_depth': 12, 'min_data_in_leaf': 100, 'lambda_l1': 1.2370669791258075, 'lambda_l2': 7.6858777928943045, 'bagging_fraction': 0.9, 'bagging_freq': 5, 'feature_fraction': 0.8, 'is_unbalance': True, 'num_iterations': 6}\n"
     ]
    }
   ],
   "source": [
    "best_params = {\"verbose\": -1,\n",
    "                \"objective\":\"binary\",\n",
    "                \"metric\":\"auc\"\n",
    "            }\n",
    "for key,val in study.best_params.items():\n",
    "    best_params[key] = val\n",
    "\n",
    "best_params[\"num_iterations\"] = int(study_model_iteractions[study.best_trial.number])\n",
    "print(best_params)"
   ]
  },
  {
   "cell_type": "markdown",
   "metadata": {},
   "source": [
    "# Training the model with parameters found using Optuna"
   ]
  },
  {
   "cell_type": "code",
   "execution_count": 122,
   "metadata": {},
   "outputs": [],
   "source": [
    "\n",
    "train_data = lgb.Dataset(data=X_train, label=y_train, params={\"verbose\":-1}, categorical_feature=categorical_columns)\n",
    "test_data = lgb.Dataset(data=X_test, label=y_test, params={\"verbose\":-1}, categorical_feature=categorical_columns)\n",
    "best_lgb = lgb.train(params=best_params,\n",
    "                    train_set=train_data) "
   ]
  },
  {
   "cell_type": "code",
   "execution_count": 123,
   "metadata": {},
   "outputs": [
    {
     "name": "stdout",
     "output_type": "stream",
     "text": [
      "AUC score on Test dataset: 0.7920967116934704\n",
      "AUC score on Train dataset: 0.7967331478932804\n"
     ]
    }
   ],
   "source": [
    "print(\"AUC score on Test dataset:\", roc_auc_score(y_test, best_lgb.predict(X_test)))\n",
    "print(\"AUC score on Train dataset:\", roc_auc_score(y_train, best_lgb.predict(X_train)))"
   ]
  },
  {
   "cell_type": "code",
   "execution_count": 124,
   "metadata": {},
   "outputs": [],
   "source": [
    "from sklearn.metrics import f1_score\n",
    "import numpy as np\n",
    "\n",
    "def calculate_optimal_threshold(classifier, X, y):\n",
    "    # Predict probabilities\n",
    "    y_pred_proba = classifier.predict(X)\n",
    "    \n",
    "    # Set a range of thresholds to test\n",
    "    thresholds = [0.1, 0.2, 0.3, 0.4, 0.5, 0.6, 0.7, 0.8, 0.9]\n",
    "    best_f1 = 0\n",
    "    best_threshold = 0\n",
    "    \n",
    "    # Find the threshold that maximizes the F1 score\n",
    "    for threshold in thresholds:\n",
    "      y_pred = (y_pred_proba > threshold).astype(int)\n",
    "      f1 = f1_score(y_test, y_pred, average='macro')\n",
    "    \n",
    "      if f1 > best_f1:\n",
    "        best_f1 = f1\n",
    "        best_threshold = threshold\n",
    "    return best_threshold\n",
    "    \n",
    "   "
   ]
  },
  {
   "cell_type": "code",
   "execution_count": 125,
   "metadata": {},
   "outputs": [
    {
     "data": {
      "text/plain": [
       "0.7"
      ]
     },
     "execution_count": 125,
     "metadata": {},
     "output_type": "execute_result"
    }
   ],
   "source": [
    "calculate_optimal_threshold(best_lgb, X_test, y_test)"
   ]
  },
  {
   "cell_type": "code",
   "execution_count": 126,
   "metadata": {},
   "outputs": [
    {
     "name": "stdout",
     "output_type": "stream",
     "text": [
      "Best F1 score: 0.676949632340975\n",
      "Best threshold: 0.7\n"
     ]
    }
   ],
   "source": [
    "from sklearn.metrics import f1_score\n",
    "\n",
    "# Assuming best_lgb is the trained LightGBM model and X_test, y_test are defined\n",
    "\n",
    "# Get the predicted probabilities for the positive class (class 1)\n",
    "y_pred_proba = best_lgb.predict(X_test)\n",
    "\n",
    "# Set a range of thresholds to test\n",
    "thresholds = [0.1, 0.2, 0.3, 0.4, 0.5, 0.6, 0.7, 0.8, 0.9]\n",
    "\n",
    "best_f1 = 0\n",
    "best_threshold = 0\n",
    "\n",
    "# Find the threshold that maximizes the F1 score\n",
    "for threshold in thresholds:\n",
    "    y_pred = (y_pred_proba > threshold).astype(int)\n",
    "    f1 = f1_score(y_test, y_pred, average='macro')\n",
    "    \n",
    "    if f1 > best_f1:\n",
    "        best_f1 = f1\n",
    "        best_threshold = threshold\n",
    "\n",
    "print(\"Best F1 score:\", best_f1)\n",
    "print(\"Best threshold:\", best_threshold)"
   ]
  },
  {
   "cell_type": "code",
   "execution_count": 127,
   "metadata": {},
   "outputs": [
    {
     "data": {
      "image/png": "[encoded data removed]",
      "text/plain": [
       "<Figure size 800x600 with 1 Axes>"
      ]
     },
     "metadata": {},
     "output_type": "display_data"
    }
   ],
   "source": [
    "import seaborn as sns\n",
    "from sklearn.metrics import confusion_matrix\n",
    "# Get the predicted probabilities for the positive class (class 1) from the test set\n",
    "y_pred_proba = best_lgb.predict(X_test)\n",
    "\n",
    "# Use the threshold obtained earlier to predict binary labels\n",
    "threshold = best_threshold\n",
    "y_pred = (y_pred_proba > threshold).astype(int)\n",
    "\n",
    "# Construct the confusion matrix\n",
    "conf_matrix = confusion_matrix(y_test, y_pred)\n",
    "\n",
    "# Plot confusion matrix using seaborn heatmap\n",
    "plt.figure(figsize=(8, 6))\n",
    "sns.heatmap(conf_matrix, annot=True, fmt='d', cmap='Blues', cbar=False,\n",
    "            xticklabels=['Predicted 0', 'Predicted 1'],\n",
    "            yticklabels=['Actual 0', 'Actual 1'])\n",
    "plt.title('Confusion Matrix')\n",
    "plt.xlabel('Predicted')\n",
    "plt.ylabel('Actual')\n",
    "plt.show()"
   ]
  },
  {
   "cell_type": "code",
   "execution_count": 128,
   "metadata": {},
   "outputs": [],
   "source": [
    "import pickle\n",
    "\n",
    "# Assuming you have a variable named 'best_params' containing the best hyperparameters\n",
    "best_params = best_params\n",
    "\n",
    "with open('best_params.pkl', 'wb') as f:\n",
    "    pickle.dump(best_params, f)"
   ]
  },
  {
   "cell_type": "code",
   "execution_count": 129,
   "metadata": {},
   "outputs": [],
   "source": [
    "from sklearn.metrics import f1_score\n",
    "import numpy as np\n",
    "\n",
    "def calculate_optimal_threshold(classifier, X, y):\n",
    "    # Predict probabilities\n",
    "    y_pred_proba = classifier.predict(X)\n",
    "    \n",
    "    # Set a range of thresholds to test\n",
    "    thresholds = [0.1, 0.2, 0.3, 0.4, 0.5, 0.6, 0.7, 0.8, 0.9]\n",
    "    best_f1 = 0\n",
    "    best_threshold = 0\n",
    "    \n",
    "    # Find the threshold that maximizes the F1 score\n",
    "    for threshold in thresholds:\n",
    "      y_pred = (y_pred_proba > threshold).astype(int)\n",
    "      f1 = f1_score(y_test, y_pred, average='macro')\n",
    "    \n",
    "      if f1 > best_f1:\n",
    "        best_f1 = f1\n",
    "        best_threshold = threshold\n",
    "    return best_threshold"
   ]
  },
  {
   "cell_type": "code",
   "execution_count": 130,
   "metadata": {},
   "outputs": [],
   "source": [
    "import pandas as pd\n",
    "import numpy as np\n",
    "from sklearn.preprocessing import LabelEncoder\n",
    "import category_encoders as ce\n",
    "from copy import deepcopy\n",
    "\n",
    "def train_model(df):\n",
    "    \"\"\"\n",
    "    Train sample model and save artifacts\n",
    "    \"\"\"\n",
    "    from sklearn.linear_model import LogisticRegression\n",
    "    from optuna.integration import LightGBMPruningCallback\n",
    "    import tqdm as notebook_tqdm\n",
    "    from sklearn.model_selection import StratifiedKFold\n",
    "    import lightgbm as lgb\n",
    "    from sklearn.metrics import roc_auc_score\n",
    "    import optuna\n",
    "    import warnings\n",
    "    import pickle\n",
    "    from sklearn.impute import SimpleImputer\n",
    "    from sklearn.model_selection import GridSearchCV\n",
    "    import matplotlib.pyplot as plt\n",
    "    from sklearn.preprocessing import FunctionTransformer\n",
    "    from sklearn.metrics import average_precision_score\n",
    "    import numpy as np\n",
    "    import warnings\n",
    "    warnings.simplefilter(action='ignore', category=FutureWarning)\n",
    "    \n",
    "    \n",
    "    target_col = \"MIS_Status\"\n",
    "    cols_to_drop = ['City', 'State', 'Zip','Bank', 'BankState', 'LowDoc','RevLineCr','MIS_Status']\n",
    "    # Removing the index column\n",
    "    if \"index\" in df.columns:\n",
    "        df.drop(columns=\"index\", inplace=True)\n",
    "    y = df[target_col] if target_col in df.columns else None\n",
    "    X = df.drop(columns=[target_col]) if target_col in df.columns else df.copy()\n",
    "\n",
    "\n",
    "    # Relacing Missing values\n",
    "    \n",
    "    for i in df['RevLineCr']:\n",
    "      if i not in ['Y','N']:\n",
    "        df['RevLineCr'].replace(i,'N',inplace=True)\n",
    "        print(\"RevLineCr\",df['RevLineCr'].unique())\n",
    "\n",
    "    for i in df['LowDoc']:\n",
    "      if i not in ['Y','N']:\n",
    "        df['LowDoc'].replace(i,'N',inplace=True)\n",
    "        print(\"LowDoc\",df['LowDoc'].unique())\n",
    "\n",
    "    for i in df['NewExist']:\n",
    "      if i not in [1,2]:\n",
    "        df['NewExist'].replace(i,None,inplace=True)\n",
    "        print(\"NewExist\",df['NewExist'].unique())\n",
    "\n",
    "\n",
    "    category_cols=['City', 'State', 'Bank', 'BankState', 'RevLineCr', 'LowDoc','NewExist']\n",
    "    for column in category_cols:\n",
    "        df[column]=df[column].fillna(df[column].mode()[0])\n",
    "\n",
    "    # Target encoding the categorical columns\n",
    "    categorical_columns = ['City', 'State', 'Bank', 'BankState', 'RevLineCr', 'LowDoc','NewExist']\n",
    "    encoder = ce.TargetEncoder(cols=categorical_columns)\n",
    "    encoder.fit(df[categorical_columns], df['MIS_Status'])\n",
    "    train_encoded = encoder.transform(df[categorical_columns])\n",
    "    train_encoded = train_encoded.add_suffix('_trg')\n",
    "    #train_encoded = pd.concat([train_encoded, data], axis=1)\n",
    "    train_encoded = pd.concat([train_encoded, df], axis=1)\n",
    "    for column in categorical_columns:\n",
    "        train_encoded[column + \"_trg\"].fillna(train_encoded[column + \"_trg\"].mean(), inplace=True)\n",
    "    \n",
    "    # Renaming the columns\n",
    "    #train_encoded.rename(columns={col: col + \"_trg\" if col in categorical_columns else col for col in train_encoded.columns}, inplace=False)\n",
    "    print(train_encoded.columns)\n",
    "    \n",
    "\n",
    "\n",
    "    # Adding Features\n",
    "    import numpy as np\n",
    "    # Apply the log transformation to the specific feature in your training data\n",
    "    small_constant = 1e-10  # You can adjust this constant as needed\n",
    "    # df['LogColumn'] = np.log(df['OriginalColumn'] + small_constant)\n",
    "    train_encoded['Log_DisbursementGross'] = np.log1p(train_encoded['DisbursementGross'])\n",
    "    train_encoded['Log_GrAppv'] = np.log1p(train_encoded['GrAppv'])\n",
    "    train_encoded['Log_SBA_Appv'] = np.log1p(train_encoded['SBA_Appv'])\n",
    "    train_encoded['Log_BalanceGross'] = np.log1p(train_encoded['BalanceGross'])\n",
    "    train_encoded['TotalJobs'] = train_encoded['CreateJob'] + train_encoded['RetainedJob']\n",
    "    #train_encoded['Loan_Efficiency'] = train_encoded['DisbursementGross'] / (train_encoded['CreateJob'] + train_encoded['RetainedJob'] + 1)\n",
    "    # Calculate 'LoanToIncomeRatio' as a ratio of 'SBA_Appv' to 'DisbursementGross'\n",
    "    train_encoded['IncomeToLoanRatio'] = train_encoded['DisbursementGross'] / train_encoded['SBA_Appv']\n",
    "    # Calculate 'LoanToEmployeesRatio' as a ratio of 'SBA_Appv' to 'NoEmp'\n",
    "    train_encoded['EmployeesToLoanRatio'] = train_encoded['NoEmp'] / train_encoded['SBA_Appv']\n",
    "    # Create a binary feature to indicate loans with a balance ('BalanceGross' > 0)\n",
    "    #train_encoded['HasBalance'] = (train_encoded['BalanceGross'] > 0).astype(int)\n",
    "    # Calculate 'LoanPerJob' as a ratio of 'SBA_Appv' to 'TotalJobs'\n",
    "    train_encoded['JobPerLoan'] = train_encoded['TotalJobs'] / train_encoded['SBA_Appv'] \n",
    "    # Calculate SBA's Gaurenteed Portion of Approved Loan\n",
    "    train_encoded['Gauren_SBA_Appv'] = train_encoded['GrAppv'] / train_encoded['SBA_Appv']\n",
    "\n",
    "    \n",
    "    # Scaling the numerical columns\n",
    "    numerical_columns = [ 'NoEmp', 'CreateJob', 'RetainedJob', 'GrAppv', 'SBA_Appv', 'DisbursementGross', 'BalanceGross',\n",
    "                        'Log_DisbursementGross', 'Log_GrAppv', 'Log_SBA_Appv', 'Log_BalanceGross','TotalJobs','IncomeToLoanRatio', \n",
    "                        'EmployeesToLoanRatio', 'JobPerLoan', 'Gauren_SBA_Appv']\n",
    "    \n",
    "    scaler = StandardScaler()\n",
    "    #fit and transform separately\n",
    "    scaler.fit(train_encoded[numerical_columns])\n",
    "    train_encoded[numerical_columns] = scaler.transform(train_encoded[numerical_columns])\n",
    "\n",
    "    warnings.filterwarnings(\"ignore\", category=UserWarning)\n",
    "    study_model_iteractions = {}\n",
    "\n",
    "    def objective(trial, X, y):\n",
    "     \n",
    "      param_grid = {\n",
    "        # Refer to the Official guide : https://lightgbm.readthedocs.io/en/latest/Parameters-Tuning.html\n",
    "        \"num_iterations\": 10000,\n",
    "        \"num_threads\": 16,\n",
    "        \"learning_rate\": trial.suggest_float(\"learning_rate\", 0.01, 0.3, step=0.05),\n",
    "        #\"num_leaves\": trial.suggest_int(\"num_leaves\", 50, 150, step=5),\n",
    "        \"num_leaves\": trial.suggest_int(\"num_leaves\", 20, 3000, step=20),\n",
    "        #\"max_depth\": trial.suggest_int(\"max_depth\", 5, 20, step=2),\n",
    "        \"max_depth\": trial.suggest_int(\"max_depth\", 3, 12),\n",
    "        \"min_data_in_leaf\": trial.suggest_int(\"min_data_in_leaf\", 100, 1000, step=100),\n",
    "        ##############################\n",
    "        #'lambda_l1': trial.suggest_float('lambda_l1', 1e-8, 10.0, log=True),\n",
    "        #'lambda_l2': trial.suggest_float('lambda_l2', 1e-8, 10.0, log=True),\n",
    "        \"lambda_l1\": trial.suggest_int(\"lambda_l1\", 0, 100, step=5),\n",
    "        \"lambda_l2\": trial.suggest_int(\"lambda_l2\", 0, 100, step=5),\n",
    "        #\"lambda_l1\": trial.suggest_float(\"lambda_l1\", 0.01, 0.1, step=0.01),\n",
    "        #\"lambda_l2\": trial.suggest_float(\"lambda_l2\", 0.01, 0.1, step=0.01),\n",
    "        ########################\n",
    "        \"bagging_fraction\": trial.suggest_float(\"bagging_fraction\", 0.8, 1.0, step=0.1),\n",
    "        \"bagging_freq\": trial.suggest_categorical(\"bagging_freq\", [5]),\n",
    "        \"feature_fraction\": trial.suggest_float(\"feature_fraction\", 0.8, 1.0, step=0.1),\n",
    "        #######################\n",
    "        \"is_unbalance\": trial.suggest_categorical(\"is_unbalance\",[True, False]),\n",
    "        ########################\n",
    "        \"verbose\": -1,\n",
    "        \"objective\":\"binary\",\n",
    "        \"metric\":\"auc\",\n",
    "        \"num_threads\": 12\n",
    "       }\n",
    "\n",
    "      cv = StratifiedKFold(n_splits=5, shuffle=True, random_state=1121218)\n",
    "\n",
    "      cv_scores = np.empty(5)\n",
    "      cv_iteractions = np.empty(5)\n",
    "      for idx, (train_idx, test_idx) in enumerate(cv.split(X, y)):\n",
    "        X_train, X_test = X.iloc[train_idx], X.iloc[test_idx]\n",
    "        y_train, y_test = y.iloc[train_idx], y.iloc[test_idx]\n",
    "\n",
    "        train_data = lgb.Dataset(data=X_train, label=y_train, params={\"verbose\":-1}, categorical_feature=categorical_columns)\n",
    "        valid_data = lgb.Dataset(data=X_test, label=y_test, params={\"verbose\":-1}, categorical_feature=categorical_columns)\n",
    "        lgb_clf = lgb.train(params=param_grid,\n",
    "                            train_set=train_data,\n",
    "                            valid_sets=[valid_data],\n",
    "                            categorical_feature=categorical_columns,\n",
    "                            callbacks=[LightGBMPruningCallback(trial, \"auc\"),\n",
    "                                        lgb.early_stopping(stopping_rounds=5)]  \n",
    "                            )\n",
    "        preds = lgb_clf.predict(X_test)\n",
    "        cv_scores[idx] = roc_auc_score(y_test, preds)\n",
    "        cv_iteractions[idx] = lgb_clf.best_iteration\n",
    "    \n",
    "      study_model_iteractions[trial.number] = np.mean(cv_iteractions)\n",
    "\n",
    "      study = optuna.create_study(direction=\"maximize\", study_name=\"LGBM Classifier\")\n",
    "      func = lambda trial: objective(trial, X_train, y_train)\n",
    "      study.optimize(func, n_trials=200)\n",
    "      print('Best hyperparameters:', study.best_params)\n",
    "      print('Best AUCPR:', study.best_value)\n",
    "\n",
    "      print(f\"\\tBest value (AUC): {study.best_value:.5f}\")\n",
    "      print(f\"\\tBest params:\")\n",
    "      plt.figure(figsize=(12,6))\n",
    "      lgb.plot_importance(model, max_num_features=30)\n",
    "      plt.title(\"Feature importances\")\n",
    "      plt.show()\n",
    "\n",
    "      for key, value in study.best_params.items():\n",
    "        print(f\"\\t\\t{key}: {value}\")\n",
    "\n",
    "      print(\"Best model best_iteration:\", study_model_iteractions[study.best_trial.number])\n",
    "      best_iterations = study_model_iteractions[study.best_trial.number] \n",
    "\n",
    "        \n",
    "    \n",
    "\n",
    "          \n",
    "   \n",
    "      # End Todo\n",
    "    \n",
    "      # Saving the artifacts\n",
    "      artifacts_dict = {\n",
    "        \"model\": lgb_clf,\n",
    "        \"target_encoder\": encoder,\n",
    "        \"te_columns\": categorical_columns,\n",
    "        \"columns_to_train\":train_data,\n",
    "        \"numerical_columns\":numerical_columns,\n",
    "        \"category_cols\": category_cols,\n",
    "        \"scaler\":scaler\n",
    "          }\n",
    "\n",
    "      #calculating threshold\n",
    "      if y is not None:\n",
    "        #optimal_threshold = calculate_optimal_threshold(clf_, train_encoded[columns_to_train], y)\n",
    "        optimal_threshold = calculate_optimal_threshold(lgb_clf, train_encoded.columns, y)\n",
    "        print(f\"Optimal Threshold: {optimal_threshold}\")\n",
    "        # Saving the threshold in artifacts\n",
    "        artifacts_dict[\"threshold\"] = optimal_threshold\n",
    "\n",
    "      artifacts_dict_file = open(\"D:/Work/Gre/UTD/Courses/Fall/MIS6341/Softwares/Python/ml-fall-2023/Project2/artifacts/artifacts_dict_file.pkl\", \"wb\")\n",
    "      pickle.dump(obj=artifacts_dict, file=artifacts_dict_file)    \n",
    "       \n",
    "      artifacts_dict_file.close()    \n",
    "      return lgb_clf"
   ]
  },
  {
   "cell_type": "code",
   "execution_count": 131,
   "metadata": {},
   "outputs": [
    {
     "data": {
      "text/html": [
       "<style>.output_scroll { height:auto !important; max-height: none !important; }</style>"
      ],
      "text/plain": [
       "<IPython.core.display.HTML object>"
      ]
     },
     "metadata": {},
     "output_type": "display_data"
    },
    {
     "name": "stdout",
     "output_type": "stream",
     "text": [
      "RevLineCr ['N' 'Y' 'T' nan '1' 'R' '`' 'Q' '-' '7' '2' '4' '.' 'C']\n",
      "RevLineCr ['N' 'Y' nan '1' 'R' '`' 'Q' '-' '7' '2' '4' '.' 'C']\n",
      "RevLineCr ['N' 'Y' '1' 'R' '`' 'Q' '-' '7' '2' '4' '.' 'C']\n",
      "RevLineCr ['N' 'Y' 'R' '`' 'Q' '-' '7' '2' '4' '.' 'C']\n",
      "RevLineCr ['N' 'Y' '`' 'Q' '-' '7' '2' '4' '.' 'C']\n",
      "RevLineCr ['N' 'Y' 'Q' '-' '7' '2' '4' '.' 'C']\n",
      "RevLineCr ['N' 'Y' '-' '7' '2' '4' '.' 'C']\n",
      "RevLineCr ['N' 'Y' '7' '2' '4' '.' 'C']\n",
      "RevLineCr ['N' 'Y' '2' '4' '.' 'C']\n",
      "RevLineCr ['N' 'Y' '4' '.' 'C']\n",
      "RevLineCr ['N' 'Y' '.' 'C']\n",
      "RevLineCr ['N' 'Y' 'C']\n",
      "RevLineCr ['N' 'Y']\n",
      "LowDoc ['N' 'Y' 'C' nan 'A' 'S' 'R']\n",
      "LowDoc ['N' 'Y' nan 'A' 'S' 'R']\n",
      "LowDoc ['N' 'Y' 'A' 'S' 'R']\n",
      "LowDoc ['N' 'Y' 'S' 'R']\n",
      "LowDoc ['N' 'Y' 'R']\n",
      "LowDoc ['N' 'Y']\n",
      "NewExist [1.0 2.0 None nan]\n",
      "NewExist [1.0 2.0 None nan]\n",
      "NewExist [1.0 2.0 None nan]\n",
      "NewExist [1.0 2.0 None nan]\n",
      "NewExist [1.0 2.0 None nan]\n",
      "NewExist [1.0 2.0 None nan]\n",
      "NewExist [1.0 2.0 None nan]\n",
      "NewExist [1.0 2.0 None nan]\n",
      "NewExist [1.0 2.0 None nan]\n",
      "NewExist [1.0 2.0 None nan]\n",
      "NewExist [1.0 2.0 None nan]\n",
      "NewExist [1.0 2.0 None nan]\n",
      "NewExist [1.0 2.0 None nan]\n",
      "NewExist [1.0 2.0 None nan]\n",
      "NewExist [1.0 2.0 None nan]\n",
      "NewExist [1.0 2.0 None nan]\n",
      "NewExist [1.0 2.0 None nan]\n",
      "NewExist [1.0 2.0 None]\n",
      "NewExist [1.0 2.0 None]\n",
      "NewExist [1.0 2.0 None]\n",
      "NewExist [1.0 2.0 None]\n",
      "NewExist [1.0 2.0 None]\n",
      "NewExist [1.0 2.0 None]\n",
      "NewExist [1.0 2.0 None]\n",
      "NewExist [1.0 2.0 None]\n",
      "NewExist [1.0 2.0 None]\n",
      "NewExist [1.0 2.0 None]\n",
      "NewExist [1.0 2.0 None]\n",
      "NewExist [1.0 2.0 None]\n",
      "NewExist [1.0 2.0 None]\n",
      "NewExist [1.0 2.0 None]\n",
      "NewExist [1.0 2.0 None]\n",
      "NewExist [1.0 2.0 None]\n",
      "NewExist [1.0 2.0 None]\n",
      "NewExist [1.0 2.0 None]\n",
      "NewExist [1.0 2.0 None]\n",
      "NewExist [1.0 2.0 None]\n",
      "NewExist [1.0 2.0 None]\n",
      "NewExist [1.0 2.0 None]\n",
      "NewExist [1.0 2.0 None]\n",
      "NewExist [1.0 2.0 None]\n",
      "NewExist [1.0 2.0 None]\n",
      "NewExist [1.0 2.0 None]\n",
      "NewExist [1.0 2.0 None]\n",
      "NewExist [1.0 2.0 None]\n",
      "NewExist [1.0 2.0 None]\n",
      "NewExist [1.0 2.0 None]\n",
      "NewExist [1.0 2.0 None]\n",
      "NewExist [1.0 2.0 None]\n",
      "NewExist [1.0 2.0 None]\n",
      "NewExist [1.0 2.0 None]\n",
      "NewExist [1.0 2.0 None]\n",
      "NewExist [1.0 2.0 None]\n",
      "NewExist [1.0 2.0 None]\n",
      "NewExist [1.0 2.0 None]\n",
      "NewExist [1.0 2.0 None]\n",
      "NewExist [1.0 2.0 None]\n",
      "NewExist [1.0 2.0 None]\n",
      "NewExist [1.0 2.0 None]\n",
      "NewExist [1.0 2.0 None]\n",
      "NewExist [1.0 2.0 None]\n",
      "NewExist [1.0 2.0 None]\n",
      "NewExist [1.0 2.0 None]\n",
      "NewExist [1.0 2.0 None]\n",
      "NewExist [1.0 2.0 None]\n",
      "NewExist [1.0 2.0 None]\n",
      "NewExist [1.0 2.0 None]\n",
      "NewExist [1.0 2.0 None]\n",
      "NewExist [1.0 2.0 None]\n",
      "NewExist [1.0 2.0 None]\n",
      "NewExist [1.0 2.0 None]\n",
      "NewExist [1.0 2.0 None]\n",
      "NewExist [1.0 2.0 None]\n",
      "NewExist [1.0 2.0 None]\n",
      "NewExist [1.0 2.0 None]\n",
      "NewExist [1.0 2.0 None]\n",
      "NewExist [1.0 2.0 None]\n",
      "NewExist [1.0 2.0 None]\n",
      "NewExist [1.0 2.0 None]\n",
      "NewExist [1.0 2.0 None]\n",
      "NewExist [1.0 2.0 None]\n",
      "NewExist [1.0 2.0 None]\n",
      "NewExist [1.0 2.0 None]\n",
      "NewExist [1.0 2.0 None]\n",
      "NewExist [1.0 2.0 None]\n",
      "NewExist [1.0 2.0 None]\n",
      "NewExist [1.0 2.0 None]\n",
      "NewExist [1.0 2.0 None]\n",
      "NewExist [1.0 2.0 None]\n",
      "NewExist [1.0 2.0 None]\n",
      "NewExist [1.0 2.0 None]\n",
      "NewExist [1.0 2.0 None]\n",
      "NewExist [1.0 2.0 None]\n",
      "NewExist [1.0 2.0 None]\n",
      "NewExist [1.0 2.0 None]\n",
      "NewExist [1.0 2.0 None]\n",
      "NewExist [1.0 2.0 None]\n",
      "NewExist [1.0 2.0 None]\n",
      "NewExist [1.0 2.0 None]\n",
      "NewExist [1.0 2.0 None]\n",
      "NewExist [1.0 2.0 None]\n",
      "NewExist [1.0 2.0 None]\n",
      "NewExist [1.0 2.0 None]\n",
      "NewExist [1.0 2.0 None]\n",
      "NewExist [1.0 2.0 None]\n",
      "NewExist [1.0 2.0 None]\n",
      "NewExist [1.0 2.0 None]\n",
      "NewExist [1.0 2.0 None]\n",
      "NewExist [1.0 2.0 None]\n",
      "NewExist [1.0 2.0 None]\n",
      "NewExist [1.0 2.0 None]\n",
      "NewExist [1.0 2.0 None]\n",
      "NewExist [1.0 2.0 None]\n",
      "NewExist [1.0 2.0 None]\n",
      "NewExist [1.0 2.0 None]\n",
      "NewExist [1.0 2.0 None]\n",
      "NewExist [1.0 2.0 None]\n",
      "NewExist [1.0 2.0 None]\n",
      "NewExist [1.0 2.0 None]\n",
      "NewExist [1.0 2.0 None]\n",
      "NewExist [1.0 2.0 None]\n",
      "NewExist [1.0 2.0 None]\n",
      "NewExist [1.0 2.0 None]\n",
      "NewExist [1.0 2.0 None]\n",
      "NewExist [1.0 2.0 None]\n",
      "NewExist [1.0 2.0 None]\n",
      "NewExist [1.0 2.0 None]\n",
      "NewExist [1.0 2.0 None]\n",
      "NewExist [1.0 2.0 None]\n",
      "NewExist [1.0 2.0 None]\n",
      "NewExist [1.0 2.0 None]\n",
      "NewExist [1.0 2.0 None]\n",
      "NewExist [1.0 2.0 None]\n",
      "NewExist [1.0 2.0 None]\n",
      "NewExist [1.0 2.0 None]\n",
      "NewExist [1.0 2.0 None]\n",
      "NewExist [1.0 2.0 None]\n",
      "NewExist [1.0 2.0 None]\n",
      "NewExist [1.0 2.0 None]\n",
      "NewExist [1.0 2.0 None]\n",
      "NewExist [1.0 2.0 None]\n",
      "NewExist [1.0 2.0 None]\n",
      "NewExist [1.0 2.0 None]\n",
      "NewExist [1.0 2.0 None]\n",
      "NewExist [1.0 2.0 None]\n",
      "NewExist [1.0 2.0 None]\n",
      "NewExist [1.0 2.0 None]\n",
      "NewExist [1.0 2.0 None]\n",
      "NewExist [1.0 2.0 None]\n",
      "NewExist [1.0 2.0 None]\n",
      "NewExist [1.0 2.0 None]\n",
      "NewExist [1.0 2.0 None]\n",
      "NewExist [1.0 2.0 None]\n",
      "NewExist [1.0 2.0 None]\n",
      "NewExist [1.0 2.0 None]\n",
      "NewExist [1.0 2.0 None]\n",
      "NewExist [1.0 2.0 None]\n",
      "NewExist [1.0 2.0 None]\n",
      "NewExist [1.0 2.0 None]\n",
      "NewExist [1.0 2.0 None]\n",
      "NewExist [1.0 2.0 None]\n",
      "NewExist [1.0 2.0 None]\n",
      "NewExist [1.0 2.0 None]\n",
      "NewExist [1.0 2.0 None]\n",
      "NewExist [1.0 2.0 None]\n",
      "NewExist [1.0 2.0 None]\n",
      "NewExist [1.0 2.0 None]\n",
      "NewExist [1.0 2.0 None]\n",
      "NewExist [1.0 2.0 None]\n",
      "NewExist [1.0 2.0 None]\n",
      "NewExist [1.0 2.0 None]\n",
      "NewExist [1.0 2.0 None]\n",
      "NewExist [1.0 2.0 None]\n",
      "NewExist [1.0 2.0 None]\n",
      "NewExist [1.0 2.0 None]\n",
      "NewExist [1.0 2.0 None]\n",
      "NewExist [1.0 2.0 None]\n",
      "NewExist [1.0 2.0 None]\n",
      "NewExist [1.0 2.0 None]\n",
      "NewExist [1.0 2.0 None]\n",
      "NewExist [1.0 2.0 None]\n",
      "NewExist [1.0 2.0 None]\n",
      "NewExist [1.0 2.0 None]\n",
      "NewExist [1.0 2.0 None]\n",
      "NewExist [1.0 2.0 None]\n",
      "NewExist [1.0 2.0 None]\n",
      "NewExist [1.0 2.0 None]\n",
      "NewExist [1.0 2.0 None]\n",
      "NewExist [1.0 2.0 None]\n",
      "NewExist [1.0 2.0 None]\n",
      "NewExist [1.0 2.0 None]\n",
      "NewExist [1.0 2.0 None]\n",
      "NewExist [1.0 2.0 None]\n",
      "NewExist [1.0 2.0 None]\n",
      "NewExist [1.0 2.0 None]\n",
      "NewExist [1.0 2.0 None]\n",
      "NewExist [1.0 2.0 None]\n",
      "NewExist [1.0 2.0 None]\n",
      "NewExist [1.0 2.0 None]\n",
      "NewExist [1.0 2.0 None]\n",
      "NewExist [1.0 2.0 None]\n",
      "NewExist [1.0 2.0 None]\n",
      "NewExist [1.0 2.0 None]\n",
      "NewExist [1.0 2.0 None]\n",
      "NewExist [1.0 2.0 None]\n",
      "NewExist [1.0 2.0 None]\n",
      "NewExist [1.0 2.0 None]\n",
      "NewExist [1.0 2.0 None]\n",
      "NewExist [1.0 2.0 None]\n",
      "NewExist [1.0 2.0 None]\n",
      "NewExist [1.0 2.0 None]\n",
      "NewExist [1.0 2.0 None]\n",
      "NewExist [1.0 2.0 None]\n",
      "NewExist [1.0 2.0 None]\n",
      "NewExist [1.0 2.0 None]\n",
      "NewExist [1.0 2.0 None]\n",
      "NewExist [1.0 2.0 None]\n",
      "NewExist [1.0 2.0 None]\n",
      "NewExist [1.0 2.0 None]\n",
      "NewExist [1.0 2.0 None]\n",
      "NewExist [1.0 2.0 None]\n",
      "NewExist [1.0 2.0 None]\n",
      "NewExist [1.0 2.0 None]\n",
      "NewExist [1.0 2.0 None]\n",
      "NewExist [1.0 2.0 None]\n",
      "NewExist [1.0 2.0 None]\n",
      "NewExist [1.0 2.0 None]\n",
      "NewExist [1.0 2.0 None]\n",
      "NewExist [1.0 2.0 None]\n",
      "NewExist [1.0 2.0 None]\n",
      "NewExist [1.0 2.0 None]\n",
      "NewExist [1.0 2.0 None]\n",
      "NewExist [1.0 2.0 None]\n",
      "NewExist [1.0 2.0 None]\n",
      "NewExist [1.0 2.0 None]\n",
      "NewExist [1.0 2.0 None]\n",
      "NewExist [1.0 2.0 None]\n",
      "NewExist [1.0 2.0 None]\n",
      "NewExist [1.0 2.0 None]\n",
      "NewExist [1.0 2.0 None]\n",
      "NewExist [1.0 2.0 None]\n",
      "NewExist [1.0 2.0 None]\n",
      "NewExist [1.0 2.0 None]\n",
      "NewExist [1.0 2.0 None]\n",
      "NewExist [1.0 2.0 None]\n",
      "NewExist [1.0 2.0 None]\n",
      "NewExist [1.0 2.0 None]\n",
      "NewExist [1.0 2.0 None]\n",
      "NewExist [1.0 2.0 None]\n",
      "NewExist [1.0 2.0 None]\n",
      "NewExist [1.0 2.0 None]\n",
      "NewExist [1.0 2.0 None]\n",
      "NewExist [1.0 2.0 None]\n",
      "NewExist [1.0 2.0 None]\n",
      "NewExist [1.0 2.0 None]\n",
      "NewExist [1.0 2.0 None]\n",
      "NewExist [1.0 2.0 None]\n",
      "NewExist [1.0 2.0 None]\n",
      "NewExist [1.0 2.0 None]\n",
      "NewExist [1.0 2.0 None]\n",
      "NewExist [1.0 2.0 None]\n",
      "NewExist [1.0 2.0 None]\n",
      "NewExist [1.0 2.0 None]\n",
      "NewExist [1.0 2.0 None]\n",
      "NewExist [1.0 2.0 None]\n",
      "NewExist [1.0 2.0 None]\n",
      "NewExist [1.0 2.0 None]\n",
      "NewExist [1.0 2.0 None]\n",
      "NewExist [1.0 2.0 None]\n",
      "NewExist [1.0 2.0 None]\n",
      "NewExist [1.0 2.0 None]\n",
      "NewExist [1.0 2.0 None]\n",
      "NewExist [1.0 2.0 None]\n",
      "NewExist [1.0 2.0 None]\n",
      "NewExist [1.0 2.0 None]\n",
      "NewExist [1.0 2.0 None]\n",
      "NewExist [1.0 2.0 None]\n",
      "NewExist [1.0 2.0 None]\n",
      "NewExist [1.0 2.0 None]\n",
      "NewExist [1.0 2.0 None]\n",
      "NewExist [1.0 2.0 None]\n",
      "NewExist [1.0 2.0 None]\n",
      "NewExist [1.0 2.0 None]\n",
      "NewExist [1.0 2.0 None]\n",
      "NewExist [1.0 2.0 None]\n",
      "NewExist [1.0 2.0 None]\n",
      "NewExist [1.0 2.0 None]\n",
      "NewExist [1.0 2.0 None]\n",
      "NewExist [1.0 2.0 None]\n",
      "NewExist [1.0 2.0 None]\n",
      "NewExist [1.0 2.0 None]\n",
      "NewExist [1.0 2.0 None]\n",
      "NewExist [1.0 2.0 None]\n",
      "NewExist [1.0 2.0 None]\n",
      "NewExist [1.0 2.0 None]\n",
      "NewExist [1.0 2.0 None]\n",
      "NewExist [1.0 2.0 None]\n",
      "NewExist [1.0 2.0 None]\n",
      "NewExist [1.0 2.0 None]\n",
      "NewExist [1.0 2.0 None]\n",
      "NewExist [1.0 2.0 None]\n",
      "NewExist [1.0 2.0 None]\n",
      "NewExist [1.0 2.0 None]\n",
      "NewExist [1.0 2.0 None]\n",
      "NewExist [1.0 2.0 None]\n",
      "NewExist [1.0 2.0 None]\n",
      "NewExist [1.0 2.0 None]\n",
      "NewExist [1.0 2.0 None]\n",
      "NewExist [1.0 2.0 None]\n",
      "NewExist [1.0 2.0 None]\n",
      "NewExist [1.0 2.0 None]\n",
      "NewExist [1.0 2.0 None]\n",
      "NewExist [1.0 2.0 None]\n",
      "NewExist [1.0 2.0 None]\n",
      "NewExist [1.0 2.0 None]\n",
      "NewExist [1.0 2.0 None]\n",
      "NewExist [1.0 2.0 None]\n",
      "NewExist [1.0 2.0 None]\n",
      "NewExist [1.0 2.0 None]\n",
      "NewExist [1.0 2.0 None]\n",
      "NewExist [1.0 2.0 None]\n",
      "NewExist [1.0 2.0 None]\n",
      "NewExist [1.0 2.0 None]\n",
      "NewExist [1.0 2.0 None]\n",
      "NewExist [1.0 2.0 None]\n",
      "NewExist [1.0 2.0 None]\n",
      "NewExist [1.0 2.0 None]\n",
      "NewExist [1.0 2.0 None]\n",
      "NewExist [1.0 2.0 None]\n",
      "NewExist [1.0 2.0 None]\n",
      "NewExist [1.0 2.0 None]\n",
      "NewExist [1.0 2.0 None]\n",
      "NewExist [1.0 2.0 None]\n",
      "NewExist [1.0 2.0 None]\n",
      "NewExist [1.0 2.0 None]\n",
      "NewExist [1.0 2.0 None]\n",
      "NewExist [1.0 2.0 None]\n",
      "NewExist [1.0 2.0 None]\n",
      "NewExist [1.0 2.0 None]\n",
      "NewExist [1.0 2.0 None]\n",
      "NewExist [1.0 2.0 None]\n",
      "NewExist [1.0 2.0 None]\n",
      "NewExist [1.0 2.0 None]\n",
      "NewExist [1.0 2.0 None]\n",
      "NewExist [1.0 2.0 None]\n",
      "NewExist [1.0 2.0 None]\n",
      "NewExist [1.0 2.0 None]\n",
      "NewExist [1.0 2.0 None]\n",
      "NewExist [1.0 2.0 None]\n",
      "NewExist [1.0 2.0 None]\n",
      "NewExist [1.0 2.0 None]\n",
      "NewExist [1.0 2.0 None]\n",
      "NewExist [1.0 2.0 None]\n",
      "NewExist [1.0 2.0 None]\n",
      "NewExist [1.0 2.0 None]\n",
      "NewExist [1.0 2.0 None]\n",
      "NewExist [1.0 2.0 None]\n",
      "NewExist [1.0 2.0 None]\n",
      "NewExist [1.0 2.0 None]\n",
      "NewExist [1.0 2.0 None]\n",
      "NewExist [1.0 2.0 None]\n",
      "NewExist [1.0 2.0 None]\n",
      "NewExist [1.0 2.0 None]\n",
      "NewExist [1.0 2.0 None]\n",
      "NewExist [1.0 2.0 None]\n",
      "NewExist [1.0 2.0 None]\n",
      "NewExist [1.0 2.0 None]\n",
      "NewExist [1.0 2.0 None]\n",
      "NewExist [1.0 2.0 None]\n",
      "NewExist [1.0 2.0 None]\n",
      "NewExist [1.0 2.0 None]\n",
      "NewExist [1.0 2.0 None]\n",
      "NewExist [1.0 2.0 None]\n",
      "NewExist [1.0 2.0 None]\n",
      "NewExist [1.0 2.0 None]\n",
      "NewExist [1.0 2.0 None]\n",
      "NewExist [1.0 2.0 None]\n",
      "NewExist [1.0 2.0 None]\n",
      "NewExist [1.0 2.0 None]\n",
      "NewExist [1.0 2.0 None]\n",
      "NewExist [1.0 2.0 None]\n",
      "NewExist [1.0 2.0 None]\n",
      "NewExist [1.0 2.0 None]\n",
      "NewExist [1.0 2.0 None]\n",
      "NewExist [1.0 2.0 None]\n",
      "NewExist [1.0 2.0 None]\n",
      "NewExist [1.0 2.0 None]\n",
      "NewExist [1.0 2.0 None]\n",
      "NewExist [1.0 2.0 None]\n",
      "NewExist [1.0 2.0 None]\n",
      "NewExist [1.0 2.0 None]\n",
      "NewExist [1.0 2.0 None]\n",
      "NewExist [1.0 2.0 None]\n",
      "NewExist [1.0 2.0 None]\n",
      "NewExist [1.0 2.0 None]\n",
      "NewExist [1.0 2.0 None]\n",
      "NewExist [1.0 2.0 None]\n",
      "NewExist [1.0 2.0 None]\n",
      "NewExist [1.0 2.0 None]\n",
      "NewExist [1.0 2.0 None]\n",
      "NewExist [1.0 2.0 None]\n",
      "NewExist [1.0 2.0 None]\n",
      "NewExist [1.0 2.0 None]\n",
      "NewExist [1.0 2.0 None]\n",
      "NewExist [1.0 2.0 None]\n",
      "NewExist [1.0 2.0 None]\n",
      "NewExist [1.0 2.0 None]\n",
      "NewExist [1.0 2.0 None]\n",
      "NewExist [1.0 2.0 None]\n",
      "NewExist [1.0 2.0 None]\n",
      "NewExist [1.0 2.0 None]\n",
      "NewExist [1.0 2.0 None]\n",
      "NewExist [1.0 2.0 None]\n",
      "NewExist [1.0 2.0 None]\n",
      "NewExist [1.0 2.0 None]\n",
      "NewExist [1.0 2.0 None]\n",
      "NewExist [1.0 2.0 None]\n",
      "NewExist [1.0 2.0 None]\n",
      "NewExist [1.0 2.0 None]\n",
      "NewExist [1.0 2.0 None]\n",
      "NewExist [1.0 2.0 None]\n",
      "NewExist [1.0 2.0 None]\n",
      "NewExist [1.0 2.0 None]\n",
      "NewExist [1.0 2.0 None]\n",
      "NewExist [1.0 2.0 None]\n",
      "NewExist [1.0 2.0 None]\n",
      "NewExist [1.0 2.0 None]\n",
      "NewExist [1.0 2.0 None]\n",
      "NewExist [1.0 2.0 None]\n",
      "NewExist [1.0 2.0 None]\n",
      "NewExist [1.0 2.0 None]\n",
      "NewExist [1.0 2.0 None]\n",
      "NewExist [1.0 2.0 None]\n",
      "NewExist [1.0 2.0 None]\n",
      "NewExist [1.0 2.0 None]\n",
      "NewExist [1.0 2.0 None]\n",
      "NewExist [1.0 2.0 None]\n",
      "NewExist [1.0 2.0 None]\n",
      "NewExist [1.0 2.0 None]\n",
      "NewExist [1.0 2.0 None]\n",
      "NewExist [1.0 2.0 None]\n",
      "NewExist [1.0 2.0 None]\n",
      "NewExist [1.0 2.0 None]\n",
      "NewExist [1.0 2.0 None]\n",
      "NewExist [1.0 2.0 None]\n",
      "NewExist [1.0 2.0 None]\n",
      "NewExist [1.0 2.0 None]\n",
      "NewExist [1.0 2.0 None]\n",
      "NewExist [1.0 2.0 None]\n",
      "NewExist [1.0 2.0 None]\n",
      "NewExist [1.0 2.0 None]\n",
      "NewExist [1.0 2.0 None]\n",
      "NewExist [1.0 2.0 None]\n",
      "NewExist [1.0 2.0 None]\n",
      "NewExist [1.0 2.0 None]\n",
      "NewExist [1.0 2.0 None]\n",
      "NewExist [1.0 2.0 None]\n",
      "NewExist [1.0 2.0 None]\n",
      "NewExist [1.0 2.0 None]\n",
      "NewExist [1.0 2.0 None]\n",
      "NewExist [1.0 2.0 None]\n",
      "NewExist [1.0 2.0 None]\n",
      "NewExist [1.0 2.0 None]\n",
      "NewExist [1.0 2.0 None]\n",
      "NewExist [1.0 2.0 None]\n",
      "NewExist [1.0 2.0 None]\n",
      "NewExist [1.0 2.0 None]\n",
      "NewExist [1.0 2.0 None]\n",
      "NewExist [1.0 2.0 None]\n",
      "NewExist [1.0 2.0 None]\n",
      "NewExist [1.0 2.0 None]\n",
      "NewExist [1.0 2.0 None]\n",
      "NewExist [1.0 2.0 None]\n",
      "NewExist [1.0 2.0 None]\n",
      "NewExist [1.0 2.0 None]\n",
      "NewExist [1.0 2.0 None]\n",
      "NewExist [1.0 2.0 None]\n",
      "NewExist [1.0 2.0 None]\n",
      "NewExist [1.0 2.0 None]\n",
      "NewExist [1.0 2.0 None]\n",
      "NewExist [1.0 2.0 None]\n",
      "NewExist [1.0 2.0 None]\n",
      "NewExist [1.0 2.0 None]\n",
      "NewExist [1.0 2.0 None]\n",
      "NewExist [1.0 2.0 None]\n",
      "NewExist [1.0 2.0 None]\n",
      "NewExist [1.0 2.0 None]\n",
      "NewExist [1.0 2.0 None]\n",
      "NewExist [1.0 2.0 None]\n",
      "NewExist [1.0 2.0 None]\n",
      "NewExist [1.0 2.0 None]\n",
      "NewExist [1.0 2.0 None]\n",
      "NewExist [1.0 2.0 None]\n",
      "NewExist [1.0 2.0 None]\n",
      "NewExist [1.0 2.0 None]\n",
      "NewExist [1.0 2.0 None]\n",
      "NewExist [1.0 2.0 None]\n",
      "NewExist [1.0 2.0 None]\n",
      "NewExist [1.0 2.0 None]\n",
      "NewExist [1.0 2.0 None]\n",
      "NewExist [1.0 2.0 None]\n",
      "NewExist [1.0 2.0 None]\n",
      "NewExist [1.0 2.0 None]\n",
      "NewExist [1.0 2.0 None]\n",
      "NewExist [1.0 2.0 None]\n",
      "NewExist [1.0 2.0 None]\n",
      "NewExist [1.0 2.0 None]\n",
      "NewExist [1.0 2.0 None]\n",
      "NewExist [1.0 2.0 None]\n",
      "NewExist [1.0 2.0 None]\n",
      "NewExist [1.0 2.0 None]\n",
      "NewExist [1.0 2.0 None]\n",
      "NewExist [1.0 2.0 None]\n",
      "NewExist [1.0 2.0 None]\n",
      "NewExist [1.0 2.0 None]\n",
      "NewExist [1.0 2.0 None]\n",
      "NewExist [1.0 2.0 None]\n",
      "NewExist [1.0 2.0 None]\n",
      "NewExist [1.0 2.0 None]\n",
      "NewExist [1.0 2.0 None]\n",
      "NewExist [1.0 2.0 None]\n",
      "NewExist [1.0 2.0 None]\n",
      "NewExist [1.0 2.0 None]\n",
      "NewExist [1.0 2.0 None]\n",
      "NewExist [1.0 2.0 None]\n",
      "NewExist [1.0 2.0 None]\n",
      "NewExist [1.0 2.0 None]\n",
      "NewExist [1.0 2.0 None]\n",
      "NewExist [1.0 2.0 None]\n",
      "NewExist [1.0 2.0 None]\n",
      "NewExist [1.0 2.0 None]\n",
      "NewExist [1.0 2.0 None]\n",
      "NewExist [1.0 2.0 None]\n",
      "NewExist [1.0 2.0 None]\n",
      "NewExist [1.0 2.0 None]\n",
      "NewExist [1.0 2.0 None]\n",
      "NewExist [1.0 2.0 None]\n",
      "NewExist [1.0 2.0 None]\n",
      "NewExist [1.0 2.0 None]\n",
      "NewExist [1.0 2.0 None]\n",
      "NewExist [1.0 2.0 None]\n",
      "NewExist [1.0 2.0 None]\n",
      "NewExist [1.0 2.0 None]\n",
      "NewExist [1.0 2.0 None]\n",
      "NewExist [1.0 2.0 None]\n",
      "NewExist [1.0 2.0 None]\n",
      "NewExist [1.0 2.0 None]\n",
      "NewExist [1.0 2.0 None]\n",
      "NewExist [1.0 2.0 None]\n",
      "NewExist [1.0 2.0 None]\n",
      "NewExist [1.0 2.0 None]\n",
      "NewExist [1.0 2.0 None]\n",
      "NewExist [1.0 2.0 None]\n",
      "NewExist [1.0 2.0 None]\n",
      "NewExist [1.0 2.0 None]\n",
      "NewExist [1.0 2.0 None]\n",
      "NewExist [1.0 2.0 None]\n",
      "NewExist [1.0 2.0 None]\n",
      "NewExist [1.0 2.0 None]\n",
      "NewExist [1.0 2.0 None]\n",
      "NewExist [1.0 2.0 None]\n",
      "NewExist [1.0 2.0 None]\n",
      "NewExist [1.0 2.0 None]\n",
      "NewExist [1.0 2.0 None]\n",
      "NewExist [1.0 2.0 None]\n",
      "NewExist [1.0 2.0 None]\n",
      "NewExist [1.0 2.0 None]\n",
      "NewExist [1.0 2.0 None]\n",
      "NewExist [1.0 2.0 None]\n",
      "NewExist [1.0 2.0 None]\n",
      "NewExist [1.0 2.0 None]\n",
      "NewExist [1.0 2.0 None]\n",
      "NewExist [1.0 2.0 None]\n",
      "NewExist [1.0 2.0 None]\n",
      "NewExist [1.0 2.0 None]\n",
      "NewExist [1.0 2.0 None]\n",
      "NewExist [1.0 2.0 None]\n",
      "NewExist [1.0 2.0 None]\n",
      "NewExist [1.0 2.0 None]\n",
      "NewExist [1.0 2.0 None]\n",
      "NewExist [1.0 2.0 None]\n",
      "NewExist [1.0 2.0 None]\n",
      "NewExist [1.0 2.0 None]\n",
      "NewExist [1.0 2.0 None]\n",
      "NewExist [1.0 2.0 None]\n",
      "NewExist [1.0 2.0 None]\n",
      "NewExist [1.0 2.0 None]\n",
      "NewExist [1.0 2.0 None]\n",
      "NewExist [1.0 2.0 None]\n",
      "NewExist [1.0 2.0 None]\n",
      "NewExist [1.0 2.0 None]\n",
      "NewExist [1.0 2.0 None]\n",
      "NewExist [1.0 2.0 None]\n",
      "NewExist [1.0 2.0 None]\n",
      "NewExist [1.0 2.0 None]\n",
      "NewExist [1.0 2.0 None]\n",
      "NewExist [1.0 2.0 None]\n",
      "NewExist [1.0 2.0 None]\n",
      "NewExist [1.0 2.0 None]\n",
      "NewExist [1.0 2.0 None]\n",
      "NewExist [1.0 2.0 None]\n",
      "NewExist [1.0 2.0 None]\n",
      "NewExist [1.0 2.0 None]\n",
      "NewExist [1.0 2.0 None]\n",
      "NewExist [1.0 2.0 None]\n",
      "NewExist [1.0 2.0 None]\n",
      "NewExist [1.0 2.0 None]\n",
      "NewExist [1.0 2.0 None]\n",
      "NewExist [1.0 2.0 None]\n",
      "NewExist [1.0 2.0 None]\n",
      "NewExist [1.0 2.0 None]\n",
      "NewExist [1.0 2.0 None]\n",
      "NewExist [1.0 2.0 None]\n",
      "NewExist [1.0 2.0 None]\n",
      "NewExist [1.0 2.0 None]\n",
      "NewExist [1.0 2.0 None]\n",
      "NewExist [1.0 2.0 None]\n",
      "NewExist [1.0 2.0 None]\n",
      "NewExist [1.0 2.0 None]\n",
      "NewExist [1.0 2.0 None]\n",
      "NewExist [1.0 2.0 None]\n",
      "NewExist [1.0 2.0 None]\n",
      "NewExist [1.0 2.0 None]\n",
      "NewExist [1.0 2.0 None]\n",
      "NewExist [1.0 2.0 None]\n",
      "NewExist [1.0 2.0 None]\n",
      "NewExist [1.0 2.0 None]\n",
      "NewExist [1.0 2.0 None]\n",
      "NewExist [1.0 2.0 None]\n",
      "NewExist [1.0 2.0 None]\n",
      "NewExist [1.0 2.0 None]\n",
      "NewExist [1.0 2.0 None]\n",
      "NewExist [1.0 2.0 None]\n",
      "NewExist [1.0 2.0 None]\n",
      "NewExist [1.0 2.0 None]\n",
      "NewExist [1.0 2.0 None]\n",
      "NewExist [1.0 2.0 None]\n",
      "NewExist [1.0 2.0 None]\n",
      "NewExist [1.0 2.0 None]\n",
      "NewExist [1.0 2.0 None]\n",
      "NewExist [1.0 2.0 None]\n",
      "NewExist [1.0 2.0 None]\n",
      "NewExist [1.0 2.0 None]\n",
      "NewExist [1.0 2.0 None]\n",
      "NewExist [1.0 2.0 None]\n",
      "NewExist [1.0 2.0 None]\n",
      "NewExist [1.0 2.0 None]\n",
      "NewExist [1.0 2.0 None]\n",
      "NewExist [1.0 2.0 None]\n",
      "NewExist [1.0 2.0 None]\n",
      "NewExist [1.0 2.0 None]\n",
      "NewExist [1.0 2.0 None]\n",
      "NewExist [1.0 2.0 None]\n",
      "NewExist [1.0 2.0 None]\n",
      "NewExist [1.0 2.0 None]\n",
      "NewExist [1.0 2.0 None]\n",
      "NewExist [1.0 2.0 None]\n",
      "NewExist [1.0 2.0 None]\n",
      "NewExist [1.0 2.0 None]\n",
      "NewExist [1.0 2.0 None]\n",
      "NewExist [1.0 2.0 None]\n",
      "NewExist [1.0 2.0 None]\n",
      "NewExist [1.0 2.0 None]\n",
      "NewExist [1.0 2.0 None]\n",
      "NewExist [1.0 2.0 None]\n",
      "NewExist [1.0 2.0 None]\n",
      "NewExist [1.0 2.0 None]\n",
      "NewExist [1.0 2.0 None]\n",
      "NewExist [1.0 2.0 None]\n",
      "NewExist [1.0 2.0 None]\n",
      "NewExist [1.0 2.0 None]\n",
      "NewExist [1.0 2.0 None]\n",
      "NewExist [1.0 2.0 None]\n",
      "NewExist [1.0 2.0 None]\n",
      "NewExist [1.0 2.0 None]\n",
      "NewExist [1.0 2.0 None]\n",
      "NewExist [1.0 2.0 None]\n",
      "NewExist [1.0 2.0 None]\n",
      "NewExist [1.0 2.0 None]\n",
      "NewExist [1.0 2.0 None]\n",
      "NewExist [1.0 2.0 None]\n",
      "NewExist [1.0 2.0 None]\n",
      "NewExist [1.0 2.0 None]\n",
      "NewExist [1.0 2.0 None]\n",
      "NewExist [1.0 2.0 None]\n",
      "NewExist [1.0 2.0 None]\n",
      "NewExist [1.0 2.0 None]\n",
      "NewExist [1.0 2.0 None]\n",
      "NewExist [1.0 2.0 None]\n",
      "NewExist [1.0 2.0 None]\n",
      "NewExist [1.0 2.0 None]\n",
      "NewExist [1.0 2.0 None]\n",
      "NewExist [1.0 2.0 None]\n",
      "NewExist [1.0 2.0 None]\n",
      "NewExist [1.0 2.0 None]\n",
      "NewExist [1.0 2.0 None]\n",
      "NewExist [1.0 2.0 None]\n",
      "NewExist [1.0 2.0 None]\n",
      "NewExist [1.0 2.0 None]\n",
      "NewExist [1.0 2.0 None]\n",
      "NewExist [1.0 2.0 None]\n",
      "NewExist [1.0 2.0 None]\n",
      "NewExist [1.0 2.0 None]\n",
      "NewExist [1.0 2.0 None]\n",
      "NewExist [1.0 2.0 None]\n",
      "NewExist [1.0 2.0 None]\n",
      "NewExist [1.0 2.0 None]\n",
      "NewExist [1.0 2.0 None]\n",
      "NewExist [1.0 2.0 None]\n",
      "NewExist [1.0 2.0 None]\n",
      "NewExist [1.0 2.0 None]\n",
      "NewExist [1.0 2.0 None]\n",
      "NewExist [1.0 2.0 None]\n",
      "NewExist [1.0 2.0 None]\n",
      "NewExist [1.0 2.0 None]\n",
      "NewExist [1.0 2.0 None]\n",
      "NewExist [1.0 2.0 None]\n",
      "NewExist [1.0 2.0 None]\n",
      "NewExist [1.0 2.0 None]\n",
      "NewExist [1.0 2.0 None]\n",
      "NewExist [1.0 2.0 None]\n",
      "NewExist [1.0 2.0 None]\n",
      "NewExist [1.0 2.0 None]\n",
      "NewExist [1.0 2.0 None]\n",
      "NewExist [1.0 2.0 None]\n",
      "NewExist [1.0 2.0 None]\n",
      "NewExist [1.0 2.0 None]\n",
      "NewExist [1.0 2.0 None]\n",
      "NewExist [1.0 2.0 None]\n",
      "NewExist [1.0 2.0 None]\n",
      "NewExist [1.0 2.0 None]\n",
      "NewExist [1.0 2.0 None]\n",
      "NewExist [1.0 2.0 None]\n",
      "NewExist [1.0 2.0 None]\n",
      "NewExist [1.0 2.0 None]\n",
      "NewExist [1.0 2.0 None]\n",
      "NewExist [1.0 2.0 None]\n",
      "NewExist [1.0 2.0 None]\n",
      "NewExist [1.0 2.0 None]\n",
      "NewExist [1.0 2.0 None]\n",
      "NewExist [1.0 2.0 None]\n",
      "NewExist [1.0 2.0 None]\n",
      "NewExist [1.0 2.0 None]\n",
      "NewExist [1.0 2.0 None]\n",
      "NewExist [1.0 2.0 None]\n",
      "NewExist [1.0 2.0 None]\n",
      "NewExist [1.0 2.0 None]\n",
      "NewExist [1.0 2.0 None]\n",
      "NewExist [1.0 2.0 None]\n",
      "NewExist [1.0 2.0 None]\n",
      "NewExist [1.0 2.0 None]\n",
      "NewExist [1.0 2.0 None]\n",
      "NewExist [1.0 2.0 None]\n",
      "NewExist [1.0 2.0 None]\n",
      "NewExist [1.0 2.0 None]\n",
      "NewExist [1.0 2.0 None]\n",
      "NewExist [1.0 2.0 None]\n",
      "NewExist [1.0 2.0 None]\n",
      "NewExist [1.0 2.0 None]\n",
      "NewExist [1.0 2.0 None]\n",
      "NewExist [1.0 2.0 None]\n",
      "NewExist [1.0 2.0 None]\n",
      "NewExist [1.0 2.0 None]\n",
      "NewExist [1.0 2.0 None]\n",
      "NewExist [1.0 2.0 None]\n",
      "NewExist [1.0 2.0 None]\n",
      "NewExist [1.0 2.0 None]\n",
      "NewExist [1.0 2.0 None]\n",
      "NewExist [1.0 2.0 None]\n",
      "NewExist [1.0 2.0 None]\n",
      "NewExist [1.0 2.0 None]\n",
      "NewExist [1.0 2.0 None]\n",
      "NewExist [1.0 2.0 None]\n",
      "NewExist [1.0 2.0 None]\n",
      "NewExist [1.0 2.0 None]\n",
      "NewExist [1.0 2.0 None]\n",
      "NewExist [1.0 2.0 None]\n",
      "NewExist [1.0 2.0 None]\n",
      "NewExist [1.0 2.0 None]\n",
      "NewExist [1.0 2.0 None]\n",
      "NewExist [1.0 2.0 None]\n",
      "NewExist [1.0 2.0 None]\n",
      "NewExist [1.0 2.0 None]\n",
      "NewExist [1.0 2.0 None]\n",
      "NewExist [1.0 2.0 None]\n",
      "NewExist [1.0 2.0 None]\n",
      "NewExist [1.0 2.0 None]\n",
      "NewExist [1.0 2.0 None]\n",
      "NewExist [1.0 2.0 None]\n",
      "NewExist [1.0 2.0 None]\n",
      "NewExist [1.0 2.0 None]\n",
      "NewExist [1.0 2.0 None]\n",
      "NewExist [1.0 2.0 None]\n",
      "NewExist [1.0 2.0 None]\n",
      "NewExist [1.0 2.0 None]\n",
      "NewExist [1.0 2.0 None]\n",
      "NewExist [1.0 2.0 None]\n",
      "NewExist [1.0 2.0 None]\n",
      "NewExist [1.0 2.0 None]\n",
      "NewExist [1.0 2.0 None]\n",
      "NewExist [1.0 2.0 None]\n",
      "NewExist [1.0 2.0 None]\n",
      "NewExist [1.0 2.0 None]\n",
      "NewExist [1.0 2.0 None]\n",
      "NewExist [1.0 2.0 None]\n",
      "NewExist [1.0 2.0 None]\n",
      "NewExist [1.0 2.0 None]\n",
      "NewExist [1.0 2.0 None]\n",
      "NewExist [1.0 2.0 None]\n",
      "NewExist [1.0 2.0 None]\n",
      "NewExist [1.0 2.0 None]\n",
      "NewExist [1.0 2.0 None]\n",
      "NewExist [1.0 2.0 None]\n",
      "NewExist [1.0 2.0 None]\n",
      "NewExist [1.0 2.0 None]\n",
      "NewExist [1.0 2.0 None]\n",
      "NewExist [1.0 2.0 None]\n",
      "NewExist [1.0 2.0 None]\n",
      "NewExist [1.0 2.0 None]\n",
      "Index(['City_trg', 'State_trg', 'Bank_trg', 'BankState_trg', 'RevLineCr_trg',\n",
      "       'LowDoc_trg', 'NewExist_trg', 'City', 'State', 'Zip', 'Bank',\n",
      "       'BankState', 'NAICS', 'NoEmp', 'NewExist', 'CreateJob', 'RetainedJob',\n",
      "       'FranchiseCode', 'UrbanRural', 'RevLineCr', 'LowDoc',\n",
      "       'DisbursementGross', 'BalanceGross', 'GrAppv', 'SBA_Appv',\n",
      "       'MIS_Status'],\n",
      "      dtype='object')\n"
     ]
    }
   ],
   "source": [
    "from IPython.core.display import display, HTML\n",
    "display(HTML(\"<style>.output_scroll { height:auto !important; max-height: none !important; }</style>\"))\n",
    "pd.set_option('display.max_rows', 5000)\n",
    "from sklearn.model_selection import train_test_split\n",
    "        \n",
    "df = pd.read_csv(\"D:/Work/Gre/UTD/Courses/Fall/MIS6341/Softwares/Python/ml-fall-2023/Project2/SBA_loans_project_2.csv\")\n",
    "target = \"MIS_Status\"\n",
    "y = df[target]\n",
    "x = df.drop(columns=[target])\n",
    "\n",
    "# Splitting the dataset into train and test\n",
    "X_train, X_test, y_train, y_test = train_test_split(x, y, test_size=0.2, random_state=42)\n",
    "X_train.reset_index(inplace=True, drop=True)\n",
    "y_train.reset_index(inplace=True, drop=True)\n",
    "X_test.reset_index(inplace=True, drop=True)\n",
    "y_test.reset_index(inplace=True, drop=True)\n",
    "df_train = X_train.copy()\n",
    "df_train[target] = y_train\n",
    "train_model(df_train)"
   ]
  },
  {
   "cell_type": "code",
   "execution_count": 132,
   "metadata": {},
   "outputs": [],
   "source": [
    "def scoring(data):\n",
    "    \"\"\"\n",
    "    Function to score input dataset.\n",
    "    \n",
    "    Input: dataset in Pandas DataFrame format\n",
    "    Output: Python list of labels in the same order as input records\n",
    "    \n",
    "    Flow:\n",
    "        - Load artifacts\n",
    "        - Transform dataset\n",
    "        - Score dataset\n",
    "        - Return labels\n",
    "    \n",
    "    \"\"\"\n",
    "    \n",
    "    if \"index\" in data.columns:\n",
    "        data.drop(columns=\"index\", inplace=True)\n",
    "    #Load Artifacts\n",
    "    artifacts_dict_file = open(\"D:/Work/Gre/UTD/Courses/Fall/MIS6341/Softwares/Python/ml-fall-2023/Project2/artifacts/artifacts_dict_file.pkl\", \"rb\")\n",
    "    artifacts_dict = pickle.load(file=artifacts_dict_file)\n",
    "    artifacts_dict_file.close()\n",
    "    \n",
    "\n",
    "    clf = artifacts_dict[\"model\"]\n",
    "    te = artifacts_dict[\"target_encoder\"]\n",
    "    te_columns = artifacts_dict[\"te_columns\"]\n",
    "    columns_to_score = artifacts_dict[\"columns_to_train\"]\n",
    "    threshold = artifacts_dict[\"threshold\"]\n",
    "    category_cols = artifacts_dict[\"category_cols\"]\n",
    "    numerical_columns = artifacts_dict[\"numerical_columns\"]\n",
    "    scaler = artifacts_dict[\"scaler\"]\n",
    "\n",
    "     # Replacing the missing values\n",
    "    for i in data['RevLineCr']:\n",
    "        if i not in ['Y','N']:\n",
    "            data['RevLineCr'].replace(i,'N',inplace=True)\n",
    "\n",
    "    for i in data['LowDoc']:\n",
    "        if i not in ['Y','N']:\n",
    "            data['LowDoc'].replace(i,'N',inplace=True)\n",
    "\n",
    "    for i in data['NewExist']:\n",
    "        if i not in [1,2]:\n",
    "            data['NewExist'].replace(i,None,inplace=True)\n",
    "\n",
    "    for column in category_cols:\n",
    "        data[column]=data[column].fillna(data[column].mode()[0])\n",
    "\n",
    "    \n",
    "    # 10 New Feature Extractions\n",
    "    import numpy as np\n",
    "    # Apply the log transformation to the specific feature in your training data\n",
    "    small_constant = 1e-10  # You can adjust this constant as needed\n",
    "    # df['LogColumn'] = np.log(df['OriginalColumn'] + small_constant)\n",
    "    data['Log_DisbursementGross'] = np.log1p(data['DisbursementGross'])\n",
    "    data['Log_GrAppv'] = np.log1p(data['GrAppv'])\n",
    "    data['Log_SBA_Appv'] = np.log1p(data['SBA_Appv'])\n",
    "    data['Log_BalanceGross'] = np.log1p(data['BalanceGross'])\n",
    "    data['TotalJobs'] = data['CreateJob'] + data['RetainedJob']\n",
    "    #train_encoded['Loan_Efficiency'] = train_encoded['DisbursementGross'] / (train_encoded['CreateJob'] + train_encoded['RetainedJob'] + 1)\n",
    "    # Calculate 'LoanToIncomeRatio' as a ratio of 'SBA_Appv' to 'DisbursementGross'\n",
    "    data['IncomeToLoanRatio'] = data['DisbursementGross'] / data['SBA_Appv']\n",
    "    # Calculate 'LoanToEmployeesRatio' as a ratio of 'SBA_Appv' to 'NoEmp'\n",
    "    data['EmployeesToLoanRatio'] = data['NoEmp'] / data['SBA_Appv']\n",
    "    # Create a binary feature to indicate loans with a balance ('BalanceGross' > 0)\n",
    "    #train_encoded['HasBalance'] = (train_encoded['BalanceGross'] > 0).astype(int)\n",
    "    # Calculate 'LoanPerJob' as a ratio of 'SBA_Appv' to 'TotalJobs'\n",
    "    data['JobPerLoan'] = data['TotalJobs'] / data['SBA_Appv'] \n",
    "    # Calculate SBA's Gaurenteed Portion of Approved Loan\n",
    "    data['Gauren_SBA_Appv'] = data['GrAppv'] / data['SBA_Appv']\n",
    "\n",
    "\n",
    "    # Scaling the numerical columns\n",
    "    data[numerical_columns] = scaler.transform(data[numerical_columns])                             \n",
    "    \n",
    "    # Target encoding the categorical columns\n",
    "    data_encoded = te.transform(data[te_columns])\n",
    "    data_encoded = data_encoded.add_suffix('_trg')\n",
    "    data_encoded = pd.concat([data_encoded, data], axis=1)\n",
    "    \n",
    "    # Renaming the columns\n",
    "    \n",
    "    for column in te_columns:\n",
    "        data_encoded[column + \"_trg\"].fillna(data_encoded[column + \"_trg\"].mean(), inplace=True)\n",
    "    \n",
    "    # Predicting the probabilities\n",
    "    y_prob = clf.predict_proba(data_encoded[columns_to_score])\n",
    "    y_pred = (y_prob[:,0] < threshold).astype(int)\n",
    "    d = {\n",
    "        \"index\": data.index,\n",
    "        \"label\": y_pred,\n",
    "        \"probability_0\": y_prob[:,0],\n",
    "        \"probability_1\": y_prob[:,1],\n",
    "        \"threshold\":threshold\n",
    "    }\n",
    "    #print(y_prob)\n",
    "    return pd.DataFrame(d)"
   ]
  },
  {
   "cell_type": "code",
   "execution_count": 133,
   "metadata": {},
   "outputs": [
    {
     "ename": "KeyError",
     "evalue": "'model'",
     "output_type": "error",
     "traceback": [
      "\u001b[1;31m---------------------------------------------------------------------------\u001b[0m",
      "\u001b[1;31mKeyError\u001b[0m                                  Traceback (most recent call last)",
      "Cell \u001b[1;32mIn[133], line 1\u001b[0m\n\u001b[1;32m----> 1\u001b[0m \u001b[38;5;28mprint\u001b[39m(\u001b[43mscoring\u001b[49m\u001b[43m(\u001b[49m\u001b[43mX_test\u001b[49m\u001b[43m)\u001b[49m)\n",
      "Cell \u001b[1;32mIn[132], line 24\u001b[0m, in \u001b[0;36mscoring\u001b[1;34m(data)\u001b[0m\n\u001b[0;32m     20\u001b[0m artifacts_dict \u001b[38;5;241m=\u001b[39m pickle\u001b[38;5;241m.\u001b[39mload(file\u001b[38;5;241m=\u001b[39martifacts_dict_file)\n\u001b[0;32m     21\u001b[0m artifacts_dict_file\u001b[38;5;241m.\u001b[39mclose()\n\u001b[1;32m---> 24\u001b[0m clf \u001b[38;5;241m=\u001b[39m \u001b[43martifacts_dict\u001b[49m\u001b[43m[\u001b[49m\u001b[38;5;124;43m\"\u001b[39;49m\u001b[38;5;124;43mmodel\u001b[39;49m\u001b[38;5;124;43m\"\u001b[39;49m\u001b[43m]\u001b[49m\n\u001b[0;32m     25\u001b[0m te \u001b[38;5;241m=\u001b[39m artifacts_dict[\u001b[38;5;124m\"\u001b[39m\u001b[38;5;124mtarget_encoder\u001b[39m\u001b[38;5;124m\"\u001b[39m]\n\u001b[0;32m     26\u001b[0m te_columns \u001b[38;5;241m=\u001b[39m artifacts_dict[\u001b[38;5;124m\"\u001b[39m\u001b[38;5;124mte_columns\u001b[39m\u001b[38;5;124m\"\u001b[39m]\n",
      "\u001b[1;31mKeyError\u001b[0m: 'model'"
     ]
    }
   ],
   "source": [
    "print(scoring(X_test))"
   ]
  },
  {
   "cell_type": "code",
   "execution_count": null,
   "metadata": {},
   "outputs": [
    {
     "name": "stdout",
     "output_type": "stream",
     "text": [
      "         index  label  probability_0  probability_1  threshold\n",
      "0            0      0       0.789022       0.210978   0.505051\n",
      "1            1      0       0.788778       0.211222   0.505051\n",
      "2            2      0       0.914288       0.085712   0.505051\n",
      "3            3      0       0.592463       0.407537   0.505051\n",
      "4            4      0       0.850401       0.149599   0.505051\n",
      "...        ...    ...            ...            ...        ...\n",
      "640199  640199      0       0.745758       0.254242   0.505051\n",
      "640200  640200      0       0.819364       0.180636   0.505051\n",
      "640201  640201      0       0.748059       0.251941   0.505051\n",
      "640202  640202      0       0.567862       0.432138   0.505051\n",
      "640203  640203      0       0.748531       0.251469   0.505051\n",
      "\n",
      "[640204 rows x 5 columns]\n"
     ]
    }
   ],
   "source": [
    "print(scoring(X_train))"
   ]
  },
  {
   "cell_type": "code",
   "execution_count": null,
   "metadata": {},
   "outputs": [],
   "source": [
    "df2 = pd.read_csv(\"D:/Work/Gre/UTD/Courses/Fall/MIS6341/Softwares/Python/ml-fall-2023/Project2/SBA_loans_project_2_holdout_students_valid.csv\")\n"
   ]
  },
  {
   "cell_type": "code",
   "execution_count": null,
   "metadata": {},
   "outputs": [
    {
     "name": "stdout",
     "output_type": "stream",
     "text": [
      "       index  label  probability_0  probability_1  threshold\n",
      "0          0      1       0.500004       0.499996   0.505051\n",
      "1          1      0       0.736423       0.263577   0.505051\n",
      "2          2      1       0.500004       0.499996   0.505051\n",
      "3          3      0       0.639853       0.360147   0.505051\n",
      "4          4      0       0.539377       0.460623   0.505051\n",
      "...      ...    ...            ...            ...        ...\n",
      "98904  98904      0       0.746682       0.253318   0.505051\n",
      "98905  98905      0       0.737303       0.262697   0.505051\n",
      "98906  98906      1       0.500004       0.499996   0.505051\n",
      "98907  98907      1       0.500004       0.499996   0.505051\n",
      "98908  98908      1       0.500004       0.499996   0.505051\n",
      "\n",
      "[98909 rows x 5 columns]\n"
     ]
    }
   ],
   "source": [
    "print(scoring(df2))"
   ]
  },
  {
   "cell_type": "code",
   "execution_count": null,
   "metadata": {},
   "outputs": [
    {
     "name": "stdout",
     "output_type": "stream",
     "text": [
      "         index  label  probability_0  probability_1  threshold\n",
      "0            0      1       0.500004       0.499996   0.505051\n",
      "1            1      0       0.639739       0.360261   0.505051\n",
      "2            2      1       0.500004       0.499996   0.505051\n",
      "3            3      0       0.789032       0.210968   0.505051\n",
      "4            4      0       0.878069       0.121931   0.505051\n",
      "...        ...    ...            ...            ...        ...\n",
      "160046  160046      1       0.500004       0.499996   0.505051\n",
      "160047  160047      0       0.745296       0.254704   0.505051\n",
      "160048  160048      0       0.749889       0.250111   0.505051\n",
      "160049  160049      1       0.500004       0.499996   0.505051\n",
      "160050  160050      0       0.641459       0.358541   0.505051\n",
      "\n",
      "[160051 rows x 5 columns]\n"
     ]
    }
   ],
   "source": [
    "print(scoring(X_test))"
   ]
  },
  {
   "cell_type": "code",
   "execution_count": null,
   "metadata": {},
   "outputs": [
    {
     "name": "stdout",
     "output_type": "stream",
     "text": [
      "    index  label  probability_0  probability_1  threshold\n",
      "0     100      0       0.852914       0.147086   0.505051\n",
      "1     101      0       0.852942       0.147058   0.505051\n",
      "2     102      0       0.749898       0.250102   0.505051\n",
      "3     103      0       0.692439       0.307561   0.505051\n",
      "4     104      0       0.819329       0.180671   0.505051\n",
      "5     105      0       0.568328       0.431672   0.505051\n",
      "6     106      1       0.500004       0.499996   0.505051\n",
      "7     107      0       0.745293       0.254707   0.505051\n",
      "8     108      0       0.852912       0.147088   0.505051\n",
      "9     109      0       0.747600       0.252400   0.505051\n",
      "10    110      0       0.694358       0.305642   0.505051\n",
      "11    111      0       0.852914       0.147086   0.505051\n",
      "12    112      0       0.746689       0.253311   0.505051\n",
      "13    113      0       0.750847       0.249153   0.505051\n",
      "14    114      1       0.500004       0.499996   0.505051\n",
      "15    115      0       0.751205       0.248795   0.505051\n",
      "16    116      0       0.819329       0.180671   0.505051\n",
      "17    117      0       0.750848       0.249152   0.505051\n",
      "18    118      0       0.736362       0.263638   0.505051\n",
      "19    119      0       0.639400       0.360600   0.505051\n",
      "20    120      0       0.639462       0.360538   0.505051\n",
      "21    121      0       0.748519       0.251481   0.505051\n",
      "22    122      0       0.736102       0.263898   0.505051\n",
      "23    123      0       0.788896       0.211104   0.505051\n",
      "24    124      0       0.788777       0.211223   0.505051\n",
      "25    125      0       0.796695       0.203305   0.505051\n",
      "26    126      0       0.826068       0.173932   0.505051\n",
      "27    127      1       0.500000       0.500000   0.505051\n",
      "28    128      0       0.788856       0.211144   0.505051\n",
      "29    129      0       0.747229       0.252771   0.505051\n",
      "30    130      0       0.750847       0.249153   0.505051\n",
      "31    131      0       0.639462       0.360538   0.505051\n",
      "32    132      1       0.500004       0.499996   0.505051\n",
      "33    133      0       0.747232       0.252768   0.505051\n",
      "34    134      0       0.878090       0.121910   0.505051\n",
      "35    135      0       0.764698       0.235302   0.505051\n",
      "36    136      0       0.785146       0.214854   0.505051\n",
      "37    137      1       0.500004       0.499996   0.505051\n",
      "38    138      0       0.788899       0.211101   0.505051\n",
      "39    139      0       0.639518       0.360482   0.505051\n",
      "40    140      0       0.736834       0.263166   0.505051\n",
      "41    141      1       0.500004       0.499996   0.505051\n",
      "42    142      0       0.745296       0.254704   0.505051\n",
      "43    143      0       0.852608       0.147392   0.505051\n",
      "44    144      0       0.788696       0.211304   0.505051\n",
      "45    145      1       0.500004       0.499996   0.505051\n",
      "46    146      0       0.692697       0.307303   0.505051\n",
      "47    147      0       0.641028       0.358972   0.505051\n",
      "48    148      0       0.641093       0.358907   0.505051\n",
      "49    149      0       0.641023       0.358977   0.505051\n",
      "50    150      0       0.887732       0.112268   0.505051\n",
      "51    151      0       0.784691       0.215309   0.505051\n",
      "52    152      0       0.748059       0.251941   0.505051\n",
      "53    153      1       0.500004       0.499996   0.505051\n",
      "54    154      1       0.500004       0.499996   0.505051\n",
      "55    155      0       0.878069       0.121931   0.505051\n",
      "56    156      0       0.745342       0.254658   0.505051\n",
      "57    157      0       0.746685       0.253315   0.505051\n",
      "58    158      1       0.500004       0.499996   0.505051\n",
      "59    159      0       0.949724       0.050276   0.505051\n",
      "60    160      0       0.788858       0.211142   0.505051\n",
      "61    161      0       0.568516       0.431484   0.505051\n",
      "62    162      1       0.500004       0.499996   0.505051\n",
      "63    163      0       0.819364       0.180636   0.505051\n",
      "64    164      1       0.500000       0.500000   0.505051\n",
      "65    165      0       0.852608       0.147392   0.505051\n",
      "66    166      1       0.500000       0.500000   0.505051\n",
      "67    167      0       0.641084       0.358916   0.505051\n",
      "68    168      0       0.819364       0.180636   0.505051\n",
      "69    169      0       0.878383       0.121617   0.505051\n",
      "70    170      0       0.781640       0.218360   0.505051\n",
      "71    171      1       0.500004       0.499996   0.505051\n",
      "72    172      1       0.500000       0.500000   0.505051\n",
      "73    173      0       0.736300       0.263700   0.505051\n",
      "74    174      0       0.751205       0.248795   0.505051\n",
      "75    175      0       0.852912       0.147088   0.505051\n",
      "76    176      0       0.842291       0.157709   0.505051\n",
      "77    177      0       0.788899       0.211101   0.505051\n",
      "78    178      0       0.819404       0.180596   0.505051\n",
      "79    179      0       0.819400       0.180600   0.505051\n",
      "80    180      1       0.500004       0.499996   0.505051\n",
      "81    181      0       0.820433       0.179567   0.505051\n",
      "82    182      0       0.639462       0.360538   0.505051\n",
      "83    183      0       0.639288       0.360712   0.505051\n",
      "84    184      0       0.776745       0.223255   0.505051\n",
      "85    185      0       0.796852       0.203148   0.505051\n",
      "86    186      0       0.692492       0.307508   0.505051\n",
      "87    187      0       0.694357       0.305643   0.505051\n",
      "88    188      0       0.878556       0.121444   0.505051\n",
      "89    189      0       0.750848       0.249152   0.505051\n",
      "90    190      0       0.784652       0.215348   0.505051\n",
      "91    191      0       0.567928       0.432072   0.505051\n",
      "92    192      0       0.781759       0.218241   0.505051\n",
      "93    193      1       0.500004       0.499996   0.505051\n",
      "94    194      0       0.788980       0.211020   0.505051\n",
      "95    195      0       0.796887       0.203113   0.505051\n",
      "96    196      0       0.780966       0.219034   0.505051\n",
      "97    197      0       0.891514       0.108486   0.505051\n",
      "98    198      0       0.680975       0.319025   0.505051\n",
      "99    199      0       0.796939       0.203061   0.505051\n"
     ]
    }
   ],
   "source": [
    "print(scoring(df2[100:200]))"
   ]
  }
 ],
 "metadata": {
  "kernelspec": {
   "display_name": "ml-fall-2023",
   "language": "python",
   "name": "python3"
  },
  "language_info": {
   "codemirror_mode": {
    "name": "ipython",
    "version": 3
   },
   "file_extension": ".py",
   "mimetype": "text/x-python",
   "name": "python",
   "nbconvert_exporter": "python",
   "pygments_lexer": "ipython3",
   "version": "3.10.11"
  }
 },
 "nbformat": 4,
 "nbformat_minor": 2
}
