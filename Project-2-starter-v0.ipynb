{
 "cells": [
  {
   "cell_type": "markdown",
   "id": "6ad39a5f",
   "metadata": {},
   "source": [
    "# Project 2 Starter\n",
    "\n",
    "**Here are some tips for submitting your project. You can use the points as partial check list before submission.**\n",
    "\n",
    "- **Give your notebook a clear and descriptive title.** \n",
    "- **Explain your work in Markdown cells.** This will make your notebook easier to read and understand. You can use different colors of font to highlight important points.\n",
    "- **Remove any unnecessary code or text.** For example, you should not include the template for training and scoring in your final submission.\n",
    "- **Package your submission in a single file.** I will deduct points for multiple files or incorrect folder structure.\n",
    "- **Name your notebooks correctly.** Include your name and Net-ID in the file name.\n",
    "- **Train your TE/WOE encoders on the training set only.** You can train them on the full dataset for your final model.\n",
    "- **Test your scoring function.** Most students scoring functions in the past din't work, so make sure to test yours before submitting your project.\n",
    "- **Avoid common mistakes in your scoring function.** For example, your scoring function should not:\n",
    "  - drop records, expect the target to be passed - check that scoring function returns same number of records as in the validation dataset provided for testing\n",
    "  - fit TE/WOE/Scalers\n",
    "  - return anything other than a Pandas DF.\n",
    "- **Make sure you have the required number of engineered features.** \n",
    "- **Don't create features and then not use them in the model**, if there is a reason not to use the feature in the model, explain.\n",
    "- **Don't include models in your notebook that you didn't train.** This is considered cheating and will result in a grade of zero for the project.\n",
    "- **Consistently display model performance metrics.** Use AUC for all models and iterations, and don't switch between metrics. For sure don't use accuracy, it is misleading metric for the imbalanced datasets. \n",
    "- **Discuss your model results in a Markdown cell.** Don't just print the results; explain what they mean.\n",
    "- **Include a conclusion section in your notebook.** This is your chance to summarize your findings and discuss the implications of your work.\n",
    "- **Treat your notebook like a project report that will be read by your manager who can't read Python code.** Make sure your notebook is clear, concise, and easy to understand.\n",
    "- **Display a preview of your dataset that you used for training.** This will help me understand what features you used in your model.\n",
    "- **Use the libraries versions specified on eLearning.** For example, you should use H2O 3.42.0.2  \n",
    "- **Use Python 3.10.11.** If you use another version and your code doesn't work on 3.10.11, it will be considered a bug in your code.\n",
    "- **When running H2O and want to suppress long prints (for example model summary), include \";\" at the end of the command.**\n",
    "- **Don't include the dataset with your deliverables.** "
   ]
  },
  {
   "cell_type": "markdown",
   "id": "da975e3a",
   "metadata": {},
   "source": [
    "## Project Requirements Summary\n",
    "\n",
    "Project 2 is to facilitate students practice of the following Data Science concepts:\n",
    "- Train and tune classification model\n",
    "- Perform feature engineering to improve model performance\n",
    "- Explain/interpret and debug model"
   ]
  },
  {
   "cell_type": "markdown",
   "metadata": {},
   "source": [
    "## Tasks\n",
    "\n",
    "The project will include following tasks:\n",
    "- Load dataset. Don't use \"index\" column for training.\n",
    "- Clean up the data:\n",
    "    - Encode replace missing values\n",
    "    - Replace features values that appear incorrect\n",
    "    - Encode numerical variables that come as strings, for example string `$100.01` should be converted to numerical value\n",
    "- Encode categorical variables\n",
    "- Split dataset to Train/Test/Validation. If you perform cross-validation while tuning hyper-parameters, you don't need validation dataset.\n",
    "- Add engineered features. Simple encoding (Target encoding) for individual feature doesn't count to the 10 required engineered features\n",
    "- Train and tune ML models\n",
    "- Provide final metrics using Test (hold-out) dataset:\n",
    "    - Metric to report and optimize for **AUC**\n",
    "    - Confusion matrix for best F1\n",
    "- Interpret final trained model using Test dataset:\n",
    "    - Global feature importance using both Shapley values and permutation feature importance\n",
    "    - Summary plot with Shapley values \n",
    "    - Explain what are the most important features and how they impact model predictions\n",
    "    - Individual observations analysis using Shapley values. Two records for each of the scenarios with significant probability:\n",
    "        - Label `0` is correctly identified\n",
    "        - Label `0` is identified as `1`\n",
    "        - Label `1` is correctly identified\n",
    "        - Label `1` is identified as `0`\n",
    "        - Significant probability means high probability of being correct/in-correct (depending on the scenario)\n",
    "    - Using residuals analysis identify and report common patterns in the errors made by the model\n",
    "        "
   ]
  },
  {
   "cell_type": "markdown",
   "id": "6e77b95f",
   "metadata": {},
   "source": [
    "## Model Training and Tuning\n",
    "\n",
    "Pick one model to train and tune from the below two options:\n",
    "- GBM (H2O)\n",
    "- LightGBM\n",
    "\n",
    "\n",
    "First, split the dataset to Train/Validation/Test, before applying any encodings clean-up or feature engineering. \n",
    "It is important to understand all the steps before model training, so that you can reliably replicate and test them to produce scoring function.\n"
   ]
  },
  {
   "cell_type": "markdown",
   "id": "38fbf8cf",
   "metadata": {},
   "source": [
    "### Feature engineering\n",
    "\n",
    "You should train/fit categorical features encoders on Train only. Use `transform` or equivalent function on Validation/Test datasets.\n",
    "\n",
    "It is important to understand all the steps before model training, so that you can reliably replicate and test them to produce scoring function.\n",
    "\n",
    "\n",
    "You should generate various new features. Examples of such features can be seen in the Module-3 lecture on GLMs.  \n",
    "Your final model should have at least **10** new engineered features.   \n",
    "On-hot-encoding and target encoding **are not included in the** **10** features to create.    \n",
    "\n",
    "Ideas for Feature engineering for various types of variables:\n",
    "1. https://docs.h2o.ai/driverless-ai/1-10-lts/docs/userguide/transformations.html\n",
    "2. List of important features identified by DriverlessAI AutoML tool\n",
    "\n",
    "### Model performance in H2O Driverless AI (performance to aim for)\n",
    "\n",
    "I run experiments in DAI without any data manipulation. It means that potential improvement in performance can be gained with additional feature engineering. \n",
    "AUC on hold-out: 0.855\n",
    "\n",
    "Top features:\n",
    "- CVTE:Bank:BankState:FranchiseCode:SBA_Appv.0\n",
    "- CVTE:Bank:BankState:NAICS:UrbanRural.0\n",
    "- WoE:Bank:BankState:NAICS.0\n",
    "\n",
    "\n",
    "CVTE: cross-validated target encoding\n",
    "WoE : weight of evidence \n",
    "\n",
    "\n",
    "**Note**: \n",
    "- You don't have to perform feature engineering using H2O-3 even if you decided to use H2O-3 GBM for model training.\n",
    "- It is OK to perform feature engineering using any technique, as long as you can replicate it correctly in the Scoring function."
   ]
  },
  {
   "cell_type": "markdown",
   "metadata": {},
   "source": [
    "### Model Tuning\n",
    "\n",
    "- Hyper-parameter tuning. Your hyper-parameter search space should have at least 50 combinations.\n",
    "- To avoid overfitting and provide you with reasonable estimate of model performance on hold-out dataset, you will need to split your dataset as following:\n",
    "    - Train, will be used to train model\n",
    "    - Validation, will be used to validate model each round of training\n",
    "    - Testing, will be used to provide final performance metrics, used only once on the final model\n",
    "- Feature engineering. See project description\n",
    "- **Use AUC for all models and iterations, and don't switch between metrics.** For sure don't use accuracy, it is misleading metric for the imbalanced datasets.\n",
    "\n",
    "**Select final model that produces best performance on the Test dataset.**\n",
    "- For the best model, calculate probability threshold to maximize F1. \n",
    "- Report final AUC metric and confusion matrix on the Test dataset using the threshold calculated above."
   ]
  },
  {
   "cell_type": "markdown",
   "id": "19881ad6",
   "metadata": {},
   "source": [
    "### Threshold calculation\n",
    "\n",
    "You will need to calculate optimal threshold for class assignment using F1 metric:\n",
    "- If using sklearn, use F1 `macro`: `f1_score(y_true, y_pred, average='macro')` \n",
    "- If using H2O-3, use F1\n",
    "\n",
    "You will need to find optimal probability threshold for class assignment, the threshold that maximizes above F1."
   ]
  },
  {
   "cell_type": "markdown",
   "id": "c91aca84",
   "metadata": {},
   "source": [
    "### Scoring function\n",
    "\n",
    "The Project will be graded based on the completeness and performance of your final model against the hold-out dataset.\n",
    "The hold-out dataset provide in the eLearning. As part of your deliverables, you will need to submit a scoring function. \n",
    "\n",
    "\n",
    "The scoring function will perform the following:\n",
    "- Accept dataset in the same format as provided with the project, minus \"MIS_Status\" column\n",
    "- Load trained model and any encoders/scalers that are needed to transform data\n",
    "- Transform dataset into format that can be scored with the trained model\n",
    "- Score the dataset and return the results, for each record\n",
    "    - **index** : Record ID\n",
    "    - **label** : Record label as determined by final model (0 or 1) you need to assign the label based on maximum F1 threshold\n",
    "    - **probability_0**\t: probability of class 0\n",
    "    - **probability_1** : probability of class 1\n",
    "    \n",
    "See full example of scoring function in Project 1 description.\n",
    "Test your scoring function on the hold-out dataset provided in the eLearning, and validate that it returns the same number of records as in the hold-out dataset.\n"
   ]
  },
  {
   "cell_type": "markdown",
   "id": "eb7a4d90",
   "metadata": {},
   "source": [
    "### Deliverables in a single zip file in the following structure:\n",
    "- `notebook` (folder)\n",
    "    - Jupyter notebook with complete code to manipulate data, train and tune final model. `ipynb` format.\n",
    "    - Jupyter notebook with scoring function. `ipynb` format.\n",
    "- `artifacts` (folder)\n",
    "    - Model and any potential encoders in the \"pkl\" format or native H2O-3 format (for H2O-3 model)\n",
    "    - Scoring function that will load the final model and encoders. Separate from above notebook or `.py` file\n",
    "\n",
    "\n",
    "\n",
    "Your notebook should include explanations about your code and be designed to be easily followed and results replicated. Once you are done with the final version, you will need to test it by running all cells from top to bottom after restarting Kernel. It can be done by running `Kernel -> Restart & Run All`\n",
    "\n",
    "\n",
    "**Important**: To speed up progress, first produce working code using a small subset of the dataset."
   ]
  },
  {
   "cell_type": "markdown",
   "id": "c341cb74",
   "metadata": {},
   "source": [
    "### Dataset description\n",
    "\n",
    "Dataset is similar to the dataset provided for Project 1. "
   ]
  },
  {
   "cell_type": "markdown",
   "id": "5fe1af41",
   "metadata": {},
   "source": [
    "### Dataset preparation and clean-up\n",
    "\n",
    "Modify and clean-up the dataset as following:\n",
    "- Replace encode Na/Null values\n",
    "- Convert the strings to floats/integers as needed\n",
    "\n",
    "Any additional clean-up as you find fit."
   ]
  },
  {
   "cell_type": "markdown",
   "id": "f1861176",
   "metadata": {},
   "source": [
    "## Project Summary and Conclusion\n",
    "\n",
    "Provide your summary and conclusion. The summary should include:\n",
    "- Summary of your work\n",
    "- Summary of your findings\n",
    "- Summary of your model performance\n",
    "- Summary of your recommendations"
   ]
  },
  {
   "cell_type": "markdown",
   "id": "b556b0fe",
   "metadata": {},
   "source": [
    "## Stop Here. Create new file/notebook\n",
    "\n",
    "Don't include scoring function in the same notebook as your project. Create a new notebook or python file for scoring function.\n",
    "\n",
    "Project 2 scoring function should include the following fields, same as in Project 1."
   ]
  },
  {
   "cell_type": "code",
   "execution_count": 5,
   "id": "fd9dbc26",
   "metadata": {},
   "outputs": [
    {
     "data": {
      "text/html": [
       "<div>\n",
       "<style scoped>\n",
       "    .dataframe tbody tr th:only-of-type {\n",
       "        vertical-align: middle;\n",
       "    }\n",
       "\n",
       "    .dataframe tbody tr th {\n",
       "        vertical-align: top;\n",
       "    }\n",
       "\n",
       "    .dataframe thead th {\n",
       "        text-align: right;\n",
       "    }\n",
       "</style>\n",
       "<table border=\"1\" class=\"dataframe\">\n",
       "  <thead>\n",
       "    <tr style=\"text-align: right;\">\n",
       "      <th></th>\n",
       "      <th>index</th>\n",
       "      <th>label</th>\n",
       "      <th>probability_0</th>\n",
       "      <th>probability_1</th>\n",
       "    </tr>\n",
       "  </thead>\n",
       "  <tbody>\n",
       "    <tr>\n",
       "      <th>0</th>\n",
       "      <td>118</td>\n",
       "      <td>0</td>\n",
       "      <td>0.795493</td>\n",
       "      <td>0.204507</td>\n",
       "    </tr>\n",
       "    <tr>\n",
       "      <th>1</th>\n",
       "      <td>302</td>\n",
       "      <td>0</td>\n",
       "      <td>0.913022</td>\n",
       "      <td>0.086978</td>\n",
       "    </tr>\n",
       "    <tr>\n",
       "      <th>2</th>\n",
       "      <td>285</td>\n",
       "      <td>0</td>\n",
       "      <td>0.538932</td>\n",
       "      <td>0.461068</td>\n",
       "    </tr>\n",
       "    <tr>\n",
       "      <th>3</th>\n",
       "      <td>477</td>\n",
       "      <td>0</td>\n",
       "      <td>0.823059</td>\n",
       "      <td>0.176941</td>\n",
       "    </tr>\n",
       "    <tr>\n",
       "      <th>4</th>\n",
       "      <td>109</td>\n",
       "      <td>0</td>\n",
       "      <td>0.922561</td>\n",
       "      <td>0.077439</td>\n",
       "    </tr>\n",
       "  </tbody>\n",
       "</table>\n",
       "</div>"
      ],
      "text/plain": [
       "   index  label  probability_0  probability_1\n",
       "0    118      0       0.795493       0.204507\n",
       "1    302      0       0.913022       0.086978\n",
       "2    285      0       0.538932       0.461068\n",
       "3    477      0       0.823059       0.176941\n",
       "4    109      0       0.922561       0.077439"
      ]
     },
     "execution_count": 5,
     "metadata": {},
     "output_type": "execute_result"
    }
   ],
   "source": [
    "project_2_scoring(X_test).head()"
   ]
  }
 ],
 "metadata": {
  "kernelspec": {
   "display_name": "ml-fall-2023",
   "language": "python",
   "name": "ml-fall-2023"
  },
  "language_info": {
   "codemirror_mode": {
    "name": "ipython",
    "version": 3
   },
   "file_extension": ".py",
   "mimetype": "text/x-python",
   "name": "python",
   "nbconvert_exporter": "python",
   "pygments_lexer": "ipython3",
   "version": "3.10.11"
  }
 },
 "nbformat": 4,
 "nbformat_minor": 5
}
