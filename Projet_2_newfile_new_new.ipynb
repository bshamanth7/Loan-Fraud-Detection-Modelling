{
 "cells": [
  {
   "cell_type": "code",
   "execution_count": 1,
   "metadata": {},
   "outputs": [
    {
     "data": {
      "text/html": [
       "<style>.container { width:90% !important; }</style>"
      ],
      "text/plain": [
       "<IPython.core.display.HTML object>"
      ]
     },
     "metadata": {},
     "output_type": "display_data"
    }
   ],
   "source": [
    "import pandas as pd\n",
    "pd.set_option('display.max_columns', 3000)\n",
    "pd.set_option('display.max_rows', 5000)\n",
    "\n",
    "import warnings\n",
    "warnings.filterwarnings('ignore')\n",
    "\n",
    "#Extend cell width\n",
    "from IPython.core.display import display, HTML\n",
    "display(HTML(\"<style>.container { width:90% !important; }</style>\"))"
   ]
  },
  {
   "cell_type": "code",
   "execution_count": 2,
   "metadata": {},
   "outputs": [],
   "source": [
    "df = pd.read_csv(\"D:/Work/Gre/UTD/Courses/Fall/MIS6341/Softwares/Python/ml-fall-2023/Project2/SBA_loans_project_2.csv\")\n",
    "df.drop(columns=\"index\",inplace=True)"
   ]
  },
  {
   "cell_type": "code",
   "execution_count": 3,
   "metadata": {},
   "outputs": [
    {
     "data": {
      "text/html": [
       "<div>\n",
       "<style scoped>\n",
       "    .dataframe tbody tr th:only-of-type {\n",
       "        vertical-align: middle;\n",
       "    }\n",
       "\n",
       "    .dataframe tbody tr th {\n",
       "        vertical-align: top;\n",
       "    }\n",
       "\n",
       "    .dataframe thead th {\n",
       "        text-align: right;\n",
       "    }\n",
       "</style>\n",
       "<table border=\"1\" class=\"dataframe\">\n",
       "  <thead>\n",
       "    <tr style=\"text-align: right;\">\n",
       "      <th></th>\n",
       "      <th>City</th>\n",
       "      <th>State</th>\n",
       "      <th>Zip</th>\n",
       "      <th>Bank</th>\n",
       "      <th>BankState</th>\n",
       "      <th>NAICS</th>\n",
       "      <th>NoEmp</th>\n",
       "      <th>NewExist</th>\n",
       "      <th>CreateJob</th>\n",
       "      <th>RetainedJob</th>\n",
       "      <th>FranchiseCode</th>\n",
       "      <th>UrbanRural</th>\n",
       "      <th>RevLineCr</th>\n",
       "      <th>LowDoc</th>\n",
       "      <th>DisbursementGross</th>\n",
       "      <th>BalanceGross</th>\n",
       "      <th>GrAppv</th>\n",
       "      <th>SBA_Appv</th>\n",
       "      <th>MIS_Status</th>\n",
       "    </tr>\n",
       "  </thead>\n",
       "  <tbody>\n",
       "    <tr>\n",
       "      <th>0</th>\n",
       "      <td>NEW YORK</td>\n",
       "      <td>NY</td>\n",
       "      <td>10003</td>\n",
       "      <td>JPMORGAN CHASE BANK NATL ASSOC</td>\n",
       "      <td>IL</td>\n",
       "      <td>561439</td>\n",
       "      <td>9</td>\n",
       "      <td>1.0</td>\n",
       "      <td>1</td>\n",
       "      <td>9</td>\n",
       "      <td>1</td>\n",
       "      <td>1</td>\n",
       "      <td>0</td>\n",
       "      <td>N</td>\n",
       "      <td>68000.0</td>\n",
       "      <td>0.0</td>\n",
       "      <td>68000.0</td>\n",
       "      <td>34000.0</td>\n",
       "      <td>0</td>\n",
       "    </tr>\n",
       "    <tr>\n",
       "      <th>1</th>\n",
       "      <td>PAWTUCKET</td>\n",
       "      <td>RI</td>\n",
       "      <td>2860</td>\n",
       "      <td>CITIZENS BANK NATL ASSOC</td>\n",
       "      <td>RI</td>\n",
       "      <td>541810</td>\n",
       "      <td>8</td>\n",
       "      <td>1.0</td>\n",
       "      <td>4</td>\n",
       "      <td>12</td>\n",
       "      <td>0</td>\n",
       "      <td>1</td>\n",
       "      <td>N</td>\n",
       "      <td>N</td>\n",
       "      <td>90000.0</td>\n",
       "      <td>0.0</td>\n",
       "      <td>90000.0</td>\n",
       "      <td>45000.0</td>\n",
       "      <td>1</td>\n",
       "    </tr>\n",
       "    <tr>\n",
       "      <th>2</th>\n",
       "      <td>ISSAQUAH</td>\n",
       "      <td>WA</td>\n",
       "      <td>98027</td>\n",
       "      <td>FIRST-CITIZENS BK &amp; TR CO</td>\n",
       "      <td>WA</td>\n",
       "      <td>448210</td>\n",
       "      <td>9</td>\n",
       "      <td>2.0</td>\n",
       "      <td>0</td>\n",
       "      <td>0</td>\n",
       "      <td>1</td>\n",
       "      <td>0</td>\n",
       "      <td>N</td>\n",
       "      <td>N</td>\n",
       "      <td>450000.0</td>\n",
       "      <td>0.0</td>\n",
       "      <td>450000.0</td>\n",
       "      <td>337500.0</td>\n",
       "      <td>0</td>\n",
       "    </tr>\n",
       "    <tr>\n",
       "      <th>3</th>\n",
       "      <td>HURST</td>\n",
       "      <td>TX</td>\n",
       "      <td>76053</td>\n",
       "      <td>WILSHIRE BANK</td>\n",
       "      <td>CA</td>\n",
       "      <td>722213</td>\n",
       "      <td>4</td>\n",
       "      <td>1.0</td>\n",
       "      <td>0</td>\n",
       "      <td>4</td>\n",
       "      <td>1</td>\n",
       "      <td>1</td>\n",
       "      <td>0</td>\n",
       "      <td>N</td>\n",
       "      <td>140000.0</td>\n",
       "      <td>0.0</td>\n",
       "      <td>165000.0</td>\n",
       "      <td>82500.0</td>\n",
       "      <td>0</td>\n",
       "    </tr>\n",
       "    <tr>\n",
       "      <th>4</th>\n",
       "      <td>ALPINE</td>\n",
       "      <td>CA</td>\n",
       "      <td>91901</td>\n",
       "      <td>CALIFORNIA BANK &amp; TRUST</td>\n",
       "      <td>CA</td>\n",
       "      <td>233210</td>\n",
       "      <td>1</td>\n",
       "      <td>1.0</td>\n",
       "      <td>0</td>\n",
       "      <td>1</td>\n",
       "      <td>1</td>\n",
       "      <td>2</td>\n",
       "      <td>Y</td>\n",
       "      <td>N</td>\n",
       "      <td>50000.0</td>\n",
       "      <td>0.0</td>\n",
       "      <td>50000.0</td>\n",
       "      <td>25000.0</td>\n",
       "      <td>0</td>\n",
       "    </tr>\n",
       "    <tr>\n",
       "      <th>...</th>\n",
       "      <td>...</td>\n",
       "      <td>...</td>\n",
       "      <td>...</td>\n",
       "      <td>...</td>\n",
       "      <td>...</td>\n",
       "      <td>...</td>\n",
       "      <td>...</td>\n",
       "      <td>...</td>\n",
       "      <td>...</td>\n",
       "      <td>...</td>\n",
       "      <td>...</td>\n",
       "      <td>...</td>\n",
       "      <td>...</td>\n",
       "      <td>...</td>\n",
       "      <td>...</td>\n",
       "      <td>...</td>\n",
       "      <td>...</td>\n",
       "      <td>...</td>\n",
       "      <td>...</td>\n",
       "    </tr>\n",
       "    <tr>\n",
       "      <th>800250</th>\n",
       "      <td>Kenmore</td>\n",
       "      <td>NY</td>\n",
       "      <td>14217</td>\n",
       "      <td>KEYBANK NATIONAL ASSOCIATION</td>\n",
       "      <td>OH</td>\n",
       "      <td>561720</td>\n",
       "      <td>112</td>\n",
       "      <td>1.0</td>\n",
       "      <td>0</td>\n",
       "      <td>0</td>\n",
       "      <td>1</td>\n",
       "      <td>1</td>\n",
       "      <td>N</td>\n",
       "      <td>N</td>\n",
       "      <td>45500.0</td>\n",
       "      <td>0.0</td>\n",
       "      <td>45500.0</td>\n",
       "      <td>22750.0</td>\n",
       "      <td>0</td>\n",
       "    </tr>\n",
       "    <tr>\n",
       "      <th>800251</th>\n",
       "      <td>MENOMONEE FALLS</td>\n",
       "      <td>WI</td>\n",
       "      <td>53051</td>\n",
       "      <td>WAUKESHA STATE BANK</td>\n",
       "      <td>WI</td>\n",
       "      <td>337110</td>\n",
       "      <td>75</td>\n",
       "      <td>1.0</td>\n",
       "      <td>0</td>\n",
       "      <td>75</td>\n",
       "      <td>1</td>\n",
       "      <td>1</td>\n",
       "      <td>0</td>\n",
       "      <td>N</td>\n",
       "      <td>550000.0</td>\n",
       "      <td>0.0</td>\n",
       "      <td>550000.0</td>\n",
       "      <td>412500.0</td>\n",
       "      <td>0</td>\n",
       "    </tr>\n",
       "    <tr>\n",
       "      <th>800252</th>\n",
       "      <td>LONGVIEW</td>\n",
       "      <td>TX</td>\n",
       "      <td>75604</td>\n",
       "      <td>CAPITAL ONE NATL ASSOC</td>\n",
       "      <td>VA</td>\n",
       "      <td>517310</td>\n",
       "      <td>2</td>\n",
       "      <td>1.0</td>\n",
       "      <td>0</td>\n",
       "      <td>0</td>\n",
       "      <td>1</td>\n",
       "      <td>1</td>\n",
       "      <td>0</td>\n",
       "      <td>Y</td>\n",
       "      <td>128800.0</td>\n",
       "      <td>0.0</td>\n",
       "      <td>135000.0</td>\n",
       "      <td>114750.0</td>\n",
       "      <td>0</td>\n",
       "    </tr>\n",
       "    <tr>\n",
       "      <th>800253</th>\n",
       "      <td>CAMDEN</td>\n",
       "      <td>NJ</td>\n",
       "      <td>8105</td>\n",
       "      <td>BANK OF AMERICA NATL ASSOC</td>\n",
       "      <td>RI</td>\n",
       "      <td>447110</td>\n",
       "      <td>4</td>\n",
       "      <td>2.0</td>\n",
       "      <td>0</td>\n",
       "      <td>0</td>\n",
       "      <td>1</td>\n",
       "      <td>1</td>\n",
       "      <td>Y</td>\n",
       "      <td>N</td>\n",
       "      <td>100000.0</td>\n",
       "      <td>0.0</td>\n",
       "      <td>100000.0</td>\n",
       "      <td>50000.0</td>\n",
       "      <td>0</td>\n",
       "    </tr>\n",
       "    <tr>\n",
       "      <th>800254</th>\n",
       "      <td>COVENTRY</td>\n",
       "      <td>RI</td>\n",
       "      <td>2816</td>\n",
       "      <td>CITIZENS BANK NATL ASSOC</td>\n",
       "      <td>RI</td>\n",
       "      <td>541511</td>\n",
       "      <td>1</td>\n",
       "      <td>1.0</td>\n",
       "      <td>0</td>\n",
       "      <td>1</td>\n",
       "      <td>0</td>\n",
       "      <td>1</td>\n",
       "      <td>N</td>\n",
       "      <td>N</td>\n",
       "      <td>10000.0</td>\n",
       "      <td>0.0</td>\n",
       "      <td>10000.0</td>\n",
       "      <td>5000.0</td>\n",
       "      <td>0</td>\n",
       "    </tr>\n",
       "  </tbody>\n",
       "</table>\n",
       "<p>800255 rows × 19 columns</p>\n",
       "</div>"
      ],
      "text/plain": [
       "                   City State    Zip                            Bank  \\\n",
       "0              NEW YORK    NY  10003  JPMORGAN CHASE BANK NATL ASSOC   \n",
       "1             PAWTUCKET    RI   2860        CITIZENS BANK NATL ASSOC   \n",
       "2              ISSAQUAH    WA  98027       FIRST-CITIZENS BK & TR CO   \n",
       "3                 HURST    TX  76053                   WILSHIRE BANK   \n",
       "4                ALPINE    CA  91901         CALIFORNIA BANK & TRUST   \n",
       "...                 ...   ...    ...                             ...   \n",
       "800250          Kenmore    NY  14217    KEYBANK NATIONAL ASSOCIATION   \n",
       "800251  MENOMONEE FALLS    WI  53051             WAUKESHA STATE BANK   \n",
       "800252         LONGVIEW    TX  75604          CAPITAL ONE NATL ASSOC   \n",
       "800253           CAMDEN    NJ   8105      BANK OF AMERICA NATL ASSOC   \n",
       "800254         COVENTRY    RI   2816        CITIZENS BANK NATL ASSOC   \n",
       "\n",
       "       BankState   NAICS  NoEmp  NewExist  CreateJob  RetainedJob  \\\n",
       "0             IL  561439      9       1.0          1            9   \n",
       "1             RI  541810      8       1.0          4           12   \n",
       "2             WA  448210      9       2.0          0            0   \n",
       "3             CA  722213      4       1.0          0            4   \n",
       "4             CA  233210      1       1.0          0            1   \n",
       "...          ...     ...    ...       ...        ...          ...   \n",
       "800250        OH  561720    112       1.0          0            0   \n",
       "800251        WI  337110     75       1.0          0           75   \n",
       "800252        VA  517310      2       1.0          0            0   \n",
       "800253        RI  447110      4       2.0          0            0   \n",
       "800254        RI  541511      1       1.0          0            1   \n",
       "\n",
       "        FranchiseCode  UrbanRural RevLineCr LowDoc  DisbursementGross  \\\n",
       "0                   1           1         0      N            68000.0   \n",
       "1                   0           1         N      N            90000.0   \n",
       "2                   1           0         N      N           450000.0   \n",
       "3                   1           1         0      N           140000.0   \n",
       "4                   1           2         Y      N            50000.0   \n",
       "...               ...         ...       ...    ...                ...   \n",
       "800250              1           1         N      N            45500.0   \n",
       "800251              1           1         0      N           550000.0   \n",
       "800252              1           1         0      Y           128800.0   \n",
       "800253              1           1         Y      N           100000.0   \n",
       "800254              0           1         N      N            10000.0   \n",
       "\n",
       "        BalanceGross    GrAppv  SBA_Appv  MIS_Status  \n",
       "0                0.0   68000.0   34000.0           0  \n",
       "1                0.0   90000.0   45000.0           1  \n",
       "2                0.0  450000.0  337500.0           0  \n",
       "3                0.0  165000.0   82500.0           0  \n",
       "4                0.0   50000.0   25000.0           0  \n",
       "...              ...       ...       ...         ...  \n",
       "800250           0.0   45500.0   22750.0           0  \n",
       "800251           0.0  550000.0  412500.0           0  \n",
       "800252           0.0  135000.0  114750.0           0  \n",
       "800253           0.0  100000.0   50000.0           0  \n",
       "800254           0.0   10000.0    5000.0           0  \n",
       "\n",
       "[800255 rows x 19 columns]"
      ]
     },
     "execution_count": 3,
     "metadata": {},
     "output_type": "execute_result"
    }
   ],
   "source": [
    "df"
   ]
  },
  {
   "cell_type": "code",
   "execution_count": 4,
   "metadata": {},
   "outputs": [
    {
     "data": {
      "text/plain": [
       "City                   26\n",
       "State                  13\n",
       "Zip                     0\n",
       "Bank                 1381\n",
       "BankState            1386\n",
       "NAICS                   0\n",
       "NoEmp                   0\n",
       "NewExist              127\n",
       "CreateJob               0\n",
       "RetainedJob             0\n",
       "FranchiseCode           0\n",
       "UrbanRural              0\n",
       "RevLineCr            4016\n",
       "LowDoc               2316\n",
       "DisbursementGross       0\n",
       "BalanceGross            0\n",
       "GrAppv                  0\n",
       "SBA_Appv                0\n",
       "MIS_Status              0\n",
       "dtype: int64"
      ]
     },
     "execution_count": 4,
     "metadata": {},
     "output_type": "execute_result"
    }
   ],
   "source": [
    "df.isnull().sum()"
   ]
  },
  {
   "cell_type": "code",
   "execution_count": 5,
   "metadata": {},
   "outputs": [
    {
     "name": "stdout",
     "output_type": "stream",
     "text": [
      "City unique values are ['NEW YORK' 'PAWTUCKET' 'ISSAQUAH' ... 'ST  FRANCIS' 'Stevens point'\n",
      " 'Pylesville']\n",
      "\n",
      "\n",
      "City data type is object\n",
      "State unique values are ['NY' 'RI' 'WA' 'TX' 'CA' 'NC' 'MN' 'MO' 'FL' 'IA' 'IL' 'DC' 'PA' 'AL'\n",
      " 'MS' 'OH' 'MA' 'NJ' 'ME' 'NV' 'LA' 'MI' 'IN' 'GA' 'UT' 'VA' 'WI' 'TN'\n",
      " 'KS' 'NH' 'CO' 'CT' 'KY' 'AZ' 'ID' 'DE' 'SD' 'AR' 'MD' 'OK' 'SC' 'NM'\n",
      " 'MT' 'NE' 'OR' 'WY' 'AK' 'HI' 'VT' 'ND' 'WV' nan]\n",
      "\n",
      "\n",
      "State data type is object\n",
      "Zip unique values are [10003  2860 98027 ... 78944 17814 95812]\n",
      "\n",
      "\n",
      "Zip data type is int64\n",
      "Bank unique values are ['JPMORGAN CHASE BANK NATL ASSOC' 'CITIZENS BANK NATL ASSOC'\n",
      " 'FIRST-CITIZENS BK & TR CO' ... 'TULSA NATIONAL BANCSHARES, INC'\n",
      " 'BEACH PLAZA LLC' 'THE LEADERS BANK']\n",
      "\n",
      "\n",
      "Bank data type is object\n",
      "BankState unique values are ['IL' 'RI' 'WA' 'CA' 'NC' 'MN' 'MO' 'OR' 'FL' 'IA' 'SD' 'DC' 'TX' 'PA'\n",
      " 'VA' 'AL' 'OH' 'MS' 'IN' 'MA' 'ME' 'MI' 'DE' 'UT' 'SC' 'NY' 'KS' 'CO'\n",
      " 'LA' 'WI' 'CT' 'AZ' 'AR' 'MD' 'OK' 'NM' 'ID' 'MT' 'NJ' 'KY' 'NE' 'WY'\n",
      " 'GA' 'HI' 'NH' 'VT' 'ND' 'TN' nan 'NV' 'AK' 'WV' 'PR' 'EN' 'GU']\n",
      "\n",
      "\n",
      "BankState data type is object\n",
      "NAICS unique values are [561439 541810 448210 ... 922140 221114 333241]\n",
      "\n",
      "\n",
      "NAICS data type is int64\n",
      "NoEmp unique values are [   9    8    4    1    3   25   10    2   12    6   21   15   19    7\n",
      "   70   45   14   57   30   16   13   35    5   17   11   42   33   36\n",
      "    0   65   20   23  175   18   50   34   60   26   80   40   22   24\n",
      "   31  300   55   29   44   76 3030   75   32   28   41  135   52  100\n",
      "   90   51   37  350   46  207   27   64  160   98   92  190   38   47\n",
      "   39   62   85  985  150   48   79   72  387   84   69 9945   49   68\n",
      "  124   43   73  200  140   59  120  174   54   71  101  102   56 5000\n",
      "  142   67  195  185   53  145  435  110  109  115  425  281   58  153\n",
      "   95   63   61  750  133   81   74   83   82  700  111  132  114   93\n",
      "   78  146   89   77  170  250  205  125  130  184   94  105   97   99\n",
      "   86  104  158  220  155  163  247  246  137  106  450  113  151   96\n",
      "  500  116 1000  118  280  141 5149   66  126   88  400  188  108  154\n",
      "  223  325  900  127  189  222  360   91  107  498  131   87  230  421\n",
      "  162  218  515  180  271  138  128  122  386  179  345  129  165  240\n",
      "  117 3400 1644  315  182  134  123  112  275  139  210  232  260  288\n",
      " 6000  245  119  215 1150  600  258  227  261  206  257 1382  270  203\n",
      "  256  499  144  285  161  295 1400  375  608 1010 1500  177 1200  103\n",
      "  173 4000  121 1700  314  340  192  307  147  329  339 1451 8041  226\n",
      " 1003  225  231  254  148  344  191  712  967  149  187  403  152  520\n",
      " 2202  420  299  351 1524  212  136  156  166 7231  323 5921  208  290\n",
      "  202 7538 5812  143  197  213  550  310  305 3900 1112  233  761  241\n",
      "  521  228 3200 2200  317  249 2000  346  243  178  840  167  475  172\n",
      "  248 3000 1515 1800  330  237 1461  214  625  740  186  211 2151  204\n",
      "  255  217 2400 5680  196 1005 7389  306  171 5211  265  168  157  327\n",
      " 1100  427  390 2401  394  236 3100  216  289  458  850  176 1600 8000\n",
      "  169  221  720 2501  760  430  384 1981  253 2725  234  277  510  194\n",
      "  224  263  463  259 9090 3737  268  365  488  283  278  342  332  404\n",
      "  484  423  198 1940  318 3713  530  235  433  273  353 4100  455  304\n",
      "  382  276  267  424  193  640  606  456 3089  164  407  336  362 1706\n",
      "  585  560  252  355  576 4685  308  251  320  396 7212  442  380 3500\n",
      "  385  808 1300  183  376 4005  605  454  312  209  505 9999 1233 1711\n",
      "  181 5947  523  479 7000  279  301  262 3334  358 2300 2100  448  602\n",
      "  713 7941  413  780 4012  635  302 2020  685 2120  575  294  540  238\n",
      "  369  405  313 2510 1900 5555 1020  395 4847  377  525  445 2610  401\n",
      "  354  322 7241 2500 5013  287 3009  242  266  465  688 2700 4658 1073\n",
      " 1340  717  410  229  269 5200  282 9992 1520 1235  274  480  485 1980\n",
      " 1050  296  383  426  408 1920 6501 7216  544  298  368  782  476  324\n",
      " 1629 1550  609  363  680 1542  827 7111  357 1012 2232  800 1101  464\n",
      "  447  735  284 2010  341 5084  828  495  370  538  319 7991 1603 7999\n",
      " 3732 8018 2121  199  535  244 1250 1280 9000  292 1145  293 2520  650\n",
      "  356  159 1030 4800 7007  328 4300 3170  570  660  414  441  429  823\n",
      "  367  348  858]\n",
      "\n",
      "\n",
      "NoEmp data type is int64\n",
      "NewExist unique values are [ 1.  2.  0. nan]\n",
      "\n",
      "\n",
      "NewExist data type is float64\n",
      "CreateJob unique values are [   1    4    0   15    3    6    8    9    2   20    7   10   12    5\n",
      "   26   35   30   13   23   11   45   40   65   29   25   16   46   21\n",
      "  458   14   73   70 8800   43  120   38   28   22   49   41   59   33\n",
      "   80   19   17   48   60   50  250   24   18  150   37   57  100   31\n",
      "   44   39   32   79   96   89  118   27   75  451   71  450   85   42\n",
      "   36  456   52  105  135  125  452  200  300   54   63   61   90   34\n",
      "  154   64   47   76   82  171   56  175  256   55  198   58  110  138\n",
      " 3000  264   98  158   69   95  162   68  124   66  119  860   72   92\n",
      "  115   83  168  206   78  116   62  500   53   67   84  255  600   51\n",
      "  400  137  104  130  152  140  454  226   77  453  225   97  270  123\n",
      "  126 3100  240  108  160  102 1530  235   99  189  114   87  106  165\n",
      "  112  179  101   88  141  167  183  131   81  455   94  433  205  136\n",
      " 1618 1100  223  146  457 5199 1000   74 3500  121  409  750  220 1711\n",
      " 5085  148  155  184 1027 2515  186  280 5621 1016  145  310  129  360\n",
      "  386   86  375  169  109  170   93  182  397  195  365  180  128  190\n",
      " 1011  221  103  350  157  174  222  127  149 1150  480  363 2140  214\n",
      "  252  569 2020  320  144  164  153 1118  139  151  163  210]\n",
      "\n",
      "\n",
      "CreateJob data type is int64\n",
      "RetainedJob unique values are [   9   12    0    4    1   40   10    2    6    8    5   20   30   13\n",
      "   35   11    3   14   19    7   34   21   23   18   50   22   85   80\n",
      "   60   45   15  330   25   65   33   29   17   16   44   32   31   28\n",
      "   41   27   90   24  207  160   92  190   38   46 8800   26   48   72\n",
      "   84   36   70  200  140  120   54   52   71   53   47  102   55   75\n",
      "  150  142   37   43   64  300  117   42   95   39  281   49   58   96\n",
      "  212  100   63   79   82   57  111   69   62  135  250   61   56  155\n",
      "   78  104  158   67  163  270  350  151  500  116   51  118  275  141\n",
      "  450  126   74   86  223  387   76  498  189   87  130  115   59  145\n",
      "  205  175  125  256  138  105   93  137  164  180  219  139   77  110\n",
      "   68   81  103  210  109  167  230   83   99  162  185  171   91   97\n",
      "  119  304  101   98  107  285  240  257  170   73  165  229  161  149\n",
      "  173  750  113  231  114  168  156  362  967   88  128  122  127   89\n",
      "  220  129  251  404  375   66  203  550  267  177  133  123  263  143\n",
      "   94 3900  182  121 1300  384 2200  254  900  243  112  178  310  226\n",
      "  184  237  515  146  154  192  265  157  327  245  108  400  194  172\n",
      "  169  134  186  153  216  106  152 4441  360  124  259  187  131  202\n",
      "  316  600  472  371  278  342  206  214  484  204  390  318  225 3225\n",
      "  286 1700  428  176  147  497  268  585  312  393  148  280  290  475\n",
      "  235  291  320  369  132 1711  197  523  195  144  448  602  217 3100\n",
      "  302  136  685  540  295  215  366  322  287  315  485  266  610  292\n",
      "  476  208  430  410  247  191 1600  420  325 4000  233  188 5000  355\n",
      "  196  260  274  480  544  298  262  609  363  199  815  277  403  166\n",
      " 7250  720  370  548 3200  911  183  221 1500 1000  675  535  232  236\n",
      "  198  159  255  252  356  394 1111  201 9500  328  297  660  700  317]\n",
      "\n",
      "\n",
      "RetainedJob data type is int64\n",
      "FranchiseCode unique values are [    1     0 78760 ... 21424 41418 29580]\n",
      "\n",
      "\n",
      "FranchiseCode data type is int64\n",
      "UrbanRural unique values are [1 0 2]\n",
      "\n",
      "\n",
      "UrbanRural data type is int64\n",
      "RevLineCr unique values are ['0' 'N' 'Y' 'T' nan '1' 'A' '`' '4' 'R' '2' '.' '5' 'C' ',' '-' 'Q' '7'\n",
      " '3']\n",
      "\n",
      "\n",
      "RevLineCr data type is object\n",
      "LowDoc unique values are ['N' 'Y' '0' nan 'C' 'A' 'S' 'R' '1']\n",
      "\n",
      "\n",
      "LowDoc data type is object\n",
      "DisbursementGross unique values are [ 68000.  90000. 450000. ... 199123.  67516.  97203.]\n",
      "\n",
      "\n",
      "DisbursementGross data type is float64\n",
      "BalanceGross unique values are [0.00000e+00 4.15090e+04 3.95476e+05 9.11100e+03 8.46170e+04 8.27875e+05\n",
      " 1.27500e+04 9.96262e+05 9.69080e+04 2.50000e+04 1.15820e+05 1.76000e+03\n",
      " 3.71000e+04 6.00000e+02 4.31270e+04]\n",
      "\n",
      "\n",
      "BalanceGross data type is float64\n",
      "GrAppv unique values are [  68000.   90000.  450000. ... 1853900.   32916.   35224.]\n",
      "\n",
      "\n",
      "GrAppv data type is float64\n",
      "SBA_Appv unique values are [  34000.   45000.  337500. ...   26333. 1609000.   17612.]\n",
      "\n",
      "\n",
      "SBA_Appv data type is float64\n",
      "MIS_Status unique values are [0 1]\n",
      "\n",
      "\n",
      "MIS_Status data type is int64\n"
     ]
    }
   ],
   "source": [
    "#show unique values in each column and its data type\n",
    "for col in df.columns:\n",
    "    print(f'{col} unique values are {df[col].unique()}')\n",
    "    print(\"\\n\")\n",
    "    print(f'{col} data type is {df[col].dtype}')"
   ]
  },
  {
   "cell_type": "code",
   "execution_count": 6,
   "metadata": {},
   "outputs": [
    {
     "data": {
      "text/html": [
       "<div>\n",
       "<style scoped>\n",
       "    .dataframe tbody tr th:only-of-type {\n",
       "        vertical-align: middle;\n",
       "    }\n",
       "\n",
       "    .dataframe tbody tr th {\n",
       "        vertical-align: top;\n",
       "    }\n",
       "\n",
       "    .dataframe thead th {\n",
       "        text-align: right;\n",
       "    }\n",
       "</style>\n",
       "<table border=\"1\" class=\"dataframe\">\n",
       "  <thead>\n",
       "    <tr style=\"text-align: right;\">\n",
       "      <th></th>\n",
       "      <th>City</th>\n",
       "      <th>State</th>\n",
       "      <th>Zip</th>\n",
       "      <th>Bank</th>\n",
       "      <th>BankState</th>\n",
       "      <th>NAICS</th>\n",
       "      <th>NoEmp</th>\n",
       "      <th>NewExist</th>\n",
       "      <th>CreateJob</th>\n",
       "      <th>RetainedJob</th>\n",
       "      <th>FranchiseCode</th>\n",
       "      <th>UrbanRural</th>\n",
       "      <th>RevLineCr</th>\n",
       "      <th>LowDoc</th>\n",
       "      <th>DisbursementGross</th>\n",
       "      <th>BalanceGross</th>\n",
       "      <th>GrAppv</th>\n",
       "      <th>SBA_Appv</th>\n",
       "      <th>MIS_Status</th>\n",
       "    </tr>\n",
       "  </thead>\n",
       "  <tbody>\n",
       "    <tr>\n",
       "      <th>0</th>\n",
       "      <td>NEW YORK</td>\n",
       "      <td>NY</td>\n",
       "      <td>10003</td>\n",
       "      <td>JPMORGAN CHASE BANK NATL ASSOC</td>\n",
       "      <td>IL</td>\n",
       "      <td>561439</td>\n",
       "      <td>9</td>\n",
       "      <td>1.0</td>\n",
       "      <td>1</td>\n",
       "      <td>9</td>\n",
       "      <td>1</td>\n",
       "      <td>1</td>\n",
       "      <td>0</td>\n",
       "      <td>N</td>\n",
       "      <td>68000.0</td>\n",
       "      <td>0.0</td>\n",
       "      <td>68000.0</td>\n",
       "      <td>34000.0</td>\n",
       "      <td>0</td>\n",
       "    </tr>\n",
       "    <tr>\n",
       "      <th>1</th>\n",
       "      <td>PAWTUCKET</td>\n",
       "      <td>RI</td>\n",
       "      <td>2860</td>\n",
       "      <td>CITIZENS BANK NATL ASSOC</td>\n",
       "      <td>RI</td>\n",
       "      <td>541810</td>\n",
       "      <td>8</td>\n",
       "      <td>1.0</td>\n",
       "      <td>4</td>\n",
       "      <td>12</td>\n",
       "      <td>0</td>\n",
       "      <td>1</td>\n",
       "      <td>N</td>\n",
       "      <td>N</td>\n",
       "      <td>90000.0</td>\n",
       "      <td>0.0</td>\n",
       "      <td>90000.0</td>\n",
       "      <td>45000.0</td>\n",
       "      <td>1</td>\n",
       "    </tr>\n",
       "    <tr>\n",
       "      <th>2</th>\n",
       "      <td>ISSAQUAH</td>\n",
       "      <td>WA</td>\n",
       "      <td>98027</td>\n",
       "      <td>FIRST-CITIZENS BK &amp; TR CO</td>\n",
       "      <td>WA</td>\n",
       "      <td>448210</td>\n",
       "      <td>9</td>\n",
       "      <td>2.0</td>\n",
       "      <td>0</td>\n",
       "      <td>0</td>\n",
       "      <td>1</td>\n",
       "      <td>0</td>\n",
       "      <td>N</td>\n",
       "      <td>N</td>\n",
       "      <td>450000.0</td>\n",
       "      <td>0.0</td>\n",
       "      <td>450000.0</td>\n",
       "      <td>337500.0</td>\n",
       "      <td>0</td>\n",
       "    </tr>\n",
       "    <tr>\n",
       "      <th>3</th>\n",
       "      <td>HURST</td>\n",
       "      <td>TX</td>\n",
       "      <td>76053</td>\n",
       "      <td>WILSHIRE BANK</td>\n",
       "      <td>CA</td>\n",
       "      <td>722213</td>\n",
       "      <td>4</td>\n",
       "      <td>1.0</td>\n",
       "      <td>0</td>\n",
       "      <td>4</td>\n",
       "      <td>1</td>\n",
       "      <td>1</td>\n",
       "      <td>0</td>\n",
       "      <td>N</td>\n",
       "      <td>140000.0</td>\n",
       "      <td>0.0</td>\n",
       "      <td>165000.0</td>\n",
       "      <td>82500.0</td>\n",
       "      <td>0</td>\n",
       "    </tr>\n",
       "    <tr>\n",
       "      <th>4</th>\n",
       "      <td>ALPINE</td>\n",
       "      <td>CA</td>\n",
       "      <td>91901</td>\n",
       "      <td>CALIFORNIA BANK &amp; TRUST</td>\n",
       "      <td>CA</td>\n",
       "      <td>233210</td>\n",
       "      <td>1</td>\n",
       "      <td>1.0</td>\n",
       "      <td>0</td>\n",
       "      <td>1</td>\n",
       "      <td>1</td>\n",
       "      <td>2</td>\n",
       "      <td>Y</td>\n",
       "      <td>N</td>\n",
       "      <td>50000.0</td>\n",
       "      <td>0.0</td>\n",
       "      <td>50000.0</td>\n",
       "      <td>25000.0</td>\n",
       "      <td>0</td>\n",
       "    </tr>\n",
       "    <tr>\n",
       "      <th>...</th>\n",
       "      <td>...</td>\n",
       "      <td>...</td>\n",
       "      <td>...</td>\n",
       "      <td>...</td>\n",
       "      <td>...</td>\n",
       "      <td>...</td>\n",
       "      <td>...</td>\n",
       "      <td>...</td>\n",
       "      <td>...</td>\n",
       "      <td>...</td>\n",
       "      <td>...</td>\n",
       "      <td>...</td>\n",
       "      <td>...</td>\n",
       "      <td>...</td>\n",
       "      <td>...</td>\n",
       "      <td>...</td>\n",
       "      <td>...</td>\n",
       "      <td>...</td>\n",
       "      <td>...</td>\n",
       "    </tr>\n",
       "    <tr>\n",
       "      <th>800250</th>\n",
       "      <td>Kenmore</td>\n",
       "      <td>NY</td>\n",
       "      <td>14217</td>\n",
       "      <td>KEYBANK NATIONAL ASSOCIATION</td>\n",
       "      <td>OH</td>\n",
       "      <td>561720</td>\n",
       "      <td>112</td>\n",
       "      <td>1.0</td>\n",
       "      <td>0</td>\n",
       "      <td>0</td>\n",
       "      <td>1</td>\n",
       "      <td>1</td>\n",
       "      <td>N</td>\n",
       "      <td>N</td>\n",
       "      <td>45500.0</td>\n",
       "      <td>0.0</td>\n",
       "      <td>45500.0</td>\n",
       "      <td>22750.0</td>\n",
       "      <td>0</td>\n",
       "    </tr>\n",
       "    <tr>\n",
       "      <th>800251</th>\n",
       "      <td>MENOMONEE FALLS</td>\n",
       "      <td>WI</td>\n",
       "      <td>53051</td>\n",
       "      <td>WAUKESHA STATE BANK</td>\n",
       "      <td>WI</td>\n",
       "      <td>337110</td>\n",
       "      <td>75</td>\n",
       "      <td>1.0</td>\n",
       "      <td>0</td>\n",
       "      <td>75</td>\n",
       "      <td>1</td>\n",
       "      <td>1</td>\n",
       "      <td>0</td>\n",
       "      <td>N</td>\n",
       "      <td>550000.0</td>\n",
       "      <td>0.0</td>\n",
       "      <td>550000.0</td>\n",
       "      <td>412500.0</td>\n",
       "      <td>0</td>\n",
       "    </tr>\n",
       "    <tr>\n",
       "      <th>800252</th>\n",
       "      <td>LONGVIEW</td>\n",
       "      <td>TX</td>\n",
       "      <td>75604</td>\n",
       "      <td>CAPITAL ONE NATL ASSOC</td>\n",
       "      <td>VA</td>\n",
       "      <td>517310</td>\n",
       "      <td>2</td>\n",
       "      <td>1.0</td>\n",
       "      <td>0</td>\n",
       "      <td>0</td>\n",
       "      <td>1</td>\n",
       "      <td>1</td>\n",
       "      <td>0</td>\n",
       "      <td>Y</td>\n",
       "      <td>128800.0</td>\n",
       "      <td>0.0</td>\n",
       "      <td>135000.0</td>\n",
       "      <td>114750.0</td>\n",
       "      <td>0</td>\n",
       "    </tr>\n",
       "    <tr>\n",
       "      <th>800253</th>\n",
       "      <td>CAMDEN</td>\n",
       "      <td>NJ</td>\n",
       "      <td>8105</td>\n",
       "      <td>BANK OF AMERICA NATL ASSOC</td>\n",
       "      <td>RI</td>\n",
       "      <td>447110</td>\n",
       "      <td>4</td>\n",
       "      <td>2.0</td>\n",
       "      <td>0</td>\n",
       "      <td>0</td>\n",
       "      <td>1</td>\n",
       "      <td>1</td>\n",
       "      <td>Y</td>\n",
       "      <td>N</td>\n",
       "      <td>100000.0</td>\n",
       "      <td>0.0</td>\n",
       "      <td>100000.0</td>\n",
       "      <td>50000.0</td>\n",
       "      <td>0</td>\n",
       "    </tr>\n",
       "    <tr>\n",
       "      <th>800254</th>\n",
       "      <td>COVENTRY</td>\n",
       "      <td>RI</td>\n",
       "      <td>2816</td>\n",
       "      <td>CITIZENS BANK NATL ASSOC</td>\n",
       "      <td>RI</td>\n",
       "      <td>541511</td>\n",
       "      <td>1</td>\n",
       "      <td>1.0</td>\n",
       "      <td>0</td>\n",
       "      <td>1</td>\n",
       "      <td>0</td>\n",
       "      <td>1</td>\n",
       "      <td>N</td>\n",
       "      <td>N</td>\n",
       "      <td>10000.0</td>\n",
       "      <td>0.0</td>\n",
       "      <td>10000.0</td>\n",
       "      <td>5000.0</td>\n",
       "      <td>0</td>\n",
       "    </tr>\n",
       "  </tbody>\n",
       "</table>\n",
       "<p>800255 rows × 19 columns</p>\n",
       "</div>"
      ],
      "text/plain": [
       "                   City State    Zip                            Bank  \\\n",
       "0              NEW YORK    NY  10003  JPMORGAN CHASE BANK NATL ASSOC   \n",
       "1             PAWTUCKET    RI   2860        CITIZENS BANK NATL ASSOC   \n",
       "2              ISSAQUAH    WA  98027       FIRST-CITIZENS BK & TR CO   \n",
       "3                 HURST    TX  76053                   WILSHIRE BANK   \n",
       "4                ALPINE    CA  91901         CALIFORNIA BANK & TRUST   \n",
       "...                 ...   ...    ...                             ...   \n",
       "800250          Kenmore    NY  14217    KEYBANK NATIONAL ASSOCIATION   \n",
       "800251  MENOMONEE FALLS    WI  53051             WAUKESHA STATE BANK   \n",
       "800252         LONGVIEW    TX  75604          CAPITAL ONE NATL ASSOC   \n",
       "800253           CAMDEN    NJ   8105      BANK OF AMERICA NATL ASSOC   \n",
       "800254         COVENTRY    RI   2816        CITIZENS BANK NATL ASSOC   \n",
       "\n",
       "       BankState   NAICS  NoEmp  NewExist  CreateJob  RetainedJob  \\\n",
       "0             IL  561439      9       1.0          1            9   \n",
       "1             RI  541810      8       1.0          4           12   \n",
       "2             WA  448210      9       2.0          0            0   \n",
       "3             CA  722213      4       1.0          0            4   \n",
       "4             CA  233210      1       1.0          0            1   \n",
       "...          ...     ...    ...       ...        ...          ...   \n",
       "800250        OH  561720    112       1.0          0            0   \n",
       "800251        WI  337110     75       1.0          0           75   \n",
       "800252        VA  517310      2       1.0          0            0   \n",
       "800253        RI  447110      4       2.0          0            0   \n",
       "800254        RI  541511      1       1.0          0            1   \n",
       "\n",
       "        FranchiseCode  UrbanRural RevLineCr LowDoc  DisbursementGross  \\\n",
       "0                   1           1         0      N            68000.0   \n",
       "1                   0           1         N      N            90000.0   \n",
       "2                   1           0         N      N           450000.0   \n",
       "3                   1           1         0      N           140000.0   \n",
       "4                   1           2         Y      N            50000.0   \n",
       "...               ...         ...       ...    ...                ...   \n",
       "800250              1           1         N      N            45500.0   \n",
       "800251              1           1         0      N           550000.0   \n",
       "800252              1           1         0      Y           128800.0   \n",
       "800253              1           1         Y      N           100000.0   \n",
       "800254              0           1         N      N            10000.0   \n",
       "\n",
       "        BalanceGross    GrAppv  SBA_Appv  MIS_Status  \n",
       "0                0.0   68000.0   34000.0           0  \n",
       "1                0.0   90000.0   45000.0           1  \n",
       "2                0.0  450000.0  337500.0           0  \n",
       "3                0.0  165000.0   82500.0           0  \n",
       "4                0.0   50000.0   25000.0           0  \n",
       "...              ...       ...       ...         ...  \n",
       "800250           0.0   45500.0   22750.0           0  \n",
       "800251           0.0  550000.0  412500.0           0  \n",
       "800252           0.0  135000.0  114750.0           0  \n",
       "800253           0.0  100000.0   50000.0           0  \n",
       "800254           0.0   10000.0    5000.0           0  \n",
       "\n",
       "[800255 rows x 19 columns]"
      ]
     },
     "execution_count": 6,
     "metadata": {},
     "output_type": "execute_result"
    }
   ],
   "source": [
    "df"
   ]
  },
  {
   "cell_type": "code",
   "execution_count": 7,
   "metadata": {},
   "outputs": [
    {
     "name": "stdout",
     "output_type": "stream",
     "text": [
      "RevLineCr ['N' 'Y']\n",
      "LowDoc ['N' 'Y']\n",
      "NewExist [1.0 2.0 None]\n"
     ]
    }
   ],
   "source": [
    "for i in df['RevLineCr']:\n",
    "    if i not in ['Y','N']:\n",
    "        df['RevLineCr'].replace(i,'N',inplace=True)\n",
    "print(\"RevLineCr\",df['RevLineCr'].unique())\n",
    "\n",
    "for i in df['LowDoc']:\n",
    "    if i not in ['Y','N']:\n",
    "        df['LowDoc'].replace(i,'N',inplace=True)\n",
    "print(\"LowDoc\",df['LowDoc'].unique())\n",
    "\n",
    "for i in df['NewExist']:\n",
    "    if i not in [1,2]:\n",
    "        df['NewExist'].replace(i,None,inplace=True)\n",
    "print(\"NewExist\",df['NewExist'].unique())"
   ]
  },
  {
   "cell_type": "code",
   "execution_count": 8,
   "metadata": {},
   "outputs": [
    {
     "data": {
      "text/plain": [
       "City                   26\n",
       "State                  13\n",
       "Zip                     0\n",
       "Bank                 1381\n",
       "BankState            1386\n",
       "NAICS                   0\n",
       "NoEmp                   0\n",
       "NewExist             1057\n",
       "CreateJob               0\n",
       "RetainedJob             0\n",
       "FranchiseCode           0\n",
       "UrbanRural              0\n",
       "RevLineCr               0\n",
       "LowDoc                  0\n",
       "DisbursementGross       0\n",
       "BalanceGross            0\n",
       "GrAppv                  0\n",
       "SBA_Appv                0\n",
       "MIS_Status              0\n",
       "dtype: int64"
      ]
     },
     "execution_count": 8,
     "metadata": {},
     "output_type": "execute_result"
    }
   ],
   "source": [
    "df.isnull().sum()"
   ]
  },
  {
   "cell_type": "code",
   "execution_count": 9,
   "metadata": {},
   "outputs": [],
   "source": [
    "category_cols=['City', 'State', 'Bank', 'BankState', 'RevLineCr', 'LowDoc','NewExist']\n",
    "for column in category_cols:\n",
    "  df[column]=df[column].fillna(df[column].mode()[0])"
   ]
  },
  {
   "cell_type": "code",
   "execution_count": 10,
   "metadata": {},
   "outputs": [
    {
     "data": {
      "text/plain": [
       "City                 0\n",
       "State                0\n",
       "Zip                  0\n",
       "Bank                 0\n",
       "BankState            0\n",
       "NAICS                0\n",
       "NoEmp                0\n",
       "NewExist             0\n",
       "CreateJob            0\n",
       "RetainedJob          0\n",
       "FranchiseCode        0\n",
       "UrbanRural           0\n",
       "RevLineCr            0\n",
       "LowDoc               0\n",
       "DisbursementGross    0\n",
       "BalanceGross         0\n",
       "GrAppv               0\n",
       "SBA_Appv             0\n",
       "MIS_Status           0\n",
       "dtype: int64"
      ]
     },
     "execution_count": 10,
     "metadata": {},
     "output_type": "execute_result"
    }
   ],
   "source": [
    "df.isnull().sum()"
   ]
  },
  {
   "cell_type": "code",
   "execution_count": 11,
   "metadata": {},
   "outputs": [
    {
     "data": {
      "text/plain": [
       "((560178, 19), (240077, 19))"
      ]
     },
     "execution_count": 11,
     "metadata": {},
     "output_type": "execute_result"
    }
   ],
   "source": [
    "from sklearn.model_selection import train_test_split\n",
    "\n",
    "X_train,X_test = train_test_split(df,test_size=0.3,random_state=123)\n",
    "X_train.shape, X_test.shape"
   ]
  },
  {
   "cell_type": "markdown",
   "metadata": {},
   "source": [
    "``` Training set has 560178 rows and testing set has 240077 samples\n",
    "\n",
    "Target encoding is a data preprocessing technique used to convert categorical variables into numerical values that can be used by machine learning algorithms. It works by replacing each category with the average value of the target variable for that category. This can be helpful for algorithms that cannot handle categorical variables directly.\n",
    "\n",
    "In this case the target variable is \"MIS_Status\"```"
   ]
  },
  {
   "cell_type": "code",
   "execution_count": 12,
   "metadata": {},
   "outputs": [
    {
     "data": {
      "text/html": [
       "<div>\n",
       "<style scoped>\n",
       "    .dataframe tbody tr th:only-of-type {\n",
       "        vertical-align: middle;\n",
       "    }\n",
       "\n",
       "    .dataframe tbody tr th {\n",
       "        vertical-align: top;\n",
       "    }\n",
       "\n",
       "    .dataframe thead th {\n",
       "        text-align: right;\n",
       "    }\n",
       "</style>\n",
       "<table border=\"1\" class=\"dataframe\">\n",
       "  <thead>\n",
       "    <tr style=\"text-align: right;\">\n",
       "      <th></th>\n",
       "      <th>City</th>\n",
       "      <th>State</th>\n",
       "      <th>Zip</th>\n",
       "      <th>Bank</th>\n",
       "      <th>BankState</th>\n",
       "      <th>NAICS</th>\n",
       "      <th>NoEmp</th>\n",
       "      <th>NewExist</th>\n",
       "      <th>CreateJob</th>\n",
       "      <th>RetainedJob</th>\n",
       "      <th>FranchiseCode</th>\n",
       "      <th>UrbanRural</th>\n",
       "      <th>RevLineCr</th>\n",
       "      <th>LowDoc</th>\n",
       "      <th>DisbursementGross</th>\n",
       "      <th>BalanceGross</th>\n",
       "      <th>GrAppv</th>\n",
       "      <th>SBA_Appv</th>\n",
       "      <th>MIS_Status</th>\n",
       "    </tr>\n",
       "  </thead>\n",
       "  <tbody>\n",
       "    <tr>\n",
       "      <th>148172</th>\n",
       "      <td>0.215946</td>\n",
       "      <td>0.165802</td>\n",
       "      <td>45648</td>\n",
       "      <td>0.740692</td>\n",
       "      <td>0.217642</td>\n",
       "      <td>452990</td>\n",
       "      <td>2</td>\n",
       "      <td>0.17067</td>\n",
       "      <td>2</td>\n",
       "      <td>2</td>\n",
       "      <td>0</td>\n",
       "      <td>0.186517</td>\n",
       "      <td>0.152625</td>\n",
       "      <td>0.186815</td>\n",
       "      <td>12500.0</td>\n",
       "      <td>0.0</td>\n",
       "      <td>12500.0</td>\n",
       "      <td>10625.0</td>\n",
       "      <td>1</td>\n",
       "    </tr>\n",
       "    <tr>\n",
       "      <th>744579</th>\n",
       "      <td>0.226933</td>\n",
       "      <td>0.165802</td>\n",
       "      <td>43240</td>\n",
       "      <td>0.133135</td>\n",
       "      <td>0.158188</td>\n",
       "      <td>445310</td>\n",
       "      <td>7</td>\n",
       "      <td>0.17067</td>\n",
       "      <td>0</td>\n",
       "      <td>0</td>\n",
       "      <td>0</td>\n",
       "      <td>0.243731</td>\n",
       "      <td>0.152625</td>\n",
       "      <td>0.186815</td>\n",
       "      <td>20000.0</td>\n",
       "      <td>0.0</td>\n",
       "      <td>20000.0</td>\n",
       "      <td>10000.0</td>\n",
       "      <td>0</td>\n",
       "    </tr>\n",
       "    <tr>\n",
       "      <th>321200</th>\n",
       "      <td>0.252778</td>\n",
       "      <td>0.196143</td>\n",
       "      <td>21037</td>\n",
       "      <td>0.194430</td>\n",
       "      <td>0.076619</td>\n",
       "      <td>0</td>\n",
       "      <td>3</td>\n",
       "      <td>0.17067</td>\n",
       "      <td>0</td>\n",
       "      <td>0</td>\n",
       "      <td>1</td>\n",
       "      <td>0.070886</td>\n",
       "      <td>0.152625</td>\n",
       "      <td>0.089154</td>\n",
       "      <td>25000.0</td>\n",
       "      <td>0.0</td>\n",
       "      <td>25000.0</td>\n",
       "      <td>20000.0</td>\n",
       "      <td>0</td>\n",
       "    </tr>\n",
       "    <tr>\n",
       "      <th>74901</th>\n",
       "      <td>0.275938</td>\n",
       "      <td>0.184227</td>\n",
       "      <td>90071</td>\n",
       "      <td>0.141177</td>\n",
       "      <td>0.178801</td>\n",
       "      <td>541310</td>\n",
       "      <td>12</td>\n",
       "      <td>0.17067</td>\n",
       "      <td>12</td>\n",
       "      <td>12</td>\n",
       "      <td>1</td>\n",
       "      <td>0.243731</td>\n",
       "      <td>0.251879</td>\n",
       "      <td>0.186815</td>\n",
       "      <td>985500.0</td>\n",
       "      <td>0.0</td>\n",
       "      <td>350000.0</td>\n",
       "      <td>175000.0</td>\n",
       "      <td>1</td>\n",
       "    </tr>\n",
       "    <tr>\n",
       "      <th>426895</th>\n",
       "      <td>0.057056</td>\n",
       "      <td>0.184227</td>\n",
       "      <td>95037</td>\n",
       "      <td>0.412096</td>\n",
       "      <td>0.380604</td>\n",
       "      <td>561720</td>\n",
       "      <td>1</td>\n",
       "      <td>0.17067</td>\n",
       "      <td>0</td>\n",
       "      <td>1</td>\n",
       "      <td>0</td>\n",
       "      <td>0.243731</td>\n",
       "      <td>0.152625</td>\n",
       "      <td>0.186815</td>\n",
       "      <td>50000.0</td>\n",
       "      <td>0.0</td>\n",
       "      <td>50000.0</td>\n",
       "      <td>25000.0</td>\n",
       "      <td>0</td>\n",
       "    </tr>\n",
       "  </tbody>\n",
       "</table>\n",
       "</div>"
      ],
      "text/plain": [
       "            City     State    Zip      Bank  BankState   NAICS  NoEmp  \\\n",
       "148172  0.215946  0.165802  45648  0.740692   0.217642  452990      2   \n",
       "744579  0.226933  0.165802  43240  0.133135   0.158188  445310      7   \n",
       "321200  0.252778  0.196143  21037  0.194430   0.076619       0      3   \n",
       "74901   0.275938  0.184227  90071  0.141177   0.178801  541310     12   \n",
       "426895  0.057056  0.184227  95037  0.412096   0.380604  561720      1   \n",
       "\n",
       "        NewExist  CreateJob  RetainedJob  FranchiseCode  UrbanRural  \\\n",
       "148172   0.17067          2            2              0    0.186517   \n",
       "744579   0.17067          0            0              0    0.243731   \n",
       "321200   0.17067          0            0              1    0.070886   \n",
       "74901    0.17067         12           12              1    0.243731   \n",
       "426895   0.17067          0            1              0    0.243731   \n",
       "\n",
       "        RevLineCr    LowDoc  DisbursementGross  BalanceGross    GrAppv  \\\n",
       "148172   0.152625  0.186815            12500.0           0.0   12500.0   \n",
       "744579   0.152625  0.186815            20000.0           0.0   20000.0   \n",
       "321200   0.152625  0.089154            25000.0           0.0   25000.0   \n",
       "74901    0.251879  0.186815           985500.0           0.0  350000.0   \n",
       "426895   0.152625  0.186815            50000.0           0.0   50000.0   \n",
       "\n",
       "        SBA_Appv  MIS_Status  \n",
       "148172   10625.0           1  \n",
       "744579   10000.0           0  \n",
       "321200   20000.0           0  \n",
       "74901   175000.0           1  \n",
       "426895   25000.0           0  "
      ]
     },
     "execution_count": 12,
     "metadata": {},
     "output_type": "execute_result"
    }
   ],
   "source": [
    "# Target encoder\n",
    "import category_encoders as ce\n",
    "categorical_columns = ['City', 'State', 'Bank', 'BankState', 'RevLineCr', 'LowDoc','NewExist', 'UrbanRural']\n",
    "\n",
    "encoder = ce.TargetEncoder(cols=categorical_columns)\n",
    "encoder.fit(X_train, X_train['MIS_Status'])\n",
    "\n",
    "train_encoded = encoder.transform(X_train)\n",
    "test_encoded = encoder.transform(X_test)\n",
    "\n",
    "# Renaming the columns\n",
    "train_encoded.rename(columns={col: col + \"_trg\" if col in categorical_columns else col for col in train_encoded.columns}, inplace=False)\n",
    "test_encoded.rename(columns={col: col + \"_trg\" if col in categorical_columns else col for col in test_encoded.columns}, inplace=False)\n",
    "\n",
    "train_encoded.head()"
   ]
  },
  {
   "cell_type": "markdown",
   "metadata": {},
   "source": [
    "StandardScaler in scikit-learn is a preprocessing technique that centers and scales numerical features such that they have a mean of zero and a standard deviation of one.\n",
    "\n",
    "We will make use of the StandardScaler, which is used to transform both the training and test data in the same way, ensuring that the features have the same mean and standard deviation in both datasets.\n",
    "\n",
    "Here we will scale it on the training set and transform on both training and testing"
   ]
  },
  {
   "cell_type": "code",
   "execution_count": 13,
   "metadata": {},
   "outputs": [
    {
     "data": {
      "text/html": [
       "<div>\n",
       "<style scoped>\n",
       "    .dataframe tbody tr th:only-of-type {\n",
       "        vertical-align: middle;\n",
       "    }\n",
       "\n",
       "    .dataframe tbody tr th {\n",
       "        vertical-align: top;\n",
       "    }\n",
       "\n",
       "    .dataframe thead th {\n",
       "        text-align: right;\n",
       "    }\n",
       "</style>\n",
       "<table border=\"1\" class=\"dataframe\">\n",
       "  <thead>\n",
       "    <tr style=\"text-align: right;\">\n",
       "      <th></th>\n",
       "      <th>City</th>\n",
       "      <th>State</th>\n",
       "      <th>Zip</th>\n",
       "      <th>Bank</th>\n",
       "      <th>BankState</th>\n",
       "      <th>NAICS</th>\n",
       "      <th>NoEmp</th>\n",
       "      <th>NewExist</th>\n",
       "      <th>CreateJob</th>\n",
       "      <th>RetainedJob</th>\n",
       "      <th>FranchiseCode</th>\n",
       "      <th>UrbanRural</th>\n",
       "      <th>RevLineCr</th>\n",
       "      <th>LowDoc</th>\n",
       "      <th>DisbursementGross</th>\n",
       "      <th>BalanceGross</th>\n",
       "      <th>GrAppv</th>\n",
       "      <th>SBA_Appv</th>\n",
       "      <th>MIS_Status</th>\n",
       "    </tr>\n",
       "  </thead>\n",
       "  <tbody>\n",
       "    <tr>\n",
       "      <th>148172</th>\n",
       "      <td>0.215946</td>\n",
       "      <td>0.165802</td>\n",
       "      <td>45648</td>\n",
       "      <td>0.740692</td>\n",
       "      <td>0.217642</td>\n",
       "      <td>452990</td>\n",
       "      <td>-0.123748</td>\n",
       "      <td>0.17067</td>\n",
       "      <td>-0.026808</td>\n",
       "      <td>-0.036871</td>\n",
       "      <td>0</td>\n",
       "      <td>0.186517</td>\n",
       "      <td>0.152625</td>\n",
       "      <td>0.186815</td>\n",
       "      <td>-0.654946</td>\n",
       "      <td>-0.002095</td>\n",
       "      <td>-0.635102</td>\n",
       "      <td>-0.606817</td>\n",
       "      <td>1</td>\n",
       "    </tr>\n",
       "    <tr>\n",
       "      <th>744579</th>\n",
       "      <td>0.226933</td>\n",
       "      <td>0.165802</td>\n",
       "      <td>43240</td>\n",
       "      <td>0.133135</td>\n",
       "      <td>0.158188</td>\n",
       "      <td>445310</td>\n",
       "      <td>-0.058247</td>\n",
       "      <td>0.17067</td>\n",
       "      <td>-0.035352</td>\n",
       "      <td>-0.045405</td>\n",
       "      <td>0</td>\n",
       "      <td>0.243731</td>\n",
       "      <td>0.152625</td>\n",
       "      <td>0.186815</td>\n",
       "      <td>-0.628851</td>\n",
       "      <td>-0.002095</td>\n",
       "      <td>-0.608622</td>\n",
       "      <td>-0.609553</td>\n",
       "      <td>0</td>\n",
       "    </tr>\n",
       "    <tr>\n",
       "      <th>321200</th>\n",
       "      <td>0.252778</td>\n",
       "      <td>0.196143</td>\n",
       "      <td>21037</td>\n",
       "      <td>0.194430</td>\n",
       "      <td>0.076619</td>\n",
       "      <td>0</td>\n",
       "      <td>-0.110648</td>\n",
       "      <td>0.17067</td>\n",
       "      <td>-0.035352</td>\n",
       "      <td>-0.045405</td>\n",
       "      <td>1</td>\n",
       "      <td>0.070886</td>\n",
       "      <td>0.152625</td>\n",
       "      <td>0.089154</td>\n",
       "      <td>-0.611454</td>\n",
       "      <td>-0.002095</td>\n",
       "      <td>-0.590969</td>\n",
       "      <td>-0.565780</td>\n",
       "      <td>0</td>\n",
       "    </tr>\n",
       "    <tr>\n",
       "      <th>74901</th>\n",
       "      <td>0.275938</td>\n",
       "      <td>0.184227</td>\n",
       "      <td>90071</td>\n",
       "      <td>0.141177</td>\n",
       "      <td>0.178801</td>\n",
       "      <td>541310</td>\n",
       "      <td>0.007255</td>\n",
       "      <td>0.17067</td>\n",
       "      <td>0.015917</td>\n",
       "      <td>0.005801</td>\n",
       "      <td>1</td>\n",
       "      <td>0.243731</td>\n",
       "      <td>0.251879</td>\n",
       "      <td>0.186815</td>\n",
       "      <td>2.730474</td>\n",
       "      <td>-0.002095</td>\n",
       "      <td>0.556485</td>\n",
       "      <td>0.112702</td>\n",
       "      <td>1</td>\n",
       "    </tr>\n",
       "    <tr>\n",
       "      <th>426895</th>\n",
       "      <td>0.057056</td>\n",
       "      <td>0.184227</td>\n",
       "      <td>95037</td>\n",
       "      <td>0.412096</td>\n",
       "      <td>0.380604</td>\n",
       "      <td>561720</td>\n",
       "      <td>-0.136849</td>\n",
       "      <td>0.17067</td>\n",
       "      <td>-0.035352</td>\n",
       "      <td>-0.041138</td>\n",
       "      <td>0</td>\n",
       "      <td>0.243731</td>\n",
       "      <td>0.152625</td>\n",
       "      <td>0.186815</td>\n",
       "      <td>-0.524470</td>\n",
       "      <td>-0.002095</td>\n",
       "      <td>-0.502703</td>\n",
       "      <td>-0.543894</td>\n",
       "      <td>0</td>\n",
       "    </tr>\n",
       "  </tbody>\n",
       "</table>\n",
       "</div>"
      ],
      "text/plain": [
       "            City     State    Zip      Bank  BankState   NAICS     NoEmp  \\\n",
       "148172  0.215946  0.165802  45648  0.740692   0.217642  452990 -0.123748   \n",
       "744579  0.226933  0.165802  43240  0.133135   0.158188  445310 -0.058247   \n",
       "321200  0.252778  0.196143  21037  0.194430   0.076619       0 -0.110648   \n",
       "74901   0.275938  0.184227  90071  0.141177   0.178801  541310  0.007255   \n",
       "426895  0.057056  0.184227  95037  0.412096   0.380604  561720 -0.136849   \n",
       "\n",
       "        NewExist  CreateJob  RetainedJob  FranchiseCode  UrbanRural  \\\n",
       "148172   0.17067  -0.026808    -0.036871              0    0.186517   \n",
       "744579   0.17067  -0.035352    -0.045405              0    0.243731   \n",
       "321200   0.17067  -0.035352    -0.045405              1    0.070886   \n",
       "74901    0.17067   0.015917     0.005801              1    0.243731   \n",
       "426895   0.17067  -0.035352    -0.041138              0    0.243731   \n",
       "\n",
       "        RevLineCr    LowDoc  DisbursementGross  BalanceGross    GrAppv  \\\n",
       "148172   0.152625  0.186815          -0.654946     -0.002095 -0.635102   \n",
       "744579   0.152625  0.186815          -0.628851     -0.002095 -0.608622   \n",
       "321200   0.152625  0.089154          -0.611454     -0.002095 -0.590969   \n",
       "74901    0.251879  0.186815           2.730474     -0.002095  0.556485   \n",
       "426895   0.152625  0.186815          -0.524470     -0.002095 -0.502703   \n",
       "\n",
       "        SBA_Appv  MIS_Status  \n",
       "148172 -0.606817           1  \n",
       "744579 -0.609553           0  \n",
       "321200 -0.565780           0  \n",
       "74901   0.112702           1  \n",
       "426895 -0.543894           0  "
      ]
     },
     "execution_count": 13,
     "metadata": {},
     "output_type": "execute_result"
    }
   ],
   "source": [
    "from sklearn.preprocessing import StandardScaler\n",
    "from copy import deepcopy\n",
    "\n",
    "numerical_columns = [ 'NoEmp', 'CreateJob', 'RetainedJob', 'GrAppv', 'SBA_Appv', 'DisbursementGross', 'BalanceGross']\n",
    "scaler = StandardScaler()\n",
    "train_encoded[numerical_columns] = scaler.fit_transform(train_encoded[numerical_columns])\n",
    "test_encoded[numerical_columns] = scaler.transform(test_encoded[numerical_columns])\n",
    "\n",
    "train_encoded.head()\n"
   ]
  },
  {
   "cell_type": "markdown",
   "metadata": {},
   "source": [
    "We have created Feature extraction by making use of old variables in the following way\n",
    "\n",
    "\n",
    "(1) Log_Disbursement which gives the natural logarithmic form of DisbursementGross variable\n",
    "\n",
    "(2) Log_GrAppv the logarithmic version of the approved loan amount by the bank\n",
    "\n",
    "(3) Log_SBA_Appv, the logarithmic amount of the approved loan that will be assisted by SBA \n",
    "\n",
    "(4) Log_BalanceGross, is the logarithmic amount of total amount in an account or the total value of a financial asset or liability before any deductions or adjustments are made.\n",
    "\n",
    "(5) TotalJobs variable which is an addition of Createjobs(New people recruited) and RetainedJob (workers working before)\n",
    "\n",
    "(6) IncomeToLoan its values are calculated by dividing the 'DisbursementGross' column by the 'SBA_Appv' column for each corresponding row. This ratio can help you analyze the relationship between the amount disbursed and the approved SBA loan amount in terms of income.\n",
    "\n",
    "(7)  EmployeesToLoanRatio, its values are calculated by dividing the 'NoEmp' column (number of employees) by the 'SBA_Appv' column (approved SBA loan amount) for each corresponding row. This ratio can help you analyze the relationship between the number of employees and the size of the SBA loan approved for each entry in the dataset.\n",
    "\n",
    "(8) JobPerLoan, its values are calculated by dividing the 'TotalJobs' column (representing the total number of jobs) by the 'SBA_Appv' column (approved SBA loan amount) for each corresponding row. This ratio can help you analyze the impact of the SBA loan on job creation or support, expressed as the number of jobs per unit of loan amount approved.\n",
    "\n",
    "(9) Gauren_SBA_Appv, Its values are calculated by dividing the 'GrAppv' column (gross amount approved by the lender) by the 'SBA_Appv' column (the approved SBA loan amount) for each corresponding row. This ratio helps you analyze the extent to which the SBA is guaranteeing the loan relative to the total loan amount approved by the lender.\n",
    "\n",
    "(10) DefaultRate, Finally, we create a new feature 'DefaultRate' in the 'train_encoded' DataFrame and set its value to the calculated default rate for the particular group of loans based on the \"MIS_Status\" variable. This feature will represent the percentage of loans in the group that are classified as defaults."
   ]
  },
  {
   "cell_type": "code",
   "execution_count": 14,
   "metadata": {},
   "outputs": [],
   "source": [
    "# Adding Features\n",
    "import numpy as np\n",
    "# Apply the log transformation to the specific feature in your training data\n",
    "#small_constant = 1e-10  # You can adjust this constant as needed\n",
    "# df['LogColumn'] = np.log(df['OriginalColumn'] + small_constant)\n",
    "train_encoded['Log_DisbursementGross'] = np.log1p(train_encoded['DisbursementGross'])\n",
    "train_encoded['Log_GrAppv'] = np.log1p(train_encoded['GrAppv'])\n",
    "train_encoded['Log_SBA_Appv'] = np.log1p(train_encoded['SBA_Appv'])\n",
    "train_encoded['Log_BalanceGross'] = np.log1p(train_encoded['BalanceGross'])\n",
    "train_encoded['TotalJobs'] = train_encoded['CreateJob'] + train_encoded['RetainedJob']\n",
    "#train_encoded['Loan_Efficiency'] = train_encoded['DisbursementGross'] / (train_encoded['CreateJob'] + train_encoded['RetainedJob'] + 1)\n",
    "# Calculate 'LoanToIncomeRatio' as a ratio of 'SBA_Appv' to 'DisbursementGross'\n",
    "train_encoded['IncomeToLoanRatio'] = train_encoded['DisbursementGross'] / train_encoded['SBA_Appv']\n",
    "# Calculate 'LoanToEmployeesRatio' as a ratio of 'SBA_Appv' to 'NoEmp'\n",
    "train_encoded['EmployeesToLoanRatio'] = train_encoded['NoEmp'] / train_encoded['SBA_Appv']\n",
    "# Create a binary feature to indicate loans with a balance ('BalanceGross' > 0)\n",
    "#train_encoded['HasBalance'] = (train_encoded['BalanceGross'] > 0).astype(int)\n",
    "# Calculate 'LoanPerJob' as a ratio of 'SBA_Appv' to 'TotalJobs'\n",
    "train_encoded['JobPerLoan'] = train_encoded['TotalJobs'] / train_encoded['SBA_Appv'] \n",
    "# Calculate SBA's Gaurenteed Portion of Approved Loan\n",
    "train_encoded['Gauren_SBA_Appv'] = train_encoded['GrAppv'] / train_encoded['SBA_Appv']\n",
    "# Filter the DataFrame to include only the relevant rows\n",
    "default_group = train_encoded[train_encoded['MIS_Status'].isin([0, 1])]\n",
    "# Calculate the total number of loans in the filtered group\n",
    "total_loans = len(default_group)\n",
    "# Calculate the number of defaults (CHGOFF) in the filtered group\n",
    "default_loans = len(default_group[default_group['MIS_Status'] == 1])\n",
    "# Calculate the default rate as a percentage\n",
    "default_rate = (default_loans / total_loans) * 100\n",
    "# Create a new feature 'DefaultRate' with the calculated default rate\n",
    "train_encoded['DefaultRate'] = default_rate"
   ]
  },
  {
   "cell_type": "code",
   "execution_count": 15,
   "metadata": {},
   "outputs": [],
   "source": [
    "# Adding Features\n",
    "import numpy as np\n",
    "# Apply the log transformation to the specific feature in your training data\n",
    "#small_constant = 1e-10  # You can adjust this constant as needed\n",
    "# df['LogColumn'] = np.log(df['OriginalColumn'] + small_constant)\n",
    "test_encoded['Log_DisbursementGross'] = np.log1p(test_encoded['DisbursementGross'])\n",
    "test_encoded['Log_GrAppv'] = np.log1p(test_encoded['GrAppv'])\n",
    "test_encoded['Log_SBA_Appv'] = np.log1p(test_encoded['SBA_Appv'])\n",
    "test_encoded['Log_BalanceGross'] = np.log1p(test_encoded['BalanceGross'])\n",
    "test_encoded['TotalJobs'] = test_encoded['CreateJob'] + test_encoded['RetainedJob']\n",
    "#train_encoded['Loan_Efficiency'] = train_encoded['DisbursementGross'] / (train_encoded['CreateJob'] + train_encoded['RetainedJob'] + 1)\n",
    "# Calculate 'LoanToIncomeRatio' as a ratio of 'SBA_Appv' to 'DisbursementGross'\n",
    "test_encoded['IncomeToLoanRatio'] = test_encoded['DisbursementGross'] / test_encoded['SBA_Appv']\n",
    "# Calculate 'LoanToEmployeesRatio' as a ratio of 'SBA_Appv' to 'NoEmp'\n",
    "test_encoded['EmployeesToLoanRatio'] = test_encoded['NoEmp'] / test_encoded['SBA_Appv']\n",
    "# Create a binary feature to indicate loans with a balance ('BalanceGross' > 0)\n",
    "#train_encoded['HasBalance'] = (train_encoded['BalanceGross'] > 0).astype(int)\n",
    "# Calculate 'LoanPerJob' as a ratio of 'SBA_Appv' to 'TotalJobs'\n",
    "test_encoded['JobPerLoan'] = test_encoded['TotalJobs'] / test_encoded['SBA_Appv'] \n",
    "# Calculate SBA's Gaurenteed Portion of Approved Loan\n",
    "test_encoded['Gauren_SBA_Appv'] = test_encoded['GrAppv'] / test_encoded['SBA_Appv']\n",
    "# Filter the DataFrame to include only the relevant rows\n",
    "default_group = test_encoded[test_encoded['MIS_Status'].isin([0, 1])]\n",
    "# Calculate the total number of loans in the filtered group\n",
    "total_loans = len(default_group)\n",
    "# Calculate the number of defaults (CHGOFF) in the filtered group\n",
    "default_loans = len(default_group[default_group['MIS_Status'] == 1])\n",
    "# Calculate the default rate as a percentage\n",
    "default_rate = (default_loans / total_loans) * 100\n",
    "# Create a new feature 'DefaultRate' with the calculated default rate\n",
    "test_encoded['DefaultRate'] = default_rate"
   ]
  },
  {
   "cell_type": "code",
   "execution_count": 16,
   "metadata": {},
   "outputs": [
    {
     "data": {
      "text/plain": [
       "Index(['City', 'State', 'Zip', 'Bank', 'BankState', 'NAICS', 'NoEmp',\n",
       "       'NewExist', 'CreateJob', 'RetainedJob', 'FranchiseCode', 'UrbanRural',\n",
       "       'RevLineCr', 'LowDoc', 'DisbursementGross', 'BalanceGross', 'GrAppv',\n",
       "       'SBA_Appv', 'MIS_Status', 'Log_DisbursementGross', 'Log_GrAppv',\n",
       "       'Log_SBA_Appv', 'Log_BalanceGross', 'TotalJobs', 'IncomeToLoanRatio',\n",
       "       'EmployeesToLoanRatio', 'JobPerLoan', 'Gauren_SBA_Appv', 'DefaultRate'],\n",
       "      dtype='object')"
      ]
     },
     "execution_count": 16,
     "metadata": {},
     "output_type": "execute_result"
    }
   ],
   "source": [
    "train_encoded.columns"
   ]
  },
  {
   "cell_type": "code",
   "execution_count": 17,
   "metadata": {},
   "outputs": [],
   "source": [
    "X_train = train_encoded.copy()\n",
    "X_test = test_encoded.copy()"
   ]
  },
  {
   "cell_type": "code",
   "execution_count": 18,
   "metadata": {},
   "outputs": [],
   "source": [
    "y_train = X_train['MIS_Status']\n",
    "X_train.drop(columns='MIS_Status', axis=1, inplace=True)\n",
    "y_test = X_test['MIS_Status']\n",
    "X_test.drop(columns='MIS_Status', axis=1, inplace=True)\n"
   ]
  },
  {
   "cell_type": "code",
   "execution_count": 19,
   "metadata": {},
   "outputs": [],
   "source": [
    "import lightgbm as lgb\n",
    "from sklearn.metrics import roc_auc_score\n",
    "\n",
    "train_data = lgb.Dataset(data=X_train, label=y_train, params={\"verbose\":-1})\n",
    "test_data = lgb.Dataset(data=X_test, label=y_test, params={\"verbose\":-1})\n",
    "lgb_clf = lgb.train(params={\"verbose\":-1},\n",
    "                    train_set=train_data)"
   ]
  },
  {
   "cell_type": "code",
   "execution_count": 20,
   "metadata": {},
   "outputs": [
    {
     "name": "stdout",
     "output_type": "stream",
     "text": [
      "AUC score on Test dataset: 0.8205511277259651\n",
      "AUC score on Train dataset: 0.8468756526040521\n"
     ]
    }
   ],
   "source": [
    "from sklearn.metrics import roc_auc_score\n",
    "print(\"AUC score on Test dataset:\", roc_auc_score(y_test, lgb_clf.predict(X_test)))\n",
    "print(\"AUC score on Train dataset:\", roc_auc_score(y_train, lgb_clf.predict(X_train)))"
   ]
  },
  {
   "cell_type": "code",
   "execution_count": 21,
   "metadata": {},
   "outputs": [],
   "source": [
    "from optuna.integration import LightGBMPruningCallback\n",
    "import tqdm as notebook_tqdm\n",
    "from sklearn.model_selection import StratifiedKFold\n",
    "import lightgbm as lgb\n",
    "from sklearn.metrics import roc_auc_score\n",
    "import matplotlib.pyplot as plt\n",
    "import optuna\n",
    "import warnings\n",
    "\n",
    "warnings.filterwarnings(\"ignore\", category=UserWarning)\n",
    "study_model_iteractions = {}\n",
    "\n",
    "def objective(trial, X, y):\n",
    "    param_grid = {\n",
    "        # Refer to the Official guide : https://lightgbm.readthedocs.io/en/latest/Parameters-Tuning.html\n",
    "        \"num_iterations\": 10000,\n",
    "        \"num_threads\": 16,\n",
    "        \"learning_rate\": trial.suggest_float(\"learning_rate\", 1e-1, 0.8, log=True),\n",
    "        #\"num_leaves\": trial.suggest_int(\"num_leaves\", 50, 150, step=5),\n",
    "        \"num_leaves\": trial.suggest_int(\"num_leaves\", 20, 700, step=10),\n",
    "        #\"num_leaves\": trial.suggest_int(\"num_leaves\", 2, 2**8, step=2),\n",
    "        \"max_depth\": trial.suggest_int(\"max_depth\", 10, 17, step=2),\n",
    "        #\"max_depth\": trial.suggest_int(\"max_depth\", 3, 12),\n",
    "        \"min_data_in_leaf\": trial.suggest_int(\"min_data_in_leaf\", 100, 1000, step=100),\n",
    "        ##############################\n",
    "        'lambda_l1': trial.suggest_float('lambda_l1', 1e-1, 10.0, log=True),\n",
    "        'lambda_l2': trial.suggest_float('lambda_l2', 1e-1, 10.0, log=True),\n",
    "        #\"lambda_l1\": trial.suggest_int(\"lambda_l1\", 0, 100, step=5),\n",
    "        #\"lambda_l2\": trial.suggest_int(\"lambda_l2\", 0, 100, step=5),\n",
    "        #\"lambda_l1\": trial.suggest_float(\"lambda_l1\", 0.01, 0.1, step=0.01),\n",
    "        #\"lambda_l2\": trial.suggest_float(\"lambda_l2\", 0.01, 0.1, step=0.01),\n",
    "        ########################\n",
    "        \"bagging_fraction\": trial.suggest_float(\"bagging_fraction\", 0.8, 1.0, step=0.1),\n",
    "        \"bagging_freq\": trial.suggest_categorical(\"bagging_freq\", [5]),\n",
    "        #\"bagging_freq\": 1,\n",
    "        \"feature_fraction\": trial.suggest_float(\"feature_fraction\", 0.8, 1.0, step=0.1),\n",
    "        #######################\n",
    "        \"is_unbalance\": trial.suggest_categorical(\"is_unbalance\",[True, False]),\n",
    "        ########################\n",
    "        \"verbose\": -1,\n",
    "        \"objective\":\"binary\",\n",
    "        \"metric\":\"auc\",\n",
    "        \"num_threads\": 16\n",
    "    }\n",
    "\n",
    "    cv = StratifiedKFold(n_splits=5, shuffle=True, random_state=1121218)\n",
    "\n",
    "    cv_scores = np.empty(5)\n",
    "    cv_iteractions = np.empty(5)\n",
    "    for idx, (train_idx, test_idx) in enumerate(cv.split(X, y)):\n",
    "        X_train, X_test = X.iloc[train_idx], X.iloc[test_idx]\n",
    "        y_train, y_test = y.iloc[train_idx], y.iloc[test_idx]\n",
    "\n",
    "        train_data = lgb.Dataset(data=X_train, label=y_train, params={\"verbose\":-1}, categorical_feature=categorical_columns)\n",
    "        valid_data = lgb.Dataset(data=X_test, label=y_test, params={\"verbose\":-1}, categorical_feature=categorical_columns)\n",
    "        lgb_clf = lgb.train(params=param_grid,\n",
    "                            train_set=train_data,\n",
    "                            valid_sets=[valid_data],\n",
    "                            categorical_feature=categorical_columns,\n",
    "                            callbacks=[LightGBMPruningCallback(trial, \"auc\"),\n",
    "                                        lgb.early_stopping(stopping_rounds=5)]  \n",
    "                            )\n",
    "        preds = lgb_clf.predict(X_test)\n",
    "        cv_scores[idx] = roc_auc_score(y_test, preds)\n",
    "        cv_iteractions[idx] = lgb_clf.best_iteration\n",
    "    \n",
    "    study_model_iteractions[trial.number] = np.mean(cv_iteractions)\n",
    "\n",
    "    return np.mean(cv_scores)"
   ]
  },
  {
   "cell_type": "code",
   "execution_count": 22,
   "metadata": {},
   "outputs": [
    {
     "name": "stderr",
     "output_type": "stream",
     "text": [
      "[I 2023-12-09 18:45:13,118] A new study created in memory with name: LGBM Classifier\n"
     ]
    },
    {
     "name": "stdout",
     "output_type": "stream",
     "text": [
      "Training until validation scores don't improve for 5 rounds\n",
      "Early stopping, best iteration is:\n",
      "[111]\tvalid_0's auc: 0.802299\n",
      "Training until validation scores don't improve for 5 rounds\n",
      "Early stopping, best iteration is:\n",
      "[53]\tvalid_0's auc: 0.799285\n",
      "Training until validation scores don't improve for 5 rounds\n",
      "Early stopping, best iteration is:\n",
      "[66]\tvalid_0's auc: 0.803019\n",
      "Training until validation scores don't improve for 5 rounds\n",
      "Early stopping, best iteration is:\n",
      "[77]\tvalid_0's auc: 0.800403\n",
      "Training until validation scores don't improve for 5 rounds\n"
     ]
    },
    {
     "name": "stderr",
     "output_type": "stream",
     "text": [
      "[I 2023-12-09 18:45:25,790] Trial 0 finished with value: 0.8015467028655443 and parameters: {'learning_rate': 0.2106903459598976, 'num_leaves': 360, 'max_depth': 12, 'min_data_in_leaf': 1000, 'lambda_l1': 4.359772146729794, 'lambda_l2': 0.4241204204081176, 'bagging_fraction': 0.9, 'bagging_freq': 5, 'feature_fraction': 1.0, 'is_unbalance': True}. Best is trial 0 with value: 0.8015467028655443.\n"
     ]
    },
    {
     "name": "stdout",
     "output_type": "stream",
     "text": [
      "Early stopping, best iteration is:\n",
      "[84]\tvalid_0's auc: 0.802728\n",
      "Training until validation scores don't improve for 5 rounds\n",
      "Early stopping, best iteration is:\n",
      "[50]\tvalid_0's auc: 0.800473\n",
      "Training until validation scores don't improve for 5 rounds\n",
      "Early stopping, best iteration is:\n",
      "[40]\tvalid_0's auc: 0.799726\n",
      "Training until validation scores don't improve for 5 rounds\n",
      "Early stopping, best iteration is:\n",
      "[28]\tvalid_0's auc: 0.802331\n",
      "Training until validation scores don't improve for 5 rounds\n",
      "Early stopping, best iteration is:\n",
      "[45]\tvalid_0's auc: 0.799948\n",
      "Training until validation scores don't improve for 5 rounds\n"
     ]
    },
    {
     "name": "stderr",
     "output_type": "stream",
     "text": [
      "[I 2023-12-09 18:45:36,866] Trial 1 finished with value: 0.8009005693923044 and parameters: {'learning_rate': 0.38399305172671516, 'num_leaves': 500, 'max_depth': 14, 'min_data_in_leaf': 400, 'lambda_l1': 8.637770162338423, 'lambda_l2': 1.146064183188825, 'bagging_fraction': 0.9, 'bagging_freq': 5, 'feature_fraction': 1.0, 'is_unbalance': False}. Best is trial 0 with value: 0.8015467028655443.\n"
     ]
    },
    {
     "name": "stdout",
     "output_type": "stream",
     "text": [
      "Early stopping, best iteration is:\n",
      "[39]\tvalid_0's auc: 0.802024\n",
      "Training until validation scores don't improve for 5 rounds\n",
      "Early stopping, best iteration is:\n",
      "[54]\tvalid_0's auc: 0.799557\n",
      "Training until validation scores don't improve for 5 rounds\n",
      "Early stopping, best iteration is:\n",
      "[60]\tvalid_0's auc: 0.7986\n",
      "Training until validation scores don't improve for 5 rounds\n",
      "Early stopping, best iteration is:\n",
      "[63]\tvalid_0's auc: 0.801799\n",
      "Training until validation scores don't improve for 5 rounds\n",
      "Early stopping, best iteration is:\n",
      "[34]\tvalid_0's auc: 0.797557\n",
      "Training until validation scores don't improve for 5 rounds\n"
     ]
    },
    {
     "name": "stderr",
     "output_type": "stream",
     "text": [
      "[I 2023-12-09 18:45:47,134] Trial 2 finished with value: 0.7993980754253112 and parameters: {'learning_rate': 0.29792216471386607, 'num_leaves': 320, 'max_depth': 12, 'min_data_in_leaf': 1000, 'lambda_l1': 1.3788275534527148, 'lambda_l2': 0.8180165430576533, 'bagging_fraction': 0.8, 'bagging_freq': 5, 'feature_fraction': 1.0, 'is_unbalance': True}. Best is trial 0 with value: 0.8015467028655443.\n"
     ]
    },
    {
     "name": "stdout",
     "output_type": "stream",
     "text": [
      "Early stopping, best iteration is:\n",
      "[43]\tvalid_0's auc: 0.799477\n",
      "Training until validation scores don't improve for 5 rounds\n",
      "Early stopping, best iteration is:\n",
      "[25]\tvalid_0's auc: 0.798546\n",
      "Training until validation scores don't improve for 5 rounds\n",
      "Early stopping, best iteration is:\n",
      "[22]\tvalid_0's auc: 0.795941\n",
      "Training until validation scores don't improve for 5 rounds\n",
      "Early stopping, best iteration is:\n",
      "[23]\tvalid_0's auc: 0.798294\n",
      "Training until validation scores don't improve for 5 rounds\n",
      "Early stopping, best iteration is:\n",
      "[22]\tvalid_0's auc: 0.79638\n",
      "Training until validation scores don't improve for 5 rounds\n"
     ]
    },
    {
     "name": "stderr",
     "output_type": "stream",
     "text": [
      "[I 2023-12-09 18:45:53,721] Trial 3 finished with value: 0.7978253908618247 and parameters: {'learning_rate': 0.47825791380396154, 'num_leaves': 670, 'max_depth': 14, 'min_data_in_leaf': 500, 'lambda_l1': 0.5470364053453891, 'lambda_l2': 3.972471861156239, 'bagging_fraction': 1.0, 'bagging_freq': 5, 'feature_fraction': 1.0, 'is_unbalance': True}. Best is trial 0 with value: 0.8015467028655443.\n"
     ]
    },
    {
     "name": "stdout",
     "output_type": "stream",
     "text": [
      "Early stopping, best iteration is:\n",
      "[28]\tvalid_0's auc: 0.799966\n",
      "Training until validation scores don't improve for 5 rounds\n",
      "Early stopping, best iteration is:\n",
      "[48]\tvalid_0's auc: 0.800247\n",
      "Training until validation scores don't improve for 5 rounds\n",
      "Early stopping, best iteration is:\n",
      "[43]\tvalid_0's auc: 0.799528\n",
      "Training until validation scores don't improve for 5 rounds\n",
      "Early stopping, best iteration is:\n",
      "[46]\tvalid_0's auc: 0.802154\n",
      "Training until validation scores don't improve for 5 rounds\n",
      "Early stopping, best iteration is:\n",
      "[34]\tvalid_0's auc: 0.799762\n",
      "Training until validation scores don't improve for 5 rounds\n",
      "Early stopping, best iteration is:\n",
      "[56]\tvalid_0's auc: 0.801932\n"
     ]
    },
    {
     "name": "stderr",
     "output_type": "stream",
     "text": [
      "[I 2023-12-09 18:46:04,465] Trial 4 finished with value: 0.8007245609134062 and parameters: {'learning_rate': 0.31098879370985943, 'num_leaves': 310, 'max_depth': 14, 'min_data_in_leaf': 500, 'lambda_l1': 3.122123174800838, 'lambda_l2': 0.20553579336223096, 'bagging_fraction': 0.9, 'bagging_freq': 5, 'feature_fraction': 0.9, 'is_unbalance': True}. Best is trial 0 with value: 0.8015467028655443.\n"
     ]
    },
    {
     "name": "stdout",
     "output_type": "stream",
     "text": [
      "Training until validation scores don't improve for 5 rounds\n",
      "Early stopping, best iteration is:\n",
      "[10]\tvalid_0's auc: 0.797469\n",
      "Training until validation scores don't improve for 5 rounds\n",
      "Early stopping, best iteration is:\n",
      "[13]\tvalid_0's auc: 0.797665\n",
      "Training until validation scores don't improve for 5 rounds\n",
      "Early stopping, best iteration is:\n",
      "[10]\tvalid_0's auc: 0.800718\n",
      "Training until validation scores don't improve for 5 rounds\n",
      "Early stopping, best iteration is:\n",
      "[14]\tvalid_0's auc: 0.796367\n",
      "Training until validation scores don't improve for 5 rounds\n"
     ]
    },
    {
     "name": "stderr",
     "output_type": "stream",
     "text": [
      "[I 2023-12-09 18:46:10,769] Trial 5 finished with value: 0.7981971546730144 and parameters: {'learning_rate': 0.488593057901147, 'num_leaves': 350, 'max_depth': 16, 'min_data_in_leaf': 100, 'lambda_l1': 0.46682784621438106, 'lambda_l2': 1.9529745555237905, 'bagging_fraction': 0.9, 'bagging_freq': 5, 'feature_fraction': 0.9, 'is_unbalance': False}. Best is trial 0 with value: 0.8015467028655443.\n"
     ]
    },
    {
     "name": "stdout",
     "output_type": "stream",
     "text": [
      "Early stopping, best iteration is:\n",
      "[12]\tvalid_0's auc: 0.798767\n"
     ]
    },
    {
     "name": "stderr",
     "output_type": "stream",
     "text": [
      "[I 2023-12-09 18:46:11,348] Trial 6 pruned. Trial was pruned at iteration 0.\n",
      "[I 2023-12-09 18:46:11,864] Trial 7 pruned. Trial was pruned at iteration 0.\n",
      "[I 2023-12-09 18:46:12,381] Trial 8 pruned. Trial was pruned at iteration 0.\n"
     ]
    },
    {
     "name": "stdout",
     "output_type": "stream",
     "text": [
      "Training until validation scores don't improve for 5 rounds\n"
     ]
    },
    {
     "name": "stderr",
     "output_type": "stream",
     "text": [
      "[I 2023-12-09 18:46:14,297] Trial 9 pruned. Trial was pruned at iteration 30.\n",
      "[I 2023-12-09 18:46:14,872] Trial 10 pruned. Trial was pruned at iteration 0.\n",
      "[I 2023-12-09 18:46:15,485] Trial 11 pruned. Trial was pruned at iteration 0.\n",
      "[I 2023-12-09 18:46:16,236] Trial 12 pruned. Trial was pruned at iteration 0.\n",
      "[I 2023-12-09 18:46:16,840] Trial 13 pruned. Trial was pruned at iteration 1.\n"
     ]
    },
    {
     "name": "stdout",
     "output_type": "stream",
     "text": [
      "Training until validation scores don't improve for 5 rounds\n"
     ]
    },
    {
     "name": "stderr",
     "output_type": "stream",
     "text": [
      "[I 2023-12-09 18:46:17,395] Trial 14 pruned. Trial was pruned at iteration 0.\n",
      "[I 2023-12-09 18:46:17,927] Trial 15 pruned. Trial was pruned at iteration 0.\n",
      "[I 2023-12-09 18:46:18,452] Trial 16 pruned. Trial was pruned at iteration 0.\n",
      "[I 2023-12-09 18:46:19,053] Trial 17 pruned. Trial was pruned at iteration 0.\n",
      "[I 2023-12-09 18:46:19,664] Trial 18 pruned. Trial was pruned at iteration 0.\n",
      "[I 2023-12-09 18:46:20,380] Trial 19 pruned. Trial was pruned at iteration 1.\n"
     ]
    },
    {
     "name": "stdout",
     "output_type": "stream",
     "text": [
      "Training until validation scores don't improve for 5 rounds\n"
     ]
    },
    {
     "name": "stderr",
     "output_type": "stream",
     "text": [
      "[I 2023-12-09 18:46:21,072] Trial 20 pruned. Trial was pruned at iteration 1.\n"
     ]
    },
    {
     "name": "stdout",
     "output_type": "stream",
     "text": [
      "Training until validation scores don't improve for 5 rounds\n"
     ]
    },
    {
     "name": "stderr",
     "output_type": "stream",
     "text": [
      "[I 2023-12-09 18:46:21,701] Trial 21 pruned. Trial was pruned at iteration 0.\n",
      "[I 2023-12-09 18:46:22,344] Trial 22 pruned. Trial was pruned at iteration 0.\n"
     ]
    },
    {
     "name": "stdout",
     "output_type": "stream",
     "text": [
      "Training until validation scores don't improve for 5 rounds\n"
     ]
    },
    {
     "name": "stderr",
     "output_type": "stream",
     "text": [
      "[I 2023-12-09 18:46:24,172] Trial 23 pruned. Trial was pruned at iteration 32.\n",
      "[I 2023-12-09 18:46:24,741] Trial 24 pruned. Trial was pruned at iteration 0.\n",
      "[I 2023-12-09 18:46:25,244] Trial 25 pruned. Trial was pruned at iteration 0.\n"
     ]
    },
    {
     "name": "stdout",
     "output_type": "stream",
     "text": [
      "Training until validation scores don't improve for 5 rounds\n",
      "Early stopping, best iteration is:\n",
      "[35]\tvalid_0's auc: 0.801253\n",
      "Training until validation scores don't improve for 5 rounds\n",
      "Early stopping, best iteration is:\n",
      "[25]\tvalid_0's auc: 0.799869\n",
      "Training until validation scores don't improve for 5 rounds\n",
      "Early stopping, best iteration is:\n",
      "[21]\tvalid_0's auc: 0.803438\n",
      "Training until validation scores don't improve for 5 rounds\n",
      "Early stopping, best iteration is:\n",
      "[30]\tvalid_0's auc: 0.799845\n",
      "Training until validation scores don't improve for 5 rounds\n"
     ]
    },
    {
     "name": "stderr",
     "output_type": "stream",
     "text": [
      "[I 2023-12-09 18:46:33,048] Trial 26 finished with value: 0.8014325090743206 and parameters: {'learning_rate': 0.3328455827053036, 'num_leaves': 390, 'max_depth': 14, 'min_data_in_leaf': 200, 'lambda_l1': 3.0903214961544485, 'lambda_l2': 0.6445219939558572, 'bagging_fraction': 1.0, 'bagging_freq': 5, 'feature_fraction': 1.0, 'is_unbalance': True}. Best is trial 0 with value: 0.8015467028655443.\n"
     ]
    },
    {
     "name": "stdout",
     "output_type": "stream",
     "text": [
      "Early stopping, best iteration is:\n",
      "[27]\tvalid_0's auc: 0.802758\n",
      "Training until validation scores don't improve for 5 rounds\n",
      "Early stopping, best iteration is:\n",
      "[41]\tvalid_0's auc: 0.803014\n",
      "Training until validation scores don't improve for 5 rounds\n",
      "Early stopping, best iteration is:\n",
      "[37]\tvalid_0's auc: 0.801812\n",
      "Training until validation scores don't improve for 5 rounds\n",
      "Early stopping, best iteration is:\n",
      "[39]\tvalid_0's auc: 0.804651\n",
      "Training until validation scores don't improve for 5 rounds\n",
      "Early stopping, best iteration is:\n",
      "[36]\tvalid_0's auc: 0.801547\n",
      "Training until validation scores don't improve for 5 rounds\n"
     ]
    },
    {
     "name": "stderr",
     "output_type": "stream",
     "text": [
      "[I 2023-12-09 18:46:43,661] Trial 27 finished with value: 0.8030013520578982 and parameters: {'learning_rate': 0.20783289908069005, 'num_leaves': 500, 'max_depth': 16, 'min_data_in_leaf': 200, 'lambda_l1': 1.9005299148612018, 'lambda_l2': 1.185696190386302, 'bagging_fraction': 1.0, 'bagging_freq': 5, 'feature_fraction': 1.0, 'is_unbalance': True}. Best is trial 27 with value: 0.8030013520578982.\n"
     ]
    },
    {
     "name": "stdout",
     "output_type": "stream",
     "text": [
      "Early stopping, best iteration is:\n",
      "[36]\tvalid_0's auc: 0.803983\n",
      "Training until validation scores don't improve for 5 rounds\n",
      "Early stopping, best iteration is:\n",
      "[41]\tvalid_0's auc: 0.803084\n",
      "Training until validation scores don't improve for 5 rounds\n",
      "Early stopping, best iteration is:\n",
      "[33]\tvalid_0's auc: 0.802335\n",
      "Training until validation scores don't improve for 5 rounds\n",
      "Early stopping, best iteration is:\n",
      "[39]\tvalid_0's auc: 0.805152\n",
      "Training until validation scores don't improve for 5 rounds\n",
      "Early stopping, best iteration is:\n",
      "[47]\tvalid_0's auc: 0.80182\n",
      "Training until validation scores don't improve for 5 rounds\n"
     ]
    },
    {
     "name": "stderr",
     "output_type": "stream",
     "text": [
      "[I 2023-12-09 18:46:54,688] Trial 28 finished with value: 0.8034758542208348 and parameters: {'learning_rate': 0.20668077163335938, 'num_leaves': 380, 'max_depth': 16, 'min_data_in_leaf': 200, 'lambda_l1': 1.6468400748799057, 'lambda_l2': 0.626430742906075, 'bagging_fraction': 1.0, 'bagging_freq': 5, 'feature_fraction': 1.0, 'is_unbalance': True}. Best is trial 28 with value: 0.8034758542208348.\n"
     ]
    },
    {
     "name": "stdout",
     "output_type": "stream",
     "text": [
      "Early stopping, best iteration is:\n",
      "[47]\tvalid_0's auc: 0.804989\n"
     ]
    },
    {
     "name": "stderr",
     "output_type": "stream",
     "text": [
      "[I 2023-12-09 18:46:55,326] Trial 29 pruned. Trial was pruned at iteration 3.\n"
     ]
    },
    {
     "name": "stdout",
     "output_type": "stream",
     "text": [
      "Training until validation scores don't improve for 5 rounds\n",
      "Training until validation scores don't improve for 5 rounds\n"
     ]
    },
    {
     "name": "stderr",
     "output_type": "stream",
     "text": [
      "[I 2023-12-09 18:46:56,282] Trial 30 pruned. Trial was pruned at iteration 9.\n",
      "[I 2023-12-09 18:46:56,936] Trial 31 pruned. Trial was pruned at iteration 3.\n"
     ]
    },
    {
     "name": "stdout",
     "output_type": "stream",
     "text": [
      "Training until validation scores don't improve for 5 rounds\n",
      "Training until validation scores don't improve for 5 rounds\n",
      "Early stopping, best iteration is:\n",
      "[29]\tvalid_0's auc: 0.801721\n",
      "Training until validation scores don't improve for 5 rounds\n",
      "Early stopping, best iteration is:\n",
      "[26]\tvalid_0's auc: 0.801513\n",
      "Training until validation scores don't improve for 5 rounds\n",
      "Early stopping, best iteration is:\n",
      "[34]\tvalid_0's auc: 0.803834\n",
      "Training until validation scores don't improve for 5 rounds\n",
      "Early stopping, best iteration is:\n",
      "[42]\tvalid_0's auc: 0.801025\n",
      "Training until validation scores don't improve for 5 rounds\n"
     ]
    },
    {
     "name": "stderr",
     "output_type": "stream",
     "text": [
      "[I 2023-12-09 18:47:06,022] Trial 32 finished with value: 0.8023101145519146 and parameters: {'learning_rate': 0.2690798187072678, 'num_leaves': 390, 'max_depth': 16, 'min_data_in_leaf': 200, 'lambda_l1': 0.9262213598655983, 'lambda_l2': 0.6913207845934624, 'bagging_fraction': 1.0, 'bagging_freq': 5, 'feature_fraction': 1.0, 'is_unbalance': True}. Best is trial 28 with value: 0.8034758542208348.\n"
     ]
    },
    {
     "name": "stdout",
     "output_type": "stream",
     "text": [
      "Early stopping, best iteration is:\n",
      "[30]\tvalid_0's auc: 0.803458\n",
      "Training until validation scores don't improve for 5 rounds\n",
      "Early stopping, best iteration is:\n",
      "[28]\tvalid_0's auc: 0.801145\n",
      "Training until validation scores don't improve for 5 rounds\n",
      "Early stopping, best iteration is:\n",
      "[36]\tvalid_0's auc: 0.800609\n",
      "Training until validation scores don't improve for 5 rounds\n",
      "Early stopping, best iteration is:\n",
      "[25]\tvalid_0's auc: 0.802513\n",
      "Training until validation scores don't improve for 5 rounds\n",
      "Early stopping, best iteration is:\n",
      "[25]\tvalid_0's auc: 0.799922\n",
      "Training until validation scores don't improve for 5 rounds\n"
     ]
    },
    {
     "name": "stderr",
     "output_type": "stream",
     "text": [
      "[I 2023-12-09 18:47:14,905] Trial 33 finished with value: 0.8014396841659597 and parameters: {'learning_rate': 0.2712292967701192, 'num_leaves': 460, 'max_depth': 16, 'min_data_in_leaf': 300, 'lambda_l1': 0.6865377925496994, 'lambda_l2': 0.7001717156605557, 'bagging_fraction': 1.0, 'bagging_freq': 5, 'feature_fraction': 1.0, 'is_unbalance': True}. Best is trial 28 with value: 0.8034758542208348.\n"
     ]
    },
    {
     "name": "stdout",
     "output_type": "stream",
     "text": [
      "Early stopping, best iteration is:\n",
      "[26]\tvalid_0's auc: 0.803009\n",
      "Training until validation scores don't improve for 5 rounds\n",
      "Early stopping, best iteration is:\n",
      "[41]\tvalid_0's auc: 0.803042\n",
      "Training until validation scores don't improve for 5 rounds\n",
      "Early stopping, best iteration is:\n",
      "[39]\tvalid_0's auc: 0.801559\n",
      "Training until validation scores don't improve for 5 rounds\n",
      "Early stopping, best iteration is:\n",
      "[31]\tvalid_0's auc: 0.803848\n",
      "Training until validation scores don't improve for 5 rounds\n",
      "Early stopping, best iteration is:\n",
      "[37]\tvalid_0's auc: 0.801187\n",
      "Training until validation scores don't improve for 5 rounds\n",
      "Early stopping, best iteration is:\n",
      "[43]\tvalid_0's auc: 0.804368\n"
     ]
    },
    {
     "name": "stderr",
     "output_type": "stream",
     "text": [
      "[I 2023-12-09 18:47:27,082] Trial 34 finished with value: 0.8028007991847733 and parameters: {'learning_rate': 0.18945727432659995, 'num_leaves': 530, 'max_depth': 16, 'min_data_in_leaf': 100, 'lambda_l1': 1.0292837575764333, 'lambda_l2': 0.9126698852762456, 'bagging_fraction': 1.0, 'bagging_freq': 5, 'feature_fraction': 1.0, 'is_unbalance': True}. Best is trial 28 with value: 0.8034758542208348.\n"
     ]
    },
    {
     "name": "stdout",
     "output_type": "stream",
     "text": [
      "Training until validation scores don't improve for 5 rounds\n"
     ]
    },
    {
     "name": "stderr",
     "output_type": "stream",
     "text": [
      "[I 2023-12-09 18:47:28,038] Trial 35 pruned. Trial was pruned at iteration 11.\n"
     ]
    },
    {
     "name": "stdout",
     "output_type": "stream",
     "text": [
      "Training until validation scores don't improve for 5 rounds\n"
     ]
    },
    {
     "name": "stderr",
     "output_type": "stream",
     "text": [
      "[I 2023-12-09 18:47:28,772] Trial 36 pruned. Trial was pruned at iteration 5.\n"
     ]
    },
    {
     "name": "stdout",
     "output_type": "stream",
     "text": [
      "Training until validation scores don't improve for 5 rounds\n",
      "Early stopping, best iteration is:\n",
      "[28]\tvalid_0's auc: 0.802868\n",
      "Training until validation scores don't improve for 5 rounds\n",
      "Early stopping, best iteration is:\n",
      "[30]\tvalid_0's auc: 0.801439\n",
      "Training until validation scores don't improve for 5 rounds\n",
      "Early stopping, best iteration is:\n",
      "[27]\tvalid_0's auc: 0.80358\n",
      "Training until validation scores don't improve for 5 rounds\n",
      "Early stopping, best iteration is:\n",
      "[23]\tvalid_0's auc: 0.800197\n",
      "Training until validation scores don't improve for 5 rounds\n"
     ]
    },
    {
     "name": "stderr",
     "output_type": "stream",
     "text": [
      "[I 2023-12-09 18:47:36,420] Trial 37 finished with value: 0.8024268781683042 and parameters: {'learning_rate': 0.2778147364959066, 'num_leaves': 340, 'max_depth': 16, 'min_data_in_leaf': 100, 'lambda_l1': 0.9209892229396415, 'lambda_l2': 0.8192650327716957, 'bagging_fraction': 1.0, 'bagging_freq': 5, 'feature_fraction': 1.0, 'is_unbalance': True}. Best is trial 28 with value: 0.8034758542208348.\n"
     ]
    },
    {
     "name": "stdout",
     "output_type": "stream",
     "text": [
      "Early stopping, best iteration is:\n",
      "[38]\tvalid_0's auc: 0.80405\n",
      "Training until validation scores don't improve for 5 rounds\n"
     ]
    },
    {
     "name": "stderr",
     "output_type": "stream",
     "text": [
      "[I 2023-12-09 18:47:37,072] Trial 38 pruned. Trial was pruned at iteration 6.\n",
      "[I 2023-12-09 18:47:37,672] Trial 39 pruned. Trial was pruned at iteration 3.\n"
     ]
    },
    {
     "name": "stdout",
     "output_type": "stream",
     "text": [
      "Training until validation scores don't improve for 5 rounds\n"
     ]
    },
    {
     "name": "stderr",
     "output_type": "stream",
     "text": [
      "[I 2023-12-09 18:47:38,186] Trial 40 pruned. Trial was pruned at iteration 0.\n"
     ]
    },
    {
     "name": "stdout",
     "output_type": "stream",
     "text": [
      "Training until validation scores don't improve for 5 rounds\n",
      "Early stopping, best iteration is:\n",
      "[32]\tvalid_0's auc: 0.802169\n",
      "Training until validation scores don't improve for 5 rounds\n",
      "Early stopping, best iteration is:\n",
      "[28]\tvalid_0's auc: 0.80124\n",
      "Training until validation scores don't improve for 5 rounds\n",
      "Early stopping, best iteration is:\n",
      "[24]\tvalid_0's auc: 0.802997\n",
      "Training until validation scores don't improve for 5 rounds\n",
      "Early stopping, best iteration is:\n",
      "[32]\tvalid_0's auc: 0.799773\n",
      "Training until validation scores don't improve for 5 rounds\n"
     ]
    },
    {
     "name": "stderr",
     "output_type": "stream",
     "text": [
      "[I 2023-12-09 18:47:46,068] Trial 41 finished with value: 0.8020095749577607 and parameters: {'learning_rate': 0.27147025535925917, 'num_leaves': 400, 'max_depth': 16, 'min_data_in_leaf': 200, 'lambda_l1': 1.0999149850041687, 'lambda_l2': 1.0770665740487422, 'bagging_fraction': 1.0, 'bagging_freq': 5, 'feature_fraction': 1.0, 'is_unbalance': True}. Best is trial 28 with value: 0.8034758542208348.\n"
     ]
    },
    {
     "name": "stdout",
     "output_type": "stream",
     "text": [
      "Early stopping, best iteration is:\n",
      "[33]\tvalid_0's auc: 0.803869\n",
      "Training until validation scores don't improve for 5 rounds\n",
      "Early stopping, best iteration is:\n",
      "[27]\tvalid_0's auc: 0.803026\n",
      "Training until validation scores don't improve for 5 rounds\n",
      "Early stopping, best iteration is:\n",
      "[27]\tvalid_0's auc: 0.800999\n",
      "Training until validation scores don't improve for 5 rounds\n",
      "Early stopping, best iteration is:\n",
      "[25]\tvalid_0's auc: 0.803743\n",
      "Training until validation scores don't improve for 5 rounds\n",
      "Early stopping, best iteration is:\n",
      "[37]\tvalid_0's auc: 0.800062\n",
      "Training until validation scores don't improve for 5 rounds\n"
     ]
    },
    {
     "name": "stderr",
     "output_type": "stream",
     "text": [
      "[I 2023-12-09 18:47:53,953] Trial 42 finished with value: 0.8021820128376023 and parameters: {'learning_rate': 0.26926062109431487, 'num_leaves': 350, 'max_depth': 16, 'min_data_in_leaf': 100, 'lambda_l1': 0.8782734966632108, 'lambda_l2': 0.569583124752933, 'bagging_fraction': 1.0, 'bagging_freq': 5, 'feature_fraction': 1.0, 'is_unbalance': True}. Best is trial 28 with value: 0.8034758542208348.\n"
     ]
    },
    {
     "name": "stdout",
     "output_type": "stream",
     "text": [
      "Early stopping, best iteration is:\n",
      "[29]\tvalid_0's auc: 0.80308\n",
      "Training until validation scores don't improve for 5 rounds\n"
     ]
    },
    {
     "name": "stderr",
     "output_type": "stream",
     "text": [
      "[I 2023-12-09 18:47:55,317] Trial 43 pruned. Trial was pruned at iteration 24.\n",
      "[I 2023-12-09 18:47:55,901] Trial 44 pruned. Trial was pruned at iteration 1.\n"
     ]
    },
    {
     "name": "stdout",
     "output_type": "stream",
     "text": [
      "Training until validation scores don't improve for 5 rounds\n"
     ]
    },
    {
     "name": "stderr",
     "output_type": "stream",
     "text": [
      "[I 2023-12-09 18:47:56,601] Trial 45 pruned. Trial was pruned at iteration 5.\n"
     ]
    },
    {
     "name": "stdout",
     "output_type": "stream",
     "text": [
      "Training until validation scores don't improve for 5 rounds\n"
     ]
    },
    {
     "name": "stderr",
     "output_type": "stream",
     "text": [
      "[I 2023-12-09 18:47:57,117] Trial 46 pruned. Trial was pruned at iteration 0.\n",
      "[I 2023-12-09 18:47:57,684] Trial 47 pruned. Trial was pruned at iteration 0.\n"
     ]
    },
    {
     "name": "stdout",
     "output_type": "stream",
     "text": [
      "Training until validation scores don't improve for 5 rounds\n"
     ]
    },
    {
     "name": "stderr",
     "output_type": "stream",
     "text": [
      "[I 2023-12-09 18:47:58,917] Trial 48 pruned. Trial was pruned at iteration 16.\n",
      "[I 2023-12-09 18:47:59,417] Trial 49 pruned. Trial was pruned at iteration 0.\n",
      "[I 2023-12-09 18:47:59,988] Trial 50 pruned. Trial was pruned at iteration 0.\n"
     ]
    },
    {
     "name": "stdout",
     "output_type": "stream",
     "text": [
      "Training until validation scores don't improve for 5 rounds\n",
      "Early stopping, best iteration is:\n",
      "[24]\tvalid_0's auc: 0.802143\n",
      "Training until validation scores don't improve for 5 rounds\n",
      "Early stopping, best iteration is:\n",
      "[24]\tvalid_0's auc: 0.801914\n",
      "Training until validation scores don't improve for 5 rounds\n",
      "Early stopping, best iteration is:\n",
      "[34]\tvalid_0's auc: 0.803602\n",
      "Training until validation scores don't improve for 5 rounds\n",
      "Early stopping, best iteration is:\n",
      "[27]\tvalid_0's auc: 0.801313\n",
      "Training until validation scores don't improve for 5 rounds\n"
     ]
    },
    {
     "name": "stderr",
     "output_type": "stream",
     "text": [
      "[I 2023-12-09 18:48:07,649] Trial 51 finished with value: 0.8025761587463041 and parameters: {'learning_rate': 0.25919588155624007, 'num_leaves': 350, 'max_depth': 16, 'min_data_in_leaf': 100, 'lambda_l1': 0.9540331666326781, 'lambda_l2': 0.5929116045309342, 'bagging_fraction': 1.0, 'bagging_freq': 5, 'feature_fraction': 1.0, 'is_unbalance': True}. Best is trial 28 with value: 0.8034758542208348.\n"
     ]
    },
    {
     "name": "stdout",
     "output_type": "stream",
     "text": [
      "Early stopping, best iteration is:\n",
      "[33]\tvalid_0's auc: 0.803908\n"
     ]
    },
    {
     "name": "stderr",
     "output_type": "stream",
     "text": [
      "[I 2023-12-09 18:48:08,316] Trial 52 pruned. Trial was pruned at iteration 5.\n"
     ]
    },
    {
     "name": "stdout",
     "output_type": "stream",
     "text": [
      "Training until validation scores don't improve for 5 rounds\n",
      "Training until validation scores don't improve for 5 rounds\n",
      "Early stopping, best iteration is:\n",
      "[35]\tvalid_0's auc: 0.803129\n",
      "Training until validation scores don't improve for 5 rounds\n",
      "Early stopping, best iteration is:\n",
      "[37]\tvalid_0's auc: 0.80196\n",
      "Training until validation scores don't improve for 5 rounds\n",
      "Early stopping, best iteration is:\n",
      "[38]\tvalid_0's auc: 0.804629\n",
      "Training until validation scores don't improve for 5 rounds\n",
      "Early stopping, best iteration is:\n",
      "[26]\tvalid_0's auc: 0.800743\n",
      "Training until validation scores don't improve for 5 rounds\n"
     ]
    },
    {
     "name": "stderr",
     "output_type": "stream",
     "text": [
      "[I 2023-12-09 18:48:16,348] Trial 53 finished with value: 0.8030106167359652 and parameters: {'learning_rate': 0.24838218561913827, 'num_leaves': 290, 'max_depth': 16, 'min_data_in_leaf': 100, 'lambda_l1': 0.7650741649726752, 'lambda_l2': 0.9133589980516047, 'bagging_fraction': 1.0, 'bagging_freq': 5, 'feature_fraction': 1.0, 'is_unbalance': True}. Best is trial 28 with value: 0.8034758542208348.\n"
     ]
    },
    {
     "name": "stdout",
     "output_type": "stream",
     "text": [
      "Early stopping, best iteration is:\n",
      "[31]\tvalid_0's auc: 0.804592\n"
     ]
    },
    {
     "name": "stderr",
     "output_type": "stream",
     "text": [
      "[I 2023-12-09 18:48:16,881] Trial 54 pruned. Trial was pruned at iteration 1.\n"
     ]
    },
    {
     "name": "stdout",
     "output_type": "stream",
     "text": [
      "Training until validation scores don't improve for 5 rounds\n"
     ]
    },
    {
     "name": "stderr",
     "output_type": "stream",
     "text": [
      "[I 2023-12-09 18:48:17,415] Trial 55 pruned. Trial was pruned at iteration 1.\n"
     ]
    },
    {
     "name": "stdout",
     "output_type": "stream",
     "text": [
      "Training until validation scores don't improve for 5 rounds\n"
     ]
    },
    {
     "name": "stderr",
     "output_type": "stream",
     "text": [
      "[I 2023-12-09 18:48:17,915] Trial 56 pruned. Trial was pruned at iteration 0.\n",
      "[I 2023-12-09 18:48:18,514] Trial 57 pruned. Trial was pruned at iteration 0.\n",
      "[I 2023-12-09 18:48:19,014] Trial 58 pruned. Trial was pruned at iteration 0.\n",
      "[I 2023-12-09 18:48:19,581] Trial 59 pruned. Trial was pruned at iteration 1.\n"
     ]
    },
    {
     "name": "stdout",
     "output_type": "stream",
     "text": [
      "Training until validation scores don't improve for 5 rounds\n"
     ]
    },
    {
     "name": "stderr",
     "output_type": "stream",
     "text": [
      "[I 2023-12-09 18:48:20,081] Trial 60 pruned. Trial was pruned at iteration 0.\n"
     ]
    },
    {
     "name": "stdout",
     "output_type": "stream",
     "text": [
      "Training until validation scores don't improve for 5 rounds\n"
     ]
    },
    {
     "name": "stderr",
     "output_type": "stream",
     "text": [
      "[I 2023-12-09 18:48:21,463] Trial 61 pruned. Trial was pruned at iteration 26.\n",
      "[I 2023-12-09 18:48:21,965] Trial 62 pruned. Trial was pruned at iteration 0.\n"
     ]
    },
    {
     "name": "stdout",
     "output_type": "stream",
     "text": [
      "Training until validation scores don't improve for 5 rounds\n"
     ]
    },
    {
     "name": "stderr",
     "output_type": "stream",
     "text": [
      "[I 2023-12-09 18:48:23,264] Trial 63 pruned. Trial was pruned at iteration 22.\n",
      "[I 2023-12-09 18:48:23,804] Trial 64 pruned. Trial was pruned at iteration 0.\n",
      "[I 2023-12-09 18:48:24,314] Trial 65 pruned. Trial was pruned at iteration 0.\n",
      "[I 2023-12-09 18:48:24,847] Trial 66 pruned. Trial was pruned at iteration 0.\n"
     ]
    },
    {
     "name": "stdout",
     "output_type": "stream",
     "text": [
      "Training until validation scores don't improve for 5 rounds\n"
     ]
    },
    {
     "name": "stderr",
     "output_type": "stream",
     "text": [
      "[I 2023-12-09 18:48:26,312] Trial 67 pruned. Trial was pruned at iteration 23.\n",
      "[I 2023-12-09 18:48:26,812] Trial 68 pruned. Trial was pruned at iteration 0.\n",
      "[I 2023-12-09 18:48:27,330] Trial 69 pruned. Trial was pruned at iteration 0.\n",
      "[I 2023-12-09 18:48:27,880] Trial 70 pruned. Trial was pruned at iteration 0.\n"
     ]
    },
    {
     "name": "stdout",
     "output_type": "stream",
     "text": [
      "Training until validation scores don't improve for 5 rounds\n"
     ]
    },
    {
     "name": "stderr",
     "output_type": "stream",
     "text": [
      "[I 2023-12-09 18:48:29,507] Trial 71 pruned. Trial was pruned at iteration 37.\n",
      "[I 2023-12-09 18:48:30,063] Trial 72 pruned. Trial was pruned at iteration 1.\n"
     ]
    },
    {
     "name": "stdout",
     "output_type": "stream",
     "text": [
      "Training until validation scores don't improve for 5 rounds\n",
      "Training until validation scores don't improve for 5 rounds\n"
     ]
    },
    {
     "name": "stderr",
     "output_type": "stream",
     "text": [
      "[I 2023-12-09 18:48:31,727] Trial 73 pruned. Trial was pruned at iteration 37.\n",
      "[I 2023-12-09 18:48:32,263] Trial 74 pruned. Trial was pruned at iteration 1.\n"
     ]
    },
    {
     "name": "stdout",
     "output_type": "stream",
     "text": [
      "Training until validation scores don't improve for 5 rounds\n",
      "Training until validation scores don't improve for 5 rounds\n"
     ]
    },
    {
     "name": "stderr",
     "output_type": "stream",
     "text": [
      "[I 2023-12-09 18:48:33,612] Trial 75 pruned. Trial was pruned at iteration 23.\n",
      "[I 2023-12-09 18:48:34,146] Trial 76 pruned. Trial was pruned at iteration 1.\n"
     ]
    },
    {
     "name": "stdout",
     "output_type": "stream",
     "text": [
      "Training until validation scores don't improve for 5 rounds\n"
     ]
    },
    {
     "name": "stderr",
     "output_type": "stream",
     "text": [
      "[I 2023-12-09 18:48:34,629] Trial 77 pruned. Trial was pruned at iteration 0.\n",
      "[I 2023-12-09 18:48:35,329] Trial 78 pruned. Trial was pruned at iteration 4.\n"
     ]
    },
    {
     "name": "stdout",
     "output_type": "stream",
     "text": [
      "Training until validation scores don't improve for 5 rounds\n"
     ]
    },
    {
     "name": "stderr",
     "output_type": "stream",
     "text": [
      "[I 2023-12-09 18:48:35,979] Trial 79 pruned. Trial was pruned at iteration 1.\n"
     ]
    },
    {
     "name": "stdout",
     "output_type": "stream",
     "text": [
      "Training until validation scores don't improve for 5 rounds\n"
     ]
    },
    {
     "name": "stderr",
     "output_type": "stream",
     "text": [
      "[I 2023-12-09 18:48:36,495] Trial 80 pruned. Trial was pruned at iteration 0.\n",
      "[I 2023-12-09 18:48:37,195] Trial 81 pruned. Trial was pruned at iteration 2.\n"
     ]
    },
    {
     "name": "stdout",
     "output_type": "stream",
     "text": [
      "Training until validation scores don't improve for 5 rounds\n"
     ]
    },
    {
     "name": "stderr",
     "output_type": "stream",
     "text": [
      "[I 2023-12-09 18:48:37,862] Trial 82 pruned. Trial was pruned at iteration 4.\n"
     ]
    },
    {
     "name": "stdout",
     "output_type": "stream",
     "text": [
      "Training until validation scores don't improve for 5 rounds\n",
      "Training until validation scores don't improve for 5 rounds\n",
      "Early stopping, best iteration is:\n",
      "[21]\tvalid_0's auc: 0.802063\n",
      "Training until validation scores don't improve for 5 rounds\n",
      "Early stopping, best iteration is:\n",
      "[25]\tvalid_0's auc: 0.800739\n",
      "Training until validation scores don't improve for 5 rounds\n",
      "Early stopping, best iteration is:\n",
      "[27]\tvalid_0's auc: 0.803076\n",
      "Training until validation scores don't improve for 5 rounds\n",
      "Early stopping, best iteration is:\n",
      "[25]\tvalid_0's auc: 0.800101\n",
      "Training until validation scores don't improve for 5 rounds\n"
     ]
    },
    {
     "name": "stderr",
     "output_type": "stream",
     "text": [
      "[I 2023-12-09 18:48:45,394] Trial 83 finished with value: 0.801918907784317 and parameters: {'learning_rate': 0.2870722792062047, 'num_leaves': 380, 'max_depth': 16, 'min_data_in_leaf': 100, 'lambda_l1': 1.0393662039634788, 'lambda_l2': 0.6569638291011529, 'bagging_fraction': 1.0, 'bagging_freq': 5, 'feature_fraction': 1.0, 'is_unbalance': True}. Best is trial 28 with value: 0.8034758542208348.\n"
     ]
    },
    {
     "name": "stdout",
     "output_type": "stream",
     "text": [
      "Early stopping, best iteration is:\n",
      "[28]\tvalid_0's auc: 0.803616\n"
     ]
    },
    {
     "name": "stderr",
     "output_type": "stream",
     "text": [
      "[I 2023-12-09 18:48:45,893] Trial 84 pruned. Trial was pruned at iteration 0.\n",
      "[I 2023-12-09 18:48:46,393] Trial 85 pruned. Trial was pruned at iteration 0.\n"
     ]
    },
    {
     "name": "stdout",
     "output_type": "stream",
     "text": [
      "Training until validation scores don't improve for 5 rounds\n"
     ]
    },
    {
     "name": "stderr",
     "output_type": "stream",
     "text": [
      "[I 2023-12-09 18:48:47,278] Trial 86 pruned. Trial was pruned at iteration 6.\n"
     ]
    },
    {
     "name": "stdout",
     "output_type": "stream",
     "text": [
      "Training until validation scores don't improve for 5 rounds\n"
     ]
    },
    {
     "name": "stderr",
     "output_type": "stream",
     "text": [
      "[I 2023-12-09 18:48:48,594] Trial 87 pruned. Trial was pruned at iteration 21.\n",
      "[I 2023-12-09 18:48:49,144] Trial 88 pruned. Trial was pruned at iteration 0.\n",
      "[I 2023-12-09 18:48:49,677] Trial 89 pruned. Trial was pruned at iteration 1.\n"
     ]
    },
    {
     "name": "stdout",
     "output_type": "stream",
     "text": [
      "Training until validation scores don't improve for 5 rounds\n",
      "Training until validation scores don't improve for 5 rounds\n"
     ]
    },
    {
     "name": "stderr",
     "output_type": "stream",
     "text": [
      "[I 2023-12-09 18:48:50,827] Trial 90 pruned. Trial was pruned at iteration 15.\n"
     ]
    },
    {
     "name": "stdout",
     "output_type": "stream",
     "text": [
      "Training until validation scores don't improve for 5 rounds\n"
     ]
    },
    {
     "name": "stderr",
     "output_type": "stream",
     "text": [
      "[I 2023-12-09 18:48:52,044] Trial 91 pruned. Trial was pruned at iteration 22.\n",
      "[I 2023-12-09 18:48:52,676] Trial 92 pruned. Trial was pruned at iteration 3.\n"
     ]
    },
    {
     "name": "stdout",
     "output_type": "stream",
     "text": [
      "Training until validation scores don't improve for 5 rounds\n",
      "Training until validation scores don't improve for 5 rounds\n"
     ]
    },
    {
     "name": "stderr",
     "output_type": "stream",
     "text": [
      "[I 2023-12-09 18:48:53,692] Trial 93 pruned. Trial was pruned at iteration 16.\n"
     ]
    },
    {
     "name": "stdout",
     "output_type": "stream",
     "text": [
      "Training until validation scores don't improve for 5 rounds\n"
     ]
    },
    {
     "name": "stderr",
     "output_type": "stream",
     "text": [
      "[I 2023-12-09 18:48:54,926] Trial 94 pruned. Trial was pruned at iteration 22.\n",
      "[I 2023-12-09 18:48:55,426] Trial 95 pruned. Trial was pruned at iteration 0.\n",
      "[I 2023-12-09 18:48:56,092] Trial 96 pruned. Trial was pruned at iteration 1.\n"
     ]
    },
    {
     "name": "stdout",
     "output_type": "stream",
     "text": [
      "Training until validation scores don't improve for 5 rounds\n"
     ]
    },
    {
     "name": "stderr",
     "output_type": "stream",
     "text": [
      "[I 2023-12-09 18:48:56,577] Trial 97 pruned. Trial was pruned at iteration 0.\n"
     ]
    },
    {
     "name": "stdout",
     "output_type": "stream",
     "text": [
      "Training until validation scores don't improve for 5 rounds\n"
     ]
    },
    {
     "name": "stderr",
     "output_type": "stream",
     "text": [
      "[I 2023-12-09 18:48:57,326] Trial 98 pruned. Trial was pruned at iteration 5.\n"
     ]
    },
    {
     "name": "stdout",
     "output_type": "stream",
     "text": [
      "Training until validation scores don't improve for 5 rounds\n"
     ]
    },
    {
     "name": "stderr",
     "output_type": "stream",
     "text": [
      "[I 2023-12-09 18:48:58,659] Trial 99 pruned. Trial was pruned at iteration 21.\n",
      "[I 2023-12-09 18:48:59,209] Trial 100 pruned. Trial was pruned at iteration 0.\n",
      "[I 2023-12-09 18:48:59,726] Trial 101 pruned. Trial was pruned at iteration 0.\n",
      "[I 2023-12-09 18:49:00,342] Trial 102 pruned. Trial was pruned at iteration 1.\n"
     ]
    },
    {
     "name": "stdout",
     "output_type": "stream",
     "text": [
      "Training until validation scores don't improve for 5 rounds\n"
     ]
    },
    {
     "name": "stderr",
     "output_type": "stream",
     "text": [
      "[I 2023-12-09 18:49:00,876] Trial 103 pruned. Trial was pruned at iteration 0.\n",
      "[I 2023-12-09 18:49:01,391] Trial 104 pruned. Trial was pruned at iteration 0.\n",
      "[I 2023-12-09 18:49:01,926] Trial 105 pruned. Trial was pruned at iteration 0.\n",
      "[I 2023-12-09 18:49:02,409] Trial 106 pruned. Trial was pruned at iteration 0.\n"
     ]
    },
    {
     "name": "stdout",
     "output_type": "stream",
     "text": [
      "Training until validation scores don't improve for 5 rounds\n",
      "Early stopping, best iteration is:\n",
      "[26]\tvalid_0's auc: 0.802456\n",
      "Training until validation scores don't improve for 5 rounds\n",
      "Early stopping, best iteration is:\n",
      "[19]\tvalid_0's auc: 0.800226\n",
      "Training until validation scores don't improve for 5 rounds\n",
      "Early stopping, best iteration is:\n",
      "[24]\tvalid_0's auc: 0.803614\n",
      "Training until validation scores don't improve for 5 rounds\n",
      "Early stopping, best iteration is:\n",
      "[27]\tvalid_0's auc: 0.800762\n",
      "Training until validation scores don't improve for 5 rounds\n"
     ]
    },
    {
     "name": "stderr",
     "output_type": "stream",
     "text": [
      "[I 2023-12-09 18:49:09,074] Trial 107 finished with value: 0.802111153905603 and parameters: {'learning_rate': 0.2929461684657728, 'num_leaves': 290, 'max_depth': 16, 'min_data_in_leaf': 100, 'lambda_l1': 1.0187044893171922, 'lambda_l2': 0.5509799482332252, 'bagging_fraction': 1.0, 'bagging_freq': 5, 'feature_fraction': 1.0, 'is_unbalance': True}. Best is trial 28 with value: 0.8034758542208348.\n"
     ]
    },
    {
     "name": "stdout",
     "output_type": "stream",
     "text": [
      "Early stopping, best iteration is:\n",
      "[27]\tvalid_0's auc: 0.803498\n",
      "Training until validation scores don't improve for 5 rounds\n",
      "Early stopping, best iteration is:\n",
      "[24]\tvalid_0's auc: 0.802569\n",
      "Training until validation scores don't improve for 5 rounds\n",
      "Early stopping, best iteration is:\n",
      "[28]\tvalid_0's auc: 0.801524\n",
      "Training until validation scores don't improve for 5 rounds\n",
      "Early stopping, best iteration is:\n",
      "[27]\tvalid_0's auc: 0.803986\n",
      "Training until validation scores don't improve for 5 rounds\n",
      "Early stopping, best iteration is:\n",
      "[26]\tvalid_0's auc: 0.800696\n",
      "Training until validation scores don't improve for 5 rounds\n"
     ]
    },
    {
     "name": "stderr",
     "output_type": "stream",
     "text": [
      "[I 2023-12-09 18:49:15,874] Trial 108 finished with value: 0.802492218193489 and parameters: {'learning_rate': 0.2903710418380003, 'num_leaves': 250, 'max_depth': 16, 'min_data_in_leaf': 100, 'lambda_l1': 0.9960935663632161, 'lambda_l2': 0.8115025287395323, 'bagging_fraction': 1.0, 'bagging_freq': 5, 'feature_fraction': 1.0, 'is_unbalance': True}. Best is trial 28 with value: 0.8034758542208348.\n"
     ]
    },
    {
     "name": "stdout",
     "output_type": "stream",
     "text": [
      "Early stopping, best iteration is:\n",
      "[32]\tvalid_0's auc: 0.803685\n"
     ]
    },
    {
     "name": "stderr",
     "output_type": "stream",
     "text": [
      "[I 2023-12-09 18:49:16,474] Trial 109 pruned. Trial was pruned at iteration 0.\n",
      "[I 2023-12-09 18:49:16,990] Trial 110 pruned. Trial was pruned at iteration 0.\n"
     ]
    },
    {
     "name": "stdout",
     "output_type": "stream",
     "text": [
      "Training until validation scores don't improve for 5 rounds\n",
      "Early stopping, best iteration is:\n",
      "[22]\tvalid_0's auc: 0.801855\n",
      "Training until validation scores don't improve for 5 rounds\n",
      "Early stopping, best iteration is:\n",
      "[19]\tvalid_0's auc: 0.800646\n",
      "Training until validation scores don't improve for 5 rounds\n",
      "Early stopping, best iteration is:\n",
      "[19]\tvalid_0's auc: 0.803405\n",
      "Training until validation scores don't improve for 5 rounds\n"
     ]
    },
    {
     "name": "stderr",
     "output_type": "stream",
     "text": [
      "[I 2023-12-09 18:49:21,656] Trial 111 pruned. Trial was pruned at iteration 30.\n"
     ]
    },
    {
     "name": "stdout",
     "output_type": "stream",
     "text": [
      "Training until validation scores don't improve for 5 rounds\n",
      "Early stopping, best iteration is:\n",
      "[23]\tvalid_0's auc: 0.802454\n",
      "Training until validation scores don't improve for 5 rounds\n"
     ]
    },
    {
     "name": "stderr",
     "output_type": "stream",
     "text": [
      "[I 2023-12-09 18:49:24,278] Trial 112 pruned. Trial was pruned at iteration 35.\n"
     ]
    },
    {
     "name": "stdout",
     "output_type": "stream",
     "text": [
      "Training until validation scores don't improve for 5 rounds\n"
     ]
    },
    {
     "name": "stderr",
     "output_type": "stream",
     "text": [
      "[I 2023-12-09 18:49:25,556] Trial 113 pruned. Trial was pruned at iteration 30.\n",
      "[I 2023-12-09 18:49:26,056] Trial 114 pruned. Trial was pruned at iteration 0.\n",
      "[I 2023-12-09 18:49:26,581] Trial 115 pruned. Trial was pruned at iteration 0.\n",
      "[I 2023-12-09 18:49:27,076] Trial 116 pruned. Trial was pruned at iteration 0.\n"
     ]
    },
    {
     "name": "stdout",
     "output_type": "stream",
     "text": [
      "Training until validation scores don't improve for 5 rounds\n",
      "Early stopping, best iteration is:\n",
      "[30]\tvalid_0's auc: 0.802936\n",
      "Training until validation scores don't improve for 5 rounds\n",
      "Early stopping, best iteration is:\n",
      "[33]\tvalid_0's auc: 0.802252\n",
      "Training until validation scores don't improve for 5 rounds\n",
      "Early stopping, best iteration is:\n",
      "[36]\tvalid_0's auc: 0.804919\n",
      "Training until validation scores don't improve for 5 rounds\n",
      "Early stopping, best iteration is:\n",
      "[38]\tvalid_0's auc: 0.801521\n",
      "Training until validation scores don't improve for 5 rounds\n"
     ]
    },
    {
     "name": "stderr",
     "output_type": "stream",
     "text": [
      "[I 2023-12-09 18:49:35,238] Trial 117 finished with value: 0.8030758558031785 and parameters: {'learning_rate': 0.25194156590906125, 'num_leaves': 320, 'max_depth': 16, 'min_data_in_leaf': 100, 'lambda_l1': 1.177343278976931, 'lambda_l2': 0.9189480310127671, 'bagging_fraction': 1.0, 'bagging_freq': 5, 'feature_fraction': 1.0, 'is_unbalance': True}. Best is trial 28 with value: 0.8034758542208348.\n"
     ]
    },
    {
     "name": "stdout",
     "output_type": "stream",
     "text": [
      "Early stopping, best iteration is:\n",
      "[27]\tvalid_0's auc: 0.803751\n"
     ]
    },
    {
     "name": "stderr",
     "output_type": "stream",
     "text": [
      "[I 2023-12-09 18:49:35,738] Trial 118 pruned. Trial was pruned at iteration 0.\n",
      "[I 2023-12-09 18:49:36,238] Trial 119 pruned. Trial was pruned at iteration 0.\n",
      "[I 2023-12-09 18:49:36,721] Trial 120 pruned. Trial was pruned at iteration 0.\n"
     ]
    },
    {
     "name": "stdout",
     "output_type": "stream",
     "text": [
      "Training until validation scores don't improve for 5 rounds\n",
      "Early stopping, best iteration is:\n",
      "[25]\tvalid_0's auc: 0.80198\n",
      "Training until validation scores don't improve for 5 rounds\n",
      "Early stopping, best iteration is:\n",
      "[24]\tvalid_0's auc: 0.801535\n",
      "Training until validation scores don't improve for 5 rounds\n",
      "Early stopping, best iteration is:\n",
      "[27]\tvalid_0's auc: 0.803566\n",
      "Training until validation scores don't improve for 5 rounds\n",
      "Early stopping, best iteration is:\n",
      "[28]\tvalid_0's auc: 0.800388\n",
      "Training until validation scores don't improve for 5 rounds\n"
     ]
    },
    {
     "name": "stderr",
     "output_type": "stream",
     "text": [
      "[I 2023-12-09 18:49:43,852] Trial 121 finished with value: 0.8023460521583992 and parameters: {'learning_rate': 0.2705330263823191, 'num_leaves': 360, 'max_depth': 16, 'min_data_in_leaf': 100, 'lambda_l1': 1.018440031915965, 'lambda_l2': 0.6193463593928271, 'bagging_fraction': 1.0, 'bagging_freq': 5, 'feature_fraction': 1.0, 'is_unbalance': True}. Best is trial 28 with value: 0.8034758542208348.\n"
     ]
    },
    {
     "name": "stdout",
     "output_type": "stream",
     "text": [
      "Early stopping, best iteration is:\n",
      "[21]\tvalid_0's auc: 0.804262\n",
      "Training until validation scores don't improve for 5 rounds\n"
     ]
    },
    {
     "name": "stderr",
     "output_type": "stream",
     "text": [
      "[I 2023-12-09 18:49:45,187] Trial 122 pruned. Trial was pruned at iteration 26.\n"
     ]
    },
    {
     "name": "stdout",
     "output_type": "stream",
     "text": [
      "Training until validation scores don't improve for 5 rounds\n",
      "Early stopping, best iteration is:\n",
      "[37]\tvalid_0's auc: 0.803056\n",
      "Training until validation scores don't improve for 5 rounds\n",
      "Early stopping, best iteration is:\n",
      "[23]\tvalid_0's auc: 0.801449\n",
      "Training until validation scores don't improve for 5 rounds\n",
      "Early stopping, best iteration is:\n",
      "[33]\tvalid_0's auc: 0.804048\n",
      "Training until validation scores don't improve for 5 rounds\n",
      "Early stopping, best iteration is:\n",
      "[28]\tvalid_0's auc: 0.801471\n",
      "Training until validation scores don't improve for 5 rounds\n"
     ]
    },
    {
     "name": "stderr",
     "output_type": "stream",
     "text": [
      "[I 2023-12-09 18:49:53,386] Trial 123 finished with value: 0.8027515552980781 and parameters: {'learning_rate': 0.24536695951578252, 'num_leaves': 360, 'max_depth': 16, 'min_data_in_leaf': 100, 'lambda_l1': 0.766595221668412, 'lambda_l2': 0.7289088029065274, 'bagging_fraction': 1.0, 'bagging_freq': 5, 'feature_fraction': 1.0, 'is_unbalance': True}. Best is trial 28 with value: 0.8034758542208348.\n"
     ]
    },
    {
     "name": "stdout",
     "output_type": "stream",
     "text": [
      "Early stopping, best iteration is:\n",
      "[34]\tvalid_0's auc: 0.803734\n",
      "Training until validation scores don't improve for 5 rounds\n",
      "Early stopping, best iteration is:\n",
      "[31]\tvalid_0's auc: 0.802678\n",
      "Training until validation scores don't improve for 5 rounds\n",
      "Early stopping, best iteration is:\n",
      "[29]\tvalid_0's auc: 0.801864\n",
      "Training until validation scores don't improve for 5 rounds\n",
      "Early stopping, best iteration is:\n",
      "[36]\tvalid_0's auc: 0.804524\n",
      "Training until validation scores don't improve for 5 rounds\n",
      "Early stopping, best iteration is:\n",
      "[32]\tvalid_0's auc: 0.801103\n",
      "Training until validation scores don't improve for 5 rounds\n"
     ]
    },
    {
     "name": "stderr",
     "output_type": "stream",
     "text": [
      "[I 2023-12-09 18:50:02,235] Trial 124 finished with value: 0.8029032496641848 and parameters: {'learning_rate': 0.24513218545723467, 'num_leaves': 360, 'max_depth': 16, 'min_data_in_leaf': 100, 'lambda_l1': 0.7553185641002412, 'lambda_l2': 0.6025479564329563, 'bagging_fraction': 1.0, 'bagging_freq': 5, 'feature_fraction': 1.0, 'is_unbalance': True}. Best is trial 28 with value: 0.8034758542208348.\n"
     ]
    },
    {
     "name": "stdout",
     "output_type": "stream",
     "text": [
      "Early stopping, best iteration is:\n",
      "[30]\tvalid_0's auc: 0.804347\n"
     ]
    },
    {
     "name": "stderr",
     "output_type": "stream",
     "text": [
      "[I 2023-12-09 18:50:02,747] Trial 125 pruned. Trial was pruned at iteration 1.\n"
     ]
    },
    {
     "name": "stdout",
     "output_type": "stream",
     "text": [
      "Training until validation scores don't improve for 5 rounds\n"
     ]
    },
    {
     "name": "stderr",
     "output_type": "stream",
     "text": [
      "[I 2023-12-09 18:50:03,384] Trial 126 pruned. Trial was pruned at iteration 4.\n"
     ]
    },
    {
     "name": "stdout",
     "output_type": "stream",
     "text": [
      "Training until validation scores don't improve for 5 rounds\n",
      "Training until validation scores don't improve for 5 rounds\n"
     ]
    },
    {
     "name": "stderr",
     "output_type": "stream",
     "text": [
      "[I 2023-12-09 18:50:04,134] Trial 127 pruned. Trial was pruned at iteration 7.\n",
      "[I 2023-12-09 18:50:04,668] Trial 128 pruned. Trial was pruned at iteration 1.\n"
     ]
    },
    {
     "name": "stdout",
     "output_type": "stream",
     "text": [
      "Training until validation scores don't improve for 5 rounds\n",
      "Training until validation scores don't improve for 5 rounds\n"
     ]
    },
    {
     "name": "stderr",
     "output_type": "stream",
     "text": [
      "[I 2023-12-09 18:50:05,453] Trial 129 pruned. Trial was pruned at iteration 8.\n",
      "[I 2023-12-09 18:50:06,168] Trial 130 pruned. Trial was pruned at iteration 3.\n"
     ]
    },
    {
     "name": "stdout",
     "output_type": "stream",
     "text": [
      "Training until validation scores don't improve for 5 rounds\n",
      "Training until validation scores don't improve for 5 rounds\n"
     ]
    },
    {
     "name": "stderr",
     "output_type": "stream",
     "text": [
      "[I 2023-12-09 18:50:07,001] Trial 131 pruned. Trial was pruned at iteration 7.\n"
     ]
    },
    {
     "name": "stdout",
     "output_type": "stream",
     "text": [
      "Training until validation scores don't improve for 5 rounds\n"
     ]
    },
    {
     "name": "stderr",
     "output_type": "stream",
     "text": [
      "[I 2023-12-09 18:50:08,517] Trial 132 pruned. Trial was pruned at iteration 36.\n",
      "[I 2023-12-09 18:50:09,084] Trial 133 pruned. Trial was pruned at iteration 1.\n"
     ]
    },
    {
     "name": "stdout",
     "output_type": "stream",
     "text": [
      "Training until validation scores don't improve for 5 rounds\n",
      "Training until validation scores don't improve for 5 rounds\n"
     ]
    },
    {
     "name": "stderr",
     "output_type": "stream",
     "text": [
      "[I 2023-12-09 18:50:10,217] Trial 134 pruned. Trial was pruned at iteration 20.\n",
      "[I 2023-12-09 18:50:10,784] Trial 135 pruned. Trial was pruned at iteration 1.\n"
     ]
    },
    {
     "name": "stdout",
     "output_type": "stream",
     "text": [
      "Training until validation scores don't improve for 5 rounds\n"
     ]
    },
    {
     "name": "stderr",
     "output_type": "stream",
     "text": [
      "[I 2023-12-09 18:50:11,334] Trial 136 pruned. Trial was pruned at iteration 0.\n",
      "[I 2023-12-09 18:50:12,083] Trial 137 pruned. Trial was pruned at iteration 4.\n"
     ]
    },
    {
     "name": "stdout",
     "output_type": "stream",
     "text": [
      "Training until validation scores don't improve for 5 rounds\n"
     ]
    },
    {
     "name": "stderr",
     "output_type": "stream",
     "text": [
      "[I 2023-12-09 18:50:12,817] Trial 138 pruned. Trial was pruned at iteration 1.\n"
     ]
    },
    {
     "name": "stdout",
     "output_type": "stream",
     "text": [
      "Training until validation scores don't improve for 5 rounds\n"
     ]
    },
    {
     "name": "stderr",
     "output_type": "stream",
     "text": [
      "[I 2023-12-09 18:50:13,483] Trial 139 pruned. Trial was pruned at iteration 1.\n"
     ]
    },
    {
     "name": "stdout",
     "output_type": "stream",
     "text": [
      "Training until validation scores don't improve for 5 rounds\n"
     ]
    },
    {
     "name": "stderr",
     "output_type": "stream",
     "text": [
      "[I 2023-12-09 18:50:14,066] Trial 140 pruned. Trial was pruned at iteration 0.\n",
      "[I 2023-12-09 18:50:14,683] Trial 141 pruned. Trial was pruned at iteration 0.\n"
     ]
    },
    {
     "name": "stdout",
     "output_type": "stream",
     "text": [
      "Training until validation scores don't improve for 5 rounds\n"
     ]
    },
    {
     "name": "stderr",
     "output_type": "stream",
     "text": [
      "[I 2023-12-09 18:50:16,200] Trial 142 pruned. Trial was pruned at iteration 21.\n"
     ]
    },
    {
     "name": "stdout",
     "output_type": "stream",
     "text": [
      "Training until validation scores don't improve for 5 rounds\n"
     ]
    },
    {
     "name": "stderr",
     "output_type": "stream",
     "text": [
      "[I 2023-12-09 18:50:17,183] Trial 143 pruned. Trial was pruned at iteration 9.\n",
      "[I 2023-12-09 18:50:17,857] Trial 144 pruned. Trial was pruned at iteration 1.\n"
     ]
    },
    {
     "name": "stdout",
     "output_type": "stream",
     "text": [
      "Training until validation scores don't improve for 5 rounds\n"
     ]
    },
    {
     "name": "stderr",
     "output_type": "stream",
     "text": [
      "[I 2023-12-09 18:50:18,433] Trial 145 pruned. Trial was pruned at iteration 0.\n"
     ]
    },
    {
     "name": "stdout",
     "output_type": "stream",
     "text": [
      "Training until validation scores don't improve for 5 rounds\n"
     ]
    },
    {
     "name": "stderr",
     "output_type": "stream",
     "text": [
      "[I 2023-12-09 18:50:19,899] Trial 146 pruned. Trial was pruned at iteration 21.\n",
      "[I 2023-12-09 18:50:20,549] Trial 147 pruned. Trial was pruned at iteration 0.\n"
     ]
    },
    {
     "name": "stdout",
     "output_type": "stream",
     "text": [
      "Training until validation scores don't improve for 5 rounds\n"
     ]
    },
    {
     "name": "stderr",
     "output_type": "stream",
     "text": [
      "[I 2023-12-09 18:50:22,332] Trial 148 pruned. Trial was pruned at iteration 30.\n",
      "[I 2023-12-09 18:50:22,915] Trial 149 pruned. Trial was pruned at iteration 0.\n"
     ]
    },
    {
     "name": "stdout",
     "output_type": "stream",
     "text": [
      "Training until validation scores don't improve for 5 rounds\n"
     ]
    },
    {
     "name": "stderr",
     "output_type": "stream",
     "text": [
      "[I 2023-12-09 18:50:24,298] Trial 150 pruned. Trial was pruned at iteration 23.\n"
     ]
    },
    {
     "name": "stdout",
     "output_type": "stream",
     "text": [
      "Training until validation scores don't improve for 5 rounds\n"
     ]
    },
    {
     "name": "stderr",
     "output_type": "stream",
     "text": [
      "[I 2023-12-09 18:50:25,832] Trial 151 pruned. Trial was pruned at iteration 24.\n"
     ]
    },
    {
     "name": "stdout",
     "output_type": "stream",
     "text": [
      "Training until validation scores don't improve for 5 rounds\n"
     ]
    },
    {
     "name": "stderr",
     "output_type": "stream",
     "text": [
      "[I 2023-12-09 18:50:27,365] Trial 152 pruned. Trial was pruned at iteration 23.\n"
     ]
    },
    {
     "name": "stdout",
     "output_type": "stream",
     "text": [
      "Training until validation scores don't improve for 5 rounds\n"
     ]
    },
    {
     "name": "stderr",
     "output_type": "stream",
     "text": [
      "[I 2023-12-09 18:50:28,737] Trial 153 pruned. Trial was pruned at iteration 13.\n",
      "[I 2023-12-09 18:50:29,315] Trial 154 pruned. Trial was pruned at iteration 0.\n",
      "[I 2023-12-09 18:50:29,931] Trial 155 pruned. Trial was pruned at iteration 1.\n"
     ]
    },
    {
     "name": "stdout",
     "output_type": "stream",
     "text": [
      "Training until validation scores don't improve for 5 rounds\n",
      "Training until validation scores don't improve for 5 rounds\n"
     ]
    },
    {
     "name": "stderr",
     "output_type": "stream",
     "text": [
      "[I 2023-12-09 18:50:31,081] Trial 156 pruned. Trial was pruned at iteration 12.\n",
      "[I 2023-12-09 18:50:31,648] Trial 157 pruned. Trial was pruned at iteration 0.\n",
      "[I 2023-12-09 18:50:32,264] Trial 158 pruned. Trial was pruned at iteration 1.\n"
     ]
    },
    {
     "name": "stdout",
     "output_type": "stream",
     "text": [
      "Training until validation scores don't improve for 5 rounds\n"
     ]
    },
    {
     "name": "stderr",
     "output_type": "stream",
     "text": [
      "[I 2023-12-09 18:50:33,097] Trial 159 pruned. Trial was pruned at iteration 4.\n"
     ]
    },
    {
     "name": "stdout",
     "output_type": "stream",
     "text": [
      "Training until validation scores don't improve for 5 rounds\n"
     ]
    },
    {
     "name": "stderr",
     "output_type": "stream",
     "text": [
      "[I 2023-12-09 18:50:33,729] Trial 160 pruned. Trial was pruned at iteration 1.\n"
     ]
    },
    {
     "name": "stdout",
     "output_type": "stream",
     "text": [
      "Training until validation scores don't improve for 5 rounds\n"
     ]
    },
    {
     "name": "stderr",
     "output_type": "stream",
     "text": [
      "[I 2023-12-09 18:50:34,297] Trial 161 pruned. Trial was pruned at iteration 0.\n",
      "[I 2023-12-09 18:50:34,897] Trial 162 pruned. Trial was pruned at iteration 0.\n",
      "[I 2023-12-09 18:50:35,480] Trial 163 pruned. Trial was pruned at iteration 0.\n",
      "[I 2023-12-09 18:50:36,047] Trial 164 pruned. Trial was pruned at iteration 0.\n",
      "[I 2023-12-09 18:50:36,669] Trial 165 pruned. Trial was pruned at iteration 0.\n",
      "[I 2023-12-09 18:50:37,180] Trial 166 pruned. Trial was pruned at iteration 0.\n",
      "[I 2023-12-09 18:50:37,780] Trial 167 pruned. Trial was pruned at iteration 0.\n",
      "[I 2023-12-09 18:50:38,313] Trial 168 pruned. Trial was pruned at iteration 0.\n",
      "[I 2023-12-09 18:50:38,947] Trial 169 pruned. Trial was pruned at iteration 4.\n"
     ]
    },
    {
     "name": "stdout",
     "output_type": "stream",
     "text": [
      "Training until validation scores don't improve for 5 rounds\n"
     ]
    },
    {
     "name": "stderr",
     "output_type": "stream",
     "text": [
      "[I 2023-12-09 18:50:39,497] Trial 170 pruned. Trial was pruned at iteration 1.\n"
     ]
    },
    {
     "name": "stdout",
     "output_type": "stream",
     "text": [
      "Training until validation scores don't improve for 5 rounds\n",
      "Training until validation scores don't improve for 5 rounds\n"
     ]
    },
    {
     "name": "stderr",
     "output_type": "stream",
     "text": [
      "[I 2023-12-09 18:50:40,430] Trial 171 pruned. Trial was pruned at iteration 10.\n",
      "[I 2023-12-09 18:50:40,930] Trial 172 pruned. Trial was pruned at iteration 0.\n"
     ]
    },
    {
     "name": "stdout",
     "output_type": "stream",
     "text": [
      "Training until validation scores don't improve for 5 rounds\n"
     ]
    },
    {
     "name": "stderr",
     "output_type": "stream",
     "text": [
      "[I 2023-12-09 18:50:41,681] Trial 173 pruned. Trial was pruned at iteration 6.\n",
      "[I 2023-12-09 18:50:42,230] Trial 174 pruned. Trial was pruned at iteration 0.\n",
      "[I 2023-12-09 18:50:42,779] Trial 175 pruned. Trial was pruned at iteration 1.\n"
     ]
    },
    {
     "name": "stdout",
     "output_type": "stream",
     "text": [
      "Training until validation scores don't improve for 5 rounds\n"
     ]
    },
    {
     "name": "stderr",
     "output_type": "stream",
     "text": [
      "[I 2023-12-09 18:50:43,280] Trial 176 pruned. Trial was pruned at iteration 0.\n",
      "[I 2023-12-09 18:50:43,863] Trial 177 pruned. Trial was pruned at iteration 0.\n",
      "[I 2023-12-09 18:50:44,374] Trial 178 pruned. Trial was pruned at iteration 0.\n"
     ]
    },
    {
     "name": "stdout",
     "output_type": "stream",
     "text": [
      "Training until validation scores don't improve for 5 rounds\n"
     ]
    },
    {
     "name": "stderr",
     "output_type": "stream",
     "text": [
      "[I 2023-12-09 18:50:45,131] Trial 179 pruned. Trial was pruned at iteration 7.\n"
     ]
    },
    {
     "name": "stdout",
     "output_type": "stream",
     "text": [
      "Training until validation scores don't improve for 5 rounds\n"
     ]
    },
    {
     "name": "stderr",
     "output_type": "stream",
     "text": [
      "[I 2023-12-09 18:50:46,296] Trial 180 pruned. Trial was pruned at iteration 22.\n",
      "[I 2023-12-09 18:50:46,796] Trial 181 pruned. Trial was pruned at iteration 0.\n",
      "[I 2023-12-09 18:50:47,320] Trial 182 pruned. Trial was pruned at iteration 0.\n",
      "[I 2023-12-09 18:50:47,845] Trial 183 pruned. Trial was pruned at iteration 0.\n",
      "[I 2023-12-09 18:50:48,362] Trial 184 pruned. Trial was pruned at iteration 0.\n"
     ]
    },
    {
     "name": "stdout",
     "output_type": "stream",
     "text": [
      "Training until validation scores don't improve for 5 rounds\n",
      "Early stopping, best iteration is:\n",
      "[25]\tvalid_0's auc: 0.802236\n",
      "Training until validation scores don't improve for 5 rounds\n"
     ]
    },
    {
     "name": "stderr",
     "output_type": "stream",
     "text": [
      "[I 2023-12-09 18:50:51,162] Trial 185 pruned. Trial was pruned at iteration 30.\n",
      "[I 2023-12-09 18:50:51,678] Trial 186 pruned. Trial was pruned at iteration 0.\n"
     ]
    },
    {
     "name": "stdout",
     "output_type": "stream",
     "text": [
      "Training until validation scores don't improve for 5 rounds\n"
     ]
    },
    {
     "name": "stderr",
     "output_type": "stream",
     "text": [
      "[I 2023-12-09 18:50:52,524] Trial 187 pruned. Trial was pruned at iteration 8.\n"
     ]
    },
    {
     "name": "stdout",
     "output_type": "stream",
     "text": [
      "Training until validation scores don't improve for 5 rounds\n"
     ]
    },
    {
     "name": "stderr",
     "output_type": "stream",
     "text": [
      "[I 2023-12-09 18:50:53,528] Trial 188 pruned. Trial was pruned at iteration 15.\n",
      "[I 2023-12-09 18:50:54,044] Trial 189 pruned. Trial was pruned at iteration 0.\n",
      "[I 2023-12-09 18:50:54,545] Trial 190 pruned. Trial was pruned at iteration 0.\n",
      "[I 2023-12-09 18:50:55,194] Trial 191 pruned. Trial was pruned at iteration 0.\n",
      "[I 2023-12-09 18:50:55,728] Trial 192 pruned. Trial was pruned at iteration 0.\n",
      "[I 2023-12-09 18:50:56,279] Trial 193 pruned. Trial was pruned at iteration 0.\n",
      "[I 2023-12-09 18:50:56,828] Trial 194 pruned. Trial was pruned at iteration 0.\n",
      "[I 2023-12-09 18:50:57,344] Trial 195 pruned. Trial was pruned at iteration 0.\n",
      "[I 2023-12-09 18:50:57,894] Trial 196 pruned. Trial was pruned at iteration 1.\n"
     ]
    },
    {
     "name": "stdout",
     "output_type": "stream",
     "text": [
      "Training until validation scores don't improve for 5 rounds\n"
     ]
    },
    {
     "name": "stderr",
     "output_type": "stream",
     "text": [
      "[I 2023-12-09 18:50:58,494] Trial 197 pruned. Trial was pruned at iteration 1.\n"
     ]
    },
    {
     "name": "stdout",
     "output_type": "stream",
     "text": [
      "Training until validation scores don't improve for 5 rounds\n"
     ]
    },
    {
     "name": "stderr",
     "output_type": "stream",
     "text": [
      "[I 2023-12-09 18:50:59,015] Trial 198 pruned. Trial was pruned at iteration 0.\n",
      "[I 2023-12-09 18:50:59,544] Trial 199 pruned. Trial was pruned at iteration 0.\n"
     ]
    },
    {
     "name": "stdout",
     "output_type": "stream",
     "text": [
      "Best hyperparameters: {'learning_rate': 0.20668077163335938, 'num_leaves': 380, 'max_depth': 16, 'min_data_in_leaf': 200, 'lambda_l1': 1.6468400748799057, 'lambda_l2': 0.626430742906075, 'bagging_fraction': 1.0, 'bagging_freq': 5, 'feature_fraction': 1.0, 'is_unbalance': True}\n",
      "Best AUCPR: 0.8034758542208348\n"
     ]
    },
    {
     "data": {
      "text/plain": [
       "<Figure size 1200x600 with 0 Axes>"
      ]
     },
     "metadata": {},
     "output_type": "display_data"
    },
    {
     "data": {
      "image/png": "[encoded data removed]",
      "text/plain": [
       "<Figure size 640x480 with 1 Axes>"
      ]
     },
     "metadata": {},
     "output_type": "display_data"
    }
   ],
   "source": [
    "study = optuna.create_study(direction=\"maximize\", study_name=\"LGBM Classifier\")\n",
    "func = lambda trial: objective(trial, X_train, y_train)\n",
    "study.optimize(func, n_trials=200)\n",
    "\n",
    "print('Best hyperparameters:', study.best_params)\n",
    "print('Best AUCPR:', study.best_value)\n",
    "plt.figure(figsize=(12,6))\n",
    "lgb.plot_importance(lgb_clf, max_num_features=30)\n",
    "plt.title(\"Feature importances\")\n",
    "plt.show()\n"
   ]
  },
  {
   "cell_type": "code",
   "execution_count": 23,
   "metadata": {},
   "outputs": [
    {
     "data": {
      "application/vnd.plotly.v1+json": {
       "config": {
        "plotlyServerURL": "https://plot.ly"
       },
       "data": [
        {
         "mode": "markers",
         "name": "Objective Value",
         "type": "scatter",
         "x": [
          0,
          1,
          2,
          3,
          4,
          5,
          26,
          27,
          28,
          32,
          33,
          34,
          37,
          41,
          42,
          51,
          53,
          83,
          107,
          108,
          117,
          121,
          123,
          124
         ],
         "y": [
          0.8015467028655443,
          0.8009005693923044,
          0.7993980754253112,
          0.7978253908618247,
          0.8007245609134062,
          0.7981971546730144,
          0.8014325090743206,
          0.8030013520578982,
          0.8034758542208348,
          0.8023101145519146,
          0.8014396841659597,
          0.8028007991847733,
          0.8024268781683042,
          0.8020095749577607,
          0.8021820128376023,
          0.8025761587463041,
          0.8030106167359652,
          0.801918907784317,
          0.802111153905603,
          0.802492218193489,
          0.8030758558031785,
          0.8023460521583992,
          0.8027515552980781,
          0.8029032496641848
         ]
        },
        {
         "mode": "lines",
         "name": "Best Value",
         "type": "scatter",
         "x": [
          0,
          1,
          2,
          3,
          4,
          5,
          6,
          7,
          8,
          9,
          10,
          11,
          12,
          13,
          14,
          15,
          16,
          17,
          18,
          19,
          20,
          21,
          22,
          23,
          24,
          25,
          26,
          27,
          28,
          29,
          30,
          31,
          32,
          33,
          34,
          35,
          36,
          37,
          38,
          39,
          40,
          41,
          42,
          43,
          44,
          45,
          46,
          47,
          48,
          49,
          50,
          51,
          52,
          53,
          54,
          55,
          56,
          57,
          58,
          59,
          60,
          61,
          62,
          63,
          64,
          65,
          66,
          67,
          68,
          69,
          70,
          71,
          72,
          73,
          74,
          75,
          76,
          77,
          78,
          79,
          80,
          81,
          82,
          83,
          84,
          85,
          86,
          87,
          88,
          89,
          90,
          91,
          92,
          93,
          94,
          95,
          96,
          97,
          98,
          99,
          100,
          101,
          102,
          103,
          104,
          105,
          106,
          107,
          108,
          109,
          110,
          111,
          112,
          113,
          114,
          115,
          116,
          117,
          118,
          119,
          120,
          121,
          122,
          123,
          124,
          125,
          126,
          127,
          128,
          129,
          130,
          131,
          132,
          133,
          134,
          135,
          136,
          137,
          138,
          139,
          140,
          141,
          142,
          143,
          144,
          145,
          146,
          147,
          148,
          149,
          150,
          151,
          152,
          153,
          154,
          155,
          156,
          157,
          158,
          159,
          160,
          161,
          162,
          163,
          164,
          165,
          166,
          167,
          168,
          169,
          170,
          171,
          172,
          173,
          174,
          175,
          176,
          177,
          178,
          179,
          180,
          181,
          182,
          183,
          184,
          185,
          186,
          187,
          188,
          189,
          190,
          191,
          192,
          193,
          194,
          195,
          196,
          197,
          198,
          199
         ],
         "y": [
          0.8015467028655443,
          0.8015467028655443,
          0.8015467028655443,
          0.8015467028655443,
          0.8015467028655443,
          0.8015467028655443,
          0.8015467028655443,
          0.8015467028655443,
          0.8015467028655443,
          0.8015467028655443,
          0.8015467028655443,
          0.8015467028655443,
          0.8015467028655443,
          0.8015467028655443,
          0.8015467028655443,
          0.8015467028655443,
          0.8015467028655443,
          0.8015467028655443,
          0.8015467028655443,
          0.8015467028655443,
          0.8015467028655443,
          0.8015467028655443,
          0.8015467028655443,
          0.8015467028655443,
          0.8015467028655443,
          0.8015467028655443,
          0.8015467028655443,
          0.8030013520578982,
          0.8034758542208348,
          0.8034758542208348,
          0.8034758542208348,
          0.8034758542208348,
          0.8034758542208348,
          0.8034758542208348,
          0.8034758542208348,
          0.8034758542208348,
          0.8034758542208348,
          0.8034758542208348,
          0.8034758542208348,
          0.8034758542208348,
          0.8034758542208348,
          0.8034758542208348,
          0.8034758542208348,
          0.8034758542208348,
          0.8034758542208348,
          0.8034758542208348,
          0.8034758542208348,
          0.8034758542208348,
          0.8034758542208348,
          0.8034758542208348,
          0.8034758542208348,
          0.8034758542208348,
          0.8034758542208348,
          0.8034758542208348,
          0.8034758542208348,
          0.8034758542208348,
          0.8034758542208348,
          0.8034758542208348,
          0.8034758542208348,
          0.8034758542208348,
          0.8034758542208348,
          0.8034758542208348,
          0.8034758542208348,
          0.8034758542208348,
          0.8034758542208348,
          0.8034758542208348,
          0.8034758542208348,
          0.8034758542208348,
          0.8034758542208348,
          0.8034758542208348,
          0.8034758542208348,
          0.8034758542208348,
          0.8034758542208348,
          0.8034758542208348,
          0.8034758542208348,
          0.8034758542208348,
          0.8034758542208348,
          0.8034758542208348,
          0.8034758542208348,
          0.8034758542208348,
          0.8034758542208348,
          0.8034758542208348,
          0.8034758542208348,
          0.8034758542208348,
          0.8034758542208348,
          0.8034758542208348,
          0.8034758542208348,
          0.8034758542208348,
          0.8034758542208348,
          0.8034758542208348,
          0.8034758542208348,
          0.8034758542208348,
          0.8034758542208348,
          0.8034758542208348,
          0.8034758542208348,
          0.8034758542208348,
          0.8034758542208348,
          0.8034758542208348,
          0.8034758542208348,
          0.8034758542208348,
          0.8034758542208348,
          0.8034758542208348,
          0.8034758542208348,
          0.8034758542208348,
          0.8034758542208348,
          0.8034758542208348,
          0.8034758542208348,
          0.8034758542208348,
          0.8034758542208348,
          0.8034758542208348,
          0.8034758542208348,
          0.8034758542208348,
          0.8034758542208348,
          0.8034758542208348,
          0.8034758542208348,
          0.8034758542208348,
          0.8034758542208348,
          0.8034758542208348,
          0.8034758542208348,
          0.8034758542208348,
          0.8034758542208348,
          0.8034758542208348,
          0.8034758542208348,
          0.8034758542208348,
          0.8034758542208348,
          0.8034758542208348,
          0.8034758542208348,
          0.8034758542208348,
          0.8034758542208348,
          0.8034758542208348,
          0.8034758542208348,
          0.8034758542208348,
          0.8034758542208348,
          0.8034758542208348,
          0.8034758542208348,
          0.8034758542208348,
          0.8034758542208348,
          0.8034758542208348,
          0.8034758542208348,
          0.8034758542208348,
          0.8034758542208348,
          0.8034758542208348,
          0.8034758542208348,
          0.8034758542208348,
          0.8034758542208348,
          0.8034758542208348,
          0.8034758542208348,
          0.8034758542208348,
          0.8034758542208348,
          0.8034758542208348,
          0.8034758542208348,
          0.8034758542208348,
          0.8034758542208348,
          0.8034758542208348,
          0.8034758542208348,
          0.8034758542208348,
          0.8034758542208348,
          0.8034758542208348,
          0.8034758542208348,
          0.8034758542208348,
          0.8034758542208348,
          0.8034758542208348,
          0.8034758542208348,
          0.8034758542208348,
          0.8034758542208348,
          0.8034758542208348,
          0.8034758542208348,
          0.8034758542208348,
          0.8034758542208348,
          0.8034758542208348,
          0.8034758542208348,
          0.8034758542208348,
          0.8034758542208348,
          0.8034758542208348,
          0.8034758542208348,
          0.8034758542208348,
          0.8034758542208348,
          0.8034758542208348,
          0.8034758542208348,
          0.8034758542208348,
          0.8034758542208348,
          0.8034758542208348,
          0.8034758542208348,
          0.8034758542208348,
          0.8034758542208348,
          0.8034758542208348,
          0.8034758542208348,
          0.8034758542208348,
          0.8034758542208348,
          0.8034758542208348,
          0.8034758542208348,
          0.8034758542208348,
          0.8034758542208348,
          0.8034758542208348,
          0.8034758542208348,
          0.8034758542208348,
          0.8034758542208348,
          0.8034758542208348,
          0.8034758542208348,
          0.8034758542208348
         ]
        },
        {
         "marker": {
          "color": "#cccccc"
         },
         "mode": "markers",
         "name": "Infeasible Trial",
         "showlegend": false,
         "type": "scatter",
         "x": [],
         "y": []
        }
       ],
       "layout": {
        "template": {
         "data": {
          "bar": [
           {
            "error_x": {
             "color": "#2a3f5f"
            },
            "error_y": {
             "color": "#2a3f5f"
            },
            "marker": {
             "line": {
              "color": "#E5ECF6",
              "width": 0.5
             },
             "pattern": {
              "fillmode": "overlay",
              "size": 10,
              "solidity": 0.2
             }
            },
            "type": "bar"
           }
          ],
          "barpolar": [
           {
            "marker": {
             "line": {
              "color": "#E5ECF6",
              "width": 0.5
             },
             "pattern": {
              "fillmode": "overlay",
              "size": 10,
              "solidity": 0.2
             }
            },
            "type": "barpolar"
           }
          ],
          "carpet": [
           {
            "aaxis": {
             "endlinecolor": "#2a3f5f",
             "gridcolor": "white",
             "linecolor": "white",
             "minorgridcolor": "white",
             "startlinecolor": "#2a3f5f"
            },
            "baxis": {
             "endlinecolor": "#2a3f5f",
             "gridcolor": "white",
             "linecolor": "white",
             "minorgridcolor": "white",
             "startlinecolor": "#2a3f5f"
            },
            "type": "carpet"
           }
          ],
          "choropleth": [
           {
            "colorbar": {
             "outlinewidth": 0,
             "ticks": ""
            },
            "type": "choropleth"
           }
          ],
          "contour": [
           {
            "colorbar": {
             "outlinewidth": 0,
             "ticks": ""
            },
            "colorscale": [
             [
              0,
              "#0d0887"
             ],
             [
              0.1111111111111111,
              "#46039f"
             ],
             [
              0.2222222222222222,
              "#7201a8"
             ],
             [
              0.3333333333333333,
              "#9c179e"
             ],
             [
              0.4444444444444444,
              "#bd3786"
             ],
             [
              0.5555555555555556,
              "#d8576b"
             ],
             [
              0.6666666666666666,
              "#ed7953"
             ],
             [
              0.7777777777777778,
              "#fb9f3a"
             ],
             [
              0.8888888888888888,
              "#fdca26"
             ],
             [
              1,
              "#f0f921"
             ]
            ],
            "type": "contour"
           }
          ],
          "contourcarpet": [
           {
            "colorbar": {
             "outlinewidth": 0,
             "ticks": ""
            },
            "type": "contourcarpet"
           }
          ],
          "heatmap": [
           {
            "colorbar": {
             "outlinewidth": 0,
             "ticks": ""
            },
            "colorscale": [
             [
              0,
              "#0d0887"
             ],
             [
              0.1111111111111111,
              "#46039f"
             ],
             [
              0.2222222222222222,
              "#7201a8"
             ],
             [
              0.3333333333333333,
              "#9c179e"
             ],
             [
              0.4444444444444444,
              "#bd3786"
             ],
             [
              0.5555555555555556,
              "#d8576b"
             ],
             [
              0.6666666666666666,
              "#ed7953"
             ],
             [
              0.7777777777777778,
              "#fb9f3a"
             ],
             [
              0.8888888888888888,
              "#fdca26"
             ],
             [
              1,
              "#f0f921"
             ]
            ],
            "type": "heatmap"
           }
          ],
          "heatmapgl": [
           {
            "colorbar": {
             "outlinewidth": 0,
             "ticks": ""
            },
            "colorscale": [
             [
              0,
              "#0d0887"
             ],
             [
              0.1111111111111111,
              "#46039f"
             ],
             [
              0.2222222222222222,
              "#7201a8"
             ],
             [
              0.3333333333333333,
              "#9c179e"
             ],
             [
              0.4444444444444444,
              "#bd3786"
             ],
             [
              0.5555555555555556,
              "#d8576b"
             ],
             [
              0.6666666666666666,
              "#ed7953"
             ],
             [
              0.7777777777777778,
              "#fb9f3a"
             ],
             [
              0.8888888888888888,
              "#fdca26"
             ],
             [
              1,
              "#f0f921"
             ]
            ],
            "type": "heatmapgl"
           }
          ],
          "histogram": [
           {
            "marker": {
             "pattern": {
              "fillmode": "overlay",
              "size": 10,
              "solidity": 0.2
             }
            },
            "type": "histogram"
           }
          ],
          "histogram2d": [
           {
            "colorbar": {
             "outlinewidth": 0,
             "ticks": ""
            },
            "colorscale": [
             [
              0,
              "#0d0887"
             ],
             [
              0.1111111111111111,
              "#46039f"
             ],
             [
              0.2222222222222222,
              "#7201a8"
             ],
             [
              0.3333333333333333,
              "#9c179e"
             ],
             [
              0.4444444444444444,
              "#bd3786"
             ],
             [
              0.5555555555555556,
              "#d8576b"
             ],
             [
              0.6666666666666666,
              "#ed7953"
             ],
             [
              0.7777777777777778,
              "#fb9f3a"
             ],
             [
              0.8888888888888888,
              "#fdca26"
             ],
             [
              1,
              "#f0f921"
             ]
            ],
            "type": "histogram2d"
           }
          ],
          "histogram2dcontour": [
           {
            "colorbar": {
             "outlinewidth": 0,
             "ticks": ""
            },
            "colorscale": [
             [
              0,
              "#0d0887"
             ],
             [
              0.1111111111111111,
              "#46039f"
             ],
             [
              0.2222222222222222,
              "#7201a8"
             ],
             [
              0.3333333333333333,
              "#9c179e"
             ],
             [
              0.4444444444444444,
              "#bd3786"
             ],
             [
              0.5555555555555556,
              "#d8576b"
             ],
             [
              0.6666666666666666,
              "#ed7953"
             ],
             [
              0.7777777777777778,
              "#fb9f3a"
             ],
             [
              0.8888888888888888,
              "#fdca26"
             ],
             [
              1,
              "#f0f921"
             ]
            ],
            "type": "histogram2dcontour"
           }
          ],
          "mesh3d": [
           {
            "colorbar": {
             "outlinewidth": 0,
             "ticks": ""
            },
            "type": "mesh3d"
           }
          ],
          "parcoords": [
           {
            "line": {
             "colorbar": {
              "outlinewidth": 0,
              "ticks": ""
             }
            },
            "type": "parcoords"
           }
          ],
          "pie": [
           {
            "automargin": true,
            "type": "pie"
           }
          ],
          "scatter": [
           {
            "fillpattern": {
             "fillmode": "overlay",
             "size": 10,
             "solidity": 0.2
            },
            "type": "scatter"
           }
          ],
          "scatter3d": [
           {
            "line": {
             "colorbar": {
              "outlinewidth": 0,
              "ticks": ""
             }
            },
            "marker": {
             "colorbar": {
              "outlinewidth": 0,
              "ticks": ""
             }
            },
            "type": "scatter3d"
           }
          ],
          "scattercarpet": [
           {
            "marker": {
             "colorbar": {
              "outlinewidth": 0,
              "ticks": ""
             }
            },
            "type": "scattercarpet"
           }
          ],
          "scattergeo": [
           {
            "marker": {
             "colorbar": {
              "outlinewidth": 0,
              "ticks": ""
             }
            },
            "type": "scattergeo"
           }
          ],
          "scattergl": [
           {
            "marker": {
             "colorbar": {
              "outlinewidth": 0,
              "ticks": ""
             }
            },
            "type": "scattergl"
           }
          ],
          "scattermapbox": [
           {
            "marker": {
             "colorbar": {
              "outlinewidth": 0,
              "ticks": ""
             }
            },
            "type": "scattermapbox"
           }
          ],
          "scatterpolar": [
           {
            "marker": {
             "colorbar": {
              "outlinewidth": 0,
              "ticks": ""
             }
            },
            "type": "scatterpolar"
           }
          ],
          "scatterpolargl": [
           {
            "marker": {
             "colorbar": {
              "outlinewidth": 0,
              "ticks": ""
             }
            },
            "type": "scatterpolargl"
           }
          ],
          "scatterternary": [
           {
            "marker": {
             "colorbar": {
              "outlinewidth": 0,
              "ticks": ""
             }
            },
            "type": "scatterternary"
           }
          ],
          "surface": [
           {
            "colorbar": {
             "outlinewidth": 0,
             "ticks": ""
            },
            "colorscale": [
             [
              0,
              "#0d0887"
             ],
             [
              0.1111111111111111,
              "#46039f"
             ],
             [
              0.2222222222222222,
              "#7201a8"
             ],
             [
              0.3333333333333333,
              "#9c179e"
             ],
             [
              0.4444444444444444,
              "#bd3786"
             ],
             [
              0.5555555555555556,
              "#d8576b"
             ],
             [
              0.6666666666666666,
              "#ed7953"
             ],
             [
              0.7777777777777778,
              "#fb9f3a"
             ],
             [
              0.8888888888888888,
              "#fdca26"
             ],
             [
              1,
              "#f0f921"
             ]
            ],
            "type": "surface"
           }
          ],
          "table": [
           {
            "cells": {
             "fill": {
              "color": "#EBF0F8"
             },
             "line": {
              "color": "white"
             }
            },
            "header": {
             "fill": {
              "color": "#C8D4E3"
             },
             "line": {
              "color": "white"
             }
            },
            "type": "table"
           }
          ]
         },
         "layout": {
          "annotationdefaults": {
           "arrowcolor": "#2a3f5f",
           "arrowhead": 0,
           "arrowwidth": 1
          },
          "autotypenumbers": "strict",
          "coloraxis": {
           "colorbar": {
            "outlinewidth": 0,
            "ticks": ""
           }
          },
          "colorscale": {
           "diverging": [
            [
             0,
             "#8e0152"
            ],
            [
             0.1,
             "#c51b7d"
            ],
            [
             0.2,
             "#de77ae"
            ],
            [
             0.3,
             "#f1b6da"
            ],
            [
             0.4,
             "#fde0ef"
            ],
            [
             0.5,
             "#f7f7f7"
            ],
            [
             0.6,
             "#e6f5d0"
            ],
            [
             0.7,
             "#b8e186"
            ],
            [
             0.8,
             "#7fbc41"
            ],
            [
             0.9,
             "#4d9221"
            ],
            [
             1,
             "#276419"
            ]
           ],
           "sequential": [
            [
             0,
             "#0d0887"
            ],
            [
             0.1111111111111111,
             "#46039f"
            ],
            [
             0.2222222222222222,
             "#7201a8"
            ],
            [
             0.3333333333333333,
             "#9c179e"
            ],
            [
             0.4444444444444444,
             "#bd3786"
            ],
            [
             0.5555555555555556,
             "#d8576b"
            ],
            [
             0.6666666666666666,
             "#ed7953"
            ],
            [
             0.7777777777777778,
             "#fb9f3a"
            ],
            [
             0.8888888888888888,
             "#fdca26"
            ],
            [
             1,
             "#f0f921"
            ]
           ],
           "sequentialminus": [
            [
             0,
             "#0d0887"
            ],
            [
             0.1111111111111111,
             "#46039f"
            ],
            [
             0.2222222222222222,
             "#7201a8"
            ],
            [
             0.3333333333333333,
             "#9c179e"
            ],
            [
             0.4444444444444444,
             "#bd3786"
            ],
            [
             0.5555555555555556,
             "#d8576b"
            ],
            [
             0.6666666666666666,
             "#ed7953"
            ],
            [
             0.7777777777777778,
             "#fb9f3a"
            ],
            [
             0.8888888888888888,
             "#fdca26"
            ],
            [
             1,
             "#f0f921"
            ]
           ]
          },
          "colorway": [
           "#636efa",
           "#EF553B",
           "#00cc96",
           "#ab63fa",
           "#FFA15A",
           "#19d3f3",
           "#FF6692",
           "#B6E880",
           "#FF97FF",
           "#FECB52"
          ],
          "font": {
           "color": "#2a3f5f"
          },
          "geo": {
           "bgcolor": "white",
           "lakecolor": "white",
           "landcolor": "#E5ECF6",
           "showlakes": true,
           "showland": true,
           "subunitcolor": "white"
          },
          "hoverlabel": {
           "align": "left"
          },
          "hovermode": "closest",
          "mapbox": {
           "style": "light"
          },
          "paper_bgcolor": "white",
          "plot_bgcolor": "#E5ECF6",
          "polar": {
           "angularaxis": {
            "gridcolor": "white",
            "linecolor": "white",
            "ticks": ""
           },
           "bgcolor": "#E5ECF6",
           "radialaxis": {
            "gridcolor": "white",
            "linecolor": "white",
            "ticks": ""
           }
          },
          "scene": {
           "xaxis": {
            "backgroundcolor": "#E5ECF6",
            "gridcolor": "white",
            "gridwidth": 2,
            "linecolor": "white",
            "showbackground": true,
            "ticks": "",
            "zerolinecolor": "white"
           },
           "yaxis": {
            "backgroundcolor": "#E5ECF6",
            "gridcolor": "white",
            "gridwidth": 2,
            "linecolor": "white",
            "showbackground": true,
            "ticks": "",
            "zerolinecolor": "white"
           },
           "zaxis": {
            "backgroundcolor": "#E5ECF6",
            "gridcolor": "white",
            "gridwidth": 2,
            "linecolor": "white",
            "showbackground": true,
            "ticks": "",
            "zerolinecolor": "white"
           }
          },
          "shapedefaults": {
           "line": {
            "color": "#2a3f5f"
           }
          },
          "ternary": {
           "aaxis": {
            "gridcolor": "white",
            "linecolor": "white",
            "ticks": ""
           },
           "baxis": {
            "gridcolor": "white",
            "linecolor": "white",
            "ticks": ""
           },
           "bgcolor": "#E5ECF6",
           "caxis": {
            "gridcolor": "white",
            "linecolor": "white",
            "ticks": ""
           }
          },
          "title": {
           "x": 0.05
          },
          "xaxis": {
           "automargin": true,
           "gridcolor": "white",
           "linecolor": "white",
           "ticks": "",
           "title": {
            "standoff": 15
           },
           "zerolinecolor": "white",
           "zerolinewidth": 2
          },
          "yaxis": {
           "automargin": true,
           "gridcolor": "white",
           "linecolor": "white",
           "ticks": "",
           "title": {
            "standoff": 15
           },
           "zerolinecolor": "white",
           "zerolinewidth": 2
          }
         }
        },
        "title": {
         "text": "Optimization History Plot"
        },
        "xaxis": {
         "title": {
          "text": "Trial"
         }
        },
        "yaxis": {
         "title": {
          "text": "Objective Value"
         }
        }
       }
      }
     },
     "metadata": {},
     "output_type": "display_data"
    }
   ],
   "source": [
    "optuna.visualization.plot_optimization_history(study)"
   ]
  },
  {
   "cell_type": "code",
   "execution_count": 24,
   "metadata": {},
   "outputs": [
    {
     "data": {
      "application/vnd.plotly.v1+json": {
       "config": {
        "plotlyServerURL": "https://plot.ly"
       },
       "data": [
        {
         "marker": {
          "color": [
           0,
           1,
           2,
           3,
           4,
           5,
           26,
           27,
           28,
           32,
           33,
           34,
           37,
           41,
           42,
           51,
           53,
           83,
           107,
           108,
           117,
           121,
           123,
           124
          ],
          "colorbar": {
           "title": {
            "text": "Trial"
           },
           "x": 1,
           "xpad": 40
          },
          "colorscale": [
           [
            0,
            "rgb(247,251,255)"
           ],
           [
            0.125,
            "rgb(222,235,247)"
           ],
           [
            0.25,
            "rgb(198,219,239)"
           ],
           [
            0.375,
            "rgb(158,202,225)"
           ],
           [
            0.5,
            "rgb(107,174,214)"
           ],
           [
            0.625,
            "rgb(66,146,198)"
           ],
           [
            0.75,
            "rgb(33,113,181)"
           ],
           [
            0.875,
            "rgb(8,81,156)"
           ],
           [
            1,
            "rgb(8,48,107)"
           ]
          ],
          "line": {
           "color": "Grey",
           "width": 0.5
          },
          "showscale": true
         },
         "mode": "markers",
         "showlegend": false,
         "type": "scatter",
         "x": [
          0.9,
          0.9,
          0.8,
          1,
          0.9,
          0.9,
          1,
          1,
          1,
          1,
          1,
          1,
          1,
          1,
          1,
          1,
          1,
          1,
          1,
          1,
          1,
          1,
          1,
          1
         ],
         "xaxis": "x",
         "y": [
          0.8015467028655443,
          0.8009005693923044,
          0.7993980754253112,
          0.7978253908618247,
          0.8007245609134062,
          0.7981971546730144,
          0.8014325090743206,
          0.8030013520578982,
          0.8034758542208348,
          0.8023101145519146,
          0.8014396841659597,
          0.8028007991847733,
          0.8024268781683042,
          0.8020095749577607,
          0.8021820128376023,
          0.8025761587463041,
          0.8030106167359652,
          0.801918907784317,
          0.802111153905603,
          0.802492218193489,
          0.8030758558031785,
          0.8023460521583992,
          0.8027515552980781,
          0.8029032496641848
         ],
         "yaxis": "y"
        },
        {
         "marker": {
          "color": [
           0,
           1,
           2,
           3,
           4,
           5,
           26,
           27,
           28,
           32,
           33,
           34,
           37,
           41,
           42,
           51,
           53,
           83,
           107,
           108,
           117,
           121,
           123,
           124
          ],
          "colorbar": {
           "title": {
            "text": "Trial"
           },
           "x": 1,
           "xpad": 40
          },
          "colorscale": [
           [
            0,
            "rgb(247,251,255)"
           ],
           [
            0.125,
            "rgb(222,235,247)"
           ],
           [
            0.25,
            "rgb(198,219,239)"
           ],
           [
            0.375,
            "rgb(158,202,225)"
           ],
           [
            0.5,
            "rgb(107,174,214)"
           ],
           [
            0.625,
            "rgb(66,146,198)"
           ],
           [
            0.75,
            "rgb(33,113,181)"
           ],
           [
            0.875,
            "rgb(8,81,156)"
           ],
           [
            1,
            "rgb(8,48,107)"
           ]
          ],
          "line": {
           "color": "Grey",
           "width": 0.5
          },
          "showscale": false
         },
         "mode": "markers",
         "showlegend": false,
         "type": "scatter",
         "x": [
          5,
          5,
          5,
          5,
          5,
          5,
          5,
          5,
          5,
          5,
          5,
          5,
          5,
          5,
          5,
          5,
          5,
          5,
          5,
          5,
          5,
          5,
          5,
          5
         ],
         "xaxis": "x2",
         "y": [
          0.8015467028655443,
          0.8009005693923044,
          0.7993980754253112,
          0.7978253908618247,
          0.8007245609134062,
          0.7981971546730144,
          0.8014325090743206,
          0.8030013520578982,
          0.8034758542208348,
          0.8023101145519146,
          0.8014396841659597,
          0.8028007991847733,
          0.8024268781683042,
          0.8020095749577607,
          0.8021820128376023,
          0.8025761587463041,
          0.8030106167359652,
          0.801918907784317,
          0.802111153905603,
          0.802492218193489,
          0.8030758558031785,
          0.8023460521583992,
          0.8027515552980781,
          0.8029032496641848
         ],
         "yaxis": "y2"
        },
        {
         "marker": {
          "color": [
           0,
           1,
           2,
           3,
           4,
           5,
           26,
           27,
           28,
           32,
           33,
           34,
           37,
           41,
           42,
           51,
           53,
           83,
           107,
           108,
           117,
           121,
           123,
           124
          ],
          "colorbar": {
           "title": {
            "text": "Trial"
           },
           "x": 1,
           "xpad": 40
          },
          "colorscale": [
           [
            0,
            "rgb(247,251,255)"
           ],
           [
            0.125,
            "rgb(222,235,247)"
           ],
           [
            0.25,
            "rgb(198,219,239)"
           ],
           [
            0.375,
            "rgb(158,202,225)"
           ],
           [
            0.5,
            "rgb(107,174,214)"
           ],
           [
            0.625,
            "rgb(66,146,198)"
           ],
           [
            0.75,
            "rgb(33,113,181)"
           ],
           [
            0.875,
            "rgb(8,81,156)"
           ],
           [
            1,
            "rgb(8,48,107)"
           ]
          ],
          "line": {
           "color": "Grey",
           "width": 0.5
          },
          "showscale": false
         },
         "mode": "markers",
         "showlegend": false,
         "type": "scatter",
         "x": [
          1,
          1,
          1,
          1,
          0.9,
          0.9,
          1,
          1,
          1,
          1,
          1,
          1,
          1,
          1,
          1,
          1,
          1,
          1,
          1,
          1,
          1,
          1,
          1,
          1
         ],
         "xaxis": "x3",
         "y": [
          0.8015467028655443,
          0.8009005693923044,
          0.7993980754253112,
          0.7978253908618247,
          0.8007245609134062,
          0.7981971546730144,
          0.8014325090743206,
          0.8030013520578982,
          0.8034758542208348,
          0.8023101145519146,
          0.8014396841659597,
          0.8028007991847733,
          0.8024268781683042,
          0.8020095749577607,
          0.8021820128376023,
          0.8025761587463041,
          0.8030106167359652,
          0.801918907784317,
          0.802111153905603,
          0.802492218193489,
          0.8030758558031785,
          0.8023460521583992,
          0.8027515552980781,
          0.8029032496641848
         ],
         "yaxis": "y3"
        },
        {
         "marker": {
          "color": [
           0,
           1,
           2,
           3,
           4,
           5,
           26,
           27,
           28,
           32,
           33,
           34,
           37,
           41,
           42,
           51,
           53,
           83,
           107,
           108,
           117,
           121,
           123,
           124
          ],
          "colorbar": {
           "title": {
            "text": "Trial"
           },
           "x": 1,
           "xpad": 40
          },
          "colorscale": [
           [
            0,
            "rgb(247,251,255)"
           ],
           [
            0.125,
            "rgb(222,235,247)"
           ],
           [
            0.25,
            "rgb(198,219,239)"
           ],
           [
            0.375,
            "rgb(158,202,225)"
           ],
           [
            0.5,
            "rgb(107,174,214)"
           ],
           [
            0.625,
            "rgb(66,146,198)"
           ],
           [
            0.75,
            "rgb(33,113,181)"
           ],
           [
            0.875,
            "rgb(8,81,156)"
           ],
           [
            1,
            "rgb(8,48,107)"
           ]
          ],
          "line": {
           "color": "Grey",
           "width": 0.5
          },
          "showscale": false
         },
         "mode": "markers",
         "showlegend": false,
         "type": "scatter",
         "x": [
          true,
          false,
          true,
          true,
          true,
          false,
          true,
          true,
          true,
          true,
          true,
          true,
          true,
          true,
          true,
          true,
          true,
          true,
          true,
          true,
          true,
          true,
          true,
          true
         ],
         "xaxis": "x4",
         "y": [
          0.8015467028655443,
          0.8009005693923044,
          0.7993980754253112,
          0.7978253908618247,
          0.8007245609134062,
          0.7981971546730144,
          0.8014325090743206,
          0.8030013520578982,
          0.8034758542208348,
          0.8023101145519146,
          0.8014396841659597,
          0.8028007991847733,
          0.8024268781683042,
          0.8020095749577607,
          0.8021820128376023,
          0.8025761587463041,
          0.8030106167359652,
          0.801918907784317,
          0.802111153905603,
          0.802492218193489,
          0.8030758558031785,
          0.8023460521583992,
          0.8027515552980781,
          0.8029032496641848
         ],
         "yaxis": "y4"
        },
        {
         "marker": {
          "color": [
           0,
           1,
           2,
           3,
           4,
           5,
           26,
           27,
           28,
           32,
           33,
           34,
           37,
           41,
           42,
           51,
           53,
           83,
           107,
           108,
           117,
           121,
           123,
           124
          ],
          "colorbar": {
           "title": {
            "text": "Trial"
           },
           "x": 1,
           "xpad": 40
          },
          "colorscale": [
           [
            0,
            "rgb(247,251,255)"
           ],
           [
            0.125,
            "rgb(222,235,247)"
           ],
           [
            0.25,
            "rgb(198,219,239)"
           ],
           [
            0.375,
            "rgb(158,202,225)"
           ],
           [
            0.5,
            "rgb(107,174,214)"
           ],
           [
            0.625,
            "rgb(66,146,198)"
           ],
           [
            0.75,
            "rgb(33,113,181)"
           ],
           [
            0.875,
            "rgb(8,81,156)"
           ],
           [
            1,
            "rgb(8,48,107)"
           ]
          ],
          "line": {
           "color": "Grey",
           "width": 0.5
          },
          "showscale": false
         },
         "mode": "markers",
         "showlegend": false,
         "type": "scatter",
         "x": [
          4.359772146729794,
          8.637770162338423,
          1.3788275534527148,
          0.5470364053453891,
          3.122123174800838,
          0.46682784621438106,
          3.0903214961544485,
          1.9005299148612018,
          1.6468400748799057,
          0.9262213598655983,
          0.6865377925496994,
          1.0292837575764333,
          0.9209892229396415,
          1.0999149850041687,
          0.8782734966632108,
          0.9540331666326781,
          0.7650741649726752,
          1.0393662039634788,
          1.0187044893171922,
          0.9960935663632161,
          1.177343278976931,
          1.018440031915965,
          0.766595221668412,
          0.7553185641002412
         ],
         "xaxis": "x5",
         "y": [
          0.8015467028655443,
          0.8009005693923044,
          0.7993980754253112,
          0.7978253908618247,
          0.8007245609134062,
          0.7981971546730144,
          0.8014325090743206,
          0.8030013520578982,
          0.8034758542208348,
          0.8023101145519146,
          0.8014396841659597,
          0.8028007991847733,
          0.8024268781683042,
          0.8020095749577607,
          0.8021820128376023,
          0.8025761587463041,
          0.8030106167359652,
          0.801918907784317,
          0.802111153905603,
          0.802492218193489,
          0.8030758558031785,
          0.8023460521583992,
          0.8027515552980781,
          0.8029032496641848
         ],
         "yaxis": "y5"
        },
        {
         "marker": {
          "color": [
           0,
           1,
           2,
           3,
           4,
           5,
           26,
           27,
           28,
           32,
           33,
           34,
           37,
           41,
           42,
           51,
           53,
           83,
           107,
           108,
           117,
           121,
           123,
           124
          ],
          "colorbar": {
           "title": {
            "text": "Trial"
           },
           "x": 1,
           "xpad": 40
          },
          "colorscale": [
           [
            0,
            "rgb(247,251,255)"
           ],
           [
            0.125,
            "rgb(222,235,247)"
           ],
           [
            0.25,
            "rgb(198,219,239)"
           ],
           [
            0.375,
            "rgb(158,202,225)"
           ],
           [
            0.5,
            "rgb(107,174,214)"
           ],
           [
            0.625,
            "rgb(66,146,198)"
           ],
           [
            0.75,
            "rgb(33,113,181)"
           ],
           [
            0.875,
            "rgb(8,81,156)"
           ],
           [
            1,
            "rgb(8,48,107)"
           ]
          ],
          "line": {
           "color": "Grey",
           "width": 0.5
          },
          "showscale": false
         },
         "mode": "markers",
         "showlegend": false,
         "type": "scatter",
         "x": [
          0.4241204204081176,
          1.146064183188825,
          0.8180165430576533,
          3.972471861156239,
          0.20553579336223096,
          1.9529745555237905,
          0.6445219939558572,
          1.185696190386302,
          0.626430742906075,
          0.6913207845934624,
          0.7001717156605557,
          0.9126698852762456,
          0.8192650327716957,
          1.0770665740487422,
          0.569583124752933,
          0.5929116045309342,
          0.9133589980516047,
          0.6569638291011529,
          0.5509799482332252,
          0.8115025287395323,
          0.9189480310127671,
          0.6193463593928271,
          0.7289088029065274,
          0.6025479564329563
         ],
         "xaxis": "x6",
         "y": [
          0.8015467028655443,
          0.8009005693923044,
          0.7993980754253112,
          0.7978253908618247,
          0.8007245609134062,
          0.7981971546730144,
          0.8014325090743206,
          0.8030013520578982,
          0.8034758542208348,
          0.8023101145519146,
          0.8014396841659597,
          0.8028007991847733,
          0.8024268781683042,
          0.8020095749577607,
          0.8021820128376023,
          0.8025761587463041,
          0.8030106167359652,
          0.801918907784317,
          0.802111153905603,
          0.802492218193489,
          0.8030758558031785,
          0.8023460521583992,
          0.8027515552980781,
          0.8029032496641848
         ],
         "yaxis": "y6"
        },
        {
         "marker": {
          "color": [
           0,
           1,
           2,
           3,
           4,
           5,
           26,
           27,
           28,
           32,
           33,
           34,
           37,
           41,
           42,
           51,
           53,
           83,
           107,
           108,
           117,
           121,
           123,
           124
          ],
          "colorbar": {
           "title": {
            "text": "Trial"
           },
           "x": 1,
           "xpad": 40
          },
          "colorscale": [
           [
            0,
            "rgb(247,251,255)"
           ],
           [
            0.125,
            "rgb(222,235,247)"
           ],
           [
            0.25,
            "rgb(198,219,239)"
           ],
           [
            0.375,
            "rgb(158,202,225)"
           ],
           [
            0.5,
            "rgb(107,174,214)"
           ],
           [
            0.625,
            "rgb(66,146,198)"
           ],
           [
            0.75,
            "rgb(33,113,181)"
           ],
           [
            0.875,
            "rgb(8,81,156)"
           ],
           [
            1,
            "rgb(8,48,107)"
           ]
          ],
          "line": {
           "color": "Grey",
           "width": 0.5
          },
          "showscale": false
         },
         "mode": "markers",
         "showlegend": false,
         "type": "scatter",
         "x": [
          0.2106903459598976,
          0.38399305172671516,
          0.29792216471386607,
          0.47825791380396154,
          0.31098879370985943,
          0.488593057901147,
          0.3328455827053036,
          0.20783289908069005,
          0.20668077163335938,
          0.2690798187072678,
          0.2712292967701192,
          0.18945727432659995,
          0.2778147364959066,
          0.27147025535925917,
          0.26926062109431487,
          0.25919588155624007,
          0.24838218561913827,
          0.2870722792062047,
          0.2929461684657728,
          0.2903710418380003,
          0.25194156590906125,
          0.2705330263823191,
          0.24536695951578252,
          0.24513218545723467
         ],
         "xaxis": "x7",
         "y": [
          0.8015467028655443,
          0.8009005693923044,
          0.7993980754253112,
          0.7978253908618247,
          0.8007245609134062,
          0.7981971546730144,
          0.8014325090743206,
          0.8030013520578982,
          0.8034758542208348,
          0.8023101145519146,
          0.8014396841659597,
          0.8028007991847733,
          0.8024268781683042,
          0.8020095749577607,
          0.8021820128376023,
          0.8025761587463041,
          0.8030106167359652,
          0.801918907784317,
          0.802111153905603,
          0.802492218193489,
          0.8030758558031785,
          0.8023460521583992,
          0.8027515552980781,
          0.8029032496641848
         ],
         "yaxis": "y7"
        },
        {
         "marker": {
          "color": [
           0,
           1,
           2,
           3,
           4,
           5,
           26,
           27,
           28,
           32,
           33,
           34,
           37,
           41,
           42,
           51,
           53,
           83,
           107,
           108,
           117,
           121,
           123,
           124
          ],
          "colorbar": {
           "title": {
            "text": "Trial"
           },
           "x": 1,
           "xpad": 40
          },
          "colorscale": [
           [
            0,
            "rgb(247,251,255)"
           ],
           [
            0.125,
            "rgb(222,235,247)"
           ],
           [
            0.25,
            "rgb(198,219,239)"
           ],
           [
            0.375,
            "rgb(158,202,225)"
           ],
           [
            0.5,
            "rgb(107,174,214)"
           ],
           [
            0.625,
            "rgb(66,146,198)"
           ],
           [
            0.75,
            "rgb(33,113,181)"
           ],
           [
            0.875,
            "rgb(8,81,156)"
           ],
           [
            1,
            "rgb(8,48,107)"
           ]
          ],
          "line": {
           "color": "Grey",
           "width": 0.5
          },
          "showscale": false
         },
         "mode": "markers",
         "showlegend": false,
         "type": "scatter",
         "x": [
          12,
          14,
          12,
          14,
          14,
          16,
          14,
          16,
          16,
          16,
          16,
          16,
          16,
          16,
          16,
          16,
          16,
          16,
          16,
          16,
          16,
          16,
          16,
          16
         ],
         "xaxis": "x8",
         "y": [
          0.8015467028655443,
          0.8009005693923044,
          0.7993980754253112,
          0.7978253908618247,
          0.8007245609134062,
          0.7981971546730144,
          0.8014325090743206,
          0.8030013520578982,
          0.8034758542208348,
          0.8023101145519146,
          0.8014396841659597,
          0.8028007991847733,
          0.8024268781683042,
          0.8020095749577607,
          0.8021820128376023,
          0.8025761587463041,
          0.8030106167359652,
          0.801918907784317,
          0.802111153905603,
          0.802492218193489,
          0.8030758558031785,
          0.8023460521583992,
          0.8027515552980781,
          0.8029032496641848
         ],
         "yaxis": "y8"
        },
        {
         "marker": {
          "color": [
           0,
           1,
           2,
           3,
           4,
           5,
           26,
           27,
           28,
           32,
           33,
           34,
           37,
           41,
           42,
           51,
           53,
           83,
           107,
           108,
           117,
           121,
           123,
           124
          ],
          "colorbar": {
           "title": {
            "text": "Trial"
           },
           "x": 1,
           "xpad": 40
          },
          "colorscale": [
           [
            0,
            "rgb(247,251,255)"
           ],
           [
            0.125,
            "rgb(222,235,247)"
           ],
           [
            0.25,
            "rgb(198,219,239)"
           ],
           [
            0.375,
            "rgb(158,202,225)"
           ],
           [
            0.5,
            "rgb(107,174,214)"
           ],
           [
            0.625,
            "rgb(66,146,198)"
           ],
           [
            0.75,
            "rgb(33,113,181)"
           ],
           [
            0.875,
            "rgb(8,81,156)"
           ],
           [
            1,
            "rgb(8,48,107)"
           ]
          ],
          "line": {
           "color": "Grey",
           "width": 0.5
          },
          "showscale": false
         },
         "mode": "markers",
         "showlegend": false,
         "type": "scatter",
         "x": [
          1000,
          400,
          1000,
          500,
          500,
          100,
          200,
          200,
          200,
          200,
          300,
          100,
          100,
          200,
          100,
          100,
          100,
          100,
          100,
          100,
          100,
          100,
          100,
          100
         ],
         "xaxis": "x9",
         "y": [
          0.8015467028655443,
          0.8009005693923044,
          0.7993980754253112,
          0.7978253908618247,
          0.8007245609134062,
          0.7981971546730144,
          0.8014325090743206,
          0.8030013520578982,
          0.8034758542208348,
          0.8023101145519146,
          0.8014396841659597,
          0.8028007991847733,
          0.8024268781683042,
          0.8020095749577607,
          0.8021820128376023,
          0.8025761587463041,
          0.8030106167359652,
          0.801918907784317,
          0.802111153905603,
          0.802492218193489,
          0.8030758558031785,
          0.8023460521583992,
          0.8027515552980781,
          0.8029032496641848
         ],
         "yaxis": "y9"
        },
        {
         "marker": {
          "color": [
           0,
           1,
           2,
           3,
           4,
           5,
           26,
           27,
           28,
           32,
           33,
           34,
           37,
           41,
           42,
           51,
           53,
           83,
           107,
           108,
           117,
           121,
           123,
           124
          ],
          "colorbar": {
           "title": {
            "text": "Trial"
           },
           "x": 1,
           "xpad": 40
          },
          "colorscale": [
           [
            0,
            "rgb(247,251,255)"
           ],
           [
            0.125,
            "rgb(222,235,247)"
           ],
           [
            0.25,
            "rgb(198,219,239)"
           ],
           [
            0.375,
            "rgb(158,202,225)"
           ],
           [
            0.5,
            "rgb(107,174,214)"
           ],
           [
            0.625,
            "rgb(66,146,198)"
           ],
           [
            0.75,
            "rgb(33,113,181)"
           ],
           [
            0.875,
            "rgb(8,81,156)"
           ],
           [
            1,
            "rgb(8,48,107)"
           ]
          ],
          "line": {
           "color": "Grey",
           "width": 0.5
          },
          "showscale": false
         },
         "mode": "markers",
         "showlegend": false,
         "type": "scatter",
         "x": [
          360,
          500,
          320,
          670,
          310,
          350,
          390,
          500,
          380,
          390,
          460,
          530,
          340,
          400,
          350,
          350,
          290,
          380,
          290,
          250,
          320,
          360,
          360,
          360
         ],
         "xaxis": "x10",
         "y": [
          0.8015467028655443,
          0.8009005693923044,
          0.7993980754253112,
          0.7978253908618247,
          0.8007245609134062,
          0.7981971546730144,
          0.8014325090743206,
          0.8030013520578982,
          0.8034758542208348,
          0.8023101145519146,
          0.8014396841659597,
          0.8028007991847733,
          0.8024268781683042,
          0.8020095749577607,
          0.8021820128376023,
          0.8025761587463041,
          0.8030106167359652,
          0.801918907784317,
          0.802111153905603,
          0.802492218193489,
          0.8030758558031785,
          0.8023460521583992,
          0.8027515552980781,
          0.8029032496641848
         ],
         "yaxis": "y10"
        }
       ],
       "layout": {
        "template": {
         "data": {
          "bar": [
           {
            "error_x": {
             "color": "#2a3f5f"
            },
            "error_y": {
             "color": "#2a3f5f"
            },
            "marker": {
             "line": {
              "color": "#E5ECF6",
              "width": 0.5
             },
             "pattern": {
              "fillmode": "overlay",
              "size": 10,
              "solidity": 0.2
             }
            },
            "type": "bar"
           }
          ],
          "barpolar": [
           {
            "marker": {
             "line": {
              "color": "#E5ECF6",
              "width": 0.5
             },
             "pattern": {
              "fillmode": "overlay",
              "size": 10,
              "solidity": 0.2
             }
            },
            "type": "barpolar"
           }
          ],
          "carpet": [
           {
            "aaxis": {
             "endlinecolor": "#2a3f5f",
             "gridcolor": "white",
             "linecolor": "white",
             "minorgridcolor": "white",
             "startlinecolor": "#2a3f5f"
            },
            "baxis": {
             "endlinecolor": "#2a3f5f",
             "gridcolor": "white",
             "linecolor": "white",
             "minorgridcolor": "white",
             "startlinecolor": "#2a3f5f"
            },
            "type": "carpet"
           }
          ],
          "choropleth": [
           {
            "colorbar": {
             "outlinewidth": 0,
             "ticks": ""
            },
            "type": "choropleth"
           }
          ],
          "contour": [
           {
            "colorbar": {
             "outlinewidth": 0,
             "ticks": ""
            },
            "colorscale": [
             [
              0,
              "#0d0887"
             ],
             [
              0.1111111111111111,
              "#46039f"
             ],
             [
              0.2222222222222222,
              "#7201a8"
             ],
             [
              0.3333333333333333,
              "#9c179e"
             ],
             [
              0.4444444444444444,
              "#bd3786"
             ],
             [
              0.5555555555555556,
              "#d8576b"
             ],
             [
              0.6666666666666666,
              "#ed7953"
             ],
             [
              0.7777777777777778,
              "#fb9f3a"
             ],
             [
              0.8888888888888888,
              "#fdca26"
             ],
             [
              1,
              "#f0f921"
             ]
            ],
            "type": "contour"
           }
          ],
          "contourcarpet": [
           {
            "colorbar": {
             "outlinewidth": 0,
             "ticks": ""
            },
            "type": "contourcarpet"
           }
          ],
          "heatmap": [
           {
            "colorbar": {
             "outlinewidth": 0,
             "ticks": ""
            },
            "colorscale": [
             [
              0,
              "#0d0887"
             ],
             [
              0.1111111111111111,
              "#46039f"
             ],
             [
              0.2222222222222222,
              "#7201a8"
             ],
             [
              0.3333333333333333,
              "#9c179e"
             ],
             [
              0.4444444444444444,
              "#bd3786"
             ],
             [
              0.5555555555555556,
              "#d8576b"
             ],
             [
              0.6666666666666666,
              "#ed7953"
             ],
             [
              0.7777777777777778,
              "#fb9f3a"
             ],
             [
              0.8888888888888888,
              "#fdca26"
             ],
             [
              1,
              "#f0f921"
             ]
            ],
            "type": "heatmap"
           }
          ],
          "heatmapgl": [
           {
            "colorbar": {
             "outlinewidth": 0,
             "ticks": ""
            },
            "colorscale": [
             [
              0,
              "#0d0887"
             ],
             [
              0.1111111111111111,
              "#46039f"
             ],
             [
              0.2222222222222222,
              "#7201a8"
             ],
             [
              0.3333333333333333,
              "#9c179e"
             ],
             [
              0.4444444444444444,
              "#bd3786"
             ],
             [
              0.5555555555555556,
              "#d8576b"
             ],
             [
              0.6666666666666666,
              "#ed7953"
             ],
             [
              0.7777777777777778,
              "#fb9f3a"
             ],
             [
              0.8888888888888888,
              "#fdca26"
             ],
             [
              1,
              "#f0f921"
             ]
            ],
            "type": "heatmapgl"
           }
          ],
          "histogram": [
           {
            "marker": {
             "pattern": {
              "fillmode": "overlay",
              "size": 10,
              "solidity": 0.2
             }
            },
            "type": "histogram"
           }
          ],
          "histogram2d": [
           {
            "colorbar": {
             "outlinewidth": 0,
             "ticks": ""
            },
            "colorscale": [
             [
              0,
              "#0d0887"
             ],
             [
              0.1111111111111111,
              "#46039f"
             ],
             [
              0.2222222222222222,
              "#7201a8"
             ],
             [
              0.3333333333333333,
              "#9c179e"
             ],
             [
              0.4444444444444444,
              "#bd3786"
             ],
             [
              0.5555555555555556,
              "#d8576b"
             ],
             [
              0.6666666666666666,
              "#ed7953"
             ],
             [
              0.7777777777777778,
              "#fb9f3a"
             ],
             [
              0.8888888888888888,
              "#fdca26"
             ],
             [
              1,
              "#f0f921"
             ]
            ],
            "type": "histogram2d"
           }
          ],
          "histogram2dcontour": [
           {
            "colorbar": {
             "outlinewidth": 0,
             "ticks": ""
            },
            "colorscale": [
             [
              0,
              "#0d0887"
             ],
             [
              0.1111111111111111,
              "#46039f"
             ],
             [
              0.2222222222222222,
              "#7201a8"
             ],
             [
              0.3333333333333333,
              "#9c179e"
             ],
             [
              0.4444444444444444,
              "#bd3786"
             ],
             [
              0.5555555555555556,
              "#d8576b"
             ],
             [
              0.6666666666666666,
              "#ed7953"
             ],
             [
              0.7777777777777778,
              "#fb9f3a"
             ],
             [
              0.8888888888888888,
              "#fdca26"
             ],
             [
              1,
              "#f0f921"
             ]
            ],
            "type": "histogram2dcontour"
           }
          ],
          "mesh3d": [
           {
            "colorbar": {
             "outlinewidth": 0,
             "ticks": ""
            },
            "type": "mesh3d"
           }
          ],
          "parcoords": [
           {
            "line": {
             "colorbar": {
              "outlinewidth": 0,
              "ticks": ""
             }
            },
            "type": "parcoords"
           }
          ],
          "pie": [
           {
            "automargin": true,
            "type": "pie"
           }
          ],
          "scatter": [
           {
            "fillpattern": {
             "fillmode": "overlay",
             "size": 10,
             "solidity": 0.2
            },
            "type": "scatter"
           }
          ],
          "scatter3d": [
           {
            "line": {
             "colorbar": {
              "outlinewidth": 0,
              "ticks": ""
             }
            },
            "marker": {
             "colorbar": {
              "outlinewidth": 0,
              "ticks": ""
             }
            },
            "type": "scatter3d"
           }
          ],
          "scattercarpet": [
           {
            "marker": {
             "colorbar": {
              "outlinewidth": 0,
              "ticks": ""
             }
            },
            "type": "scattercarpet"
           }
          ],
          "scattergeo": [
           {
            "marker": {
             "colorbar": {
              "outlinewidth": 0,
              "ticks": ""
             }
            },
            "type": "scattergeo"
           }
          ],
          "scattergl": [
           {
            "marker": {
             "colorbar": {
              "outlinewidth": 0,
              "ticks": ""
             }
            },
            "type": "scattergl"
           }
          ],
          "scattermapbox": [
           {
            "marker": {
             "colorbar": {
              "outlinewidth": 0,
              "ticks": ""
             }
            },
            "type": "scattermapbox"
           }
          ],
          "scatterpolar": [
           {
            "marker": {
             "colorbar": {
              "outlinewidth": 0,
              "ticks": ""
             }
            },
            "type": "scatterpolar"
           }
          ],
          "scatterpolargl": [
           {
            "marker": {
             "colorbar": {
              "outlinewidth": 0,
              "ticks": ""
             }
            },
            "type": "scatterpolargl"
           }
          ],
          "scatterternary": [
           {
            "marker": {
             "colorbar": {
              "outlinewidth": 0,
              "ticks": ""
             }
            },
            "type": "scatterternary"
           }
          ],
          "surface": [
           {
            "colorbar": {
             "outlinewidth": 0,
             "ticks": ""
            },
            "colorscale": [
             [
              0,
              "#0d0887"
             ],
             [
              0.1111111111111111,
              "#46039f"
             ],
             [
              0.2222222222222222,
              "#7201a8"
             ],
             [
              0.3333333333333333,
              "#9c179e"
             ],
             [
              0.4444444444444444,
              "#bd3786"
             ],
             [
              0.5555555555555556,
              "#d8576b"
             ],
             [
              0.6666666666666666,
              "#ed7953"
             ],
             [
              0.7777777777777778,
              "#fb9f3a"
             ],
             [
              0.8888888888888888,
              "#fdca26"
             ],
             [
              1,
              "#f0f921"
             ]
            ],
            "type": "surface"
           }
          ],
          "table": [
           {
            "cells": {
             "fill": {
              "color": "#EBF0F8"
             },
             "line": {
              "color": "white"
             }
            },
            "header": {
             "fill": {
              "color": "#C8D4E3"
             },
             "line": {
              "color": "white"
             }
            },
            "type": "table"
           }
          ]
         },
         "layout": {
          "annotationdefaults": {
           "arrowcolor": "#2a3f5f",
           "arrowhead": 0,
           "arrowwidth": 1
          },
          "autotypenumbers": "strict",
          "coloraxis": {
           "colorbar": {
            "outlinewidth": 0,
            "ticks": ""
           }
          },
          "colorscale": {
           "diverging": [
            [
             0,
             "#8e0152"
            ],
            [
             0.1,
             "#c51b7d"
            ],
            [
             0.2,
             "#de77ae"
            ],
            [
             0.3,
             "#f1b6da"
            ],
            [
             0.4,
             "#fde0ef"
            ],
            [
             0.5,
             "#f7f7f7"
            ],
            [
             0.6,
             "#e6f5d0"
            ],
            [
             0.7,
             "#b8e186"
            ],
            [
             0.8,
             "#7fbc41"
            ],
            [
             0.9,
             "#4d9221"
            ],
            [
             1,
             "#276419"
            ]
           ],
           "sequential": [
            [
             0,
             "#0d0887"
            ],
            [
             0.1111111111111111,
             "#46039f"
            ],
            [
             0.2222222222222222,
             "#7201a8"
            ],
            [
             0.3333333333333333,
             "#9c179e"
            ],
            [
             0.4444444444444444,
             "#bd3786"
            ],
            [
             0.5555555555555556,
             "#d8576b"
            ],
            [
             0.6666666666666666,
             "#ed7953"
            ],
            [
             0.7777777777777778,
             "#fb9f3a"
            ],
            [
             0.8888888888888888,
             "#fdca26"
            ],
            [
             1,
             "#f0f921"
            ]
           ],
           "sequentialminus": [
            [
             0,
             "#0d0887"
            ],
            [
             0.1111111111111111,
             "#46039f"
            ],
            [
             0.2222222222222222,
             "#7201a8"
            ],
            [
             0.3333333333333333,
             "#9c179e"
            ],
            [
             0.4444444444444444,
             "#bd3786"
            ],
            [
             0.5555555555555556,
             "#d8576b"
            ],
            [
             0.6666666666666666,
             "#ed7953"
            ],
            [
             0.7777777777777778,
             "#fb9f3a"
            ],
            [
             0.8888888888888888,
             "#fdca26"
            ],
            [
             1,
             "#f0f921"
            ]
           ]
          },
          "colorway": [
           "#636efa",
           "#EF553B",
           "#00cc96",
           "#ab63fa",
           "#FFA15A",
           "#19d3f3",
           "#FF6692",
           "#B6E880",
           "#FF97FF",
           "#FECB52"
          ],
          "font": {
           "color": "#2a3f5f"
          },
          "geo": {
           "bgcolor": "white",
           "lakecolor": "white",
           "landcolor": "#E5ECF6",
           "showlakes": true,
           "showland": true,
           "subunitcolor": "white"
          },
          "hoverlabel": {
           "align": "left"
          },
          "hovermode": "closest",
          "mapbox": {
           "style": "light"
          },
          "paper_bgcolor": "white",
          "plot_bgcolor": "#E5ECF6",
          "polar": {
           "angularaxis": {
            "gridcolor": "white",
            "linecolor": "white",
            "ticks": ""
           },
           "bgcolor": "#E5ECF6",
           "radialaxis": {
            "gridcolor": "white",
            "linecolor": "white",
            "ticks": ""
           }
          },
          "scene": {
           "xaxis": {
            "backgroundcolor": "#E5ECF6",
            "gridcolor": "white",
            "gridwidth": 2,
            "linecolor": "white",
            "showbackground": true,
            "ticks": "",
            "zerolinecolor": "white"
           },
           "yaxis": {
            "backgroundcolor": "#E5ECF6",
            "gridcolor": "white",
            "gridwidth": 2,
            "linecolor": "white",
            "showbackground": true,
            "ticks": "",
            "zerolinecolor": "white"
           },
           "zaxis": {
            "backgroundcolor": "#E5ECF6",
            "gridcolor": "white",
            "gridwidth": 2,
            "linecolor": "white",
            "showbackground": true,
            "ticks": "",
            "zerolinecolor": "white"
           }
          },
          "shapedefaults": {
           "line": {
            "color": "#2a3f5f"
           }
          },
          "ternary": {
           "aaxis": {
            "gridcolor": "white",
            "linecolor": "white",
            "ticks": ""
           },
           "baxis": {
            "gridcolor": "white",
            "linecolor": "white",
            "ticks": ""
           },
           "bgcolor": "#E5ECF6",
           "caxis": {
            "gridcolor": "white",
            "linecolor": "white",
            "ticks": ""
           }
          },
          "title": {
           "x": 0.05
          },
          "xaxis": {
           "automargin": true,
           "gridcolor": "white",
           "linecolor": "white",
           "ticks": "",
           "title": {
            "standoff": 15
           },
           "zerolinecolor": "white",
           "zerolinewidth": 2
          },
          "yaxis": {
           "automargin": true,
           "gridcolor": "white",
           "linecolor": "white",
           "ticks": "",
           "title": {
            "standoff": 15
           },
           "zerolinecolor": "white",
           "zerolinewidth": 2
          }
         }
        },
        "title": {
         "text": "Slice Plot"
        },
        "width": 3000,
        "xaxis": {
         "anchor": "y",
         "domain": [
          0,
          0.082
         ],
         "title": {
          "text": "bagging_fraction"
         }
        },
        "xaxis10": {
         "anchor": "y10",
         "domain": [
          0.9179999999999999,
          0.9999999999999999
         ],
         "title": {
          "text": "num_leaves"
         }
        },
        "xaxis2": {
         "anchor": "y2",
         "categoryarray": [
          5
         ],
         "categoryorder": "array",
         "domain": [
          0.10200000000000001,
          0.184
         ],
         "title": {
          "text": "bagging_freq"
         },
         "type": "category"
        },
        "xaxis3": {
         "anchor": "y3",
         "domain": [
          0.20400000000000001,
          0.28600000000000003
         ],
         "title": {
          "text": "feature_fraction"
         }
        },
        "xaxis4": {
         "anchor": "y4",
         "categoryarray": [
          true,
          false
         ],
         "categoryorder": "array",
         "domain": [
          0.306,
          0.388
         ],
         "title": {
          "text": "is_unbalance"
         },
         "type": "category"
        },
        "xaxis5": {
         "anchor": "y5",
         "domain": [
          0.40800000000000003,
          0.49000000000000005
         ],
         "title": {
          "text": "lambda_l1"
         },
         "type": "log"
        },
        "xaxis6": {
         "anchor": "y6",
         "domain": [
          0.51,
          0.592
         ],
         "title": {
          "text": "lambda_l2"
         },
         "type": "log"
        },
        "xaxis7": {
         "anchor": "y7",
         "domain": [
          0.6120000000000001,
          0.6940000000000001
         ],
         "title": {
          "text": "learning_rate"
         },
         "type": "log"
        },
        "xaxis8": {
         "anchor": "y8",
         "domain": [
          0.7140000000000001,
          0.796
         ],
         "title": {
          "text": "max_depth"
         }
        },
        "xaxis9": {
         "anchor": "y9",
         "domain": [
          0.8160000000000001,
          0.898
         ],
         "title": {
          "text": "min_data_in_leaf"
         }
        },
        "yaxis": {
         "anchor": "x",
         "domain": [
          0,
          1
         ],
         "title": {
          "text": "Objective Value"
         }
        },
        "yaxis10": {
         "anchor": "x10",
         "domain": [
          0,
          1
         ],
         "matches": "y",
         "showticklabels": false
        },
        "yaxis2": {
         "anchor": "x2",
         "domain": [
          0,
          1
         ],
         "matches": "y",
         "showticklabels": false
        },
        "yaxis3": {
         "anchor": "x3",
         "domain": [
          0,
          1
         ],
         "matches": "y",
         "showticklabels": false
        },
        "yaxis4": {
         "anchor": "x4",
         "domain": [
          0,
          1
         ],
         "matches": "y",
         "showticklabels": false
        },
        "yaxis5": {
         "anchor": "x5",
         "domain": [
          0,
          1
         ],
         "matches": "y",
         "showticklabels": false
        },
        "yaxis6": {
         "anchor": "x6",
         "domain": [
          0,
          1
         ],
         "matches": "y",
         "showticklabels": false
        },
        "yaxis7": {
         "anchor": "x7",
         "domain": [
          0,
          1
         ],
         "matches": "y",
         "showticklabels": false
        },
        "yaxis8": {
         "anchor": "x8",
         "domain": [
          0,
          1
         ],
         "matches": "y",
         "showticklabels": false
        },
        "yaxis9": {
         "anchor": "x9",
         "domain": [
          0,
          1
         ],
         "matches": "y",
         "showticklabels": false
        }
       }
      }
     },
     "metadata": {},
     "output_type": "display_data"
    }
   ],
   "source": [
    "optuna.visualization.plot_slice(study)"
   ]
  },
  {
   "cell_type": "code",
   "execution_count": 25,
   "metadata": {},
   "outputs": [
    {
     "data": {
      "application/vnd.plotly.v1+json": {
       "config": {
        "plotlyServerURL": "https://plot.ly"
       },
       "data": [
        {
         "cliponaxis": false,
         "hovertemplate": [
          "bagging_freq (CategoricalDistribution): 0.0<extra></extra>",
          "feature_fraction (FloatDistribution): 0.004854355201750941<extra></extra>",
          "is_unbalance (CategoricalDistribution): 0.008070619714872357<extra></extra>",
          "num_leaves (IntDistribution): 0.032037380885649905<extra></extra>",
          "max_depth (IntDistribution): 0.05233383389608805<extra></extra>",
          "min_data_in_leaf (IntDistribution): 0.06492876549908538<extra></extra>",
          "bagging_fraction (FloatDistribution): 0.07970037523413696<extra></extra>",
          "lambda_l2 (FloatDistribution): 0.09054306524462957<extra></extra>",
          "lambda_l1 (FloatDistribution): 0.19446255535388082<extra></extra>",
          "learning_rate (FloatDistribution): 0.4730690489699062<extra></extra>"
         ],
         "marker": {
          "color": "rgb(66,146,198)"
         },
         "orientation": "h",
         "text": [
          "<0.01",
          "<0.01",
          "<0.01",
          "0.03",
          "0.05",
          "0.06",
          "0.08",
          "0.09",
          "0.19",
          "0.47"
         ],
         "textposition": "outside",
         "type": "bar",
         "x": [
          0,
          0.004854355201750941,
          0.008070619714872357,
          0.032037380885649905,
          0.05233383389608805,
          0.06492876549908538,
          0.07970037523413696,
          0.09054306524462957,
          0.19446255535388082,
          0.4730690489699062
         ],
         "y": [
          "bagging_freq",
          "feature_fraction",
          "is_unbalance",
          "num_leaves",
          "max_depth",
          "min_data_in_leaf",
          "bagging_fraction",
          "lambda_l2",
          "lambda_l1",
          "learning_rate"
         ]
        }
       ],
       "layout": {
        "showlegend": false,
        "template": {
         "data": {
          "bar": [
           {
            "error_x": {
             "color": "#2a3f5f"
            },
            "error_y": {
             "color": "#2a3f5f"
            },
            "marker": {
             "line": {
              "color": "#E5ECF6",
              "width": 0.5
             },
             "pattern": {
              "fillmode": "overlay",
              "size": 10,
              "solidity": 0.2
             }
            },
            "type": "bar"
           }
          ],
          "barpolar": [
           {
            "marker": {
             "line": {
              "color": "#E5ECF6",
              "width": 0.5
             },
             "pattern": {
              "fillmode": "overlay",
              "size": 10,
              "solidity": 0.2
             }
            },
            "type": "barpolar"
           }
          ],
          "carpet": [
           {
            "aaxis": {
             "endlinecolor": "#2a3f5f",
             "gridcolor": "white",
             "linecolor": "white",
             "minorgridcolor": "white",
             "startlinecolor": "#2a3f5f"
            },
            "baxis": {
             "endlinecolor": "#2a3f5f",
             "gridcolor": "white",
             "linecolor": "white",
             "minorgridcolor": "white",
             "startlinecolor": "#2a3f5f"
            },
            "type": "carpet"
           }
          ],
          "choropleth": [
           {
            "colorbar": {
             "outlinewidth": 0,
             "ticks": ""
            },
            "type": "choropleth"
           }
          ],
          "contour": [
           {
            "colorbar": {
             "outlinewidth": 0,
             "ticks": ""
            },
            "colorscale": [
             [
              0,
              "#0d0887"
             ],
             [
              0.1111111111111111,
              "#46039f"
             ],
             [
              0.2222222222222222,
              "#7201a8"
             ],
             [
              0.3333333333333333,
              "#9c179e"
             ],
             [
              0.4444444444444444,
              "#bd3786"
             ],
             [
              0.5555555555555556,
              "#d8576b"
             ],
             [
              0.6666666666666666,
              "#ed7953"
             ],
             [
              0.7777777777777778,
              "#fb9f3a"
             ],
             [
              0.8888888888888888,
              "#fdca26"
             ],
             [
              1,
              "#f0f921"
             ]
            ],
            "type": "contour"
           }
          ],
          "contourcarpet": [
           {
            "colorbar": {
             "outlinewidth": 0,
             "ticks": ""
            },
            "type": "contourcarpet"
           }
          ],
          "heatmap": [
           {
            "colorbar": {
             "outlinewidth": 0,
             "ticks": ""
            },
            "colorscale": [
             [
              0,
              "#0d0887"
             ],
             [
              0.1111111111111111,
              "#46039f"
             ],
             [
              0.2222222222222222,
              "#7201a8"
             ],
             [
              0.3333333333333333,
              "#9c179e"
             ],
             [
              0.4444444444444444,
              "#bd3786"
             ],
             [
              0.5555555555555556,
              "#d8576b"
             ],
             [
              0.6666666666666666,
              "#ed7953"
             ],
             [
              0.7777777777777778,
              "#fb9f3a"
             ],
             [
              0.8888888888888888,
              "#fdca26"
             ],
             [
              1,
              "#f0f921"
             ]
            ],
            "type": "heatmap"
           }
          ],
          "heatmapgl": [
           {
            "colorbar": {
             "outlinewidth": 0,
             "ticks": ""
            },
            "colorscale": [
             [
              0,
              "#0d0887"
             ],
             [
              0.1111111111111111,
              "#46039f"
             ],
             [
              0.2222222222222222,
              "#7201a8"
             ],
             [
              0.3333333333333333,
              "#9c179e"
             ],
             [
              0.4444444444444444,
              "#bd3786"
             ],
             [
              0.5555555555555556,
              "#d8576b"
             ],
             [
              0.6666666666666666,
              "#ed7953"
             ],
             [
              0.7777777777777778,
              "#fb9f3a"
             ],
             [
              0.8888888888888888,
              "#fdca26"
             ],
             [
              1,
              "#f0f921"
             ]
            ],
            "type": "heatmapgl"
           }
          ],
          "histogram": [
           {
            "marker": {
             "pattern": {
              "fillmode": "overlay",
              "size": 10,
              "solidity": 0.2
             }
            },
            "type": "histogram"
           }
          ],
          "histogram2d": [
           {
            "colorbar": {
             "outlinewidth": 0,
             "ticks": ""
            },
            "colorscale": [
             [
              0,
              "#0d0887"
             ],
             [
              0.1111111111111111,
              "#46039f"
             ],
             [
              0.2222222222222222,
              "#7201a8"
             ],
             [
              0.3333333333333333,
              "#9c179e"
             ],
             [
              0.4444444444444444,
              "#bd3786"
             ],
             [
              0.5555555555555556,
              "#d8576b"
             ],
             [
              0.6666666666666666,
              "#ed7953"
             ],
             [
              0.7777777777777778,
              "#fb9f3a"
             ],
             [
              0.8888888888888888,
              "#fdca26"
             ],
             [
              1,
              "#f0f921"
             ]
            ],
            "type": "histogram2d"
           }
          ],
          "histogram2dcontour": [
           {
            "colorbar": {
             "outlinewidth": 0,
             "ticks": ""
            },
            "colorscale": [
             [
              0,
              "#0d0887"
             ],
             [
              0.1111111111111111,
              "#46039f"
             ],
             [
              0.2222222222222222,
              "#7201a8"
             ],
             [
              0.3333333333333333,
              "#9c179e"
             ],
             [
              0.4444444444444444,
              "#bd3786"
             ],
             [
              0.5555555555555556,
              "#d8576b"
             ],
             [
              0.6666666666666666,
              "#ed7953"
             ],
             [
              0.7777777777777778,
              "#fb9f3a"
             ],
             [
              0.8888888888888888,
              "#fdca26"
             ],
             [
              1,
              "#f0f921"
             ]
            ],
            "type": "histogram2dcontour"
           }
          ],
          "mesh3d": [
           {
            "colorbar": {
             "outlinewidth": 0,
             "ticks": ""
            },
            "type": "mesh3d"
           }
          ],
          "parcoords": [
           {
            "line": {
             "colorbar": {
              "outlinewidth": 0,
              "ticks": ""
             }
            },
            "type": "parcoords"
           }
          ],
          "pie": [
           {
            "automargin": true,
            "type": "pie"
           }
          ],
          "scatter": [
           {
            "fillpattern": {
             "fillmode": "overlay",
             "size": 10,
             "solidity": 0.2
            },
            "type": "scatter"
           }
          ],
          "scatter3d": [
           {
            "line": {
             "colorbar": {
              "outlinewidth": 0,
              "ticks": ""
             }
            },
            "marker": {
             "colorbar": {
              "outlinewidth": 0,
              "ticks": ""
             }
            },
            "type": "scatter3d"
           }
          ],
          "scattercarpet": [
           {
            "marker": {
             "colorbar": {
              "outlinewidth": 0,
              "ticks": ""
             }
            },
            "type": "scattercarpet"
           }
          ],
          "scattergeo": [
           {
            "marker": {
             "colorbar": {
              "outlinewidth": 0,
              "ticks": ""
             }
            },
            "type": "scattergeo"
           }
          ],
          "scattergl": [
           {
            "marker": {
             "colorbar": {
              "outlinewidth": 0,
              "ticks": ""
             }
            },
            "type": "scattergl"
           }
          ],
          "scattermapbox": [
           {
            "marker": {
             "colorbar": {
              "outlinewidth": 0,
              "ticks": ""
             }
            },
            "type": "scattermapbox"
           }
          ],
          "scatterpolar": [
           {
            "marker": {
             "colorbar": {
              "outlinewidth": 0,
              "ticks": ""
             }
            },
            "type": "scatterpolar"
           }
          ],
          "scatterpolargl": [
           {
            "marker": {
             "colorbar": {
              "outlinewidth": 0,
              "ticks": ""
             }
            },
            "type": "scatterpolargl"
           }
          ],
          "scatterternary": [
           {
            "marker": {
             "colorbar": {
              "outlinewidth": 0,
              "ticks": ""
             }
            },
            "type": "scatterternary"
           }
          ],
          "surface": [
           {
            "colorbar": {
             "outlinewidth": 0,
             "ticks": ""
            },
            "colorscale": [
             [
              0,
              "#0d0887"
             ],
             [
              0.1111111111111111,
              "#46039f"
             ],
             [
              0.2222222222222222,
              "#7201a8"
             ],
             [
              0.3333333333333333,
              "#9c179e"
             ],
             [
              0.4444444444444444,
              "#bd3786"
             ],
             [
              0.5555555555555556,
              "#d8576b"
             ],
             [
              0.6666666666666666,
              "#ed7953"
             ],
             [
              0.7777777777777778,
              "#fb9f3a"
             ],
             [
              0.8888888888888888,
              "#fdca26"
             ],
             [
              1,
              "#f0f921"
             ]
            ],
            "type": "surface"
           }
          ],
          "table": [
           {
            "cells": {
             "fill": {
              "color": "#EBF0F8"
             },
             "line": {
              "color": "white"
             }
            },
            "header": {
             "fill": {
              "color": "#C8D4E3"
             },
             "line": {
              "color": "white"
             }
            },
            "type": "table"
           }
          ]
         },
         "layout": {
          "annotationdefaults": {
           "arrowcolor": "#2a3f5f",
           "arrowhead": 0,
           "arrowwidth": 1
          },
          "autotypenumbers": "strict",
          "coloraxis": {
           "colorbar": {
            "outlinewidth": 0,
            "ticks": ""
           }
          },
          "colorscale": {
           "diverging": [
            [
             0,
             "#8e0152"
            ],
            [
             0.1,
             "#c51b7d"
            ],
            [
             0.2,
             "#de77ae"
            ],
            [
             0.3,
             "#f1b6da"
            ],
            [
             0.4,
             "#fde0ef"
            ],
            [
             0.5,
             "#f7f7f7"
            ],
            [
             0.6,
             "#e6f5d0"
            ],
            [
             0.7,
             "#b8e186"
            ],
            [
             0.8,
             "#7fbc41"
            ],
            [
             0.9,
             "#4d9221"
            ],
            [
             1,
             "#276419"
            ]
           ],
           "sequential": [
            [
             0,
             "#0d0887"
            ],
            [
             0.1111111111111111,
             "#46039f"
            ],
            [
             0.2222222222222222,
             "#7201a8"
            ],
            [
             0.3333333333333333,
             "#9c179e"
            ],
            [
             0.4444444444444444,
             "#bd3786"
            ],
            [
             0.5555555555555556,
             "#d8576b"
            ],
            [
             0.6666666666666666,
             "#ed7953"
            ],
            [
             0.7777777777777778,
             "#fb9f3a"
            ],
            [
             0.8888888888888888,
             "#fdca26"
            ],
            [
             1,
             "#f0f921"
            ]
           ],
           "sequentialminus": [
            [
             0,
             "#0d0887"
            ],
            [
             0.1111111111111111,
             "#46039f"
            ],
            [
             0.2222222222222222,
             "#7201a8"
            ],
            [
             0.3333333333333333,
             "#9c179e"
            ],
            [
             0.4444444444444444,
             "#bd3786"
            ],
            [
             0.5555555555555556,
             "#d8576b"
            ],
            [
             0.6666666666666666,
             "#ed7953"
            ],
            [
             0.7777777777777778,
             "#fb9f3a"
            ],
            [
             0.8888888888888888,
             "#fdca26"
            ],
            [
             1,
             "#f0f921"
            ]
           ]
          },
          "colorway": [
           "#636efa",
           "#EF553B",
           "#00cc96",
           "#ab63fa",
           "#FFA15A",
           "#19d3f3",
           "#FF6692",
           "#B6E880",
           "#FF97FF",
           "#FECB52"
          ],
          "font": {
           "color": "#2a3f5f"
          },
          "geo": {
           "bgcolor": "white",
           "lakecolor": "white",
           "landcolor": "#E5ECF6",
           "showlakes": true,
           "showland": true,
           "subunitcolor": "white"
          },
          "hoverlabel": {
           "align": "left"
          },
          "hovermode": "closest",
          "mapbox": {
           "style": "light"
          },
          "paper_bgcolor": "white",
          "plot_bgcolor": "#E5ECF6",
          "polar": {
           "angularaxis": {
            "gridcolor": "white",
            "linecolor": "white",
            "ticks": ""
           },
           "bgcolor": "#E5ECF6",
           "radialaxis": {
            "gridcolor": "white",
            "linecolor": "white",
            "ticks": ""
           }
          },
          "scene": {
           "xaxis": {
            "backgroundcolor": "#E5ECF6",
            "gridcolor": "white",
            "gridwidth": 2,
            "linecolor": "white",
            "showbackground": true,
            "ticks": "",
            "zerolinecolor": "white"
           },
           "yaxis": {
            "backgroundcolor": "#E5ECF6",
            "gridcolor": "white",
            "gridwidth": 2,
            "linecolor": "white",
            "showbackground": true,
            "ticks": "",
            "zerolinecolor": "white"
           },
           "zaxis": {
            "backgroundcolor": "#E5ECF6",
            "gridcolor": "white",
            "gridwidth": 2,
            "linecolor": "white",
            "showbackground": true,
            "ticks": "",
            "zerolinecolor": "white"
           }
          },
          "shapedefaults": {
           "line": {
            "color": "#2a3f5f"
           }
          },
          "ternary": {
           "aaxis": {
            "gridcolor": "white",
            "linecolor": "white",
            "ticks": ""
           },
           "baxis": {
            "gridcolor": "white",
            "linecolor": "white",
            "ticks": ""
           },
           "bgcolor": "#E5ECF6",
           "caxis": {
            "gridcolor": "white",
            "linecolor": "white",
            "ticks": ""
           }
          },
          "title": {
           "x": 0.05
          },
          "xaxis": {
           "automargin": true,
           "gridcolor": "white",
           "linecolor": "white",
           "ticks": "",
           "title": {
            "standoff": 15
           },
           "zerolinecolor": "white",
           "zerolinewidth": 2
          },
          "yaxis": {
           "automargin": true,
           "gridcolor": "white",
           "linecolor": "white",
           "ticks": "",
           "title": {
            "standoff": 15
           },
           "zerolinecolor": "white",
           "zerolinewidth": 2
          }
         }
        },
        "title": {
         "text": "Hyperparameter Importances"
        },
        "xaxis": {
         "title": {
          "text": "Importance for Objective Value"
         }
        },
        "yaxis": {
         "title": {
          "text": "Hyperparameter"
         }
        }
       }
      }
     },
     "metadata": {},
     "output_type": "display_data"
    }
   ],
   "source": [
    "optuna.visualization.plot_param_importances(study)"
   ]
  },
  {
   "cell_type": "code",
   "execution_count": 26,
   "metadata": {},
   "outputs": [
    {
     "data": {
      "image/png": "[encoded data removed]",
      "text/plain": [
       "<Figure size 800x950 with 2 Axes>"
      ]
     },
     "metadata": {},
     "output_type": "display_data"
    }
   ],
   "source": [
    "import shap\n",
    "explainer = shap.TreeExplainer(lgb_clf)\n",
    "shap_values = explainer.shap_values(X_test)\n",
    "\n",
    "# Plot SHAP summary plot (for all features)\n",
    "shap.summary_plot(shap_values, X_test) \n",
    "plt.show()"
   ]
  },
  {
   "cell_type": "code",
   "execution_count": 27,
   "metadata": {},
   "outputs": [],
   "source": [
    "import pickle\n",
    "\n",
    "# Assuming you have a variable named 'best_params' containing the best hyperparameters\n",
    "best_params = study.best_params\n",
    "\n",
    "with open('best_params.pkl', 'wb') as f:\n",
    "    pickle.dump(best_params, f)"
   ]
  },
  {
   "cell_type": "code",
   "execution_count": 28,
   "metadata": {},
   "outputs": [
    {
     "data": {
      "text/plain": [
       "{'learning_rate': 0.20668077163335938,\n",
       " 'num_leaves': 380,\n",
       " 'max_depth': 16,\n",
       " 'min_data_in_leaf': 200,\n",
       " 'lambda_l1': 1.6468400748799057,\n",
       " 'lambda_l2': 0.626430742906075,\n",
       " 'bagging_fraction': 1.0,\n",
       " 'bagging_freq': 5,\n",
       " 'feature_fraction': 1.0,\n",
       " 'is_unbalance': True}"
      ]
     },
     "execution_count": 28,
     "metadata": {},
     "output_type": "execute_result"
    }
   ],
   "source": [
    "best_params\n"
   ]
  },
  {
   "cell_type": "code",
   "execution_count": 29,
   "metadata": {},
   "outputs": [
    {
     "name": "stdout",
     "output_type": "stream",
     "text": [
      "\tBest value (AUC): 0.80348\n",
      "\tBest params:\n",
      "\t\tlearning_rate: 0.20668077163335938\n",
      "\t\tnum_leaves: 380\n",
      "\t\tmax_depth: 16\n",
      "\t\tmin_data_in_leaf: 200\n",
      "\t\tlambda_l1: 1.6468400748799057\n",
      "\t\tlambda_l2: 0.626430742906075\n",
      "\t\tbagging_fraction: 1.0\n",
      "\t\tbagging_freq: 5\n",
      "\t\tfeature_fraction: 1.0\n",
      "\t\tis_unbalance: True\n",
      "Best model best_iteration: 41.4\n"
     ]
    }
   ],
   "source": [
    "print(f\"\\tBest value (AUC): {study.best_value:.5f}\")\n",
    "print(f\"\\tBest params:\")\n",
    "\n",
    "for key, value in study.best_params.items():\n",
    "    print(f\"\\t\\t{key}: {value}\")\n",
    "\n",
    "print(\"Best model best_iteration:\", study_model_iteractions[study.best_trial.number])"
   ]
  },
  {
   "cell_type": "code",
   "execution_count": 30,
   "metadata": {},
   "outputs": [
    {
     "name": "stdout",
     "output_type": "stream",
     "text": [
      "{'verbose': -1, 'objective': 'binary', 'metric': 'auc', 'learning_rate': 0.20668077163335938, 'num_leaves': 380, 'max_depth': 16, 'min_data_in_leaf': 200, 'lambda_l1': 1.6468400748799057, 'lambda_l2': 0.626430742906075, 'bagging_fraction': 1.0, 'bagging_freq': 5, 'feature_fraction': 1.0, 'is_unbalance': True, 'num_iterations': 41}\n"
     ]
    }
   ],
   "source": [
    "best_params = {\"verbose\": -1,\n",
    "                \"objective\":\"binary\",\n",
    "                \"metric\":\"auc\"\n",
    "            }\n",
    "for key,val in study.best_params.items():\n",
    "    best_params[key] = val\n",
    "\n",
    "best_params[\"num_iterations\"] = int(study_model_iteractions[study.best_trial.number])\n",
    "print(best_params)"
   ]
  },
  {
   "cell_type": "markdown",
   "metadata": {},
   "source": [
    "# Training the model with parameters found using Optuna"
   ]
  },
  {
   "cell_type": "code",
   "execution_count": 31,
   "metadata": {},
   "outputs": [],
   "source": [
    "\n",
    "train_data = lgb.Dataset(data=X_train, label=y_train, params={\"verbose\":-1}, categorical_feature=categorical_columns)\n",
    "test_data = lgb.Dataset(data=X_test, label=y_test, params={\"verbose\":-1}, categorical_feature=categorical_columns)\n",
    "best_lgb = lgb.train(params=best_params,\n",
    "                    train_set=train_data) "
   ]
  },
  {
   "cell_type": "code",
   "execution_count": 32,
   "metadata": {},
   "outputs": [
    {
     "name": "stdout",
     "output_type": "stream",
     "text": [
      "AUC score on Test dataset: 0.8068301908163129\n",
      "AUC score on Train dataset: 0.8412170420735552\n"
     ]
    }
   ],
   "source": [
    "print(\"AUC score on Test dataset:\", roc_auc_score(y_test, best_lgb.predict(X_test)))\n",
    "print(\"AUC score on Train dataset:\", roc_auc_score(y_train, best_lgb.predict(X_train)))"
   ]
  },
  {
   "cell_type": "code",
   "execution_count": 33,
   "metadata": {},
   "outputs": [],
   "source": [
    "from sklearn.metrics import f1_score\n",
    "import numpy as np\n",
    "\n",
    "def calculate_optimal_threshold(classifier, X, y):\n",
    "    # Predict probabilities\n",
    "    y_pred_proba = classifier.predict(X)\n",
    "    \n",
    "    # Set a range of thresholds to test\n",
    "    thresholds = [0.1, 0.2, 0.3, 0.4, 0.5, 0.6, 0.7, 0.8, 0.9]\n",
    "    best_f1 = 0\n",
    "    best_threshold = 0\n",
    "    \n",
    "    # Find the threshold that maximizes the F1 score\n",
    "    for threshold in thresholds:\n",
    "      y_pred = (y_pred_proba > threshold).astype(int)\n",
    "      f1 = f1_score(y_test, y_pred, average='macro')\n",
    "    \n",
    "      if f1 > best_f1:\n",
    "        best_f1 = f1\n",
    "        best_threshold = threshold\n",
    "    return best_threshold\n",
    "    \n",
    "   "
   ]
  },
  {
   "cell_type": "code",
   "execution_count": 34,
   "metadata": {},
   "outputs": [
    {
     "data": {
      "text/plain": [
       "0.7"
      ]
     },
     "execution_count": 34,
     "metadata": {},
     "output_type": "execute_result"
    }
   ],
   "source": [
    "calculate_optimal_threshold(best_lgb, X_test, y_test)"
   ]
  },
  {
   "cell_type": "code",
   "execution_count": 35,
   "metadata": {},
   "outputs": [
    {
     "name": "stdout",
     "output_type": "stream",
     "text": [
      "Best F1 score: 0.687680859995972\n",
      "Best threshold: 0.7\n"
     ]
    }
   ],
   "source": [
    "from sklearn.metrics import f1_score\n",
    "\n",
    "# Assuming best_lgb is the trained LightGBM model and X_test, y_test are defined\n",
    "\n",
    "# Get the predicted probabilities for the positive class (class 1)\n",
    "y_pred_proba = best_lgb.predict(X_test)\n",
    "\n",
    "# Set a range of thresholds to test\n",
    "thresholds = [0.1, 0.2, 0.3, 0.4, 0.5, 0.6, 0.7, 0.8, 0.9]\n",
    "\n",
    "best_f1 = 0\n",
    "best_threshold = 0\n",
    "\n",
    "# Find the threshold that maximizes the F1 score\n",
    "for threshold in thresholds:\n",
    "    y_pred = (y_pred_proba > threshold).astype(int)\n",
    "    f1 = f1_score(y_test, y_pred, average='macro')\n",
    "    \n",
    "    if f1 > best_f1:\n",
    "        best_f1 = f1\n",
    "        best_threshold = threshold\n",
    "\n",
    "print(\"Best F1 score:\", best_f1)\n",
    "print(\"Best threshold:\", best_threshold)"
   ]
  },
  {
   "cell_type": "code",
   "execution_count": 36,
   "metadata": {},
   "outputs": [
    {
     "data": {
      "image/png": "[encoded data removed]",
      "text/plain": [
       "<Figure size 800x600 with 1 Axes>"
      ]
     },
     "metadata": {},
     "output_type": "display_data"
    }
   ],
   "source": [
    "import seaborn as sns\n",
    "from sklearn.metrics import confusion_matrix\n",
    "# Get the predicted probabilities for the positive class (class 1) from the test set\n",
    "y_pred_proba = best_lgb.predict(X_test)\n",
    "\n",
    "# Use the threshold obtained earlier to predict binary labels\n",
    "threshold = best_threshold\n",
    "y_pred = (y_pred_proba > threshold).astype(int)\n",
    "\n",
    "# Construct the confusion matrix\n",
    "conf_matrix = confusion_matrix(y_test, y_pred)\n",
    "\n",
    "# Plot confusion matrix using seaborn heatmap\n",
    "plt.figure(figsize=(8, 6))\n",
    "sns.heatmap(conf_matrix, annot=True, fmt='d', cmap='Blues', cbar=False,\n",
    "            xticklabels=['Predicted 0', 'Predicted 1'],\n",
    "            yticklabels=['Actual 0', 'Actual 1'])\n",
    "plt.title('Confusion Matrix')\n",
    "plt.xlabel('Predicted')\n",
    "plt.ylabel('Actual')\n",
    "plt.show()"
   ]
  },
  {
   "cell_type": "code",
   "execution_count": 37,
   "metadata": {},
   "outputs": [],
   "source": [
    "import pickle\n",
    "\n",
    "# Assuming you have a variable named 'best_params' containing the best hyperparameters\n",
    "best_params = best_params\n",
    "\n",
    "with open('best_params.pkl', 'wb') as f:\n",
    "    pickle.dump(best_params, f)"
   ]
  },
  {
   "cell_type": "code",
   "execution_count": 38,
   "metadata": {},
   "outputs": [],
   "source": [
    "from sklearn.metrics import f1_score\n",
    "import numpy as np\n",
    "\n",
    "def calculate_optimal_threshold(classifier, X, y):\n",
    "    # Predict probabilities\n",
    "    y_pred_proba = classifier.predict(X)\n",
    "    \n",
    "    # Set a range of thresholds to test\n",
    "    thresholds = [0.1, 0.2, 0.3, 0.4, 0.5, 0.6, 0.7, 0.8, 0.9]\n",
    "    best_f1 = 0\n",
    "    best_threshold = 0\n",
    "    \n",
    "    # Find the threshold that maximizes the F1 score\n",
    "    for threshold in thresholds:\n",
    "      y_pred = (y_pred_proba > threshold).astype(int)\n",
    "      f1 = f1_score(y_test, y_pred, average='macro')\n",
    "    \n",
    "      if f1 > best_f1:\n",
    "        best_f1 = f1\n",
    "        best_threshold = threshold\n",
    "    return best_threshold"
   ]
  },
  {
   "cell_type": "code",
   "execution_count": 39,
   "metadata": {},
   "outputs": [],
   "source": [
    "import pandas as pd\n",
    "import numpy as np\n",
    "from sklearn.preprocessing import LabelEncoder\n",
    "import category_encoders as ce\n",
    "from copy import deepcopy\n",
    "\n",
    "def train_model(df):\n",
    "    \"\"\"\n",
    "    Train sample model and save artifacts\n",
    "    \"\"\"\n",
    "    from sklearn.linear_model import LogisticRegression\n",
    "    from optuna.integration import LightGBMPruningCallback\n",
    "    import tqdm as notebook_tqdm\n",
    "    from sklearn.model_selection import StratifiedKFold\n",
    "    import lightgbm as lgb\n",
    "    from sklearn.metrics import roc_auc_score\n",
    "    import optuna\n",
    "    import warnings\n",
    "    import pickle\n",
    "    from sklearn.impute import SimpleImputer\n",
    "    from sklearn.model_selection import GridSearchCV\n",
    "    import matplotlib.pyplot as plt\n",
    "    from sklearn.preprocessing import FunctionTransformer\n",
    "    from sklearn.metrics import average_precision_score\n",
    "    import numpy as np\n",
    "    import warnings\n",
    "    warnings.simplefilter(action='ignore', category=FutureWarning)\n",
    "    \n",
    "    \n",
    "    target_col = \"MIS_Status\"\n",
    "    cols_to_drop = ['City', 'State', 'Zip','Bank', 'BankState', 'LowDoc','RevLineCr','MIS_Status']\n",
    "    # Removing the index column\n",
    "    if \"index\" in df.columns:\n",
    "        df.drop(columns=\"index\", inplace=True)\n",
    "    y = df[target_col] if target_col in df.columns else None\n",
    "    X = df.drop(columns=[target_col]) if target_col in df.columns else df.copy()\n",
    "\n",
    "\n",
    "    # Relacing Missing values\n",
    "    \n",
    "    for i in df['RevLineCr']:\n",
    "      if i not in ['Y','N']:\n",
    "        df['RevLineCr'].replace(i,'N',inplace=True)\n",
    "        print(\"RevLineCr\",df['RevLineCr'].unique())\n",
    "\n",
    "    for i in df['LowDoc']:\n",
    "      if i not in ['Y','N']:\n",
    "        df['LowDoc'].replace(i,'N',inplace=True)\n",
    "        print(\"LowDoc\",df['LowDoc'].unique())\n",
    "\n",
    "    for i in df['NewExist']:\n",
    "      if i not in [1,2]:\n",
    "        df['NewExist'].replace(i,None,inplace=True)\n",
    "        print(\"NewExist\",df['NewExist'].unique())\n",
    "\n",
    "\n",
    "    category_cols=['City', 'State', 'Bank', 'BankState', 'RevLineCr', 'LowDoc','NewExist']\n",
    "    for column in category_cols:\n",
    "        df[column]=df[column].fillna(df[column].mode()[0])\n",
    "\n",
    "    # Target encoding the categorical columns\n",
    "    categorical_columns = ['City', 'State', 'Bank', 'BankState', 'RevLineCr', 'LowDoc','NewExist']\n",
    "    encoder = ce.TargetEncoder(cols=categorical_columns)\n",
    "    encoder.fit(df[categorical_columns], df['MIS_Status'])\n",
    "    train_encoded = encoder.transform(df[categorical_columns])\n",
    "    train_encoded = train_encoded.add_suffix('_trg')\n",
    "    #train_encoded = pd.concat([train_encoded, data], axis=1)\n",
    "    train_encoded = pd.concat([train_encoded, df], axis=1)\n",
    "    for column in categorical_columns:\n",
    "        train_encoded[column + \"_trg\"].fillna(train_encoded[column + \"_trg\"].mean(), inplace=True)\n",
    "    \n",
    "    # Renaming the columns\n",
    "    #train_encoded.rename(columns={col: col + \"_trg\" if col in categorical_columns else col for col in train_encoded.columns}, inplace=False)\n",
    "    print(train_encoded.columns)\n",
    "    \n",
    "\n",
    "\n",
    "    # Adding Features\n",
    "    import numpy as np\n",
    "    # Apply the log transformation to the specific feature in your training data\n",
    "    small_constant = 1e-10  # You can adjust this constant as needed\n",
    "    # df['LogColumn'] = np.log(df['OriginalColumn'] + small_constant)\n",
    "    train_encoded['Log_DisbursementGross'] = np.log1p(train_encoded['DisbursementGross'])\n",
    "    train_encoded['Log_GrAppv'] = np.log1p(train_encoded['GrAppv'])\n",
    "    train_encoded['Log_SBA_Appv'] = np.log1p(train_encoded['SBA_Appv'])\n",
    "    train_encoded['Log_BalanceGross'] = np.log1p(train_encoded['BalanceGross'])\n",
    "    train_encoded['TotalJobs'] = train_encoded['CreateJob'] + train_encoded['RetainedJob']\n",
    "    #train_encoded['Loan_Efficiency'] = train_encoded['DisbursementGross'] / (train_encoded['CreateJob'] + train_encoded['RetainedJob'] + 1)\n",
    "    # Calculate 'LoanToIncomeRatio' as a ratio of 'SBA_Appv' to 'DisbursementGross'\n",
    "    train_encoded['IncomeToLoanRatio'] = train_encoded['DisbursementGross'] / train_encoded['SBA_Appv']\n",
    "    # Calculate 'LoanToEmployeesRatio' as a ratio of 'SBA_Appv' to 'NoEmp'\n",
    "    train_encoded['EmployeesToLoanRatio'] = train_encoded['NoEmp'] / train_encoded['SBA_Appv']\n",
    "    # Create a binary feature to indicate loans with a balance ('BalanceGross' > 0)\n",
    "    #train_encoded['HasBalance'] = (train_encoded['BalanceGross'] > 0).astype(int)\n",
    "    # Calculate 'LoanPerJob' as a ratio of 'SBA_Appv' to 'TotalJobs'\n",
    "    train_encoded['JobPerLoan'] = train_encoded['TotalJobs'] / train_encoded['SBA_Appv'] \n",
    "    # Calculate SBA's Gaurenteed Portion of Approved Loan\n",
    "    train_encoded['Gauren_SBA_Appv'] = train_encoded['GrAppv'] / train_encoded['SBA_Appv']\n",
    "\n",
    "    \n",
    "    # Scaling the numerical columns\n",
    "    numerical_columns = [ 'NoEmp', 'CreateJob', 'RetainedJob', 'GrAppv', 'SBA_Appv', 'DisbursementGross', 'BalanceGross',\n",
    "                        'Log_DisbursementGross', 'Log_GrAppv', 'Log_SBA_Appv', 'Log_BalanceGross','TotalJobs','IncomeToLoanRatio', \n",
    "                        'EmployeesToLoanRatio', 'JobPerLoan', 'Gauren_SBA_Appv']\n",
    "    \n",
    "    scaler = StandardScaler()\n",
    "    #fit and transform separately\n",
    "    scaler.fit(train_encoded[numerical_columns])\n",
    "    train_encoded[numerical_columns] = scaler.transform(train_encoded[numerical_columns])\n",
    "\n",
    "    warnings.filterwarnings(\"ignore\", category=UserWarning)\n",
    "    study_model_iteractions = {}\n",
    "\n",
    "    def objective(trial, X, y):\n",
    "     \n",
    "      param_grid = {\n",
    "        # Refer to the Official guide : https://lightgbm.readthedocs.io/en/latest/Parameters-Tuning.html\n",
    "        \"num_iterations\": 10000,\n",
    "        \"num_threads\": 16,\n",
    "        \"learning_rate\": trial.suggest_float(\"learning_rate\", 0.01, 0.3, step=0.05),\n",
    "        #\"num_leaves\": trial.suggest_int(\"num_leaves\", 50, 150, step=5),\n",
    "        \"num_leaves\": trial.suggest_int(\"num_leaves\", 20, 3000, step=20),\n",
    "        #\"max_depth\": trial.suggest_int(\"max_depth\", 5, 20, step=2),\n",
    "        \"max_depth\": trial.suggest_int(\"max_depth\", 3, 12),\n",
    "        \"min_data_in_leaf\": trial.suggest_int(\"min_data_in_leaf\", 100, 1000, step=100),\n",
    "        ##############################\n",
    "        #'lambda_l1': trial.suggest_float('lambda_l1', 1e-8, 10.0, log=True),\n",
    "        #'lambda_l2': trial.suggest_float('lambda_l2', 1e-8, 10.0, log=True),\n",
    "        \"lambda_l1\": trial.suggest_int(\"lambda_l1\", 0, 100, step=5),\n",
    "        \"lambda_l2\": trial.suggest_int(\"lambda_l2\", 0, 100, step=5),\n",
    "        #\"lambda_l1\": trial.suggest_float(\"lambda_l1\", 0.01, 0.1, step=0.01),\n",
    "        #\"lambda_l2\": trial.suggest_float(\"lambda_l2\", 0.01, 0.1, step=0.01),\n",
    "        ########################\n",
    "        \"bagging_fraction\": trial.suggest_float(\"bagging_fraction\", 0.8, 1.0, step=0.1),\n",
    "        \"bagging_freq\": trial.suggest_categorical(\"bagging_freq\", [5]),\n",
    "        \"feature_fraction\": trial.suggest_float(\"feature_fraction\", 0.8, 1.0, step=0.1),\n",
    "        #######################\n",
    "        \"is_unbalance\": trial.suggest_categorical(\"is_unbalance\",[True, False]),\n",
    "        ########################\n",
    "        \"verbose\": -1,\n",
    "        \"objective\":\"binary\",\n",
    "        \"metric\":\"auc\",\n",
    "        \"num_threads\": 12\n",
    "       }\n",
    "\n",
    "      cv = StratifiedKFold(n_splits=5, shuffle=True, random_state=1121218)\n",
    "\n",
    "      cv_scores = np.empty(5)\n",
    "      cv_iteractions = np.empty(5)\n",
    "      for idx, (train_idx, test_idx) in enumerate(cv.split(X, y)):\n",
    "        X_train, X_test = X.iloc[train_idx], X.iloc[test_idx]\n",
    "        y_train, y_test = y.iloc[train_idx], y.iloc[test_idx]\n",
    "\n",
    "        train_data = lgb.Dataset(data=X_train, label=y_train, params={\"verbose\":-1}, categorical_feature=categorical_columns)\n",
    "        valid_data = lgb.Dataset(data=X_test, label=y_test, params={\"verbose\":-1}, categorical_feature=categorical_columns)\n",
    "        lgb_clf = lgb.train(params=param_grid,\n",
    "                            train_set=train_data,\n",
    "                            valid_sets=[valid_data],\n",
    "                            categorical_feature=categorical_columns,\n",
    "                            callbacks=[LightGBMPruningCallback(trial, \"auc\"),\n",
    "                                        lgb.early_stopping(stopping_rounds=5)]  \n",
    "                            )\n",
    "        preds = lgb_clf.predict(X_test)\n",
    "        cv_scores[idx] = roc_auc_score(y_test, preds)\n",
    "        cv_iteractions[idx] = lgb_clf.best_iteration\n",
    "    \n",
    "      study_model_iteractions[trial.number] = np.mean(cv_iteractions)\n",
    "\n",
    "      study = optuna.create_study(direction=\"maximize\", study_name=\"LGBM Classifier\")\n",
    "      func = lambda trial: objective(trial, X_train, y_train)\n",
    "      study.optimize(func, n_trials=200)\n",
    "      print('Best hyperparameters:', study.best_params)\n",
    "      print('Best AUCPR:', study.best_value)\n",
    "\n",
    "      print(f\"\\tBest value (AUC): {study.best_value:.5f}\")\n",
    "      print(f\"\\tBest params:\")\n",
    "      plt.figure(figsize=(12,6))\n",
    "      lgb.plot_importance(model, max_num_features=30)\n",
    "      plt.title(\"Feature importances\")\n",
    "      plt.show()\n",
    "\n",
    "      for key, value in study.best_params.items():\n",
    "        print(f\"\\t\\t{key}: {value}\")\n",
    "\n",
    "      print(\"Best model best_iteration:\", study_model_iteractions[study.best_trial.number])\n",
    "      best_iterations = study_model_iteractions[study.best_trial.number] \n",
    "\n",
    "        \n",
    "    \n",
    "\n",
    "          \n",
    "   \n",
    "      # End Todo\n",
    "      \n",
    "      # Saving the artifacts\n",
    "      artifacts_dict = {\n",
    "        \"model\": lgb_clf,\n",
    "        \"target_encoder\": encoder,\n",
    "        \"te_columns\": categorical_columns,\n",
    "        \"columns_to_train\":train_data,\n",
    "        \"numerical_columns\":numerical_columns,\n",
    "        \"category_cols\": category_cols,\n",
    "        \"scaler\":scaler\n",
    "          }\n",
    "\n",
    "      #calculating threshold\n",
    "      if y is not None:\n",
    "        #optimal_threshold = calculate_optimal_threshold(clf_, train_encoded[columns_to_train], y)\n",
    "        optimal_threshold = calculate_optimal_threshold(lgb_clf, train_encoded.columns, y)\n",
    "        print(f\"Optimal Threshold: {optimal_threshold}\")\n",
    "        # Saving the threshold in artifacts\n",
    "        artifacts_dict[\"threshold\"] = optimal_threshold\n",
    "\n",
    "      artifacts_dict_file = open(\"./Artifacts/artifacts_dict_file.pkl\", \"wb\")\n",
    "      pickle.dump(obj=artifacts_dict, file=artifacts_dict_file)    \n",
    "       \n",
    "      artifacts_dict_file.close()    \n",
    "      return lgb_clf"
   ]
  },
  {
   "cell_type": "code",
   "execution_count": 40,
   "metadata": {},
   "outputs": [
    {
     "data": {
      "text/html": [
       "<style>.output_scroll { height:auto !important; max-height: none !important; }</style>"
      ],
      "text/plain": [
       "<IPython.core.display.HTML object>"
      ]
     },
     "metadata": {},
     "output_type": "display_data"
    },
    {
     "name": "stdout",
     "output_type": "stream",
     "text": [
      "RevLineCr ['N' 'Y' 'T' nan '1' 'R' '`' 'Q' '-' '7' '2' '4' '.' 'C']\n",
      "RevLineCr ['N' 'Y' nan '1' 'R' '`' 'Q' '-' '7' '2' '4' '.' 'C']\n",
      "RevLineCr ['N' 'Y' '1' 'R' '`' 'Q' '-' '7' '2' '4' '.' 'C']\n",
      "RevLineCr ['N' 'Y' 'R' '`' 'Q' '-' '7' '2' '4' '.' 'C']\n",
      "RevLineCr ['N' 'Y' '`' 'Q' '-' '7' '2' '4' '.' 'C']\n",
      "RevLineCr ['N' 'Y' 'Q' '-' '7' '2' '4' '.' 'C']\n",
      "RevLineCr ['N' 'Y' '-' '7' '2' '4' '.' 'C']\n",
      "RevLineCr ['N' 'Y' '7' '2' '4' '.' 'C']\n",
      "RevLineCr ['N' 'Y' '2' '4' '.' 'C']\n",
      "RevLineCr ['N' 'Y' '4' '.' 'C']\n",
      "RevLineCr ['N' 'Y' '.' 'C']\n",
      "RevLineCr ['N' 'Y' 'C']\n",
      "RevLineCr ['N' 'Y']\n",
      "LowDoc ['N' 'Y' 'C' nan 'A' 'S' 'R']\n",
      "LowDoc ['N' 'Y' nan 'A' 'S' 'R']\n",
      "LowDoc ['N' 'Y' 'A' 'S' 'R']\n",
      "LowDoc ['N' 'Y' 'S' 'R']\n",
      "LowDoc ['N' 'Y' 'R']\n",
      "LowDoc ['N' 'Y']\n",
      "NewExist [1.0 2.0 None nan]\n",
      "NewExist [1.0 2.0 None nan]\n",
      "NewExist [1.0 2.0 None nan]\n",
      "NewExist [1.0 2.0 None nan]\n",
      "NewExist [1.0 2.0 None nan]\n",
      "NewExist [1.0 2.0 None nan]\n",
      "NewExist [1.0 2.0 None nan]\n",
      "NewExist [1.0 2.0 None nan]\n",
      "NewExist [1.0 2.0 None nan]\n",
      "NewExist [1.0 2.0 None nan]\n",
      "NewExist [1.0 2.0 None nan]\n",
      "NewExist [1.0 2.0 None nan]\n",
      "NewExist [1.0 2.0 None nan]\n",
      "NewExist [1.0 2.0 None nan]\n",
      "NewExist [1.0 2.0 None nan]\n",
      "NewExist [1.0 2.0 None nan]\n",
      "NewExist [1.0 2.0 None nan]\n",
      "NewExist [1.0 2.0 None]\n",
      "NewExist [1.0 2.0 None]\n",
      "NewExist [1.0 2.0 None]\n",
      "NewExist [1.0 2.0 None]\n",
      "NewExist [1.0 2.0 None]\n",
      "NewExist [1.0 2.0 None]\n",
      "NewExist [1.0 2.0 None]\n",
      "NewExist [1.0 2.0 None]\n",
      "NewExist [1.0 2.0 None]\n",
      "NewExist [1.0 2.0 None]\n",
      "NewExist [1.0 2.0 None]\n",
      "NewExist [1.0 2.0 None]\n",
      "NewExist [1.0 2.0 None]\n",
      "NewExist [1.0 2.0 None]\n",
      "NewExist [1.0 2.0 None]\n",
      "NewExist [1.0 2.0 None]\n",
      "NewExist [1.0 2.0 None]\n",
      "NewExist [1.0 2.0 None]\n",
      "NewExist [1.0 2.0 None]\n",
      "NewExist [1.0 2.0 None]\n",
      "NewExist [1.0 2.0 None]\n",
      "NewExist [1.0 2.0 None]\n",
      "NewExist [1.0 2.0 None]\n",
      "NewExist [1.0 2.0 None]\n",
      "NewExist [1.0 2.0 None]\n",
      "NewExist [1.0 2.0 None]\n",
      "NewExist [1.0 2.0 None]\n",
      "NewExist [1.0 2.0 None]\n",
      "NewExist [1.0 2.0 None]\n",
      "NewExist [1.0 2.0 None]\n",
      "NewExist [1.0 2.0 None]\n",
      "NewExist [1.0 2.0 None]\n",
      "NewExist [1.0 2.0 None]\n",
      "NewExist [1.0 2.0 None]\n",
      "NewExist [1.0 2.0 None]\n",
      "NewExist [1.0 2.0 None]\n",
      "NewExist [1.0 2.0 None]\n",
      "NewExist [1.0 2.0 None]\n",
      "NewExist [1.0 2.0 None]\n",
      "NewExist [1.0 2.0 None]\n",
      "NewExist [1.0 2.0 None]\n",
      "NewExist [1.0 2.0 None]\n",
      "NewExist [1.0 2.0 None]\n",
      "NewExist [1.0 2.0 None]\n",
      "NewExist [1.0 2.0 None]\n",
      "NewExist [1.0 2.0 None]\n",
      "NewExist [1.0 2.0 None]\n",
      "NewExist [1.0 2.0 None]\n",
      "NewExist [1.0 2.0 None]\n",
      "NewExist [1.0 2.0 None]\n",
      "NewExist [1.0 2.0 None]\n",
      "NewExist [1.0 2.0 None]\n",
      "NewExist [1.0 2.0 None]\n",
      "NewExist [1.0 2.0 None]\n",
      "NewExist [1.0 2.0 None]\n",
      "NewExist [1.0 2.0 None]\n",
      "NewExist [1.0 2.0 None]\n",
      "NewExist [1.0 2.0 None]\n",
      "NewExist [1.0 2.0 None]\n",
      "NewExist [1.0 2.0 None]\n",
      "NewExist [1.0 2.0 None]\n",
      "NewExist [1.0 2.0 None]\n",
      "NewExist [1.0 2.0 None]\n",
      "NewExist [1.0 2.0 None]\n",
      "NewExist [1.0 2.0 None]\n",
      "NewExist [1.0 2.0 None]\n",
      "NewExist [1.0 2.0 None]\n",
      "NewExist [1.0 2.0 None]\n",
      "NewExist [1.0 2.0 None]\n",
      "NewExist [1.0 2.0 None]\n",
      "NewExist [1.0 2.0 None]\n",
      "NewExist [1.0 2.0 None]\n",
      "NewExist [1.0 2.0 None]\n",
      "NewExist [1.0 2.0 None]\n",
      "NewExist [1.0 2.0 None]\n",
      "NewExist [1.0 2.0 None]\n",
      "NewExist [1.0 2.0 None]\n",
      "NewExist [1.0 2.0 None]\n",
      "NewExist [1.0 2.0 None]\n",
      "NewExist [1.0 2.0 None]\n",
      "NewExist [1.0 2.0 None]\n",
      "NewExist [1.0 2.0 None]\n",
      "NewExist [1.0 2.0 None]\n",
      "NewExist [1.0 2.0 None]\n",
      "NewExist [1.0 2.0 None]\n",
      "NewExist [1.0 2.0 None]\n",
      "NewExist [1.0 2.0 None]\n",
      "NewExist [1.0 2.0 None]\n",
      "NewExist [1.0 2.0 None]\n",
      "NewExist [1.0 2.0 None]\n",
      "NewExist [1.0 2.0 None]\n",
      "NewExist [1.0 2.0 None]\n",
      "NewExist [1.0 2.0 None]\n",
      "NewExist [1.0 2.0 None]\n",
      "NewExist [1.0 2.0 None]\n",
      "NewExist [1.0 2.0 None]\n",
      "NewExist [1.0 2.0 None]\n",
      "NewExist [1.0 2.0 None]\n",
      "NewExist [1.0 2.0 None]\n",
      "NewExist [1.0 2.0 None]\n",
      "NewExist [1.0 2.0 None]\n",
      "NewExist [1.0 2.0 None]\n",
      "NewExist [1.0 2.0 None]\n",
      "NewExist [1.0 2.0 None]\n",
      "NewExist [1.0 2.0 None]\n",
      "NewExist [1.0 2.0 None]\n",
      "NewExist [1.0 2.0 None]\n",
      "NewExist [1.0 2.0 None]\n",
      "NewExist [1.0 2.0 None]\n",
      "NewExist [1.0 2.0 None]\n",
      "NewExist [1.0 2.0 None]\n",
      "NewExist [1.0 2.0 None]\n",
      "NewExist [1.0 2.0 None]\n",
      "NewExist [1.0 2.0 None]\n",
      "NewExist [1.0 2.0 None]\n",
      "NewExist [1.0 2.0 None]\n",
      "NewExist [1.0 2.0 None]\n",
      "NewExist [1.0 2.0 None]\n",
      "NewExist [1.0 2.0 None]\n",
      "NewExist [1.0 2.0 None]\n",
      "NewExist [1.0 2.0 None]\n",
      "NewExist [1.0 2.0 None]\n",
      "NewExist [1.0 2.0 None]\n",
      "NewExist [1.0 2.0 None]\n",
      "NewExist [1.0 2.0 None]\n",
      "NewExist [1.0 2.0 None]\n",
      "NewExist [1.0 2.0 None]\n",
      "NewExist [1.0 2.0 None]\n",
      "NewExist [1.0 2.0 None]\n",
      "NewExist [1.0 2.0 None]\n",
      "NewExist [1.0 2.0 None]\n",
      "NewExist [1.0 2.0 None]\n",
      "NewExist [1.0 2.0 None]\n",
      "NewExist [1.0 2.0 None]\n",
      "NewExist [1.0 2.0 None]\n",
      "NewExist [1.0 2.0 None]\n",
      "NewExist [1.0 2.0 None]\n",
      "NewExist [1.0 2.0 None]\n",
      "NewExist [1.0 2.0 None]\n",
      "NewExist [1.0 2.0 None]\n",
      "NewExist [1.0 2.0 None]\n",
      "NewExist [1.0 2.0 None]\n",
      "NewExist [1.0 2.0 None]\n",
      "NewExist [1.0 2.0 None]\n",
      "NewExist [1.0 2.0 None]\n",
      "NewExist [1.0 2.0 None]\n",
      "NewExist [1.0 2.0 None]\n",
      "NewExist [1.0 2.0 None]\n",
      "NewExist [1.0 2.0 None]\n",
      "NewExist [1.0 2.0 None]\n",
      "NewExist [1.0 2.0 None]\n",
      "NewExist [1.0 2.0 None]\n",
      "NewExist [1.0 2.0 None]\n",
      "NewExist [1.0 2.0 None]\n",
      "NewExist [1.0 2.0 None]\n",
      "NewExist [1.0 2.0 None]\n",
      "NewExist [1.0 2.0 None]\n",
      "NewExist [1.0 2.0 None]\n",
      "NewExist [1.0 2.0 None]\n",
      "NewExist [1.0 2.0 None]\n",
      "NewExist [1.0 2.0 None]\n",
      "NewExist [1.0 2.0 None]\n",
      "NewExist [1.0 2.0 None]\n",
      "NewExist [1.0 2.0 None]\n",
      "NewExist [1.0 2.0 None]\n",
      "NewExist [1.0 2.0 None]\n",
      "NewExist [1.0 2.0 None]\n",
      "NewExist [1.0 2.0 None]\n",
      "NewExist [1.0 2.0 None]\n",
      "NewExist [1.0 2.0 None]\n",
      "NewExist [1.0 2.0 None]\n",
      "NewExist [1.0 2.0 None]\n",
      "NewExist [1.0 2.0 None]\n",
      "NewExist [1.0 2.0 None]\n",
      "NewExist [1.0 2.0 None]\n",
      "NewExist [1.0 2.0 None]\n",
      "NewExist [1.0 2.0 None]\n",
      "NewExist [1.0 2.0 None]\n",
      "NewExist [1.0 2.0 None]\n",
      "NewExist [1.0 2.0 None]\n",
      "NewExist [1.0 2.0 None]\n",
      "NewExist [1.0 2.0 None]\n",
      "NewExist [1.0 2.0 None]\n",
      "NewExist [1.0 2.0 None]\n",
      "NewExist [1.0 2.0 None]\n",
      "NewExist [1.0 2.0 None]\n",
      "NewExist [1.0 2.0 None]\n",
      "NewExist [1.0 2.0 None]\n",
      "NewExist [1.0 2.0 None]\n",
      "NewExist [1.0 2.0 None]\n",
      "NewExist [1.0 2.0 None]\n",
      "NewExist [1.0 2.0 None]\n",
      "NewExist [1.0 2.0 None]\n",
      "NewExist [1.0 2.0 None]\n",
      "NewExist [1.0 2.0 None]\n",
      "NewExist [1.0 2.0 None]\n",
      "NewExist [1.0 2.0 None]\n",
      "NewExist [1.0 2.0 None]\n",
      "NewExist [1.0 2.0 None]\n",
      "NewExist [1.0 2.0 None]\n",
      "NewExist [1.0 2.0 None]\n",
      "NewExist [1.0 2.0 None]\n",
      "NewExist [1.0 2.0 None]\n",
      "NewExist [1.0 2.0 None]\n",
      "NewExist [1.0 2.0 None]\n",
      "NewExist [1.0 2.0 None]\n",
      "NewExist [1.0 2.0 None]\n",
      "NewExist [1.0 2.0 None]\n",
      "NewExist [1.0 2.0 None]\n",
      "NewExist [1.0 2.0 None]\n",
      "NewExist [1.0 2.0 None]\n",
      "NewExist [1.0 2.0 None]\n",
      "NewExist [1.0 2.0 None]\n",
      "NewExist [1.0 2.0 None]\n",
      "NewExist [1.0 2.0 None]\n",
      "NewExist [1.0 2.0 None]\n",
      "NewExist [1.0 2.0 None]\n",
      "NewExist [1.0 2.0 None]\n",
      "NewExist [1.0 2.0 None]\n",
      "NewExist [1.0 2.0 None]\n",
      "NewExist [1.0 2.0 None]\n",
      "NewExist [1.0 2.0 None]\n",
      "NewExist [1.0 2.0 None]\n",
      "NewExist [1.0 2.0 None]\n",
      "NewExist [1.0 2.0 None]\n",
      "NewExist [1.0 2.0 None]\n",
      "NewExist [1.0 2.0 None]\n",
      "NewExist [1.0 2.0 None]\n",
      "NewExist [1.0 2.0 None]\n",
      "NewExist [1.0 2.0 None]\n",
      "NewExist [1.0 2.0 None]\n",
      "NewExist [1.0 2.0 None]\n",
      "NewExist [1.0 2.0 None]\n",
      "NewExist [1.0 2.0 None]\n",
      "NewExist [1.0 2.0 None]\n",
      "NewExist [1.0 2.0 None]\n",
      "NewExist [1.0 2.0 None]\n",
      "NewExist [1.0 2.0 None]\n",
      "NewExist [1.0 2.0 None]\n",
      "NewExist [1.0 2.0 None]\n",
      "NewExist [1.0 2.0 None]\n",
      "NewExist [1.0 2.0 None]\n",
      "NewExist [1.0 2.0 None]\n",
      "NewExist [1.0 2.0 None]\n",
      "NewExist [1.0 2.0 None]\n",
      "NewExist [1.0 2.0 None]\n",
      "NewExist [1.0 2.0 None]\n",
      "NewExist [1.0 2.0 None]\n",
      "NewExist [1.0 2.0 None]\n",
      "NewExist [1.0 2.0 None]\n",
      "NewExist [1.0 2.0 None]\n",
      "NewExist [1.0 2.0 None]\n",
      "NewExist [1.0 2.0 None]\n",
      "NewExist [1.0 2.0 None]\n",
      "NewExist [1.0 2.0 None]\n",
      "NewExist [1.0 2.0 None]\n",
      "NewExist [1.0 2.0 None]\n",
      "NewExist [1.0 2.0 None]\n",
      "NewExist [1.0 2.0 None]\n",
      "NewExist [1.0 2.0 None]\n",
      "NewExist [1.0 2.0 None]\n",
      "NewExist [1.0 2.0 None]\n",
      "NewExist [1.0 2.0 None]\n",
      "NewExist [1.0 2.0 None]\n",
      "NewExist [1.0 2.0 None]\n",
      "NewExist [1.0 2.0 None]\n",
      "NewExist [1.0 2.0 None]\n",
      "NewExist [1.0 2.0 None]\n",
      "NewExist [1.0 2.0 None]\n",
      "NewExist [1.0 2.0 None]\n",
      "NewExist [1.0 2.0 None]\n",
      "NewExist [1.0 2.0 None]\n",
      "NewExist [1.0 2.0 None]\n",
      "NewExist [1.0 2.0 None]\n",
      "NewExist [1.0 2.0 None]\n",
      "NewExist [1.0 2.0 None]\n",
      "NewExist [1.0 2.0 None]\n",
      "NewExist [1.0 2.0 None]\n",
      "NewExist [1.0 2.0 None]\n",
      "NewExist [1.0 2.0 None]\n",
      "NewExist [1.0 2.0 None]\n",
      "NewExist [1.0 2.0 None]\n",
      "NewExist [1.0 2.0 None]\n",
      "NewExist [1.0 2.0 None]\n",
      "NewExist [1.0 2.0 None]\n",
      "NewExist [1.0 2.0 None]\n",
      "NewExist [1.0 2.0 None]\n",
      "NewExist [1.0 2.0 None]\n",
      "NewExist [1.0 2.0 None]\n",
      "NewExist [1.0 2.0 None]\n",
      "NewExist [1.0 2.0 None]\n",
      "NewExist [1.0 2.0 None]\n",
      "NewExist [1.0 2.0 None]\n",
      "NewExist [1.0 2.0 None]\n",
      "NewExist [1.0 2.0 None]\n",
      "NewExist [1.0 2.0 None]\n",
      "NewExist [1.0 2.0 None]\n",
      "NewExist [1.0 2.0 None]\n",
      "NewExist [1.0 2.0 None]\n",
      "NewExist [1.0 2.0 None]\n",
      "NewExist [1.0 2.0 None]\n",
      "NewExist [1.0 2.0 None]\n",
      "NewExist [1.0 2.0 None]\n",
      "NewExist [1.0 2.0 None]\n",
      "NewExist [1.0 2.0 None]\n",
      "NewExist [1.0 2.0 None]\n",
      "NewExist [1.0 2.0 None]\n",
      "NewExist [1.0 2.0 None]\n",
      "NewExist [1.0 2.0 None]\n",
      "NewExist [1.0 2.0 None]\n",
      "NewExist [1.0 2.0 None]\n",
      "NewExist [1.0 2.0 None]\n",
      "NewExist [1.0 2.0 None]\n",
      "NewExist [1.0 2.0 None]\n",
      "NewExist [1.0 2.0 None]\n",
      "NewExist [1.0 2.0 None]\n",
      "NewExist [1.0 2.0 None]\n",
      "NewExist [1.0 2.0 None]\n",
      "NewExist [1.0 2.0 None]\n",
      "NewExist [1.0 2.0 None]\n",
      "NewExist [1.0 2.0 None]\n",
      "NewExist [1.0 2.0 None]\n",
      "NewExist [1.0 2.0 None]\n",
      "NewExist [1.0 2.0 None]\n",
      "NewExist [1.0 2.0 None]\n",
      "NewExist [1.0 2.0 None]\n",
      "NewExist [1.0 2.0 None]\n",
      "NewExist [1.0 2.0 None]\n",
      "NewExist [1.0 2.0 None]\n",
      "NewExist [1.0 2.0 None]\n",
      "NewExist [1.0 2.0 None]\n",
      "NewExist [1.0 2.0 None]\n",
      "NewExist [1.0 2.0 None]\n",
      "NewExist [1.0 2.0 None]\n",
      "NewExist [1.0 2.0 None]\n",
      "NewExist [1.0 2.0 None]\n",
      "NewExist [1.0 2.0 None]\n",
      "NewExist [1.0 2.0 None]\n",
      "NewExist [1.0 2.0 None]\n",
      "NewExist [1.0 2.0 None]\n",
      "NewExist [1.0 2.0 None]\n",
      "NewExist [1.0 2.0 None]\n",
      "NewExist [1.0 2.0 None]\n",
      "NewExist [1.0 2.0 None]\n",
      "NewExist [1.0 2.0 None]\n",
      "NewExist [1.0 2.0 None]\n",
      "NewExist [1.0 2.0 None]\n",
      "NewExist [1.0 2.0 None]\n",
      "NewExist [1.0 2.0 None]\n",
      "NewExist [1.0 2.0 None]\n",
      "NewExist [1.0 2.0 None]\n",
      "NewExist [1.0 2.0 None]\n",
      "NewExist [1.0 2.0 None]\n",
      "NewExist [1.0 2.0 None]\n",
      "NewExist [1.0 2.0 None]\n",
      "NewExist [1.0 2.0 None]\n",
      "NewExist [1.0 2.0 None]\n",
      "NewExist [1.0 2.0 None]\n",
      "NewExist [1.0 2.0 None]\n",
      "NewExist [1.0 2.0 None]\n",
      "NewExist [1.0 2.0 None]\n",
      "NewExist [1.0 2.0 None]\n",
      "NewExist [1.0 2.0 None]\n",
      "NewExist [1.0 2.0 None]\n",
      "NewExist [1.0 2.0 None]\n",
      "NewExist [1.0 2.0 None]\n",
      "NewExist [1.0 2.0 None]\n",
      "NewExist [1.0 2.0 None]\n",
      "NewExist [1.0 2.0 None]\n",
      "NewExist [1.0 2.0 None]\n",
      "NewExist [1.0 2.0 None]\n",
      "NewExist [1.0 2.0 None]\n",
      "NewExist [1.0 2.0 None]\n",
      "NewExist [1.0 2.0 None]\n",
      "NewExist [1.0 2.0 None]\n",
      "NewExist [1.0 2.0 None]\n",
      "NewExist [1.0 2.0 None]\n",
      "NewExist [1.0 2.0 None]\n",
      "NewExist [1.0 2.0 None]\n",
      "NewExist [1.0 2.0 None]\n",
      "NewExist [1.0 2.0 None]\n",
      "NewExist [1.0 2.0 None]\n",
      "NewExist [1.0 2.0 None]\n",
      "NewExist [1.0 2.0 None]\n",
      "NewExist [1.0 2.0 None]\n",
      "NewExist [1.0 2.0 None]\n",
      "NewExist [1.0 2.0 None]\n",
      "NewExist [1.0 2.0 None]\n",
      "NewExist [1.0 2.0 None]\n",
      "NewExist [1.0 2.0 None]\n",
      "NewExist [1.0 2.0 None]\n",
      "NewExist [1.0 2.0 None]\n",
      "NewExist [1.0 2.0 None]\n",
      "NewExist [1.0 2.0 None]\n",
      "NewExist [1.0 2.0 None]\n",
      "NewExist [1.0 2.0 None]\n",
      "NewExist [1.0 2.0 None]\n",
      "NewExist [1.0 2.0 None]\n",
      "NewExist [1.0 2.0 None]\n",
      "NewExist [1.0 2.0 None]\n",
      "NewExist [1.0 2.0 None]\n",
      "NewExist [1.0 2.0 None]\n",
      "NewExist [1.0 2.0 None]\n",
      "NewExist [1.0 2.0 None]\n",
      "NewExist [1.0 2.0 None]\n",
      "NewExist [1.0 2.0 None]\n",
      "NewExist [1.0 2.0 None]\n",
      "NewExist [1.0 2.0 None]\n",
      "NewExist [1.0 2.0 None]\n",
      "NewExist [1.0 2.0 None]\n",
      "NewExist [1.0 2.0 None]\n",
      "NewExist [1.0 2.0 None]\n",
      "NewExist [1.0 2.0 None]\n",
      "NewExist [1.0 2.0 None]\n",
      "NewExist [1.0 2.0 None]\n",
      "NewExist [1.0 2.0 None]\n",
      "NewExist [1.0 2.0 None]\n",
      "NewExist [1.0 2.0 None]\n",
      "NewExist [1.0 2.0 None]\n",
      "NewExist [1.0 2.0 None]\n",
      "NewExist [1.0 2.0 None]\n",
      "NewExist [1.0 2.0 None]\n",
      "NewExist [1.0 2.0 None]\n",
      "NewExist [1.0 2.0 None]\n",
      "NewExist [1.0 2.0 None]\n",
      "NewExist [1.0 2.0 None]\n",
      "NewExist [1.0 2.0 None]\n",
      "NewExist [1.0 2.0 None]\n",
      "NewExist [1.0 2.0 None]\n",
      "NewExist [1.0 2.0 None]\n",
      "NewExist [1.0 2.0 None]\n",
      "NewExist [1.0 2.0 None]\n",
      "NewExist [1.0 2.0 None]\n",
      "NewExist [1.0 2.0 None]\n",
      "NewExist [1.0 2.0 None]\n",
      "NewExist [1.0 2.0 None]\n",
      "NewExist [1.0 2.0 None]\n",
      "NewExist [1.0 2.0 None]\n",
      "NewExist [1.0 2.0 None]\n",
      "NewExist [1.0 2.0 None]\n",
      "NewExist [1.0 2.0 None]\n",
      "NewExist [1.0 2.0 None]\n",
      "NewExist [1.0 2.0 None]\n",
      "NewExist [1.0 2.0 None]\n",
      "NewExist [1.0 2.0 None]\n",
      "NewExist [1.0 2.0 None]\n",
      "NewExist [1.0 2.0 None]\n",
      "NewExist [1.0 2.0 None]\n",
      "NewExist [1.0 2.0 None]\n",
      "NewExist [1.0 2.0 None]\n",
      "NewExist [1.0 2.0 None]\n",
      "NewExist [1.0 2.0 None]\n",
      "NewExist [1.0 2.0 None]\n",
      "NewExist [1.0 2.0 None]\n",
      "NewExist [1.0 2.0 None]\n",
      "NewExist [1.0 2.0 None]\n",
      "NewExist [1.0 2.0 None]\n",
      "NewExist [1.0 2.0 None]\n",
      "NewExist [1.0 2.0 None]\n",
      "NewExist [1.0 2.0 None]\n",
      "NewExist [1.0 2.0 None]\n",
      "NewExist [1.0 2.0 None]\n",
      "NewExist [1.0 2.0 None]\n",
      "NewExist [1.0 2.0 None]\n",
      "NewExist [1.0 2.0 None]\n",
      "NewExist [1.0 2.0 None]\n",
      "NewExist [1.0 2.0 None]\n",
      "NewExist [1.0 2.0 None]\n",
      "NewExist [1.0 2.0 None]\n",
      "NewExist [1.0 2.0 None]\n",
      "NewExist [1.0 2.0 None]\n",
      "NewExist [1.0 2.0 None]\n",
      "NewExist [1.0 2.0 None]\n",
      "NewExist [1.0 2.0 None]\n",
      "NewExist [1.0 2.0 None]\n",
      "NewExist [1.0 2.0 None]\n",
      "NewExist [1.0 2.0 None]\n",
      "NewExist [1.0 2.0 None]\n",
      "NewExist [1.0 2.0 None]\n",
      "NewExist [1.0 2.0 None]\n",
      "NewExist [1.0 2.0 None]\n",
      "NewExist [1.0 2.0 None]\n",
      "NewExist [1.0 2.0 None]\n",
      "NewExist [1.0 2.0 None]\n",
      "NewExist [1.0 2.0 None]\n",
      "NewExist [1.0 2.0 None]\n",
      "NewExist [1.0 2.0 None]\n",
      "NewExist [1.0 2.0 None]\n",
      "NewExist [1.0 2.0 None]\n",
      "NewExist [1.0 2.0 None]\n",
      "NewExist [1.0 2.0 None]\n",
      "NewExist [1.0 2.0 None]\n",
      "NewExist [1.0 2.0 None]\n",
      "NewExist [1.0 2.0 None]\n",
      "NewExist [1.0 2.0 None]\n",
      "NewExist [1.0 2.0 None]\n",
      "NewExist [1.0 2.0 None]\n",
      "NewExist [1.0 2.0 None]\n",
      "NewExist [1.0 2.0 None]\n",
      "NewExist [1.0 2.0 None]\n",
      "NewExist [1.0 2.0 None]\n",
      "NewExist [1.0 2.0 None]\n",
      "NewExist [1.0 2.0 None]\n",
      "NewExist [1.0 2.0 None]\n",
      "NewExist [1.0 2.0 None]\n",
      "NewExist [1.0 2.0 None]\n",
      "NewExist [1.0 2.0 None]\n",
      "NewExist [1.0 2.0 None]\n",
      "NewExist [1.0 2.0 None]\n",
      "NewExist [1.0 2.0 None]\n",
      "NewExist [1.0 2.0 None]\n",
      "NewExist [1.0 2.0 None]\n",
      "NewExist [1.0 2.0 None]\n",
      "NewExist [1.0 2.0 None]\n",
      "NewExist [1.0 2.0 None]\n",
      "NewExist [1.0 2.0 None]\n",
      "NewExist [1.0 2.0 None]\n",
      "NewExist [1.0 2.0 None]\n",
      "NewExist [1.0 2.0 None]\n",
      "NewExist [1.0 2.0 None]\n",
      "NewExist [1.0 2.0 None]\n",
      "NewExist [1.0 2.0 None]\n",
      "NewExist [1.0 2.0 None]\n",
      "NewExist [1.0 2.0 None]\n",
      "NewExist [1.0 2.0 None]\n",
      "NewExist [1.0 2.0 None]\n",
      "NewExist [1.0 2.0 None]\n",
      "NewExist [1.0 2.0 None]\n",
      "NewExist [1.0 2.0 None]\n",
      "NewExist [1.0 2.0 None]\n",
      "NewExist [1.0 2.0 None]\n",
      "NewExist [1.0 2.0 None]\n",
      "NewExist [1.0 2.0 None]\n",
      "NewExist [1.0 2.0 None]\n",
      "NewExist [1.0 2.0 None]\n",
      "NewExist [1.0 2.0 None]\n",
      "NewExist [1.0 2.0 None]\n",
      "NewExist [1.0 2.0 None]\n",
      "NewExist [1.0 2.0 None]\n",
      "NewExist [1.0 2.0 None]\n",
      "NewExist [1.0 2.0 None]\n",
      "NewExist [1.0 2.0 None]\n",
      "NewExist [1.0 2.0 None]\n",
      "NewExist [1.0 2.0 None]\n",
      "NewExist [1.0 2.0 None]\n",
      "NewExist [1.0 2.0 None]\n",
      "NewExist [1.0 2.0 None]\n",
      "NewExist [1.0 2.0 None]\n",
      "NewExist [1.0 2.0 None]\n",
      "NewExist [1.0 2.0 None]\n",
      "NewExist [1.0 2.0 None]\n",
      "NewExist [1.0 2.0 None]\n",
      "NewExist [1.0 2.0 None]\n",
      "NewExist [1.0 2.0 None]\n",
      "NewExist [1.0 2.0 None]\n",
      "NewExist [1.0 2.0 None]\n",
      "NewExist [1.0 2.0 None]\n",
      "NewExist [1.0 2.0 None]\n",
      "NewExist [1.0 2.0 None]\n",
      "NewExist [1.0 2.0 None]\n",
      "NewExist [1.0 2.0 None]\n",
      "NewExist [1.0 2.0 None]\n",
      "NewExist [1.0 2.0 None]\n",
      "NewExist [1.0 2.0 None]\n",
      "NewExist [1.0 2.0 None]\n",
      "NewExist [1.0 2.0 None]\n",
      "NewExist [1.0 2.0 None]\n",
      "NewExist [1.0 2.0 None]\n",
      "NewExist [1.0 2.0 None]\n",
      "NewExist [1.0 2.0 None]\n",
      "NewExist [1.0 2.0 None]\n",
      "NewExist [1.0 2.0 None]\n",
      "NewExist [1.0 2.0 None]\n",
      "NewExist [1.0 2.0 None]\n",
      "NewExist [1.0 2.0 None]\n",
      "NewExist [1.0 2.0 None]\n",
      "NewExist [1.0 2.0 None]\n",
      "NewExist [1.0 2.0 None]\n",
      "NewExist [1.0 2.0 None]\n",
      "NewExist [1.0 2.0 None]\n",
      "NewExist [1.0 2.0 None]\n",
      "NewExist [1.0 2.0 None]\n",
      "NewExist [1.0 2.0 None]\n",
      "NewExist [1.0 2.0 None]\n",
      "NewExist [1.0 2.0 None]\n",
      "NewExist [1.0 2.0 None]\n",
      "NewExist [1.0 2.0 None]\n",
      "NewExist [1.0 2.0 None]\n",
      "NewExist [1.0 2.0 None]\n",
      "NewExist [1.0 2.0 None]\n",
      "NewExist [1.0 2.0 None]\n",
      "NewExist [1.0 2.0 None]\n",
      "NewExist [1.0 2.0 None]\n",
      "NewExist [1.0 2.0 None]\n",
      "NewExist [1.0 2.0 None]\n",
      "NewExist [1.0 2.0 None]\n",
      "NewExist [1.0 2.0 None]\n",
      "NewExist [1.0 2.0 None]\n",
      "NewExist [1.0 2.0 None]\n",
      "NewExist [1.0 2.0 None]\n",
      "NewExist [1.0 2.0 None]\n",
      "NewExist [1.0 2.0 None]\n",
      "NewExist [1.0 2.0 None]\n",
      "NewExist [1.0 2.0 None]\n",
      "NewExist [1.0 2.0 None]\n",
      "NewExist [1.0 2.0 None]\n",
      "NewExist [1.0 2.0 None]\n",
      "NewExist [1.0 2.0 None]\n",
      "NewExist [1.0 2.0 None]\n",
      "NewExist [1.0 2.0 None]\n",
      "NewExist [1.0 2.0 None]\n",
      "NewExist [1.0 2.0 None]\n",
      "NewExist [1.0 2.0 None]\n",
      "NewExist [1.0 2.0 None]\n",
      "NewExist [1.0 2.0 None]\n",
      "NewExist [1.0 2.0 None]\n",
      "NewExist [1.0 2.0 None]\n",
      "NewExist [1.0 2.0 None]\n",
      "NewExist [1.0 2.0 None]\n",
      "NewExist [1.0 2.0 None]\n",
      "NewExist [1.0 2.0 None]\n",
      "NewExist [1.0 2.0 None]\n",
      "NewExist [1.0 2.0 None]\n",
      "NewExist [1.0 2.0 None]\n",
      "NewExist [1.0 2.0 None]\n",
      "NewExist [1.0 2.0 None]\n",
      "NewExist [1.0 2.0 None]\n",
      "NewExist [1.0 2.0 None]\n",
      "NewExist [1.0 2.0 None]\n",
      "NewExist [1.0 2.0 None]\n",
      "NewExist [1.0 2.0 None]\n",
      "NewExist [1.0 2.0 None]\n",
      "NewExist [1.0 2.0 None]\n",
      "NewExist [1.0 2.0 None]\n",
      "NewExist [1.0 2.0 None]\n",
      "NewExist [1.0 2.0 None]\n",
      "NewExist [1.0 2.0 None]\n",
      "NewExist [1.0 2.0 None]\n",
      "NewExist [1.0 2.0 None]\n",
      "NewExist [1.0 2.0 None]\n",
      "NewExist [1.0 2.0 None]\n",
      "NewExist [1.0 2.0 None]\n",
      "NewExist [1.0 2.0 None]\n",
      "NewExist [1.0 2.0 None]\n",
      "NewExist [1.0 2.0 None]\n",
      "NewExist [1.0 2.0 None]\n",
      "NewExist [1.0 2.0 None]\n",
      "NewExist [1.0 2.0 None]\n",
      "NewExist [1.0 2.0 None]\n",
      "NewExist [1.0 2.0 None]\n",
      "NewExist [1.0 2.0 None]\n",
      "NewExist [1.0 2.0 None]\n",
      "NewExist [1.0 2.0 None]\n",
      "NewExist [1.0 2.0 None]\n",
      "NewExist [1.0 2.0 None]\n",
      "NewExist [1.0 2.0 None]\n",
      "NewExist [1.0 2.0 None]\n",
      "NewExist [1.0 2.0 None]\n",
      "NewExist [1.0 2.0 None]\n",
      "NewExist [1.0 2.0 None]\n",
      "NewExist [1.0 2.0 None]\n",
      "NewExist [1.0 2.0 None]\n",
      "NewExist [1.0 2.0 None]\n",
      "NewExist [1.0 2.0 None]\n",
      "NewExist [1.0 2.0 None]\n",
      "NewExist [1.0 2.0 None]\n",
      "NewExist [1.0 2.0 None]\n",
      "NewExist [1.0 2.0 None]\n",
      "NewExist [1.0 2.0 None]\n",
      "NewExist [1.0 2.0 None]\n",
      "NewExist [1.0 2.0 None]\n",
      "NewExist [1.0 2.0 None]\n",
      "NewExist [1.0 2.0 None]\n",
      "NewExist [1.0 2.0 None]\n",
      "NewExist [1.0 2.0 None]\n",
      "NewExist [1.0 2.0 None]\n",
      "NewExist [1.0 2.0 None]\n",
      "NewExist [1.0 2.0 None]\n",
      "NewExist [1.0 2.0 None]\n",
      "NewExist [1.0 2.0 None]\n",
      "NewExist [1.0 2.0 None]\n",
      "NewExist [1.0 2.0 None]\n",
      "NewExist [1.0 2.0 None]\n",
      "NewExist [1.0 2.0 None]\n",
      "NewExist [1.0 2.0 None]\n",
      "NewExist [1.0 2.0 None]\n",
      "NewExist [1.0 2.0 None]\n",
      "NewExist [1.0 2.0 None]\n",
      "NewExist [1.0 2.0 None]\n",
      "NewExist [1.0 2.0 None]\n",
      "NewExist [1.0 2.0 None]\n",
      "NewExist [1.0 2.0 None]\n",
      "NewExist [1.0 2.0 None]\n",
      "NewExist [1.0 2.0 None]\n",
      "NewExist [1.0 2.0 None]\n",
      "NewExist [1.0 2.0 None]\n",
      "NewExist [1.0 2.0 None]\n",
      "NewExist [1.0 2.0 None]\n",
      "NewExist [1.0 2.0 None]\n",
      "NewExist [1.0 2.0 None]\n",
      "NewExist [1.0 2.0 None]\n",
      "NewExist [1.0 2.0 None]\n",
      "NewExist [1.0 2.0 None]\n",
      "NewExist [1.0 2.0 None]\n",
      "NewExist [1.0 2.0 None]\n",
      "NewExist [1.0 2.0 None]\n",
      "NewExist [1.0 2.0 None]\n",
      "NewExist [1.0 2.0 None]\n",
      "NewExist [1.0 2.0 None]\n",
      "NewExist [1.0 2.0 None]\n",
      "NewExist [1.0 2.0 None]\n",
      "NewExist [1.0 2.0 None]\n",
      "NewExist [1.0 2.0 None]\n",
      "NewExist [1.0 2.0 None]\n",
      "NewExist [1.0 2.0 None]\n",
      "NewExist [1.0 2.0 None]\n",
      "NewExist [1.0 2.0 None]\n",
      "NewExist [1.0 2.0 None]\n",
      "NewExist [1.0 2.0 None]\n",
      "NewExist [1.0 2.0 None]\n",
      "NewExist [1.0 2.0 None]\n",
      "NewExist [1.0 2.0 None]\n",
      "NewExist [1.0 2.0 None]\n",
      "NewExist [1.0 2.0 None]\n",
      "NewExist [1.0 2.0 None]\n",
      "NewExist [1.0 2.0 None]\n",
      "NewExist [1.0 2.0 None]\n",
      "NewExist [1.0 2.0 None]\n",
      "NewExist [1.0 2.0 None]\n",
      "NewExist [1.0 2.0 None]\n",
      "NewExist [1.0 2.0 None]\n",
      "NewExist [1.0 2.0 None]\n",
      "NewExist [1.0 2.0 None]\n",
      "NewExist [1.0 2.0 None]\n",
      "NewExist [1.0 2.0 None]\n",
      "NewExist [1.0 2.0 None]\n",
      "NewExist [1.0 2.0 None]\n",
      "NewExist [1.0 2.0 None]\n",
      "NewExist [1.0 2.0 None]\n",
      "NewExist [1.0 2.0 None]\n",
      "NewExist [1.0 2.0 None]\n",
      "NewExist [1.0 2.0 None]\n",
      "NewExist [1.0 2.0 None]\n",
      "NewExist [1.0 2.0 None]\n",
      "NewExist [1.0 2.0 None]\n",
      "NewExist [1.0 2.0 None]\n",
      "NewExist [1.0 2.0 None]\n",
      "NewExist [1.0 2.0 None]\n",
      "NewExist [1.0 2.0 None]\n",
      "NewExist [1.0 2.0 None]\n",
      "NewExist [1.0 2.0 None]\n",
      "NewExist [1.0 2.0 None]\n",
      "NewExist [1.0 2.0 None]\n",
      "NewExist [1.0 2.0 None]\n",
      "NewExist [1.0 2.0 None]\n",
      "NewExist [1.0 2.0 None]\n",
      "NewExist [1.0 2.0 None]\n",
      "NewExist [1.0 2.0 None]\n",
      "NewExist [1.0 2.0 None]\n",
      "NewExist [1.0 2.0 None]\n",
      "NewExist [1.0 2.0 None]\n",
      "NewExist [1.0 2.0 None]\n",
      "NewExist [1.0 2.0 None]\n",
      "NewExist [1.0 2.0 None]\n",
      "NewExist [1.0 2.0 None]\n",
      "NewExist [1.0 2.0 None]\n",
      "NewExist [1.0 2.0 None]\n",
      "NewExist [1.0 2.0 None]\n",
      "NewExist [1.0 2.0 None]\n",
      "NewExist [1.0 2.0 None]\n",
      "NewExist [1.0 2.0 None]\n",
      "NewExist [1.0 2.0 None]\n",
      "NewExist [1.0 2.0 None]\n",
      "NewExist [1.0 2.0 None]\n",
      "NewExist [1.0 2.0 None]\n",
      "NewExist [1.0 2.0 None]\n",
      "NewExist [1.0 2.0 None]\n",
      "NewExist [1.0 2.0 None]\n",
      "NewExist [1.0 2.0 None]\n",
      "NewExist [1.0 2.0 None]\n",
      "NewExist [1.0 2.0 None]\n",
      "NewExist [1.0 2.0 None]\n",
      "NewExist [1.0 2.0 None]\n",
      "NewExist [1.0 2.0 None]\n",
      "NewExist [1.0 2.0 None]\n",
      "NewExist [1.0 2.0 None]\n",
      "NewExist [1.0 2.0 None]\n",
      "NewExist [1.0 2.0 None]\n",
      "NewExist [1.0 2.0 None]\n",
      "NewExist [1.0 2.0 None]\n",
      "NewExist [1.0 2.0 None]\n",
      "NewExist [1.0 2.0 None]\n",
      "NewExist [1.0 2.0 None]\n",
      "NewExist [1.0 2.0 None]\n",
      "NewExist [1.0 2.0 None]\n",
      "NewExist [1.0 2.0 None]\n",
      "NewExist [1.0 2.0 None]\n",
      "NewExist [1.0 2.0 None]\n",
      "NewExist [1.0 2.0 None]\n",
      "NewExist [1.0 2.0 None]\n",
      "NewExist [1.0 2.0 None]\n",
      "NewExist [1.0 2.0 None]\n",
      "Index(['City_trg', 'State_trg', 'Bank_trg', 'BankState_trg', 'RevLineCr_trg',\n",
      "       'LowDoc_trg', 'NewExist_trg', 'City', 'State', 'Zip', 'Bank',\n",
      "       'BankState', 'NAICS', 'NoEmp', 'NewExist', 'CreateJob', 'RetainedJob',\n",
      "       'FranchiseCode', 'UrbanRural', 'RevLineCr', 'LowDoc',\n",
      "       'DisbursementGross', 'BalanceGross', 'GrAppv', 'SBA_Appv',\n",
      "       'MIS_Status'],\n",
      "      dtype='object')\n"
     ]
    }
   ],
   "source": [
    "from IPython.core.display import display, HTML\n",
    "display(HTML(\"<style>.output_scroll { height:auto !important; max-height: none !important; }</style>\"))\n",
    "pd.set_option('display.max_rows', 5000)\n",
    "from sklearn.model_selection import train_test_split\n",
    "        \n",
    "df = pd.read_csv(\"D:/Work/Gre/UTD/Courses/Fall/MIS6341/Softwares/Python/ml-fall-2023/Project2/SBA_loans_project_2.csv\")\n",
    "target = \"MIS_Status\"\n",
    "y = df[target]\n",
    "x = df.drop(columns=[target])\n",
    "\n",
    "# Splitting the dataset into train and test\n",
    "X_train, X_test, y_train, y_test = train_test_split(x, y, test_size=0.2, random_state=42)\n",
    "X_train.reset_index(inplace=True, drop=True)\n",
    "y_train.reset_index(inplace=True, drop=True)\n",
    "X_test.reset_index(inplace=True, drop=True)\n",
    "y_test.reset_index(inplace=True, drop=True)\n",
    "df_train = X_train.copy()\n",
    "df_train[target] = y_train\n",
    "train_model(df_train)"
   ]
  },
  {
   "cell_type": "code",
   "execution_count": 41,
   "metadata": {},
   "outputs": [],
   "source": [
    "def scoring(data):\n",
    "    \"\"\"\n",
    "    Function to score input dataset.\n",
    "    \n",
    "    Input: dataset in Pandas DataFrame format\n",
    "    Output: Python list of labels in the same order as input records\n",
    "    \n",
    "    Flow:\n",
    "        - Load artifacts\n",
    "        - Transform dataset\n",
    "        - Score dataset\n",
    "        - Return labels\n",
    "    \n",
    "    \"\"\"\n",
    "    \n",
    "    if \"index\" in data.columns:\n",
    "        data.drop(columns=\"index\", inplace=True)\n",
    "    #Load Artifacts\n",
    "    artifacts_dict_file = open(\"./Artifacts/artifacts_dict_file.pkl\", \"rb\")\n",
    "    artifacts_dict = pickle.load(file=artifacts_dict_file)\n",
    "    artifacts_dict_file.close()\n",
    "    \n",
    "\n",
    "    clf = artifacts_dict[\"model\"]\n",
    "    te = artifacts_dict[\"target_encoder\"]\n",
    "    te_columns = artifacts_dict[\"te_columns\"]\n",
    "    columns_to_score = artifacts_dict[\"columns_to_train\"]\n",
    "    threshold = artifacts_dict[\"threshold\"]\n",
    "    category_cols = artifacts_dict[\"category_cols\"]\n",
    "    numerical_columns = artifacts_dict[\"numerical_columns\"]\n",
    "    scaler = artifacts_dict[\"scaler\"]\n",
    "\n",
    "     # Replacing the missing values\n",
    "    for i in data['RevLineCr']:\n",
    "        if i not in ['Y','N']:\n",
    "            data['RevLineCr'].replace(i,'N',inplace=True)\n",
    "\n",
    "    for i in data['LowDoc']:\n",
    "        if i not in ['Y','N']:\n",
    "            data['LowDoc'].replace(i,'N',inplace=True)\n",
    "\n",
    "    for i in data['NewExist']:\n",
    "        if i not in [1,2]:\n",
    "            data['NewExist'].replace(i,None,inplace=True)\n",
    "\n",
    "    for column in category_cols:\n",
    "        data[column]=data[column].fillna(data[column].mode()[0])\n",
    "\n",
    "    \n",
    "    # 10 New Feature Extractions\n",
    "    import numpy as np\n",
    "    # Apply the log transformation to the specific feature in your training data\n",
    "    small_constant = 1e-10  # You can adjust this constant as needed\n",
    "    # df['LogColumn'] = np.log(df['OriginalColumn'] + small_constant)\n",
    "    data['Log_DisbursementGross'] = np.log1p(data['DisbursementGross'])\n",
    "    data['Log_GrAppv'] = np.log1p(data['GrAppv'])\n",
    "    data['Log_SBA_Appv'] = np.log1p(data['SBA_Appv'])\n",
    "    data['Log_BalanceGross'] = np.log1p(data['BalanceGross'])\n",
    "    data['TotalJobs'] = data['CreateJob'] + data['RetainedJob']\n",
    "    #train_encoded['Loan_Efficiency'] = train_encoded['DisbursementGross'] / (train_encoded['CreateJob'] + train_encoded['RetainedJob'] + 1)\n",
    "    # Calculate 'LoanToIncomeRatio' as a ratio of 'SBA_Appv' to 'DisbursementGross'\n",
    "    data['IncomeToLoanRatio'] = data['DisbursementGross'] / data['SBA_Appv']\n",
    "    # Calculate 'LoanToEmployeesRatio' as a ratio of 'SBA_Appv' to 'NoEmp'\n",
    "    data['EmployeesToLoanRatio'] = data['NoEmp'] / data['SBA_Appv']\n",
    "    # Create a binary feature to indicate loans with a balance ('BalanceGross' > 0)\n",
    "    #train_encoded['HasBalance'] = (train_encoded['BalanceGross'] > 0).astype(int)\n",
    "    # Calculate 'LoanPerJob' as a ratio of 'SBA_Appv' to 'TotalJobs'\n",
    "    data['JobPerLoan'] = data['TotalJobs'] / data['SBA_Appv'] \n",
    "    # Calculate SBA's Gaurenteed Portion of Approved Loan\n",
    "    data['Gauren_SBA_Appv'] = data['GrAppv'] / data['SBA_Appv']\n",
    "\n",
    "\n",
    "    # Scaling the numerical columns\n",
    "    data[numerical_columns] = scaler.transform(data[numerical_columns])                             \n",
    "    \n",
    "    # Target encoding the categorical columns\n",
    "    data_encoded = te.transform(data[te_columns])\n",
    "    data_encoded = data_encoded.add_suffix('_trg')\n",
    "    data_encoded = pd.concat([data_encoded, data], axis=1)\n",
    "    \n",
    "    # Renaming the columns\n",
    "    \n",
    "    for column in te_columns:\n",
    "        data_encoded[column + \"_trg\"].fillna(data_encoded[column + \"_trg\"].mean(), inplace=True)\n",
    "    \n",
    "    # Predicting the probabilities\n",
    "    y_prob = clf.predict_proba(data_encoded[columns_to_score])\n",
    "    y_pred = (y_prob[:,0] < threshold).astype(int)\n",
    "    d = {\n",
    "        \"index\": data.index,\n",
    "        \"label\": y_pred,\n",
    "        \"probability_0\": y_prob[:,0],\n",
    "        \"probability_1\": y_prob[:,1],\n",
    "        \"threshold\":threshold\n",
    "    }\n",
    "    #print(y_prob)\n",
    "    return pd.DataFrame(d)"
   ]
  },
  {
   "cell_type": "code",
   "execution_count": 42,
   "metadata": {},
   "outputs": [
    {
     "name": "stdout",
     "output_type": "stream",
     "text": [
      "         index  label  probability_0  probability_1  threshold\n",
      "0            0      1       0.500004       0.499996   0.505051\n",
      "1            1      0       0.639739       0.360261   0.505051\n",
      "2            2      1       0.500004       0.499996   0.505051\n",
      "3            3      0       0.789032       0.210968   0.505051\n",
      "4            4      0       0.878069       0.121931   0.505051\n",
      "...        ...    ...            ...            ...        ...\n",
      "160046  160046      1       0.500004       0.499996   0.505051\n",
      "160047  160047      0       0.745296       0.254704   0.505051\n",
      "160048  160048      0       0.749889       0.250111   0.505051\n",
      "160049  160049      1       0.500004       0.499996   0.505051\n",
      "160050  160050      0       0.641459       0.358541   0.505051\n",
      "\n",
      "[160051 rows x 5 columns]\n"
     ]
    }
   ],
   "source": [
    "print(scoring(X_test))"
   ]
  },
  {
   "cell_type": "code",
   "execution_count": 43,
   "metadata": {},
   "outputs": [
    {
     "name": "stdout",
     "output_type": "stream",
     "text": [
      "         index  label  probability_0  probability_1  threshold\n",
      "0            0      0       0.789022       0.210978   0.505051\n",
      "1            1      0       0.788778       0.211222   0.505051\n",
      "2            2      0       0.914288       0.085712   0.505051\n",
      "3            3      0       0.592463       0.407537   0.505051\n",
      "4            4      0       0.850401       0.149599   0.505051\n",
      "...        ...    ...            ...            ...        ...\n",
      "640199  640199      0       0.745758       0.254242   0.505051\n",
      "640200  640200      0       0.819364       0.180636   0.505051\n",
      "640201  640201      0       0.748059       0.251941   0.505051\n",
      "640202  640202      0       0.567862       0.432138   0.505051\n",
      "640203  640203      0       0.748531       0.251469   0.505051\n",
      "\n",
      "[640204 rows x 5 columns]\n"
     ]
    }
   ],
   "source": [
    "print(scoring(X_train))"
   ]
  },
  {
   "cell_type": "code",
   "execution_count": 44,
   "metadata": {},
   "outputs": [],
   "source": [
    "df2 = pd.read_csv(\"D:/Work/Gre/UTD/Courses/Fall/MIS6341/Softwares/Python/ml-fall-2023/Project2/SBA_loans_project_2_holdout_students_valid.csv\")\n"
   ]
  },
  {
   "cell_type": "code",
   "execution_count": 45,
   "metadata": {},
   "outputs": [
    {
     "name": "stdout",
     "output_type": "stream",
     "text": [
      "       index  label  probability_0  probability_1  threshold\n",
      "0          0      1       0.500004       0.499996   0.505051\n",
      "1          1      0       0.736423       0.263577   0.505051\n",
      "2          2      1       0.500004       0.499996   0.505051\n",
      "3          3      0       0.639853       0.360147   0.505051\n",
      "4          4      0       0.539377       0.460623   0.505051\n",
      "...      ...    ...            ...            ...        ...\n",
      "98904  98904      0       0.746682       0.253318   0.505051\n",
      "98905  98905      0       0.737303       0.262697   0.505051\n",
      "98906  98906      1       0.500004       0.499996   0.505051\n",
      "98907  98907      1       0.500004       0.499996   0.505051\n",
      "98908  98908      1       0.500004       0.499996   0.505051\n",
      "\n",
      "[98909 rows x 5 columns]\n"
     ]
    }
   ],
   "source": [
    "print(scoring(df2))"
   ]
  },
  {
   "cell_type": "code",
   "execution_count": 46,
   "metadata": {},
   "outputs": [
    {
     "name": "stdout",
     "output_type": "stream",
     "text": [
      "         index  label  probability_0  probability_1  threshold\n",
      "0            0      1       0.500004       0.499996   0.505051\n",
      "1            1      0       0.639739       0.360261   0.505051\n",
      "2            2      1       0.500004       0.499996   0.505051\n",
      "3            3      0       0.789032       0.210968   0.505051\n",
      "4            4      0       0.878069       0.121931   0.505051\n",
      "...        ...    ...            ...            ...        ...\n",
      "160046  160046      1       0.500004       0.499996   0.505051\n",
      "160047  160047      0       0.745296       0.254704   0.505051\n",
      "160048  160048      0       0.749889       0.250111   0.505051\n",
      "160049  160049      1       0.500004       0.499996   0.505051\n",
      "160050  160050      0       0.641459       0.358541   0.505051\n",
      "\n",
      "[160051 rows x 5 columns]\n"
     ]
    }
   ],
   "source": [
    "print(scoring(X_test))"
   ]
  },
  {
   "cell_type": "code",
   "execution_count": 47,
   "metadata": {},
   "outputs": [
    {
     "name": "stdout",
     "output_type": "stream",
     "text": [
      "    index  label  probability_0  probability_1  threshold\n",
      "0     100      0       0.852914       0.147086   0.505051\n",
      "1     101      0       0.852942       0.147058   0.505051\n",
      "2     102      0       0.749898       0.250102   0.505051\n",
      "3     103      0       0.692439       0.307561   0.505051\n",
      "4     104      0       0.819329       0.180671   0.505051\n",
      "5     105      0       0.568328       0.431672   0.505051\n",
      "6     106      1       0.500004       0.499996   0.505051\n",
      "7     107      0       0.745293       0.254707   0.505051\n",
      "8     108      0       0.852912       0.147088   0.505051\n",
      "9     109      0       0.747600       0.252400   0.505051\n",
      "10    110      0       0.694358       0.305642   0.505051\n",
      "11    111      0       0.852914       0.147086   0.505051\n",
      "12    112      0       0.746689       0.253311   0.505051\n",
      "13    113      0       0.750847       0.249153   0.505051\n",
      "14    114      1       0.500004       0.499996   0.505051\n",
      "15    115      0       0.751205       0.248795   0.505051\n",
      "16    116      0       0.819329       0.180671   0.505051\n",
      "17    117      0       0.750848       0.249152   0.505051\n",
      "18    118      0       0.736362       0.263638   0.505051\n",
      "19    119      0       0.639400       0.360600   0.505051\n",
      "20    120      0       0.639462       0.360538   0.505051\n",
      "21    121      0       0.748519       0.251481   0.505051\n",
      "22    122      0       0.736102       0.263898   0.505051\n",
      "23    123      0       0.788896       0.211104   0.505051\n",
      "24    124      0       0.788777       0.211223   0.505051\n",
      "25    125      0       0.796695       0.203305   0.505051\n",
      "26    126      0       0.826068       0.173932   0.505051\n",
      "27    127      1       0.500000       0.500000   0.505051\n",
      "28    128      0       0.788856       0.211144   0.505051\n",
      "29    129      0       0.747229       0.252771   0.505051\n",
      "30    130      0       0.750847       0.249153   0.505051\n",
      "31    131      0       0.639462       0.360538   0.505051\n",
      "32    132      1       0.500004       0.499996   0.505051\n",
      "33    133      0       0.747232       0.252768   0.505051\n",
      "34    134      0       0.878090       0.121910   0.505051\n",
      "35    135      0       0.764698       0.235302   0.505051\n",
      "36    136      0       0.785146       0.214854   0.505051\n",
      "37    137      1       0.500004       0.499996   0.505051\n",
      "38    138      0       0.788899       0.211101   0.505051\n",
      "39    139      0       0.639518       0.360482   0.505051\n",
      "40    140      0       0.736834       0.263166   0.505051\n",
      "41    141      1       0.500004       0.499996   0.505051\n",
      "42    142      0       0.745296       0.254704   0.505051\n",
      "43    143      0       0.852608       0.147392   0.505051\n",
      "44    144      0       0.788696       0.211304   0.505051\n",
      "45    145      1       0.500004       0.499996   0.505051\n",
      "46    146      0       0.692697       0.307303   0.505051\n",
      "47    147      0       0.641028       0.358972   0.505051\n",
      "48    148      0       0.641093       0.358907   0.505051\n",
      "49    149      0       0.641023       0.358977   0.505051\n",
      "50    150      0       0.887732       0.112268   0.505051\n",
      "51    151      0       0.784691       0.215309   0.505051\n",
      "52    152      0       0.748059       0.251941   0.505051\n",
      "53    153      1       0.500004       0.499996   0.505051\n",
      "54    154      1       0.500004       0.499996   0.505051\n",
      "55    155      0       0.878069       0.121931   0.505051\n",
      "56    156      0       0.745342       0.254658   0.505051\n",
      "57    157      0       0.746685       0.253315   0.505051\n",
      "58    158      1       0.500004       0.499996   0.505051\n",
      "59    159      0       0.949724       0.050276   0.505051\n",
      "60    160      0       0.788858       0.211142   0.505051\n",
      "61    161      0       0.568516       0.431484   0.505051\n",
      "62    162      1       0.500004       0.499996   0.505051\n",
      "63    163      0       0.819364       0.180636   0.505051\n",
      "64    164      1       0.500000       0.500000   0.505051\n",
      "65    165      0       0.852608       0.147392   0.505051\n",
      "66    166      1       0.500000       0.500000   0.505051\n",
      "67    167      0       0.641084       0.358916   0.505051\n",
      "68    168      0       0.819364       0.180636   0.505051\n",
      "69    169      0       0.878383       0.121617   0.505051\n",
      "70    170      0       0.781640       0.218360   0.505051\n",
      "71    171      1       0.500004       0.499996   0.505051\n",
      "72    172      1       0.500000       0.500000   0.505051\n",
      "73    173      0       0.736300       0.263700   0.505051\n",
      "74    174      0       0.751205       0.248795   0.505051\n",
      "75    175      0       0.852912       0.147088   0.505051\n",
      "76    176      0       0.842291       0.157709   0.505051\n",
      "77    177      0       0.788899       0.211101   0.505051\n",
      "78    178      0       0.819404       0.180596   0.505051\n",
      "79    179      0       0.819400       0.180600   0.505051\n",
      "80    180      1       0.500004       0.499996   0.505051\n",
      "81    181      0       0.820433       0.179567   0.505051\n",
      "82    182      0       0.639462       0.360538   0.505051\n",
      "83    183      0       0.639288       0.360712   0.505051\n",
      "84    184      0       0.776745       0.223255   0.505051\n",
      "85    185      0       0.796852       0.203148   0.505051\n",
      "86    186      0       0.692492       0.307508   0.505051\n",
      "87    187      0       0.694357       0.305643   0.505051\n",
      "88    188      0       0.878556       0.121444   0.505051\n",
      "89    189      0       0.750848       0.249152   0.505051\n",
      "90    190      0       0.784652       0.215348   0.505051\n",
      "91    191      0       0.567928       0.432072   0.505051\n",
      "92    192      0       0.781759       0.218241   0.505051\n",
      "93    193      1       0.500004       0.499996   0.505051\n",
      "94    194      0       0.788980       0.211020   0.505051\n",
      "95    195      0       0.796887       0.203113   0.505051\n",
      "96    196      0       0.780966       0.219034   0.505051\n",
      "97    197      0       0.891514       0.108486   0.505051\n",
      "98    198      0       0.680975       0.319025   0.505051\n",
      "99    199      0       0.796939       0.203061   0.505051\n"
     ]
    }
   ],
   "source": [
    "print(scoring(df2[100:200]))"
   ]
  }
 ],
 "metadata": {
  "kernelspec": {
   "display_name": "ml-fall-2023",
   "language": "python",
   "name": "python3"
  },
  "language_info": {
   "codemirror_mode": {
    "name": "ipython",
    "version": 3
   },
   "file_extension": ".py",
   "mimetype": "text/x-python",
   "name": "python",
   "nbconvert_exporter": "python",
   "pygments_lexer": "ipython3",
   "version": "3.10.11"
  }
 },
 "nbformat": 4,
 "nbformat_minor": 2
}
